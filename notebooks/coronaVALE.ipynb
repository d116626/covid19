{
 "cells": [
  {
   "cell_type": "code",
   "execution_count": 7,
   "metadata": {},
   "outputs": [],
   "source": [
    "%reload_ext autoreload\n",
    "%autoreload 2\n",
    "\n",
    "import warnings\n",
    "warnings.filterwarnings('ignore')\n",
    "\n",
    "import numpy as np\n",
    "import pandas as pd\n",
    "pd.options.display.max_columns = 999\n",
    "pd.options.display.max_rows = 1999\n",
    "pd.options.display.max_colwidth = 100\n",
    "\n",
    "import plotly.graph_objs as go\n",
    "from plotly.offline import download_plotlyjs, init_notebook_mode, plot, iplot, offline\n",
    "import plotly.express as px\n",
    "import seaborn as sns\n",
    "import matplotlib.pyplot as plt\n",
    "\n",
    "import requests\n",
    "\n",
    "from os import listdir\n",
    "import unicodedata\n",
    "\n",
    "from paths import *\n",
    "from scripts.manipulation import remove_acentos\n",
    "from scripts.manipulation import normalize_cols\n",
    "from scripts import scrap_data\n",
    "from scripts import manipulation\n",
    "from scripts import io\n",
    "from scripts import vis_graphs\n",
    "\n",
    "from datetime import datetime\n",
    "today = datetime.today().strftime('%Y-%m-%d')\n",
    "\n",
    "import yaml\n",
    "\n",
    "import geopandas as gpd"
   ]
  },
  {
   "cell_type": "code",
   "execution_count": null,
   "metadata": {},
   "outputs": [],
   "source": []
  },
  {
   "cell_type": "markdown",
   "metadata": {},
   "source": [
    "# Taubate\n",
    "\n",
    "- Nao temos acesso aos dados por municipio dos seguintes indicadores: \n",
    " - Ocupação leitos UTI COVID\n",
    " - Leitos COVID/100 mil hab\n",
    " - Internações"
   ]
  },
  {
   "cell_type": "code",
   "execution_count": 8,
   "metadata": {},
   "outputs": [],
   "source": [
    "sp_full = pd.read_csv('https://raw.githubusercontent.com/seade-R/dados-covid-sp/master/data/dados_covid_sp.csv', sep=';')\n",
    "sp_full['nome_drs'] = np.where(sp_full['nome_munic']=='São Paulo','Município de São Paulo',sp_full['nome_drs'])\n",
    "\n",
    "\n"
   ]
  },
  {
   "cell_type": "code",
   "execution_count": 9,
   "metadata": {},
   "outputs": [],
   "source": [
    "cols = ['datahora','nome_munic','codigo_ibge','casos','casos_novos','obitos','obitos_novos','nome_drs']\n",
    "\n",
    "mask = sp_full['nome_drs'].isin(['Taubaté'])\n",
    "vale = sp_full[mask][cols]\n",
    "\n",
    "\n",
    "rename_cols = {\n",
    "    \"casos\":\"casos_tbt\",\n",
    "    \"casos_novos\":\"casos_novos_tbt\",\n",
    "    \"obitos\":\"obitos_tbt\",\n",
    "    \"obitos_novos\":\"obitos_novos_tbt\",\n",
    "}\n",
    "vale_ = vale.groupby(by=['nome_drs','datahora'], as_index=False).sum()\n",
    "\n",
    "vale_['nome_munic'] = 'Vale'\n",
    "vale_['codigo_ibge'] = 0\n",
    "\n",
    "\n",
    "vale = pd.concat([vale,vale_], axis=0)\n",
    "\n",
    "vale_ = vale_.rename(columns = rename_cols).drop(columns=['nome_munic','codigo_ibge'])\n",
    "vale = vale.merge(vale_, on=['nome_drs','datahora'])"
   ]
  },
  {
   "cell_type": "code",
   "execution_count": null,
   "metadata": {},
   "outputs": [],
   "source": []
  },
  {
   "cell_type": "code",
   "execution_count": null,
   "metadata": {},
   "outputs": [],
   "source": []
  },
  {
   "cell_type": "code",
   "execution_count": 10,
   "metadata": {},
   "outputs": [],
   "source": [
    "cols = ['casos','obitos','casos_tbt','obitos_tbt']\n",
    "\n",
    "\n",
    "dd_final_all = pd.DataFrame()\n",
    "\n",
    "for municipio in vale['nome_munic'].unique():\n",
    "    tbt = vale[vale['nome_munic']==municipio]\n",
    "\n",
    "    for col in cols:\n",
    "        \n",
    "\n",
    "        tbt[f'{col}_shift_7'] = tbt[f'{col}'].shift(7)\n",
    "        tbt[f'{col}_shift_14'] = tbt[f'{col}'].shift(14)\n",
    "\n",
    "\n",
    "        tbt[f'{col}_7d'] = tbt[f'{col}'] - tbt[f'{col}_shift_7']\n",
    "        tbt[f'{col}_14d'] = tbt[f'{col}'] - tbt[f'{col}_shift_14']\n",
    "\n",
    "\n",
    "        tbt[f'{col}_shift_14'] = tbt[f'{col}_7d'].shift(7)\n",
    "\n",
    "        tbt[f'{col}_var'] = tbt[f'{col}_7d']/tbt[f'{col}_shift_14']\n",
    "        \n",
    "        tbt = tbt.drop(columns = [f'{col}_shift_14',f'{col}_shift_7',])\n",
    "\n",
    "\n",
    "\n",
    "#     dd = tbt[['datahora','nome_munic',f'{col}',f'{col}_7',f'{col}_14d',f'{col}_var']]\n",
    "\n",
    "    dd_final_all = pd.concat([dd_final_all,tbt], axis=0)\n",
    "\n",
    "\n",
    "    \n",
    "\n",
    "\n",
    "vale_final = dd_final_all.copy()"
   ]
  },
  {
   "cell_type": "code",
   "execution_count": 11,
   "metadata": {},
   "outputs": [],
   "source": [
    "vale_final['casos_tbt'] = 100 * vale_final['casos'] / vale_final['casos_tbt'] \n",
    "vale_final['casos_novos_tbt'] = 100 * vale_final['casos_novos'] / vale_final['casos_novos_tbt'] \n",
    "vale_final['obitos_tbt'] = 100 * vale_final['obitos'] / vale_final['obitos_tbt'] \n",
    "vale_final['obitos_novos_tbt'] = 100 * vale_final['obitos_novos'] / vale_final['obitos_novos_tbt'] \n",
    "vale_final = vale_final.fillna(0)"
   ]
  },
  {
   "cell_type": "code",
   "execution_count": 12,
   "metadata": {},
   "outputs": [],
   "source": [
    "vale_final = vale_final.sort_values(by=['datahora','nome_munic'])\n",
    "vale_final['codigo_ibge'] = vale_final['codigo_ibge'].astype(int)\n",
    "vale_final['datahora'] = pd.to_datetime(vale_final['datahora'])"
   ]
  },
  {
   "cell_type": "code",
   "execution_count": null,
   "metadata": {},
   "outputs": [],
   "source": []
  },
  {
   "cell_type": "code",
   "execution_count": 13,
   "metadata": {},
   "outputs": [
    {
     "data": {
      "text/html": [
       "<div>\n",
       "<style scoped>\n",
       "    .dataframe tbody tr th:only-of-type {\n",
       "        vertical-align: middle;\n",
       "    }\n",
       "\n",
       "    .dataframe tbody tr th {\n",
       "        vertical-align: top;\n",
       "    }\n",
       "\n",
       "    .dataframe thead th {\n",
       "        text-align: right;\n",
       "    }\n",
       "</style>\n",
       "<table border=\"1\" class=\"dataframe\">\n",
       "  <thead>\n",
       "    <tr style=\"text-align: right;\">\n",
       "      <th></th>\n",
       "      <th>datahora</th>\n",
       "      <th>nome_munic</th>\n",
       "      <th>codigo_ibge</th>\n",
       "      <th>casos</th>\n",
       "      <th>casos_novos</th>\n",
       "      <th>obitos</th>\n",
       "      <th>obitos_novos</th>\n",
       "      <th>nome_drs</th>\n",
       "      <th>casos_tbt</th>\n",
       "      <th>casos_novos_tbt</th>\n",
       "      <th>obitos_tbt</th>\n",
       "      <th>obitos_novos_tbt</th>\n",
       "      <th>casos_7d</th>\n",
       "      <th>casos_14d</th>\n",
       "      <th>casos_var</th>\n",
       "      <th>obitos_7d</th>\n",
       "      <th>obitos_14d</th>\n",
       "      <th>obitos_var</th>\n",
       "      <th>casos_tbt_7d</th>\n",
       "      <th>casos_tbt_14d</th>\n",
       "      <th>casos_tbt_var</th>\n",
       "      <th>obitos_tbt_7d</th>\n",
       "      <th>obitos_tbt_14d</th>\n",
       "      <th>obitos_tbt_var</th>\n",
       "    </tr>\n",
       "  </thead>\n",
       "  <tbody>\n",
       "    <tr>\n",
       "      <th>7354</th>\n",
       "      <td>2020-08-26</td>\n",
       "      <td>São Sebastião</td>\n",
       "      <td>3550704</td>\n",
       "      <td>1274</td>\n",
       "      <td>0</td>\n",
       "      <td>27</td>\n",
       "      <td>0</td>\n",
       "      <td>Taubaté</td>\n",
       "      <td>4.214078</td>\n",
       "      <td>0.000000</td>\n",
       "      <td>3.210464</td>\n",
       "      <td>0.000000</td>\n",
       "      <td>54.0</td>\n",
       "      <td>134.0</td>\n",
       "      <td>0.675000</td>\n",
       "      <td>0.0</td>\n",
       "      <td>6.0</td>\n",
       "      <td>0.000000</td>\n",
       "      <td>3486.0</td>\n",
       "      <td>7187.0</td>\n",
       "      <td>0.941908</td>\n",
       "      <td>79.0</td>\n",
       "      <td>174.0</td>\n",
       "      <td>0.831579</td>\n",
       "    </tr>\n",
       "    <tr>\n",
       "      <th>7356</th>\n",
       "      <td>2020-08-26</td>\n",
       "      <td>Taubaté</td>\n",
       "      <td>3554102</td>\n",
       "      <td>2672</td>\n",
       "      <td>66</td>\n",
       "      <td>94</td>\n",
       "      <td>1</td>\n",
       "      <td>Taubaté</td>\n",
       "      <td>8.838317</td>\n",
       "      <td>9.606987</td>\n",
       "      <td>11.177170</td>\n",
       "      <td>7.692308</td>\n",
       "      <td>251.0</td>\n",
       "      <td>629.0</td>\n",
       "      <td>0.664021</td>\n",
       "      <td>8.0</td>\n",
       "      <td>24.0</td>\n",
       "      <td>0.500000</td>\n",
       "      <td>3486.0</td>\n",
       "      <td>7187.0</td>\n",
       "      <td>0.941908</td>\n",
       "      <td>79.0</td>\n",
       "      <td>174.0</td>\n",
       "      <td>0.831579</td>\n",
       "    </tr>\n",
       "    <tr>\n",
       "      <th>7357</th>\n",
       "      <td>2020-08-26</td>\n",
       "      <td>Tremembé</td>\n",
       "      <td>3554805</td>\n",
       "      <td>197</td>\n",
       "      <td>9</td>\n",
       "      <td>1</td>\n",
       "      <td>1</td>\n",
       "      <td>Taubaté</td>\n",
       "      <td>0.651627</td>\n",
       "      <td>1.310044</td>\n",
       "      <td>0.118906</td>\n",
       "      <td>7.692308</td>\n",
       "      <td>41.0</td>\n",
       "      <td>64.0</td>\n",
       "      <td>1.782609</td>\n",
       "      <td>1.0</td>\n",
       "      <td>1.0</td>\n",
       "      <td>inf</td>\n",
       "      <td>3486.0</td>\n",
       "      <td>7187.0</td>\n",
       "      <td>0.941908</td>\n",
       "      <td>79.0</td>\n",
       "      <td>174.0</td>\n",
       "      <td>0.831579</td>\n",
       "    </tr>\n",
       "    <tr>\n",
       "      <th>7358</th>\n",
       "      <td>2020-08-26</td>\n",
       "      <td>Ubatuba</td>\n",
       "      <td>3555406</td>\n",
       "      <td>1005</td>\n",
       "      <td>32</td>\n",
       "      <td>29</td>\n",
       "      <td>2</td>\n",
       "      <td>Taubaté</td>\n",
       "      <td>3.324292</td>\n",
       "      <td>4.657933</td>\n",
       "      <td>3.448276</td>\n",
       "      <td>15.384615</td>\n",
       "      <td>104.0</td>\n",
       "      <td>264.0</td>\n",
       "      <td>0.650000</td>\n",
       "      <td>5.0</td>\n",
       "      <td>8.0</td>\n",
       "      <td>1.666667</td>\n",
       "      <td>3486.0</td>\n",
       "      <td>7187.0</td>\n",
       "      <td>0.941908</td>\n",
       "      <td>79.0</td>\n",
       "      <td>174.0</td>\n",
       "      <td>0.831579</td>\n",
       "    </tr>\n",
       "    <tr>\n",
       "      <th>7359</th>\n",
       "      <td>2020-08-26</td>\n",
       "      <td>Vale</td>\n",
       "      <td>0</td>\n",
       "      <td>30232</td>\n",
       "      <td>687</td>\n",
       "      <td>841</td>\n",
       "      <td>13</td>\n",
       "      <td>Taubaté</td>\n",
       "      <td>100.000000</td>\n",
       "      <td>100.000000</td>\n",
       "      <td>100.000000</td>\n",
       "      <td>100.000000</td>\n",
       "      <td>3486.0</td>\n",
       "      <td>7187.0</td>\n",
       "      <td>0.941908</td>\n",
       "      <td>79.0</td>\n",
       "      <td>174.0</td>\n",
       "      <td>0.831579</td>\n",
       "      <td>3486.0</td>\n",
       "      <td>7187.0</td>\n",
       "      <td>0.941908</td>\n",
       "      <td>79.0</td>\n",
       "      <td>174.0</td>\n",
       "      <td>0.831579</td>\n",
       "    </tr>\n",
       "  </tbody>\n",
       "</table>\n",
       "</div>"
      ],
      "text/plain": [
       "       datahora     nome_munic  codigo_ibge  casos  casos_novos  obitos  \\\n",
       "7354 2020-08-26  São Sebastião      3550704   1274            0      27   \n",
       "7356 2020-08-26        Taubaté      3554102   2672           66      94   \n",
       "7357 2020-08-26       Tremembé      3554805    197            9       1   \n",
       "7358 2020-08-26        Ubatuba      3555406   1005           32      29   \n",
       "7359 2020-08-26           Vale            0  30232          687     841   \n",
       "\n",
       "      obitos_novos nome_drs   casos_tbt  casos_novos_tbt  obitos_tbt  \\\n",
       "7354             0  Taubaté    4.214078         0.000000    3.210464   \n",
       "7356             1  Taubaté    8.838317         9.606987   11.177170   \n",
       "7357             1  Taubaté    0.651627         1.310044    0.118906   \n",
       "7358             2  Taubaté    3.324292         4.657933    3.448276   \n",
       "7359            13  Taubaté  100.000000       100.000000  100.000000   \n",
       "\n",
       "      obitos_novos_tbt  casos_7d  casos_14d  casos_var  obitos_7d  obitos_14d  \\\n",
       "7354          0.000000      54.0      134.0   0.675000        0.0         6.0   \n",
       "7356          7.692308     251.0      629.0   0.664021        8.0        24.0   \n",
       "7357          7.692308      41.0       64.0   1.782609        1.0         1.0   \n",
       "7358         15.384615     104.0      264.0   0.650000        5.0         8.0   \n",
       "7359        100.000000    3486.0     7187.0   0.941908       79.0       174.0   \n",
       "\n",
       "      obitos_var  casos_tbt_7d  casos_tbt_14d  casos_tbt_var  obitos_tbt_7d  \\\n",
       "7354    0.000000        3486.0         7187.0       0.941908           79.0   \n",
       "7356    0.500000        3486.0         7187.0       0.941908           79.0   \n",
       "7357         inf        3486.0         7187.0       0.941908           79.0   \n",
       "7358    1.666667        3486.0         7187.0       0.941908           79.0   \n",
       "7359    0.831579        3486.0         7187.0       0.941908           79.0   \n",
       "\n",
       "      obitos_tbt_14d  obitos_tbt_var  \n",
       "7354           174.0        0.831579  \n",
       "7356           174.0        0.831579  \n",
       "7357           174.0        0.831579  \n",
       "7358           174.0        0.831579  \n",
       "7359           174.0        0.831579  "
      ]
     },
     "execution_count": 13,
     "metadata": {},
     "output_type": "execute_result"
    }
   ],
   "source": [
    "vale_final.tail()"
   ]
  },
  {
   "cell_type": "code",
   "execution_count": null,
   "metadata": {},
   "outputs": [],
   "source": []
  },
  {
   "cell_type": "code",
   "execution_count": null,
   "metadata": {},
   "outputs": [],
   "source": []
  },
  {
   "cell_type": "code",
   "execution_count": null,
   "metadata": {},
   "outputs": [],
   "source": []
  },
  {
   "cell_type": "code",
   "execution_count": null,
   "metadata": {},
   "outputs": [],
   "source": []
  },
  {
   "cell_type": "code",
   "execution_count": null,
   "metadata": {},
   "outputs": [],
   "source": []
  },
  {
   "cell_type": "code",
   "execution_count": null,
   "metadata": {},
   "outputs": [],
   "source": []
  },
  {
   "cell_type": "markdown",
   "metadata": {},
   "source": [
    "### RT"
   ]
  },
  {
   "cell_type": "code",
   "execution_count": 14,
   "metadata": {},
   "outputs": [],
   "source": [
    "#load br cities\n",
    "geo_sp = gpd.read_file('../../brasil_geodata/maps/sp_municipios.json')\n",
    "# cols = ['geocodigo','nome_mesorregiao','geometry']\n",
    "cols = ['geocodigo','nome_mesorregiao','nome_municipio']\n",
    "geo_sp = geo_sp[cols]"
   ]
  },
  {
   "cell_type": "code",
   "execution_count": 15,
   "metadata": {},
   "outputs": [],
   "source": [
    "#load state data\n",
    "url  = 'http://datasource.coronacidades.org/'\n",
    "data = 'br/states/rt'\n",
    "\n",
    "ds = pd.read_csv(f'{url}{data}')\n",
    "\n",
    "ds['last_updated'] = pd.to_datetime(ds['last_updated'])\n",
    "\n",
    "sp = ds[ds['state_num_id']==35]\n",
    "sp = sp.rename(columns={'state_num_id':'city_id'})\n",
    "sp['city_id'] = 'SP'\n",
    "sp['nome_mesorregiao'] = 'SP'\n",
    "sp['nome_municipio']   = 'Estado de SP'\n",
    "\n",
    "# rj = ds[ds['state']=='RJ']\n",
    "# rj = rj.rename(columns={'state':'city_id'})\n",
    "# rj['nome_mesorregiao'] = 'RJ'\n",
    "# rj['nome_municipio']   = 'Estado do RJ'\n",
    "\n",
    "# mg = ds[ds['state']=='MG']\n",
    "# mg = mg.rename(columns={'state':'city_id'})\n",
    "# mg['nome_mesorregiao'] = 'MG'\n",
    "# mg['nome_municipio']   = 'Estado de MG'\n",
    "\n",
    "# am = ds[ds['state']=='AM']\n",
    "# am = am.rename(columns={'state':'city_id'})\n",
    "# am['nome_mesorregiao'] = 'AM'\n",
    "# am['nome_municipio']   = 'Estado de AM'"
   ]
  },
  {
   "cell_type": "code",
   "execution_count": null,
   "metadata": {},
   "outputs": [],
   "source": []
  },
  {
   "cell_type": "code",
   "execution_count": 16,
   "metadata": {},
   "outputs": [],
   "source": [
    "#load cities data\n",
    "data = 'br/cities/rt'\n",
    "\n",
    "df = pd.read_csv(f'{url}{data}')\n",
    "\n",
    "df['last_updated'] = pd.to_datetime(df['last_updated'])\n"
   ]
  },
  {
   "cell_type": "code",
   "execution_count": 17,
   "metadata": {},
   "outputs": [],
   "source": [
    "dd = df.merge(geo_sp, how='right', left_on = 'city_id', right_on = 'geocodigo')\n",
    "dd.head()\n",
    "\n",
    "\n",
    "regiao = 'Vale do Paraíba Paulista'\n",
    "mask = (dd['nome_mesorregiao']==regiao)\n",
    "vale = dd[mask]\n",
    "vale = vale[vale['city_id'].notnull()]\n",
    "\n",
    "mask = (dd['nome_municipio']=='São Paulo')\n",
    "sp_city = dd[mask]\n",
    "\n",
    "\n",
    "vale = pd.concat([vale,sp_city], 0)\n",
    "vale = pd.concat([vale,sp], 0)\n",
    "\n",
    "vale['geocodigo'] = vale['geocodigo'].fillna(111).astype(int)"
   ]
  },
  {
   "cell_type": "code",
   "execution_count": 18,
   "metadata": {},
   "outputs": [],
   "source": [
    "vale = vale.rename(columns={'geocodigo':'codigo_ibge','last_updated':'datahora'})\n",
    "vale['datahora'] = pd.to_datetime(vale['datahora'])"
   ]
  },
  {
   "cell_type": "code",
   "execution_count": 19,
   "metadata": {},
   "outputs": [],
   "source": [
    "mask = vale['datahora']== max(vale['datahora'])\n",
    "vale_rt_last = vale[mask]\n",
    "vale_rt_last = vale_rt_last.drop(columns=['datahora'])\n",
    "vale_rt_last = vale_rt_last.rename(columns={'nome_municipio':'municipio'})"
   ]
  },
  {
   "cell_type": "code",
   "execution_count": null,
   "metadata": {},
   "outputs": [],
   "source": []
  },
  {
   "cell_type": "code",
   "execution_count": null,
   "metadata": {},
   "outputs": [],
   "source": []
  },
  {
   "cell_type": "code",
   "execution_count": null,
   "metadata": {},
   "outputs": [],
   "source": []
  },
  {
   "cell_type": "code",
   "execution_count": null,
   "metadata": {},
   "outputs": [],
   "source": []
  },
  {
   "cell_type": "code",
   "execution_count": null,
   "metadata": {},
   "outputs": [],
   "source": []
  },
  {
   "cell_type": "code",
   "execution_count": 20,
   "metadata": {},
   "outputs": [],
   "source": [
    "mask = vale_final['nome_munic']=='Vale'\n",
    "just_vale = vale_final[mask]\n",
    "just_vale = just_vale.drop(columns=['nome_munic'])\n",
    "just_vale['last_update'] = max(just_vale['datahora'])"
   ]
  },
  {
   "cell_type": "code",
   "execution_count": 21,
   "metadata": {},
   "outputs": [
    {
     "name": "stderr",
     "output_type": "stream",
     "text": [
      "1it [00:07,  7.11s/it]\n",
      "1it [00:07,  7.18s/it]\n",
      "1it [00:06,  6.23s/it]\n",
      "1it [00:06,  6.31s/it]\n",
      "1it [00:05,  5.04s/it]\n"
     ]
    }
   ],
   "source": [
    "#upload to drive\n",
    "from scripts import io\n",
    "io.to_gbq(vale_final,'vale_covid','covid','gabinete-sv', if_exists='replace')\n",
    "io.to_gbq(just_vale,'just_vale_covid','covid','gabinete-sv', if_exists='replace')\n",
    "io.to_gbq(vale,'rt_vale_covid','covid','gabinete-sv', if_exists='replace')\n",
    "io.to_gbq(vale_rt_last,'vale_rt_last','covid','gabinete-sv', if_exists='replace')\n",
    "io.to_gbq(just_vale,'just_vale_covid','covid','gabinete-sv', if_exists='replace')"
   ]
  },
  {
   "cell_type": "code",
   "execution_count": null,
   "metadata": {},
   "outputs": [],
   "source": []
  },
  {
   "cell_type": "code",
   "execution_count": null,
   "metadata": {},
   "outputs": [],
   "source": []
  },
  {
   "cell_type": "code",
   "execution_count": null,
   "metadata": {},
   "outputs": [],
   "source": []
  },
  {
   "cell_type": "code",
   "execution_count": null,
   "metadata": {},
   "outputs": [],
   "source": []
  },
  {
   "cell_type": "code",
   "execution_count": null,
   "metadata": {},
   "outputs": [],
   "source": []
  },
  {
   "cell_type": "code",
   "execution_count": null,
   "metadata": {},
   "outputs": [],
   "source": []
  },
  {
   "cell_type": "code",
   "execution_count": null,
   "metadata": {},
   "outputs": [],
   "source": []
  },
  {
   "cell_type": "markdown",
   "metadata": {},
   "source": [
    "## Plano SP"
   ]
  },
  {
   "cell_type": "markdown",
   "metadata": {},
   "source": [
    "## Casos"
   ]
  },
  {
   "cell_type": "code",
   "execution_count": 22,
   "metadata": {},
   "outputs": [],
   "source": [
    "from scripts import manipulation_sp\n",
    "\n",
    "casos_full = pd.read_csv('https://raw.githubusercontent.com/seade-R/dados-covid-sp/master/data/dados_covid_sp.csv', sep=';')\n",
    "casos, sp_casos = manipulation_sp.padronize_casos(casos_full)"
   ]
  },
  {
   "cell_type": "code",
   "execution_count": null,
   "metadata": {},
   "outputs": [],
   "source": []
  },
  {
   "cell_type": "markdown",
   "metadata": {},
   "source": [
    "## Internacoes"
   ]
  },
  {
   "cell_type": "code",
   "execution_count": 23,
   "metadata": {},
   "outputs": [],
   "source": [
    "internacoes_full = pd.read_csv('https://github.com/seade-R/dados-covid-sp/raw/master/data/plano_sp_leitos_internacoes.csv', sep=';')\n",
    "internacoes, sp_internacoes = manipulation_sp.padronize_internacoes(internacoes_full)"
   ]
  },
  {
   "cell_type": "code",
   "execution_count": null,
   "metadata": {},
   "outputs": [],
   "source": []
  },
  {
   "cell_type": "markdown",
   "metadata": {},
   "source": [
    "## Ocupacao UTI"
   ]
  },
  {
   "cell_type": "code",
   "execution_count": 24,
   "metadata": {},
   "outputs": [],
   "source": [
    "uti = pd.read_csv('../data/sp_gov/uti_ocupacao.csv', sep=';')\n",
    "\n",
    "uti_final = uti.copy()\n",
    "\n",
    "\n",
    "# mask =  uti_final['datahora'] == max(uti_final['datahora'])\n",
    "\n",
    "# uti_final = uti_final[mask]\n",
    "\n",
    "# uti_final['datahora'] = max(df_final['datahora'])"
   ]
  },
  {
   "cell_type": "code",
   "execution_count": null,
   "metadata": {},
   "outputs": [],
   "source": []
  },
  {
   "cell_type": "markdown",
   "metadata": {},
   "source": [
    "## Add Fases"
   ]
  },
  {
   "cell_type": "code",
   "execution_count": 25,
   "metadata": {},
   "outputs": [],
   "source": [
    "#merge all tables\n",
    "df = manipulation_sp.padronize_planosp(sp_casos,sp_internacoes, uti_final)\n",
    "\n",
    "# calculate fases\n",
    "df = manipulation_sp.add_fases(df)\n",
    "\n",
    "# padronize names and column names\n",
    "# df = manipulation_sp.padronize_planosp_names(df)"
   ]
  },
  {
   "cell_type": "code",
   "execution_count": 26,
   "metadata": {},
   "outputs": [
    {
     "data": {
      "text/html": [
       "<div>\n",
       "<style scoped>\n",
       "    .dataframe tbody tr th:only-of-type {\n",
       "        vertical-align: middle;\n",
       "    }\n",
       "\n",
       "    .dataframe tbody tr th {\n",
       "        vertical-align: top;\n",
       "    }\n",
       "\n",
       "    .dataframe thead th {\n",
       "        text-align: right;\n",
       "    }\n",
       "</style>\n",
       "<table border=\"1\" class=\"dataframe\">\n",
       "  <thead>\n",
       "    <tr style=\"text-align: right;\">\n",
       "      <th></th>\n",
       "      <th>datahora</th>\n",
       "      <th>nome_drs</th>\n",
       "      <th>casos</th>\n",
       "      <th>casos_novos</th>\n",
       "      <th>casos_var</th>\n",
       "      <th>obitos</th>\n",
       "      <th>obitos_novos</th>\n",
       "      <th>obitos_var</th>\n",
       "      <th>obitos_14d</th>\n",
       "      <th>casos_14d</th>\n",
       "      <th>leitos_pc</th>\n",
       "      <th>internacoes_var</th>\n",
       "      <th>internacoes_14d</th>\n",
       "      <th>internacoes_7d</th>\n",
       "      <th>pop</th>\n",
       "      <th>uti_var</th>\n",
       "      <th>internacoes_14d_pc</th>\n",
       "      <th>obitos_14d_pc</th>\n",
       "      <th>Capacidade Hospitalar</th>\n",
       "      <th>Evolução da Pandemia</th>\n",
       "      <th>Classif. Final</th>\n",
       "    </tr>\n",
       "  </thead>\n",
       "  <tbody>\n",
       "    <tr>\n",
       "      <th>0</th>\n",
       "      <td>2020-07-09</td>\n",
       "      <td>Araraquara</td>\n",
       "      <td>3118.0</td>\n",
       "      <td>77.0</td>\n",
       "      <td>0.98</td>\n",
       "      <td>50.0</td>\n",
       "      <td>0.0</td>\n",
       "      <td>1.5</td>\n",
       "      <td>15.0</td>\n",
       "      <td>1088.0</td>\n",
       "      <td>9.74</td>\n",
       "      <td>1.45</td>\n",
       "      <td>419.0</td>\n",
       "      <td>248.0</td>\n",
       "      <td>991435</td>\n",
       "      <td>31.2</td>\n",
       "      <td>42.3</td>\n",
       "      <td>1.5</td>\n",
       "      <td>4.0</td>\n",
       "      <td>2.4</td>\n",
       "      <td>2.4</td>\n",
       "    </tr>\n",
       "    <tr>\n",
       "      <th>1</th>\n",
       "      <td>2020-07-16</td>\n",
       "      <td>Araraquara</td>\n",
       "      <td>3764.0</td>\n",
       "      <td>125.0</td>\n",
       "      <td>1.2</td>\n",
       "      <td>67.0</td>\n",
       "      <td>2.0</td>\n",
       "      <td>1.89</td>\n",
       "      <td>26.0</td>\n",
       "      <td>1185.0</td>\n",
       "      <td>9.68</td>\n",
       "      <td>1.0</td>\n",
       "      <td>495.0</td>\n",
       "      <td>247.0</td>\n",
       "      <td>991435</td>\n",
       "      <td>35.4</td>\n",
       "      <td>49.9</td>\n",
       "      <td>2.6</td>\n",
       "      <td>4.0</td>\n",
       "      <td>2.8</td>\n",
       "      <td>2.8</td>\n",
       "    </tr>\n",
       "    <tr>\n",
       "      <th>2</th>\n",
       "      <td>2020-07-23</td>\n",
       "      <td>Araraquara</td>\n",
       "      <td>4452.0</td>\n",
       "      <td>176.0</td>\n",
       "      <td>1.07</td>\n",
       "      <td>78.0</td>\n",
       "      <td>3.0</td>\n",
       "      <td>0.65</td>\n",
       "      <td>28.0</td>\n",
       "      <td>1334.0</td>\n",
       "      <td>10.10</td>\n",
       "      <td>0.85</td>\n",
       "      <td>458.0</td>\n",
       "      <td>211.0</td>\n",
       "      <td>991435</td>\n",
       "      <td>44.8</td>\n",
       "      <td>46.2</td>\n",
       "      <td>2.8</td>\n",
       "      <td>4.0</td>\n",
       "      <td>3.2</td>\n",
       "      <td>3.2</td>\n",
       "    </tr>\n",
       "    <tr>\n",
       "      <th>3</th>\n",
       "      <td>2020-07-30</td>\n",
       "      <td>Araraquara</td>\n",
       "      <td>5623.0</td>\n",
       "      <td>249.0</td>\n",
       "      <td>1.7</td>\n",
       "      <td>94.0</td>\n",
       "      <td>3.0</td>\n",
       "      <td>1.45</td>\n",
       "      <td>27.0</td>\n",
       "      <td>1859.0</td>\n",
       "      <td>10.72</td>\n",
       "      <td>1.22</td>\n",
       "      <td>469.0</td>\n",
       "      <td>258.0</td>\n",
       "      <td>991435</td>\n",
       "      <td>46.5</td>\n",
       "      <td>47.3</td>\n",
       "      <td>2.7</td>\n",
       "      <td>4.0</td>\n",
       "      <td>2.2</td>\n",
       "      <td>2.2</td>\n",
       "    </tr>\n",
       "    <tr>\n",
       "      <th>4</th>\n",
       "      <td>2020-08-06</td>\n",
       "      <td>Araraquara</td>\n",
       "      <td>6761.0</td>\n",
       "      <td>284.0</td>\n",
       "      <td>0.97</td>\n",
       "      <td>105.0</td>\n",
       "      <td>3.0</td>\n",
       "      <td>0.69</td>\n",
       "      <td>27.0</td>\n",
       "      <td>2309.0</td>\n",
       "      <td>15.17</td>\n",
       "      <td>1.08</td>\n",
       "      <td>537.0</td>\n",
       "      <td>279.0</td>\n",
       "      <td>991435</td>\n",
       "      <td>34.9</td>\n",
       "      <td>54.2</td>\n",
       "      <td>2.7</td>\n",
       "      <td>4.0</td>\n",
       "      <td>2.8</td>\n",
       "      <td>2.8</td>\n",
       "    </tr>\n",
       "  </tbody>\n",
       "</table>\n",
       "</div>"
      ],
      "text/plain": [
       "     datahora    nome_drs   casos  casos_novos casos_var  obitos  \\\n",
       "0  2020-07-09  Araraquara  3118.0         77.0      0.98    50.0   \n",
       "1  2020-07-16  Araraquara  3764.0        125.0       1.2    67.0   \n",
       "2  2020-07-23  Araraquara  4452.0        176.0      1.07    78.0   \n",
       "3  2020-07-30  Araraquara  5623.0        249.0       1.7    94.0   \n",
       "4  2020-08-06  Araraquara  6761.0        284.0      0.97   105.0   \n",
       "\n",
       "   obitos_novos obitos_var  obitos_14d  casos_14d leitos_pc internacoes_var  \\\n",
       "0           0.0        1.5        15.0     1088.0      9.74            1.45   \n",
       "1           2.0       1.89        26.0     1185.0      9.68             1.0   \n",
       "2           3.0       0.65        28.0     1334.0     10.10            0.85   \n",
       "3           3.0       1.45        27.0     1859.0     10.72            1.22   \n",
       "4           3.0       0.69        27.0     2309.0     15.17            1.08   \n",
       "\n",
       "   internacoes_14d  internacoes_7d     pop uti_var internacoes_14d_pc  \\\n",
       "0            419.0           248.0  991435    31.2               42.3   \n",
       "1            495.0           247.0  991435    35.4               49.9   \n",
       "2            458.0           211.0  991435    44.8               46.2   \n",
       "3            469.0           258.0  991435    46.5               47.3   \n",
       "4            537.0           279.0  991435    34.9               54.2   \n",
       "\n",
       "  obitos_14d_pc Capacidade Hospitalar Evolução da Pandemia Classif. Final  \n",
       "0           1.5                   4.0                  2.4            2.4  \n",
       "1           2.6                   4.0                  2.8            2.8  \n",
       "2           2.8                   4.0                  3.2            3.2  \n",
       "3           2.7                   4.0                  2.2            2.2  \n",
       "4           2.7                   4.0                  2.8            2.8  "
      ]
     },
     "execution_count": 26,
     "metadata": {},
     "output_type": "execute_result"
    }
   ],
   "source": [
    "df.head()"
   ]
  },
  {
   "cell_type": "code",
   "execution_count": null,
   "metadata": {},
   "outputs": [],
   "source": []
  },
  {
   "cell_type": "code",
   "execution_count": null,
   "metadata": {},
   "outputs": [],
   "source": []
  },
  {
   "cell_type": "markdown",
   "metadata": {},
   "source": [
    "## Add Fases"
   ]
  },
  {
   "cell_type": "markdown",
   "metadata": {},
   "source": [
    "## Padronize "
   ]
  },
  {
   "cell_type": "code",
   "execution_count": 27,
   "metadata": {},
   "outputs": [],
   "source": [
    "\n",
    "cols = ['datahora','nome_drs','Capacidade Hospitalar','uti_var','leitos_pc','Evolução da Pandemia','casos_var','internacoes_var','internacoes_14d_pc','obitos_var','obitos_14d_pc','Classif. Final']\n",
    "\n",
    "cols = ['datahora','nome_drs','Capacidade Hospitalar','uti_var','leitos_pc','Evolução da Pandemia','casos_var','internacoes_var','obitos_var','Classif. Final']\n",
    "\n",
    "\n",
    "\n",
    "rename_drs = {\n",
    "    'Araraquara':'DRS 03 - Araraquara',\n",
    "    'Araçatuba':'DRS 02 - Araçatuba',\n",
    "    'Baixada Santista':'DRS 04 - Baixada Santista',\n",
    "    'Barretos':'DRS 05 - Barretos',\n",
    "    'Bauru':'DRS 06 - Bauru',\n",
    "    'Campinas':'DRS 07 - Campinas',\n",
    "    'Estado de São Paulo':'Estado de São Paulo',\n",
    "    'Franca':'DRS 08 - Franca',\n",
    "    'Marília':'DRS 09 - Marília',\n",
    "    'Município de São Paulo':'DRS 01 - Município de São Paulo',\n",
    "    'Piracicaba':'DRS 10 - Piracicaba',\n",
    "    'Presidente Prudente':'DRS 11 - Presidente Prudente',\n",
    "    'Registro':'DRS 12 - Registro',\n",
    "    'Ribeirão Preto':'DRS 13 - Ribeirão Preto',\n",
    "    'Sorocaba':'DRS 16 - Sorocaba',\n",
    "    'São José do Rio Preto':'DRS 15 - São José do Rio Preto',\n",
    "    'São João da Boa Vista':'DRS 14 - São João da Boa Vista',\n",
    "    'Taubaté':'DRS 17 - Taubaté',\n",
    "    'Estado de São Paulo':'00 - Estado de São Paulo'\n",
    "}\n",
    "\n",
    "df['nome_drs'] = df['nome_drs'].map(rename_drs)\n",
    "\n",
    "ddf = df.copy()\n"
   ]
  },
  {
   "cell_type": "code",
   "execution_count": null,
   "metadata": {},
   "outputs": [],
   "source": []
  },
  {
   "cell_type": "code",
   "execution_count": 28,
   "metadata": {},
   "outputs": [],
   "source": [
    "cols_rename = {\n",
    "    \"Capacidade Hospitalar\": \"cap_hosp\",\n",
    "    \"Evolução da Pandemia\": \"evolucao_pand\",\n",
    "    \"Classif. Final\": \"classif_final\",\n",
    "    \"nome_drs\": \"drs_name\",\n",
    "    'Data':'datahora'\n",
    "}\n",
    "\n",
    "\n",
    "ddf = df.rename(columns=cols_rename)\n",
    "mask = ddf['datahora']==max(ddf['datahora'])\n",
    "ddf['last_update'] = max(ddf['datahora'])\n",
    "ddf_last = ddf[mask].rename(columns={\"drs_name\":\"DRS\"})\n",
    "\n"
   ]
  },
  {
   "cell_type": "code",
   "execution_count": null,
   "metadata": {},
   "outputs": [],
   "source": []
  },
  {
   "cell_type": "code",
   "execution_count": 29,
   "metadata": {},
   "outputs": [
    {
     "name": "stderr",
     "output_type": "stream",
     "text": [
      "1it [00:04,  4.81s/it]\n",
      "1it [00:04,  4.79s/it]\n"
     ]
    }
   ],
   "source": [
    "#upload to drive\n",
    "from scripts import io\n",
    "io.to_gbq(ddf,'plano_sp','covid','gabinete-sv', if_exists='replace')\n",
    "io.to_gbq(ddf_last,'plano_sp_last','covid','gabinete-sv', if_exists='replace')"
   ]
  },
  {
   "cell_type": "code",
   "execution_count": null,
   "metadata": {},
   "outputs": [],
   "source": []
  },
  {
   "cell_type": "code",
   "execution_count": null,
   "metadata": {},
   "outputs": [],
   "source": []
  },
  {
   "cell_type": "code",
   "execution_count": null,
   "metadata": {},
   "outputs": [],
   "source": []
  },
  {
   "cell_type": "code",
   "execution_count": null,
   "metadata": {},
   "outputs": [],
   "source": []
  },
  {
   "cell_type": "code",
   "execution_count": null,
   "metadata": {},
   "outputs": [],
   "source": []
  },
  {
   "cell_type": "code",
   "execution_count": null,
   "metadata": {},
   "outputs": [],
   "source": []
  },
  {
   "cell_type": "code",
   "execution_count": null,
   "metadata": {},
   "outputs": [],
   "source": []
  },
  {
   "cell_type": "code",
   "execution_count": null,
   "metadata": {},
   "outputs": [],
   "source": []
  },
  {
   "cell_type": "code",
   "execution_count": null,
   "metadata": {},
   "outputs": [],
   "source": []
  },
  {
   "cell_type": "code",
   "execution_count": null,
   "metadata": {},
   "outputs": [],
   "source": []
  },
  {
   "cell_type": "code",
   "execution_count": null,
   "metadata": {},
   "outputs": [],
   "source": []
  },
  {
   "cell_type": "code",
   "execution_count": null,
   "metadata": {},
   "outputs": [],
   "source": []
  },
  {
   "cell_type": "code",
   "execution_count": null,
   "metadata": {},
   "outputs": [],
   "source": []
  },
  {
   "cell_type": "code",
   "execution_count": null,
   "metadata": {},
   "outputs": [],
   "source": []
  },
  {
   "cell_type": "code",
   "execution_count": null,
   "metadata": {},
   "outputs": [],
   "source": []
  },
  {
   "cell_type": "code",
   "execution_count": null,
   "metadata": {},
   "outputs": [],
   "source": []
  },
  {
   "cell_type": "code",
   "execution_count": null,
   "metadata": {},
   "outputs": [],
   "source": []
  },
  {
   "cell_type": "code",
   "execution_count": null,
   "metadata": {},
   "outputs": [],
   "source": []
  },
  {
   "cell_type": "code",
   "execution_count": null,
   "metadata": {},
   "outputs": [],
   "source": []
  },
  {
   "cell_type": "code",
   "execution_count": null,
   "metadata": {},
   "outputs": [],
   "source": []
  },
  {
   "cell_type": "code",
   "execution_count": null,
   "metadata": {},
   "outputs": [],
   "source": []
  },
  {
   "cell_type": "code",
   "execution_count": null,
   "metadata": {},
   "outputs": [],
   "source": []
  },
  {
   "cell_type": "code",
   "execution_count": null,
   "metadata": {},
   "outputs": [],
   "source": []
  }
 ],
 "metadata": {
  "kernelspec": {
   "display_name": "Python 3",
   "language": "python",
   "name": "python3"
  },
  "language_info": {
   "codemirror_mode": {
    "name": "ipython",
    "version": 3
   },
   "file_extension": ".py",
   "mimetype": "text/x-python",
   "name": "python",
   "nbconvert_exporter": "python",
   "pygments_lexer": "ipython3",
   "version": "3.7.6"
  }
 },
 "nbformat": 4,
 "nbformat_minor": 4
}
