{
 "cells": [
  {
   "cell_type": "code",
   "execution_count": 29,
   "metadata": {},
   "outputs": [],
   "source": [
    "%reload_ext autoreload\n",
    "%autoreload 2\n",
    "\n",
    "import warnings\n",
    "warnings.filterwarnings('ignore')\n",
    "\n",
    "import numpy as np\n",
    "import pandas as pd\n",
    "pd.options.display.max_columns = 999\n",
    "pd.options.display.max_rows = 1999\n",
    "pd.options.display.max_colwidth = 100\n",
    "\n",
    "import plotly.graph_objs as go\n",
    "from plotly.offline import download_plotlyjs, init_notebook_mode, plot, iplot, offline\n",
    "import plotly.express as px\n",
    "import seaborn as sns\n",
    "import matplotlib.pyplot as plt\n",
    "\n",
    "import requests\n",
    "\n",
    "from os import listdir\n",
    "import unicodedata\n",
    "\n",
    "from paths import *\n",
    "from scripts.manipulation import remove_acentos\n",
    "from scripts.manipulation import normalize_cols\n",
    "from scripts import scrap_data\n",
    "from scripts import manipulation\n",
    "from scripts import io\n",
    "from scripts import vis_graphs\n",
    "\n",
    "from datetime import datetime\n",
    "today = datetime.today().strftime('%Y-%m-%d')\n",
    "\n",
    "import yaml\n",
    "\n",
    "import geopandas as gpd"
   ]
  },
  {
   "cell_type": "code",
   "execution_count": null,
   "metadata": {},
   "outputs": [],
   "source": []
  },
  {
   "cell_type": "markdown",
   "metadata": {},
   "source": [
    "# Taubate\n",
    "\n",
    "- Nao temos acesso aos dados por municipio dos seguintes indicadores: \n",
    " - Ocupação leitos UTI COVID\n",
    " - Leitos COVID/100 mil hab\n",
    " - Internações"
   ]
  },
  {
   "cell_type": "code",
   "execution_count": 30,
   "metadata": {},
   "outputs": [],
   "source": [
    "sp_full = pd.read_csv('https://raw.githubusercontent.com/seade-R/dados-covid-sp/master/data/dados_covid_sp.csv', sep=';')\n",
    "sp_full['nome_drs'] = np.where(sp_full['nome_munic']=='São Paulo','Município de São Paulo',sp_full['nome_drs'])\n",
    "\n",
    "\n"
   ]
  },
  {
   "cell_type": "code",
   "execution_count": 31,
   "metadata": {},
   "outputs": [],
   "source": [
    "cols = ['datahora','nome_munic','codigo_ibge','casos','casos_novos','obitos','obitos_novos','nome_drs']\n",
    "\n",
    "mask = sp_full['nome_drs'].isin(['Taubaté'])\n",
    "vale = sp_full[mask][cols]\n",
    "\n",
    "\n",
    "rename_cols = {\n",
    "    \"casos\":\"casos_tbt\",\n",
    "    \"casos_novos\":\"casos_novos_tbt\",\n",
    "    \"obitos\":\"obitos_tbt\",\n",
    "    \"obitos_novos\":\"obitos_novos_tbt\",\n",
    "}\n",
    "vale_ = vale.groupby(by=['nome_drs','datahora'], as_index=False).sum()\n",
    "\n",
    "vale_['nome_munic'] = 'Vale'\n",
    "vale_['codigo_ibge'] = 0\n",
    "\n",
    "\n",
    "vale = pd.concat([vale,vale_], axis=0)\n",
    "\n",
    "vale_ = vale_.rename(columns = rename_cols).drop(columns=['nome_munic','codigo_ibge'])\n",
    "vale = vale.merge(vale_, on=['nome_drs','datahora'])"
   ]
  },
  {
   "cell_type": "code",
   "execution_count": null,
   "metadata": {},
   "outputs": [],
   "source": []
  },
  {
   "cell_type": "code",
   "execution_count": null,
   "metadata": {},
   "outputs": [],
   "source": []
  },
  {
   "cell_type": "code",
   "execution_count": 32,
   "metadata": {},
   "outputs": [],
   "source": [
    "cols = ['casos','obitos','casos_tbt','obitos_tbt']\n",
    "\n",
    "\n",
    "dd_final_all = pd.DataFrame()\n",
    "\n",
    "for municipio in vale['nome_munic'].unique():\n",
    "    tbt = vale[vale['nome_munic']==municipio]\n",
    "\n",
    "    for col in cols:\n",
    "        \n",
    "\n",
    "        tbt[f'{col}_shift_7'] = tbt[f'{col}'].shift(7)\n",
    "        tbt[f'{col}_shift_14'] = tbt[f'{col}'].shift(14)\n",
    "\n",
    "\n",
    "        tbt[f'{col}_7d'] = tbt[f'{col}'] - tbt[f'{col}_shift_7']\n",
    "        tbt[f'{col}_14d'] = tbt[f'{col}'] - tbt[f'{col}_shift_14']\n",
    "\n",
    "\n",
    "        tbt[f'{col}_shift_14'] = tbt[f'{col}_7d'].shift(7)\n",
    "\n",
    "        tbt[f'{col}_var'] = tbt[f'{col}_7d']/tbt[f'{col}_shift_14']\n",
    "        \n",
    "        tbt = tbt.drop(columns = [f'{col}_shift_14',f'{col}_shift_7',])\n",
    "\n",
    "\n",
    "\n",
    "#     dd = tbt[['datahora','nome_munic',f'{col}',f'{col}_7',f'{col}_14d',f'{col}_var']]\n",
    "\n",
    "    dd_final_all = pd.concat([dd_final_all,tbt], axis=0)\n",
    "\n",
    "\n",
    "    \n",
    "\n",
    "\n",
    "vale_final = dd_final_all.copy()"
   ]
  },
  {
   "cell_type": "code",
   "execution_count": 33,
   "metadata": {},
   "outputs": [],
   "source": [
    "vale_final['casos_tbt'] = 100 * vale_final['casos'] / vale_final['casos_tbt'] \n",
    "vale_final['casos_novos_tbt'] = 100 * vale_final['casos_novos'] / vale_final['casos_novos_tbt'] \n",
    "vale_final['obitos_tbt'] = 100 * vale_final['obitos'] / vale_final['obitos_tbt'] \n",
    "vale_final['obitos_novos_tbt'] = 100 * vale_final['obitos_novos'] / vale_final['obitos_novos_tbt'] \n",
    "vale_final = vale_final.fillna(0)"
   ]
  },
  {
   "cell_type": "code",
   "execution_count": 34,
   "metadata": {},
   "outputs": [],
   "source": [
    "vale_final = vale_final.sort_values(by=['datahora','nome_munic'])\n",
    "vale_final['codigo_ibge'] = vale_final['codigo_ibge'].astype(int)\n",
    "vale_final['datahora'] = pd.to_datetime(vale_final['datahora'])"
   ]
  },
  {
   "cell_type": "code",
   "execution_count": null,
   "metadata": {},
   "outputs": [],
   "source": []
  },
  {
   "cell_type": "code",
   "execution_count": 35,
   "metadata": {},
   "outputs": [
    {
     "data": {
      "text/html": [
       "<div>\n",
       "<style scoped>\n",
       "    .dataframe tbody tr th:only-of-type {\n",
       "        vertical-align: middle;\n",
       "    }\n",
       "\n",
       "    .dataframe tbody tr th {\n",
       "        vertical-align: top;\n",
       "    }\n",
       "\n",
       "    .dataframe thead th {\n",
       "        text-align: right;\n",
       "    }\n",
       "</style>\n",
       "<table border=\"1\" class=\"dataframe\">\n",
       "  <thead>\n",
       "    <tr style=\"text-align: right;\">\n",
       "      <th></th>\n",
       "      <th>datahora</th>\n",
       "      <th>nome_munic</th>\n",
       "      <th>codigo_ibge</th>\n",
       "      <th>casos</th>\n",
       "      <th>casos_novos</th>\n",
       "      <th>obitos</th>\n",
       "      <th>obitos_novos</th>\n",
       "      <th>nome_drs</th>\n",
       "      <th>casos_tbt</th>\n",
       "      <th>casos_novos_tbt</th>\n",
       "      <th>obitos_tbt</th>\n",
       "      <th>obitos_novos_tbt</th>\n",
       "      <th>casos_7d</th>\n",
       "      <th>casos_14d</th>\n",
       "      <th>casos_var</th>\n",
       "      <th>obitos_7d</th>\n",
       "      <th>obitos_14d</th>\n",
       "      <th>obitos_var</th>\n",
       "      <th>casos_tbt_7d</th>\n",
       "      <th>casos_tbt_14d</th>\n",
       "      <th>casos_tbt_var</th>\n",
       "      <th>obitos_tbt_7d</th>\n",
       "      <th>obitos_tbt_14d</th>\n",
       "      <th>obitos_tbt_var</th>\n",
       "    </tr>\n",
       "  </thead>\n",
       "  <tbody>\n",
       "    <tr>\n",
       "      <th>6514</th>\n",
       "      <td>2020-08-05</td>\n",
       "      <td>São Sebastião</td>\n",
       "      <td>3550704</td>\n",
       "      <td>969</td>\n",
       "      <td>26</td>\n",
       "      <td>15</td>\n",
       "      <td>1</td>\n",
       "      <td>Taubaté</td>\n",
       "      <td>5.098122</td>\n",
       "      <td>5.949657</td>\n",
       "      <td>2.626970</td>\n",
       "      <td>6.25</td>\n",
       "      <td>146.0</td>\n",
       "      <td>332.0</td>\n",
       "      <td>0.784946</td>\n",
       "      <td>1.0</td>\n",
       "      <td>8.0</td>\n",
       "      <td>0.142857</td>\n",
       "      <td>3114.0</td>\n",
       "      <td>6960.0</td>\n",
       "      <td>0.809672</td>\n",
       "      <td>63.0</td>\n",
       "      <td>157.0</td>\n",
       "      <td>0.670213</td>\n",
       "    </tr>\n",
       "    <tr>\n",
       "      <th>6516</th>\n",
       "      <td>2020-08-05</td>\n",
       "      <td>Taubaté</td>\n",
       "      <td>3554102</td>\n",
       "      <td>1664</td>\n",
       "      <td>24</td>\n",
       "      <td>55</td>\n",
       "      <td>0</td>\n",
       "      <td>Taubaté</td>\n",
       "      <td>8.754669</td>\n",
       "      <td>5.491991</td>\n",
       "      <td>9.632224</td>\n",
       "      <td>0.00</td>\n",
       "      <td>234.0</td>\n",
       "      <td>731.0</td>\n",
       "      <td>0.470825</td>\n",
       "      <td>1.0</td>\n",
       "      <td>8.0</td>\n",
       "      <td>0.142857</td>\n",
       "      <td>3114.0</td>\n",
       "      <td>6960.0</td>\n",
       "      <td>0.809672</td>\n",
       "      <td>63.0</td>\n",
       "      <td>157.0</td>\n",
       "      <td>0.670213</td>\n",
       "    </tr>\n",
       "    <tr>\n",
       "      <th>6517</th>\n",
       "      <td>2020-08-05</td>\n",
       "      <td>Tremembé</td>\n",
       "      <td>3554805</td>\n",
       "      <td>106</td>\n",
       "      <td>2</td>\n",
       "      <td>0</td>\n",
       "      <td>0</td>\n",
       "      <td>Taubaté</td>\n",
       "      <td>0.557689</td>\n",
       "      <td>0.457666</td>\n",
       "      <td>0.000000</td>\n",
       "      <td>0.00</td>\n",
       "      <td>9.0</td>\n",
       "      <td>31.0</td>\n",
       "      <td>0.409091</td>\n",
       "      <td>0.0</td>\n",
       "      <td>0.0</td>\n",
       "      <td>0.000000</td>\n",
       "      <td>3114.0</td>\n",
       "      <td>6960.0</td>\n",
       "      <td>0.809672</td>\n",
       "      <td>63.0</td>\n",
       "      <td>157.0</td>\n",
       "      <td>0.670213</td>\n",
       "    </tr>\n",
       "    <tr>\n",
       "      <th>6518</th>\n",
       "      <td>2020-08-05</td>\n",
       "      <td>Ubatuba</td>\n",
       "      <td>3555406</td>\n",
       "      <td>570</td>\n",
       "      <td>8</td>\n",
       "      <td>20</td>\n",
       "      <td>0</td>\n",
       "      <td>Taubaté</td>\n",
       "      <td>2.998895</td>\n",
       "      <td>1.830664</td>\n",
       "      <td>3.502627</td>\n",
       "      <td>0.00</td>\n",
       "      <td>99.0</td>\n",
       "      <td>223.0</td>\n",
       "      <td>0.798387</td>\n",
       "      <td>0.0</td>\n",
       "      <td>4.0</td>\n",
       "      <td>0.000000</td>\n",
       "      <td>3114.0</td>\n",
       "      <td>6960.0</td>\n",
       "      <td>0.809672</td>\n",
       "      <td>63.0</td>\n",
       "      <td>157.0</td>\n",
       "      <td>0.670213</td>\n",
       "    </tr>\n",
       "    <tr>\n",
       "      <th>6519</th>\n",
       "      <td>2020-08-05</td>\n",
       "      <td>Vale</td>\n",
       "      <td>0</td>\n",
       "      <td>19007</td>\n",
       "      <td>437</td>\n",
       "      <td>571</td>\n",
       "      <td>16</td>\n",
       "      <td>Taubaté</td>\n",
       "      <td>100.000000</td>\n",
       "      <td>100.000000</td>\n",
       "      <td>100.000000</td>\n",
       "      <td>100.00</td>\n",
       "      <td>3114.0</td>\n",
       "      <td>6960.0</td>\n",
       "      <td>0.809672</td>\n",
       "      <td>63.0</td>\n",
       "      <td>157.0</td>\n",
       "      <td>0.670213</td>\n",
       "      <td>3114.0</td>\n",
       "      <td>6960.0</td>\n",
       "      <td>0.809672</td>\n",
       "      <td>63.0</td>\n",
       "      <td>157.0</td>\n",
       "      <td>0.670213</td>\n",
       "    </tr>\n",
       "  </tbody>\n",
       "</table>\n",
       "</div>"
      ],
      "text/plain": [
       "       datahora     nome_munic  codigo_ibge  casos  casos_novos  obitos  \\\n",
       "6514 2020-08-05  São Sebastião      3550704    969           26      15   \n",
       "6516 2020-08-05        Taubaté      3554102   1664           24      55   \n",
       "6517 2020-08-05       Tremembé      3554805    106            2       0   \n",
       "6518 2020-08-05        Ubatuba      3555406    570            8      20   \n",
       "6519 2020-08-05           Vale            0  19007          437     571   \n",
       "\n",
       "      obitos_novos nome_drs   casos_tbt  casos_novos_tbt  obitos_tbt  \\\n",
       "6514             1  Taubaté    5.098122         5.949657    2.626970   \n",
       "6516             0  Taubaté    8.754669         5.491991    9.632224   \n",
       "6517             0  Taubaté    0.557689         0.457666    0.000000   \n",
       "6518             0  Taubaté    2.998895         1.830664    3.502627   \n",
       "6519            16  Taubaté  100.000000       100.000000  100.000000   \n",
       "\n",
       "      obitos_novos_tbt  casos_7d  casos_14d  casos_var  obitos_7d  obitos_14d  \\\n",
       "6514              6.25     146.0      332.0   0.784946        1.0         8.0   \n",
       "6516              0.00     234.0      731.0   0.470825        1.0         8.0   \n",
       "6517              0.00       9.0       31.0   0.409091        0.0         0.0   \n",
       "6518              0.00      99.0      223.0   0.798387        0.0         4.0   \n",
       "6519            100.00    3114.0     6960.0   0.809672       63.0       157.0   \n",
       "\n",
       "      obitos_var  casos_tbt_7d  casos_tbt_14d  casos_tbt_var  obitos_tbt_7d  \\\n",
       "6514    0.142857        3114.0         6960.0       0.809672           63.0   \n",
       "6516    0.142857        3114.0         6960.0       0.809672           63.0   \n",
       "6517    0.000000        3114.0         6960.0       0.809672           63.0   \n",
       "6518    0.000000        3114.0         6960.0       0.809672           63.0   \n",
       "6519    0.670213        3114.0         6960.0       0.809672           63.0   \n",
       "\n",
       "      obitos_tbt_14d  obitos_tbt_var  \n",
       "6514           157.0        0.670213  \n",
       "6516           157.0        0.670213  \n",
       "6517           157.0        0.670213  \n",
       "6518           157.0        0.670213  \n",
       "6519           157.0        0.670213  "
      ]
     },
     "execution_count": 35,
     "metadata": {},
     "output_type": "execute_result"
    }
   ],
   "source": [
    "vale_final.tail()"
   ]
  },
  {
   "cell_type": "code",
   "execution_count": null,
   "metadata": {},
   "outputs": [],
   "source": []
  },
  {
   "cell_type": "code",
   "execution_count": null,
   "metadata": {},
   "outputs": [],
   "source": []
  },
  {
   "cell_type": "code",
   "execution_count": null,
   "metadata": {},
   "outputs": [],
   "source": []
  },
  {
   "cell_type": "code",
   "execution_count": null,
   "metadata": {},
   "outputs": [],
   "source": []
  },
  {
   "cell_type": "code",
   "execution_count": null,
   "metadata": {},
   "outputs": [],
   "source": []
  },
  {
   "cell_type": "code",
   "execution_count": null,
   "metadata": {},
   "outputs": [],
   "source": []
  },
  {
   "cell_type": "markdown",
   "metadata": {},
   "source": [
    "### RT"
   ]
  },
  {
   "cell_type": "code",
   "execution_count": 36,
   "metadata": {},
   "outputs": [],
   "source": [
    "#load br cities\n",
    "geo_sp = gpd.read_file('../../brasil_geodata/maps/sp_municipios.json')\n",
    "# cols = ['geocodigo','nome_mesorregiao','geometry']\n",
    "cols = ['geocodigo','nome_mesorregiao','nome_municipio']\n",
    "geo_sp = geo_sp[cols]"
   ]
  },
  {
   "cell_type": "code",
   "execution_count": 43,
   "metadata": {},
   "outputs": [
    {
     "data": {
      "text/plain": [
       "array([11, 12, 13, 14, 15, 16, 17, 21, 22, 23, 24, 25, 26, 27, 28, 29, 31,\n",
       "       32, 33, 35, 41, 42, 43, 50, 51, 52, 53])"
      ]
     },
     "execution_count": 43,
     "metadata": {},
     "output_type": "execute_result"
    }
   ],
   "source": [
    "ds['state_num_id'].unique()"
   ]
  },
  {
   "cell_type": "code",
   "execution_count": 48,
   "metadata": {},
   "outputs": [],
   "source": [
    "#load state data\n",
    "url  = 'http://datasource.coronacidades.org/'\n",
    "data = 'br/states/rt'\n",
    "\n",
    "ds = pd.read_csv(f'{url}{data}')\n",
    "\n",
    "ds['last_updated'] = pd.to_datetime(ds['last_updated'])\n",
    "\n",
    "sp = ds[ds['state_num_id']==35]\n",
    "sp = sp.rename(columns={'state_num_id':'city_id'})\n",
    "sp['city_id'] = 'SP'\n",
    "sp['nome_mesorregiao'] = 'SP'\n",
    "sp['nome_municipio']   = 'Estado de SP'\n",
    "\n",
    "# rj = ds[ds['state']=='RJ']\n",
    "# rj = rj.rename(columns={'state':'city_id'})\n",
    "# rj['nome_mesorregiao'] = 'RJ'\n",
    "# rj['nome_municipio']   = 'Estado do RJ'\n",
    "\n",
    "# mg = ds[ds['state']=='MG']\n",
    "# mg = mg.rename(columns={'state':'city_id'})\n",
    "# mg['nome_mesorregiao'] = 'MG'\n",
    "# mg['nome_municipio']   = 'Estado de MG'\n",
    "\n",
    "# am = ds[ds['state']=='AM']\n",
    "# am = am.rename(columns={'state':'city_id'})\n",
    "# am['nome_mesorregiao'] = 'AM'\n",
    "# am['nome_municipio']   = 'Estado de AM'"
   ]
  },
  {
   "cell_type": "code",
   "execution_count": null,
   "metadata": {},
   "outputs": [],
   "source": []
  },
  {
   "cell_type": "code",
   "execution_count": 49,
   "metadata": {},
   "outputs": [],
   "source": [
    "#load cities data\n",
    "data = 'br/cities/rt'\n",
    "\n",
    "df = pd.read_csv(f'{url}{data}')\n",
    "\n",
    "df['last_updated'] = pd.to_datetime(df['last_updated'])\n"
   ]
  },
  {
   "cell_type": "code",
   "execution_count": 50,
   "metadata": {},
   "outputs": [],
   "source": [
    "dd = df.merge(geo_sp, how='right', left_on = 'city_id', right_on = 'geocodigo')\n",
    "dd.head()\n",
    "\n",
    "\n",
    "regiao = 'Vale do Paraíba Paulista'\n",
    "mask = (dd['nome_mesorregiao']==regiao)\n",
    "vale = dd[mask]\n",
    "vale = vale[vale['city_id'].notnull()]\n",
    "\n",
    "mask = (dd['nome_municipio']=='São Paulo')\n",
    "sp_city = dd[mask]\n",
    "\n",
    "\n",
    "vale = pd.concat([vale,sp_city], 0)\n",
    "vale = pd.concat([vale,sp], 0)\n",
    "\n",
    "vale['geocodigo'] = vale['geocodigo'].fillna(111).astype(int)"
   ]
  },
  {
   "cell_type": "code",
   "execution_count": 51,
   "metadata": {},
   "outputs": [],
   "source": [
    "vale = vale.rename(columns={'geocodigo':'codigo_ibge','last_updated':'datahora'})\n",
    "vale['datahora'] = pd.to_datetime(vale['datahora'])"
   ]
  },
  {
   "cell_type": "code",
   "execution_count": 52,
   "metadata": {},
   "outputs": [],
   "source": [
    "mask = vale['datahora']== max(vale['datahora'])\n",
    "vale_rt_last = vale[mask]\n",
    "vale_rt_last = vale_rt_last.drop(columns=['datahora'])\n",
    "vale_rt_last = vale_rt_last.rename(columns={'nome_municipio':'municipio'})"
   ]
  },
  {
   "cell_type": "code",
   "execution_count": null,
   "metadata": {},
   "outputs": [],
   "source": []
  },
  {
   "cell_type": "code",
   "execution_count": null,
   "metadata": {},
   "outputs": [],
   "source": []
  },
  {
   "cell_type": "code",
   "execution_count": null,
   "metadata": {},
   "outputs": [],
   "source": []
  },
  {
   "cell_type": "code",
   "execution_count": null,
   "metadata": {},
   "outputs": [],
   "source": []
  },
  {
   "cell_type": "code",
   "execution_count": null,
   "metadata": {},
   "outputs": [],
   "source": []
  },
  {
   "cell_type": "code",
   "execution_count": 53,
   "metadata": {},
   "outputs": [],
   "source": [
    "mask = vale_final['nome_munic']=='Vale'\n",
    "just_vale = vale_final[mask]\n",
    "just_vale = just_vale.drop(columns=['nome_munic'])\n",
    "just_vale['last_update'] = max(just_vale['datahora'])"
   ]
  },
  {
   "cell_type": "code",
   "execution_count": 54,
   "metadata": {},
   "outputs": [
    {
     "name": "stderr",
     "output_type": "stream",
     "text": [
      "1it [00:05,  5.06s/it]\n",
      "1it [00:04,  4.13s/it]\n",
      "1it [00:05,  5.16s/it]\n",
      "1it [00:04,  4.89s/it]\n",
      "1it [00:03,  3.31s/it]\n"
     ]
    }
   ],
   "source": [
    "#upload to drive\n",
    "from scripts import io\n",
    "io.to_gbq(vale_final,'vale_covid','covid','gabinete-sv', if_exists='replace')\n",
    "io.to_gbq(just_vale,'just_vale_covid','covid','gabinete-sv', if_exists='replace')\n",
    "io.to_gbq(vale,'rt_vale_covid','covid','gabinete-sv', if_exists='replace')\n",
    "io.to_gbq(vale_rt_last,'vale_rt_last','covid','gabinete-sv', if_exists='replace')\n",
    "io.to_gbq(just_vale,'just_vale_covid','covid','gabinete-sv', if_exists='replace')"
   ]
  },
  {
   "cell_type": "code",
   "execution_count": null,
   "metadata": {},
   "outputs": [],
   "source": []
  },
  {
   "cell_type": "code",
   "execution_count": null,
   "metadata": {},
   "outputs": [],
   "source": []
  },
  {
   "cell_type": "code",
   "execution_count": null,
   "metadata": {},
   "outputs": [],
   "source": []
  },
  {
   "cell_type": "code",
   "execution_count": null,
   "metadata": {},
   "outputs": [],
   "source": []
  },
  {
   "cell_type": "code",
   "execution_count": null,
   "metadata": {},
   "outputs": [],
   "source": []
  },
  {
   "cell_type": "code",
   "execution_count": null,
   "metadata": {},
   "outputs": [],
   "source": []
  },
  {
   "cell_type": "code",
   "execution_count": null,
   "metadata": {},
   "outputs": [],
   "source": []
  },
  {
   "cell_type": "markdown",
   "metadata": {},
   "source": [
    "## Plano SP"
   ]
  },
  {
   "cell_type": "code",
   "execution_count": null,
   "metadata": {},
   "outputs": [],
   "source": [
    "sp_full = pd.read_csv('https://raw.githubusercontent.com/seade-R/dados-covid-sp/master/data/dados_covid_sp.csv', sep=';')\n",
    "sp_full['nome_drs'] = np.where(sp_full['nome_munic']=='São Paulo','Município de São Paulo',sp_full['nome_drs'])\n",
    "\n",
    "cols = ['datahora','nome_munic','casos','obitos','nome_drs']\n",
    "sp = sp_full[cols][sp_full['nome_drs'].notnull()]\n",
    "\n",
    "sp = sp.groupby(by=['nome_drs','datahora'], as_index=False).sum().sort_values(by=['nome_drs','datahora'])\n",
    "\n",
    "estado = sp.groupby(by=['datahora'], as_index=False).sum().sort_values(by=['datahora'])\n",
    "estado['nome_drs'] = 'Estado de São Paulo'\n",
    "estado = estado[sp.columns]\n",
    "\n",
    "sp = pd.concat([sp,estado],axis=0)"
   ]
  },
  {
   "cell_type": "code",
   "execution_count": null,
   "metadata": {},
   "outputs": [],
   "source": [
    "sp['casos'] = sp['casos'].astype(int)\n",
    "sp['obitos'] = sp['obitos'].astype(int)"
   ]
  },
  {
   "cell_type": "code",
   "execution_count": null,
   "metadata": {},
   "outputs": [],
   "source": [
    "sp['nome_drs'].unique()"
   ]
  },
  {
   "cell_type": "code",
   "execution_count": null,
   "metadata": {},
   "outputs": [],
   "source": [
    "dd_final_all = pd.DataFrame()\n",
    "\n",
    "for drs in sp['nome_drs'].unique():\n",
    "\n",
    "    tbt = sp[sp['nome_drs']==drs]\n",
    "\n",
    "    tbt['casos_shift'] = tbt['casos'].shift(7)\n",
    "    tbt['obitos_shift'] = tbt['obitos'].shift(7)\n",
    "    tbt['obitos_shift_14'] = tbt['obitos'].shift(14)\n",
    "\n",
    "\n",
    "    tbt['casos_7'] = tbt['casos'] - tbt['casos_shift']\n",
    "    tbt['obitos_7'] = tbt['obitos'] - tbt['obitos_shift']\n",
    "    tbt['obitos_14d'] = tbt['obitos'] - tbt['obitos_shift_14']\n",
    "\n",
    "\n",
    "    tbt['casos_7_shift'] = tbt['casos_7'].shift(7)\n",
    "    tbt['obitos_7_shift'] = tbt['obitos_7'].shift(7)\n",
    "\n",
    "    tbt['casos_var'] = tbt['casos_7']/tbt['casos_7_shift']\n",
    "    tbt['obitos_var'] = tbt['obitos_7']/tbt['obitos_7_shift']\n",
    "\n",
    "\n",
    "        \n",
    "        \n",
    "    dd = tbt[['datahora','nome_drs','casos_var','obitos_var','obitos_14d']]\n",
    "\n",
    "    dd_final_all = pd.concat([dd_final_all,dd], axis=0)\n",
    "\n",
    "\n",
    "    \n",
    "\n",
    "\n",
    "dd_final = dd_final_all.copy()"
   ]
  },
  {
   "cell_type": "code",
   "execution_count": null,
   "metadata": {},
   "outputs": [],
   "source": []
  },
  {
   "cell_type": "markdown",
   "metadata": {},
   "source": [
    "## Internacoes"
   ]
  },
  {
   "cell_type": "code",
   "execution_count": null,
   "metadata": {},
   "outputs": [],
   "source": [
    "sp_cv = pd.read_csv('https://github.com/seade-R/dados-covid-sp/raw/master/data/plano_sp_leitos_internacoes.csv', sep=';')\n",
    "sp_cv['internacoes_var'] = sp_cv['internacoes_7d']/sp_cv['internacoes_7d_l']\n",
    "sp_cv['internacoes_14d'] = sp_cv['internacoes_7d'].astype(int) + sp_cv['internacoes_7d_l'].astype(int)\n",
    "cols = ['datahora','nome_drs','leitos_pc','internacoes_var','internacoes_14d','pop']\n",
    "\n",
    "uti_all = sp_cv[cols]\n",
    "\n",
    "uti_all['nome_drs'] = uti_all['nome_drs'].apply(lambda x: x[7:] if x[:3]=='DRS' else x).str.strip()\n",
    "\n",
    "\n",
    "\n",
    "df_final = uti_all[cols].copy()"
   ]
  },
  {
   "cell_type": "code",
   "execution_count": null,
   "metadata": {},
   "outputs": [],
   "source": [
    "sp_cv.head()"
   ]
  },
  {
   "cell_type": "code",
   "execution_count": null,
   "metadata": {},
   "outputs": [],
   "source": [
    "df_final.tail()"
   ]
  },
  {
   "cell_type": "code",
   "execution_count": null,
   "metadata": {},
   "outputs": [],
   "source": [
    "dd_final.tail()"
   ]
  },
  {
   "cell_type": "markdown",
   "metadata": {},
   "source": [
    "## Ocupacao UTI"
   ]
  },
  {
   "cell_type": "code",
   "execution_count": null,
   "metadata": {},
   "outputs": [],
   "source": [
    "uti = pd.read_csv('../data/sp_gov/uti_ocupacao.csv', sep=';')\n",
    "\n",
    "\n",
    "\n",
    "uti_final = uti.copy()\n",
    "\n",
    "\n",
    "\n",
    "\n",
    "# mask =  uti_final['datahora'] == max(uti_final['datahora'])\n",
    "\n",
    "# uti_final = uti_final[mask]\n",
    "\n",
    "# uti_final['datahora'] = max(df_final['datahora'])"
   ]
  },
  {
   "cell_type": "code",
   "execution_count": null,
   "metadata": {},
   "outputs": [],
   "source": []
  },
  {
   "cell_type": "code",
   "execution_count": null,
   "metadata": {},
   "outputs": [],
   "source": [
    "\n",
    "df = pd.merge(dd_final,df_final,on=['datahora','nome_drs'],how='outer').merge(uti_final,on=['datahora','nome_drs'],how='inner')\n",
    "mask = df['nome_drs'].str.startswith('Grande')\n",
    "df = df[np.logical_not(mask)]\n",
    "df['leitos_pc'] = df['leitos_pc'].str.replace(',','.')\n",
    "df['pop'] = df['pop'].astype(int)\n",
    "\n",
    "df['internacoes_14d_pc'] = (df['internacoes_14d'] * 10**5 )/df['pop']\n",
    "df['obitos_14d_pc'] = (df['obitos_14d']  * 10**5 )/df['pop']"
   ]
  },
  {
   "cell_type": "code",
   "execution_count": null,
   "metadata": {},
   "outputs": [],
   "source": []
  },
  {
   "cell_type": "markdown",
   "metadata": {},
   "source": [
    "## Add Fases"
   ]
  },
  {
   "cell_type": "code",
   "execution_count": null,
   "metadata": {},
   "outputs": [],
   "source": [
    "\n",
    "df = pd.merge(dd_final,df_final,on=['datahora','nome_drs'],how='outer').merge(uti_final,on=['datahora','nome_drs'],how='inner')\n",
    "mask = df['nome_drs'].str.startswith('Grande')\n",
    "df = df[np.logical_not(mask)]\n",
    "df['leitos_pc'] = df['leitos_pc'].str.replace(',','.')\n",
    "\n",
    "df['pop'] = df['pop'].astype(int)\n",
    "\n",
    "df['internacoes_14d_pc'] = (df['internacoes_14d'] * 10**5 )/df['pop']\n",
    "df['obitos_14d_pc'] = (df['obitos_14d']  * 10**5 )/df['pop']\n",
    "\n",
    "df = df.round(2)\n",
    "\n",
    "def uti_fase(x):\n",
    "    if x>=80:\n",
    "        fase=1\n",
    "    elif (x <80) & (x>=75):\n",
    "        fase=2\n",
    "    else:\n",
    "        fase = 4\n",
    "    return fase\n",
    "\n",
    "def leitos_fase(x):\n",
    "    if x<=3:\n",
    "        fase=1\n",
    "    elif (x >3) & (x<=5):\n",
    "        fase=2\n",
    "    else:\n",
    "        fase = 4\n",
    "    return fase\n",
    "\n",
    "\n",
    "O = df['uti_var'].apply(lambda x: uti_fase(x))\n",
    "\n",
    "L = df['leitos_pc'].str.replace(',','.').astype(float).apply(lambda x: leitos_fase(x))\n",
    "\n",
    "\n",
    "c1 = (O*4 + L)/5\n",
    "\n",
    "df['Capacidade Hospitalar'] = c1\n",
    "# df['Capacidade Hospitalar'] = c1.astype(int)\n",
    "\n",
    "\n",
    "\n",
    "def casos_fase(x):\n",
    "    if x>=2:\n",
    "        fase=1\n",
    "    elif (x <2) & (x>=1):\n",
    "        fase=3\n",
    "    else:\n",
    "        fase = 4\n",
    "    return fase\n",
    "\n",
    "def internacoes_fase(x,y):\n",
    "    if x>=1.5:\n",
    "        fase=1\n",
    "    elif (x <1.5) & (x>=1):\n",
    "        fase=2\n",
    "    elif (x <1) & (y>=40):\n",
    "        fase=3\n",
    "    elif (x <1) & (y<40):\n",
    "        fase=4\n",
    "    return fase\n",
    "\n",
    "def obitos_fase(x,y):\n",
    "    if x>=2:\n",
    "        fase=1\n",
    "    elif (x <2) & (x>=1):\n",
    "        fase=2\n",
    "    elif (x <1) & (y>=5):\n",
    "        fase=3\n",
    "    elif (x <1) & (y<5):\n",
    "        fase=4\n",
    "    return fase\n",
    "\n",
    "NC = df['casos_var'].apply(lambda x: casos_fase(x))\n",
    "\n",
    "NI = df.apply(lambda x: internacoes_fase(x['internacoes_var'],x['internacoes_14d_pc']), axis=1)\n",
    "\n",
    "NO = df.apply(lambda x: obitos_fase(x['obitos_var'],x['obitos_14d_pc']), axis=1)\n",
    "\n",
    "c2 = (NC + 3*NI + NO)/5\n",
    "\n",
    "df['Evolução da Pandemia'] = c2\n",
    "\n",
    "df['casos_var'] = df['casos_var'].round(2).astype(str)\n",
    "df['obitos_var'] = df['obitos_var'].round(2).astype(str)\n",
    "df['internacoes_var'] = df['internacoes_var'].round(2).astype(str)\n",
    "df['uti_var'] = df['uti_var'].round(2).astype(str)\n",
    "\n",
    "df['Classif. Final'] = df[['Capacidade Hospitalar','Evolução da Pandemia']].min(axis=1)\n",
    "\n",
    "# df['Classif. Final'] = df['Classif. Final'].astype(int).astype(str)\n",
    "# df['Evolução da Pandemia'] = df['Evolução da Pandemia'].astype(int).astype(str)\n",
    "# df['Capacidade Hospitalar'] = df['Capacidade Hospitalar'].astype(int).astype(str)\n",
    "\n",
    "df['Classif. Final'] = df['Classif. Final'].round(1).astype(str)\n",
    "df['Evolução da Pandemia'] = df['Evolução da Pandemia'].round(1).astype(str)\n",
    "df['Capacidade Hospitalar'] = df['Capacidade Hospitalar'].round(1).astype(str)\n",
    "\n",
    "df['internacoes_14d_pc'] = df['internacoes_14d_pc'].round(1).astype(str)\n",
    "df['obitos_14d_pc'] = df['obitos_14d_pc'].round(1).astype(str)\n"
   ]
  },
  {
   "cell_type": "markdown",
   "metadata": {},
   "source": [
    "## Padronize "
   ]
  },
  {
   "cell_type": "code",
   "execution_count": 27,
   "metadata": {},
   "outputs": [],
   "source": [
    "\n",
    "cols = ['datahora','nome_drs','Capacidade Hospitalar','uti_var','leitos_pc','Evolução da Pandemia','casos_var','internacoes_var','internacoes_14d_pc','obitos_var','obitos_14d_pc','Classif. Final']\n",
    "\n",
    "cols = ['datahora','nome_drs','Capacidade Hospitalar','uti_var','leitos_pc','Evolução da Pandemia','casos_var','internacoes_var','obitos_var','Classif. Final']\n",
    "\n",
    "\n",
    "\n",
    "rename_drs = {\n",
    "    'Araraquara':'DRS 03 - Araraquara',\n",
    "    'Araçatuba':'DRS 02 - Araçatuba',\n",
    "    'Baixada Santista':'DRS 04 - Baixada Santista',\n",
    "    'Barretos':'DRS 05 - Barretos',\n",
    "    'Bauru':'DRS 06 - Bauru',\n",
    "    'Campinas':'DRS 07 - Campinas',\n",
    "    'Estado de São Paulo':'Estado de São Paulo',\n",
    "    'Franca':'DRS 08 - Franca',\n",
    "    'Marília':'DRS 09 - Marília',\n",
    "    'Município de São Paulo':'DRS 01 - Município de São Paulo',\n",
    "    'Piracicaba':'DRS 10 - Piracicaba',\n",
    "    'Presidente Prudente':'DRS 11 - Presidente Prudente',\n",
    "    'Registro':'DRS 12 - Registro',\n",
    "    'Ribeirão Preto':'DRS 13 - Ribeirão Preto',\n",
    "    'Sorocaba':'DRS 16 - Sorocaba',\n",
    "    'São José do Rio Preto':'DRS 15 - São José do Rio Preto',\n",
    "    'São João da Boa Vista':'DRS 14 - São João da Boa Vista',\n",
    "    'Taubaté':'DRS 17 - Taubaté',\n",
    "    'Estado de São Paulo':'00 - Estado de São Paulo'\n",
    "}\n",
    "\n",
    "df['nome_drs'] = df['nome_drs'].map(rename_drs)\n",
    "\n",
    "ddf = df.copy()\n"
   ]
  },
  {
   "cell_type": "code",
   "execution_count": null,
   "metadata": {},
   "outputs": [],
   "source": []
  },
  {
   "cell_type": "code",
   "execution_count": null,
   "metadata": {},
   "outputs": [],
   "source": []
  },
  {
   "cell_type": "code",
   "execution_count": 28,
   "metadata": {},
   "outputs": [
    {
     "name": "stderr",
     "output_type": "stream",
     "text": [
      "1it [00:05,  5.26s/it]\n",
      "1it [00:06,  6.97s/it]\n"
     ]
    }
   ],
   "source": [
    "cols_rename = {\n",
    "    \"Capacidade Hospitalar\": \"cap_hosp\",\n",
    "    \"Evolução da Pandemia\": \"evolucao_pand\",\n",
    "    \"Classif. Final\": \"classif_final\",\n",
    "    \"nome_drs\": \"drs_name\",\n",
    "}\n",
    "\n",
    "\n",
    "ddf = ddf.rename(columns=cols_rename)\n",
    "mask = ddf['datahora']==max(ddf['datahora'])\n",
    "ddf['last_update'] = max(ddf['datahora'])\n",
    "ddf_last = ddf[mask].rename(columns={\"drs_name\":\"DRS\"})\n",
    "\n",
    "#upload to drive\n",
    "from scripts import io\n",
    "io.to_gbq(ddf,'plano_sp','covid','gabinete-sv', if_exists='replace')\n",
    "io.to_gbq(ddf_last,'plano_sp_last','covid','gabinete-sv', if_exists='replace')"
   ]
  },
  {
   "cell_type": "code",
   "execution_count": null,
   "metadata": {},
   "outputs": [],
   "source": []
  },
  {
   "cell_type": "code",
   "execution_count": null,
   "metadata": {},
   "outputs": [],
   "source": []
  },
  {
   "cell_type": "code",
   "execution_count": null,
   "metadata": {},
   "outputs": [],
   "source": []
  },
  {
   "cell_type": "code",
   "execution_count": null,
   "metadata": {},
   "outputs": [],
   "source": []
  },
  {
   "cell_type": "code",
   "execution_count": null,
   "metadata": {},
   "outputs": [],
   "source": []
  },
  {
   "cell_type": "code",
   "execution_count": null,
   "metadata": {},
   "outputs": [],
   "source": []
  },
  {
   "cell_type": "code",
   "execution_count": null,
   "metadata": {},
   "outputs": [],
   "source": []
  },
  {
   "cell_type": "code",
   "execution_count": null,
   "metadata": {},
   "outputs": [],
   "source": []
  },
  {
   "cell_type": "code",
   "execution_count": null,
   "metadata": {},
   "outputs": [],
   "source": []
  },
  {
   "cell_type": "code",
   "execution_count": null,
   "metadata": {},
   "outputs": [],
   "source": []
  },
  {
   "cell_type": "code",
   "execution_count": null,
   "metadata": {},
   "outputs": [],
   "source": []
  },
  {
   "cell_type": "code",
   "execution_count": null,
   "metadata": {},
   "outputs": [],
   "source": []
  },
  {
   "cell_type": "code",
   "execution_count": null,
   "metadata": {},
   "outputs": [],
   "source": []
  },
  {
   "cell_type": "code",
   "execution_count": null,
   "metadata": {},
   "outputs": [],
   "source": []
  },
  {
   "cell_type": "code",
   "execution_count": null,
   "metadata": {},
   "outputs": [],
   "source": []
  },
  {
   "cell_type": "code",
   "execution_count": null,
   "metadata": {},
   "outputs": [],
   "source": []
  },
  {
   "cell_type": "code",
   "execution_count": null,
   "metadata": {},
   "outputs": [],
   "source": []
  },
  {
   "cell_type": "code",
   "execution_count": null,
   "metadata": {},
   "outputs": [],
   "source": []
  },
  {
   "cell_type": "code",
   "execution_count": null,
   "metadata": {},
   "outputs": [],
   "source": []
  },
  {
   "cell_type": "code",
   "execution_count": null,
   "metadata": {},
   "outputs": [],
   "source": []
  },
  {
   "cell_type": "code",
   "execution_count": null,
   "metadata": {},
   "outputs": [],
   "source": []
  },
  {
   "cell_type": "code",
   "execution_count": null,
   "metadata": {},
   "outputs": [],
   "source": []
  },
  {
   "cell_type": "code",
   "execution_count": null,
   "metadata": {},
   "outputs": [],
   "source": []
  },
  {
   "cell_type": "code",
   "execution_count": null,
   "metadata": {},
   "outputs": [],
   "source": []
  }
 ],
 "metadata": {
  "kernelspec": {
   "display_name": "Python 3",
   "language": "python",
   "name": "python3"
  },
  "language_info": {
   "codemirror_mode": {
    "name": "ipython",
    "version": 3
   },
   "file_extension": ".py",
   "mimetype": "text/x-python",
   "name": "python",
   "nbconvert_exporter": "python",
   "pygments_lexer": "ipython3",
   "version": "3.7.6"
  }
 },
 "nbformat": 4,
 "nbformat_minor": 4
}
