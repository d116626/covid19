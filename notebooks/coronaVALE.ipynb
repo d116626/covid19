{
 "cells": [
  {
   "cell_type": "code",
   "execution_count": 1,
   "metadata": {},
   "outputs": [],
   "source": [
    "%reload_ext autoreload\n",
    "%autoreload 2\n",
    "\n",
    "import warnings\n",
    "warnings.filterwarnings('ignore')\n",
    "\n",
    "import numpy as np\n",
    "import pandas as pd\n",
    "pd.options.display.max_columns = 999\n",
    "pd.options.display.max_rows = 1999\n",
    "pd.options.display.max_colwidth = 100\n",
    "\n",
    "import plotly.graph_objs as go\n",
    "from plotly.offline import download_plotlyjs, init_notebook_mode, plot, iplot, offline\n",
    "import plotly.express as px\n",
    "import seaborn as sns\n",
    "import matplotlib.pyplot as plt\n",
    "\n",
    "import requests\n",
    "\n",
    "from os import listdir\n",
    "import unicodedata\n",
    "\n",
    "from paths import *\n",
    "from scripts.manipulation import remove_acentos\n",
    "from scripts.manipulation import normalize_cols\n",
    "from scripts import scrap_data\n",
    "from scripts import manipulation\n",
    "from scripts import io\n",
    "from scripts import vis_graphs\n",
    "\n",
    "from datetime import datetime\n",
    "today = datetime.today().strftime('%Y-%m-%d')\n",
    "\n",
    "import yaml\n",
    "\n",
    "import geopandas as gpd"
   ]
  },
  {
   "cell_type": "code",
   "execution_count": null,
   "metadata": {},
   "outputs": [],
   "source": []
  },
  {
   "cell_type": "markdown",
   "metadata": {},
   "source": [
    "# Taubate\n",
    "\n",
    "- Nao temos acesso aos dados por municipio dos seguintes indicadores: \n",
    " - Ocupação leitos UTI COVID\n",
    " - Leitos COVID/100 mil hab\n",
    " - Internações"
   ]
  },
  {
   "cell_type": "code",
   "execution_count": 2,
   "metadata": {},
   "outputs": [],
   "source": [
    "sp_full = pd.read_csv('https://raw.githubusercontent.com/seade-R/dados-covid-sp/master/data/dados_covid_sp.csv', sep=';')\n",
    "sp_full['nome_drs'] = np.where(sp_full['nome_munic']=='São Paulo','Município de São Paulo',sp_full['nome_drs'])\n",
    "\n",
    "\n"
   ]
  },
  {
   "cell_type": "code",
   "execution_count": 3,
   "metadata": {},
   "outputs": [],
   "source": [
    "cols = ['datahora','nome_munic','codigo_ibge','casos','casos_novos','obitos','obitos_novos','nome_drs']\n",
    "\n",
    "mask = sp_full['nome_drs'].isin(['Taubaté'])\n",
    "vale = sp_full[mask][cols]\n",
    "\n",
    "\n",
    "rename_cols = {\n",
    "    \"casos\":\"casos_tbt\",\n",
    "    \"casos_novos\":\"casos_novos_tbt\",\n",
    "    \"obitos\":\"obitos_tbt\",\n",
    "    \"obitos_novos\":\"obitos_novos_tbt\",\n",
    "}\n",
    "vale_ = vale.groupby(by=['nome_drs','datahora'], as_index=False).sum()\n",
    "\n",
    "vale_['nome_munic'] = 'Vale'\n",
    "vale_['codigo_ibge'] = 0\n",
    "\n",
    "\n",
    "vale = pd.concat([vale,vale_], axis=0)\n",
    "\n",
    "vale_ = vale_.rename(columns = rename_cols).drop(columns=['nome_munic','codigo_ibge'])\n",
    "vale = vale.merge(vale_, on=['nome_drs','datahora'])"
   ]
  },
  {
   "cell_type": "code",
   "execution_count": null,
   "metadata": {},
   "outputs": [],
   "source": []
  },
  {
   "cell_type": "code",
   "execution_count": null,
   "metadata": {},
   "outputs": [],
   "source": []
  },
  {
   "cell_type": "code",
   "execution_count": 4,
   "metadata": {},
   "outputs": [],
   "source": [
    "cols = ['casos','obitos','casos_tbt','obitos_tbt']\n",
    "\n",
    "\n",
    "dd_final_all = pd.DataFrame()\n",
    "\n",
    "for municipio in vale['nome_munic'].unique():\n",
    "    tbt = vale[vale['nome_munic']==municipio]\n",
    "\n",
    "    for col in cols:\n",
    "        \n",
    "\n",
    "        tbt[f'{col}_shift_7'] = tbt[f'{col}'].shift(7)\n",
    "        tbt[f'{col}_shift_14'] = tbt[f'{col}'].shift(14)\n",
    "\n",
    "\n",
    "        tbt[f'{col}_7d'] = tbt[f'{col}'] - tbt[f'{col}_shift_7']\n",
    "        tbt[f'{col}_14d'] = tbt[f'{col}'] - tbt[f'{col}_shift_14']\n",
    "\n",
    "\n",
    "        tbt[f'{col}_shift_14'] = tbt[f'{col}_7d'].shift(7)\n",
    "\n",
    "        tbt[f'{col}_var'] = tbt[f'{col}_7d']/tbt[f'{col}_shift_14']\n",
    "        \n",
    "        tbt = tbt.drop(columns = [f'{col}_shift_14',f'{col}_shift_7',])\n",
    "\n",
    "\n",
    "\n",
    "#     dd = tbt[['datahora','nome_munic',f'{col}',f'{col}_7',f'{col}_14d',f'{col}_var']]\n",
    "\n",
    "    dd_final_all = pd.concat([dd_final_all,tbt], axis=0)\n",
    "\n",
    "\n",
    "    \n",
    "\n",
    "\n",
    "vale_final = dd_final_all.copy()"
   ]
  },
  {
   "cell_type": "code",
   "execution_count": 5,
   "metadata": {},
   "outputs": [],
   "source": [
    "vale_final['casos_tbt'] = 100 * vale_final['casos'] / vale_final['casos_tbt'] \n",
    "vale_final['casos_novos_tbt'] = 100 * vale_final['casos_novos'] / vale_final['casos_novos_tbt'] \n",
    "vale_final['obitos_tbt'] = 100 * vale_final['obitos'] / vale_final['obitos_tbt'] \n",
    "vale_final['obitos_novos_tbt'] = 100 * vale_final['obitos_novos'] / vale_final['obitos_novos_tbt'] \n",
    "vale_final = vale_final.fillna(0)"
   ]
  },
  {
   "cell_type": "code",
   "execution_count": 6,
   "metadata": {},
   "outputs": [],
   "source": [
    "vale_final = vale_final.sort_values(by=['datahora','nome_munic'])\n",
    "vale_final['codigo_ibge'] = vale_final['codigo_ibge'].astype(int)\n",
    "vale_final['datahora'] = pd.to_datetime(vale_final['datahora'])"
   ]
  },
  {
   "cell_type": "code",
   "execution_count": null,
   "metadata": {},
   "outputs": [],
   "source": []
  },
  {
   "cell_type": "code",
   "execution_count": 7,
   "metadata": {},
   "outputs": [
    {
     "data": {
      "text/html": [
       "<div>\n",
       "<style scoped>\n",
       "    .dataframe tbody tr th:only-of-type {\n",
       "        vertical-align: middle;\n",
       "    }\n",
       "\n",
       "    .dataframe tbody tr th {\n",
       "        vertical-align: top;\n",
       "    }\n",
       "\n",
       "    .dataframe thead th {\n",
       "        text-align: right;\n",
       "    }\n",
       "</style>\n",
       "<table border=\"1\" class=\"dataframe\">\n",
       "  <thead>\n",
       "    <tr style=\"text-align: right;\">\n",
       "      <th></th>\n",
       "      <th>datahora</th>\n",
       "      <th>nome_munic</th>\n",
       "      <th>codigo_ibge</th>\n",
       "      <th>casos</th>\n",
       "      <th>casos_novos</th>\n",
       "      <th>obitos</th>\n",
       "      <th>obitos_novos</th>\n",
       "      <th>nome_drs</th>\n",
       "      <th>casos_tbt</th>\n",
       "      <th>casos_novos_tbt</th>\n",
       "      <th>obitos_tbt</th>\n",
       "      <th>obitos_novos_tbt</th>\n",
       "      <th>casos_7d</th>\n",
       "      <th>casos_14d</th>\n",
       "      <th>casos_var</th>\n",
       "      <th>obitos_7d</th>\n",
       "      <th>obitos_14d</th>\n",
       "      <th>obitos_var</th>\n",
       "      <th>casos_tbt_7d</th>\n",
       "      <th>casos_tbt_14d</th>\n",
       "      <th>casos_tbt_var</th>\n",
       "      <th>obitos_tbt_7d</th>\n",
       "      <th>obitos_tbt_14d</th>\n",
       "      <th>obitos_tbt_var</th>\n",
       "    </tr>\n",
       "  </thead>\n",
       "  <tbody>\n",
       "    <tr>\n",
       "      <th>6834</th>\n",
       "      <td>2020-08-13</td>\n",
       "      <td>São Sebastião</td>\n",
       "      <td>3550704</td>\n",
       "      <td>1160</td>\n",
       "      <td>20</td>\n",
       "      <td>21</td>\n",
       "      <td>0</td>\n",
       "      <td>Taubaté</td>\n",
       "      <td>4.805501</td>\n",
       "      <td>1.828154</td>\n",
       "      <td>3.074671</td>\n",
       "      <td>0.000000</td>\n",
       "      <td>132.0</td>\n",
       "      <td>312.0</td>\n",
       "      <td>0.733333</td>\n",
       "      <td>6.0</td>\n",
       "      <td>7.0</td>\n",
       "      <td>6.000000</td>\n",
       "      <td>4149.0</td>\n",
       "      <td>7834.0</td>\n",
       "      <td>1.125916</td>\n",
       "      <td>98.0</td>\n",
       "      <td>165.0</td>\n",
       "      <td>1.462687</td>\n",
       "    </tr>\n",
       "    <tr>\n",
       "      <th>6836</th>\n",
       "      <td>2020-08-13</td>\n",
       "      <td>Taubaté</td>\n",
       "      <td>3554102</td>\n",
       "      <td>2143</td>\n",
       "      <td>100</td>\n",
       "      <td>71</td>\n",
       "      <td>1</td>\n",
       "      <td>Taubaté</td>\n",
       "      <td>8.877750</td>\n",
       "      <td>9.140768</td>\n",
       "      <td>10.395315</td>\n",
       "      <td>7.142857</td>\n",
       "      <td>372.0</td>\n",
       "      <td>699.0</td>\n",
       "      <td>1.137615</td>\n",
       "      <td>16.0</td>\n",
       "      <td>17.0</td>\n",
       "      <td>16.000000</td>\n",
       "      <td>4149.0</td>\n",
       "      <td>7834.0</td>\n",
       "      <td>1.125916</td>\n",
       "      <td>98.0</td>\n",
       "      <td>165.0</td>\n",
       "      <td>1.462687</td>\n",
       "    </tr>\n",
       "    <tr>\n",
       "      <th>6837</th>\n",
       "      <td>2020-08-13</td>\n",
       "      <td>Tremembé</td>\n",
       "      <td>3554805</td>\n",
       "      <td>139</td>\n",
       "      <td>6</td>\n",
       "      <td>0</td>\n",
       "      <td>0</td>\n",
       "      <td>Taubaté</td>\n",
       "      <td>0.575832</td>\n",
       "      <td>0.548446</td>\n",
       "      <td>0.000000</td>\n",
       "      <td>0.000000</td>\n",
       "      <td>29.0</td>\n",
       "      <td>42.0</td>\n",
       "      <td>2.230769</td>\n",
       "      <td>0.0</td>\n",
       "      <td>0.0</td>\n",
       "      <td>0.000000</td>\n",
       "      <td>4149.0</td>\n",
       "      <td>7834.0</td>\n",
       "      <td>1.125916</td>\n",
       "      <td>98.0</td>\n",
       "      <td>165.0</td>\n",
       "      <td>1.462687</td>\n",
       "    </tr>\n",
       "    <tr>\n",
       "      <th>6838</th>\n",
       "      <td>2020-08-13</td>\n",
       "      <td>Ubatuba</td>\n",
       "      <td>3555406</td>\n",
       "      <td>790</td>\n",
       "      <td>49</td>\n",
       "      <td>22</td>\n",
       "      <td>0</td>\n",
       "      <td>Taubaté</td>\n",
       "      <td>3.272712</td>\n",
       "      <td>4.478976</td>\n",
       "      <td>3.221083</td>\n",
       "      <td>0.000000</td>\n",
       "      <td>208.0</td>\n",
       "      <td>300.0</td>\n",
       "      <td>2.260870</td>\n",
       "      <td>0.0</td>\n",
       "      <td>2.0</td>\n",
       "      <td>0.000000</td>\n",
       "      <td>4149.0</td>\n",
       "      <td>7834.0</td>\n",
       "      <td>1.125916</td>\n",
       "      <td>98.0</td>\n",
       "      <td>165.0</td>\n",
       "      <td>1.462687</td>\n",
       "    </tr>\n",
       "    <tr>\n",
       "      <th>6839</th>\n",
       "      <td>2020-08-13</td>\n",
       "      <td>Vale</td>\n",
       "      <td>0</td>\n",
       "      <td>24139</td>\n",
       "      <td>1094</td>\n",
       "      <td>683</td>\n",
       "      <td>14</td>\n",
       "      <td>Taubaté</td>\n",
       "      <td>100.000000</td>\n",
       "      <td>100.000000</td>\n",
       "      <td>100.000000</td>\n",
       "      <td>100.000000</td>\n",
       "      <td>4149.0</td>\n",
       "      <td>7834.0</td>\n",
       "      <td>1.125916</td>\n",
       "      <td>98.0</td>\n",
       "      <td>165.0</td>\n",
       "      <td>1.462687</td>\n",
       "      <td>4149.0</td>\n",
       "      <td>7834.0</td>\n",
       "      <td>1.125916</td>\n",
       "      <td>98.0</td>\n",
       "      <td>165.0</td>\n",
       "      <td>1.462687</td>\n",
       "    </tr>\n",
       "  </tbody>\n",
       "</table>\n",
       "</div>"
      ],
      "text/plain": [
       "       datahora     nome_munic  codigo_ibge  casos  casos_novos  obitos  \\\n",
       "6834 2020-08-13  São Sebastião      3550704   1160           20      21   \n",
       "6836 2020-08-13        Taubaté      3554102   2143          100      71   \n",
       "6837 2020-08-13       Tremembé      3554805    139            6       0   \n",
       "6838 2020-08-13        Ubatuba      3555406    790           49      22   \n",
       "6839 2020-08-13           Vale            0  24139         1094     683   \n",
       "\n",
       "      obitos_novos nome_drs   casos_tbt  casos_novos_tbt  obitos_tbt  \\\n",
       "6834             0  Taubaté    4.805501         1.828154    3.074671   \n",
       "6836             1  Taubaté    8.877750         9.140768   10.395315   \n",
       "6837             0  Taubaté    0.575832         0.548446    0.000000   \n",
       "6838             0  Taubaté    3.272712         4.478976    3.221083   \n",
       "6839            14  Taubaté  100.000000       100.000000  100.000000   \n",
       "\n",
       "      obitos_novos_tbt  casos_7d  casos_14d  casos_var  obitos_7d  obitos_14d  \\\n",
       "6834          0.000000     132.0      312.0   0.733333        6.0         7.0   \n",
       "6836          7.142857     372.0      699.0   1.137615       16.0        17.0   \n",
       "6837          0.000000      29.0       42.0   2.230769        0.0         0.0   \n",
       "6838          0.000000     208.0      300.0   2.260870        0.0         2.0   \n",
       "6839        100.000000    4149.0     7834.0   1.125916       98.0       165.0   \n",
       "\n",
       "      obitos_var  casos_tbt_7d  casos_tbt_14d  casos_tbt_var  obitos_tbt_7d  \\\n",
       "6834    6.000000        4149.0         7834.0       1.125916           98.0   \n",
       "6836   16.000000        4149.0         7834.0       1.125916           98.0   \n",
       "6837    0.000000        4149.0         7834.0       1.125916           98.0   \n",
       "6838    0.000000        4149.0         7834.0       1.125916           98.0   \n",
       "6839    1.462687        4149.0         7834.0       1.125916           98.0   \n",
       "\n",
       "      obitos_tbt_14d  obitos_tbt_var  \n",
       "6834           165.0        1.462687  \n",
       "6836           165.0        1.462687  \n",
       "6837           165.0        1.462687  \n",
       "6838           165.0        1.462687  \n",
       "6839           165.0        1.462687  "
      ]
     },
     "execution_count": 7,
     "metadata": {},
     "output_type": "execute_result"
    }
   ],
   "source": [
    "vale_final.tail()"
   ]
  },
  {
   "cell_type": "code",
   "execution_count": null,
   "metadata": {},
   "outputs": [],
   "source": []
  },
  {
   "cell_type": "code",
   "execution_count": null,
   "metadata": {},
   "outputs": [],
   "source": []
  },
  {
   "cell_type": "code",
   "execution_count": null,
   "metadata": {},
   "outputs": [],
   "source": []
  },
  {
   "cell_type": "code",
   "execution_count": null,
   "metadata": {},
   "outputs": [],
   "source": []
  },
  {
   "cell_type": "code",
   "execution_count": null,
   "metadata": {},
   "outputs": [],
   "source": []
  },
  {
   "cell_type": "code",
   "execution_count": null,
   "metadata": {},
   "outputs": [],
   "source": []
  },
  {
   "cell_type": "markdown",
   "metadata": {},
   "source": [
    "### RT"
   ]
  },
  {
   "cell_type": "code",
   "execution_count": 8,
   "metadata": {},
   "outputs": [],
   "source": [
    "#load br cities\n",
    "geo_sp = gpd.read_file('../../brasil_geodata/maps/sp_municipios.json')\n",
    "# cols = ['geocodigo','nome_mesorregiao','geometry']\n",
    "cols = ['geocodigo','nome_mesorregiao','nome_municipio']\n",
    "geo_sp = geo_sp[cols]"
   ]
  },
  {
   "cell_type": "code",
   "execution_count": 9,
   "metadata": {},
   "outputs": [],
   "source": [
    "#load state data\n",
    "url  = 'http://datasource.coronacidades.org/'\n",
    "data = 'br/states/rt'\n",
    "\n",
    "ds = pd.read_csv(f'{url}{data}')\n",
    "\n",
    "ds['last_updated'] = pd.to_datetime(ds['last_updated'])\n",
    "\n",
    "sp = ds[ds['state_num_id']==35]\n",
    "sp = sp.rename(columns={'state_num_id':'city_id'})\n",
    "sp['city_id'] = 'SP'\n",
    "sp['nome_mesorregiao'] = 'SP'\n",
    "sp['nome_municipio']   = 'Estado de SP'\n",
    "\n",
    "# rj = ds[ds['state']=='RJ']\n",
    "# rj = rj.rename(columns={'state':'city_id'})\n",
    "# rj['nome_mesorregiao'] = 'RJ'\n",
    "# rj['nome_municipio']   = 'Estado do RJ'\n",
    "\n",
    "# mg = ds[ds['state']=='MG']\n",
    "# mg = mg.rename(columns={'state':'city_id'})\n",
    "# mg['nome_mesorregiao'] = 'MG'\n",
    "# mg['nome_municipio']   = 'Estado de MG'\n",
    "\n",
    "# am = ds[ds['state']=='AM']\n",
    "# am = am.rename(columns={'state':'city_id'})\n",
    "# am['nome_mesorregiao'] = 'AM'\n",
    "# am['nome_municipio']   = 'Estado de AM'"
   ]
  },
  {
   "cell_type": "code",
   "execution_count": null,
   "metadata": {},
   "outputs": [],
   "source": []
  },
  {
   "cell_type": "code",
   "execution_count": 10,
   "metadata": {},
   "outputs": [],
   "source": [
    "#load cities data\n",
    "data = 'br/cities/rt'\n",
    "\n",
    "df = pd.read_csv(f'{url}{data}')\n",
    "\n",
    "df['last_updated'] = pd.to_datetime(df['last_updated'])\n"
   ]
  },
  {
   "cell_type": "code",
   "execution_count": 11,
   "metadata": {},
   "outputs": [],
   "source": [
    "dd = df.merge(geo_sp, how='right', left_on = 'city_id', right_on = 'geocodigo')\n",
    "dd.head()\n",
    "\n",
    "\n",
    "regiao = 'Vale do Paraíba Paulista'\n",
    "mask = (dd['nome_mesorregiao']==regiao)\n",
    "vale = dd[mask]\n",
    "vale = vale[vale['city_id'].notnull()]\n",
    "\n",
    "mask = (dd['nome_municipio']=='São Paulo')\n",
    "sp_city = dd[mask]\n",
    "\n",
    "\n",
    "vale = pd.concat([vale,sp_city], 0)\n",
    "vale = pd.concat([vale,sp], 0)\n",
    "\n",
    "vale['geocodigo'] = vale['geocodigo'].fillna(111).astype(int)"
   ]
  },
  {
   "cell_type": "code",
   "execution_count": 12,
   "metadata": {},
   "outputs": [],
   "source": [
    "vale = vale.rename(columns={'geocodigo':'codigo_ibge','last_updated':'datahora'})\n",
    "vale['datahora'] = pd.to_datetime(vale['datahora'])"
   ]
  },
  {
   "cell_type": "code",
   "execution_count": 13,
   "metadata": {},
   "outputs": [],
   "source": [
    "mask = vale['datahora']== max(vale['datahora'])\n",
    "vale_rt_last = vale[mask]\n",
    "vale_rt_last = vale_rt_last.drop(columns=['datahora'])\n",
    "vale_rt_last = vale_rt_last.rename(columns={'nome_municipio':'municipio'})"
   ]
  },
  {
   "cell_type": "code",
   "execution_count": null,
   "metadata": {},
   "outputs": [],
   "source": []
  },
  {
   "cell_type": "code",
   "execution_count": null,
   "metadata": {},
   "outputs": [],
   "source": []
  },
  {
   "cell_type": "code",
   "execution_count": null,
   "metadata": {},
   "outputs": [],
   "source": []
  },
  {
   "cell_type": "code",
   "execution_count": null,
   "metadata": {},
   "outputs": [],
   "source": []
  },
  {
   "cell_type": "code",
   "execution_count": null,
   "metadata": {},
   "outputs": [],
   "source": []
  },
  {
   "cell_type": "code",
   "execution_count": 14,
   "metadata": {},
   "outputs": [],
   "source": [
    "mask = vale_final['nome_munic']=='Vale'\n",
    "just_vale = vale_final[mask]\n",
    "just_vale = just_vale.drop(columns=['nome_munic'])\n",
    "just_vale['last_update'] = max(just_vale['datahora'])"
   ]
  },
  {
   "cell_type": "code",
   "execution_count": 15,
   "metadata": {},
   "outputs": [
    {
     "name": "stderr",
     "output_type": "stream",
     "text": [
      "1it [00:05,  5.22s/it]\n",
      "1it [00:14, 14.81s/it]\n",
      "1it [00:05,  5.65s/it]\n",
      "1it [00:04,  4.81s/it]\n",
      "1it [00:03,  3.99s/it]\n"
     ]
    }
   ],
   "source": [
    "#upload to drive\n",
    "from scripts import io\n",
    "io.to_gbq(vale_final,'vale_covid','covid','gabinete-sv', if_exists='replace')\n",
    "io.to_gbq(just_vale,'just_vale_covid','covid','gabinete-sv', if_exists='replace')\n",
    "io.to_gbq(vale,'rt_vale_covid','covid','gabinete-sv', if_exists='replace')\n",
    "io.to_gbq(vale_rt_last,'vale_rt_last','covid','gabinete-sv', if_exists='replace')\n",
    "io.to_gbq(just_vale,'just_vale_covid','covid','gabinete-sv', if_exists='replace')"
   ]
  },
  {
   "cell_type": "code",
   "execution_count": null,
   "metadata": {},
   "outputs": [],
   "source": []
  },
  {
   "cell_type": "code",
   "execution_count": null,
   "metadata": {},
   "outputs": [],
   "source": []
  },
  {
   "cell_type": "code",
   "execution_count": null,
   "metadata": {},
   "outputs": [],
   "source": []
  },
  {
   "cell_type": "code",
   "execution_count": null,
   "metadata": {},
   "outputs": [],
   "source": []
  },
  {
   "cell_type": "code",
   "execution_count": null,
   "metadata": {},
   "outputs": [],
   "source": []
  },
  {
   "cell_type": "code",
   "execution_count": null,
   "metadata": {},
   "outputs": [],
   "source": []
  },
  {
   "cell_type": "code",
   "execution_count": null,
   "metadata": {},
   "outputs": [],
   "source": []
  },
  {
   "cell_type": "markdown",
   "metadata": {},
   "source": [
    "## Plano SP"
   ]
  },
  {
   "cell_type": "markdown",
   "metadata": {},
   "source": [
    "## Casos"
   ]
  },
  {
   "cell_type": "code",
   "execution_count": 17,
   "metadata": {},
   "outputs": [
    {
     "ename": "NameError",
     "evalue": "name 'manipulation_sp' is not defined",
     "output_type": "error",
     "traceback": [
      "\u001b[0;31m---------------------------------------------------------------------------\u001b[0m",
      "\u001b[0;31mNameError\u001b[0m                                 Traceback (most recent call last)",
      "\u001b[0;32m<ipython-input-17-f09693a742f5>\u001b[0m in \u001b[0;36m<module>\u001b[0;34m\u001b[0m\n\u001b[1;32m      1\u001b[0m \u001b[0mcasos_full\u001b[0m \u001b[0;34m=\u001b[0m \u001b[0mpd\u001b[0m\u001b[0;34m.\u001b[0m\u001b[0mread_csv\u001b[0m\u001b[0;34m(\u001b[0m\u001b[0;34m'https://raw.githubusercontent.com/seade-R/dados-covid-sp/master/data/dados_covid_sp.csv'\u001b[0m\u001b[0;34m,\u001b[0m \u001b[0msep\u001b[0m\u001b[0;34m=\u001b[0m\u001b[0;34m';'\u001b[0m\u001b[0;34m)\u001b[0m\u001b[0;34m\u001b[0m\u001b[0;34m\u001b[0m\u001b[0m\n\u001b[0;32m----> 2\u001b[0;31m \u001b[0mcasos\u001b[0m\u001b[0;34m,\u001b[0m \u001b[0msp_casos\u001b[0m \u001b[0;34m=\u001b[0m \u001b[0mmanipulation_sp\u001b[0m\u001b[0;34m.\u001b[0m\u001b[0mpadronize_casos\u001b[0m\u001b[0;34m(\u001b[0m\u001b[0mcasos_full\u001b[0m\u001b[0;34m)\u001b[0m\u001b[0;34m\u001b[0m\u001b[0;34m\u001b[0m\u001b[0m\n\u001b[0m",
      "\u001b[0;31mNameError\u001b[0m: name 'manipulation_sp' is not defined"
     ]
    }
   ],
   "source": [
    "casos_full = pd.read_csv('https://raw.githubusercontent.com/seade-R/dados-covid-sp/master/data/dados_covid_sp.csv', sep=';')\n",
    "casos, sp_casos = manipulation_sp.padronize_casos(casos_full)"
   ]
  },
  {
   "cell_type": "code",
   "execution_count": null,
   "metadata": {},
   "outputs": [],
   "source": []
  },
  {
   "cell_type": "markdown",
   "metadata": {},
   "source": [
    "## Internacoes"
   ]
  },
  {
   "cell_type": "code",
   "execution_count": null,
   "metadata": {},
   "outputs": [],
   "source": [
    "internacoes_full = pd.read_csv('https://github.com/seade-R/dados-covid-sp/raw/master/data/plano_sp_leitos_internacoes.csv', sep=';')\n",
    "internacoes, sp_internacoes = manipulation_sp.padronize_internacoes(internacoes_full)"
   ]
  },
  {
   "cell_type": "code",
   "execution_count": null,
   "metadata": {},
   "outputs": [],
   "source": []
  },
  {
   "cell_type": "markdown",
   "metadata": {},
   "source": [
    "## Ocupacao UTI"
   ]
  },
  {
   "cell_type": "code",
   "execution_count": null,
   "metadata": {},
   "outputs": [],
   "source": [
    "uti = pd.read_csv('../data/sp_gov/uti_ocupacao.csv', sep=';')\n",
    "\n",
    "uti_final = uti.copy()\n",
    "\n",
    "\n",
    "# mask =  uti_final['datahora'] == max(uti_final['datahora'])\n",
    "\n",
    "# uti_final = uti_final[mask]\n",
    "\n",
    "# uti_final['datahora'] = max(df_final['datahora'])"
   ]
  },
  {
   "cell_type": "code",
   "execution_count": null,
   "metadata": {},
   "outputs": [],
   "source": []
  },
  {
   "cell_type": "markdown",
   "metadata": {},
   "source": [
    "## Add Fases"
   ]
  },
  {
   "cell_type": "code",
   "execution_count": null,
   "metadata": {},
   "outputs": [],
   "source": [
    "#merge all tables\n",
    "df = manipulation_sp.padronize_planosp(sp_casos,sp_internacoes, uti_final)\n",
    "\n",
    "# calculate fases\n",
    "df = manipulation_sp.add_fases(df)\n",
    "\n",
    "# padronize names and column names\n",
    "# df = manipulation_sp.padronize_planosp_names(df)"
   ]
  },
  {
   "cell_type": "code",
   "execution_count": null,
   "metadata": {},
   "outputs": [],
   "source": [
    "df.head()"
   ]
  },
  {
   "cell_type": "code",
   "execution_count": null,
   "metadata": {},
   "outputs": [],
   "source": []
  },
  {
   "cell_type": "code",
   "execution_count": null,
   "metadata": {},
   "outputs": [],
   "source": []
  },
  {
   "cell_type": "markdown",
   "metadata": {},
   "source": [
    "## Add Fases"
   ]
  },
  {
   "cell_type": "markdown",
   "metadata": {},
   "source": [
    "## Padronize "
   ]
  },
  {
   "cell_type": "code",
   "execution_count": null,
   "metadata": {},
   "outputs": [],
   "source": [
    "\n",
    "cols = ['datahora','nome_drs','Capacidade Hospitalar','uti_var','leitos_pc','Evolução da Pandemia','casos_var','internacoes_var','internacoes_14d_pc','obitos_var','obitos_14d_pc','Classif. Final']\n",
    "\n",
    "cols = ['datahora','nome_drs','Capacidade Hospitalar','uti_var','leitos_pc','Evolução da Pandemia','casos_var','internacoes_var','obitos_var','Classif. Final']\n",
    "\n",
    "\n",
    "\n",
    "rename_drs = {\n",
    "    'Araraquara':'DRS 03 - Araraquara',\n",
    "    'Araçatuba':'DRS 02 - Araçatuba',\n",
    "    'Baixada Santista':'DRS 04 - Baixada Santista',\n",
    "    'Barretos':'DRS 05 - Barretos',\n",
    "    'Bauru':'DRS 06 - Bauru',\n",
    "    'Campinas':'DRS 07 - Campinas',\n",
    "    'Estado de São Paulo':'Estado de São Paulo',\n",
    "    'Franca':'DRS 08 - Franca',\n",
    "    'Marília':'DRS 09 - Marília',\n",
    "    'Município de São Paulo':'DRS 01 - Município de São Paulo',\n",
    "    'Piracicaba':'DRS 10 - Piracicaba',\n",
    "    'Presidente Prudente':'DRS 11 - Presidente Prudente',\n",
    "    'Registro':'DRS 12 - Registro',\n",
    "    'Ribeirão Preto':'DRS 13 - Ribeirão Preto',\n",
    "    'Sorocaba':'DRS 16 - Sorocaba',\n",
    "    'São José do Rio Preto':'DRS 15 - São José do Rio Preto',\n",
    "    'São João da Boa Vista':'DRS 14 - São João da Boa Vista',\n",
    "    'Taubaté':'DRS 17 - Taubaté',\n",
    "    'Estado de São Paulo':'00 - Estado de São Paulo'\n",
    "}\n",
    "\n",
    "df['nome_drs'] = df['nome_drs'].map(rename_drs)\n",
    "\n",
    "ddf = df.copy()\n"
   ]
  },
  {
   "cell_type": "code",
   "execution_count": null,
   "metadata": {},
   "outputs": [],
   "source": []
  },
  {
   "cell_type": "code",
   "execution_count": null,
   "metadata": {},
   "outputs": [],
   "source": [
    "cols_rename = {\n",
    "    \"Capacidade Hospitalar\": \"cap_hosp\",\n",
    "    \"Evolução da Pandemia\": \"evolucao_pand\",\n",
    "    \"Classif. Final\": \"classif_final\",\n",
    "    \"nome_drs\": \"drs_name\",\n",
    "    'Data':'datahora'\n",
    "}\n",
    "\n",
    "\n",
    "ddf = df.rename(columns=cols_rename)\n",
    "mask = ddf['datahora']==max(ddf['datahora'])\n",
    "ddf['last_update'] = max(ddf['datahora'])\n",
    "ddf_last = ddf[mask].rename(columns={\"drs_name\":\"DRS\"})\n",
    "\n"
   ]
  },
  {
   "cell_type": "code",
   "execution_count": null,
   "metadata": {},
   "outputs": [],
   "source": []
  },
  {
   "cell_type": "code",
   "execution_count": null,
   "metadata": {},
   "outputs": [],
   "source": [
    "#upload to drive\n",
    "from scripts import io\n",
    "io.to_gbq(ddf,'plano_sp','covid','gabinete-sv', if_exists='replace')\n",
    "io.to_gbq(ddf_last,'plano_sp_last','covid','gabinete-sv', if_exists='replace')"
   ]
  },
  {
   "cell_type": "code",
   "execution_count": null,
   "metadata": {},
   "outputs": [],
   "source": []
  },
  {
   "cell_type": "code",
   "execution_count": null,
   "metadata": {},
   "outputs": [],
   "source": []
  },
  {
   "cell_type": "code",
   "execution_count": null,
   "metadata": {},
   "outputs": [],
   "source": []
  },
  {
   "cell_type": "code",
   "execution_count": null,
   "metadata": {},
   "outputs": [],
   "source": []
  },
  {
   "cell_type": "code",
   "execution_count": null,
   "metadata": {},
   "outputs": [],
   "source": []
  },
  {
   "cell_type": "code",
   "execution_count": null,
   "metadata": {},
   "outputs": [],
   "source": []
  },
  {
   "cell_type": "code",
   "execution_count": null,
   "metadata": {},
   "outputs": [],
   "source": []
  },
  {
   "cell_type": "code",
   "execution_count": null,
   "metadata": {},
   "outputs": [],
   "source": []
  },
  {
   "cell_type": "code",
   "execution_count": null,
   "metadata": {},
   "outputs": [],
   "source": []
  },
  {
   "cell_type": "code",
   "execution_count": null,
   "metadata": {},
   "outputs": [],
   "source": []
  },
  {
   "cell_type": "code",
   "execution_count": null,
   "metadata": {},
   "outputs": [],
   "source": []
  },
  {
   "cell_type": "code",
   "execution_count": null,
   "metadata": {},
   "outputs": [],
   "source": []
  },
  {
   "cell_type": "code",
   "execution_count": null,
   "metadata": {},
   "outputs": [],
   "source": []
  },
  {
   "cell_type": "code",
   "execution_count": null,
   "metadata": {},
   "outputs": [],
   "source": []
  },
  {
   "cell_type": "code",
   "execution_count": null,
   "metadata": {},
   "outputs": [],
   "source": []
  },
  {
   "cell_type": "code",
   "execution_count": null,
   "metadata": {},
   "outputs": [],
   "source": []
  },
  {
   "cell_type": "code",
   "execution_count": null,
   "metadata": {},
   "outputs": [],
   "source": []
  },
  {
   "cell_type": "code",
   "execution_count": null,
   "metadata": {},
   "outputs": [],
   "source": []
  },
  {
   "cell_type": "code",
   "execution_count": null,
   "metadata": {},
   "outputs": [],
   "source": []
  },
  {
   "cell_type": "code",
   "execution_count": null,
   "metadata": {},
   "outputs": [],
   "source": []
  },
  {
   "cell_type": "code",
   "execution_count": null,
   "metadata": {},
   "outputs": [],
   "source": []
  },
  {
   "cell_type": "code",
   "execution_count": null,
   "metadata": {},
   "outputs": [],
   "source": []
  },
  {
   "cell_type": "code",
   "execution_count": null,
   "metadata": {},
   "outputs": [],
   "source": []
  }
 ],
 "metadata": {
  "kernelspec": {
   "display_name": "Python 3",
   "language": "python",
   "name": "python3"
  },
  "language_info": {
   "codemirror_mode": {
    "name": "ipython",
    "version": 3
   },
   "file_extension": ".py",
   "mimetype": "text/x-python",
   "name": "python",
   "nbconvert_exporter": "python",
   "pygments_lexer": "ipython3",
   "version": "3.7.6"
  }
 },
 "nbformat": 4,
 "nbformat_minor": 4
}
