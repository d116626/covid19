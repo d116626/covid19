{
 "cells": [
  {
   "cell_type": "code",
   "execution_count": 1,
   "metadata": {},
   "outputs": [],
   "source": [
    "%reload_ext autoreload\n",
    "%autoreload 2\n",
    "\n",
    "import warnings\n",
    "warnings.filterwarnings('ignore')\n",
    "\n",
    "import numpy as np\n",
    "import pandas as pd\n",
    "pd.options.display.max_columns = 999\n",
    "pd.options.display.max_rows = 999\n",
    "pd.options.display.max_colwidth = 100\n",
    "\n",
    "import geopandas as gpd\n",
    "\n",
    "import plotly.graph_objs as go\n",
    "from plotly.offline import download_plotlyjs, init_notebook_mode, plot, iplot, offline\n",
    "import plotly.express as px\n",
    "import seaborn as sns\n",
    "import matplotlib.pyplot as plt\n",
    "\n",
    "\n",
    "from os import listdir\n",
    "import unicodedata\n",
    "\n",
    "\n",
    "from paths import *\n",
    "# from scripts.vis_graphs import remove_acentos\n",
    "# from scripts.vis_graphs import normalize_cols\n",
    "from scripts.io import read_sheets\n",
    "\n",
    "\n",
    "from datetime import datetime\n",
    "today = datetime.today().strftime('%Y-%m-%d')\n",
    "\n",
    "\n",
    "import yaml"
   ]
  },
  {
   "cell_type": "code",
   "execution_count": 7,
   "metadata": {},
   "outputs": [],
   "source": [
    "df = read_sheets('covid19_taubate')"
   ]
  },
  {
   "cell_type": "code",
   "execution_count": 15,
   "metadata": {},
   "outputs": [],
   "source": [
    "bairos = list(np.sort(df['bairro'].unique()))"
   ]
  },
  {
   "cell_type": "code",
   "execution_count": 16,
   "metadata": {},
   "outputs": [
    {
     "data": {
      "text/plain": [
       "['Alto São João',\n",
       " 'Alto São Pedro',\n",
       " 'Ana Rosa',\n",
       " 'Areão',\n",
       " 'Baronesa',\n",
       " 'Barranco',\n",
       " 'Barreiro',\n",
       " 'Belém',\n",
       " 'Bom Conselho',\n",
       " 'Bonfim',\n",
       " 'Bosque da Saúde',\n",
       " 'Caminho Novo',\n",
       " 'Campos Eliseos',\n",
       " 'Cataguá',\n",
       " 'Cecap',\n",
       " 'Cecap 3',\n",
       " 'Centro',\n",
       " 'Chafariz',\n",
       " 'Chácara Cataguá',\n",
       " 'Chácara Felix',\n",
       " 'Chácara Flórida',\n",
       " 'Chácara Guisard',\n",
       " 'Chácara Santa Luzia',\n",
       " 'Chácara Silvestre',\n",
       " 'Chácara do Visconde',\n",
       " 'Chácaras Reunidas Brasil',\n",
       " 'Cond. Vila Verde',\n",
       " 'Esplanada Independencia',\n",
       " 'Esplanada Santa Helena',\n",
       " 'Esplanada Santa Terezinha',\n",
       " 'Estiva',\n",
       " 'Fambloyant',\n",
       " 'Flor do Vale',\n",
       " 'Granja Santa Terezinha',\n",
       " 'Gurilândia',\n",
       " 'Independência',\n",
       " 'Jaboticabeiras',\n",
       " 'Jabuticabeiras',\n",
       " 'Jaraguá',\n",
       " 'Jardim dos Passos',\n",
       " 'Jd America',\n",
       " 'Jd Ana Emilia',\n",
       " 'Jd Ana Rosa',\n",
       " 'Jd Bom Conselho',\n",
       " 'Jd California',\n",
       " 'Jd Colombia',\n",
       " 'Jd Eliete',\n",
       " 'Jd Eulália',\n",
       " 'Jd Mourisco',\n",
       " 'Jd Neusa Maria',\n",
       " 'Jd Resende',\n",
       " 'Jd Sandra maria',\n",
       " 'Jd Santa Clara',\n",
       " 'Jd Santa Isabel',\n",
       " 'Jd das Nações',\n",
       " 'Jd do Sol',\n",
       " 'Jd dos Lagos',\n",
       " 'Monjolinho',\n",
       " 'Monte Belo',\n",
       " 'Morada dos Nobres',\n",
       " 'Novo Horizonte',\n",
       " 'Pq Aeroporto',\n",
       " 'Pq Arco Iris',\n",
       " 'Pq Santo Antônio',\n",
       " 'Pq São Luis',\n",
       " 'Pq Tres Marias',\n",
       " 'Pq Três Marias',\n",
       " 'Pq Urupês',\n",
       " 'Quiririm',\n",
       " 'Recanto dos Coquerais',\n",
       " 'San Marino',\n",
       " 'Santa Helena',\n",
       " 'Santa Isabel',\n",
       " 'Santa Izabel',\n",
       " 'Santa Iês',\n",
       " 'Santa Tereza',\n",
       " 'Sitio Santo Antônio',\n",
       " 'São Gonçalo',\n",
       " 'Terra Nova',\n",
       " 'Vale das Flores',\n",
       " 'Vila Aparecida',\n",
       " 'Vila Bela',\n",
       " 'Vila Edmundo',\n",
       " 'Vila IAPI',\n",
       " 'Vila Marli',\n",
       " 'Vila Rica',\n",
       " 'Vila São Geraldo',\n",
       " 'Vila São José',\n",
       " 'Vila dos Comerciarios',\n",
       " 'Água Quente']"
      ]
     },
     "execution_count": 16,
     "metadata": {},
     "output_type": "execute_result"
    }
   ],
   "source": [
    "bairos"
   ]
  },
  {
   "cell_type": "code",
   "execution_count": null,
   "metadata": {},
   "outputs": [],
   "source": []
  },
  {
   "cell_type": "code",
   "execution_count": null,
   "metadata": {},
   "outputs": [],
   "source": []
  },
  {
   "cell_type": "code",
   "execution_count": null,
   "metadata": {},
   "outputs": [],
   "source": []
  },
  {
   "cell_type": "code",
   "execution_count": null,
   "metadata": {},
   "outputs": [],
   "source": []
  },
  {
   "cell_type": "code",
   "execution_count": null,
   "metadata": {},
   "outputs": [],
   "source": []
  },
  {
   "cell_type": "code",
   "execution_count": null,
   "metadata": {},
   "outputs": [],
   "source": []
  },
  {
   "cell_type": "code",
   "execution_count": null,
   "metadata": {},
   "outputs": [],
   "source": []
  },
  {
   "cell_type": "code",
   "execution_count": null,
   "metadata": {},
   "outputs": [],
   "source": []
  },
  {
   "cell_type": "code",
   "execution_count": null,
   "metadata": {},
   "outputs": [],
   "source": []
  },
  {
   "cell_type": "code",
   "execution_count": null,
   "metadata": {},
   "outputs": [],
   "source": []
  },
  {
   "cell_type": "code",
   "execution_count": null,
   "metadata": {},
   "outputs": [],
   "source": []
  },
  {
   "cell_type": "code",
   "execution_count": null,
   "metadata": {},
   "outputs": [],
   "source": []
  },
  {
   "cell_type": "code",
   "execution_count": null,
   "metadata": {},
   "outputs": [],
   "source": []
  },
  {
   "cell_type": "code",
   "execution_count": null,
   "metadata": {},
   "outputs": [],
   "source": []
  },
  {
   "cell_type": "code",
   "execution_count": null,
   "metadata": {},
   "outputs": [],
   "source": []
  },
  {
   "cell_type": "code",
   "execution_count": null,
   "metadata": {},
   "outputs": [],
   "source": []
  },
  {
   "cell_type": "code",
   "execution_count": null,
   "metadata": {},
   "outputs": [],
   "source": []
  },
  {
   "cell_type": "code",
   "execution_count": null,
   "metadata": {},
   "outputs": [],
   "source": []
  },
  {
   "cell_type": "code",
   "execution_count": null,
   "metadata": {},
   "outputs": [],
   "source": []
  },
  {
   "cell_type": "code",
   "execution_count": null,
   "metadata": {},
   "outputs": [],
   "source": []
  },
  {
   "cell_type": "code",
   "execution_count": null,
   "metadata": {},
   "outputs": [],
   "source": []
  },
  {
   "cell_type": "code",
   "execution_count": null,
   "metadata": {},
   "outputs": [],
   "source": []
  },
  {
   "cell_type": "code",
   "execution_count": null,
   "metadata": {},
   "outputs": [],
   "source": []
  },
  {
   "cell_type": "code",
   "execution_count": null,
   "metadata": {},
   "outputs": [],
   "source": []
  },
  {
   "cell_type": "code",
   "execution_count": null,
   "metadata": {},
   "outputs": [],
   "source": []
  },
  {
   "cell_type": "code",
   "execution_count": null,
   "metadata": {},
   "outputs": [],
   "source": []
  },
  {
   "cell_type": "code",
   "execution_count": null,
   "metadata": {},
   "outputs": [],
   "source": []
  },
  {
   "cell_type": "code",
   "execution_count": null,
   "metadata": {},
   "outputs": [],
   "source": []
  },
  {
   "cell_type": "code",
   "execution_count": null,
   "metadata": {},
   "outputs": [],
   "source": []
  },
  {
   "cell_type": "code",
   "execution_count": null,
   "metadata": {},
   "outputs": [],
   "source": []
  },
  {
   "cell_type": "code",
   "execution_count": null,
   "metadata": {},
   "outputs": [],
   "source": []
  },
  {
   "cell_type": "code",
   "execution_count": null,
   "metadata": {},
   "outputs": [],
   "source": []
  },
  {
   "cell_type": "code",
   "execution_count": null,
   "metadata": {},
   "outputs": [],
   "source": []
  },
  {
   "cell_type": "code",
   "execution_count": null,
   "metadata": {},
   "outputs": [],
   "source": []
  },
  {
   "cell_type": "code",
   "execution_count": null,
   "metadata": {},
   "outputs": [],
   "source": []
  },
  {
   "cell_type": "code",
   "execution_count": null,
   "metadata": {},
   "outputs": [],
   "source": []
  },
  {
   "cell_type": "code",
   "execution_count": null,
   "metadata": {},
   "outputs": [],
   "source": []
  },
  {
   "cell_type": "code",
   "execution_count": null,
   "metadata": {},
   "outputs": [],
   "source": []
  },
  {
   "cell_type": "code",
   "execution_count": null,
   "metadata": {},
   "outputs": [],
   "source": []
  },
  {
   "cell_type": "code",
   "execution_count": null,
   "metadata": {},
   "outputs": [],
   "source": []
  }
 ],
 "metadata": {
  "kernelspec": {
   "display_name": "Python 3",
   "language": "python",
   "name": "python3"
  },
  "language_info": {
   "codemirror_mode": {
    "name": "ipython",
    "version": 3
   },
   "file_extension": ".py",
   "mimetype": "text/x-python",
   "name": "python",
   "nbconvert_exporter": "python",
   "pygments_lexer": "ipython3",
   "version": "3.7.4"
  }
 },
 "nbformat": 4,
 "nbformat_minor": 4
}
