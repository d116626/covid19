{
 "cells": [
  {
   "cell_type": "code",
   "execution_count": 52,
   "metadata": {},
   "outputs": [],
   "source": [
    "%reload_ext autoreload\n",
    "%autoreload 2\n",
    "\n",
    "import warnings\n",
    "warnings.filterwarnings('ignore')\n",
    "\n",
    "import numpy as np\n",
    "import pandas as pd\n",
    "pd.options.display.max_columns = 999\n",
    "pd.options.display.max_rows = 999\n",
    "pd.options.display.max_colwidth = 100\n",
    "\n",
    "import geopandas as gpd\n",
    "\n",
    "import plotly.graph_objs as go\n",
    "from plotly.offline import download_plotlyjs, init_notebook_mode, plot, iplot, offline\n",
    "import plotly.express as px\n",
    "import seaborn as sns\n",
    "import matplotlib.pyplot as plt\n",
    "\n",
    "\n",
    "from os import listdir\n",
    "import unicodedata\n",
    "\n",
    "\n",
    "from paths import *\n",
    "# from scripts.vis_graphs import remove_acentos\n",
    "# from scripts.vis_graphs import normalize_cols\n",
    "from scripts.io import read_sheets\n",
    "from scripts import vis_maps\n",
    "from scripts import vis_taubate\n",
    "\n",
    "\n",
    "from datetime import datetime\n",
    "today = datetime.today().strftime('%Y-%m-%d')\n",
    "\n",
    "\n",
    "import yaml\n",
    "config = yaml.load(open('../configs/config_taubate.yaml', 'r') ,Loader = yaml.FullLoader)\n"
   ]
  },
  {
   "cell_type": "code",
   "execution_count": null,
   "metadata": {},
   "outputs": [],
   "source": []
  },
  {
   "cell_type": "markdown",
   "metadata": {},
   "source": [
    "## Load Data"
   ]
  },
  {
   "cell_type": "code",
   "execution_count": 53,
   "metadata": {},
   "outputs": [],
   "source": [
    "def padronize_bairros(df_cases):\n",
    "    \n",
    "    status_replace = {\n",
    "        'Em análise':'analise',\n",
    "        'Descartado':'descartado',\n",
    "        'Detectável novo Coronavírus (2019-nCoV)':'confirmado',\n",
    "        'Detectável novo Coronavírus (2019-nCoV) - Óbito':'obito',\n",
    "    }\n",
    "\n",
    "\n",
    "    df_cases['status'] = df_cases['status'].map(status_replace)\n",
    "    df_cases['idade'] = pd.to_numeric(df_cases['idade'], errors='coerce').fillna(1)\n",
    "    \n",
    "    \n",
    "    df_cases['bairro'] = df_cases['bairro'].str.replace('Jd ', 'Jardim ').str.replace('Pq ', 'Parque ').str.replace('Res. ', 'Residencial ')\n",
    "    rename_bairros = {\n",
    "        'Cecap 3' : 'Cecap',\n",
    "        'Cecap 4' : 'Cecap',\n",
    "        'Cecap 2' : 'Cecap',\n",
    "        'Chácara Hopólito' : 'Chácara Hipólito',\n",
    "        'Jardim do Lago' : 'Jardim dos Lagos',\n",
    "        'Parque Tres Marias' : 'Parque Três Marias',\n",
    "        'Vila dos Comerciarios' : 'Vila dos Comerciários',\n",
    "        'Vila dos Comerciários II' :'Vila dos Comerciários',\n",
    "        'Flamboyabt':'Barranco',\n",
    "        'Flamboyant':'Barranco',\n",
    "        'Técnico do Trabalho':'xxx',\n",
    "        'Jardim Mansur':'Jardim das Nações',\n",
    "        'Morador de rua':'Centro',\n",
    "        'Ana Emilía': 'Jardim Ana Emília',\n",
    "        'Jardim Mesquita':'Parque Aeroporto',\n",
    "        'Continental I':'Jardim Continental',\n",
    "        'Residencial Portal da Mantiqueira':'Portal da Mantiqueira',\n",
    "        'Residencial Colim':'Residencial Colinas',\n",
    "        'Comerciários':'Vila dos Comerciários',\n",
    "        'Residêncial Sítio Santo Antônio':'Residencial Sítio Santo Antônio',\n",
    "        'Residencial Paraiso':'Residêncial Paraiso',\n",
    "        'Santa Catatina':'Santa Catarina',\n",
    "        'Parque Piratininga':'Piratininga',\n",
    "        'Perpetuo Socorro':'Centro',\n",
    "        'Vila Santos':'Centro'\n",
    "        \n",
    "        \n",
    "        \n",
    "    }\n",
    "\n",
    "    df_cases['bairro'] = df_cases['bairro'].replace(rename_bairros)\n",
    "    \n",
    "    return df_cases\n",
    "\n"
   ]
  },
  {
   "cell_type": "code",
   "execution_count": 54,
   "metadata": {},
   "outputs": [
    {
     "data": {
      "text/plain": [
       "[]"
      ]
     },
     "execution_count": 54,
     "metadata": {},
     "output_type": "execute_result"
    }
   ],
   "source": [
    "## load cases table\n",
    "df_cases = read_sheets('covid19_taubate')\n",
    "\n",
    "##padronize bairros names\n",
    "df_cases = padronize_bairros(df_cases)\n",
    "bairos = list(np.sort(df_cases['bairro'].unique()))\n",
    "\n",
    "#load neighborhood lat lon\n",
    "df_bairos = read_sheets('covid19_taubate', 'bairros')\n",
    "bairos_latlon = df_bairos.bairro.tolist()\n",
    "\n",
    "#chek if all neighborhood had a lat lon\n",
    "compare_bairos = [bairo for bairo in bairos if bairo not in bairos_latlon]\n",
    "compare_bairos"
   ]
  },
  {
   "cell_type": "code",
   "execution_count": 55,
   "metadata": {},
   "outputs": [],
   "source": [
    "# bairos = df_cases[['bairro']].drop_duplicates()\n",
    "# bairos.merge(df_bairos, on='bairro', how='outer').sort_values(by='bairro').to_csv('bairros.csv', index=False)"
   ]
  },
  {
   "cell_type": "code",
   "execution_count": null,
   "metadata": {},
   "outputs": [],
   "source": []
  },
  {
   "cell_type": "code",
   "execution_count": 56,
   "metadata": {},
   "outputs": [],
   "source": [
    "df = df_cases.copy()\n",
    "mask = df['status'].isin(['analise','confirmado','obito','descartado'])\n",
    "df = df[mask]\n",
    "    \n",
    "## prepare data\n",
    "df = df.merge(df_bairos, on='bairro', how='left')\n",
    "\n",
    "mask = ((df['status']!='xxx') & (df['lat_lon']!='xxx'))\n",
    "df = df[mask]\n",
    "\n",
    "df['lat'] = df['lat_lon'].apply(lambda x: x.split(',')[0]).astype(float)\n",
    "df['lon'] = df['lat_lon'].apply(lambda x: x.split(',')[1]).astype(float)\n",
    "\n",
    "df['data'] = pd.to_datetime(df['data'], format = \"%d/%m/%Y\")"
   ]
  },
  {
   "cell_type": "markdown",
   "metadata": {},
   "source": [
    "## Map"
   ]
  },
  {
   "cell_type": "code",
   "execution_count": null,
   "metadata": {},
   "outputs": [],
   "source": [
    "\n",
    "import folium\n",
    "\n",
    "status_adjusts = {\n",
    "    'analise':{\n",
    "        'color':'#EF9B0F',             \n",
    "        'text':\"<b>Bairro:</b> {} <br> <br> <b>Casos em Análise:</b> {}\" ### nome do bairro e quantidade da metrica\n",
    "    },\n",
    "    'confirmado':{\n",
    "        'color':'red',             \n",
    "        'text':\"<b>Bairro:</b> {} <br> <br> <b>Casos Confirmados:</b> {}\"\n",
    "    },\n",
    "    'obito':{\n",
    "        'color':'black',             \n",
    "        'text':\"<b>Bairro:</b> {} <br> <br> <b>Óbitos:</b> {}\"\n",
    "    },\n",
    "    \n",
    "    'descartado':{\n",
    "        'color':'green',             \n",
    "        'text':\"<b>Bairro:</b> {} <br> <br> <b>Casos Descartados:</b> {}\"\n",
    "    },\n",
    "}\n",
    "\n",
    "config['taubate_map']\n",
    "\n",
    "# mask_descartados = ((df['status']!='descartado') & (df['bairro']=='Vila São José'))\n",
    "mask_descartados = ((df['status']!='descartado'))\n",
    "m = vis_taubate.get_map_taubate(df[mask_descartados], status_adjusts, config['taubate_map'], save=True)"
   ]
  },
  {
   "cell_type": "code",
   "execution_count": null,
   "metadata": {},
   "outputs": [],
   "source": [
    "m"
   ]
  },
  {
   "cell_type": "code",
   "execution_count": null,
   "metadata": {},
   "outputs": [],
   "source": [
    "# m.save('mapa_taubate.html')\n",
    "# m"
   ]
  },
  {
   "cell_type": "markdown",
   "metadata": {},
   "source": [
    "## Sex"
   ]
  },
  {
   "cell_type": "code",
   "execution_count": null,
   "metadata": {},
   "outputs": [],
   "source": [
    "confirmados = df.query(\"status=='confirmado' | status=='obito'\")\n",
    "confirmados['sexo'] = np.where(confirmados['sexo']=='', 'F' ,confirmados['sexo'])\n",
    "confirmados['sexo'] = confirmados['sexo'].str.replace('F','Feminino').str.replace('M','Masculino')"
   ]
  },
  {
   "cell_type": "code",
   "execution_count": null,
   "metadata": {},
   "outputs": [],
   "source": [
    "themes = yaml.load(open('../themes/themes_taubate.yaml', 'r') ,Loader = yaml.FullLoader)\n",
    "\n",
    "\n",
    "fig = vis_taubate.taubate_pie(confirmados, themes['taubate_pie'], config['taubate_sexo'], save=True)"
   ]
  },
  {
   "cell_type": "code",
   "execution_count": null,
   "metadata": {},
   "outputs": [],
   "source": [
    "print(len(confirmados))\n",
    "fig"
   ]
  },
  {
   "cell_type": "markdown",
   "metadata": {},
   "source": [
    "## Age"
   ]
  },
  {
   "cell_type": "code",
   "execution_count": null,
   "metadata": {},
   "outputs": [],
   "source": [
    "from scripts import io\n",
    "themes = yaml.load(open('../themes/themes_taubate.yaml', 'r') ,Loader = yaml.FullLoader)\n",
    "\n",
    "fig, idades= vis_taubate.taubate_faixas(confirmados, themes['taubate_faixas'], config['taubate_faixa_etaria'], save=True)"
   ]
  },
  {
   "cell_type": "code",
   "execution_count": null,
   "metadata": {},
   "outputs": [],
   "source": [
    "fig"
   ]
  },
  {
   "cell_type": "code",
   "execution_count": null,
   "metadata": {},
   "outputs": [],
   "source": []
  },
  {
   "cell_type": "markdown",
   "metadata": {},
   "source": [
    "## Evolution"
   ]
  },
  {
   "cell_type": "code",
   "execution_count": null,
   "metadata": {},
   "outputs": [],
   "source": [
    "tb_cases = read_sheets('covid19_taubate', 'evolucao')\n",
    "tb_cases['data'] = pd.to_datetime(tb_cases['data'], format = \"%d/%m/%Y\")\n",
    "tb_cases = tb_cases.sort_values(by='data', ascending=True)\n",
    "\n",
    "for col in tb_cases.columns[1:]:\n",
    "    tb_cases[col] = pd.to_numeric(tb_cases[col])\n",
    "    \n",
    "for col in ['analise','confirmado','descartado','obito','internado','em_analise']:\n",
    "   \n",
    "    tb_cases[f'{col}_day'] = tb_cases[col] - tb_cases[col].shift(1).fillna(0)\n",
    "    tb_cases[f'{col}_day'] = tb_cases[f'{col}_day'].astype(int)\n",
    "\n",
    "cols = ['data'] + np.sort(tb_cases.columns[1:]).tolist()\n",
    "tb_cases = tb_cases[cols]"
   ]
  },
  {
   "cell_type": "code",
   "execution_count": null,
   "metadata": {},
   "outputs": [],
   "source": [
    "from scripts import vis_taubate\n",
    "themes = yaml.load(open('../themes/themes_taubate.yaml', 'r') ,Loader = yaml.FullLoader)\n",
    "config = yaml.load(open('../configs/config_taubate.yaml', 'r') ,Loader = yaml.FullLoader)\n",
    "\n",
    "adjusts = {\n",
    "    'obito_day': {'nome':'Óbitos','cor':'black'    },\n",
    "    'confirmado_day': {'nome':'Confirmados','cor':'red'    },\n",
    "    'analise_day'   : {'nome':'Exames Colhidos' ,'cor':'#EF9B0F'},\n",
    "#     'descartado_day': {'nome':'Descartados','cor':'green'  },\n",
    "\n",
    "}\n",
    "\n",
    "fig = vis_taubate.taubate_daily(tb_cases,themes['taubate'], adjusts, config['taubate_daily'],save=True)"
   ]
  },
  {
   "cell_type": "code",
   "execution_count": null,
   "metadata": {},
   "outputs": [],
   "source": [
    "fig"
   ]
  },
  {
   "cell_type": "code",
   "execution_count": null,
   "metadata": {},
   "outputs": [],
   "source": []
  },
  {
   "cell_type": "code",
   "execution_count": null,
   "metadata": {},
   "outputs": [],
   "source": [
    "from scripts import vis_layout\n",
    "from scripts import vis_taubate\n",
    "\n",
    "themes = yaml.load(open('../themes/themes_taubate.yaml', 'r') ,Loader = yaml.FullLoader)\n",
    "config = yaml.load(open('../configs/config_taubate.yaml', 'r') ,Loader = yaml.FullLoader)\n",
    "\n",
    "adjusts = {\n",
    "    'obito'     : {'nome':'Óbitos',          'cor':'black',   'visible':True},\n",
    "    'confirmado': {'nome':'Confirmados',     'cor':'red'    , 'visible':True},\n",
    "    'internado' : {'nome':'Internados',       'cor':'purple'  ,'visible':True},\n",
    "#     'analise'   : {'nome':'Exames Colhidos' ,'cor':'#EF9B0F', 'visible':'legendonly'},\n",
    "}\n",
    "\n",
    "fig = vis_taubate.taubate_cum(tb_cases,\n",
    "                              themes['taubate'], adjusts, config['taubate_cumulative'],save=True)"
   ]
  },
  {
   "cell_type": "code",
   "execution_count": null,
   "metadata": {},
   "outputs": [],
   "source": [
    "fig"
   ]
  },
  {
   "cell_type": "code",
   "execution_count": null,
   "metadata": {},
   "outputs": [],
   "source": []
  },
  {
   "cell_type": "code",
   "execution_count": null,
   "metadata": {},
   "outputs": [],
   "source": [
    "from scripts import vis_taubate"
   ]
  },
  {
   "cell_type": "code",
   "execution_count": null,
   "metadata": {},
   "outputs": [],
   "source": [
    "config = yaml.load(open('../configs/config_taubate.yaml', 'r') ,Loader = yaml.FullLoader)\n",
    "vis_taubate.taubate_update_html(tb_cases, config['embed_html'], save=True)"
   ]
  },
  {
   "cell_type": "code",
   "execution_count": null,
   "metadata": {},
   "outputs": [],
   "source": []
  },
  {
   "cell_type": "code",
   "execution_count": null,
   "metadata": {},
   "outputs": [],
   "source": []
  },
  {
   "cell_type": "code",
   "execution_count": null,
   "metadata": {},
   "outputs": [],
   "source": []
  },
  {
   "cell_type": "code",
   "execution_count": null,
   "metadata": {},
   "outputs": [],
   "source": []
  },
  {
   "cell_type": "code",
   "execution_count": null,
   "metadata": {},
   "outputs": [],
   "source": []
  },
  {
   "cell_type": "code",
   "execution_count": null,
   "metadata": {},
   "outputs": [],
   "source": []
  },
  {
   "cell_type": "code",
   "execution_count": null,
   "metadata": {},
   "outputs": [],
   "source": [
    "#https://pypi.org/project/ftpretty/\n",
    "from ftpretty import ftpretty\n",
    "import ftplib\n",
    "import yaml\n",
    "import os\n",
    "config = yaml.load(open('../../credentials/ftp_credentials.yaml', 'r'), Loader=yaml.FullLoader)\n"
   ]
  },
  {
   "cell_type": "code",
   "execution_count": null,
   "metadata": {},
   "outputs": [],
   "source": [
    "host = config['ftp']['host']\n",
    "user = config['ftp']['user']\n",
    "pw   = config['ftp']['pw']\n",
    "\n",
    "f = ftpretty(host, user, pw)"
   ]
  },
  {
   "cell_type": "markdown",
   "metadata": {},
   "source": [
    "### Upload taubate site"
   ]
  },
  {
   "cell_type": "code",
   "execution_count": null,
   "metadata": {},
   "outputs": [],
   "source": [
    "%%time\n",
    "local_folder  = '../site/sv_taubate/coronataubate'\n",
    "remote_folder = 'public_html/coronataubate'\n",
    "\n",
    "f.upload_tree(local_folder, remote_folder)"
   ]
  },
  {
   "cell_type": "code",
   "execution_count": null,
   "metadata": {},
   "outputs": [],
   "source": []
  },
  {
   "cell_type": "code",
   "execution_count": null,
   "metadata": {},
   "outputs": [],
   "source": []
  },
  {
   "cell_type": "code",
   "execution_count": null,
   "metadata": {},
   "outputs": [],
   "source": []
  },
  {
   "cell_type": "code",
   "execution_count": null,
   "metadata": {},
   "outputs": [],
   "source": []
  },
  {
   "cell_type": "code",
   "execution_count": null,
   "metadata": {},
   "outputs": [],
   "source": []
  },
  {
   "cell_type": "code",
   "execution_count": null,
   "metadata": {},
   "outputs": [],
   "source": []
  },
  {
   "cell_type": "code",
   "execution_count": null,
   "metadata": {},
   "outputs": [],
   "source": []
  },
  {
   "cell_type": "code",
   "execution_count": null,
   "metadata": {},
   "outputs": [],
   "source": []
  },
  {
   "cell_type": "code",
   "execution_count": null,
   "metadata": {},
   "outputs": [],
   "source": []
  },
  {
   "cell_type": "code",
   "execution_count": null,
   "metadata": {},
   "outputs": [],
   "source": []
  },
  {
   "cell_type": "code",
   "execution_count": null,
   "metadata": {},
   "outputs": [],
   "source": []
  }
 ],
 "metadata": {
  "kernelspec": {
   "display_name": "Python 3",
   "language": "python",
   "name": "python3"
  },
  "language_info": {
   "codemirror_mode": {
    "name": "ipython",
    "version": 3
   },
   "file_extension": ".py",
   "mimetype": "text/x-python",
   "name": "python",
   "nbconvert_exporter": "python",
   "pygments_lexer": "ipython3",
   "version": "3.7.6"
  }
 },
 "nbformat": 4,
 "nbformat_minor": 4
}
