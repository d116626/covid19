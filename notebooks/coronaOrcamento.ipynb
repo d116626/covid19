{
 "cells": [
  {
   "cell_type": "code",
   "execution_count": 1,
   "metadata": {},
   "outputs": [],
   "source": [
    "import pandas as pd\n",
    "import numpy as np\n",
    "\n",
    "\n",
    "pd.set_option('display.max_rows', 999)\n",
    "import warnings\n",
    "warnings.filterwarnings('ignore')\n",
    "\n",
    "from tabula import read_pdf\n",
    "import camelot"
   ]
  },
  {
   "cell_type": "code",
   "execution_count": 11,
   "metadata": {},
   "outputs": [],
   "source": [
    "dd = camelot.read_pdf('../data/orcamento/rel_compras-covid19_publicacao_2v.pdf', pages='1-13',kind='grid')"
   ]
  },
  {
   "cell_type": "code",
   "execution_count": 29,
   "metadata": {},
   "outputs": [],
   "source": [
    "df = pd.DataFrame()\n",
    "\n",
    "for i in range(len(dd)):\n",
    "    df = pd.concat([df,dd[i].df], axis=0)\n",
    "    \n",
    "df = df.reset_index(drop=True)"
   ]
  },
  {
   "cell_type": "code",
   "execution_count": 30,
   "metadata": {},
   "outputs": [],
   "source": [
    "df.columns = df.iloc[0]"
   ]
  },
  {
   "cell_type": "code",
   "execution_count": 31,
   "metadata": {},
   "outputs": [],
   "source": [
    "df = df[df['Descrição']!='Descrição']"
   ]
  },
  {
   "cell_type": "code",
   "execution_count": 37,
   "metadata": {},
   "outputs": [],
   "source": [
    "df['Valor Total'] = df['Valor Total'].apply(lambda x: x.replace('R$','').replace('\\n','').strip().replace('.','').replace(',','.')).astype(float)"
   ]
  },
  {
   "cell_type": "code",
   "execution_count": 39,
   "metadata": {},
   "outputs": [
    {
     "data": {
      "text/plain": [
       "180012990.38"
      ]
     },
     "execution_count": 39,
     "metadata": {},
     "output_type": "execute_result"
    }
   ],
   "source": [
    "df['Valor Total'].sum()"
   ]
  },
  {
   "cell_type": "code",
   "execution_count": 54,
   "metadata": {},
   "outputs": [],
   "source": [
    "df.to_excel('../data/orcamento/rel_compras-covid19_publicacao_2v.xlsx', index=False)"
   ]
  },
  {
   "cell_type": "code",
   "execution_count": null,
   "metadata": {},
   "outputs": [],
   "source": []
  },
  {
   "cell_type": "code",
   "execution_count": 53,
   "metadata": {},
   "outputs": [],
   "source": [
    "dd = df.groupby(by=['Fornecedor','CNPJ'], as_index=False).sum().sort_values(by='Valor Total', ascending=False).reset_index(drop=True)\n",
    "\n",
    "dd.to_excel('../data/orcamento/rel_compras-covid19_fornecedores.xlsx', index=False)"
   ]
  },
  {
   "cell_type": "code",
   "execution_count": 55,
   "metadata": {},
   "outputs": [
    {
     "data": {
      "text/html": [
       "<div>\n",
       "<style scoped>\n",
       "    .dataframe tbody tr th:only-of-type {\n",
       "        vertical-align: middle;\n",
       "    }\n",
       "\n",
       "    .dataframe tbody tr th {\n",
       "        vertical-align: top;\n",
       "    }\n",
       "\n",
       "    .dataframe thead th {\n",
       "        text-align: right;\n",
       "    }\n",
       "</style>\n",
       "<table border=\"1\" class=\"dataframe\">\n",
       "  <thead>\n",
       "    <tr style=\"text-align: right;\">\n",
       "      <th></th>\n",
       "      <th>Fornecedor</th>\n",
       "      <th>CNPJ</th>\n",
       "      <th>Valor Total</th>\n",
       "    </tr>\n",
       "  </thead>\n",
       "  <tbody>\n",
       "    <tr>\n",
       "      <th>0</th>\n",
       "      <td>ILLEC INTERNATIONAL LIMITED - BRASIL</td>\n",
       "      <td>84.451.012/0001-22</td>\n",
       "      <td>84916556.17</td>\n",
       "    </tr>\n",
       "    <tr>\n",
       "      <th>1</th>\n",
       "      <td>PS DISTRIBUIDORA DE PRODUTOS DA SAUDE LTD</td>\n",
       "      <td>08.304.991/0001-08</td>\n",
       "      <td>21592014.00</td>\n",
       "    </tr>\n",
       "    <tr>\n",
       "      <th>2</th>\n",
       "      <td>DEJAMARO IND E COM DE PROD MED HOSP LTDA</td>\n",
       "      <td>27.608.037/0001-53</td>\n",
       "      <td>12160000.00</td>\n",
       "    </tr>\n",
       "    <tr>\n",
       "      <th>3</th>\n",
       "      <td>TECNO 4 PRODUTOS HOSPITALARES LTDA. EPP</td>\n",
       "      <td>04.124.669/0001-46</td>\n",
       "      <td>11045000.00</td>\n",
       "    </tr>\n",
       "    <tr>\n",
       "      <th>4</th>\n",
       "      <td>CIR.FERNANDES COM.MAT.CIR.E HOS.SOCIED.LT</td>\n",
       "      <td>61.418.042/0001-31</td>\n",
       "      <td>9823440.97</td>\n",
       "    </tr>\n",
       "    <tr>\n",
       "      <th>5</th>\n",
       "      <td>3M DO BRASIL LTDA</td>\n",
       "      <td>45.985.371/0001-08</td>\n",
       "      <td>7719990.40</td>\n",
       "    </tr>\n",
       "    <tr>\n",
       "      <th>6</th>\n",
       "      <td>CIRURGICA KD LTDA</td>\n",
       "      <td>09.260.071/0001-06</td>\n",
       "      <td>6562600.00</td>\n",
       "    </tr>\n",
       "    <tr>\n",
       "      <th>7</th>\n",
       "      <td>COMPREHENSE DO BRASIL EQUIPAMENTOS MEDICO-HOSP...</td>\n",
       "      <td>08.441.389/0001-12</td>\n",
       "      <td>6224308.62</td>\n",
       "    </tr>\n",
       "    <tr>\n",
       "      <th>8</th>\n",
       "      <td>POLAR FIX IND E COM.PROD.HOSPITALARES LTD</td>\n",
       "      <td>02.881.877/0001-64</td>\n",
       "      <td>4992000.00</td>\n",
       "    </tr>\n",
       "    <tr>\n",
       "      <th>9</th>\n",
       "      <td>SOCIEDADE BENEFICIENTE ISRAELITA ALB EINSTEN</td>\n",
       "      <td>60.765.823/0001-30</td>\n",
       "      <td>3700000.00</td>\n",
       "    </tr>\n",
       "    <tr>\n",
       "      <th>10</th>\n",
       "      <td>HANNOVER PLASTICOS S.A.</td>\n",
       "      <td>04.626.152/0001-55</td>\n",
       "      <td>1600000.00</td>\n",
       "    </tr>\n",
       "    <tr>\n",
       "      <th>11</th>\n",
       "      <td>MEDI-SAUDE PROD MEDICO HOSP LTDA-ME</td>\n",
       "      <td>02.563.570/0001-15</td>\n",
       "      <td>1526400.00</td>\n",
       "    </tr>\n",
       "    <tr>\n",
       "      <th>12</th>\n",
       "      <td>HOSPIMETAL IND METALURGICA EQUI</td>\n",
       "      <td>54.178.983/0001-80</td>\n",
       "      <td>1380000.00</td>\n",
       "    </tr>\n",
       "    <tr>\n",
       "      <th>13</th>\n",
       "      <td>COMERCIAL 3 ALBE LTDA.</td>\n",
       "      <td>74.400.052/0001-91</td>\n",
       "      <td>1243500.00</td>\n",
       "    </tr>\n",
       "    <tr>\n",
       "      <th>14</th>\n",
       "      <td>ALFA MED SISTEMAS MÉDICOS LTDA.</td>\n",
       "      <td>11.405.384/0001-49</td>\n",
       "      <td>1104287.50</td>\n",
       "    </tr>\n",
       "    <tr>\n",
       "      <th>15</th>\n",
       "      <td>BREMEM COMERCIO E SERVIÇOS LTDA-ME</td>\n",
       "      <td>03.137.410/0001-77</td>\n",
       "      <td>1047000.00</td>\n",
       "    </tr>\n",
       "    <tr>\n",
       "      <th>16</th>\n",
       "      <td>POLIFILME INDÚSTRIA E COMÉRCIO DE EMBALAGENS L...</td>\n",
       "      <td>03.644.345/0001-76</td>\n",
       "      <td>1007738.40</td>\n",
       "    </tr>\n",
       "    <tr>\n",
       "      <th>17</th>\n",
       "      <td>COMERCIAL 3 ALBE LTDA</td>\n",
       "      <td>74.400.052/0001-91</td>\n",
       "      <td>700800.00</td>\n",
       "    </tr>\n",
       "    <tr>\n",
       "      <th>18</th>\n",
       "      <td>BIO PACE COMERCIAL MÉDICA LTDA.</td>\n",
       "      <td>03.231.857/0001-00</td>\n",
       "      <td>577500.00</td>\n",
       "    </tr>\n",
       "    <tr>\n",
       "      <th>19</th>\n",
       "      <td>CONSTRUMEX CONSTRUÇÃO LTDA</td>\n",
       "      <td>05.411.043/0001-83</td>\n",
       "      <td>308200.00</td>\n",
       "    </tr>\n",
       "    <tr>\n",
       "      <th>20</th>\n",
       "      <td>VENDAP LOCAÇÃO DE EQUIPAMENTOS LTDA.</td>\n",
       "      <td>14.721.504/0001-05</td>\n",
       "      <td>256561.26</td>\n",
       "    </tr>\n",
       "    <tr>\n",
       "      <th>21</th>\n",
       "      <td>DVT COMERCIO,IMPORTAÇÃO E EXPORTAÇÃO LTDA</td>\n",
       "      <td>07.439.329/0003-64</td>\n",
       "      <td>218358.57</td>\n",
       "    </tr>\n",
       "    <tr>\n",
       "      <th>22</th>\n",
       "      <td>MOLNNLYCKE HEALTH CARE VENDA DE PRODUTOS MÉDIC...</td>\n",
       "      <td>12.600.168/0001-17</td>\n",
       "      <td>145800.00</td>\n",
       "    </tr>\n",
       "    <tr>\n",
       "      <th>23</th>\n",
       "      <td>QUALIFY COMERCIO DISTRIBUICAO E SERVICOS - EIRELI</td>\n",
       "      <td>31.543.766/0001-46</td>\n",
       "      <td>72150.00</td>\n",
       "    </tr>\n",
       "    <tr>\n",
       "      <th>24</th>\n",
       "      <td>KT EPI COM. DE PROD. DE PROT. INDIVIDUAL E IND...</td>\n",
       "      <td>34.094.860/0001-53</td>\n",
       "      <td>57800.00</td>\n",
       "    </tr>\n",
       "    <tr>\n",
       "      <th>25</th>\n",
       "      <td>PERFORMANCE SPECIALTY P BRASIL S C P EL PROT S...</td>\n",
       "      <td>26.370.747/0001-25</td>\n",
       "      <td>19484.49</td>\n",
       "    </tr>\n",
       "    <tr>\n",
       "      <th>26</th>\n",
       "      <td>ACCUMED PRODUTOS MEDICOS HOSPITALARES</td>\n",
       "      <td>06.105.362/0001-23</td>\n",
       "      <td>11500.00</td>\n",
       "    </tr>\n",
       "  </tbody>\n",
       "</table>\n",
       "</div>"
      ],
      "text/plain": [
       "0                                          Fornecedor                CNPJ  \\\n",
       "0                ILLEC INTERNATIONAL LIMITED - BRASIL  84.451.012/0001-22   \n",
       "1           PS DISTRIBUIDORA DE PRODUTOS DA SAUDE LTD  08.304.991/0001-08   \n",
       "2            DEJAMARO IND E COM DE PROD MED HOSP LTDA  27.608.037/0001-53   \n",
       "3             TECNO 4 PRODUTOS HOSPITALARES LTDA. EPP  04.124.669/0001-46   \n",
       "4           CIR.FERNANDES COM.MAT.CIR.E HOS.SOCIED.LT  61.418.042/0001-31   \n",
       "5                                   3M DO BRASIL LTDA  45.985.371/0001-08   \n",
       "6                                   CIRURGICA KD LTDA  09.260.071/0001-06   \n",
       "7   COMPREHENSE DO BRASIL EQUIPAMENTOS MEDICO-HOSP...  08.441.389/0001-12   \n",
       "8           POLAR FIX IND E COM.PROD.HOSPITALARES LTD  02.881.877/0001-64   \n",
       "9        SOCIEDADE BENEFICIENTE ISRAELITA ALB EINSTEN  60.765.823/0001-30   \n",
       "10                            HANNOVER PLASTICOS S.A.  04.626.152/0001-55   \n",
       "11                MEDI-SAUDE PROD MEDICO HOSP LTDA-ME  02.563.570/0001-15   \n",
       "12                    HOSPIMETAL IND METALURGICA EQUI  54.178.983/0001-80   \n",
       "13                             COMERCIAL 3 ALBE LTDA.  74.400.052/0001-91   \n",
       "14                    ALFA MED SISTEMAS MÉDICOS LTDA.  11.405.384/0001-49   \n",
       "15                 BREMEM COMERCIO E SERVIÇOS LTDA-ME  03.137.410/0001-77   \n",
       "16  POLIFILME INDÚSTRIA E COMÉRCIO DE EMBALAGENS L...  03.644.345/0001-76   \n",
       "17                              COMERCIAL 3 ALBE LTDA  74.400.052/0001-91   \n",
       "18                    BIO PACE COMERCIAL MÉDICA LTDA.  03.231.857/0001-00   \n",
       "19                         CONSTRUMEX CONSTRUÇÃO LTDA  05.411.043/0001-83   \n",
       "20               VENDAP LOCAÇÃO DE EQUIPAMENTOS LTDA.  14.721.504/0001-05   \n",
       "21          DVT COMERCIO,IMPORTAÇÃO E EXPORTAÇÃO LTDA  07.439.329/0003-64   \n",
       "22  MOLNNLYCKE HEALTH CARE VENDA DE PRODUTOS MÉDIC...  12.600.168/0001-17   \n",
       "23  QUALIFY COMERCIO DISTRIBUICAO E SERVICOS - EIRELI  31.543.766/0001-46   \n",
       "24  KT EPI COM. DE PROD. DE PROT. INDIVIDUAL E IND...  34.094.860/0001-53   \n",
       "25  PERFORMANCE SPECIALTY P BRASIL S C P EL PROT S...  26.370.747/0001-25   \n",
       "26              ACCUMED PRODUTOS MEDICOS HOSPITALARES  06.105.362/0001-23   \n",
       "\n",
       "0   Valor Total  \n",
       "0   84916556.17  \n",
       "1   21592014.00  \n",
       "2   12160000.00  \n",
       "3   11045000.00  \n",
       "4    9823440.97  \n",
       "5    7719990.40  \n",
       "6    6562600.00  \n",
       "7    6224308.62  \n",
       "8    4992000.00  \n",
       "9    3700000.00  \n",
       "10   1600000.00  \n",
       "11   1526400.00  \n",
       "12   1380000.00  \n",
       "13   1243500.00  \n",
       "14   1104287.50  \n",
       "15   1047000.00  \n",
       "16   1007738.40  \n",
       "17    700800.00  \n",
       "18    577500.00  \n",
       "19    308200.00  \n",
       "20    256561.26  \n",
       "21    218358.57  \n",
       "22    145800.00  \n",
       "23     72150.00  \n",
       "24     57800.00  \n",
       "25     19484.49  \n",
       "26     11500.00  "
      ]
     },
     "execution_count": 55,
     "metadata": {},
     "output_type": "execute_result"
    }
   ],
   "source": [
    "dd"
   ]
  },
  {
   "cell_type": "code",
   "execution_count": null,
   "metadata": {},
   "outputs": [],
   "source": []
  },
  {
   "cell_type": "code",
   "execution_count": null,
   "metadata": {},
   "outputs": [],
   "source": []
  },
  {
   "cell_type": "code",
   "execution_count": null,
   "metadata": {},
   "outputs": [],
   "source": []
  },
  {
   "cell_type": "code",
   "execution_count": null,
   "metadata": {},
   "outputs": [],
   "source": []
  },
  {
   "cell_type": "code",
   "execution_count": null,
   "metadata": {},
   "outputs": [],
   "source": []
  },
  {
   "cell_type": "code",
   "execution_count": null,
   "metadata": {},
   "outputs": [],
   "source": []
  },
  {
   "cell_type": "code",
   "execution_count": null,
   "metadata": {},
   "outputs": [],
   "source": []
  },
  {
   "cell_type": "code",
   "execution_count": null,
   "metadata": {},
   "outputs": [],
   "source": []
  },
  {
   "cell_type": "code",
   "execution_count": null,
   "metadata": {},
   "outputs": [],
   "source": []
  },
  {
   "cell_type": "code",
   "execution_count": null,
   "metadata": {},
   "outputs": [],
   "source": []
  },
  {
   "cell_type": "code",
   "execution_count": null,
   "metadata": {},
   "outputs": [],
   "source": []
  },
  {
   "cell_type": "code",
   "execution_count": null,
   "metadata": {},
   "outputs": [],
   "source": []
  },
  {
   "cell_type": "code",
   "execution_count": null,
   "metadata": {},
   "outputs": [],
   "source": []
  },
  {
   "cell_type": "code",
   "execution_count": null,
   "metadata": {},
   "outputs": [],
   "source": []
  },
  {
   "cell_type": "code",
   "execution_count": null,
   "metadata": {},
   "outputs": [],
   "source": []
  },
  {
   "cell_type": "code",
   "execution_count": null,
   "metadata": {},
   "outputs": [],
   "source": []
  },
  {
   "cell_type": "code",
   "execution_count": null,
   "metadata": {},
   "outputs": [],
   "source": []
  }
 ],
 "metadata": {
  "kernelspec": {
   "display_name": "Python 3",
   "language": "python",
   "name": "python3"
  },
  "language_info": {
   "codemirror_mode": {
    "name": "ipython",
    "version": 3
   },
   "file_extension": ".py",
   "mimetype": "text/x-python",
   "name": "python",
   "nbconvert_exporter": "python",
   "pygments_lexer": "ipython3",
   "version": "3.7.4"
  }
 },
 "nbformat": 4,
 "nbformat_minor": 4
}
