{
 "cells": [
  {
   "cell_type": "code",
   "execution_count": 1,
   "metadata": {},
   "outputs": [],
   "source": [
    "import pandas as pd\n",
    "import numpy as np\n",
    "\n",
    "\n",
    "pd.options.display.max_columns = 999\n",
    "pd.options.display.max_rows = 999\n",
    "pd.options.display.max_colwidth = 100\n",
    "import warnings\n",
    "warnings.filterwarnings('ignore')\n",
    "\n",
    "from tabula import read_pdf\n",
    "import camelot\n",
    "\n",
    "import os"
   ]
  },
  {
   "cell_type": "markdown",
   "metadata": {},
   "source": [
    "## Source\n",
    " - [Boletim](http://www.saude.sp.gov.br/ses/perfil/cidadao/homepage/outros-destaques/covid-19-plano-de-contingencia-boletins-diarios-e-outras-informacoes.)\n"
   ]
  },
  {
   "cell_type": "code",
   "execution_count": 27,
   "metadata": {},
   "outputs": [],
   "source": [
    "from selenium import webdriver\n",
    "from selenium.webdriver.support.ui import Select\n",
    "import time\n",
    "from os import listdir\n"
   ]
  },
  {
   "cell_type": "code",
   "execution_count": 49,
   "metadata": {},
   "outputs": [],
   "source": []
  },
  {
   "cell_type": "code",
   "execution_count": 50,
   "metadata": {},
   "outputs": [
    {
     "data": {
      "text/plain": [
       "[]"
      ]
     },
     "execution_count": 50,
     "metadata": {},
     "output_type": "execute_result"
    }
   ],
   "source": [
    "download_button"
   ]
  },
  {
   "cell_type": "code",
   "execution_count": null,
   "metadata": {},
   "outputs": [],
   "source": []
  },
  {
   "cell_type": "code",
   "execution_count": null,
   "metadata": {},
   "outputs": [],
   "source": []
  },
  {
   "cell_type": "code",
   "execution_count": null,
   "metadata": {},
   "outputs": [],
   "source": []
  },
  {
   "cell_type": "code",
   "execution_count": null,
   "metadata": {},
   "outputs": [],
   "source": []
  },
  {
   "cell_type": "code",
   "execution_count": null,
   "metadata": {},
   "outputs": [],
   "source": []
  },
  {
   "cell_type": "code",
   "execution_count": null,
   "metadata": {},
   "outputs": [],
   "source": [
    "\n"
   ]
  },
  {
   "cell_type": "code",
   "execution_count": null,
   "metadata": {},
   "outputs": [],
   "source": []
  },
  {
   "cell_type": "code",
   "execution_count": null,
   "metadata": {},
   "outputs": [],
   "source": []
  },
  {
   "cell_type": "code",
   "execution_count": null,
   "metadata": {},
   "outputs": [],
   "source": []
  },
  {
   "cell_type": "code",
   "execution_count": null,
   "metadata": {},
   "outputs": [],
   "source": []
  },
  {
   "cell_type": "code",
   "execution_count": null,
   "metadata": {},
   "outputs": [],
   "source": []
  },
  {
   "cell_type": "code",
   "execution_count": null,
   "metadata": {},
   "outputs": [],
   "source": []
  },
  {
   "cell_type": "markdown",
   "metadata": {},
   "source": [
    "## Source\n",
    " - [Boletim](http://www.saude.sp.gov.br/ses/perfil/cidadao/homepage/outros-destaques/covid-19-plano-de-contingencia-boletins-diarios-e-outras-informacoes.)\n"
   ]
  },
  {
   "cell_type": "code",
   "execution_count": 87,
   "metadata": {},
   "outputs": [],
   "source": [
    "file_name = \"Relação-de-Compras-COVID19_completa_2804\"\n",
    "\n",
    "dd = camelot.read_pdf(f'../data/orcamento/pdf/{file_name}.pdf', pages='all')"
   ]
  },
  {
   "cell_type": "code",
   "execution_count": 88,
   "metadata": {},
   "outputs": [],
   "source": [
    "df = pd.DataFrame()\n",
    "\n",
    "for i in range(len(dd)):\n",
    "    df = pd.concat([df,dd[i].df], axis=0)\n",
    "    \n",
    "df = df.reset_index(drop=True)"
   ]
  },
  {
   "cell_type": "code",
   "execution_count": 89,
   "metadata": {},
   "outputs": [],
   "source": [
    "cols = ['orgao','descricao','valor','n_processo','cnpj','fornecedor','vigencia']\n",
    "df.columns = cols\n",
    "df = df[df['descricao']!='']\n",
    "df['valor'] = df['valor'].apply(lambda x: x.replace('R$','').replace('\\n','').strip().replace('.','').replace(',','.')).astype(float)\n",
    "df['orgao'] = df['orgao'].apply(lambda x: x.replace('\\n','').strip())\n",
    "\n",
    "\n",
    "\n",
    "df['last_update'] = '2020-04-28'"
   ]
  },
  {
   "cell_type": "code",
   "execution_count": 92,
   "metadata": {},
   "outputs": [
    {
     "name": "stdout",
     "output_type": "stream",
     "text": [
      "912767442.4499998\n",
      "140 \n",
      "\n"
     ]
    }
   ],
   "source": [
    "print(df['valor'].sum())\n",
    "print(len(df),\"\\n\")"
   ]
  },
  {
   "cell_type": "code",
   "execution_count": 93,
   "metadata": {},
   "outputs": [],
   "source": [
    "df.to_csv(f'../data/orcamento/csv/{file_name}.csv', index=False)\n",
    "df.to_excel(f'../data/orcamento/csv/{file_name}.xlsx', index=False)"
   ]
  },
  {
   "cell_type": "code",
   "execution_count": null,
   "metadata": {},
   "outputs": [],
   "source": []
  },
  {
   "cell_type": "code",
   "execution_count": null,
   "metadata": {},
   "outputs": [],
   "source": []
  },
  {
   "cell_type": "code",
   "execution_count": null,
   "metadata": {},
   "outputs": [],
   "source": []
  },
  {
   "cell_type": "code",
   "execution_count": null,
   "metadata": {},
   "outputs": [],
   "source": []
  },
  {
   "cell_type": "markdown",
   "metadata": {},
   "source": [
    "# Data processing"
   ]
  },
  {
   "cell_type": "code",
   "execution_count": 141,
   "metadata": {},
   "outputs": [
    {
     "name": "stdout",
     "output_type": "stream",
     "text": [
      "rel_compras-covid19_publicacao_3v.csv\n",
      "309661423.25\n",
      "107 \n",
      "\n"
     ]
    }
   ],
   "source": [
    "#Merge all files\n",
    "path = '../data/orcamento/csv/'\n",
    "files = os.listdir(path)\n",
    "\n",
    "df_final = pd.read_csv(f\"{path}{files[0]}\")\n",
    "data = max(df_final['last_update'])\n",
    "df_final[f'valor_{data}'] = df_final['Valor Total']\n",
    "rename_cols = {'Descrição':f'Descrição_{data}',\n",
    "               'Vigência (180 dias)':f'Vigência (180 dias)_{data}'} \n",
    "df_final = df_final.rename(columns=rename_cols)\n",
    "\n",
    "for file in files[1:]:\n",
    "    dff = pd.read_csv(f\"{path}{file}\")\n",
    "    print(file)\n",
    "    print(dff['Valor Total'].sum())\n",
    "    print(len(dff),\"\\n\")\n",
    "    \n",
    "    data = max(dff['last_update'])\n",
    "    \n",
    "    dff[f'valor_{data}'] = dff['Valor Total']\n",
    "    rename_cols = {'Descrição':f'Descrição_{data}',\n",
    "               'Vigência (180 dias)':f'Vigência (180 dias)_{data}'} \n",
    "    dff = dff.rename(columns=rename_cols)\n",
    "\n",
    "    \n",
    "    \n"
   ]
  },
  {
   "cell_type": "code",
   "execution_count": 142,
   "metadata": {},
   "outputs": [],
   "source": [
    "df_final = pd.merge(df_final, dff, on=['Valor Total','Nº Processo (SES-PRC)','CNPJ'], how='outer')\n"
   ]
  },
  {
   "cell_type": "code",
   "execution_count": 143,
   "metadata": {},
   "outputs": [
    {
     "data": {
      "text/plain": [
       "332681090.38"
      ]
     },
     "execution_count": 143,
     "metadata": {},
     "output_type": "execute_result"
    }
   ],
   "source": [
    "df_final['Valor Total'].sum()"
   ]
  },
  {
   "cell_type": "code",
   "execution_count": 2,
   "metadata": {},
   "outputs": [],
   "source": [
    "# df_final"
   ]
  },
  {
   "cell_type": "code",
   "execution_count": null,
   "metadata": {},
   "outputs": [],
   "source": []
  },
  {
   "cell_type": "code",
   "execution_count": 98,
   "metadata": {},
   "outputs": [],
   "source": [
    "cols = ['Descrição','Valor Total', 'Nº Processo (SES-PRC)', 'CNPJ']\n",
    "\n",
    "\n",
    "df_final = df_final.drop_duplicates(subset=cols, keep='first')"
   ]
  },
  {
   "cell_type": "code",
   "execution_count": 99,
   "metadata": {},
   "outputs": [
    {
     "name": "stdout",
     "output_type": "stream",
     "text": [
      "485974413.63\n",
      "208 \n",
      "\n"
     ]
    }
   ],
   "source": [
    "print(df_final['Valor Total'].sum())\n",
    "print(len(df_final),\"\\n\")"
   ]
  },
  {
   "cell_type": "code",
   "execution_count": 107,
   "metadata": {},
   "outputs": [],
   "source": [
    "df_final.sort_values(by='Valor Total').to_excel('lici.xlsx', index=False)"
   ]
  },
  {
   "cell_type": "code",
   "execution_count": null,
   "metadata": {},
   "outputs": [],
   "source": []
  },
  {
   "cell_type": "code",
   "execution_count": null,
   "metadata": {},
   "outputs": [],
   "source": []
  },
  {
   "cell_type": "markdown",
   "metadata": {},
   "source": [
    "## CNPJS"
   ]
  },
  {
   "cell_type": "code",
   "execution_count": 191,
   "metadata": {},
   "outputs": [],
   "source": [
    "file_name = \"Relação-de-Compras-COVID19_completa_2804\"\n",
    "\n",
    "df = pd.read_csv('../data/orcamento/csv/Relação-de-Compras-COVID19_completa_2804.csv')\n",
    "df['fornecedor'] = df['fornecedor'].apply(lambda x: x[:-1] if x[-1]=='.' else x).str.replace('VEDANA COM. DE PROD. E SERVIÇOS PARA SAÚDE EIRELLI-EPP','VEDANA COM. DE PRODUTOS E SERV. P/ SAUDE LTDA')\n",
    "\n",
    "df['id'] = df['cnpj'].str.replace('.','').str.replace('-','').str.replace('/','')\n",
    "df['descricao'] = df['descricao'] + '. Valor: ' +  df['valor'].astype(str)\n",
    "df_values = df.groupby(by=['id','cnpj','fornecedor'], as_index=False).agg({'descricao':'\\n\\n'.join, 'valor':sum})\n",
    "df_values = df_values.rename(columns={'cnpj':'CNPJ','valor':'valor total'})"
   ]
  },
  {
   "cell_type": "code",
   "execution_count": 192,
   "metadata": {},
   "outputs": [
    {
     "name": "stdout",
     "output_type": "stream",
     "text": [
      "http://compras.dados.gov.br/fornecedores/doc/fornecedor_pj/11034934000160.csv\n",
      "http://compras.dados.gov.br/fornecedores/doc/fornecedor_pj/00647935000164.csv\n",
      "http://compras.dados.gov.br/fornecedores/doc/fornecedor_pj/04192876000138.csv\n",
      "http://compras.dados.gov.br/fornecedores/doc/fornecedor_pj/02456955000183.csv\n",
      "http://compras.dados.gov.br/fornecedores/doc/fornecedor_pj/04274988000138.csv\n",
      "http://compras.dados.gov.br/fornecedores/doc/fornecedor_pj/04027894000750.csv\n",
      "http://compras.dados.gov.br/fornecedores/doc/fornecedor_pj/03951140000133.csv\n",
      "http://compras.dados.gov.br/fornecedores/doc/fornecedor_pj/03436772000169.csv\n",
      "http://compras.dados.gov.br/fornecedores/doc/fornecedor_pj/94516671000153.csv\n",
      "http://compras.dados.gov.br/fornecedores/doc/fornecedor_pj/07118264000193.csv\n",
      "http://compras.dados.gov.br/fornecedores/doc/fornecedor_pj/71957310000147.csv\n",
      "http://compras.dados.gov.br/fornecedores/doc/fornecedor_pj/48791685000168.csv\n",
      "http://compras.dados.gov.br/fornecedores/doc/fornecedor_pj/52202744000192.csv\n",
      "http://compras.dados.gov.br/fornecedores/doc/fornecedor_pj/21551379002141.csv\n",
      "14515881000198 nao existe\n",
      "http://compras.dados.gov.br/fornecedores/doc/fornecedor_pj/57202418000107.csv\n",
      "http://compras.dados.gov.br/fornecedores/doc/fornecedor_pj/06972729000106.csv\n",
      "http://compras.dados.gov.br/fornecedores/doc/fornecedor_pj/23669731000120.csv\n",
      "http://compras.dados.gov.br/fornecedores/doc/fornecedor_pj/04728183000117.csv\n",
      "04108518000102 nao existe\n",
      "07777502000172 nao existe\n",
      "http://compras.dados.gov.br/fornecedores/doc/fornecedor_pj/60765823000130.csv\n",
      "http://compras.dados.gov.br/fornecedores/doc/fornecedor_pj/02881877000164.csv\n",
      "http://compras.dados.gov.br/fornecedores/doc/fornecedor_pj/08304991000108.csv\n",
      "http://compras.dados.gov.br/fornecedores/doc/fornecedor_pj/54178983000180.csv\n",
      "05411043000183 nao existe\n",
      "07439329000364 nao existe\n",
      "http://compras.dados.gov.br/fornecedores/doc/fornecedor_pj/27608037000153.csv\n",
      "http://compras.dados.gov.br/fornecedores/doc/fornecedor_pj/06105362000123.csv\n",
      "http://compras.dados.gov.br/fornecedores/doc/fornecedor_pj/45985371000108.csv\n",
      "http://compras.dados.gov.br/fornecedores/doc/fornecedor_pj/09260071000106.csv\n",
      "http://compras.dados.gov.br/fornecedores/doc/fornecedor_pj/08441389000112.csv\n",
      "84451012000122 nao existe\n",
      "http://compras.dados.gov.br/fornecedores/doc/fornecedor_pj/04124669000146.csv\n",
      "http://compras.dados.gov.br/fornecedores/doc/fornecedor_pj/11405384000149.csv\n",
      "http://compras.dados.gov.br/fornecedores/doc/fornecedor_pj/04626152000155.csv\n",
      "http://compras.dados.gov.br/fornecedores/doc/fornecedor_pj/61418042000131.csv\n",
      "http://compras.dados.gov.br/fornecedores/doc/fornecedor_pj/02563570000115.csv\n",
      "http://compras.dados.gov.br/fornecedores/doc/fornecedor_pj/03231857000100.csv\n",
      "http://compras.dados.gov.br/fornecedores/doc/fornecedor_pj/26370747000125.csv\n",
      "http://compras.dados.gov.br/fornecedores/doc/fornecedor_pj/74400052000191.csv\n",
      "http://compras.dados.gov.br/fornecedores/doc/fornecedor_pj/24341520000126.csv\n",
      "http://compras.dados.gov.br/fornecedores/doc/fornecedor_pj/14721504000105.csv\n",
      "http://compras.dados.gov.br/fornecedores/doc/fornecedor_pj/03137410000177.csv\n",
      "http://compras.dados.gov.br/fornecedores/doc/fornecedor_pj/03644345000176.csv\n",
      "34094860000153 nao existe\n",
      "http://compras.dados.gov.br/fornecedores/doc/fornecedor_pj/12600168000117.csv\n",
      "27478461000120 nao existe\n",
      "EIM number 831426803 nao existe\n",
      "http://compras.dados.gov.br/fornecedores/doc/fornecedor_pj/07139218000170.csv\n",
      "31543766000146 nao existe\n",
      "http://compras.dados.gov.br/fornecedores/doc/fornecedor_pj/87203121000119.csv\n",
      "http://compras.dados.gov.br/fornecedores/doc/fornecedor_pj/09557129000170.csv\n",
      "http://compras.dados.gov.br/fornecedores/doc/fornecedor_pj/66581935000117.csv\n",
      "http://compras.dados.gov.br/fornecedores/doc/fornecedor_pj/28476997000170.csv\n",
      "http://compras.dados.gov.br/fornecedores/doc/fornecedor_pj/21670010000104.csv\n"
     ]
    }
   ],
   "source": [
    "url = f'http://compras.dados.gov.br/fornecedores/doc/fornecedor_pj/'\n",
    "\n",
    "df_final = pd.DataFrame()\n",
    "for cnpj in df['id'].unique():\n",
    "    url_csv = url + f'{cnpj}.csv'\n",
    "\n",
    "    \n",
    "    try:\n",
    "        dd = pd.read_csv(url_csv)\n",
    "        print(url_csv)\n",
    "        dd = dd.drop(columns= ['Id','CNPJ','Unidade Cadastradora','Ramo do Negócio','Porte da Empresa','CNAE Secundário','Caixa Postal','Recadastrado'])\n",
    "        dd['id'] = cnpj\n",
    "        \n",
    "    except:\n",
    "        dd = pd.DataFrame([cnpj],columns=['id'])\n",
    "        \n",
    "        print(cnpj, 'nao existe')\n",
    "\n",
    "    \n",
    "    df_final = pd.concat([df_final,dd],axis=0)\n",
    "\n",
    "df_final = df_final.sort_values(by='Razão Social')\n"
   ]
  },
  {
   "cell_type": "code",
   "execution_count": 196,
   "metadata": {},
   "outputs": [],
   "source": [
    "ddd = pd.merge(df_values, df_final, on='id', how='outer').sort_values(by='Razão Social').drop(columns=['id'])"
   ]
  },
  {
   "cell_type": "code",
   "execution_count": 199,
   "metadata": {},
   "outputs": [],
   "source": [
    "ddd.to_excel('../data/orcamento/csv/lista_cnpjs.xlsx', index=False)"
   ]
  },
  {
   "cell_type": "code",
   "execution_count": null,
   "metadata": {},
   "outputs": [],
   "source": []
  },
  {
   "cell_type": "code",
   "execution_count": null,
   "metadata": {},
   "outputs": [],
   "source": []
  },
  {
   "cell_type": "code",
   "execution_count": null,
   "metadata": {},
   "outputs": [],
   "source": []
  },
  {
   "cell_type": "code",
   "execution_count": null,
   "metadata": {},
   "outputs": [],
   "source": []
  },
  {
   "cell_type": "code",
   "execution_count": null,
   "metadata": {},
   "outputs": [],
   "source": []
  },
  {
   "cell_type": "code",
   "execution_count": null,
   "metadata": {},
   "outputs": [],
   "source": []
  },
  {
   "cell_type": "code",
   "execution_count": null,
   "metadata": {},
   "outputs": [],
   "source": []
  },
  {
   "cell_type": "code",
   "execution_count": null,
   "metadata": {},
   "outputs": [],
   "source": []
  },
  {
   "cell_type": "code",
   "execution_count": null,
   "metadata": {},
   "outputs": [],
   "source": []
  },
  {
   "cell_type": "code",
   "execution_count": null,
   "metadata": {},
   "outputs": [],
   "source": []
  },
  {
   "cell_type": "code",
   "execution_count": null,
   "metadata": {},
   "outputs": [],
   "source": []
  },
  {
   "cell_type": "code",
   "execution_count": null,
   "metadata": {},
   "outputs": [],
   "source": []
  },
  {
   "cell_type": "code",
   "execution_count": null,
   "metadata": {},
   "outputs": [],
   "source": []
  },
  {
   "cell_type": "code",
   "execution_count": null,
   "metadata": {},
   "outputs": [],
   "source": []
  },
  {
   "cell_type": "code",
   "execution_count": null,
   "metadata": {},
   "outputs": [],
   "source": []
  },
  {
   "cell_type": "code",
   "execution_count": null,
   "metadata": {},
   "outputs": [],
   "source": []
  },
  {
   "cell_type": "code",
   "execution_count": null,
   "metadata": {},
   "outputs": [],
   "source": []
  },
  {
   "cell_type": "code",
   "execution_count": null,
   "metadata": {},
   "outputs": [],
   "source": []
  },
  {
   "cell_type": "markdown",
   "metadata": {},
   "source": [
    "## Cidades"
   ]
  },
  {
   "cell_type": "code",
   "execution_count": 4,
   "metadata": {},
   "outputs": [],
   "source": [
    "import pandas as pd\n",
    "import numpy as np\n",
    "\n",
    "\n",
    "pd.options.display.max_columns = 999\n",
    "pd.options.display.max_rows = 999\n",
    "pd.options.display.max_colwidth = 100\n",
    "import warnings\n",
    "warnings.filterwarnings('ignore')\n",
    "\n",
    "from tabula import read_pdf\n",
    "import camelot\n",
    "\n",
    "import os"
   ]
  },
  {
   "cell_type": "markdown",
   "metadata": {},
   "source": [
    "## Fonte\n",
    " - [Boletim](https://www.sjc.sp.gov.br/servicos/saude/coronavirus/atos-e-despesas/)"
   ]
  },
  {
   "cell_type": "code",
   "execution_count": 5,
   "metadata": {},
   "outputs": [],
   "source": [
    "#sjc\n",
    "\n",
    "file_name = \"autorizacao-de-fornecimento-covid-ate-24042020\"\n",
    "\n",
    "dd = camelot.read_pdf(f'../data/orcamento/pdf/{file_name}.pdf', pages='all')"
   ]
  },
  {
   "cell_type": "code",
   "execution_count": 6,
   "metadata": {},
   "outputs": [],
   "source": [
    "df = pd.DataFrame()\n",
    "\n",
    "for i in range(len(dd)):\n",
    "    df = pd.concat([df,dd[i].df], axis=0)\n",
    "    \n",
    "df = df.reset_index(drop=True)"
   ]
  },
  {
   "cell_type": "code",
   "execution_count": 10,
   "metadata": {},
   "outputs": [],
   "source": [
    "cols = ['material','descricao','quantidade_af','unidade','valor_unitario','valor_total','numero_af','data','modalidade_de_compra','razao_social','unidade_orcamentaria','codigo_dotacao_orcamentaria']\n",
    "df.columns = cols\n",
    "df = df[df['material']!='MATERIAL']\n",
    "\n",
    "df['valor_unitario'] = df['valor_unitario'].apply(lambda x: x.replace('R$','').replace('\\n','').strip().replace('.','').replace(',','.'))\n",
    "df['valor_total'] = df['valor_total'].apply(lambda x: x.replace('R$','').replace('\\n','').strip().replace('.','').replace(',','.'))\n",
    "\n",
    "df = df.replace('\\n','')"
   ]
  },
  {
   "cell_type": "code",
   "execution_count": 13,
   "metadata": {},
   "outputs": [],
   "source": [
    "df.to_csv(f'../data/orcamento/csv/sjc/{file_name}.csv', index=False)"
   ]
  },
  {
   "cell_type": "code",
   "execution_count": 15,
   "metadata": {},
   "outputs": [],
   "source": []
  },
  {
   "cell_type": "code",
   "execution_count": null,
   "metadata": {},
   "outputs": [],
   "source": []
  },
  {
   "cell_type": "code",
   "execution_count": null,
   "metadata": {},
   "outputs": [],
   "source": []
  },
  {
   "cell_type": "code",
   "execution_count": null,
   "metadata": {},
   "outputs": [],
   "source": []
  },
  {
   "cell_type": "markdown",
   "metadata": {},
   "source": [
    "## Fonte\n",
    " - [Boletim](http://www.osasco.sp.gov.br/portal-da-transparencia)"
   ]
  },
  {
   "cell_type": "code",
   "execution_count": null,
   "metadata": {},
   "outputs": [],
   "source": [
    "#osasco\n",
    "\n",
    "file_name = \"autorizacao-de-fornecimento-covid-ate-24042020\"\n",
    "\n",
    "dd = camelot.read_pdf(f'../data/orcamento/pdf/{file_name}.pdf', pages='all')"
   ]
  },
  {
   "cell_type": "code",
   "execution_count": null,
   "metadata": {},
   "outputs": [],
   "source": []
  },
  {
   "cell_type": "code",
   "execution_count": null,
   "metadata": {},
   "outputs": [],
   "source": []
  },
  {
   "cell_type": "code",
   "execution_count": null,
   "metadata": {},
   "outputs": [],
   "source": []
  },
  {
   "cell_type": "code",
   "execution_count": null,
   "metadata": {},
   "outputs": [],
   "source": []
  },
  {
   "cell_type": "code",
   "execution_count": null,
   "metadata": {},
   "outputs": [],
   "source": []
  },
  {
   "cell_type": "code",
   "execution_count": null,
   "metadata": {},
   "outputs": [],
   "source": []
  },
  {
   "cell_type": "code",
   "execution_count": null,
   "metadata": {},
   "outputs": [],
   "source": []
  },
  {
   "cell_type": "code",
   "execution_count": null,
   "metadata": {},
   "outputs": [],
   "source": []
  },
  {
   "cell_type": "code",
   "execution_count": null,
   "metadata": {},
   "outputs": [],
   "source": []
  },
  {
   "cell_type": "code",
   "execution_count": null,
   "metadata": {},
   "outputs": [],
   "source": [
    "\n",
    "\n"
   ]
  },
  {
   "cell_type": "code",
   "execution_count": null,
   "metadata": {},
   "outputs": [],
   "source": []
  },
  {
   "cell_type": "code",
   "execution_count": null,
   "metadata": {},
   "outputs": [],
   "source": []
  },
  {
   "cell_type": "code",
   "execution_count": null,
   "metadata": {},
   "outputs": [],
   "source": []
  }
 ],
 "metadata": {
  "kernelspec": {
   "display_name": "Python 3",
   "language": "python",
   "name": "python3"
  },
  "language_info": {
   "codemirror_mode": {
    "name": "ipython",
    "version": 3
   },
   "file_extension": ".py",
   "mimetype": "text/x-python",
   "name": "python",
   "nbconvert_exporter": "python",
   "pygments_lexer": "ipython3",
   "version": "3.7.6"
  }
 },
 "nbformat": 4,
 "nbformat_minor": 4
}
