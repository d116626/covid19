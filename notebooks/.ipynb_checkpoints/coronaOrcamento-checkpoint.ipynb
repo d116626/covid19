{
 "cells": [
  {
   "cell_type": "code",
   "execution_count": 29,
   "metadata": {},
   "outputs": [],
   "source": [
    "import pandas as pd\n",
    "import numpy as np\n",
    "\n",
    "\n",
    "pd.options.display.max_columns = 999\n",
    "pd.options.display.max_rows = 999\n",
    "pd.options.display.max_colwidth = 100\n",
    "import warnings\n",
    "warnings.filterwarnings('ignore')\n",
    "\n",
    "from tabula import read_pdf\n",
    "import camelot\n",
    "\n",
    "import os"
   ]
  },
  {
   "cell_type": "code",
   "execution_count": 2,
   "metadata": {},
   "outputs": [],
   "source": [
    "file_name = \"Relação-de-Compras-COVID19_completa_2804\"\n",
    "\n",
    "dd = camelot.read_pdf(f'../data/orcamento/pdf/{file_name}.pdf', pages='1')"
   ]
  },
  {
   "cell_type": "code",
   "execution_count": 4,
   "metadata": {},
   "outputs": [],
   "source": [
    "df = pd.DataFrame()\n",
    "\n",
    "for i in range(len(dd)):\n",
    "    df = pd.concat([df,dd[i].df], axis=0)\n",
    "    \n",
    "df = df.reset_index(drop=True)"
   ]
  },
  {
   "cell_type": "code",
   "execution_count": 21,
   "metadata": {},
   "outputs": [],
   "source": [
    "cols = ['orgao','descricao','valor','n_processo','cnpj','fornecedor','vigencia']\n",
    "df.columns = cols\n",
    "df = df[df['descricao']!='']\n",
    "df['valor'] = df['valor'].apply(lambda x: x.replace('R$','').replace('\\n','').strip().replace('.','').replace(',','.')).astype(float)\n",
    "df['orgao'] = df['orgao'].apply(lambda x: x.replace('\\n','').strip())\n",
    "\n",
    "\n",
    "\n",
    "df['last_update'] = '2020-04-28'"
   ]
  },
  {
   "cell_type": "code",
   "execution_count": 23,
   "metadata": {},
   "outputs": [
    {
     "data": {
      "text/plain": [
       "912767442.4499998"
      ]
     },
     "execution_count": 23,
     "metadata": {},
     "output_type": "execute_result"
    }
   ],
   "source": []
  },
  {
   "cell_type": "code",
   "execution_count": 25,
   "metadata": {},
   "outputs": [
    {
     "name": "stdout",
     "output_type": "stream",
     "text": [
      "912767442.4499998\n",
      "140 \n",
      "\n"
     ]
    }
   ],
   "source": [
    "print(df['valor'].sum())\n",
    "print(len(df),\"\\n\")"
   ]
  },
  {
   "cell_type": "code",
   "execution_count": 28,
   "metadata": {},
   "outputs": [],
   "source": [
    "df.to_csv(f'../data/orcamento/csv/{file_name}.csv', index=False)\n",
    "df.to_excel(f'../data/orcamento/csv/{file_name}.xlsx', index=False)"
   ]
  },
  {
   "cell_type": "code",
   "execution_count": null,
   "metadata": {},
   "outputs": [],
   "source": []
  },
  {
   "cell_type": "code",
   "execution_count": null,
   "metadata": {},
   "outputs": [],
   "source": []
  },
  {
   "cell_type": "code",
   "execution_count": null,
   "metadata": {},
   "outputs": [],
   "source": []
  },
  {
   "cell_type": "code",
   "execution_count": null,
   "metadata": {},
   "outputs": [],
   "source": []
  },
  {
   "cell_type": "markdown",
   "metadata": {},
   "source": [
    "# Data processing"
   ]
  },
  {
   "cell_type": "code",
   "execution_count": 141,
   "metadata": {},
   "outputs": [
    {
     "name": "stdout",
     "output_type": "stream",
     "text": [
      "rel_compras-covid19_publicacao_3v.csv\n",
      "309661423.25\n",
      "107 \n",
      "\n"
     ]
    }
   ],
   "source": [
    "#Merge all files\n",
    "path = '../data/orcamento/csv/'\n",
    "files = os.listdir(path)\n",
    "\n",
    "df_final = pd.read_csv(f\"{path}{files[0]}\")\n",
    "data = max(df_final['last_update'])\n",
    "df_final[f'valor_{data}'] = df_final['Valor Total']\n",
    "rename_cols = {'Descrição':f'Descrição_{data}',\n",
    "               'Vigência (180 dias)':f'Vigência (180 dias)_{data}'} \n",
    "df_final = df_final.rename(columns=rename_cols)\n",
    "\n",
    "for file in files[1:]:\n",
    "    dff = pd.read_csv(f\"{path}{file}\")\n",
    "    print(file)\n",
    "    print(dff['Valor Total'].sum())\n",
    "    print(len(dff),\"\\n\")\n",
    "    \n",
    "    data = max(dff['last_update'])\n",
    "    \n",
    "    dff[f'valor_{data}'] = dff['Valor Total']\n",
    "    rename_cols = {'Descrição':f'Descrição_{data}',\n",
    "               'Vigência (180 dias)':f'Vigência (180 dias)_{data}'} \n",
    "    dff = dff.rename(columns=rename_cols)\n",
    "\n",
    "    \n",
    "    \n"
   ]
  },
  {
   "cell_type": "code",
   "execution_count": 142,
   "metadata": {},
   "outputs": [],
   "source": [
    "df_final = pd.merge(df_final, dff, on=['Valor Total','Nº Processo (SES-PRC)','CNPJ'], how='outer')\n"
   ]
  },
  {
   "cell_type": "code",
   "execution_count": 143,
   "metadata": {},
   "outputs": [
    {
     "data": {
      "text/plain": [
       "332681090.38"
      ]
     },
     "execution_count": 143,
     "metadata": {},
     "output_type": "execute_result"
    }
   ],
   "source": [
    "df_final['Valor Total'].sum()"
   ]
  },
  {
   "cell_type": "code",
   "execution_count": 2,
   "metadata": {},
   "outputs": [],
   "source": [
    "# df_final"
   ]
  },
  {
   "cell_type": "code",
   "execution_count": null,
   "metadata": {},
   "outputs": [],
   "source": []
  },
  {
   "cell_type": "code",
   "execution_count": 98,
   "metadata": {},
   "outputs": [],
   "source": [
    "cols = ['Descrição','Valor Total', 'Nº Processo (SES-PRC)', 'CNPJ']\n",
    "\n",
    "\n",
    "df_final = df_final.drop_duplicates(subset=cols, keep='first')"
   ]
  },
  {
   "cell_type": "code",
   "execution_count": 99,
   "metadata": {},
   "outputs": [
    {
     "name": "stdout",
     "output_type": "stream",
     "text": [
      "485974413.63\n",
      "208 \n",
      "\n"
     ]
    }
   ],
   "source": [
    "print(df_final['Valor Total'].sum())\n",
    "print(len(df_final),\"\\n\")"
   ]
  },
  {
   "cell_type": "code",
   "execution_count": 107,
   "metadata": {},
   "outputs": [],
   "source": [
    "df_final.sort_values(by='Valor Total').to_excel('lici.xlsx', index=False)"
   ]
  },
  {
   "cell_type": "code",
   "execution_count": null,
   "metadata": {},
   "outputs": [],
   "source": []
  },
  {
   "cell_type": "code",
   "execution_count": null,
   "metadata": {},
   "outputs": [],
   "source": []
  },
  {
   "cell_type": "markdown",
   "metadata": {},
   "source": [
    "## CNPJS"
   ]
  },
  {
   "cell_type": "code",
   "execution_count": 35,
   "metadata": {},
   "outputs": [],
   "source": [
    "df = pd.read_csv('../data/orcamento/csv/rel_compras-covid19_publicacao_3v.csv')"
   ]
  },
  {
   "cell_type": "code",
   "execution_count": 45,
   "metadata": {},
   "outputs": [],
   "source": [
    "cnpjs_dict = {}\n",
    "for cnpj in df['CNPJ'].unique():\n",
    "    cnpjs_dict[cnpj] = cnpj.replace('.','').replace('-','').replace('/','')"
   ]
  },
  {
   "cell_type": "code",
   "execution_count": 58,
   "metadata": {},
   "outputs": [
    {
     "name": "stdout",
     "output_type": "stream",
     "text": [
      "http://compras.dados.gov.br/fornecedores/doc/fornecedor_pj/60765823000130.csv\n",
      "http://compras.dados.gov.br/fornecedores/doc/fornecedor_pj/02881877000164.csv\n",
      "http://compras.dados.gov.br/fornecedores/doc/fornecedor_pj/08304991000108.csv\n",
      "http://compras.dados.gov.br/fornecedores/doc/fornecedor_pj/54178983000180.csv\n",
      "05.411.043/0001-83 nao existe\n",
      "07.439.329/0003-64 nao existe\n",
      "http://compras.dados.gov.br/fornecedores/doc/fornecedor_pj/27608037000153.csv\n",
      "http://compras.dados.gov.br/fornecedores/doc/fornecedor_pj/06105362000123.csv\n",
      "http://compras.dados.gov.br/fornecedores/doc/fornecedor_pj/45985371000108.csv\n",
      "http://compras.dados.gov.br/fornecedores/doc/fornecedor_pj/09260071000106.csv\n",
      "http://compras.dados.gov.br/fornecedores/doc/fornecedor_pj/08441389000112.csv\n",
      "84.451.012/0001-22 nao existe\n",
      "http://compras.dados.gov.br/fornecedores/doc/fornecedor_pj/04124669000146.csv\n",
      "http://compras.dados.gov.br/fornecedores/doc/fornecedor_pj/11405384000149.csv\n",
      "http://compras.dados.gov.br/fornecedores/doc/fornecedor_pj/04626152000155.csv\n",
      "http://compras.dados.gov.br/fornecedores/doc/fornecedor_pj/61418042000131.csv\n",
      "http://compras.dados.gov.br/fornecedores/doc/fornecedor_pj/02563570000115.csv\n",
      "http://compras.dados.gov.br/fornecedores/doc/fornecedor_pj/03231857000100.csv\n",
      "http://compras.dados.gov.br/fornecedores/doc/fornecedor_pj/26370747000125.csv\n",
      "http://compras.dados.gov.br/fornecedores/doc/fornecedor_pj/74400052000191.csv\n",
      "http://compras.dados.gov.br/fornecedores/doc/fornecedor_pj/24341520000126.csv\n",
      "http://compras.dados.gov.br/fornecedores/doc/fornecedor_pj/14721504000105.csv\n",
      "http://compras.dados.gov.br/fornecedores/doc/fornecedor_pj/03137410000177.csv\n",
      "27.721.850/0001-35 nao existe\n",
      "http://compras.dados.gov.br/fornecedores/doc/fornecedor_pj/03644345000176.csv\n",
      "34.094.860/0001-53 nao existe\n",
      "http://compras.dados.gov.br/fornecedores/doc/fornecedor_pj/12600168000117.csv\n",
      "27.478.461/0001-20 nao existe\n",
      "http://compras.dados.gov.br/fornecedores/doc/fornecedor_pj/07139218000170.csv\n",
      "31.543.766/0001-46 nao existe\n",
      "http://compras.dados.gov.br/fornecedores/doc/fornecedor_pj/87203121000119.csv\n",
      "http://compras.dados.gov.br/fornecedores/doc/fornecedor_pj/28476997000170.csv\n"
     ]
    }
   ],
   "source": [
    "url = f'http://compras.dados.gov.br/fornecedores/doc/fornecedor_pj/'\n",
    "\n",
    "df_final = pd.DataFrame()\n",
    "for cnpj in cnpjs_dict.keys():\n",
    "    url_csv = url + f'{cnpjs_dict[cnpj]}.csv'\n",
    "\n",
    "    \n",
    "    try:\n",
    "        dd = pd.read_csv(url_csv)\n",
    "        print(url_csv)\n",
    "        dd = dd.drop(columns= ['Id','Unidade Cadastradora','Ramo do Negócio','Porte da Empresa','CNAE Secundário','Caixa Postal','Recadastrado'])\n",
    "        #         print(cnpj, 'existe')\n",
    "        \n",
    "    except:\n",
    "        dd = pd.DataFrame([cnpj],columns=['CNPJ'])\n",
    "        \n",
    "        print(cnpj, 'nao existe')\n",
    "\n",
    "    \n",
    "    df_final = pd.concat([df_final,dd],axis=0)\n",
    "\n",
    "df_final = df_final.sort_values(by='Razão Social')"
   ]
  },
  {
   "cell_type": "code",
   "execution_count": 62,
   "metadata": {},
   "outputs": [],
   "source": [
    "df_final.to_excel('../data/orcamento/csv/lista_cnpjs.xlsx', index=False)"
   ]
  },
  {
   "cell_type": "code",
   "execution_count": null,
   "metadata": {},
   "outputs": [],
   "source": []
  },
  {
   "cell_type": "code",
   "execution_count": null,
   "metadata": {},
   "outputs": [],
   "source": []
  },
  {
   "cell_type": "code",
   "execution_count": null,
   "metadata": {},
   "outputs": [],
   "source": []
  },
  {
   "cell_type": "code",
   "execution_count": null,
   "metadata": {},
   "outputs": [],
   "source": []
  },
  {
   "cell_type": "code",
   "execution_count": null,
   "metadata": {},
   "outputs": [],
   "source": []
  },
  {
   "cell_type": "code",
   "execution_count": null,
   "metadata": {},
   "outputs": [],
   "source": []
  },
  {
   "cell_type": "code",
   "execution_count": null,
   "metadata": {},
   "outputs": [],
   "source": []
  },
  {
   "cell_type": "code",
   "execution_count": null,
   "metadata": {},
   "outputs": [],
   "source": []
  },
  {
   "cell_type": "code",
   "execution_count": null,
   "metadata": {},
   "outputs": [],
   "source": []
  },
  {
   "cell_type": "code",
   "execution_count": null,
   "metadata": {},
   "outputs": [],
   "source": []
  },
  {
   "cell_type": "code",
   "execution_count": null,
   "metadata": {},
   "outputs": [],
   "source": []
  },
  {
   "cell_type": "code",
   "execution_count": null,
   "metadata": {},
   "outputs": [],
   "source": []
  },
  {
   "cell_type": "code",
   "execution_count": null,
   "metadata": {},
   "outputs": [],
   "source": []
  },
  {
   "cell_type": "code",
   "execution_count": null,
   "metadata": {},
   "outputs": [],
   "source": []
  },
  {
   "cell_type": "code",
   "execution_count": null,
   "metadata": {},
   "outputs": [],
   "source": []
  },
  {
   "cell_type": "code",
   "execution_count": null,
   "metadata": {},
   "outputs": [],
   "source": []
  }
 ],
 "metadata": {
  "kernelspec": {
   "display_name": "Python 3",
   "language": "python",
   "name": "python3"
  },
  "language_info": {
   "codemirror_mode": {
    "name": "ipython",
    "version": 3
   },
   "file_extension": ".py",
   "mimetype": "text/x-python",
   "name": "python",
   "nbconvert_exporter": "python",
   "pygments_lexer": "ipython3",
   "version": "3.7.6"
  }
 },
 "nbformat": 4,
 "nbformat_minor": 4
}
