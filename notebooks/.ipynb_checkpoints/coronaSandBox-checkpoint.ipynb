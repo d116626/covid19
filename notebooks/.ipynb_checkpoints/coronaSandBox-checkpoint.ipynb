{
 "cells": [
  {
   "cell_type": "code",
   "execution_count": 1,
   "metadata": {},
   "outputs": [],
   "source": [
    "import ftplib\n",
    "import yaml\n",
    "import os\n",
    "config = yaml.load(open('../../credentials/ftp_credentials.yaml', 'r'), Loader=yaml.FullLoader)\n"
   ]
  },
  {
   "cell_type": "code",
   "execution_count": 2,
   "metadata": {},
   "outputs": [
    {
     "name": "stdout",
     "output_type": "stream",
     "text": [
      "220---------- Welcome to Pure-FTPd [privsep] [TLS] ----------\n",
      "220-You are user number 3 of 50 allowed.\n",
      "220-Local time is now 07:08. Server port: 21.\n",
      "220-This is a private system - No anonymous login\n",
      "220-IPv6 connections are also welcome on this server.\n",
      "220 You will be disconnected after 15 minutes of inactivity.\n",
      "Logged\n"
     ]
    },
    {
     "data": {
      "text/plain": [
       "'250 OK. Current directory is /public_html/coronateste'"
      ]
     },
     "execution_count": 2,
     "metadata": {},
     "output_type": "execute_result"
    }
   ],
   "source": [
    "ftp = ftplib.FTP()\n",
    "host = config['ftp']['host']\n",
    "port = config['ftp']['port']\n",
    "ftp.connect(host, port)\n",
    "print (ftp.getwelcome())\n",
    "try:\n",
    "    ftp.login(config['ftp']['user'], config['ftp']['pw'])\n",
    "    print (\"Logged\")\n",
    "except:\n",
    "    \"failed to login\"\n",
    "\n",
    "\n",
    "ftp.cwd(\"public_html/coronateste\")"
   ]
  },
  {
   "cell_type": "code",
   "execution_count": 8,
   "metadata": {},
   "outputs": [],
   "source": [
    "# %%time\n",
    "\n",
    "# File2Send = '../../site_maps_cidades_estados.html'\n",
    "\n",
    "# with open(File2Send, \"rb\") as f:\n",
    "#     ftp.storbinary('STOR ' + os.path.basename(File2Send), f) "
   ]
  },
  {
   "cell_type": "code",
   "execution_count": null,
   "metadata": {},
   "outputs": [],
   "source": []
  },
  {
   "cell_type": "code",
   "execution_count": null,
   "metadata": {},
   "outputs": [],
   "source": []
  },
  {
   "cell_type": "code",
   "execution_count": null,
   "metadata": {},
   "outputs": [],
   "source": [
    "import sys\n",
    "import ftplib\n",
    "import os\n",
    "from ftplib import FTP\n",
    "\n",
    "\n",
    "def fetchFiles(ftp, path, destination, overwrite=True):\n",
    "    '''Fetch a whole folder from ftp. \\n\n",
    "    Parameters\n",
    "    ----------\n",
    "    ftp         : ftplib.FTP object\n",
    "    path        : string ('/dir/folder/')\n",
    "    destination : string ('D:/dir/folder/') folder where the files will be saved\n",
    "    overwrite   : bool - Overwrite file if already exists.\n",
    "    '''\n",
    "    try:\n",
    "        ftp.cwd(path)\n",
    "        os.mkdir(destination[:-1] + path)\n",
    "        print('New folder made: ' + destination[:-1] + path)\n",
    "    except OSError:\n",
    "        # folder already exists at the destination\n",
    "        pass\n",
    "    except ftplib.error_perm:\n",
    "        # invalid entry (ensure input form: \"/dir/folder/\")\n",
    "        print(\"error: could not change to \" + path)\n",
    "        sys.exit(\"ending session\")\n",
    "\n",
    "    # list children:\n",
    "    filelist = [i for i in ftp.mlsd()]\n",
    "    print('Current folder: ' + filelist.pop(0)[0])\n",
    "\n",
    "    for file in filelist:\n",
    "        if file[1]['type'] == 'file':\n",
    "            fullpath = os.path.join(destination[:-1] + path, file[0])\n",
    "            if (not overwrite and os.path.isfile(fullpath)):\n",
    "                continue\n",
    "            else:\n",
    "                with open(fullpath, 'wb') as f:\n",
    "                    ftp.retrbinary('RETR ' + file[0], f.write)\n",
    "                print(file[0] + '  downloaded')\n",
    "        elif file[1]['type'] == 'dir':\n",
    "            fetchFiles(ftp, path + file[0] + '/', destination, overwrite)\n",
    "        else:\n",
    "            print('Unknown type: ' + file[1]['type'])\n",
    "\n"
   ]
  },
  {
   "cell_type": "code",
   "execution_count": null,
   "metadata": {},
   "outputs": [],
   "source": [
    "import sys\n",
    "import ftplib\n",
    "import os\n",
    "from ftplib import FTP\n",
    "\n",
    "ftp = FTP(config['ftp']['host'])\n",
    "ftp.login(config['ftp']['user'], config['ftp']['pw'])\n",
    "source = r'public_html/coronataubate/'\n",
    "dest = r'../site/sv_taubate/sv_corona_backup/coronataubate/'\n",
    "fetchFiles(ftp, source, dest, overwrite=True)"
   ]
  },
  {
   "cell_type": "code",
   "execution_count": null,
   "metadata": {},
   "outputs": [],
   "source": []
  },
  {
   "cell_type": "code",
   "execution_count": null,
   "metadata": {},
   "outputs": [],
   "source": []
  },
  {
   "cell_type": "code",
   "execution_count": null,
   "metadata": {},
   "outputs": [],
   "source": []
  },
  {
   "cell_type": "code",
   "execution_count": null,
   "metadata": {},
   "outputs": [],
   "source": []
  },
  {
   "cell_type": "code",
   "execution_count": null,
   "metadata": {},
   "outputs": [],
   "source": []
  },
  {
   "cell_type": "code",
   "execution_count": null,
   "metadata": {},
   "outputs": [],
   "source": []
  },
  {
   "cell_type": "code",
   "execution_count": 1,
   "metadata": {},
   "outputs": [],
   "source": [
    "import ftplib\n",
    "import yaml\n",
    "import os\n",
    "config = yaml.load(open('../../credentials/ftp_credentials.yaml', 'r'), Loader=yaml.FullLoader)\n",
    "\n",
    "ftp = ftplib.FTP(config['ftp']['host'], config['ftp']['user'], config['ftp']['pw'],)\n"
   ]
  },
  {
   "cell_type": "code",
   "execution_count": null,
   "metadata": {},
   "outputs": [],
   "source": [
    "download_ftp_tree(ftp, path=r'public_html/coronataubate', destination=r'../site/sv_taubate/sv_corona_backup/coronataubate')"
   ]
  },
  {
   "cell_type": "code",
   "execution_count": 3,
   "metadata": {},
   "outputs": [],
   "source": [
    "import ftplib\n",
    "import os\n",
    "import re\n",
    "\n",
    "\"\"\"\n",
    "MIT license: 2017 - Jwely\n",
    "Example usage:\n",
    "``` python\n",
    "import ftplib\n",
    "ftp = ftplib.FTP(mysite, username, password)\n",
    "download_ftp_tree(ftp, remote_dir, local_dir)\n",
    "```\n",
    "The code above will look for a directory called \"remote_dir\" on the ftp host, and then duplicate the\n",
    "directory and its entire contents into the \"local_dir\".\n",
    "*** Note that if wget is an option, I recommend using that instead ***\n",
    "\"\"\"\n",
    "\n",
    "\n",
    "def _is_ftp_dir(ftp_handle, name, guess_by_extension=True):\n",
    "    \"\"\" simply determines if an item listed on the ftp server is a valid directory or not \"\"\"\n",
    "\n",
    "    # if the name has a \".\" in the fourth to last position, its probably a file extension\n",
    "    # this is MUCH faster than trying to set every file to a working directory, and will work 99% of time.\n",
    "    if guess_by_extension is True:\n",
    "        if len(name) >= 4:\n",
    "            if name[-4] == '.':\n",
    "                return False\n",
    "\n",
    "    original_cwd = ftp_handle.pwd()  # remember the current working directory\n",
    "    try:\n",
    "        ftp_handle.cwd(name)  # try to set directory to new name\n",
    "        ftp_handle.cwd(original_cwd)  # set it back to what it was\n",
    "        return True\n",
    "\n",
    "    except ftplib.error_perm as e:\n",
    "        print(e)\n",
    "        return False\n",
    "\n",
    "    except Exception as e:\n",
    "        print(e)\n",
    "        return False\n",
    "\n",
    "\n",
    "def _make_parent_dir(fpath):\n",
    "    \"\"\" ensures the parent directory of a filepath exists \"\"\"\n",
    "    dirname = os.path.dirname(fpath)\n",
    "    while not os.path.exists(dirname):\n",
    "        try:\n",
    "            os.makedirs(dirname)\n",
    "            print(\"created {0}\".format(dirname))\n",
    "        except OSError:\n",
    "            _make_parent_dir(dirname)\n",
    "\n",
    "\n",
    "def _download_ftp_file(ftp_handle, name, dest, overwrite):\n",
    "    \"\"\" downloads a single file from an ftp server \"\"\"\n",
    "    _make_parent_dir(dest.lstrip(\"/\"))\n",
    "    if not os.path.exists(dest) or overwrite is True:\n",
    "        try:\n",
    "            with open(dest, 'wb') as f:\n",
    "                ftp_handle.retrbinary(\"RETR {0}\".format(name), f.write)\n",
    "            print(\"downloaded: {0}\".format(dest))\n",
    "        except FileNotFoundError:\n",
    "            print(\"FAILED: {0}\".format(dest))\n",
    "    else:\n",
    "        print(\"already exists: {0}\".format(dest))\n",
    "\n",
    "\n",
    "def _file_name_match_patern(pattern, name):\n",
    "    \"\"\" returns True if filename matches the pattern\"\"\"\n",
    "    if pattern is None:\n",
    "        return True\n",
    "    else:\n",
    "        return bool(re.match(pattern, name))\n",
    "\n",
    "\n",
    "def _mirror_ftp_dir(ftp_handle, name, overwrite, guess_by_extension, pattern):\n",
    "    \"\"\" replicates a directory on an ftp server recursively \"\"\"\n",
    "    for item in ftp_handle.nlst(name):\n",
    "        if _is_ftp_dir(ftp_handle, item, guess_by_extension):\n",
    "            _mirror_ftp_dir(ftp_handle, item, overwrite, guess_by_extension, pattern)\n",
    "        else:\n",
    "            if _file_name_match_patern(pattern, name):\n",
    "                _download_ftp_file(ftp_handle, item, item, overwrite)\n",
    "            else:\n",
    "                # quietly skip the file\n",
    "                pass\n",
    "\n",
    "\n",
    "def download_ftp_tree(ftp_handle, path, destination, pattern=None, overwrite=False, guess_by_extension=True):\n",
    "    \"\"\"\n",
    "    Downloads an entire directory tree from an ftp server to the local destination\n",
    "    :param ftp_handle: an authenticated ftplib.FTP instance\n",
    "    :param path: the folder on the ftp server to download\n",
    "    :param destination: the local directory to store the copied folder\n",
    "    :param pattern: Python regex pattern, only files that match this pattern will be downloaded.\n",
    "    :param overwrite: set to True to force re-download of all files, even if they appear to exist already\n",
    "    :param guess_by_extension: It takes a while to explicitly check if every item is a directory or a file.\n",
    "        if this flag is set to True, it will assume any file ending with a three character extension \".???\" is\n",
    "        a file and not a directory. Set to False if some folders may have a \".\" in their names -4th position.\n",
    "    \"\"\"\n",
    "    path = path.lstrip(\"/\")\n",
    "    original_directory = os.getcwd()  # remember working directory before function is executed\n",
    "    os.chdir(destination)  # change working directory to ftp mirror directory\n",
    "\n",
    "    _mirror_ftp_dir(\n",
    "        ftp_handle,\n",
    "        path,\n",
    "        pattern=pattern,\n",
    "        overwrite=overwrite,\n",
    "        guess_by_extension=guess_by_extension)\n",
    "\n",
    "    os.chdir(original_directory)  # reset working directory to what it was before function exec\n",
    "\n",
    "\n",
    "# if __name__ == \"__main__\":\n",
    "#     # Example usage mirroring all jpg files in an FTP directory tree.\n",
    "#     mysite = \"some_ftp_site\"\n",
    "#     username = \"anonymous\"\n",
    "#     password = None\n",
    "#     remote_dir = \"\"\n",
    "#     local_dir = \"\"\n",
    "#     pattern = \".*\\.jpg$\"\n",
    "#     ftp = ftplib.FTP(mysite, username, password)\n",
    "#     download_ftp_tree(ftp, remote_dir, local_dir, pattern=pattern, overwrite=False, guess_by_extension=True)"
   ]
  },
  {
   "cell_type": "code",
   "execution_count": null,
   "metadata": {},
   "outputs": [],
   "source": []
  },
  {
   "cell_type": "code",
   "execution_count": null,
   "metadata": {},
   "outputs": [],
   "source": []
  },
  {
   "cell_type": "code",
   "execution_count": null,
   "metadata": {},
   "outputs": [],
   "source": []
  },
  {
   "cell_type": "code",
   "execution_count": null,
   "metadata": {},
   "outputs": [],
   "source": []
  },
  {
   "cell_type": "code",
   "execution_count": null,
   "metadata": {},
   "outputs": [],
   "source": []
  },
  {
   "cell_type": "code",
   "execution_count": null,
   "metadata": {},
   "outputs": [],
   "source": []
  },
  {
   "cell_type": "code",
   "execution_count": null,
   "metadata": {},
   "outputs": [],
   "source": []
  },
  {
   "cell_type": "code",
   "execution_count": null,
   "metadata": {},
   "outputs": [],
   "source": []
  },
  {
   "cell_type": "code",
   "execution_count": null,
   "metadata": {},
   "outputs": [],
   "source": []
  },
  {
   "cell_type": "code",
   "execution_count": null,
   "metadata": {},
   "outputs": [],
   "source": []
  },
  {
   "cell_type": "code",
   "execution_count": null,
   "metadata": {},
   "outputs": [],
   "source": []
  },
  {
   "cell_type": "code",
   "execution_count": null,
   "metadata": {},
   "outputs": [],
   "source": []
  },
  {
   "cell_type": "code",
   "execution_count": null,
   "metadata": {},
   "outputs": [],
   "source": []
  },
  {
   "cell_type": "code",
   "execution_count": null,
   "metadata": {},
   "outputs": [],
   "source": []
  },
  {
   "cell_type": "code",
   "execution_count": null,
   "metadata": {},
   "outputs": [],
   "source": []
  }
 ],
 "metadata": {
  "kernelspec": {
   "display_name": "Python 3",
   "language": "python",
   "name": "python3"
  },
  "language_info": {
   "codemirror_mode": {
    "name": "ipython",
    "version": 3
   },
   "file_extension": ".py",
   "mimetype": "text/x-python",
   "name": "python",
   "nbconvert_exporter": "python",
   "pygments_lexer": "ipython3",
   "version": "3.7.4"
  }
 },
 "nbformat": 4,
 "nbformat_minor": 4
}
