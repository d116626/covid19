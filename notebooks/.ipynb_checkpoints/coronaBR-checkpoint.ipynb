{
 "cells": [
  {
   "cell_type": "code",
   "execution_count": 92,
   "metadata": {},
   "outputs": [],
   "source": [
    "%reload_ext autoreload\n",
    "%autoreload 2\n",
    "\n",
    "import warnings\n",
    "warnings.filterwarnings('ignore')\n",
    "\n",
    "import numpy as np\n",
    "import pandas as pd\n",
    "pd.options.display.max_columns = 999\n",
    "pd.options.display.max_rows = 999\n",
    "pd.options.display.max_colwidth = 100\n",
    "\n",
    "import geopandas as gpd\n",
    "\n",
    "import plotly.graph_objs as go\n",
    "from plotly.offline import download_plotlyjs, init_notebook_mode, plot, iplot, offline\n",
    "import plotly.express as px\n",
    "import seaborn as sns\n",
    "import matplotlib.pyplot as plt\n",
    "\n",
    "\n",
    "from os import listdir\n",
    "import unicodedata\n",
    "\n",
    "\n",
    "from paths import *\n",
    "from scripts.vis_graphs import remove_acentos\n",
    "from scripts.vis_graphs import normalize_cols\n",
    "from scripts.io import read_sheets\n",
    "from scripts import io\n",
    "\n",
    "\n",
    "from datetime import datetime\n",
    "today = datetime.today().strftime('%Y-%m-%d')\n",
    "\n",
    "\n",
    "import yaml"
   ]
  },
  {
   "cell_type": "markdown",
   "metadata": {},
   "source": [
    "# Brasil.IO"
   ]
  },
  {
   "cell_type": "code",
   "execution_count": 93,
   "metadata": {
    "scrolled": true
   },
   "outputs": [
    {
     "name": "stdout",
     "output_type": "stream",
     "text": [
      "https://brasil.io/api/dataset/covid19/caso/data?format=json\n",
      "https://brasil.io/api/dataset/covid19/caso/data?format=json&page=2\n",
      "https://brasil.io/api/dataset/covid19/caso/data?format=json&page=3\n",
      "https://brasil.io/api/dataset/covid19/caso/data?format=json&page=4\n",
      "https://brasil.io/api/dataset/covid19/caso/data?format=json&page=5\n",
      "https://brasil.io/api/dataset/covid19/caso/data?format=json&page=6\n",
      "https://brasil.io/api/dataset/covid19/caso/data?format=json&page=7\n"
     ]
    }
   ],
   "source": [
    "from scripts import io\n",
    "\n",
    "brio, brio_raw = io.load_brasilIO()"
   ]
  },
  {
   "cell_type": "code",
   "execution_count": null,
   "metadata": {},
   "outputs": [],
   "source": []
  },
  {
   "cell_type": "markdown",
   "metadata": {},
   "source": [
    "## WCota\n",
    " - [github](https://github.com/wcota/covid19br)"
   ]
  },
  {
   "cell_type": "code",
   "execution_count": 94,
   "metadata": {},
   "outputs": [],
   "source": [
    "#data https://github.com/wcota/covid19br\n",
    "dd = io.load_wcota()\n"
   ]
  },
  {
   "cell_type": "code",
   "execution_count": null,
   "metadata": {},
   "outputs": [],
   "source": []
  },
  {
   "cell_type": "markdown",
   "metadata": {},
   "source": [
    "## MYTABLE"
   ]
  },
  {
   "cell_type": "code",
   "execution_count": 95,
   "metadata": {},
   "outputs": [],
   "source": [
    "from scripts.io import read_sheets\n",
    "from scripts import manipulation\n",
    "\n",
    "df = read_sheets('covid19_estados')\n",
    "\n",
    "df_states = manipulation.manipule_mytable(df)"
   ]
  },
  {
   "cell_type": "code",
   "execution_count": null,
   "metadata": {},
   "outputs": [],
   "source": []
  },
  {
   "cell_type": "markdown",
   "metadata": {},
   "source": [
    "### GRAPHS"
   ]
  },
  {
   "cell_type": "code",
   "execution_count": 96,
   "metadata": {},
   "outputs": [
    {
     "name": "stdout",
     "output_type": "stream",
     "text": [
      "Done!\n"
     ]
    }
   ],
   "source": [
    "from scripts import vis_html\n",
    "vis_html.create_cards(df_states)\n",
    "\n",
    "name= \"br_indicator_final.html\"\n",
    "path= f\"../images/indicator/{name}\"\n",
    "\n",
    "io.to_storage(bucket='sv-covid19',\n",
    "          bucket_folder='brasil',\n",
    "          file_name=name,\n",
    "          path_to_file=path)"
   ]
  },
  {
   "cell_type": "code",
   "execution_count": 425,
   "metadata": {},
   "outputs": [
    {
     "name": "stdout",
     "output_type": "stream",
     "text": [
      "Done!\n",
      "Done!\n"
     ]
    }
   ],
   "source": [
    "from scripts.vis_graphs import brasil_vis\n",
    "from scripts import io\n",
    "\n",
    "themes = yaml.load(open('../themes/custom_colorscales.yaml', 'r'), Loader=yaml.FullLoader)\n",
    "\n",
    "df_states = df_states.sort_values(by=['date'],ascending=False)\n",
    "\n",
    "escala  = 'lin'\n",
    "save    = True\n",
    "#### CHOSE CITIES TO START SELECTED IN GRAPH\n",
    "in_cities = ['BRASIL','BRASIL SEM SP','SP', 'RJ']\n",
    "\n",
    "\n",
    "## confirmed or deaths\n",
    "\n",
    "for config in ['novo', 'novo_storage']:\n",
    "    if config == 'novo':\n",
    "        save = True\n",
    "    else:\n",
    "        save=False\n",
    "    \n",
    "    for var in ['deaths','confirmed']:\n",
    "        fig = brasil_vis(df_states,\n",
    "                         var,\n",
    "                         in_cities,\n",
    "                         today=today,\n",
    "                         save=save,\n",
    "                         themes=themes[config])\n",
    "\n",
    "        if config == 'novo':\n",
    "            pass\n",
    "        else:\n",
    "            name= \"brasil_por_estado_{}.html\".format(var)\n",
    "            path= f\"../images/storage/total/{name}\"\n",
    "            plot(fig, filename=path, auto_open=False)\n",
    "\n",
    "            io.to_storage(bucket='sv-covid19',\n",
    "                          bucket_folder='brasil',\n",
    "                          file_name=name,\n",
    "                          path_to_file=path)\n",
    "\n"
   ]
  },
  {
   "cell_type": "code",
   "execution_count": 427,
   "metadata": {},
   "outputs": [
    {
     "data": {
      "application/vnd.plotly.v1+json": {
       "config": {
        "plotlyServerURL": "https://plot.ly"
       },
       "data": [
        {
         "hoverlabel": {
          "font": {
           "size": 22
          },
          "namelength": -1
         },
         "line": {
          "color": "#FA7609",
          "width": 5
         },
         "marker": {
          "size": 7
         },
         "mode": "lines+markers",
         "name": "BRASIL",
         "type": "scatter",
         "x": [
          "2020-04-05",
          "2020-04-04",
          "2020-04-03",
          "2020-04-02",
          "2020-04-01",
          "2020-03-31",
          "2020-03-30",
          "2020-03-29",
          "2020-03-28",
          "2020-03-27",
          "2020-03-26",
          "2020-03-25",
          "2020-03-24",
          "2020-03-23",
          "2020-03-22",
          "2020-03-21",
          "2020-03-20",
          "2020-03-19",
          "2020-03-18",
          "2020-03-17",
          "2020-03-16",
          "2020-03-15",
          "2020-03-14",
          "2020-03-13",
          "2020-03-12",
          "2020-03-11",
          "2020-03-10",
          "2020-03-09",
          "2020-03-08",
          "2020-03-07",
          "2020-03-06",
          "2020-03-05",
          "2020-03-04",
          "2020-02-29",
          "2020-02-25"
         ],
         "y": [
          11130,
          10278,
          9056,
          7910,
          6836,
          5717,
          4597,
          4256,
          3904,
          3428,
          2915,
          2569,
          2273,
          1962,
          1620,
          1205,
          1012,
          694,
          535,
          364,
          301,
          231,
          147,
          120,
          109,
          69,
          35,
          30,
          25,
          19,
          13,
          8,
          3,
          2,
          1
         ]
        },
        {
         "hoverlabel": {
          "font": {
           "size": 22
          },
          "namelength": -1
         },
         "line": {
          "color": "#0D485A",
          "width": 5
         },
         "marker": {
          "size": 7
         },
         "mode": "lines+markers",
         "name": "BRASIL SEM SP",
         "type": "scatter",
         "x": [
          "2020-04-05",
          "2020-04-04",
          "2020-04-03",
          "2020-04-02",
          "2020-04-01",
          "2020-03-31",
          "2020-03-30",
          "2020-03-29",
          "2020-03-28",
          "2020-03-27",
          "2020-03-26",
          "2020-03-25",
          "2020-03-24",
          "2020-03-23",
          "2020-03-22",
          "2020-03-21",
          "2020-03-20",
          "2020-03-19",
          "2020-03-18",
          "2020-03-17",
          "2020-03-16",
          "2020-03-15",
          "2020-03-14",
          "2020-03-13",
          "2020-03-12",
          "2020-03-11",
          "2020-03-10",
          "2020-03-09",
          "2020-03-08",
          "2020-03-07",
          "2020-03-06",
          "2020-03-05"
         ],
         "y": [
          6510,
          5812,
          5008,
          4404,
          3855,
          3378,
          3062,
          2805,
          2498,
          2205,
          1864,
          1707,
          1463,
          1217,
          989,
          746,
          616,
          407,
          291,
          200,
          149,
          95,
          82,
          56,
          45,
          24,
          16,
          14,
          9,
          6,
          3,
          2
         ]
        },
        {
         "hoverlabel": {
          "font": {
           "size": 22
          },
          "namelength": -1
         },
         "line": {
          "color": "#1D8179",
          "width": 5
         },
         "marker": {
          "size": 7
         },
         "mode": "lines+markers",
         "name": "SP",
         "type": "scatter",
         "x": [
          "2020-04-05",
          "2020-04-04",
          "2020-04-03",
          "2020-04-02",
          "2020-04-01",
          "2020-03-31",
          "2020-03-30",
          "2020-03-29",
          "2020-03-28",
          "2020-03-27",
          "2020-03-26",
          "2020-03-25",
          "2020-03-24",
          "2020-03-23",
          "2020-03-22",
          "2020-03-21",
          "2020-03-20",
          "2020-03-19",
          "2020-03-18",
          "2020-03-17",
          "2020-03-16",
          "2020-03-15",
          "2020-03-14",
          "2020-03-13",
          "2020-03-12",
          "2020-03-11",
          "2020-03-10",
          "2020-03-09",
          "2020-03-08",
          "2020-03-07",
          "2020-03-06",
          "2020-03-05",
          "2020-03-04",
          "2020-02-29",
          "2020-02-25"
         ],
         "y": [
          4620,
          4466,
          4048,
          3506,
          2981,
          2339,
          1517,
          1451,
          1406,
          1223,
          1052,
          862,
          810,
          745,
          631,
          459,
          396,
          287,
          244,
          164,
          152,
          136,
          65,
          64,
          64,
          45,
          19,
          16,
          16,
          13,
          10,
          6,
          3,
          2,
          1
         ]
        },
        {
         "hoverlabel": {
          "font": {
           "size": 22
          },
          "namelength": -1
         },
         "line": {
          "color": "#585858",
          "width": 5
         },
         "marker": {
          "size": 7
         },
         "mode": "lines+markers",
         "name": "RJ",
         "type": "scatter",
         "x": [
          "2020-04-05",
          "2020-04-04",
          "2020-04-03",
          "2020-04-02",
          "2020-04-01",
          "2020-03-31",
          "2020-03-30",
          "2020-03-29",
          "2020-03-28",
          "2020-03-27",
          "2020-03-26",
          "2020-03-25",
          "2020-03-24",
          "2020-03-23",
          "2020-03-22",
          "2020-03-21",
          "2020-03-20",
          "2020-03-19",
          "2020-03-18",
          "2020-03-17",
          "2020-03-16",
          "2020-03-15",
          "2020-03-14",
          "2020-03-13",
          "2020-03-12",
          "2020-03-11",
          "2020-03-10",
          "2020-03-09",
          "2020-03-08",
          "2020-03-07",
          "2020-03-06",
          "2020-03-05"
         ],
         "y": [
          1394,
          1246,
          1074,
          992,
          832,
          708,
          657,
          600,
          558,
          493,
          421,
          370,
          305,
          233,
          186,
          119,
          109,
          66,
          63,
          39,
          31,
          24,
          24,
          19,
          16,
          14,
          8,
          8,
          3,
          2,
          1,
          1
         ]
        }
       ],
       "layout": {
        "annotations": [
         {
          "align": "left",
          "font": {
           "color": "#000000",
           "family": "Courier New, monospace",
           "size": 10
          },
          "showarrow": false,
          "text": "<b>Fonte: Ministério da Saúde<b>",
          "x": -0.1,
          "xref": "paper",
          "xshift": 0,
          "y": -0.32,
          "yref": "paper",
          "yshift": 0
         }
        ],
        "autosize": true,
        "barmode": "group",
        "font": {
         "color": "#000000",
         "size": 10
        },
        "legend": {
         "bgcolor": "rgba(0, 0, 0, 0)",
         "bordercolor": "rgba(0, 0, 0, 0)",
         "borderwidth": 0,
         "font": {
          "color": "#000000",
          "family": "Courier New, monospace",
          "size": 10
         },
         "orientation": "v",
         "traceorder": "normal",
         "x": 0.1,
         "y": 1
        },
        "paper_bgcolor": "#FFFFFF",
        "plot_bgcolor": "rgba(0, 0, 0, 0)",
        "template": {
         "data": {
          "bar": [
           {
            "error_x": {
             "color": "#2a3f5f"
            },
            "error_y": {
             "color": "#2a3f5f"
            },
            "marker": {
             "line": {
              "color": "#E5ECF6",
              "width": 0.5
             }
            },
            "type": "bar"
           }
          ],
          "barpolar": [
           {
            "marker": {
             "line": {
              "color": "#E5ECF6",
              "width": 0.5
             }
            },
            "type": "barpolar"
           }
          ],
          "carpet": [
           {
            "aaxis": {
             "endlinecolor": "#2a3f5f",
             "gridcolor": "white",
             "linecolor": "white",
             "minorgridcolor": "white",
             "startlinecolor": "#2a3f5f"
            },
            "baxis": {
             "endlinecolor": "#2a3f5f",
             "gridcolor": "white",
             "linecolor": "white",
             "minorgridcolor": "white",
             "startlinecolor": "#2a3f5f"
            },
            "type": "carpet"
           }
          ],
          "choropleth": [
           {
            "colorbar": {
             "outlinewidth": 0,
             "ticks": ""
            },
            "type": "choropleth"
           }
          ],
          "contour": [
           {
            "colorbar": {
             "outlinewidth": 0,
             "ticks": ""
            },
            "colorscale": [
             [
              0,
              "#0d0887"
             ],
             [
              0.1111111111111111,
              "#46039f"
             ],
             [
              0.2222222222222222,
              "#7201a8"
             ],
             [
              0.3333333333333333,
              "#9c179e"
             ],
             [
              0.4444444444444444,
              "#bd3786"
             ],
             [
              0.5555555555555556,
              "#d8576b"
             ],
             [
              0.6666666666666666,
              "#ed7953"
             ],
             [
              0.7777777777777778,
              "#fb9f3a"
             ],
             [
              0.8888888888888888,
              "#fdca26"
             ],
             [
              1,
              "#f0f921"
             ]
            ],
            "type": "contour"
           }
          ],
          "contourcarpet": [
           {
            "colorbar": {
             "outlinewidth": 0,
             "ticks": ""
            },
            "type": "contourcarpet"
           }
          ],
          "heatmap": [
           {
            "colorbar": {
             "outlinewidth": 0,
             "ticks": ""
            },
            "colorscale": [
             [
              0,
              "#0d0887"
             ],
             [
              0.1111111111111111,
              "#46039f"
             ],
             [
              0.2222222222222222,
              "#7201a8"
             ],
             [
              0.3333333333333333,
              "#9c179e"
             ],
             [
              0.4444444444444444,
              "#bd3786"
             ],
             [
              0.5555555555555556,
              "#d8576b"
             ],
             [
              0.6666666666666666,
              "#ed7953"
             ],
             [
              0.7777777777777778,
              "#fb9f3a"
             ],
             [
              0.8888888888888888,
              "#fdca26"
             ],
             [
              1,
              "#f0f921"
             ]
            ],
            "type": "heatmap"
           }
          ],
          "heatmapgl": [
           {
            "colorbar": {
             "outlinewidth": 0,
             "ticks": ""
            },
            "colorscale": [
             [
              0,
              "#0d0887"
             ],
             [
              0.1111111111111111,
              "#46039f"
             ],
             [
              0.2222222222222222,
              "#7201a8"
             ],
             [
              0.3333333333333333,
              "#9c179e"
             ],
             [
              0.4444444444444444,
              "#bd3786"
             ],
             [
              0.5555555555555556,
              "#d8576b"
             ],
             [
              0.6666666666666666,
              "#ed7953"
             ],
             [
              0.7777777777777778,
              "#fb9f3a"
             ],
             [
              0.8888888888888888,
              "#fdca26"
             ],
             [
              1,
              "#f0f921"
             ]
            ],
            "type": "heatmapgl"
           }
          ],
          "histogram": [
           {
            "marker": {
             "colorbar": {
              "outlinewidth": 0,
              "ticks": ""
             }
            },
            "type": "histogram"
           }
          ],
          "histogram2d": [
           {
            "colorbar": {
             "outlinewidth": 0,
             "ticks": ""
            },
            "colorscale": [
             [
              0,
              "#0d0887"
             ],
             [
              0.1111111111111111,
              "#46039f"
             ],
             [
              0.2222222222222222,
              "#7201a8"
             ],
             [
              0.3333333333333333,
              "#9c179e"
             ],
             [
              0.4444444444444444,
              "#bd3786"
             ],
             [
              0.5555555555555556,
              "#d8576b"
             ],
             [
              0.6666666666666666,
              "#ed7953"
             ],
             [
              0.7777777777777778,
              "#fb9f3a"
             ],
             [
              0.8888888888888888,
              "#fdca26"
             ],
             [
              1,
              "#f0f921"
             ]
            ],
            "type": "histogram2d"
           }
          ],
          "histogram2dcontour": [
           {
            "colorbar": {
             "outlinewidth": 0,
             "ticks": ""
            },
            "colorscale": [
             [
              0,
              "#0d0887"
             ],
             [
              0.1111111111111111,
              "#46039f"
             ],
             [
              0.2222222222222222,
              "#7201a8"
             ],
             [
              0.3333333333333333,
              "#9c179e"
             ],
             [
              0.4444444444444444,
              "#bd3786"
             ],
             [
              0.5555555555555556,
              "#d8576b"
             ],
             [
              0.6666666666666666,
              "#ed7953"
             ],
             [
              0.7777777777777778,
              "#fb9f3a"
             ],
             [
              0.8888888888888888,
              "#fdca26"
             ],
             [
              1,
              "#f0f921"
             ]
            ],
            "type": "histogram2dcontour"
           }
          ],
          "mesh3d": [
           {
            "colorbar": {
             "outlinewidth": 0,
             "ticks": ""
            },
            "type": "mesh3d"
           }
          ],
          "parcoords": [
           {
            "line": {
             "colorbar": {
              "outlinewidth": 0,
              "ticks": ""
             }
            },
            "type": "parcoords"
           }
          ],
          "pie": [
           {
            "automargin": true,
            "type": "pie"
           }
          ],
          "scatter": [
           {
            "marker": {
             "colorbar": {
              "outlinewidth": 0,
              "ticks": ""
             }
            },
            "type": "scatter"
           }
          ],
          "scatter3d": [
           {
            "line": {
             "colorbar": {
              "outlinewidth": 0,
              "ticks": ""
             }
            },
            "marker": {
             "colorbar": {
              "outlinewidth": 0,
              "ticks": ""
             }
            },
            "type": "scatter3d"
           }
          ],
          "scattercarpet": [
           {
            "marker": {
             "colorbar": {
              "outlinewidth": 0,
              "ticks": ""
             }
            },
            "type": "scattercarpet"
           }
          ],
          "scattergeo": [
           {
            "marker": {
             "colorbar": {
              "outlinewidth": 0,
              "ticks": ""
             }
            },
            "type": "scattergeo"
           }
          ],
          "scattergl": [
           {
            "marker": {
             "colorbar": {
              "outlinewidth": 0,
              "ticks": ""
             }
            },
            "type": "scattergl"
           }
          ],
          "scattermapbox": [
           {
            "marker": {
             "colorbar": {
              "outlinewidth": 0,
              "ticks": ""
             }
            },
            "type": "scattermapbox"
           }
          ],
          "scatterpolar": [
           {
            "marker": {
             "colorbar": {
              "outlinewidth": 0,
              "ticks": ""
             }
            },
            "type": "scatterpolar"
           }
          ],
          "scatterpolargl": [
           {
            "marker": {
             "colorbar": {
              "outlinewidth": 0,
              "ticks": ""
             }
            },
            "type": "scatterpolargl"
           }
          ],
          "scatterternary": [
           {
            "marker": {
             "colorbar": {
              "outlinewidth": 0,
              "ticks": ""
             }
            },
            "type": "scatterternary"
           }
          ],
          "surface": [
           {
            "colorbar": {
             "outlinewidth": 0,
             "ticks": ""
            },
            "colorscale": [
             [
              0,
              "#0d0887"
             ],
             [
              0.1111111111111111,
              "#46039f"
             ],
             [
              0.2222222222222222,
              "#7201a8"
             ],
             [
              0.3333333333333333,
              "#9c179e"
             ],
             [
              0.4444444444444444,
              "#bd3786"
             ],
             [
              0.5555555555555556,
              "#d8576b"
             ],
             [
              0.6666666666666666,
              "#ed7953"
             ],
             [
              0.7777777777777778,
              "#fb9f3a"
             ],
             [
              0.8888888888888888,
              "#fdca26"
             ],
             [
              1,
              "#f0f921"
             ]
            ],
            "type": "surface"
           }
          ],
          "table": [
           {
            "cells": {
             "fill": {
              "color": "#EBF0F8"
             },
             "line": {
              "color": "white"
             }
            },
            "header": {
             "fill": {
              "color": "#C8D4E3"
             },
             "line": {
              "color": "white"
             }
            },
            "type": "table"
           }
          ]
         },
         "layout": {
          "annotationdefaults": {
           "arrowcolor": "#2a3f5f",
           "arrowhead": 0,
           "arrowwidth": 1
          },
          "coloraxis": {
           "colorbar": {
            "outlinewidth": 0,
            "ticks": ""
           }
          },
          "colorscale": {
           "diverging": [
            [
             0,
             "#8e0152"
            ],
            [
             0.1,
             "#c51b7d"
            ],
            [
             0.2,
             "#de77ae"
            ],
            [
             0.3,
             "#f1b6da"
            ],
            [
             0.4,
             "#fde0ef"
            ],
            [
             0.5,
             "#f7f7f7"
            ],
            [
             0.6,
             "#e6f5d0"
            ],
            [
             0.7,
             "#b8e186"
            ],
            [
             0.8,
             "#7fbc41"
            ],
            [
             0.9,
             "#4d9221"
            ],
            [
             1,
             "#276419"
            ]
           ],
           "sequential": [
            [
             0,
             "#0d0887"
            ],
            [
             0.1111111111111111,
             "#46039f"
            ],
            [
             0.2222222222222222,
             "#7201a8"
            ],
            [
             0.3333333333333333,
             "#9c179e"
            ],
            [
             0.4444444444444444,
             "#bd3786"
            ],
            [
             0.5555555555555556,
             "#d8576b"
            ],
            [
             0.6666666666666666,
             "#ed7953"
            ],
            [
             0.7777777777777778,
             "#fb9f3a"
            ],
            [
             0.8888888888888888,
             "#fdca26"
            ],
            [
             1,
             "#f0f921"
            ]
           ],
           "sequentialminus": [
            [
             0,
             "#0d0887"
            ],
            [
             0.1111111111111111,
             "#46039f"
            ],
            [
             0.2222222222222222,
             "#7201a8"
            ],
            [
             0.3333333333333333,
             "#9c179e"
            ],
            [
             0.4444444444444444,
             "#bd3786"
            ],
            [
             0.5555555555555556,
             "#d8576b"
            ],
            [
             0.6666666666666666,
             "#ed7953"
            ],
            [
             0.7777777777777778,
             "#fb9f3a"
            ],
            [
             0.8888888888888888,
             "#fdca26"
            ],
            [
             1,
             "#f0f921"
            ]
           ]
          },
          "colorway": [
           "#636efa",
           "#EF553B",
           "#00cc96",
           "#ab63fa",
           "#FFA15A",
           "#19d3f3",
           "#FF6692",
           "#B6E880",
           "#FF97FF",
           "#FECB52"
          ],
          "font": {
           "color": "#2a3f5f"
          },
          "geo": {
           "bgcolor": "white",
           "lakecolor": "white",
           "landcolor": "#E5ECF6",
           "showlakes": true,
           "showland": true,
           "subunitcolor": "white"
          },
          "hoverlabel": {
           "align": "left"
          },
          "hovermode": "closest",
          "mapbox": {
           "style": "light"
          },
          "paper_bgcolor": "white",
          "plot_bgcolor": "#E5ECF6",
          "polar": {
           "angularaxis": {
            "gridcolor": "white",
            "linecolor": "white",
            "ticks": ""
           },
           "bgcolor": "#E5ECF6",
           "radialaxis": {
            "gridcolor": "white",
            "linecolor": "white",
            "ticks": ""
           }
          },
          "scene": {
           "xaxis": {
            "backgroundcolor": "#E5ECF6",
            "gridcolor": "white",
            "gridwidth": 2,
            "linecolor": "white",
            "showbackground": true,
            "ticks": "",
            "zerolinecolor": "white"
           },
           "yaxis": {
            "backgroundcolor": "#E5ECF6",
            "gridcolor": "white",
            "gridwidth": 2,
            "linecolor": "white",
            "showbackground": true,
            "ticks": "",
            "zerolinecolor": "white"
           },
           "zaxis": {
            "backgroundcolor": "#E5ECF6",
            "gridcolor": "white",
            "gridwidth": 2,
            "linecolor": "white",
            "showbackground": true,
            "ticks": "",
            "zerolinecolor": "white"
           }
          },
          "shapedefaults": {
           "line": {
            "color": "#2a3f5f"
           }
          },
          "ternary": {
           "aaxis": {
            "gridcolor": "white",
            "linecolor": "white",
            "ticks": ""
           },
           "baxis": {
            "gridcolor": "white",
            "linecolor": "white",
            "ticks": ""
           },
           "bgcolor": "#E5ECF6",
           "caxis": {
            "gridcolor": "white",
            "linecolor": "white",
            "ticks": ""
           }
          },
          "title": {
           "x": 0.05
          },
          "xaxis": {
           "automargin": true,
           "gridcolor": "white",
           "linecolor": "white",
           "ticks": "",
           "title": {
            "standoff": 15
           },
           "zerolinecolor": "white",
           "zerolinewidth": 2
          },
          "yaxis": {
           "automargin": true,
           "gridcolor": "white",
           "linecolor": "white",
           "ticks": "",
           "title": {
            "standoff": 15
           },
           "zerolinecolor": "white",
           "zerolinewidth": 2
          }
         }
        },
        "title": {
         "font": {
          "color": "#000000",
          "size": 14
         },
         "text": "<b>EVOLUÇÃO DO NUMERO DE CASOS",
         "x": 0.5,
         "xanchor": "center",
         "yanchor": "top"
        },
        "xaxis": {
         "autorange": true,
         "gridcolor": "#000000",
         "range": [
          "2020-02-22 15:48:19.8866",
          "2020-04-07 08:11:40.1134"
         ],
         "tickfont": {
          "color": "#000000",
          "size": 10
         },
         "tickformat": "%d/%m",
         "title": {
          "text": "<b>DATA<b>"
         },
         "type": "date",
         "zerolinecolor": "#000000"
        },
        "yaxis": {
         "autorange": true,
         "gridcolor": "#000000",
         "range": [
          -848.2246531483459,
          11979.224653148345
         ],
         "tickfont": {
          "color": "#000000",
          "size": 10
         },
         "title": {
          "text": "<b>CASOS CONFIRMADOS<b>"
         },
         "type": "linear",
         "zerolinecolor": "#000000"
        }
       }
      },
      "image/png": "[encoded data removed]",
      "text/html": [
       "<div>\n",
       "        \n",
       "        \n",
       "            <div id=\"267a64c4-63f8-4135-bbc0-f31cec7a3a13\" class=\"plotly-graph-div\" style=\"height:525px; width:100%;\"></div>\n",
       "            <script type=\"text/javascript\">\n",
       "                require([\"plotly\"], function(Plotly) {\n",
       "                    window.PLOTLYENV=window.PLOTLYENV || {};\n",
       "                    \n",
       "                if (document.getElementById(\"267a64c4-63f8-4135-bbc0-f31cec7a3a13\")) {\n",
       "                    Plotly.newPlot(\n",
       "                        '267a64c4-63f8-4135-bbc0-f31cec7a3a13',\n",
       "                        [{\"hoverlabel\": {\"font\": {\"size\": 22}, \"namelength\": -1}, \"line\": {\"color\": \"#FA7609\", \"width\": 5}, \"marker\": {\"size\": 7}, \"mode\": \"lines+markers\", \"name\": \"BRASIL\", \"type\": \"scatter\", \"x\": [\"2020-04-05\", \"2020-04-04\", \"2020-04-03\", \"2020-04-02\", \"2020-04-01\", \"2020-03-31\", \"2020-03-30\", \"2020-03-29\", \"2020-03-28\", \"2020-03-27\", \"2020-03-26\", \"2020-03-25\", \"2020-03-24\", \"2020-03-23\", \"2020-03-22\", \"2020-03-21\", \"2020-03-20\", \"2020-03-19\", \"2020-03-18\", \"2020-03-17\", \"2020-03-16\", \"2020-03-15\", \"2020-03-14\", \"2020-03-13\", \"2020-03-12\", \"2020-03-11\", \"2020-03-10\", \"2020-03-09\", \"2020-03-08\", \"2020-03-07\", \"2020-03-06\", \"2020-03-05\", \"2020-03-04\", \"2020-02-29\", \"2020-02-25\"], \"y\": [11130, 10278, 9056, 7910, 6836, 5717, 4597, 4256, 3904, 3428, 2915, 2569, 2273, 1962, 1620, 1205, 1012, 694, 535, 364, 301, 231, 147, 120, 109, 69, 35, 30, 25, 19, 13, 8, 3, 2, 1]}, {\"hoverlabel\": {\"font\": {\"size\": 22}, \"namelength\": -1}, \"line\": {\"color\": \"#0D485A\", \"width\": 5}, \"marker\": {\"size\": 7}, \"mode\": \"lines+markers\", \"name\": \"BRASIL SEM SP\", \"type\": \"scatter\", \"x\": [\"2020-04-05\", \"2020-04-04\", \"2020-04-03\", \"2020-04-02\", \"2020-04-01\", \"2020-03-31\", \"2020-03-30\", \"2020-03-29\", \"2020-03-28\", \"2020-03-27\", \"2020-03-26\", \"2020-03-25\", \"2020-03-24\", \"2020-03-23\", \"2020-03-22\", \"2020-03-21\", \"2020-03-20\", \"2020-03-19\", \"2020-03-18\", \"2020-03-17\", \"2020-03-16\", \"2020-03-15\", \"2020-03-14\", \"2020-03-13\", \"2020-03-12\", \"2020-03-11\", \"2020-03-10\", \"2020-03-09\", \"2020-03-08\", \"2020-03-07\", \"2020-03-06\", \"2020-03-05\"], \"y\": [6510, 5812, 5008, 4404, 3855, 3378, 3062, 2805, 2498, 2205, 1864, 1707, 1463, 1217, 989, 746, 616, 407, 291, 200, 149, 95, 82, 56, 45, 24, 16, 14, 9, 6, 3, 2]}, {\"hoverlabel\": {\"font\": {\"size\": 22}, \"namelength\": -1}, \"line\": {\"color\": \"#1D8179\", \"width\": 5}, \"marker\": {\"size\": 7}, \"mode\": \"lines+markers\", \"name\": \"SP\", \"type\": \"scatter\", \"x\": [\"2020-04-05\", \"2020-04-04\", \"2020-04-03\", \"2020-04-02\", \"2020-04-01\", \"2020-03-31\", \"2020-03-30\", \"2020-03-29\", \"2020-03-28\", \"2020-03-27\", \"2020-03-26\", \"2020-03-25\", \"2020-03-24\", \"2020-03-23\", \"2020-03-22\", \"2020-03-21\", \"2020-03-20\", \"2020-03-19\", \"2020-03-18\", \"2020-03-17\", \"2020-03-16\", \"2020-03-15\", \"2020-03-14\", \"2020-03-13\", \"2020-03-12\", \"2020-03-11\", \"2020-03-10\", \"2020-03-09\", \"2020-03-08\", \"2020-03-07\", \"2020-03-06\", \"2020-03-05\", \"2020-03-04\", \"2020-02-29\", \"2020-02-25\"], \"y\": [4620, 4466, 4048, 3506, 2981, 2339, 1517, 1451, 1406, 1223, 1052, 862, 810, 745, 631, 459, 396, 287, 244, 164, 152, 136, 65, 64, 64, 45, 19, 16, 16, 13, 10, 6, 3, 2, 1]}, {\"hoverlabel\": {\"font\": {\"size\": 22}, \"namelength\": -1}, \"line\": {\"color\": \"#585858\", \"width\": 5}, \"marker\": {\"size\": 7}, \"mode\": \"lines+markers\", \"name\": \"RJ\", \"type\": \"scatter\", \"x\": [\"2020-04-05\", \"2020-04-04\", \"2020-04-03\", \"2020-04-02\", \"2020-04-01\", \"2020-03-31\", \"2020-03-30\", \"2020-03-29\", \"2020-03-28\", \"2020-03-27\", \"2020-03-26\", \"2020-03-25\", \"2020-03-24\", \"2020-03-23\", \"2020-03-22\", \"2020-03-21\", \"2020-03-20\", \"2020-03-19\", \"2020-03-18\", \"2020-03-17\", \"2020-03-16\", \"2020-03-15\", \"2020-03-14\", \"2020-03-13\", \"2020-03-12\", \"2020-03-11\", \"2020-03-10\", \"2020-03-09\", \"2020-03-08\", \"2020-03-07\", \"2020-03-06\", \"2020-03-05\"], \"y\": [1394, 1246, 1074, 992, 832, 708, 657, 600, 558, 493, 421, 370, 305, 233, 186, 119, 109, 66, 63, 39, 31, 24, 24, 19, 16, 14, 8, 8, 3, 2, 1, 1]}],\n",
       "                        {\"annotations\": [{\"align\": \"left\", \"font\": {\"color\": \"#000000\", \"family\": \"Courier New, monospace\", \"size\": 10}, \"showarrow\": false, \"text\": \"<b>Fonte: Minist\\u00e9rio da Sa\\u00fade<b>\", \"x\": -0.1, \"xref\": \"paper\", \"xshift\": 0, \"y\": -0.32, \"yref\": \"paper\", \"yshift\": 0}], \"autosize\": true, \"barmode\": \"group\", \"font\": {\"color\": \"#000000\", \"size\": 10}, \"legend\": {\"bgcolor\": \"rgba(0,0,0,0)\", \"bordercolor\": \"rgba(0,0,0,0)\", \"borderwidth\": 0, \"font\": {\"color\": \"#000000\", \"family\": \"Courier New, monospace\", \"size\": 10}, \"orientation\": \"v\", \"traceorder\": \"normal\", \"x\": 0.1, \"y\": 1}, \"paper_bgcolor\": \"#FFFFFF\", \"plot_bgcolor\": \"rgba(0,0,0,0)\", \"template\": {\"data\": {\"bar\": [{\"error_x\": {\"color\": \"#2a3f5f\"}, \"error_y\": {\"color\": \"#2a3f5f\"}, \"marker\": {\"line\": {\"color\": \"#E5ECF6\", \"width\": 0.5}}, \"type\": \"bar\"}], \"barpolar\": [{\"marker\": {\"line\": {\"color\": \"#E5ECF6\", \"width\": 0.5}}, \"type\": \"barpolar\"}], \"carpet\": [{\"aaxis\": {\"endlinecolor\": \"#2a3f5f\", \"gridcolor\": \"white\", \"linecolor\": \"white\", \"minorgridcolor\": \"white\", \"startlinecolor\": \"#2a3f5f\"}, \"baxis\": {\"endlinecolor\": \"#2a3f5f\", \"gridcolor\": \"white\", \"linecolor\": \"white\", \"minorgridcolor\": \"white\", \"startlinecolor\": \"#2a3f5f\"}, \"type\": \"carpet\"}], \"choropleth\": [{\"colorbar\": {\"outlinewidth\": 0, \"ticks\": \"\"}, \"type\": \"choropleth\"}], \"contour\": [{\"colorbar\": {\"outlinewidth\": 0, \"ticks\": \"\"}, \"colorscale\": [[0.0, \"#0d0887\"], [0.1111111111111111, \"#46039f\"], [0.2222222222222222, \"#7201a8\"], [0.3333333333333333, \"#9c179e\"], [0.4444444444444444, \"#bd3786\"], [0.5555555555555556, \"#d8576b\"], [0.6666666666666666, \"#ed7953\"], [0.7777777777777778, \"#fb9f3a\"], [0.8888888888888888, \"#fdca26\"], [1.0, \"#f0f921\"]], \"type\": \"contour\"}], \"contourcarpet\": [{\"colorbar\": {\"outlinewidth\": 0, \"ticks\": \"\"}, \"type\": \"contourcarpet\"}], \"heatmap\": [{\"colorbar\": {\"outlinewidth\": 0, \"ticks\": \"\"}, \"colorscale\": [[0.0, \"#0d0887\"], [0.1111111111111111, \"#46039f\"], [0.2222222222222222, \"#7201a8\"], [0.3333333333333333, \"#9c179e\"], [0.4444444444444444, \"#bd3786\"], [0.5555555555555556, \"#d8576b\"], [0.6666666666666666, \"#ed7953\"], [0.7777777777777778, \"#fb9f3a\"], [0.8888888888888888, \"#fdca26\"], [1.0, \"#f0f921\"]], \"type\": \"heatmap\"}], \"heatmapgl\": [{\"colorbar\": {\"outlinewidth\": 0, \"ticks\": \"\"}, \"colorscale\": [[0.0, \"#0d0887\"], [0.1111111111111111, \"#46039f\"], [0.2222222222222222, \"#7201a8\"], [0.3333333333333333, \"#9c179e\"], [0.4444444444444444, \"#bd3786\"], [0.5555555555555556, \"#d8576b\"], [0.6666666666666666, \"#ed7953\"], [0.7777777777777778, \"#fb9f3a\"], [0.8888888888888888, \"#fdca26\"], [1.0, \"#f0f921\"]], \"type\": \"heatmapgl\"}], \"histogram\": [{\"marker\": {\"colorbar\": {\"outlinewidth\": 0, \"ticks\": \"\"}}, \"type\": \"histogram\"}], \"histogram2d\": [{\"colorbar\": {\"outlinewidth\": 0, \"ticks\": \"\"}, \"colorscale\": [[0.0, \"#0d0887\"], [0.1111111111111111, \"#46039f\"], [0.2222222222222222, \"#7201a8\"], [0.3333333333333333, \"#9c179e\"], [0.4444444444444444, \"#bd3786\"], [0.5555555555555556, \"#d8576b\"], [0.6666666666666666, \"#ed7953\"], [0.7777777777777778, \"#fb9f3a\"], [0.8888888888888888, \"#fdca26\"], [1.0, \"#f0f921\"]], \"type\": \"histogram2d\"}], \"histogram2dcontour\": [{\"colorbar\": {\"outlinewidth\": 0, \"ticks\": \"\"}, \"colorscale\": [[0.0, \"#0d0887\"], [0.1111111111111111, \"#46039f\"], [0.2222222222222222, \"#7201a8\"], [0.3333333333333333, \"#9c179e\"], [0.4444444444444444, \"#bd3786\"], [0.5555555555555556, \"#d8576b\"], [0.6666666666666666, \"#ed7953\"], [0.7777777777777778, \"#fb9f3a\"], [0.8888888888888888, \"#fdca26\"], [1.0, \"#f0f921\"]], \"type\": \"histogram2dcontour\"}], \"mesh3d\": [{\"colorbar\": {\"outlinewidth\": 0, \"ticks\": \"\"}, \"type\": \"mesh3d\"}], \"parcoords\": [{\"line\": {\"colorbar\": {\"outlinewidth\": 0, \"ticks\": \"\"}}, \"type\": \"parcoords\"}], \"pie\": [{\"automargin\": true, \"type\": \"pie\"}], \"scatter\": [{\"marker\": {\"colorbar\": {\"outlinewidth\": 0, \"ticks\": \"\"}}, \"type\": \"scatter\"}], \"scatter3d\": [{\"line\": {\"colorbar\": {\"outlinewidth\": 0, \"ticks\": \"\"}}, \"marker\": {\"colorbar\": {\"outlinewidth\": 0, \"ticks\": \"\"}}, \"type\": \"scatter3d\"}], \"scattercarpet\": [{\"marker\": {\"colorbar\": {\"outlinewidth\": 0, \"ticks\": \"\"}}, \"type\": \"scattercarpet\"}], \"scattergeo\": [{\"marker\": {\"colorbar\": {\"outlinewidth\": 0, \"ticks\": \"\"}}, \"type\": \"scattergeo\"}], \"scattergl\": [{\"marker\": {\"colorbar\": {\"outlinewidth\": 0, \"ticks\": \"\"}}, \"type\": \"scattergl\"}], \"scattermapbox\": [{\"marker\": {\"colorbar\": {\"outlinewidth\": 0, \"ticks\": \"\"}}, \"type\": \"scattermapbox\"}], \"scatterpolar\": [{\"marker\": {\"colorbar\": {\"outlinewidth\": 0, \"ticks\": \"\"}}, \"type\": \"scatterpolar\"}], \"scatterpolargl\": [{\"marker\": {\"colorbar\": {\"outlinewidth\": 0, \"ticks\": \"\"}}, \"type\": \"scatterpolargl\"}], \"scatterternary\": [{\"marker\": {\"colorbar\": {\"outlinewidth\": 0, \"ticks\": \"\"}}, \"type\": \"scatterternary\"}], \"surface\": [{\"colorbar\": {\"outlinewidth\": 0, \"ticks\": \"\"}, \"colorscale\": [[0.0, \"#0d0887\"], [0.1111111111111111, \"#46039f\"], [0.2222222222222222, \"#7201a8\"], [0.3333333333333333, \"#9c179e\"], [0.4444444444444444, \"#bd3786\"], [0.5555555555555556, \"#d8576b\"], [0.6666666666666666, \"#ed7953\"], [0.7777777777777778, \"#fb9f3a\"], [0.8888888888888888, \"#fdca26\"], [1.0, \"#f0f921\"]], \"type\": \"surface\"}], \"table\": [{\"cells\": {\"fill\": {\"color\": \"#EBF0F8\"}, \"line\": {\"color\": \"white\"}}, \"header\": {\"fill\": {\"color\": \"#C8D4E3\"}, \"line\": {\"color\": \"white\"}}, \"type\": \"table\"}]}, \"layout\": {\"annotationdefaults\": {\"arrowcolor\": \"#2a3f5f\", \"arrowhead\": 0, \"arrowwidth\": 1}, \"coloraxis\": {\"colorbar\": {\"outlinewidth\": 0, \"ticks\": \"\"}}, \"colorscale\": {\"diverging\": [[0, \"#8e0152\"], [0.1, \"#c51b7d\"], [0.2, \"#de77ae\"], [0.3, \"#f1b6da\"], [0.4, \"#fde0ef\"], [0.5, \"#f7f7f7\"], [0.6, \"#e6f5d0\"], [0.7, \"#b8e186\"], [0.8, \"#7fbc41\"], [0.9, \"#4d9221\"], [1, \"#276419\"]], \"sequential\": [[0.0, \"#0d0887\"], [0.1111111111111111, \"#46039f\"], [0.2222222222222222, \"#7201a8\"], [0.3333333333333333, \"#9c179e\"], [0.4444444444444444, \"#bd3786\"], [0.5555555555555556, \"#d8576b\"], [0.6666666666666666, \"#ed7953\"], [0.7777777777777778, \"#fb9f3a\"], [0.8888888888888888, \"#fdca26\"], [1.0, \"#f0f921\"]], \"sequentialminus\": [[0.0, \"#0d0887\"], [0.1111111111111111, \"#46039f\"], [0.2222222222222222, \"#7201a8\"], [0.3333333333333333, \"#9c179e\"], [0.4444444444444444, \"#bd3786\"], [0.5555555555555556, \"#d8576b\"], [0.6666666666666666, \"#ed7953\"], [0.7777777777777778, \"#fb9f3a\"], [0.8888888888888888, \"#fdca26\"], [1.0, \"#f0f921\"]]}, \"colorway\": [\"#636efa\", \"#EF553B\", \"#00cc96\", \"#ab63fa\", \"#FFA15A\", \"#19d3f3\", \"#FF6692\", \"#B6E880\", \"#FF97FF\", \"#FECB52\"], \"font\": {\"color\": \"#2a3f5f\"}, \"geo\": {\"bgcolor\": \"white\", \"lakecolor\": \"white\", \"landcolor\": \"#E5ECF6\", \"showlakes\": true, \"showland\": true, \"subunitcolor\": \"white\"}, \"hoverlabel\": {\"align\": \"left\"}, \"hovermode\": \"closest\", \"mapbox\": {\"style\": \"light\"}, \"paper_bgcolor\": \"white\", \"plot_bgcolor\": \"#E5ECF6\", \"polar\": {\"angularaxis\": {\"gridcolor\": \"white\", \"linecolor\": \"white\", \"ticks\": \"\"}, \"bgcolor\": \"#E5ECF6\", \"radialaxis\": {\"gridcolor\": \"white\", \"linecolor\": \"white\", \"ticks\": \"\"}}, \"scene\": {\"xaxis\": {\"backgroundcolor\": \"#E5ECF6\", \"gridcolor\": \"white\", \"gridwidth\": 2, \"linecolor\": \"white\", \"showbackground\": true, \"ticks\": \"\", \"zerolinecolor\": \"white\"}, \"yaxis\": {\"backgroundcolor\": \"#E5ECF6\", \"gridcolor\": \"white\", \"gridwidth\": 2, \"linecolor\": \"white\", \"showbackground\": true, \"ticks\": \"\", \"zerolinecolor\": \"white\"}, \"zaxis\": {\"backgroundcolor\": \"#E5ECF6\", \"gridcolor\": \"white\", \"gridwidth\": 2, \"linecolor\": \"white\", \"showbackground\": true, \"ticks\": \"\", \"zerolinecolor\": \"white\"}}, \"shapedefaults\": {\"line\": {\"color\": \"#2a3f5f\"}}, \"ternary\": {\"aaxis\": {\"gridcolor\": \"white\", \"linecolor\": \"white\", \"ticks\": \"\"}, \"baxis\": {\"gridcolor\": \"white\", \"linecolor\": \"white\", \"ticks\": \"\"}, \"bgcolor\": \"#E5ECF6\", \"caxis\": {\"gridcolor\": \"white\", \"linecolor\": \"white\", \"ticks\": \"\"}}, \"title\": {\"x\": 0.05}, \"xaxis\": {\"automargin\": true, \"gridcolor\": \"white\", \"linecolor\": \"white\", \"ticks\": \"\", \"title\": {\"standoff\": 15}, \"zerolinecolor\": \"white\", \"zerolinewidth\": 2}, \"yaxis\": {\"automargin\": true, \"gridcolor\": \"white\", \"linecolor\": \"white\", \"ticks\": \"\", \"title\": {\"standoff\": 15}, \"zerolinecolor\": \"white\", \"zerolinewidth\": 2}}}, \"title\": {\"font\": {\"color\": \"#000000\", \"size\": 14}, \"text\": \"<b>EVOLU\\u00c7\\u00c3O DO NUMERO DE CASOS\", \"x\": 0.5, \"xanchor\": \"center\", \"yanchor\": \"top\"}, \"xaxis\": {\"gridcolor\": \"#000000\", \"tickfont\": {\"color\": \"#000000\", \"size\": 10}, \"tickformat\": \"%d/%m\", \"title\": {\"text\": \"<b>DATA<b>\"}, \"zerolinecolor\": \"#000000\"}, \"yaxis\": {\"gridcolor\": \"#000000\", \"tickfont\": {\"color\": \"#000000\", \"size\": 10}, \"title\": {\"text\": \"<b>CASOS CONFIRMADOS<b>\"}, \"zerolinecolor\": \"#000000\"}},\n",
       "                        {\"responsive\": true}\n",
       "                    ).then(function(){\n",
       "                            \n",
       "var gd = document.getElementById('267a64c4-63f8-4135-bbc0-f31cec7a3a13');\n",
       "var x = new MutationObserver(function (mutations, observer) {{\n",
       "        var display = window.getComputedStyle(gd).display;\n",
       "        if (!display || display === 'none') {{\n",
       "            console.log([gd, 'removed!']);\n",
       "            Plotly.purge(gd);\n",
       "            observer.disconnect();\n",
       "        }}\n",
       "}});\n",
       "\n",
       "// Listen for the removal of the full notebook cells\n",
       "var notebookContainer = gd.closest('#notebook-container');\n",
       "if (notebookContainer) {{\n",
       "    x.observe(notebookContainer, {childList: true});\n",
       "}}\n",
       "\n",
       "// Listen for the clearing of the current output cell\n",
       "var outputEl = gd.closest('.output');\n",
       "if (outputEl) {{\n",
       "    x.observe(outputEl, {childList: true});\n",
       "}}\n",
       "\n",
       "                        })\n",
       "                };\n",
       "                });\n",
       "            </script>\n",
       "        </div>"
      ]
     },
     "metadata": {},
     "output_type": "display_data"
    }
   ],
   "source": [
    "themes = yaml.load(open('../themes/custom_colorscales.yaml', 'r'), Loader=yaml.FullLoader)\n",
    "\n",
    "brasil_vis(df_states,\n",
    "                 var,\n",
    "                 in_cities,\n",
    "                 today=today,\n",
    "                 save=False,\n",
    "                 themes=themes['novo_storage'])"
   ]
  },
  {
   "cell_type": "code",
   "execution_count": 420,
   "metadata": {},
   "outputs": [],
   "source": []
  },
  {
   "cell_type": "code",
   "execution_count": 435,
   "metadata": {},
   "outputs": [
    {
     "name": "stdout",
     "output_type": "stream",
     "text": [
      "Done!\n",
      "Done!\n"
     ]
    }
   ],
   "source": [
    "from scripts import vis_graphs\n",
    "\n",
    "brasil = df_states[df_states['state']=='BRASIL']\n",
    "brasil['countrycode'] = 'Brasil'\n",
    "brasil['countryname'] = 'Brasil'\n",
    "\n",
    "for var in ['cases','deaths']:\n",
    "    fig = vis_graphs.total_by_country(df = brasil, geoid='Brasil', var=var,themes = themes['novo_storage'])\n",
    "\n",
    "    if var == 'cases':\n",
    "        name= \"brasil_lin_total.html\"\n",
    "    else:\n",
    "        name = \"brasil_lin_mortes.html\"\n",
    "\n",
    "    path= f\"../images/storage/diario/{name}\"\n",
    "    plot(fig, filename=path, auto_open=False)\n",
    "\n",
    "    io.to_storage(bucket='sv-covid19',\n",
    "                  bucket_folder='brasil',\n",
    "                  file_name=name,\n",
    "                  path_to_file=path)\n",
    "\n",
    "    "
   ]
  },
  {
   "cell_type": "code",
   "execution_count": null,
   "metadata": {},
   "outputs": [],
   "source": []
  },
  {
   "cell_type": "code",
   "execution_count": null,
   "metadata": {},
   "outputs": [],
   "source": []
  },
  {
   "cell_type": "code",
   "execution_count": null,
   "metadata": {},
   "outputs": [],
   "source": []
  },
  {
   "cell_type": "code",
   "execution_count": null,
   "metadata": {},
   "outputs": [],
   "source": []
  },
  {
   "cell_type": "code",
   "execution_count": 99,
   "metadata": {},
   "outputs": [],
   "source": [
    "# fig.write_image(\"../images/brasil/brasil_por_estado_confirmed.pdf\")\n",
    "\n",
    "\n"
   ]
  },
  {
   "cell_type": "code",
   "execution_count": null,
   "metadata": {},
   "outputs": [],
   "source": []
  },
  {
   "cell_type": "code",
   "execution_count": null,
   "metadata": {},
   "outputs": [],
   "source": []
  },
  {
   "cell_type": "markdown",
   "metadata": {},
   "source": [
    "## MAPS"
   ]
  },
  {
   "cell_type": "code",
   "execution_count": 100,
   "metadata": {},
   "outputs": [],
   "source": [
    "#minicipales data\n",
    "municipios = pd.read_csv('../data/br_municipios_ibge.csv', dtype={'geocodigo':str})\n",
    "df = brio.copy()\n",
    "\n",
    "#load shape files;\n",
    "ufs = gpd.read_file('../../mapas_brasil/estados-ibge/BRUFE250GC_SIR.shp')\n",
    "maps = gpd.read_file('../../mapas_brasil/municipios-ibge/brasil-municipios.shp')"
   ]
  },
  {
   "cell_type": "code",
   "execution_count": 101,
   "metadata": {},
   "outputs": [],
   "source": [
    "from scripts import manipulation\n",
    "#prepare data for map\n",
    "final, estados = manipulation.manipulate_for_br_maps(df, municipios, maps, df_states, ufs)"
   ]
  },
  {
   "cell_type": "code",
   "execution_count": 102,
   "metadata": {},
   "outputs": [],
   "source": [
    "from scripts import vis_maps\n",
    "\n",
    "#generate map\n",
    "cols = ['Município','Estado','Casos Confirmados', 'Óbitos Confirmados', 'Data do Boletim']\n",
    "mymap =  vis_maps.get_map(final,'Casos Confirmados', cols, estados)\n",
    "\n",
    "mymap.save('../maps/cidades_estados.html')\n",
    "# mymap.save('../../sample_pages/images/covid19/maps/cidades_estados.html')"
   ]
  },
  {
   "cell_type": "code",
   "execution_count": 11,
   "metadata": {},
   "outputs": [
    {
     "name": "stdout",
     "output_type": "stream",
     "text": [
      "Done!\n"
     ]
    }
   ],
   "source": [
    "from scripts import io\n",
    "\n",
    "io.to_storage(bucket='sv-covid19',\n",
    "              bucket_folder='maps',\n",
    "              file_name='cidades_estados.html',\n",
    "              path_to_file='../maps/cidades_estados.html')"
   ]
  },
  {
   "cell_type": "code",
   "execution_count": null,
   "metadata": {},
   "outputs": [],
   "source": []
  },
  {
   "cell_type": "markdown",
   "metadata": {},
   "source": [
    "## Vale"
   ]
  },
  {
   "cell_type": "code",
   "execution_count": 402,
   "metadata": {},
   "outputs": [],
   "source": [
    "from scripts.io import read_sheets\n",
    "from scripts import manipulation\n",
    "#download and manipulate vale data\n",
    "df = read_sheets('covid19_vale_do_paraiba_e_litoral_norte')\n",
    "df = manipulation.manipulate_vale_data(df)\n",
    "\n",
    "#load shape files\n",
    "municipios_sp = gpd.read_file('../../brasil_geodata/maps/sp_municipios.json')\n",
    "ufs = gpd.read_file('../../mapas_brasil/estados-ibge/BRUFE250GC_SIR.shp')\n"
   ]
  },
  {
   "cell_type": "code",
   "execution_count": 326,
   "metadata": {},
   "outputs": [],
   "source": [
    "## Manipulate data for generate map\n",
    "vale, estados = manipulation.manipulate_for_vale_maps(df, municipios_sp, estados)"
   ]
  },
  {
   "cell_type": "code",
   "execution_count": 329,
   "metadata": {},
   "outputs": [],
   "source": [
    "from scripts import vis_maps\n",
    "\n",
    "cols = ['Município','Casos Suspeitos','Casos Confirmados','Óbitos Confirmados','Óbitos Suspeitos','Data do Boletim']\n",
    "mymap =  vis_maps.get_map_vale(vale,'Casos Confirmados', cols, estados)\n",
    "mymap.save('../maps/mapa_vale.html')\n"
   ]
  },
  {
   "cell_type": "code",
   "execution_count": 330,
   "metadata": {},
   "outputs": [
    {
     "name": "stdout",
     "output_type": "stream",
     "text": [
      "Done!\n"
     ]
    }
   ],
   "source": [
    "from scripts import io\n",
    "\n",
    "io.to_storage(bucket='sv-covid19',\n",
    "              bucket_folder='maps',\n",
    "              file_name='mapa_vale.html',\n",
    "              path_to_file='../maps/mapa_vale.html')"
   ]
  },
  {
   "cell_type": "code",
   "execution_count": 403,
   "metadata": {},
   "outputs": [],
   "source": [
    "## Manipulate data for generate map\n",
    "vale, estados = manipulation.manipulate_for_vale_maps(df, municipios_sp, estados)"
   ]
  },
  {
   "cell_type": "code",
   "execution_count": 404,
   "metadata": {},
   "outputs": [],
   "source": [
    "vale['Fonte'] = vale['Fonte'].apply(lambda x: f'<a href=\"{x}\">LINK</a>')\n",
    "# vale['suspeitas'] = vale['suspeitas'].astype(str).str.replace('.0','')\n"
   ]
  },
  {
   "cell_type": "code",
   "execution_count": 407,
   "metadata": {},
   "outputs": [
    {
     "data": {
      "text/html": [
       "<div>\n",
       "<style scoped>\n",
       "    .dataframe tbody tr th:only-of-type {\n",
       "        vertical-align: middle;\n",
       "    }\n",
       "\n",
       "    .dataframe tbody tr th {\n",
       "        vertical-align: top;\n",
       "    }\n",
       "\n",
       "    .dataframe thead th {\n",
       "        text-align: right;\n",
       "    }\n",
       "</style>\n",
       "<table border=\"1\" class=\"dataframe\">\n",
       "  <thead>\n",
       "    <tr style=\"text-align: right;\">\n",
       "      <th></th>\n",
       "      <th>Município</th>\n",
       "      <th>Casos Suspeitos</th>\n",
       "      <th>suspeitas_internados</th>\n",
       "      <th>Casos Confirmados</th>\n",
       "      <th>confirmados_internados</th>\n",
       "      <th>descartados</th>\n",
       "      <th>Óbitos Suspeitos</th>\n",
       "      <th>Óbitos Confirmados</th>\n",
       "      <th>recuperados</th>\n",
       "      <th>Data do Boletim</th>\n",
       "      <th>ultima_atualizaçao</th>\n",
       "      <th>Fonte</th>\n",
       "      <th>nome_municipio</th>\n",
       "      <th>geometry</th>\n",
       "      <th>Estado</th>\n",
       "    </tr>\n",
       "  </thead>\n",
       "  <tbody>\n",
       "    <tr>\n",
       "      <th>0</th>\n",
       "      <td>São José dos Campos</td>\n",
       "      <td>486</td>\n",
       "      <td>68</td>\n",
       "      <td>56</td>\n",
       "      <td>16</td>\n",
       "      <td>-</td>\n",
       "      <td>7</td>\n",
       "      <td>1</td>\n",
       "      <td>12</td>\n",
       "      <td>03/04/2020</td>\n",
       "      <td>06/04/2020</td>\n",
       "      <td>&lt;a href=\"http://www.sjc.sp.gov.br/servicos/saude/coronavirus-acoes-em-sao-jose/informe-epidemiol...</td>\n",
       "      <td>São José dos Campos</td>\n",
       "      <td>POLYGON ((-45.87098 -22.87149, -45.87096 -22.87185, -45.87096 -22.87213, -45.87097 -22.87226, -4...</td>\n",
       "      <td>São Paulo</td>\n",
       "    </tr>\n",
       "    <tr>\n",
       "      <th>1</th>\n",
       "      <td>Jacareí</td>\n",
       "      <td>66</td>\n",
       "      <td>-</td>\n",
       "      <td>4</td>\n",
       "      <td>-</td>\n",
       "      <td>13</td>\n",
       "      <td>1</td>\n",
       "      <td>1</td>\n",
       "      <td>-</td>\n",
       "      <td>04/04/2020</td>\n",
       "      <td>06/04/2020</td>\n",
       "      <td>&lt;a href=\"https://www.instagram.com/prefeituradejacarei/\"&gt;LINK&lt;/a&gt;</td>\n",
       "      <td>Jacareí</td>\n",
       "      <td>POLYGON ((-45.79372 -23.29200, -45.79368 -23.29255, -45.79371 -23.29309, -45.79375 -23.29326, -4...</td>\n",
       "      <td>São Paulo</td>\n",
       "    </tr>\n",
       "    <tr>\n",
       "      <th>2</th>\n",
       "      <td>Taubaté</td>\n",
       "      <td>146</td>\n",
       "      <td>16</td>\n",
       "      <td>3</td>\n",
       "      <td>-</td>\n",
       "      <td>78</td>\n",
       "      <td>5</td>\n",
       "      <td>1</td>\n",
       "      <td>0</td>\n",
       "      <td>05/04/2020</td>\n",
       "      <td>06/04/2020</td>\n",
       "      <td>&lt;a href=\"https://www.taubate.sp.gov.br/coronavirus/\"&gt;LINK&lt;/a&gt;</td>\n",
       "      <td>Taubaté</td>\n",
       "      <td>POLYGON ((-45.50363 -22.97899, -45.50354 -22.97935, -45.50303 -22.97983, -45.50273 -22.97982, -4...</td>\n",
       "      <td>São Paulo</td>\n",
       "    </tr>\n",
       "    <tr>\n",
       "      <th>3</th>\n",
       "      <td>São Sebastião</td>\n",
       "      <td>25</td>\n",
       "      <td>-</td>\n",
       "      <td>2</td>\n",
       "      <td>-</td>\n",
       "      <td>25</td>\n",
       "      <td>3</td>\n",
       "      <td>1</td>\n",
       "      <td>0</td>\n",
       "      <td>04/04/2020</td>\n",
       "      <td>06/04/2020</td>\n",
       "      <td>&lt;a href=\"http://www.saosebastiao.sp.gov.br/noticia-lista.asp\"&gt;LINK&lt;/a&gt;</td>\n",
       "      <td>São Sebastião</td>\n",
       "      <td>MULTIPOLYGON (((-45.77929 -23.85776, -45.77855 -23.85835, -45.77677 -23.85835, -45.77595 -23.859...</td>\n",
       "      <td>São Paulo</td>\n",
       "    </tr>\n",
       "    <tr>\n",
       "      <th>4</th>\n",
       "      <td>Pindamonhangaba</td>\n",
       "      <td>95</td>\n",
       "      <td>6</td>\n",
       "      <td>1</td>\n",
       "      <td>-</td>\n",
       "      <td>16</td>\n",
       "      <td>3</td>\n",
       "      <td>1</td>\n",
       "      <td>0</td>\n",
       "      <td>05/04/2020</td>\n",
       "      <td>06/04/2020</td>\n",
       "      <td>&lt;a href=\"http://www.pindamonhangaba.sp.gov.br/coronavirus/boletim.htm\"&gt;LINK&lt;/a&gt;</td>\n",
       "      <td>Pindamonhangaba</td>\n",
       "      <td>POLYGON ((-45.34690 -22.78786, -45.34713 -22.78937, -45.34778 -22.79002, -45.34818 -22.79016, -4...</td>\n",
       "      <td>São Paulo</td>\n",
       "    </tr>\n",
       "  </tbody>\n",
       "</table>\n",
       "</div>"
      ],
      "text/plain": [
       "             Município Casos Suspeitos suspeitas_internados  \\\n",
       "0  São José dos Campos             486                   68   \n",
       "1              Jacareí              66                    -   \n",
       "2              Taubaté             146                   16   \n",
       "3        São Sebastião              25                    -   \n",
       "4      Pindamonhangaba              95                    6   \n",
       "\n",
       "   Casos Confirmados confirmados_internados descartados Óbitos Suspeitos  \\\n",
       "0                 56                     16           -                7   \n",
       "1                  4                      -          13                1   \n",
       "2                  3                      -          78                5   \n",
       "3                  2                      -          25                3   \n",
       "4                  1                      -          16                3   \n",
       "\n",
       "   Óbitos Confirmados recuperados Data do Boletim ultima_atualizaçao  \\\n",
       "0                   1          12      03/04/2020         06/04/2020   \n",
       "1                   1           -      04/04/2020         06/04/2020   \n",
       "2                   1           0      05/04/2020         06/04/2020   \n",
       "3                   1           0      04/04/2020         06/04/2020   \n",
       "4                   1           0      05/04/2020         06/04/2020   \n",
       "\n",
       "                                                                                                 Fonte  \\\n",
       "0  <a href=\"http://www.sjc.sp.gov.br/servicos/saude/coronavirus-acoes-em-sao-jose/informe-epidemiol...   \n",
       "1                                    <a href=\"https://www.instagram.com/prefeituradejacarei/\">LINK</a>   \n",
       "2                                        <a href=\"https://www.taubate.sp.gov.br/coronavirus/\">LINK</a>   \n",
       "3                               <a href=\"http://www.saosebastiao.sp.gov.br/noticia-lista.asp\">LINK</a>   \n",
       "4                      <a href=\"http://www.pindamonhangaba.sp.gov.br/coronavirus/boletim.htm\">LINK</a>   \n",
       "\n",
       "        nome_municipio  \\\n",
       "0  São José dos Campos   \n",
       "1              Jacareí   \n",
       "2              Taubaté   \n",
       "3        São Sebastião   \n",
       "4      Pindamonhangaba   \n",
       "\n",
       "                                                                                              geometry  \\\n",
       "0  POLYGON ((-45.87098 -22.87149, -45.87096 -22.87185, -45.87096 -22.87213, -45.87097 -22.87226, -4...   \n",
       "1  POLYGON ((-45.79372 -23.29200, -45.79368 -23.29255, -45.79371 -23.29309, -45.79375 -23.29326, -4...   \n",
       "2  POLYGON ((-45.50363 -22.97899, -45.50354 -22.97935, -45.50303 -22.97983, -45.50273 -22.97982, -4...   \n",
       "3  MULTIPOLYGON (((-45.77929 -23.85776, -45.77855 -23.85835, -45.77677 -23.85835, -45.77595 -23.859...   \n",
       "4  POLYGON ((-45.34690 -22.78786, -45.34713 -22.78937, -45.34778 -22.79002, -45.34818 -22.79016, -4...   \n",
       "\n",
       "      Estado  \n",
       "0  São Paulo  \n",
       "1  São Paulo  \n",
       "2  São Paulo  \n",
       "3  São Paulo  \n",
       "4  São Paulo  "
      ]
     },
     "execution_count": 407,
     "metadata": {},
     "output_type": "execute_result"
    }
   ],
   "source": [
    "vale.head()"
   ]
  },
  {
   "cell_type": "code",
   "execution_count": 408,
   "metadata": {},
   "outputs": [],
   "source": [
    "cols = ['Município','Casos Suspeitos','Casos Confirmados','Óbitos Confirmados','Fonte']\n",
    "vale_table = vale[cols]"
   ]
  },
  {
   "cell_type": "code",
   "execution_count": 418,
   "metadata": {},
   "outputs": [
    {
     "data": {
      "application/vnd.plotly.v1+json": {
       "config": {
        "plotlyServerURL": "https://plot.ly"
       },
       "data": [
        {
         "cells": {
          "align": "left",
          "font": {
           "color": "#04738c",
           "family": "Roboto",
           "size": 12
          },
          "line": {
           "color": "darkslategray"
          },
          "values": [
           [
            "<b>São José dos Campos</b>",
            "<b>Jacareí</b>",
            "<b>Taubaté</b>",
            "<b>São Sebastião</b>",
            "<b>Pindamonhangaba</b>",
            "<b>Caraguatatuba</b>",
            "<b>Caçapava</b>",
            "<b>Lorena</b>",
            "<b>Cachoeira Paulista</b>",
            "<b>Ubatuba</b>",
            "<b>Campos do Jordão</b>",
            "<b>Guaratinguetá</b>",
            "<b>Cunha</b>",
            "<b>Aparecida</b>",
            "<b>Tremembé</b>",
            "<b>Igaratá</b>",
            "<b>Cruzeiro</b>",
            "<b>Ilhabela</b>",
            "<b>Piquete</b>",
            "<b>Potim</b>",
            "<b>Lavrinhas</b>",
            "<b>Paraibuna</b>",
            "<b>Roseira</b>",
            "<b>Santa Branca</b>",
            "<b>Canas</b>",
            "<b>Queluz</b>",
            "<b>São Bento do Sapucaí</b>",
            "<b>São José do Barreiro</b>",
            "<b>São Luiz do Paraitinga</b>",
            "<b>Silveiras</b>",
            "<b>Arapeí</b>",
            "<b>Areias</b>",
            "<b>Bananal</b>",
            "<b>Jambeiro</b>",
            "<b>Lagoinha</b>",
            "<b>Monteiro Lobato</b>",
            "<b>Natividade da Serra</b>",
            "<b>Redenção da Serra</b>",
            "<b>Santo Antônio do Pinhal</b>"
           ],
           [
            "<b>486.0</b>",
            "<b>66.0</b>",
            "<b>146.0</b>",
            "<b>25.0</b>",
            "<b>95.0</b>",
            "<b>70.0</b>",
            "<b>60.0</b>",
            "<b>50.0</b>",
            "<b>14.0</b>",
            "<b>69.0</b>",
            "<b>29.0</b>",
            "<b>22.0</b>",
            "<b>18.0</b>",
            "<b>16.0</b>",
            "<b>11.0</b>",
            "<b>10.0</b>",
            "<b>9.0</b>",
            "<b>8.0</b>",
            "<b>5.0</b>",
            "<b>3.0</b>",
            "<b>2.0</b>",
            "<b>2.0</b>",
            "<b>2.0</b>",
            "<b>2.0</b>",
            "<b>1.0</b>",
            "<b>1.0</b>",
            "<b>1.0</b>",
            "<b>1.0</b>",
            "<b>1.0</b>",
            "<b>1.0</b>",
            "<b>0.0</b>",
            "<b>-</b>",
            "<b>-</b>",
            "<b>-</b>",
            "<b>-</b>",
            "<b>-</b>",
            "<b>-</b>",
            "<b>-</b>",
            "<b>-</b>"
           ],
           [
            "<b>56</b>",
            "<b>4</b>",
            "<b>3</b>",
            "<b>2</b>",
            "<b>1</b>",
            "<b>1</b>",
            "<b>1</b>",
            "<b>1</b>",
            "<b>1</b>",
            "<b>0</b>",
            "<b>0</b>",
            "<b>0</b>",
            "<b>0</b>",
            "<b>0</b>",
            "<b>0</b>",
            "<b>0</b>",
            "<b>0</b>",
            "<b>0</b>",
            "<b>0</b>",
            "<b>0</b>",
            "<b>0</b>",
            "<b>0</b>",
            "<b>0</b>",
            "<b>0</b>",
            "<b>0</b>",
            "<b>0</b>",
            "<b>0</b>",
            "<b>0</b>",
            "<b>0</b>",
            "<b>0</b>",
            "<b>0</b>",
            "<b>0</b>",
            "<b>0</b>",
            "<b>0</b>",
            "<b>0</b>",
            "<b>0</b>",
            "<b>0</b>",
            "<b>0</b>",
            "<b>0</b>"
           ],
           [
            "<b>1</b>",
            "<b>1</b>",
            "<b>1</b>",
            "<b>1</b>",
            "<b>1</b>",
            "<b>1</b>",
            "<b>0</b>",
            "<b>0</b>",
            "<b>0</b>",
            "<b>0</b>",
            "<b>0</b>",
            "<b>0</b>",
            "<b>0</b>",
            "<b>0</b>",
            "<b>0</b>",
            "<b>0</b>",
            "<b>0</b>",
            "<b>0</b>",
            "<b>0</b>",
            "<b>0</b>",
            "<b>0</b>",
            "<b>0</b>",
            "<b>0</b>",
            "<b>0</b>",
            "<b>0</b>",
            "<b>0</b>",
            "<b>0</b>",
            "<b>0</b>",
            "<b>0</b>",
            "<b>0</b>",
            "<b>0</b>",
            "<b>0</b>",
            "<b>0</b>",
            "<b>0</b>",
            "<b>0</b>",
            "<b>0</b>",
            "<b>0</b>",
            "<b>0</b>",
            "<b>0</b>"
           ],
           [
            "<b><a href=\"http://www.sjc.sp.gov.br/servicos/saude/coronavirus-acoes-em-sao-jose/informe-epidemiologico/\">LINK</a></b>",
            "<b><a href=\"https://www.instagram.com/prefeituradejacarei/\">LINK</a></b>",
            "<b><a href=\"https://www.taubate.sp.gov.br/coronavirus/\">LINK</a></b>",
            "<b><a href=\"http://www.saosebastiao.sp.gov.br/noticia-lista.asp\">LINK</a></b>",
            "<b><a href=\"http://www.pindamonhangaba.sp.gov.br/coronavirus/boletim.htm\">LINK</a></b>",
            "<b><a href=\"http://www.caraguatatuba.sp.gov.br/pmc/boletimsaude/\">LINK</a></b>",
            "<b><a href=\"https://cacapava.sp.gov.br/\">LINK</a></b>",
            "<b><a href=\"http://www.lorena.sp.gov.br/wordpress/index.php/boletim-coronavirus/\">LINK</a></b>",
            "<b><a href=\"http://cachoeirapaulista.sp.gov.br/home/\">LINK</a></b>",
            "<b><a href=\"https://www.ubatuba.sp.gov.br/covid-19/\">LINK</a></b>",
            "<b><a href=\"http://camposdojordao.sp.gov.br/Noticia/\">LINK</a></b>",
            "<b><a href=\"http://guaratingueta.sp.gov.br/\">LINK</a></b>",
            "<b><a href=\"https://www.facebook.com/prefeituradecunha\">LINK</a></b>",
            "<b><a href=\"https://www.facebook.com/prefaparecidasp/?ref=br_rs\">LINK</a></b>",
            "<b><a href=\"https://www.facebook.com/prefeituratremembe/\">LINK</a></b>",
            "<b><a href=\"https://www.facebook.com/MunicipioDeIgarata/\">LINK</a></b>",
            "<b><a href=\"https://www.cruzeiro.sp.gov.br/page/noticias.asp\">LINK</a></b>",
            "<b><a href=\"https://www.facebook.com/PrefeituraIlhabela/\">LINK</a></b>",
            "<b><a href=\"https://www.piquete.sp.gov.br/noticias/coronavirus\">LINK</a></b>",
            "<b><a href=\"https://www.facebook.com/prefeitura.potim/\">LINK</a></b>",
            "<b><a href=\"https://www.facebook.com/prefeituralavrinhas/?tn-str=k*F\">LINK</a></b>",
            "<b><a href=\"https://www.facebook.com/prefeituradeparaibuna/\">LINK</a></b>",
            "<b><a href=\"https://www.facebook.com/prefeituramunicipalderoseira/\">LINK</a></b>",
            "<b><a href=\"https://www.facebook.com/santabrancanews/\">LINK</a></b>",
            "<b><a href=\"http://www.canas.sp.gov.br/ntcs/Historico/2020/CoronaVirus/1/Corona.php\">LINK</a></b>",
            "<b><a href=\"https://www.facebook.com/PrefQueluz/\">LINK</a></b>",
            "<b><a href=\"https://www.facebook.com/prefeiturasbsapucai/\">LINK</a></b>",
            "<b><a href=\"https://www.facebook.com/prefeiturasaojosedobarreiro/\">LINK</a></b>",
            "<b><a href=\"https://www.saoluizdoparaitinga.sp.gov.br/\">LINK</a></b>",
            "<b><a href=\"https://www.facebook.com/PrefeituradeSilveiras/\">LINK</a></b>",
            "<b><a href=\"https://www.arapei.sp.gov.br/coronavirus\">LINK</a></b>",
            "<b><a href=\"https://www.areias.sp.gov.br/\">LINK</a></b>",
            "<b><a href=\"https://www.bananal.sp.gov.br/\">LINK</a></b>",
            "<b><a href=\"http://jambeiro.sp.gov.br/\">LINK</a></b>",
            "<b><a href=\"https://www.lagoinha.sp.gov.br/portal/noticias/3\">LINK</a></b>",
            "<b><a href=\"http://www.monteirolobato.sp.gov.br/\">LINK</a></b>",
            "<b><a href=\"https://www.facebook.com/prefeituramunicipalnatividadedaserra/\">LINK</a></b>",
            "<b><a href=\"https://www.facebook.com/prefeituraredencaodaserra/\">LINK</a></b>",
            "<b><a href=\"https://www.facebook.com/prefeiturasantoantoniodopinhal/\">LINK</a></b>"
           ]
          ]
         },
         "header": {
          "align": "left",
          "fill": {
           "color": "#FF6D01"
          },
          "font": {
           "color": "white",
           "family": "Roboto",
           "size": 12
          },
          "line": {
           "color": "darkslategray"
          },
          "values": [
           "<B>MUNICÍPIO</B>",
           "<B>CASOS SUSPEITOS</B>",
           "<B>CASOS CONFIRMADOS</B>",
           "<B>ÓBITOS CONFIRMADOS</B>",
           "<B>FONTE</B>"
          ]
         },
         "type": "table"
        }
       ],
       "layout": {
        "autosize": true,
        "template": {
         "data": {
          "bar": [
           {
            "error_x": {
             "color": "#2a3f5f"
            },
            "error_y": {
             "color": "#2a3f5f"
            },
            "marker": {
             "line": {
              "color": "#E5ECF6",
              "width": 0.5
             }
            },
            "type": "bar"
           }
          ],
          "barpolar": [
           {
            "marker": {
             "line": {
              "color": "#E5ECF6",
              "width": 0.5
             }
            },
            "type": "barpolar"
           }
          ],
          "carpet": [
           {
            "aaxis": {
             "endlinecolor": "#2a3f5f",
             "gridcolor": "white",
             "linecolor": "white",
             "minorgridcolor": "white",
             "startlinecolor": "#2a3f5f"
            },
            "baxis": {
             "endlinecolor": "#2a3f5f",
             "gridcolor": "white",
             "linecolor": "white",
             "minorgridcolor": "white",
             "startlinecolor": "#2a3f5f"
            },
            "type": "carpet"
           }
          ],
          "choropleth": [
           {
            "colorbar": {
             "outlinewidth": 0,
             "ticks": ""
            },
            "type": "choropleth"
           }
          ],
          "contour": [
           {
            "colorbar": {
             "outlinewidth": 0,
             "ticks": ""
            },
            "colorscale": [
             [
              0,
              "#0d0887"
             ],
             [
              0.1111111111111111,
              "#46039f"
             ],
             [
              0.2222222222222222,
              "#7201a8"
             ],
             [
              0.3333333333333333,
              "#9c179e"
             ],
             [
              0.4444444444444444,
              "#bd3786"
             ],
             [
              0.5555555555555556,
              "#d8576b"
             ],
             [
              0.6666666666666666,
              "#ed7953"
             ],
             [
              0.7777777777777778,
              "#fb9f3a"
             ],
             [
              0.8888888888888888,
              "#fdca26"
             ],
             [
              1,
              "#f0f921"
             ]
            ],
            "type": "contour"
           }
          ],
          "contourcarpet": [
           {
            "colorbar": {
             "outlinewidth": 0,
             "ticks": ""
            },
            "type": "contourcarpet"
           }
          ],
          "heatmap": [
           {
            "colorbar": {
             "outlinewidth": 0,
             "ticks": ""
            },
            "colorscale": [
             [
              0,
              "#0d0887"
             ],
             [
              0.1111111111111111,
              "#46039f"
             ],
             [
              0.2222222222222222,
              "#7201a8"
             ],
             [
              0.3333333333333333,
              "#9c179e"
             ],
             [
              0.4444444444444444,
              "#bd3786"
             ],
             [
              0.5555555555555556,
              "#d8576b"
             ],
             [
              0.6666666666666666,
              "#ed7953"
             ],
             [
              0.7777777777777778,
              "#fb9f3a"
             ],
             [
              0.8888888888888888,
              "#fdca26"
             ],
             [
              1,
              "#f0f921"
             ]
            ],
            "type": "heatmap"
           }
          ],
          "heatmapgl": [
           {
            "colorbar": {
             "outlinewidth": 0,
             "ticks": ""
            },
            "colorscale": [
             [
              0,
              "#0d0887"
             ],
             [
              0.1111111111111111,
              "#46039f"
             ],
             [
              0.2222222222222222,
              "#7201a8"
             ],
             [
              0.3333333333333333,
              "#9c179e"
             ],
             [
              0.4444444444444444,
              "#bd3786"
             ],
             [
              0.5555555555555556,
              "#d8576b"
             ],
             [
              0.6666666666666666,
              "#ed7953"
             ],
             [
              0.7777777777777778,
              "#fb9f3a"
             ],
             [
              0.8888888888888888,
              "#fdca26"
             ],
             [
              1,
              "#f0f921"
             ]
            ],
            "type": "heatmapgl"
           }
          ],
          "histogram": [
           {
            "marker": {
             "colorbar": {
              "outlinewidth": 0,
              "ticks": ""
             }
            },
            "type": "histogram"
           }
          ],
          "histogram2d": [
           {
            "colorbar": {
             "outlinewidth": 0,
             "ticks": ""
            },
            "colorscale": [
             [
              0,
              "#0d0887"
             ],
             [
              0.1111111111111111,
              "#46039f"
             ],
             [
              0.2222222222222222,
              "#7201a8"
             ],
             [
              0.3333333333333333,
              "#9c179e"
             ],
             [
              0.4444444444444444,
              "#bd3786"
             ],
             [
              0.5555555555555556,
              "#d8576b"
             ],
             [
              0.6666666666666666,
              "#ed7953"
             ],
             [
              0.7777777777777778,
              "#fb9f3a"
             ],
             [
              0.8888888888888888,
              "#fdca26"
             ],
             [
              1,
              "#f0f921"
             ]
            ],
            "type": "histogram2d"
           }
          ],
          "histogram2dcontour": [
           {
            "colorbar": {
             "outlinewidth": 0,
             "ticks": ""
            },
            "colorscale": [
             [
              0,
              "#0d0887"
             ],
             [
              0.1111111111111111,
              "#46039f"
             ],
             [
              0.2222222222222222,
              "#7201a8"
             ],
             [
              0.3333333333333333,
              "#9c179e"
             ],
             [
              0.4444444444444444,
              "#bd3786"
             ],
             [
              0.5555555555555556,
              "#d8576b"
             ],
             [
              0.6666666666666666,
              "#ed7953"
             ],
             [
              0.7777777777777778,
              "#fb9f3a"
             ],
             [
              0.8888888888888888,
              "#fdca26"
             ],
             [
              1,
              "#f0f921"
             ]
            ],
            "type": "histogram2dcontour"
           }
          ],
          "mesh3d": [
           {
            "colorbar": {
             "outlinewidth": 0,
             "ticks": ""
            },
            "type": "mesh3d"
           }
          ],
          "parcoords": [
           {
            "line": {
             "colorbar": {
              "outlinewidth": 0,
              "ticks": ""
             }
            },
            "type": "parcoords"
           }
          ],
          "pie": [
           {
            "automargin": true,
            "type": "pie"
           }
          ],
          "scatter": [
           {
            "marker": {
             "colorbar": {
              "outlinewidth": 0,
              "ticks": ""
             }
            },
            "type": "scatter"
           }
          ],
          "scatter3d": [
           {
            "line": {
             "colorbar": {
              "outlinewidth": 0,
              "ticks": ""
             }
            },
            "marker": {
             "colorbar": {
              "outlinewidth": 0,
              "ticks": ""
             }
            },
            "type": "scatter3d"
           }
          ],
          "scattercarpet": [
           {
            "marker": {
             "colorbar": {
              "outlinewidth": 0,
              "ticks": ""
             }
            },
            "type": "scattercarpet"
           }
          ],
          "scattergeo": [
           {
            "marker": {
             "colorbar": {
              "outlinewidth": 0,
              "ticks": ""
             }
            },
            "type": "scattergeo"
           }
          ],
          "scattergl": [
           {
            "marker": {
             "colorbar": {
              "outlinewidth": 0,
              "ticks": ""
             }
            },
            "type": "scattergl"
           }
          ],
          "scattermapbox": [
           {
            "marker": {
             "colorbar": {
              "outlinewidth": 0,
              "ticks": ""
             }
            },
            "type": "scattermapbox"
           }
          ],
          "scatterpolar": [
           {
            "marker": {
             "colorbar": {
              "outlinewidth": 0,
              "ticks": ""
             }
            },
            "type": "scatterpolar"
           }
          ],
          "scatterpolargl": [
           {
            "marker": {
             "colorbar": {
              "outlinewidth": 0,
              "ticks": ""
             }
            },
            "type": "scatterpolargl"
           }
          ],
          "scatterternary": [
           {
            "marker": {
             "colorbar": {
              "outlinewidth": 0,
              "ticks": ""
             }
            },
            "type": "scatterternary"
           }
          ],
          "surface": [
           {
            "colorbar": {
             "outlinewidth": 0,
             "ticks": ""
            },
            "colorscale": [
             [
              0,
              "#0d0887"
             ],
             [
              0.1111111111111111,
              "#46039f"
             ],
             [
              0.2222222222222222,
              "#7201a8"
             ],
             [
              0.3333333333333333,
              "#9c179e"
             ],
             [
              0.4444444444444444,
              "#bd3786"
             ],
             [
              0.5555555555555556,
              "#d8576b"
             ],
             [
              0.6666666666666666,
              "#ed7953"
             ],
             [
              0.7777777777777778,
              "#fb9f3a"
             ],
             [
              0.8888888888888888,
              "#fdca26"
             ],
             [
              1,
              "#f0f921"
             ]
            ],
            "type": "surface"
           }
          ],
          "table": [
           {
            "cells": {
             "fill": {
              "color": "#EBF0F8"
             },
             "line": {
              "color": "white"
             }
            },
            "header": {
             "fill": {
              "color": "#C8D4E3"
             },
             "line": {
              "color": "white"
             }
            },
            "type": "table"
           }
          ]
         },
         "layout": {
          "annotationdefaults": {
           "arrowcolor": "#2a3f5f",
           "arrowhead": 0,
           "arrowwidth": 1
          },
          "coloraxis": {
           "colorbar": {
            "outlinewidth": 0,
            "ticks": ""
           }
          },
          "colorscale": {
           "diverging": [
            [
             0,
             "#8e0152"
            ],
            [
             0.1,
             "#c51b7d"
            ],
            [
             0.2,
             "#de77ae"
            ],
            [
             0.3,
             "#f1b6da"
            ],
            [
             0.4,
             "#fde0ef"
            ],
            [
             0.5,
             "#f7f7f7"
            ],
            [
             0.6,
             "#e6f5d0"
            ],
            [
             0.7,
             "#b8e186"
            ],
            [
             0.8,
             "#7fbc41"
            ],
            [
             0.9,
             "#4d9221"
            ],
            [
             1,
             "#276419"
            ]
           ],
           "sequential": [
            [
             0,
             "#0d0887"
            ],
            [
             0.1111111111111111,
             "#46039f"
            ],
            [
             0.2222222222222222,
             "#7201a8"
            ],
            [
             0.3333333333333333,
             "#9c179e"
            ],
            [
             0.4444444444444444,
             "#bd3786"
            ],
            [
             0.5555555555555556,
             "#d8576b"
            ],
            [
             0.6666666666666666,
             "#ed7953"
            ],
            [
             0.7777777777777778,
             "#fb9f3a"
            ],
            [
             0.8888888888888888,
             "#fdca26"
            ],
            [
             1,
             "#f0f921"
            ]
           ],
           "sequentialminus": [
            [
             0,
             "#0d0887"
            ],
            [
             0.1111111111111111,
             "#46039f"
            ],
            [
             0.2222222222222222,
             "#7201a8"
            ],
            [
             0.3333333333333333,
             "#9c179e"
            ],
            [
             0.4444444444444444,
             "#bd3786"
            ],
            [
             0.5555555555555556,
             "#d8576b"
            ],
            [
             0.6666666666666666,
             "#ed7953"
            ],
            [
             0.7777777777777778,
             "#fb9f3a"
            ],
            [
             0.8888888888888888,
             "#fdca26"
            ],
            [
             1,
             "#f0f921"
            ]
           ]
          },
          "colorway": [
           "#636efa",
           "#EF553B",
           "#00cc96",
           "#ab63fa",
           "#FFA15A",
           "#19d3f3",
           "#FF6692",
           "#B6E880",
           "#FF97FF",
           "#FECB52"
          ],
          "font": {
           "color": "#2a3f5f"
          },
          "geo": {
           "bgcolor": "white",
           "lakecolor": "white",
           "landcolor": "#E5ECF6",
           "showlakes": true,
           "showland": true,
           "subunitcolor": "white"
          },
          "hoverlabel": {
           "align": "left"
          },
          "hovermode": "closest",
          "mapbox": {
           "style": "light"
          },
          "paper_bgcolor": "white",
          "plot_bgcolor": "#E5ECF6",
          "polar": {
           "angularaxis": {
            "gridcolor": "white",
            "linecolor": "white",
            "ticks": ""
           },
           "bgcolor": "#E5ECF6",
           "radialaxis": {
            "gridcolor": "white",
            "linecolor": "white",
            "ticks": ""
           }
          },
          "scene": {
           "xaxis": {
            "backgroundcolor": "#E5ECF6",
            "gridcolor": "white",
            "gridwidth": 2,
            "linecolor": "white",
            "showbackground": true,
            "ticks": "",
            "zerolinecolor": "white"
           },
           "yaxis": {
            "backgroundcolor": "#E5ECF6",
            "gridcolor": "white",
            "gridwidth": 2,
            "linecolor": "white",
            "showbackground": true,
            "ticks": "",
            "zerolinecolor": "white"
           },
           "zaxis": {
            "backgroundcolor": "#E5ECF6",
            "gridcolor": "white",
            "gridwidth": 2,
            "linecolor": "white",
            "showbackground": true,
            "ticks": "",
            "zerolinecolor": "white"
           }
          },
          "shapedefaults": {
           "line": {
            "color": "#2a3f5f"
           }
          },
          "ternary": {
           "aaxis": {
            "gridcolor": "white",
            "linecolor": "white",
            "ticks": ""
           },
           "baxis": {
            "gridcolor": "white",
            "linecolor": "white",
            "ticks": ""
           },
           "bgcolor": "#E5ECF6",
           "caxis": {
            "gridcolor": "white",
            "linecolor": "white",
            "ticks": ""
           }
          },
          "title": {
           "x": 0.05
          },
          "xaxis": {
           "automargin": true,
           "gridcolor": "white",
           "linecolor": "white",
           "ticks": "",
           "title": {
            "standoff": 15
           },
           "zerolinecolor": "white",
           "zerolinewidth": 2
          },
          "yaxis": {
           "automargin": true,
           "gridcolor": "white",
           "linecolor": "white",
           "ticks": "",
           "title": {
            "standoff": 15
           },
           "zerolinecolor": "white",
           "zerolinewidth": 2
          }
         }
        }
       }
      },
      "image/png": "[encoded data removed]",
      "text/html": [
       "<div>\n",
       "        \n",
       "        \n",
       "            <div id=\"594e1d84-665f-4604-9dd3-59c8eeee61a0\" class=\"plotly-graph-div\" style=\"height:900px; width:100%;\"></div>\n",
       "            <script type=\"text/javascript\">\n",
       "                require([\"plotly\"], function(Plotly) {\n",
       "                    window.PLOTLYENV=window.PLOTLYENV || {};\n",
       "                    \n",
       "                if (document.getElementById(\"594e1d84-665f-4604-9dd3-59c8eeee61a0\")) {\n",
       "                    Plotly.newPlot(\n",
       "                        '594e1d84-665f-4604-9dd3-59c8eeee61a0',\n",
       "                        [{\"cells\": {\"align\": \"left\", \"font\": {\"color\": \"#04738c\", \"family\": \"Roboto\", \"size\": 12}, \"line\": {\"color\": \"darkslategray\"}, \"values\": [[\"<b>S\\u00e3o Jos\\u00e9 dos Campos</b>\", \"<b>Jacare\\u00ed</b>\", \"<b>Taubat\\u00e9</b>\", \"<b>S\\u00e3o Sebasti\\u00e3o</b>\", \"<b>Pindamonhangaba</b>\", \"<b>Caraguatatuba</b>\", \"<b>Ca\\u00e7apava</b>\", \"<b>Lorena</b>\", \"<b>Cachoeira Paulista</b>\", \"<b>Ubatuba</b>\", \"<b>Campos do Jord\\u00e3o</b>\", \"<b>Guaratinguet\\u00e1</b>\", \"<b>Cunha</b>\", \"<b>Aparecida</b>\", \"<b>Trememb\\u00e9</b>\", \"<b>Igarat\\u00e1</b>\", \"<b>Cruzeiro</b>\", \"<b>Ilhabela</b>\", \"<b>Piquete</b>\", \"<b>Potim</b>\", \"<b>Lavrinhas</b>\", \"<b>Paraibuna</b>\", \"<b>Roseira</b>\", \"<b>Santa Branca</b>\", \"<b>Canas</b>\", \"<b>Queluz</b>\", \"<b>S\\u00e3o Bento do Sapuca\\u00ed</b>\", \"<b>S\\u00e3o Jos\\u00e9 do Barreiro</b>\", \"<b>S\\u00e3o Luiz do Paraitinga</b>\", \"<b>Silveiras</b>\", \"<b>Arape\\u00ed</b>\", \"<b>Areias</b>\", \"<b>Bananal</b>\", \"<b>Jambeiro</b>\", \"<b>Lagoinha</b>\", \"<b>Monteiro Lobato</b>\", \"<b>Natividade da Serra</b>\", \"<b>Reden\\u00e7\\u00e3o da Serra</b>\", \"<b>Santo Ant\\u00f4nio do Pinhal</b>\"], [\"<b>486.0</b>\", \"<b>66.0</b>\", \"<b>146.0</b>\", \"<b>25.0</b>\", \"<b>95.0</b>\", \"<b>70.0</b>\", \"<b>60.0</b>\", \"<b>50.0</b>\", \"<b>14.0</b>\", \"<b>69.0</b>\", \"<b>29.0</b>\", \"<b>22.0</b>\", \"<b>18.0</b>\", \"<b>16.0</b>\", \"<b>11.0</b>\", \"<b>10.0</b>\", \"<b>9.0</b>\", \"<b>8.0</b>\", \"<b>5.0</b>\", \"<b>3.0</b>\", \"<b>2.0</b>\", \"<b>2.0</b>\", \"<b>2.0</b>\", \"<b>2.0</b>\", \"<b>1.0</b>\", \"<b>1.0</b>\", \"<b>1.0</b>\", \"<b>1.0</b>\", \"<b>1.0</b>\", \"<b>1.0</b>\", \"<b>0.0</b>\", \"<b>-</b>\", \"<b>-</b>\", \"<b>-</b>\", \"<b>-</b>\", \"<b>-</b>\", \"<b>-</b>\", \"<b>-</b>\", \"<b>-</b>\"], [\"<b>56</b>\", \"<b>4</b>\", \"<b>3</b>\", \"<b>2</b>\", \"<b>1</b>\", \"<b>1</b>\", \"<b>1</b>\", \"<b>1</b>\", \"<b>1</b>\", \"<b>0</b>\", \"<b>0</b>\", \"<b>0</b>\", \"<b>0</b>\", \"<b>0</b>\", \"<b>0</b>\", \"<b>0</b>\", \"<b>0</b>\", \"<b>0</b>\", \"<b>0</b>\", \"<b>0</b>\", \"<b>0</b>\", \"<b>0</b>\", \"<b>0</b>\", \"<b>0</b>\", \"<b>0</b>\", \"<b>0</b>\", \"<b>0</b>\", \"<b>0</b>\", \"<b>0</b>\", \"<b>0</b>\", \"<b>0</b>\", \"<b>0</b>\", \"<b>0</b>\", \"<b>0</b>\", \"<b>0</b>\", \"<b>0</b>\", \"<b>0</b>\", \"<b>0</b>\", \"<b>0</b>\"], [\"<b>1</b>\", \"<b>1</b>\", \"<b>1</b>\", \"<b>1</b>\", \"<b>1</b>\", \"<b>1</b>\", \"<b>0</b>\", \"<b>0</b>\", \"<b>0</b>\", \"<b>0</b>\", \"<b>0</b>\", \"<b>0</b>\", \"<b>0</b>\", \"<b>0</b>\", \"<b>0</b>\", \"<b>0</b>\", \"<b>0</b>\", \"<b>0</b>\", \"<b>0</b>\", \"<b>0</b>\", \"<b>0</b>\", \"<b>0</b>\", \"<b>0</b>\", \"<b>0</b>\", \"<b>0</b>\", \"<b>0</b>\", \"<b>0</b>\", \"<b>0</b>\", \"<b>0</b>\", \"<b>0</b>\", \"<b>0</b>\", \"<b>0</b>\", \"<b>0</b>\", \"<b>0</b>\", \"<b>0</b>\", \"<b>0</b>\", \"<b>0</b>\", \"<b>0</b>\", \"<b>0</b>\"], [\"<b><a href=\\\"http://www.sjc.sp.gov.br/servicos/saude/coronavirus-acoes-em-sao-jose/informe-epidemiologico/\\\">LINK</a></b>\", \"<b><a href=\\\"https://www.instagram.com/prefeituradejacarei/\\\">LINK</a></b>\", \"<b><a href=\\\"https://www.taubate.sp.gov.br/coronavirus/\\\">LINK</a></b>\", \"<b><a href=\\\"http://www.saosebastiao.sp.gov.br/noticia-lista.asp\\\">LINK</a></b>\", \"<b><a href=\\\"http://www.pindamonhangaba.sp.gov.br/coronavirus/boletim.htm\\\">LINK</a></b>\", \"<b><a href=\\\"http://www.caraguatatuba.sp.gov.br/pmc/boletimsaude/\\\">LINK</a></b>\", \"<b><a href=\\\"https://cacapava.sp.gov.br/\\\">LINK</a></b>\", \"<b><a href=\\\"http://www.lorena.sp.gov.br/wordpress/index.php/boletim-coronavirus/\\\">LINK</a></b>\", \"<b><a href=\\\"http://cachoeirapaulista.sp.gov.br/home/\\\">LINK</a></b>\", \"<b><a href=\\\"https://www.ubatuba.sp.gov.br/covid-19/\\\">LINK</a></b>\", \"<b><a href=\\\"http://camposdojordao.sp.gov.br/Noticia/\\\">LINK</a></b>\", \"<b><a href=\\\"http://guaratingueta.sp.gov.br/\\\">LINK</a></b>\", \"<b><a href=\\\"https://www.facebook.com/prefeituradecunha\\\">LINK</a></b>\", \"<b><a href=\\\"https://www.facebook.com/prefaparecidasp/?ref=br_rs\\\">LINK</a></b>\", \"<b><a href=\\\"https://www.facebook.com/prefeituratremembe/\\\">LINK</a></b>\", \"<b><a href=\\\"https://www.facebook.com/MunicipioDeIgarata/\\\">LINK</a></b>\", \"<b><a href=\\\"https://www.cruzeiro.sp.gov.br/page/noticias.asp\\\">LINK</a></b>\", \"<b><a href=\\\"https://www.facebook.com/PrefeituraIlhabela/\\\">LINK</a></b>\", \"<b><a href=\\\"https://www.piquete.sp.gov.br/noticias/coronavirus\\\">LINK</a></b>\", \"<b><a href=\\\"https://www.facebook.com/prefeitura.potim/\\\">LINK</a></b>\", \"<b><a href=\\\"https://www.facebook.com/prefeituralavrinhas/?tn-str=k*F\\\">LINK</a></b>\", \"<b><a href=\\\"https://www.facebook.com/prefeituradeparaibuna/\\\">LINK</a></b>\", \"<b><a href=\\\"https://www.facebook.com/prefeituramunicipalderoseira/\\\">LINK</a></b>\", \"<b><a href=\\\"https://www.facebook.com/santabrancanews/\\\">LINK</a></b>\", \"<b><a href=\\\"http://www.canas.sp.gov.br/ntcs/Historico/2020/CoronaVirus/1/Corona.php\\\">LINK</a></b>\", \"<b><a href=\\\"https://www.facebook.com/PrefQueluz/\\\">LINK</a></b>\", \"<b><a href=\\\"https://www.facebook.com/prefeiturasbsapucai/\\\">LINK</a></b>\", \"<b><a href=\\\"https://www.facebook.com/prefeiturasaojosedobarreiro/\\\">LINK</a></b>\", \"<b><a href=\\\"https://www.saoluizdoparaitinga.sp.gov.br/\\\">LINK</a></b>\", \"<b><a href=\\\"https://www.facebook.com/PrefeituradeSilveiras/\\\">LINK</a></b>\", \"<b><a href=\\\"https://www.arapei.sp.gov.br/coronavirus\\\">LINK</a></b>\", \"<b><a href=\\\"https://www.areias.sp.gov.br/\\\">LINK</a></b>\", \"<b><a href=\\\"https://www.bananal.sp.gov.br/\\\">LINK</a></b>\", \"<b><a href=\\\"http://jambeiro.sp.gov.br/\\\">LINK</a></b>\", \"<b><a href=\\\"https://www.lagoinha.sp.gov.br/portal/noticias/3\\\">LINK</a></b>\", \"<b><a href=\\\"http://www.monteirolobato.sp.gov.br/\\\">LINK</a></b>\", \"<b><a href=\\\"https://www.facebook.com/prefeituramunicipalnatividadedaserra/\\\">LINK</a></b>\", \"<b><a href=\\\"https://www.facebook.com/prefeituraredencaodaserra/\\\">LINK</a></b>\", \"<b><a href=\\\"https://www.facebook.com/prefeiturasantoantoniodopinhal/\\\">LINK</a></b>\"]]}, \"header\": {\"align\": \"left\", \"fill\": {\"color\": \"#FF6D01\"}, \"font\": {\"color\": \"white\", \"family\": \"Roboto\", \"size\": 12}, \"line\": {\"color\": \"darkslategray\"}, \"values\": [\"<B>MUNIC\\u00cdPIO</B>\", \"<B>CASOS SUSPEITOS</B>\", \"<B>CASOS CONFIRMADOS</B>\", \"<B>\\u00d3BITOS CONFIRMADOS</B>\", \"<B>FONTE</B>\"]}, \"type\": \"table\"}],\n",
       "                        {\"height\": 900, \"template\": {\"data\": {\"bar\": [{\"error_x\": {\"color\": \"#2a3f5f\"}, \"error_y\": {\"color\": \"#2a3f5f\"}, \"marker\": {\"line\": {\"color\": \"#E5ECF6\", \"width\": 0.5}}, \"type\": \"bar\"}], \"barpolar\": [{\"marker\": {\"line\": {\"color\": \"#E5ECF6\", \"width\": 0.5}}, \"type\": \"barpolar\"}], \"carpet\": [{\"aaxis\": {\"endlinecolor\": \"#2a3f5f\", \"gridcolor\": \"white\", \"linecolor\": \"white\", \"minorgridcolor\": \"white\", \"startlinecolor\": \"#2a3f5f\"}, \"baxis\": {\"endlinecolor\": \"#2a3f5f\", \"gridcolor\": \"white\", \"linecolor\": \"white\", \"minorgridcolor\": \"white\", \"startlinecolor\": \"#2a3f5f\"}, \"type\": \"carpet\"}], \"choropleth\": [{\"colorbar\": {\"outlinewidth\": 0, \"ticks\": \"\"}, \"type\": \"choropleth\"}], \"contour\": [{\"colorbar\": {\"outlinewidth\": 0, \"ticks\": \"\"}, \"colorscale\": [[0.0, \"#0d0887\"], [0.1111111111111111, \"#46039f\"], [0.2222222222222222, \"#7201a8\"], [0.3333333333333333, \"#9c179e\"], [0.4444444444444444, \"#bd3786\"], [0.5555555555555556, \"#d8576b\"], [0.6666666666666666, \"#ed7953\"], [0.7777777777777778, \"#fb9f3a\"], [0.8888888888888888, \"#fdca26\"], [1.0, \"#f0f921\"]], \"type\": \"contour\"}], \"contourcarpet\": [{\"colorbar\": {\"outlinewidth\": 0, \"ticks\": \"\"}, \"type\": \"contourcarpet\"}], \"heatmap\": [{\"colorbar\": {\"outlinewidth\": 0, \"ticks\": \"\"}, \"colorscale\": [[0.0, \"#0d0887\"], [0.1111111111111111, \"#46039f\"], [0.2222222222222222, \"#7201a8\"], [0.3333333333333333, \"#9c179e\"], [0.4444444444444444, \"#bd3786\"], [0.5555555555555556, \"#d8576b\"], [0.6666666666666666, \"#ed7953\"], [0.7777777777777778, \"#fb9f3a\"], [0.8888888888888888, \"#fdca26\"], [1.0, \"#f0f921\"]], \"type\": \"heatmap\"}], \"heatmapgl\": [{\"colorbar\": {\"outlinewidth\": 0, \"ticks\": \"\"}, \"colorscale\": [[0.0, \"#0d0887\"], [0.1111111111111111, \"#46039f\"], [0.2222222222222222, \"#7201a8\"], [0.3333333333333333, \"#9c179e\"], [0.4444444444444444, \"#bd3786\"], [0.5555555555555556, \"#d8576b\"], [0.6666666666666666, \"#ed7953\"], [0.7777777777777778, \"#fb9f3a\"], [0.8888888888888888, \"#fdca26\"], [1.0, \"#f0f921\"]], \"type\": \"heatmapgl\"}], \"histogram\": [{\"marker\": {\"colorbar\": {\"outlinewidth\": 0, \"ticks\": \"\"}}, \"type\": \"histogram\"}], \"histogram2d\": [{\"colorbar\": {\"outlinewidth\": 0, \"ticks\": \"\"}, \"colorscale\": [[0.0, \"#0d0887\"], [0.1111111111111111, \"#46039f\"], [0.2222222222222222, \"#7201a8\"], [0.3333333333333333, \"#9c179e\"], [0.4444444444444444, \"#bd3786\"], [0.5555555555555556, \"#d8576b\"], [0.6666666666666666, \"#ed7953\"], [0.7777777777777778, \"#fb9f3a\"], [0.8888888888888888, \"#fdca26\"], [1.0, \"#f0f921\"]], \"type\": \"histogram2d\"}], \"histogram2dcontour\": [{\"colorbar\": {\"outlinewidth\": 0, \"ticks\": \"\"}, \"colorscale\": [[0.0, \"#0d0887\"], [0.1111111111111111, \"#46039f\"], [0.2222222222222222, \"#7201a8\"], [0.3333333333333333, \"#9c179e\"], [0.4444444444444444, \"#bd3786\"], [0.5555555555555556, \"#d8576b\"], [0.6666666666666666, \"#ed7953\"], [0.7777777777777778, \"#fb9f3a\"], [0.8888888888888888, \"#fdca26\"], [1.0, \"#f0f921\"]], \"type\": \"histogram2dcontour\"}], \"mesh3d\": [{\"colorbar\": {\"outlinewidth\": 0, \"ticks\": \"\"}, \"type\": \"mesh3d\"}], \"parcoords\": [{\"line\": {\"colorbar\": {\"outlinewidth\": 0, \"ticks\": \"\"}}, \"type\": \"parcoords\"}], \"pie\": [{\"automargin\": true, \"type\": \"pie\"}], \"scatter\": [{\"marker\": {\"colorbar\": {\"outlinewidth\": 0, \"ticks\": \"\"}}, \"type\": \"scatter\"}], \"scatter3d\": [{\"line\": {\"colorbar\": {\"outlinewidth\": 0, \"ticks\": \"\"}}, \"marker\": {\"colorbar\": {\"outlinewidth\": 0, \"ticks\": \"\"}}, \"type\": \"scatter3d\"}], \"scattercarpet\": [{\"marker\": {\"colorbar\": {\"outlinewidth\": 0, \"ticks\": \"\"}}, \"type\": \"scattercarpet\"}], \"scattergeo\": [{\"marker\": {\"colorbar\": {\"outlinewidth\": 0, \"ticks\": \"\"}}, \"type\": \"scattergeo\"}], \"scattergl\": [{\"marker\": {\"colorbar\": {\"outlinewidth\": 0, \"ticks\": \"\"}}, \"type\": \"scattergl\"}], \"scattermapbox\": [{\"marker\": {\"colorbar\": {\"outlinewidth\": 0, \"ticks\": \"\"}}, \"type\": \"scattermapbox\"}], \"scatterpolar\": [{\"marker\": {\"colorbar\": {\"outlinewidth\": 0, \"ticks\": \"\"}}, \"type\": \"scatterpolar\"}], \"scatterpolargl\": [{\"marker\": {\"colorbar\": {\"outlinewidth\": 0, \"ticks\": \"\"}}, \"type\": \"scatterpolargl\"}], \"scatterternary\": [{\"marker\": {\"colorbar\": {\"outlinewidth\": 0, \"ticks\": \"\"}}, \"type\": \"scatterternary\"}], \"surface\": [{\"colorbar\": {\"outlinewidth\": 0, \"ticks\": \"\"}, \"colorscale\": [[0.0, \"#0d0887\"], [0.1111111111111111, \"#46039f\"], [0.2222222222222222, \"#7201a8\"], [0.3333333333333333, \"#9c179e\"], [0.4444444444444444, \"#bd3786\"], [0.5555555555555556, \"#d8576b\"], [0.6666666666666666, \"#ed7953\"], [0.7777777777777778, \"#fb9f3a\"], [0.8888888888888888, \"#fdca26\"], [1.0, \"#f0f921\"]], \"type\": \"surface\"}], \"table\": [{\"cells\": {\"fill\": {\"color\": \"#EBF0F8\"}, \"line\": {\"color\": \"white\"}}, \"header\": {\"fill\": {\"color\": \"#C8D4E3\"}, \"line\": {\"color\": \"white\"}}, \"type\": \"table\"}]}, \"layout\": {\"annotationdefaults\": {\"arrowcolor\": \"#2a3f5f\", \"arrowhead\": 0, \"arrowwidth\": 1}, \"coloraxis\": {\"colorbar\": {\"outlinewidth\": 0, \"ticks\": \"\"}}, \"colorscale\": {\"diverging\": [[0, \"#8e0152\"], [0.1, \"#c51b7d\"], [0.2, \"#de77ae\"], [0.3, \"#f1b6da\"], [0.4, \"#fde0ef\"], [0.5, \"#f7f7f7\"], [0.6, \"#e6f5d0\"], [0.7, \"#b8e186\"], [0.8, \"#7fbc41\"], [0.9, \"#4d9221\"], [1, \"#276419\"]], \"sequential\": [[0.0, \"#0d0887\"], [0.1111111111111111, \"#46039f\"], [0.2222222222222222, \"#7201a8\"], [0.3333333333333333, \"#9c179e\"], [0.4444444444444444, \"#bd3786\"], [0.5555555555555556, \"#d8576b\"], [0.6666666666666666, \"#ed7953\"], [0.7777777777777778, \"#fb9f3a\"], [0.8888888888888888, \"#fdca26\"], [1.0, \"#f0f921\"]], \"sequentialminus\": [[0.0, \"#0d0887\"], [0.1111111111111111, \"#46039f\"], [0.2222222222222222, \"#7201a8\"], [0.3333333333333333, \"#9c179e\"], [0.4444444444444444, \"#bd3786\"], [0.5555555555555556, \"#d8576b\"], [0.6666666666666666, \"#ed7953\"], [0.7777777777777778, \"#fb9f3a\"], [0.8888888888888888, \"#fdca26\"], [1.0, \"#f0f921\"]]}, \"colorway\": [\"#636efa\", \"#EF553B\", \"#00cc96\", \"#ab63fa\", \"#FFA15A\", \"#19d3f3\", \"#FF6692\", \"#B6E880\", \"#FF97FF\", \"#FECB52\"], \"font\": {\"color\": \"#2a3f5f\"}, \"geo\": {\"bgcolor\": \"white\", \"lakecolor\": \"white\", \"landcolor\": \"#E5ECF6\", \"showlakes\": true, \"showland\": true, \"subunitcolor\": \"white\"}, \"hoverlabel\": {\"align\": \"left\"}, \"hovermode\": \"closest\", \"mapbox\": {\"style\": \"light\"}, \"paper_bgcolor\": \"white\", \"plot_bgcolor\": \"#E5ECF6\", \"polar\": {\"angularaxis\": {\"gridcolor\": \"white\", \"linecolor\": \"white\", \"ticks\": \"\"}, \"bgcolor\": \"#E5ECF6\", \"radialaxis\": {\"gridcolor\": \"white\", \"linecolor\": \"white\", \"ticks\": \"\"}}, \"scene\": {\"xaxis\": {\"backgroundcolor\": \"#E5ECF6\", \"gridcolor\": \"white\", \"gridwidth\": 2, \"linecolor\": \"white\", \"showbackground\": true, \"ticks\": \"\", \"zerolinecolor\": \"white\"}, \"yaxis\": {\"backgroundcolor\": \"#E5ECF6\", \"gridcolor\": \"white\", \"gridwidth\": 2, \"linecolor\": \"white\", \"showbackground\": true, \"ticks\": \"\", \"zerolinecolor\": \"white\"}, \"zaxis\": {\"backgroundcolor\": \"#E5ECF6\", \"gridcolor\": \"white\", \"gridwidth\": 2, \"linecolor\": \"white\", \"showbackground\": true, \"ticks\": \"\", \"zerolinecolor\": \"white\"}}, \"shapedefaults\": {\"line\": {\"color\": \"#2a3f5f\"}}, \"ternary\": {\"aaxis\": {\"gridcolor\": \"white\", \"linecolor\": \"white\", \"ticks\": \"\"}, \"baxis\": {\"gridcolor\": \"white\", \"linecolor\": \"white\", \"ticks\": \"\"}, \"bgcolor\": \"#E5ECF6\", \"caxis\": {\"gridcolor\": \"white\", \"linecolor\": \"white\", \"ticks\": \"\"}}, \"title\": {\"x\": 0.05}, \"xaxis\": {\"automargin\": true, \"gridcolor\": \"white\", \"linecolor\": \"white\", \"ticks\": \"\", \"title\": {\"standoff\": 15}, \"zerolinecolor\": \"white\", \"zerolinewidth\": 2}, \"yaxis\": {\"automargin\": true, \"gridcolor\": \"white\", \"linecolor\": \"white\", \"ticks\": \"\", \"title\": {\"standoff\": 15}, \"zerolinecolor\": \"white\", \"zerolinewidth\": 2}}}},\n",
       "                        {\"responsive\": true}\n",
       "                    ).then(function(){\n",
       "                            \n",
       "var gd = document.getElementById('594e1d84-665f-4604-9dd3-59c8eeee61a0');\n",
       "var x = new MutationObserver(function (mutations, observer) {{\n",
       "        var display = window.getComputedStyle(gd).display;\n",
       "        if (!display || display === 'none') {{\n",
       "            console.log([gd, 'removed!']);\n",
       "            Plotly.purge(gd);\n",
       "            observer.disconnect();\n",
       "        }}\n",
       "}});\n",
       "\n",
       "// Listen for the removal of the full notebook cells\n",
       "var notebookContainer = gd.closest('#notebook-container');\n",
       "if (notebookContainer) {{\n",
       "    x.observe(notebookContainer, {childList: true});\n",
       "}}\n",
       "\n",
       "// Listen for the clearing of the current output cell\n",
       "var outputEl = gd.closest('.output');\n",
       "if (outputEl) {{\n",
       "    x.observe(outputEl, {childList: true});\n",
       "}}\n",
       "\n",
       "                        })\n",
       "                };\n",
       "                });\n",
       "            </script>\n",
       "        </div>"
      ]
     },
     "metadata": {},
     "output_type": "display_data"
    }
   ],
   "source": [
    "fig = go.Figure(data=[go.Table(\n",
    "    header=dict(\n",
    "        values=[\"<b>{}</b>\".format(col).upper() for col in vale_table.columns],\n",
    "        fill_color='#FF6D01',\n",
    "        align='left',\n",
    "        font=dict(color='white',size=12 ,family='Roboto'),\n",
    "        line_color='darkslategray',\n",
    "\n",
    "#         height=40\n",
    "    )\n",
    "    \n",
    "    ,\n",
    "    cells=dict(\n",
    "        values=[vale_table[col].astype(str).apply(lambda x: f\"<b>{x}</b>\") for col in cols],\n",
    "#         fill=dict(color=['#04738c','#04738c','#04738c','#04738c', 'white']),\n",
    "#         fill_color = [['#04738c' if i>0 else 'white' for i in vale_table['Casos Confirmados'] ]*4],\n",
    "        align='left',\n",
    "        font=dict(color='#04738c',size=12 ,family='Roboto'),\n",
    "        line_color='darkslategray',\n",
    "\n",
    "        )\n",
    "    )\n",
    "])\n",
    "\n",
    "fig = fig.update_layout(height = 900)\n",
    "fig"
   ]
  },
  {
   "cell_type": "code",
   "execution_count": 311,
   "metadata": {},
   "outputs": [
    {
     "data": {
      "text/plain": [
       "'../images/table/vale_table.html'"
      ]
     },
     "execution_count": 311,
     "metadata": {},
     "output_type": "execute_result"
    }
   ],
   "source": [
    "plot(fig, filename=\"../images/table/vale_table.html\", auto_open=False)\n"
   ]
  },
  {
   "cell_type": "code",
   "execution_count": null,
   "metadata": {},
   "outputs": [],
   "source": []
  },
  {
   "cell_type": "code",
   "execution_count": null,
   "metadata": {},
   "outputs": [],
   "source": []
  },
  {
   "cell_type": "code",
   "execution_count": null,
   "metadata": {},
   "outputs": [],
   "source": []
  },
  {
   "cell_type": "code",
   "execution_count": null,
   "metadata": {},
   "outputs": [],
   "source": []
  },
  {
   "cell_type": "code",
   "execution_count": null,
   "metadata": {},
   "outputs": [],
   "source": []
  },
  {
   "cell_type": "code",
   "execution_count": null,
   "metadata": {},
   "outputs": [],
   "source": []
  },
  {
   "cell_type": "code",
   "execution_count": null,
   "metadata": {},
   "outputs": [],
   "source": []
  },
  {
   "cell_type": "code",
   "execution_count": null,
   "metadata": {},
   "outputs": [],
   "source": []
  },
  {
   "cell_type": "code",
   "execution_count": null,
   "metadata": {},
   "outputs": [],
   "source": []
  },
  {
   "cell_type": "code",
   "execution_count": null,
   "metadata": {},
   "outputs": [],
   "source": []
  },
  {
   "cell_type": "code",
   "execution_count": null,
   "metadata": {},
   "outputs": [],
   "source": []
  },
  {
   "cell_type": "code",
   "execution_count": null,
   "metadata": {},
   "outputs": [],
   "source": []
  },
  {
   "cell_type": "code",
   "execution_count": null,
   "metadata": {},
   "outputs": [],
   "source": []
  },
  {
   "cell_type": "code",
   "execution_count": null,
   "metadata": {},
   "outputs": [],
   "source": []
  },
  {
   "cell_type": "code",
   "execution_count": null,
   "metadata": {},
   "outputs": [],
   "source": []
  }
 ],
 "metadata": {
  "kernelspec": {
   "display_name": "Python 3",
   "language": "python",
   "name": "python3"
  },
  "language_info": {
   "codemirror_mode": {
    "name": "ipython",
    "version": 3
   },
   "file_extension": ".py",
   "mimetype": "text/x-python",
   "name": "python",
   "nbconvert_exporter": "python",
   "pygments_lexer": "ipython3",
   "version": "3.7.4"
  }
 },
 "nbformat": 4,
 "nbformat_minor": 4
}
