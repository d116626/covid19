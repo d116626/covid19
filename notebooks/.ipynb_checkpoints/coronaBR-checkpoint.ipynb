{
 "cells": [
  {
   "cell_type": "code",
   "execution_count": 1,
   "metadata": {},
   "outputs": [],
   "source": [
    "%reload_ext autoreload\n",
    "%autoreload 2\n",
    "\n",
    "import warnings\n",
    "warnings.filterwarnings('ignore')\n",
    "\n",
    "import numpy as np\n",
    "import pandas as pd\n",
    "pd.options.display.max_columns = 999\n",
    "pd.options.display.max_rows = 999\n",
    "pd.options.display.max_colwidth = 100\n",
    "\n",
    "import geopandas as gpd\n",
    "\n",
    "import plotly.graph_objs as go\n",
    "from plotly.offline import download_plotlyjs, init_notebook_mode, plot, iplot, offline\n",
    "import plotly.express as px\n",
    "import seaborn as sns\n",
    "import matplotlib.pyplot as plt\n",
    "\n",
    "import requests\n",
    "\n",
    "from os import listdir\n",
    "import unicodedata\n",
    "\n",
    "import json\n",
    "\n",
    "from paths import *\n",
    "from tools.vizu import remove_acentos\n",
    "from tools.vizu import normalize_cols\n",
    "from tools.io import read_sheets\n",
    "\n",
    "\n",
    "from datetime import datetime\n",
    "today = datetime.today().strftime('%Y-%m-%d')\n",
    "\n",
    "\n",
    "import yaml"
   ]
  },
  {
   "cell_type": "code",
   "execution_count": null,
   "metadata": {},
   "outputs": [],
   "source": []
  },
  {
   "cell_type": "markdown",
   "metadata": {},
   "source": [
    "# Brasil.IO"
   ]
  },
  {
   "cell_type": "code",
   "execution_count": 31,
   "metadata": {
    "scrolled": true
   },
   "outputs": [
    {
     "name": "stdout",
     "output_type": "stream",
     "text": [
      "https://brasil.io/api/dataset/covid19/caso/data?format=json\n",
      "https://brasil.io/api/dataset/covid19/caso/data?format=json&page=2\n",
      "https://brasil.io/api/dataset/covid19/caso/data?format=json&page=3\n",
      "https://brasil.io/api/dataset/covid19/caso/data?format=json&page=4\n"
     ]
    }
   ],
   "source": [
    "####### IMPORT DATA ######\n",
    "url = 'https://brasil.io/api/dataset/covid19/caso/data?format=json'\n",
    "df_final = pd.DataFrame()\n",
    "\n",
    "while url != None:\n",
    "    \n",
    "    print(url)\n",
    "    response = requests.get(url)\n",
    "    data = response.text\n",
    "    parsed = json.loads(data)\n",
    "    url = parsed['next']\n",
    "    df = pd.DataFrame(parsed['results']).sort_values(by='confirmed',ascending=False)\n",
    "    df_final = pd.concat([df_final,df], axis=0)"
   ]
  },
  {
   "cell_type": "code",
   "execution_count": 32,
   "metadata": {},
   "outputs": [
    {
     "data": {
      "text/html": [
       "<div>\n",
       "<style scoped>\n",
       "    .dataframe tbody tr th:only-of-type {\n",
       "        vertical-align: middle;\n",
       "    }\n",
       "\n",
       "    .dataframe tbody tr th {\n",
       "        vertical-align: top;\n",
       "    }\n",
       "\n",
       "    .dataframe thead th {\n",
       "        text-align: right;\n",
       "    }\n",
       "</style>\n",
       "<table border=\"1\" class=\"dataframe\">\n",
       "  <thead>\n",
       "    <tr style=\"text-align: right;\">\n",
       "      <th></th>\n",
       "      <th>city</th>\n",
       "      <th>city_ibge_code</th>\n",
       "      <th>confirmed</th>\n",
       "      <th>confirmed_per_100k_inhabitants</th>\n",
       "      <th>date</th>\n",
       "      <th>death_rate</th>\n",
       "      <th>deaths</th>\n",
       "      <th>estimated_population_2019</th>\n",
       "      <th>is_last</th>\n",
       "      <th>order_for_place</th>\n",
       "      <th>place_type</th>\n",
       "      <th>state</th>\n",
       "    </tr>\n",
       "  </thead>\n",
       "  <tbody>\n",
       "    <tr>\n",
       "      <th>344</th>\n",
       "      <td>None</td>\n",
       "      <td>35</td>\n",
       "      <td>2339</td>\n",
       "      <td>5.09375</td>\n",
       "      <td>2020-03-31</td>\n",
       "      <td>0.0581</td>\n",
       "      <td>136.0</td>\n",
       "      <td>45919049.0</td>\n",
       "      <td>True</td>\n",
       "      <td>33</td>\n",
       "      <td>state</td>\n",
       "      <td>SP</td>\n",
       "    </tr>\n",
       "    <tr>\n",
       "      <th>330</th>\n",
       "      <td>São Paulo</td>\n",
       "      <td>3550308</td>\n",
       "      <td>1885</td>\n",
       "      <td>15.38521</td>\n",
       "      <td>2020-03-31</td>\n",
       "      <td>0.0642</td>\n",
       "      <td>121.0</td>\n",
       "      <td>12252023.0</td>\n",
       "      <td>True</td>\n",
       "      <td>27</td>\n",
       "      <td>city</td>\n",
       "      <td>SP</td>\n",
       "    </tr>\n",
       "    <tr>\n",
       "      <th>739</th>\n",
       "      <td>None</td>\n",
       "      <td>35</td>\n",
       "      <td>1517</td>\n",
       "      <td>3.30364</td>\n",
       "      <td>2020-03-30</td>\n",
       "      <td>0.0745</td>\n",
       "      <td>113.0</td>\n",
       "      <td>45919049.0</td>\n",
       "      <td>False</td>\n",
       "      <td>32</td>\n",
       "      <td>state</td>\n",
       "      <td>SP</td>\n",
       "    </tr>\n",
       "    <tr>\n",
       "      <th>729</th>\n",
       "      <td>São Paulo</td>\n",
       "      <td>3550308</td>\n",
       "      <td>1233</td>\n",
       "      <td>10.06364</td>\n",
       "      <td>2020-03-30</td>\n",
       "      <td>0.0835</td>\n",
       "      <td>103.0</td>\n",
       "      <td>12252023.0</td>\n",
       "      <td>False</td>\n",
       "      <td>26</td>\n",
       "      <td>city</td>\n",
       "      <td>SP</td>\n",
       "    </tr>\n",
       "    <tr>\n",
       "      <th>570</th>\n",
       "      <td>None</td>\n",
       "      <td>33</td>\n",
       "      <td>657</td>\n",
       "      <td>3.80540</td>\n",
       "      <td>2020-03-30</td>\n",
       "      <td>0.0274</td>\n",
       "      <td>18.0</td>\n",
       "      <td>17264943.0</td>\n",
       "      <td>True</td>\n",
       "      <td>18</td>\n",
       "      <td>state</td>\n",
       "      <td>RJ</td>\n",
       "    </tr>\n",
       "    <tr>\n",
       "      <th>944</th>\n",
       "      <td>None</td>\n",
       "      <td>33</td>\n",
       "      <td>600</td>\n",
       "      <td>3.47525</td>\n",
       "      <td>2020-03-29</td>\n",
       "      <td>0.0283</td>\n",
       "      <td>17.0</td>\n",
       "      <td>17264943.0</td>\n",
       "      <td>False</td>\n",
       "      <td>17</td>\n",
       "      <td>state</td>\n",
       "      <td>RJ</td>\n",
       "    </tr>\n",
       "    <tr>\n",
       "      <th>563</th>\n",
       "      <td>Rio de Janeiro</td>\n",
       "      <td>3304557</td>\n",
       "      <td>553</td>\n",
       "      <td>8.23051</td>\n",
       "      <td>2020-03-30</td>\n",
       "      <td>0.0235</td>\n",
       "      <td>13.0</td>\n",
       "      <td>6718903.0</td>\n",
       "      <td>True</td>\n",
       "      <td>17</td>\n",
       "      <td>city</td>\n",
       "      <td>RJ</td>\n",
       "    </tr>\n",
       "    <tr>\n",
       "      <th>939</th>\n",
       "      <td>Rio de Janeiro</td>\n",
       "      <td>3304557</td>\n",
       "      <td>516</td>\n",
       "      <td>7.67983</td>\n",
       "      <td>2020-03-29</td>\n",
       "      <td>0.0252</td>\n",
       "      <td>13.0</td>\n",
       "      <td>6718903.0</td>\n",
       "      <td>False</td>\n",
       "      <td>16</td>\n",
       "      <td>city</td>\n",
       "      <td>RJ</td>\n",
       "    </tr>\n",
       "    <tr>\n",
       "      <th>402</th>\n",
       "      <td>None</td>\n",
       "      <td>23</td>\n",
       "      <td>382</td>\n",
       "      <td>4.18306</td>\n",
       "      <td>2020-03-30</td>\n",
       "      <td>0.0131</td>\n",
       "      <td>5.0</td>\n",
       "      <td>9132078.0</td>\n",
       "      <td>True</td>\n",
       "      <td>15</td>\n",
       "      <td>state</td>\n",
       "      <td>CE</td>\n",
       "    </tr>\n",
       "    <tr>\n",
       "      <th>797</th>\n",
       "      <td>None</td>\n",
       "      <td>23</td>\n",
       "      <td>359</td>\n",
       "      <td>3.93120</td>\n",
       "      <td>2020-03-29</td>\n",
       "      <td>0.0139</td>\n",
       "      <td>5.0</td>\n",
       "      <td>9132078.0</td>\n",
       "      <td>False</td>\n",
       "      <td>14</td>\n",
       "      <td>state</td>\n",
       "      <td>CE</td>\n",
       "    </tr>\n",
       "  </tbody>\n",
       "</table>\n",
       "</div>"
      ],
      "text/plain": [
       "               city city_ibge_code  confirmed  confirmed_per_100k_inhabitants  \\\n",
       "344            None             35       2339                         5.09375   \n",
       "330       São Paulo        3550308       1885                        15.38521   \n",
       "739            None             35       1517                         3.30364   \n",
       "729       São Paulo        3550308       1233                        10.06364   \n",
       "570            None             33        657                         3.80540   \n",
       "944            None             33        600                         3.47525   \n",
       "563  Rio de Janeiro        3304557        553                         8.23051   \n",
       "939  Rio de Janeiro        3304557        516                         7.67983   \n",
       "402            None             23        382                         4.18306   \n",
       "797            None             23        359                         3.93120   \n",
       "\n",
       "           date  death_rate  deaths  estimated_population_2019  is_last  \\\n",
       "344  2020-03-31      0.0581   136.0                 45919049.0     True   \n",
       "330  2020-03-31      0.0642   121.0                 12252023.0     True   \n",
       "739  2020-03-30      0.0745   113.0                 45919049.0    False   \n",
       "729  2020-03-30      0.0835   103.0                 12252023.0    False   \n",
       "570  2020-03-30      0.0274    18.0                 17264943.0     True   \n",
       "944  2020-03-29      0.0283    17.0                 17264943.0    False   \n",
       "563  2020-03-30      0.0235    13.0                  6718903.0     True   \n",
       "939  2020-03-29      0.0252    13.0                  6718903.0    False   \n",
       "402  2020-03-30      0.0131     5.0                  9132078.0     True   \n",
       "797  2020-03-29      0.0139     5.0                  9132078.0    False   \n",
       "\n",
       "     order_for_place place_type state  \n",
       "344               33      state    SP  \n",
       "330               27       city    SP  \n",
       "739               32      state    SP  \n",
       "729               26       city    SP  \n",
       "570               18      state    RJ  \n",
       "944               17      state    RJ  \n",
       "563               17       city    RJ  \n",
       "939               16       city    RJ  \n",
       "402               15      state    CE  \n",
       "797               14      state    CE  "
      ]
     },
     "execution_count": 32,
     "metadata": {},
     "output_type": "execute_result"
    }
   ],
   "source": [
    "df_final.head(10)"
   ]
  },
  {
   "cell_type": "code",
   "execution_count": null,
   "metadata": {},
   "outputs": [],
   "source": []
  },
  {
   "cell_type": "code",
   "execution_count": null,
   "metadata": {},
   "outputs": [],
   "source": []
  },
  {
   "cell_type": "markdown",
   "metadata": {},
   "source": [
    "## transformation"
   ]
  },
  {
   "cell_type": "code",
   "execution_count": 4,
   "metadata": {},
   "outputs": [],
   "source": [
    "from tools.manipulation import create_br_not_sp\n",
    "\n",
    "df = df_final.sort_values(by='confirmed',ascending=False)\n",
    "dd = create_br_not_sp(df)\n",
    "\n",
    "### GET ONLY LAST DAY\n",
    "mask = dd['date'] < today\n",
    "dd = dd[mask]\n",
    "\n",
    "dd = dd.sort_values(by=['date'],ascending=False)\n",
    "dd = dd.sort_values(by=['confirmed'],ascending=False)\n",
    "\n",
    "# get only the states\n",
    "mask = ((dd['place_type']!='city'))\n",
    "df_states = dd[mask]\n",
    "df_states = df_states.sort_values(by=['date'],ascending=False)"
   ]
  },
  {
   "cell_type": "code",
   "execution_count": null,
   "metadata": {},
   "outputs": [],
   "source": []
  },
  {
   "cell_type": "markdown",
   "metadata": {},
   "source": [
    "# Import Data"
   ]
  },
  {
   "cell_type": "code",
   "execution_count": 33,
   "metadata": {},
   "outputs": [],
   "source": [
    "df = pd.read_csv('https://raw.githubusercontent.com/wcota/covid19br/master/cases-brazil-states.csv')\n",
    "df['state'] = df['state'].str.replace('TOTAL','BRASIL')\n",
    "df.to_csv('brasil_states.csv', index=False)\n",
    "dd = df.copy()"
   ]
  },
  {
   "cell_type": "code",
   "execution_count": 34,
   "metadata": {},
   "outputs": [],
   "source": [
    "dd = dd.drop(['country','deaths'],1)"
   ]
  },
  {
   "cell_type": "code",
   "execution_count": 35,
   "metadata": {},
   "outputs": [],
   "source": [
    "# dd.tail(30)"
   ]
  },
  {
   "cell_type": "markdown",
   "metadata": {},
   "source": [
    "## MYTABLE"
   ]
  },
  {
   "cell_type": "code",
   "execution_count": 36,
   "metadata": {},
   "outputs": [],
   "source": [
    "from tools.io import read_sheets\n",
    "df = read_sheets('covid19_estados')"
   ]
  },
  {
   "cell_type": "code",
   "execution_count": 37,
   "metadata": {},
   "outputs": [],
   "source": [
    "# ddf = pd.merge(dd , df, on=['date','state'], how='left')\n",
    "# ddf['confirmed'] = ddf['totalCases']\n",
    "# ddf['new_cases'] = ddf['newCases']\n",
    "# ddf = ddf.drop(['city','newCases','totalCases'],1)\n",
    "# df  = ddf.copy()"
   ]
  },
  {
   "cell_type": "code",
   "execution_count": 38,
   "metadata": {},
   "outputs": [],
   "source": [
    "for col in ['confirmed','new_cases','deaths','new_deaths']:\n",
    "    df[col] = pd.to_numeric(df[col])"
   ]
  },
  {
   "cell_type": "code",
   "execution_count": 39,
   "metadata": {},
   "outputs": [],
   "source": [
    "# mask = df['new_deaths'].notnull()\n",
    "# df = df[mask]"
   ]
  },
  {
   "cell_type": "code",
   "execution_count": 40,
   "metadata": {},
   "outputs": [],
   "source": [
    "df_states = df.sort_values(by=['date','confirmed'], ascending=False)\n",
    "df_states['city'] = df_states['state']\n",
    "df_states.head()\n",
    "\n",
    "mask = (df_states['state']!='BRASIL') & (df_states['state']!='SP')\n",
    "not_sp = df_states[mask].groupby(by=['date'], as_index=False).sum()\n",
    "\n",
    "not_sp['state'] = 'BRASIL SEM SP'\n",
    "not_sp['city'] = 'BRASIL SEM SP'\n",
    "df_states = pd.concat([df_states,not_sp[df_states.columns]],axis=0)\n"
   ]
  },
  {
   "cell_type": "markdown",
   "metadata": {},
   "source": [
    "## VIS"
   ]
  },
  {
   "cell_type": "code",
   "execution_count": 47,
   "metadata": {},
   "outputs": [
    {
     "name": "stdout",
     "output_type": "stream",
     "text": [
      "Done!\n",
      "Done!\n"
     ]
    }
   ],
   "source": [
    "from tools.vizu import brasil_vis\n",
    "from tools import io\n",
    "\n",
    "themes = yaml.load(open('../themes/custom_colorscales.yaml', 'r'), Loader=yaml.FullLoader)\n",
    "\n",
    "df_states = df_states.sort_values(by=['date'],ascending=False)\n",
    "\n",
    "escala  = 'lin'\n",
    "save    = True\n",
    "#### CHOSE CITIES TO START SELECTED IN GRAPH\n",
    "in_cities = ['BRASIL','BRASIL SEM SP','SP', 'RJ']\n",
    "\n",
    "# mask = ((dd[var_col]>0))\n",
    "# dd = dd[mask]\n",
    "\n",
    "## confirmed or deaths\n",
    "for var in ['confirmed','deaths']:\n",
    "    fig = brasil_vis(df_states,\n",
    "                     var,\n",
    "                     in_cities,\n",
    "                     today='31/03/2020',\n",
    "                     save=True,\n",
    "                     themes=themes['novo'])\n",
    "    \n",
    "    \n",
    "    name= \"brasil_por_estado_{}.html\".format(var)\n",
    "    path= f\"../images/brasil/{name}\"\n",
    "    \n",
    "#     plot(fig, filename=path, auto_open=False)\n",
    "# #     plot(fig, filename=\"../../sample_pages/images/covid19/brasil/brasil_por_estado_{}.html\".format(var_col), auto_open=False)\n",
    "    \n",
    "    io.to_storage(bucket='sv-covid19',\n",
    "                  bucket_folder='brasil',\n",
    "                  file_name=name,\n",
    "                  path_to_file=path)\n",
    "\n"
   ]
  },
  {
   "cell_type": "code",
   "execution_count": 43,
   "metadata": {},
   "outputs": [],
   "source": [
    "# fig"
   ]
  },
  {
   "cell_type": "code",
   "execution_count": null,
   "metadata": {},
   "outputs": [],
   "source": []
  },
  {
   "cell_type": "markdown",
   "metadata": {},
   "source": [
    "### Figures to UP"
   ]
  },
  {
   "cell_type": "code",
   "execution_count": 45,
   "metadata": {},
   "outputs": [
    {
     "name": "stdout",
     "output_type": "stream",
     "text": [
      "Done!\n",
      "Done!\n",
      "Done!\n",
      "Done!\n",
      "Done!\n",
      "Done!\n"
     ]
    }
   ],
   "source": [
    "f1_name = 'total_lin.html'\n",
    "f2_name = 'mortes_lin.html'\n",
    "f3_name = 'brasil_lin_total.html'\n",
    "f4_name = 'brasil_lin_mortes.html'\n",
    "# f5_name = \"brasil_por_estado_confirmed.html\"\n",
    "# f6_name = \"brasil_por_estado_deaths.html\"\n",
    "\n",
    "f1_path = f\"../images/multipleCountry/{f1_name}\"\n",
    "f2_path = f\"../images/multipleCountry/{f2_name}\"\n",
    "f3_path = f\"../images/singleCountry/{f3_name}\"\n",
    "f4_path = f\"../images/singleCountry/{f4_name}\"\n",
    "# f5_path = f\"../images/brasil/{f5_name}\"\n",
    "# f6_path = f\"../images/brasil/{f6_name}\"\n",
    "\n",
    "names_paths = {f1_name:f1_path,\n",
    "         f2_name:f2_path,\n",
    "         f3_name:f3_path,\n",
    "         f4_name:f4_path\n",
    "              }\n",
    "#          f5_name:f5_path,\n",
    "#          f6_name:f6_path}\n",
    "\n",
    "for name in names_paths.keys():\n",
    "    \n",
    "    io.to_storage(bucket='sv-covid19',\n",
    "              bucket_folder='brasil',\n",
    "              file_name=name,\n",
    "              path_to_file=names_paths[name])"
   ]
  },
  {
   "cell_type": "code",
   "execution_count": null,
   "metadata": {},
   "outputs": [],
   "source": []
  },
  {
   "cell_type": "markdown",
   "metadata": {},
   "source": [
    "## MAPS"
   ]
  },
  {
   "cell_type": "code",
   "execution_count": 18,
   "metadata": {},
   "outputs": [],
   "source": [
    "maps = gpd.read_file('../../mapas_brasil/municipios-ibge/brasil-municipios.shp')\n",
    "ufs = gpd.read_file('../../mapas_brasil/estados-ibge/BRUFE250GC_SIR.shp')"
   ]
  },
  {
   "cell_type": "code",
   "execution_count": 19,
   "metadata": {},
   "outputs": [],
   "source": [
    "df = pd.read_csv('https://raw.githubusercontent.com/wcota/covid19br/master/cases-brazil-cities.csv', dtype={'ibgeID':str})\n",
    "municipios = pd.read_csv('../data/br_municipios_ibge.csv', dtype={'geocodigo':str})\n",
    "\n",
    "cols = ['ibgeID','state','city','nome_uf','nome_mesorregiao','nome_municipio','totalCases']\n",
    "dd = pd.merge(df,municipios, left_on='ibgeID', right_on='geocodigo', how = 'left')[cols]\n",
    "\n",
    "final = pd.merge(dd,maps, left_on='ibgeID', right_on='CD_GEOCMU', how='left').drop(['CD_GEOCMU','NM_MUNICIP'],1)"
   ]
  },
  {
   "cell_type": "code",
   "execution_count": 20,
   "metadata": {},
   "outputs": [],
   "source": [
    "final =  final[final['geometry'].notnull()]\n",
    "final = gpd.GeoDataFrame(final)\n",
    "final.crs = {'init' :'epsg:4326'}\n",
    "\n",
    "rename_cols = {'nome_municipio':'Município','nome_uf':'Estado','totalCases':'Casos'}\n",
    "final = final.rename(columns=rename_cols)"
   ]
  },
  {
   "cell_type": "code",
   "execution_count": 21,
   "metadata": {},
   "outputs": [],
   "source": [
    "mask = df_states['date'] == max(df_states['date'])\n",
    "estados = df_states[mask]\n",
    "\n",
    "\n",
    "ff = final[['state','Estado']].drop_duplicates()\n",
    "estados = pd.merge(estados,ff,on='state', how='inner')\n",
    "\n",
    "estados['NM_ESTADO'] = estados['Estado'].str.upper()\n",
    "estados = pd.merge(estados,ufs, on = 'NM_ESTADO')\n",
    "\n",
    "estados = gpd.GeoDataFrame(estados)\n",
    "estados.crs = {'init' :'epsg:4326'}"
   ]
  },
  {
   "cell_type": "code",
   "execution_count": 22,
   "metadata": {},
   "outputs": [],
   "source": [
    "rename_cols = {'confirmed':'Casos','deaths':'Mortes','new_cases':'Novos Casos','new_deaths':'Novas Mortes','date':'Data'}\n",
    "estados = estados.rename(columns=rename_cols)"
   ]
  },
  {
   "cell_type": "code",
   "execution_count": 23,
   "metadata": {},
   "outputs": [
    {
     "data": {
      "text/html": [
       "<div>\n",
       "<style scoped>\n",
       "    .dataframe tbody tr th:only-of-type {\n",
       "        vertical-align: middle;\n",
       "    }\n",
       "\n",
       "    .dataframe tbody tr th {\n",
       "        vertical-align: top;\n",
       "    }\n",
       "\n",
       "    .dataframe thead th {\n",
       "        text-align: right;\n",
       "    }\n",
       "</style>\n",
       "<table border=\"1\" class=\"dataframe\">\n",
       "  <thead>\n",
       "    <tr style=\"text-align: right;\">\n",
       "      <th></th>\n",
       "      <th>Data</th>\n",
       "      <th>state</th>\n",
       "      <th>Casos</th>\n",
       "      <th>Novos Casos</th>\n",
       "      <th>Mortes</th>\n",
       "      <th>Novas Mortes</th>\n",
       "      <th>city</th>\n",
       "      <th>Estado</th>\n",
       "      <th>NM_ESTADO</th>\n",
       "      <th>NM_REGIAO</th>\n",
       "      <th>CD_GEOCUF</th>\n",
       "      <th>geometry</th>\n",
       "    </tr>\n",
       "  </thead>\n",
       "  <tbody>\n",
       "    <tr>\n",
       "      <th>26</th>\n",
       "      <td>2020-03-31</td>\n",
       "      <td>RS</td>\n",
       "      <td>274</td>\n",
       "      <td>33</td>\n",
       "      <td>4</td>\n",
       "      <td>1</td>\n",
       "      <td>RS</td>\n",
       "      <td>Rio Grande do Sul</td>\n",
       "      <td>RIO GRANDE DO SUL</td>\n",
       "      <td>SUL</td>\n",
       "      <td>43</td>\n",
       "      <td>POLYGON ((-53.03183 -27.15947, -53.02991 -27.15951, -53.02793 -27.15914, -53.02615 -27.15862, -5...</td>\n",
       "    </tr>\n",
       "  </tbody>\n",
       "</table>\n",
       "</div>"
      ],
      "text/plain": [
       "          Data state  Casos  Novos Casos  Mortes  Novas Mortes city  \\\n",
       "26  2020-03-31    RS    274           33       4             1   RS   \n",
       "\n",
       "               Estado          NM_ESTADO NM_REGIAO CD_GEOCUF  \\\n",
       "26  Rio Grande do Sul  RIO GRANDE DO SUL       SUL        43   \n",
       "\n",
       "                                                                                               geometry  \n",
       "26  POLYGON ((-53.03183 -27.15947, -53.02991 -27.15951, -53.02793 -27.15914, -53.02615 -27.15862, -5...  "
      ]
     },
     "execution_count": 23,
     "metadata": {},
     "output_type": "execute_result"
    }
   ],
   "source": [
    "estados.tail(1)"
   ]
  },
  {
   "cell_type": "code",
   "execution_count": 24,
   "metadata": {},
   "outputs": [],
   "source": [
    "from scripts import vis_maps\n",
    "mymap =  vis_maps.get_map(final,'Casos', estados)\n",
    "\n",
    "mymap.save('../maps/cidades_estados.html')\n",
    "mymap.save('../../sample_pages/images/covid19/maps/cidades_estados.html')"
   ]
  },
  {
   "cell_type": "code",
   "execution_count": 25,
   "metadata": {},
   "outputs": [
    {
     "name": "stdout",
     "output_type": "stream",
     "text": [
      "Done!\n"
     ]
    }
   ],
   "source": [
    "from scripts import io\n",
    "\n",
    "io.to_storage(bucket='sv-covid19',\n",
    "              bucket_folder='maps',\n",
    "              file_name='cidades_estados.html',\n",
    "              path_to_file='../maps/cidades_estados.html')"
   ]
  },
  {
   "cell_type": "code",
   "execution_count": null,
   "metadata": {},
   "outputs": [],
   "source": []
  },
  {
   "cell_type": "code",
   "execution_count": null,
   "metadata": {},
   "outputs": [],
   "source": []
  },
  {
   "cell_type": "code",
   "execution_count": null,
   "metadata": {},
   "outputs": [],
   "source": []
  },
  {
   "cell_type": "markdown",
   "metadata": {},
   "source": [
    "## Vale"
   ]
  },
  {
   "cell_type": "code",
   "execution_count": 26,
   "metadata": {},
   "outputs": [],
   "source": [
    "# estado_sp = estados[estados['state']=='SP']\n",
    "estado_sp = estados.copy()\n",
    "col_rename ={\n",
    "    'Casos':'Casos Confirmados',\n",
    "    'Mortes':'Óbitos Confirmados',\n",
    "    'Data':'Data do Boletim',\n",
    "}\n",
    "\n",
    "estado_sp = estado_sp.rename(columns=col_rename)\n",
    "\n",
    "sp = gpd.read_file('../../brasil_geodata/maps/sp_municipios.json')"
   ]
  },
  {
   "cell_type": "code",
   "execution_count": 27,
   "metadata": {},
   "outputs": [],
   "source": [
    "from tools.io import read_sheets\n",
    "df = read_sheets('covid19_vale_do_paraiba')\n",
    "\n",
    "df['nome_municipio'] = df['municipio']\n",
    "\n",
    "cols = ['suspeitas','suspeitas_internados','confirmados','descartados','mortes','recuperados']\n",
    "for col in cols:\n",
    "    df[col] = pd.to_numeric(df[col], errors='coerce')\n",
    "    \n",
    "df = df.fillna('-').replace('','-')"
   ]
  },
  {
   "cell_type": "code",
   "execution_count": 28,
   "metadata": {},
   "outputs": [],
   "source": [
    "vale = pd.merge(df,sp[['nome_municipio','geometry']],on='nome_municipio', how='left')\n",
    "vale = vale[vale['geometry'].notnull()]\n",
    "vale = gpd.GeoDataFrame(vale)\n",
    "vale.crs = {'init' :'epsg:4326'}\n",
    "\n",
    "col_rename ={\n",
    "    'municipio':'Município',\n",
    "    'confirmados':'Casos Confirmados',\n",
    "    'mortes':'Óbitos Confirmados',\n",
    "    'ultimo_boletim':'Data do Boletim',\n",
    "    'fonte':'Fonte'   \n",
    "}\n",
    "\n",
    "vale = vale.rename(columns=col_rename)"
   ]
  },
  {
   "cell_type": "code",
   "execution_count": 29,
   "metadata": {},
   "outputs": [],
   "source": [
    "from scripts import vis_maps\n",
    "\n",
    "cols = ['Município','Casos Confirmados', 'Óbitos Confirmados','Data do Boletim']\n",
    "mymap =  vis_maps.get_map_vale(vale,'Casos Confirmados', cols, estado_sp)\n",
    "mymap.save('../maps/mapa_vale.html')\n"
   ]
  },
  {
   "cell_type": "code",
   "execution_count": null,
   "metadata": {},
   "outputs": [],
   "source": []
  },
  {
   "cell_type": "code",
   "execution_count": 30,
   "metadata": {},
   "outputs": [
    {
     "name": "stdout",
     "output_type": "stream",
     "text": [
      "Done!\n"
     ]
    }
   ],
   "source": [
    "from scripts import io\n",
    "\n",
    "io.to_storage(bucket='sv-covid19',\n",
    "              bucket_folder='maps',\n",
    "              file_name='mapa_vale.html',\n",
    "              path_to_file='../maps/mapa_vale.html')"
   ]
  },
  {
   "cell_type": "code",
   "execution_count": null,
   "metadata": {},
   "outputs": [],
   "source": []
  },
  {
   "cell_type": "code",
   "execution_count": null,
   "metadata": {},
   "outputs": [],
   "source": []
  },
  {
   "cell_type": "code",
   "execution_count": null,
   "metadata": {},
   "outputs": [],
   "source": []
  },
  {
   "cell_type": "code",
   "execution_count": null,
   "metadata": {},
   "outputs": [],
   "source": []
  },
  {
   "cell_type": "code",
   "execution_count": null,
   "metadata": {},
   "outputs": [],
   "source": []
  },
  {
   "cell_type": "code",
   "execution_count": null,
   "metadata": {},
   "outputs": [],
   "source": []
  },
  {
   "cell_type": "code",
   "execution_count": null,
   "metadata": {},
   "outputs": [],
   "source": []
  },
  {
   "cell_type": "code",
   "execution_count": null,
   "metadata": {},
   "outputs": [],
   "source": []
  },
  {
   "cell_type": "code",
   "execution_count": 77,
   "metadata": {},
   "outputs": [],
   "source": [
    "\n",
    "\n",
    "# title  = 'Óbitos por Faixa Etária'\n",
    "# x_name = 'Óbitos'\n",
    "# y_name = 'Faixa Etária'\n",
    "\n",
    "# trace = go.Bar(\n",
    "#     orientation='h',\n",
    "#     x = df['obitos'],\n",
    "#     y = df['faixa']\n",
    "# )\n",
    "\n",
    "# data = [trace]\n",
    "\n",
    "# layout = go.Layout(\n",
    "#     barmode='stack',\n",
    "    \n",
    "#     yaxis_title=y_name,\n",
    "#     yaxis = dict(\n",
    "#         tickfont=dict(\n",
    "#             size=22,\n",
    "#             color='black',\n",
    "#         ),\n",
    "#     ),\n",
    "#     xaxis_title=x_name,\n",
    "#     xaxis = dict(\n",
    "#         tickfont=dict(\n",
    "#             size=22,\n",
    "#             color='black',\n",
    "#         ),\n",
    "# #         font = dict(size=20)\n",
    "\n",
    "#     ),\n",
    "    \n",
    "#     font=dict(\n",
    "#             size=25,\n",
    "#         ),\n",
    "\n",
    "#     width  = 800,\n",
    "#     height = 800,\n",
    "# )\n",
    "\n",
    "# fig = go.Figure(data=data, layout=layout)\n",
    "# fig"
   ]
  },
  {
   "cell_type": "code",
   "execution_count": null,
   "metadata": {},
   "outputs": [],
   "source": []
  },
  {
   "cell_type": "code",
   "execution_count": null,
   "metadata": {},
   "outputs": [],
   "source": []
  },
  {
   "cell_type": "code",
   "execution_count": null,
   "metadata": {},
   "outputs": [],
   "source": []
  },
  {
   "cell_type": "code",
   "execution_count": null,
   "metadata": {},
   "outputs": [],
   "source": []
  },
  {
   "cell_type": "code",
   "execution_count": null,
   "metadata": {},
   "outputs": [],
   "source": []
  },
  {
   "cell_type": "code",
   "execution_count": null,
   "metadata": {},
   "outputs": [],
   "source": []
  },
  {
   "cell_type": "code",
   "execution_count": null,
   "metadata": {},
   "outputs": [],
   "source": []
  },
  {
   "cell_type": "code",
   "execution_count": null,
   "metadata": {},
   "outputs": [],
   "source": []
  },
  {
   "cell_type": "code",
   "execution_count": null,
   "metadata": {},
   "outputs": [],
   "source": []
  },
  {
   "cell_type": "code",
   "execution_count": null,
   "metadata": {},
   "outputs": [],
   "source": []
  }
 ],
 "metadata": {
  "kernelspec": {
   "display_name": "Python 3",
   "language": "python",
   "name": "python3"
  },
  "language_info": {
   "codemirror_mode": {
    "name": "ipython",
    "version": 3
   },
   "file_extension": ".py",
   "mimetype": "text/x-python",
   "name": "python",
   "nbconvert_exporter": "python",
   "pygments_lexer": "ipython3",
   "version": "3.7.4"
  }
 },
 "nbformat": 4,
 "nbformat_minor": 4
}
