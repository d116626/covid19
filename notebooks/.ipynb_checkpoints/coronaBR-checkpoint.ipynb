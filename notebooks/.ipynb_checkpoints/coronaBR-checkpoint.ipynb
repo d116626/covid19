{
 "cells": [
  {
   "cell_type": "code",
   "execution_count": 1,
   "metadata": {},
   "outputs": [],
   "source": [
    "%reload_ext autoreload\n",
    "%autoreload 2\n",
    "\n",
    "import warnings\n",
    "warnings.filterwarnings('ignore')\n",
    "\n",
    "import numpy as np\n",
    "import pandas as pd\n",
    "pd.options.display.max_columns = 999\n",
    "pd.options.display.max_rows = 999\n",
    "pd.options.display.max_colwidth = 100\n",
    "\n",
    "import geopandas as gpd\n",
    "\n",
    "import plotly.graph_objs as go\n",
    "from plotly.offline import download_plotlyjs, init_notebook_mode, plot, iplot, offline\n",
    "import plotly.express as px\n",
    "import seaborn as sns\n",
    "import matplotlib.pyplot as plt\n",
    "\n",
    "\n",
    "from os import listdir\n",
    "import unicodedata\n",
    "\n",
    "\n",
    "from paths import *\n",
    "from scripts.io import read_sheets\n",
    "from scripts import io\n",
    "\n",
    "\n",
    "from datetime import datetime\n",
    "today = datetime.today().strftime('%Y-%m-%d')\n",
    "\n",
    "from IPython.display import IFrame\n",
    "\n",
    "\n",
    "import yaml\n",
    "config = yaml.load(open('../configs/config.yaml', 'r'), Loader=yaml.FullLoader)\n"
   ]
  },
  {
   "cell_type": "markdown",
   "metadata": {},
   "source": [
    "# Brasil.IO"
   ]
  },
  {
   "cell_type": "code",
   "execution_count": 2,
   "metadata": {
    "scrolled": true
   },
   "outputs": [
    {
     "name": "stdout",
     "output_type": "stream",
     "text": [
      "Br.IO table, Done!\n"
     ]
    }
   ],
   "source": [
    "from scripts import io\n",
    "\n",
    "brio, brio_raw = io.load_brasilIO()\n",
    "\n",
    "print(\"Br.IO table, Done!\")"
   ]
  },
  {
   "cell_type": "code",
   "execution_count": 3,
   "metadata": {},
   "outputs": [
    {
     "data": {
      "text/html": [
       "<div>\n",
       "<style scoped>\n",
       "    .dataframe tbody tr th:only-of-type {\n",
       "        vertical-align: middle;\n",
       "    }\n",
       "\n",
       "    .dataframe tbody tr th {\n",
       "        vertical-align: top;\n",
       "    }\n",
       "\n",
       "    .dataframe thead th {\n",
       "        text-align: right;\n",
       "    }\n",
       "</style>\n",
       "<table border=\"1\" class=\"dataframe\">\n",
       "  <thead>\n",
       "    <tr style=\"text-align: right;\">\n",
       "      <th></th>\n",
       "      <th>city_ibge_code</th>\n",
       "      <th>city</th>\n",
       "      <th>confirmed</th>\n",
       "      <th>deaths</th>\n",
       "      <th>date</th>\n",
       "      <th>state</th>\n",
       "    </tr>\n",
       "  </thead>\n",
       "  <tbody>\n",
       "    <tr>\n",
       "      <th>19262</th>\n",
       "      <td>2304350.0</td>\n",
       "      <td>Forquilha</td>\n",
       "      <td>1</td>\n",
       "      <td>0</td>\n",
       "      <td>2020-04-18</td>\n",
       "      <td>CE</td>\n",
       "    </tr>\n",
       "    <tr>\n",
       "      <th>19298</th>\n",
       "      <td>2309508.0</td>\n",
       "      <td>Orós</td>\n",
       "      <td>1</td>\n",
       "      <td>0</td>\n",
       "      <td>2020-04-18</td>\n",
       "      <td>CE</td>\n",
       "    </tr>\n",
       "    <tr>\n",
       "      <th>21378</th>\n",
       "      <td>3305604.0</td>\n",
       "      <td>Silva Jardim</td>\n",
       "      <td>1</td>\n",
       "      <td>0</td>\n",
       "      <td>2020-04-19</td>\n",
       "      <td>RJ</td>\n",
       "    </tr>\n",
       "    <tr>\n",
       "      <th>22187</th>\n",
       "      <td>2312809.0</td>\n",
       "      <td>Senador Sá</td>\n",
       "      <td>1</td>\n",
       "      <td>0</td>\n",
       "      <td>2020-04-20</td>\n",
       "      <td>CE</td>\n",
       "    </tr>\n",
       "    <tr>\n",
       "      <th>22197</th>\n",
       "      <td>2314102.0</td>\n",
       "      <td>Viçosa do Ceará</td>\n",
       "      <td>1</td>\n",
       "      <td>0</td>\n",
       "      <td>2020-04-20</td>\n",
       "      <td>CE</td>\n",
       "    </tr>\n",
       "    <tr>\n",
       "      <th>...</th>\n",
       "      <td>...</td>\n",
       "      <td>...</td>\n",
       "      <td>...</td>\n",
       "      <td>...</td>\n",
       "      <td>...</td>\n",
       "      <td>...</td>\n",
       "    </tr>\n",
       "    <tr>\n",
       "      <th>24954</th>\n",
       "      <td>1707009.0</td>\n",
       "      <td>Dianópolis</td>\n",
       "      <td>1</td>\n",
       "      <td>0</td>\n",
       "      <td>2020-04-21</td>\n",
       "      <td>TO</td>\n",
       "    </tr>\n",
       "    <tr>\n",
       "      <th>24955</th>\n",
       "      <td>1709500.0</td>\n",
       "      <td>Gurupi</td>\n",
       "      <td>1</td>\n",
       "      <td>0</td>\n",
       "      <td>2020-04-21</td>\n",
       "      <td>TO</td>\n",
       "    </tr>\n",
       "    <tr>\n",
       "      <th>24956</th>\n",
       "      <td>1721000.0</td>\n",
       "      <td>Palmas</td>\n",
       "      <td>25</td>\n",
       "      <td>1</td>\n",
       "      <td>2020-04-21</td>\n",
       "      <td>TO</td>\n",
       "    </tr>\n",
       "    <tr>\n",
       "      <th>24957</th>\n",
       "      <td>1716109.0</td>\n",
       "      <td>Paraíso do Tocantins</td>\n",
       "      <td>1</td>\n",
       "      <td>1</td>\n",
       "      <td>2020-04-21</td>\n",
       "      <td>TO</td>\n",
       "    </tr>\n",
       "    <tr>\n",
       "      <th>24958</th>\n",
       "      <td>1721208.0</td>\n",
       "      <td>Tocantinópolis</td>\n",
       "      <td>1</td>\n",
       "      <td>0</td>\n",
       "      <td>2020-04-21</td>\n",
       "      <td>TO</td>\n",
       "    </tr>\n",
       "  </tbody>\n",
       "</table>\n",
       "<p>1474 rows × 6 columns</p>\n",
       "</div>"
      ],
      "text/plain": [
       "       city_ibge_code                  city  confirmed  deaths        date  \\\n",
       "19262       2304350.0             Forquilha          1       0  2020-04-18   \n",
       "19298       2309508.0                  Orós          1       0  2020-04-18   \n",
       "21378       3305604.0          Silva Jardim          1       0  2020-04-19   \n",
       "22187       2312809.0            Senador Sá          1       0  2020-04-20   \n",
       "22197       2314102.0       Viçosa do Ceará          1       0  2020-04-20   \n",
       "...               ...                   ...        ...     ...         ...   \n",
       "24954       1707009.0            Dianópolis          1       0  2020-04-21   \n",
       "24955       1709500.0                Gurupi          1       0  2020-04-21   \n",
       "24956       1721000.0                Palmas         25       1  2020-04-21   \n",
       "24957       1716109.0  Paraíso do Tocantins          1       1  2020-04-21   \n",
       "24958       1721208.0        Tocantinópolis          1       0  2020-04-21   \n",
       "\n",
       "      state  \n",
       "19262    CE  \n",
       "19298    CE  \n",
       "21378    RJ  \n",
       "22187    CE  \n",
       "22197    CE  \n",
       "...     ...  \n",
       "24954    TO  \n",
       "24955    TO  \n",
       "24956    TO  \n",
       "24957    TO  \n",
       "24958    TO  \n",
       "\n",
       "[1474 rows x 6 columns]"
      ]
     },
     "execution_count": 3,
     "metadata": {},
     "output_type": "execute_result"
    }
   ],
   "source": [
    "brio"
   ]
  },
  {
   "cell_type": "markdown",
   "metadata": {},
   "source": [
    "## WCota\n",
    " - [github](https://github.com/wcota/covid19br)"
   ]
  },
  {
   "cell_type": "code",
   "execution_count": 4,
   "metadata": {},
   "outputs": [],
   "source": [
    "# #data https://github.com/wcota/covid19br\n",
    "# dd = io.load_wcota()\n"
   ]
  },
  {
   "cell_type": "code",
   "execution_count": null,
   "metadata": {},
   "outputs": [],
   "source": []
  },
  {
   "cell_type": "markdown",
   "metadata": {},
   "source": [
    "## MYTABLE"
   ]
  },
  {
   "cell_type": "code",
   "execution_count": 11,
   "metadata": {},
   "outputs": [],
   "source": [
    "from scripts.io import read_sheets\n",
    "from scripts import manipulation\n",
    "config = yaml.load(open('../configs/config.yaml', 'r'), Loader=yaml.FullLoader)\n",
    "\n",
    "# io.update_ms_data()\n",
    "\n",
    "df = pd.read_csv(\"../data/ministerio_da_saude/last_data_ms_covid19.csv\")\n",
    "\n",
    "df_states = manipulation.manipule_mytable(df,config['ms_table'])\n",
    "# print(\"States table, Done!\")"
   ]
  },
  {
   "cell_type": "code",
   "execution_count": 13,
   "metadata": {},
   "outputs": [
    {
     "data": {
      "text/html": [
       "<div>\n",
       "<style scoped>\n",
       "    .dataframe tbody tr th:only-of-type {\n",
       "        vertical-align: middle;\n",
       "    }\n",
       "\n",
       "    .dataframe tbody tr th {\n",
       "        vertical-align: top;\n",
       "    }\n",
       "\n",
       "    .dataframe thead th {\n",
       "        text-align: right;\n",
       "    }\n",
       "</style>\n",
       "<table border=\"1\" class=\"dataframe\">\n",
       "  <thead>\n",
       "    <tr style=\"text-align: right;\">\n",
       "      <th></th>\n",
       "      <th>regiao</th>\n",
       "      <th>state</th>\n",
       "      <th>date</th>\n",
       "      <th>new_confirmed</th>\n",
       "      <th>confirmed</th>\n",
       "      <th>new_deaths</th>\n",
       "      <th>deaths</th>\n",
       "      <th>last_update</th>\n",
       "      <th>city</th>\n",
       "    </tr>\n",
       "  </thead>\n",
       "  <tbody>\n",
       "    <tr>\n",
       "      <th>82</th>\n",
       "      <td>Brasil</td>\n",
       "      <td>BRASIL</td>\n",
       "      <td>2020-04-21</td>\n",
       "      <td>2498</td>\n",
       "      <td>43079</td>\n",
       "      <td>166</td>\n",
       "      <td>2741</td>\n",
       "      <td>2020-04-21 18:16</td>\n",
       "      <td>BRASIL</td>\n",
       "    </tr>\n",
       "    <tr>\n",
       "      <th>82</th>\n",
       "      <td>Brasil sem SP</td>\n",
       "      <td>BRASIL SEM SP</td>\n",
       "      <td>2020-04-21</td>\n",
       "      <td>1693</td>\n",
       "      <td>27694</td>\n",
       "      <td>110</td>\n",
       "      <td>1648</td>\n",
       "      <td>2020-04-21 18:16</td>\n",
       "      <td>BRASIL SEM SP</td>\n",
       "    </tr>\n",
       "    <tr>\n",
       "      <th>1659</th>\n",
       "      <td>Sudeste</td>\n",
       "      <td>SP</td>\n",
       "      <td>2020-04-21</td>\n",
       "      <td>805</td>\n",
       "      <td>15385</td>\n",
       "      <td>56</td>\n",
       "      <td>1093</td>\n",
       "      <td>2020-04-21 18:16</td>\n",
       "      <td>SP</td>\n",
       "    </tr>\n",
       "    <tr>\n",
       "      <th>1576</th>\n",
       "      <td>Sudeste</td>\n",
       "      <td>RJ</td>\n",
       "      <td>2020-04-21</td>\n",
       "      <td>407</td>\n",
       "      <td>5306</td>\n",
       "      <td>39</td>\n",
       "      <td>461</td>\n",
       "      <td>2020-04-21 18:16</td>\n",
       "      <td>RJ</td>\n",
       "    </tr>\n",
       "    <tr>\n",
       "      <th>829</th>\n",
       "      <td>Nordeste</td>\n",
       "      <td>CE</td>\n",
       "      <td>2020-04-21</td>\n",
       "      <td>234</td>\n",
       "      <td>3716</td>\n",
       "      <td>17</td>\n",
       "      <td>215</td>\n",
       "      <td>2020-04-21 18:16</td>\n",
       "      <td>CE</td>\n",
       "    </tr>\n",
       "    <tr>\n",
       "      <th>...</th>\n",
       "      <td>...</td>\n",
       "      <td>...</td>\n",
       "      <td>...</td>\n",
       "      <td>...</td>\n",
       "      <td>...</td>\n",
       "      <td>...</td>\n",
       "      <td>...</td>\n",
       "      <td>...</td>\n",
       "      <td>...</td>\n",
       "    </tr>\n",
       "    <tr>\n",
       "      <th>1992</th>\n",
       "      <td>Centro-Oeste</td>\n",
       "      <td>MT</td>\n",
       "      <td>2020-01-30</td>\n",
       "      <td>0</td>\n",
       "      <td>0</td>\n",
       "      <td>0</td>\n",
       "      <td>0</td>\n",
       "      <td>2020-04-21 18:16</td>\n",
       "      <td>MT</td>\n",
       "    </tr>\n",
       "    <tr>\n",
       "      <th>2075</th>\n",
       "      <td>Centro-Oeste</td>\n",
       "      <td>GO</td>\n",
       "      <td>2020-01-30</td>\n",
       "      <td>0</td>\n",
       "      <td>0</td>\n",
       "      <td>0</td>\n",
       "      <td>0</td>\n",
       "      <td>2020-04-21 18:16</td>\n",
       "      <td>GO</td>\n",
       "    </tr>\n",
       "    <tr>\n",
       "      <th>2158</th>\n",
       "      <td>Centro-Oeste</td>\n",
       "      <td>DF</td>\n",
       "      <td>2020-01-30</td>\n",
       "      <td>0</td>\n",
       "      <td>0</td>\n",
       "      <td>0</td>\n",
       "      <td>0</td>\n",
       "      <td>2020-04-21 18:16</td>\n",
       "      <td>DF</td>\n",
       "    </tr>\n",
       "    <tr>\n",
       "      <th>0</th>\n",
       "      <td>Brasil</td>\n",
       "      <td>BRASIL</td>\n",
       "      <td>2020-01-30</td>\n",
       "      <td>0</td>\n",
       "      <td>0</td>\n",
       "      <td>0</td>\n",
       "      <td>0</td>\n",
       "      <td>2020-04-21 18:16</td>\n",
       "      <td>BRASIL</td>\n",
       "    </tr>\n",
       "    <tr>\n",
       "      <th>0</th>\n",
       "      <td>Brasil sem SP</td>\n",
       "      <td>BRASIL SEM SP</td>\n",
       "      <td>2020-01-30</td>\n",
       "      <td>0</td>\n",
       "      <td>0</td>\n",
       "      <td>0</td>\n",
       "      <td>0</td>\n",
       "      <td>2020-04-21 18:16</td>\n",
       "      <td>BRASIL SEM SP</td>\n",
       "    </tr>\n",
       "  </tbody>\n",
       "</table>\n",
       "<p>2407 rows × 9 columns</p>\n",
       "</div>"
      ],
      "text/plain": [
       "             regiao          state       date  new_confirmed  confirmed  \\\n",
       "82           Brasil         BRASIL 2020-04-21           2498      43079   \n",
       "82    Brasil sem SP  BRASIL SEM SP 2020-04-21           1693      27694   \n",
       "1659        Sudeste             SP 2020-04-21            805      15385   \n",
       "1576        Sudeste             RJ 2020-04-21            407       5306   \n",
       "829        Nordeste             CE 2020-04-21            234       3716   \n",
       "...             ...            ...        ...            ...        ...   \n",
       "1992   Centro-Oeste             MT 2020-01-30              0          0   \n",
       "2075   Centro-Oeste             GO 2020-01-30              0          0   \n",
       "2158   Centro-Oeste             DF 2020-01-30              0          0   \n",
       "0            Brasil         BRASIL 2020-01-30              0          0   \n",
       "0     Brasil sem SP  BRASIL SEM SP 2020-01-30              0          0   \n",
       "\n",
       "      new_deaths  deaths       last_update           city  \n",
       "82           166    2741  2020-04-21 18:16         BRASIL  \n",
       "82           110    1648  2020-04-21 18:16  BRASIL SEM SP  \n",
       "1659          56    1093  2020-04-21 18:16             SP  \n",
       "1576          39     461  2020-04-21 18:16             RJ  \n",
       "829           17     215  2020-04-21 18:16             CE  \n",
       "...          ...     ...               ...            ...  \n",
       "1992           0       0  2020-04-21 18:16             MT  \n",
       "2075           0       0  2020-04-21 18:16             GO  \n",
       "2158           0       0  2020-04-21 18:16             DF  \n",
       "0              0       0  2020-04-21 18:16         BRASIL  \n",
       "0              0       0  2020-04-21 18:16  BRASIL SEM SP  \n",
       "\n",
       "[2407 rows x 9 columns]"
      ]
     },
     "execution_count": 13,
     "metadata": {},
     "output_type": "execute_result"
    }
   ],
   "source": [
    "df_states"
   ]
  },
  {
   "cell_type": "code",
   "execution_count": 14,
   "metadata": {},
   "outputs": [
    {
     "name": "stdout",
     "output_type": "stream",
     "text": [
      "Vale table, Done!\n"
     ]
    }
   ],
   "source": [
    "vale = read_sheets('covid19_vale_do_paraiba_e_litoral_norte').replace('',0)\n",
    "print(\"Vale table, Done!\")"
   ]
  },
  {
   "cell_type": "code",
   "execution_count": 16,
   "metadata": {},
   "outputs": [],
   "source": [
    "br = io.load_total_table()\n",
    "br = manipulation.create_all_country_total_data(br, vars = ['confirmed','deaths','recovered','active'])"
   ]
  },
  {
   "cell_type": "code",
   "execution_count": 17,
   "metadata": {},
   "outputs": [
    {
     "data": {
      "text/html": [
       "<div>\n",
       "<style scoped>\n",
       "    .dataframe tbody tr th:only-of-type {\n",
       "        vertical-align: middle;\n",
       "    }\n",
       "\n",
       "    .dataframe tbody tr th {\n",
       "        vertical-align: top;\n",
       "    }\n",
       "\n",
       "    .dataframe thead th {\n",
       "        text-align: right;\n",
       "    }\n",
       "</style>\n",
       "<table border=\"1\" class=\"dataframe\">\n",
       "  <thead>\n",
       "    <tr style=\"text-align: right;\">\n",
       "      <th></th>\n",
       "      <th>date</th>\n",
       "      <th>countrycode</th>\n",
       "      <th>countryname</th>\n",
       "      <th>population</th>\n",
       "      <th>confirmed</th>\n",
       "      <th>new_confirmed</th>\n",
       "      <th>deaths</th>\n",
       "      <th>new_deaths</th>\n",
       "      <th>recovered</th>\n",
       "      <th>new_recovered</th>\n",
       "      <th>active</th>\n",
       "      <th>new_active</th>\n",
       "    </tr>\n",
       "  </thead>\n",
       "  <tbody>\n",
       "    <tr>\n",
       "      <th>12823</th>\n",
       "      <td>2020-01-20</td>\n",
       "      <td>KW</td>\n",
       "      <td>Kuwait</td>\n",
       "      <td>4420110.0</td>\n",
       "      <td>0</td>\n",
       "      <td>0.0</td>\n",
       "      <td>0</td>\n",
       "      <td>0.0</td>\n",
       "      <td>0.0</td>\n",
       "      <td>0.0</td>\n",
       "      <td>0.0</td>\n",
       "      <td>0.0</td>\n",
       "    </tr>\n",
       "    <tr>\n",
       "      <th>14203</th>\n",
       "      <td>2020-01-20</td>\n",
       "      <td>NL</td>\n",
       "      <td>Netherlands</td>\n",
       "      <td>17447531.0</td>\n",
       "      <td>0</td>\n",
       "      <td>0.0</td>\n",
       "      <td>0</td>\n",
       "      <td>0.0</td>\n",
       "      <td>0.0</td>\n",
       "      <td>0.0</td>\n",
       "      <td>0.0</td>\n",
       "      <td>0.0</td>\n",
       "    </tr>\n",
       "    <tr>\n",
       "      <th>14323</th>\n",
       "      <td>2020-01-20</td>\n",
       "      <td>NZ</td>\n",
       "      <td>New Zealand</td>\n",
       "      <td>4972468.0</td>\n",
       "      <td>0</td>\n",
       "      <td>0.0</td>\n",
       "      <td>0</td>\n",
       "      <td>0.0</td>\n",
       "      <td>0.0</td>\n",
       "      <td>0.0</td>\n",
       "      <td>0.0</td>\n",
       "      <td>0.0</td>\n",
       "    </tr>\n",
       "    <tr>\n",
       "      <th>14383</th>\n",
       "      <td>2020-01-20</td>\n",
       "      <td>NI</td>\n",
       "      <td>Nicaragua</td>\n",
       "      <td>6460411.0</td>\n",
       "      <td>0</td>\n",
       "      <td>0.0</td>\n",
       "      <td>0</td>\n",
       "      <td>0.0</td>\n",
       "      <td>0.0</td>\n",
       "      <td>0.0</td>\n",
       "      <td>0.0</td>\n",
       "      <td>0.0</td>\n",
       "    </tr>\n",
       "    <tr>\n",
       "      <th>14443</th>\n",
       "      <td>2020-01-20</td>\n",
       "      <td>NE</td>\n",
       "      <td>Niger</td>\n",
       "      <td>22314743.0</td>\n",
       "      <td>0</td>\n",
       "      <td>0.0</td>\n",
       "      <td>0</td>\n",
       "      <td>0.0</td>\n",
       "      <td>0.0</td>\n",
       "      <td>0.0</td>\n",
       "      <td>0.0</td>\n",
       "      <td>0.0</td>\n",
       "    </tr>\n",
       "  </tbody>\n",
       "</table>\n",
       "</div>"
      ],
      "text/plain": [
       "            date countrycode  countryname  population  confirmed  \\\n",
       "12823 2020-01-20          KW       Kuwait   4420110.0          0   \n",
       "14203 2020-01-20          NL  Netherlands  17447531.0          0   \n",
       "14323 2020-01-20          NZ  New Zealand   4972468.0          0   \n",
       "14383 2020-01-20          NI    Nicaragua   6460411.0          0   \n",
       "14443 2020-01-20          NE        Niger  22314743.0          0   \n",
       "\n",
       "       new_confirmed  deaths  new_deaths  recovered  new_recovered  active  \\\n",
       "12823            0.0       0         0.0        0.0            0.0     0.0   \n",
       "14203            0.0       0         0.0        0.0            0.0     0.0   \n",
       "14323            0.0       0         0.0        0.0            0.0     0.0   \n",
       "14383            0.0       0         0.0        0.0            0.0     0.0   \n",
       "14443            0.0       0         0.0        0.0            0.0     0.0   \n",
       "\n",
       "       new_active  \n",
       "12823         0.0  \n",
       "14203         0.0  \n",
       "14323         0.0  \n",
       "14383         0.0  \n",
       "14443         0.0  "
      ]
     },
     "execution_count": 17,
     "metadata": {},
     "output_type": "execute_result"
    }
   ],
   "source": [
    "br.head()"
   ]
  },
  {
   "cell_type": "markdown",
   "metadata": {},
   "source": [
    "### GRAPHS"
   ]
  },
  {
   "cell_type": "markdown",
   "metadata": {},
   "source": [
    "[Local - Indicator Model](file:///mnt/0BF8481B1CDBF12D/Jlab/gabinete_sv/covid19/images/storage/br_indicator_model.html)\n",
    "\n",
    "[Local - Indicator Final](file:///mnt/0BF8481B1CDBF12D/Jlab/gabinete_sv/covid19/images/storage/br_indicator_final.html)\n",
    "\n",
    "[GS-Indicator_Final](https://storage.googleapis.com/sv-covid19/brasil/br_indicator_final.html)"
   ]
  },
  {
   "cell_type": "code",
   "execution_count": 120,
   "metadata": {},
   "outputs": [
    {
     "name": "stdout",
     "output_type": "stream",
     "text": [
      "Embed html uploaded!\n"
     ]
    }
   ],
   "source": [
    "from scripts import vis_html\n",
    "\n",
    "config = yaml.load(open('../configs/config.yaml', 'r'), Loader=yaml.FullLoader)\n",
    "\n",
    "vis_html.create_cards(df_states,vale, br ,config['embed_html'])\n",
    "\n",
    "\n",
    "#     io.to_storage(bucket='sv-covid19',\n",
    "#               bucket_folder='site/full',\n",
    "#               file_name=files[model],\n",
    "#               path_to_file=path+files[model])\n",
    "    \n",
    "# print(\"Embed link uploaded\")"
   ]
  },
  {
   "cell_type": "code",
   "execution_count": null,
   "metadata": {},
   "outputs": [],
   "source": []
  },
  {
   "cell_type": "markdown",
   "metadata": {},
   "source": [
    "## Cumulativo"
   ]
  },
  {
   "cell_type": "code",
   "execution_count": 117,
   "metadata": {},
   "outputs": [],
   "source": [
    "themes = yaml.load(open('../themes/custom_colorscales.yaml', 'r'), Loader=yaml.FullLoader)\n",
    "themes = themes['brasil_vis_cumulative']\n",
    "\n",
    "for var in themes['vars'].keys():\n",
    "    for scale in themes['axis_legend']['scale'].keys():\n",
    "        fig = vis_graphs.brasil_vis_cum(df_states, var,scale, themes)\n",
    "        \n",
    "        plot(fig, filename=f\"../site/sv_br_vale/coronavirus/images/cumulative/brasil_por_estado_{var}.html\", auto_open=False)\n",
    "        plot(fig, filename=f\"../../sample_pages/pages/coronavirus/images/cumulative/brasil_por_estado_{var}.html\", auto_open=False)\n"
   ]
  },
  {
   "cell_type": "code",
   "execution_count": 118,
   "metadata": {},
   "outputs": [
    {
     "data": {
      "application/vnd.plotly.v1+json": {
       "config": {
        "plotlyServerURL": "https://plot.ly"
       },
       "data": [
        {
         "hoverlabel": {
          "font": {
           "size": 15
          },
          "namelength": -1
         },
         "line": {
          "color": "#FA7609",
          "width": 3
         },
         "marker": {
          "size": 4
         },
         "mode": "lines+markers",
         "name": "BRASIL",
         "type": "scatter",
         "x": [
          "2020-04-21T00:00:00",
          "2020-04-20T00:00:00",
          "2020-04-19T00:00:00",
          "2020-04-18T00:00:00",
          "2020-04-17T00:00:00",
          "2020-04-16T00:00:00",
          "2020-04-15T00:00:00",
          "2020-04-14T00:00:00",
          "2020-04-13T00:00:00",
          "2020-04-12T00:00:00",
          "2020-04-11T00:00:00",
          "2020-04-10T00:00:00",
          "2020-04-09T00:00:00",
          "2020-04-08T00:00:00",
          "2020-04-07T00:00:00",
          "2020-04-06T00:00:00",
          "2020-04-05T00:00:00",
          "2020-04-04T00:00:00",
          "2020-04-03T00:00:00",
          "2020-04-02T00:00:00",
          "2020-04-01T00:00:00",
          "2020-03-31T00:00:00",
          "2020-03-30T00:00:00",
          "2020-03-29T00:00:00",
          "2020-03-28T00:00:00",
          "2020-03-27T00:00:00",
          "2020-03-26T00:00:00",
          "2020-03-25T00:00:00",
          "2020-03-24T00:00:00",
          "2020-03-23T00:00:00",
          "2020-03-22T00:00:00",
          "2020-03-21T00:00:00",
          "2020-03-20T00:00:00",
          "2020-03-19T00:00:00",
          "2020-03-18T00:00:00",
          "2020-03-17T00:00:00",
          "2020-03-16T00:00:00",
          "2020-03-15T00:00:00",
          "2020-03-14T00:00:00",
          "2020-03-13T00:00:00",
          "2020-03-12T00:00:00",
          "2020-03-11T00:00:00",
          "2020-03-10T00:00:00",
          "2020-03-09T00:00:00",
          "2020-03-08T00:00:00",
          "2020-03-07T00:00:00",
          "2020-03-06T00:00:00",
          "2020-03-05T00:00:00",
          "2020-03-04T00:00:00",
          "2020-03-03T00:00:00",
          "2020-03-02T00:00:00",
          "2020-03-01T00:00:00",
          "2020-02-29T00:00:00",
          "2020-02-28T00:00:00",
          "2020-02-27T00:00:00",
          "2020-02-26T00:00:00"
         ],
         "y": [
          43079,
          40581,
          38654,
          36599,
          33682,
          30425,
          28320,
          25262,
          23430,
          22169,
          20727,
          19638,
          17857,
          15927,
          13717,
          12056,
          11130,
          10278,
          9056,
          7910,
          6834,
          5717,
          4579,
          4256,
          3903,
          3417,
          2915,
          2433,
          2201,
          1891,
          1546,
          1128,
          904,
          621,
          428,
          291,
          234,
          200,
          121,
          98,
          77,
          52,
          34,
          25,
          25,
          19,
          13,
          7,
          3,
          2,
          2,
          2,
          2,
          1,
          1,
          1
         ]
        },
        {
         "hoverlabel": {
          "font": {
           "size": 15
          },
          "namelength": -1
         },
         "line": {
          "color": "#0D485A",
          "width": 3
         },
         "marker": {
          "size": 4
         },
         "mode": "lines+markers",
         "name": "BRASIL SEM SP",
         "type": "scatter",
         "x": [
          "2020-04-21T00:00:00",
          "2020-04-20T00:00:00",
          "2020-04-19T00:00:00",
          "2020-04-18T00:00:00",
          "2020-04-17T00:00:00",
          "2020-04-16T00:00:00",
          "2020-04-15T00:00:00",
          "2020-04-14T00:00:00",
          "2020-04-13T00:00:00",
          "2020-04-12T00:00:00",
          "2020-04-11T00:00:00",
          "2020-04-10T00:00:00",
          "2020-04-09T00:00:00",
          "2020-04-08T00:00:00",
          "2020-04-07T00:00:00",
          "2020-04-06T00:00:00",
          "2020-04-05T00:00:00",
          "2020-04-04T00:00:00",
          "2020-04-03T00:00:00",
          "2020-04-02T00:00:00",
          "2020-04-01T00:00:00",
          "2020-03-31T00:00:00",
          "2020-03-30T00:00:00",
          "2020-03-29T00:00:00",
          "2020-03-28T00:00:00",
          "2020-03-27T00:00:00",
          "2020-03-26T00:00:00",
          "2020-03-25T00:00:00",
          "2020-03-24T00:00:00",
          "2020-03-23T00:00:00",
          "2020-03-22T00:00:00",
          "2020-03-21T00:00:00",
          "2020-03-20T00:00:00",
          "2020-03-19T00:00:00",
          "2020-03-18T00:00:00",
          "2020-03-17T00:00:00",
          "2020-03-16T00:00:00",
          "2020-03-15T00:00:00",
          "2020-03-14T00:00:00",
          "2020-03-13T00:00:00",
          "2020-03-12T00:00:00",
          "2020-03-11T00:00:00",
          "2020-03-10T00:00:00",
          "2020-03-09T00:00:00",
          "2020-03-08T00:00:00",
          "2020-03-07T00:00:00",
          "2020-03-06T00:00:00",
          "2020-03-05T00:00:00"
         ],
         "y": [
          27694,
          26001,
          24387,
          22705,
          20841,
          18857,
          17277,
          15891,
          14535,
          13414,
          12308,
          11422,
          10377,
          9219,
          8035,
          7190,
          6510,
          5812,
          5008,
          4404,
          3853,
          3378,
          3062,
          2805,
          2497,
          2194,
          1863,
          1571,
          1391,
          1146,
          915,
          669,
          508,
          335,
          188,
          127,
          82,
          64,
          56,
          42,
          35,
          22,
          15,
          9,
          9,
          6,
          3,
          1
         ]
        },
        {
         "hoverlabel": {
          "font": {
           "size": 15
          },
          "namelength": -1
         },
         "line": {
          "color": "#1D8179",
          "width": 3
         },
         "marker": {
          "size": 4
         },
         "mode": "lines+markers",
         "name": "SP",
         "type": "scatter",
         "x": [
          "2020-04-21T00:00:00",
          "2020-04-20T00:00:00",
          "2020-04-19T00:00:00",
          "2020-04-18T00:00:00",
          "2020-04-17T00:00:00",
          "2020-04-16T00:00:00",
          "2020-04-15T00:00:00",
          "2020-04-14T00:00:00",
          "2020-04-13T00:00:00",
          "2020-04-12T00:00:00",
          "2020-04-11T00:00:00",
          "2020-04-10T00:00:00",
          "2020-04-09T00:00:00",
          "2020-04-08T00:00:00",
          "2020-04-07T00:00:00",
          "2020-04-06T00:00:00",
          "2020-04-05T00:00:00",
          "2020-04-04T00:00:00",
          "2020-04-03T00:00:00",
          "2020-04-02T00:00:00",
          "2020-04-01T00:00:00",
          "2020-03-31T00:00:00",
          "2020-03-30T00:00:00",
          "2020-03-29T00:00:00",
          "2020-03-28T00:00:00",
          "2020-03-27T00:00:00",
          "2020-03-26T00:00:00",
          "2020-03-25T00:00:00",
          "2020-03-24T00:00:00",
          "2020-03-23T00:00:00",
          "2020-03-22T00:00:00",
          "2020-03-21T00:00:00",
          "2020-03-20T00:00:00",
          "2020-03-19T00:00:00",
          "2020-03-18T00:00:00",
          "2020-03-17T00:00:00",
          "2020-03-16T00:00:00",
          "2020-03-15T00:00:00",
          "2020-03-14T00:00:00",
          "2020-03-13T00:00:00",
          "2020-03-12T00:00:00",
          "2020-03-11T00:00:00",
          "2020-03-10T00:00:00",
          "2020-03-09T00:00:00",
          "2020-03-08T00:00:00",
          "2020-03-07T00:00:00",
          "2020-03-06T00:00:00",
          "2020-03-05T00:00:00",
          "2020-03-04T00:00:00",
          "2020-03-03T00:00:00",
          "2020-03-02T00:00:00",
          "2020-03-01T00:00:00",
          "2020-02-29T00:00:00",
          "2020-02-28T00:00:00",
          "2020-02-27T00:00:00",
          "2020-02-26T00:00:00"
         ],
         "y": [
          15385,
          14580,
          14267,
          13894,
          12841,
          11568,
          11043,
          9371,
          8895,
          8755,
          8419,
          8216,
          7480,
          6708,
          5682,
          4866,
          4620,
          4466,
          4048,
          3506,
          2981,
          2339,
          1517,
          1451,
          1406,
          1223,
          1052,
          862,
          810,
          745,
          631,
          459,
          396,
          286,
          240,
          164,
          152,
          136,
          65,
          56,
          42,
          30,
          19,
          16,
          16,
          13,
          10,
          6,
          3,
          2,
          2,
          2,
          2,
          1,
          1,
          1
         ]
        },
        {
         "hoverlabel": {
          "font": {
           "size": 15
          },
          "namelength": -1
         },
         "line": {
          "color": "#585858",
          "width": 3
         },
         "marker": {
          "size": 4
         },
         "mode": "lines+markers",
         "name": "RJ",
         "type": "scatter",
         "x": [
          "2020-04-21T00:00:00",
          "2020-04-20T00:00:00",
          "2020-04-19T00:00:00",
          "2020-04-18T00:00:00",
          "2020-04-17T00:00:00",
          "2020-04-16T00:00:00",
          "2020-04-15T00:00:00",
          "2020-04-14T00:00:00",
          "2020-04-13T00:00:00",
          "2020-04-12T00:00:00",
          "2020-04-11T00:00:00",
          "2020-04-10T00:00:00",
          "2020-04-09T00:00:00",
          "2020-04-08T00:00:00",
          "2020-04-07T00:00:00",
          "2020-04-06T00:00:00",
          "2020-04-05T00:00:00",
          "2020-04-04T00:00:00",
          "2020-04-03T00:00:00",
          "2020-04-02T00:00:00",
          "2020-04-01T00:00:00",
          "2020-03-31T00:00:00",
          "2020-03-30T00:00:00",
          "2020-03-29T00:00:00",
          "2020-03-28T00:00:00",
          "2020-03-27T00:00:00",
          "2020-03-26T00:00:00",
          "2020-03-25T00:00:00",
          "2020-03-24T00:00:00",
          "2020-03-23T00:00:00",
          "2020-03-22T00:00:00",
          "2020-03-21T00:00:00",
          "2020-03-20T00:00:00",
          "2020-03-19T00:00:00",
          "2020-03-18T00:00:00",
          "2020-03-17T00:00:00",
          "2020-03-16T00:00:00",
          "2020-03-15T00:00:00",
          "2020-03-14T00:00:00",
          "2020-03-13T00:00:00",
          "2020-03-12T00:00:00",
          "2020-03-11T00:00:00",
          "2020-03-10T00:00:00",
          "2020-03-09T00:00:00",
          "2020-03-08T00:00:00",
          "2020-03-07T00:00:00",
          "2020-03-06T00:00:00",
          "2020-03-05T00:00:00"
         ],
         "y": [
          5306,
          4899,
          4765,
          4543,
          4349,
          3944,
          3743,
          3410,
          3231,
          2855,
          2607,
          2464,
          2216,
          1938,
          1688,
          1461,
          1394,
          1246,
          1074,
          992,
          832,
          708,
          657,
          600,
          558,
          493,
          421,
          370,
          305,
          233,
          186,
          119,
          109,
          65,
          45,
          33,
          31,
          24,
          22,
          16,
          16,
          13,
          8,
          3,
          3,
          2,
          1,
          1
         ]
        }
       ],
       "layout": {
        "annotations": [
         {
          "align": "left",
          "font": {
           "color": "#000000",
           "family": "Courier New, monospace",
           "size": 16
          },
          "showarrow": false,
          "text": "<b><b>",
          "x": -0.04,
          "xref": "paper",
          "xshift": 0,
          "y": -0.14,
          "yref": "paper",
          "yshift": 0
         }
        ],
        "autosize": true,
        "barmode": "group",
        "font": {
         "color": "#000000",
         "size": 10
        },
        "hovermode": "x",
        "legend": {
         "bgcolor": "rgba(0, 0, 0, 0)",
         "bordercolor": "rgba(0, 0, 0, 0)",
         "borderwidth": 0,
         "font": {
          "color": "#000000",
          "family": "Courier New, monospace",
          "size": 10
         },
         "orientation": "h",
         "traceorder": "normal"
        },
        "margin": {
         "b": 10,
         "l": 10,
         "r": 10,
         "t": 10
        },
        "paper_bgcolor": "#FFFFFF",
        "plot_bgcolor": "rgba(0, 0, 0, 0)",
        "template": {
         "data": {
          "bar": [
           {
            "error_x": {
             "color": "#2a3f5f"
            },
            "error_y": {
             "color": "#2a3f5f"
            },
            "marker": {
             "line": {
              "color": "#E5ECF6",
              "width": 0.5
             }
            },
            "type": "bar"
           }
          ],
          "barpolar": [
           {
            "marker": {
             "line": {
              "color": "#E5ECF6",
              "width": 0.5
             }
            },
            "type": "barpolar"
           }
          ],
          "carpet": [
           {
            "aaxis": {
             "endlinecolor": "#2a3f5f",
             "gridcolor": "white",
             "linecolor": "white",
             "minorgridcolor": "white",
             "startlinecolor": "#2a3f5f"
            },
            "baxis": {
             "endlinecolor": "#2a3f5f",
             "gridcolor": "white",
             "linecolor": "white",
             "minorgridcolor": "white",
             "startlinecolor": "#2a3f5f"
            },
            "type": "carpet"
           }
          ],
          "choropleth": [
           {
            "colorbar": {
             "outlinewidth": 0,
             "ticks": ""
            },
            "type": "choropleth"
           }
          ],
          "contour": [
           {
            "colorbar": {
             "outlinewidth": 0,
             "ticks": ""
            },
            "colorscale": [
             [
              0,
              "#0d0887"
             ],
             [
              0.1111111111111111,
              "#46039f"
             ],
             [
              0.2222222222222222,
              "#7201a8"
             ],
             [
              0.3333333333333333,
              "#9c179e"
             ],
             [
              0.4444444444444444,
              "#bd3786"
             ],
             [
              0.5555555555555556,
              "#d8576b"
             ],
             [
              0.6666666666666666,
              "#ed7953"
             ],
             [
              0.7777777777777778,
              "#fb9f3a"
             ],
             [
              0.8888888888888888,
              "#fdca26"
             ],
             [
              1,
              "#f0f921"
             ]
            ],
            "type": "contour"
           }
          ],
          "contourcarpet": [
           {
            "colorbar": {
             "outlinewidth": 0,
             "ticks": ""
            },
            "type": "contourcarpet"
           }
          ],
          "heatmap": [
           {
            "colorbar": {
             "outlinewidth": 0,
             "ticks": ""
            },
            "colorscale": [
             [
              0,
              "#0d0887"
             ],
             [
              0.1111111111111111,
              "#46039f"
             ],
             [
              0.2222222222222222,
              "#7201a8"
             ],
             [
              0.3333333333333333,
              "#9c179e"
             ],
             [
              0.4444444444444444,
              "#bd3786"
             ],
             [
              0.5555555555555556,
              "#d8576b"
             ],
             [
              0.6666666666666666,
              "#ed7953"
             ],
             [
              0.7777777777777778,
              "#fb9f3a"
             ],
             [
              0.8888888888888888,
              "#fdca26"
             ],
             [
              1,
              "#f0f921"
             ]
            ],
            "type": "heatmap"
           }
          ],
          "heatmapgl": [
           {
            "colorbar": {
             "outlinewidth": 0,
             "ticks": ""
            },
            "colorscale": [
             [
              0,
              "#0d0887"
             ],
             [
              0.1111111111111111,
              "#46039f"
             ],
             [
              0.2222222222222222,
              "#7201a8"
             ],
             [
              0.3333333333333333,
              "#9c179e"
             ],
             [
              0.4444444444444444,
              "#bd3786"
             ],
             [
              0.5555555555555556,
              "#d8576b"
             ],
             [
              0.6666666666666666,
              "#ed7953"
             ],
             [
              0.7777777777777778,
              "#fb9f3a"
             ],
             [
              0.8888888888888888,
              "#fdca26"
             ],
             [
              1,
              "#f0f921"
             ]
            ],
            "type": "heatmapgl"
           }
          ],
          "histogram": [
           {
            "marker": {
             "colorbar": {
              "outlinewidth": 0,
              "ticks": ""
             }
            },
            "type": "histogram"
           }
          ],
          "histogram2d": [
           {
            "colorbar": {
             "outlinewidth": 0,
             "ticks": ""
            },
            "colorscale": [
             [
              0,
              "#0d0887"
             ],
             [
              0.1111111111111111,
              "#46039f"
             ],
             [
              0.2222222222222222,
              "#7201a8"
             ],
             [
              0.3333333333333333,
              "#9c179e"
             ],
             [
              0.4444444444444444,
              "#bd3786"
             ],
             [
              0.5555555555555556,
              "#d8576b"
             ],
             [
              0.6666666666666666,
              "#ed7953"
             ],
             [
              0.7777777777777778,
              "#fb9f3a"
             ],
             [
              0.8888888888888888,
              "#fdca26"
             ],
             [
              1,
              "#f0f921"
             ]
            ],
            "type": "histogram2d"
           }
          ],
          "histogram2dcontour": [
           {
            "colorbar": {
             "outlinewidth": 0,
             "ticks": ""
            },
            "colorscale": [
             [
              0,
              "#0d0887"
             ],
             [
              0.1111111111111111,
              "#46039f"
             ],
             [
              0.2222222222222222,
              "#7201a8"
             ],
             [
              0.3333333333333333,
              "#9c179e"
             ],
             [
              0.4444444444444444,
              "#bd3786"
             ],
             [
              0.5555555555555556,
              "#d8576b"
             ],
             [
              0.6666666666666666,
              "#ed7953"
             ],
             [
              0.7777777777777778,
              "#fb9f3a"
             ],
             [
              0.8888888888888888,
              "#fdca26"
             ],
             [
              1,
              "#f0f921"
             ]
            ],
            "type": "histogram2dcontour"
           }
          ],
          "mesh3d": [
           {
            "colorbar": {
             "outlinewidth": 0,
             "ticks": ""
            },
            "type": "mesh3d"
           }
          ],
          "parcoords": [
           {
            "line": {
             "colorbar": {
              "outlinewidth": 0,
              "ticks": ""
             }
            },
            "type": "parcoords"
           }
          ],
          "pie": [
           {
            "automargin": true,
            "type": "pie"
           }
          ],
          "scatter": [
           {
            "marker": {
             "colorbar": {
              "outlinewidth": 0,
              "ticks": ""
             }
            },
            "type": "scatter"
           }
          ],
          "scatter3d": [
           {
            "line": {
             "colorbar": {
              "outlinewidth": 0,
              "ticks": ""
             }
            },
            "marker": {
             "colorbar": {
              "outlinewidth": 0,
              "ticks": ""
             }
            },
            "type": "scatter3d"
           }
          ],
          "scattercarpet": [
           {
            "marker": {
             "colorbar": {
              "outlinewidth": 0,
              "ticks": ""
             }
            },
            "type": "scattercarpet"
           }
          ],
          "scattergeo": [
           {
            "marker": {
             "colorbar": {
              "outlinewidth": 0,
              "ticks": ""
             }
            },
            "type": "scattergeo"
           }
          ],
          "scattergl": [
           {
            "marker": {
             "colorbar": {
              "outlinewidth": 0,
              "ticks": ""
             }
            },
            "type": "scattergl"
           }
          ],
          "scattermapbox": [
           {
            "marker": {
             "colorbar": {
              "outlinewidth": 0,
              "ticks": ""
             }
            },
            "type": "scattermapbox"
           }
          ],
          "scatterpolar": [
           {
            "marker": {
             "colorbar": {
              "outlinewidth": 0,
              "ticks": ""
             }
            },
            "type": "scatterpolar"
           }
          ],
          "scatterpolargl": [
           {
            "marker": {
             "colorbar": {
              "outlinewidth": 0,
              "ticks": ""
             }
            },
            "type": "scatterpolargl"
           }
          ],
          "scatterternary": [
           {
            "marker": {
             "colorbar": {
              "outlinewidth": 0,
              "ticks": ""
             }
            },
            "type": "scatterternary"
           }
          ],
          "surface": [
           {
            "colorbar": {
             "outlinewidth": 0,
             "ticks": ""
            },
            "colorscale": [
             [
              0,
              "#0d0887"
             ],
             [
              0.1111111111111111,
              "#46039f"
             ],
             [
              0.2222222222222222,
              "#7201a8"
             ],
             [
              0.3333333333333333,
              "#9c179e"
             ],
             [
              0.4444444444444444,
              "#bd3786"
             ],
             [
              0.5555555555555556,
              "#d8576b"
             ],
             [
              0.6666666666666666,
              "#ed7953"
             ],
             [
              0.7777777777777778,
              "#fb9f3a"
             ],
             [
              0.8888888888888888,
              "#fdca26"
             ],
             [
              1,
              "#f0f921"
             ]
            ],
            "type": "surface"
           }
          ],
          "table": [
           {
            "cells": {
             "fill": {
              "color": "#EBF0F8"
             },
             "line": {
              "color": "white"
             }
            },
            "header": {
             "fill": {
              "color": "#C8D4E3"
             },
             "line": {
              "color": "white"
             }
            },
            "type": "table"
           }
          ]
         },
         "layout": {
          "annotationdefaults": {
           "arrowcolor": "#2a3f5f",
           "arrowhead": 0,
           "arrowwidth": 1
          },
          "coloraxis": {
           "colorbar": {
            "outlinewidth": 0,
            "ticks": ""
           }
          },
          "colorscale": {
           "diverging": [
            [
             0,
             "#8e0152"
            ],
            [
             0.1,
             "#c51b7d"
            ],
            [
             0.2,
             "#de77ae"
            ],
            [
             0.3,
             "#f1b6da"
            ],
            [
             0.4,
             "#fde0ef"
            ],
            [
             0.5,
             "#f7f7f7"
            ],
            [
             0.6,
             "#e6f5d0"
            ],
            [
             0.7,
             "#b8e186"
            ],
            [
             0.8,
             "#7fbc41"
            ],
            [
             0.9,
             "#4d9221"
            ],
            [
             1,
             "#276419"
            ]
           ],
           "sequential": [
            [
             0,
             "#0d0887"
            ],
            [
             0.1111111111111111,
             "#46039f"
            ],
            [
             0.2222222222222222,
             "#7201a8"
            ],
            [
             0.3333333333333333,
             "#9c179e"
            ],
            [
             0.4444444444444444,
             "#bd3786"
            ],
            [
             0.5555555555555556,
             "#d8576b"
            ],
            [
             0.6666666666666666,
             "#ed7953"
            ],
            [
             0.7777777777777778,
             "#fb9f3a"
            ],
            [
             0.8888888888888888,
             "#fdca26"
            ],
            [
             1,
             "#f0f921"
            ]
           ],
           "sequentialminus": [
            [
             0,
             "#0d0887"
            ],
            [
             0.1111111111111111,
             "#46039f"
            ],
            [
             0.2222222222222222,
             "#7201a8"
            ],
            [
             0.3333333333333333,
             "#9c179e"
            ],
            [
             0.4444444444444444,
             "#bd3786"
            ],
            [
             0.5555555555555556,
             "#d8576b"
            ],
            [
             0.6666666666666666,
             "#ed7953"
            ],
            [
             0.7777777777777778,
             "#fb9f3a"
            ],
            [
             0.8888888888888888,
             "#fdca26"
            ],
            [
             1,
             "#f0f921"
            ]
           ]
          },
          "colorway": [
           "#636efa",
           "#EF553B",
           "#00cc96",
           "#ab63fa",
           "#FFA15A",
           "#19d3f3",
           "#FF6692",
           "#B6E880",
           "#FF97FF",
           "#FECB52"
          ],
          "font": {
           "color": "#2a3f5f"
          },
          "geo": {
           "bgcolor": "white",
           "lakecolor": "white",
           "landcolor": "#E5ECF6",
           "showlakes": true,
           "showland": true,
           "subunitcolor": "white"
          },
          "hoverlabel": {
           "align": "left"
          },
          "hovermode": "closest",
          "mapbox": {
           "style": "light"
          },
          "paper_bgcolor": "white",
          "plot_bgcolor": "#E5ECF6",
          "polar": {
           "angularaxis": {
            "gridcolor": "white",
            "linecolor": "white",
            "ticks": ""
           },
           "bgcolor": "#E5ECF6",
           "radialaxis": {
            "gridcolor": "white",
            "linecolor": "white",
            "ticks": ""
           }
          },
          "scene": {
           "xaxis": {
            "backgroundcolor": "#E5ECF6",
            "gridcolor": "white",
            "gridwidth": 2,
            "linecolor": "white",
            "showbackground": true,
            "ticks": "",
            "zerolinecolor": "white"
           },
           "yaxis": {
            "backgroundcolor": "#E5ECF6",
            "gridcolor": "white",
            "gridwidth": 2,
            "linecolor": "white",
            "showbackground": true,
            "ticks": "",
            "zerolinecolor": "white"
           },
           "zaxis": {
            "backgroundcolor": "#E5ECF6",
            "gridcolor": "white",
            "gridwidth": 2,
            "linecolor": "white",
            "showbackground": true,
            "ticks": "",
            "zerolinecolor": "white"
           }
          },
          "shapedefaults": {
           "line": {
            "color": "#2a3f5f"
           }
          },
          "ternary": {
           "aaxis": {
            "gridcolor": "white",
            "linecolor": "white",
            "ticks": ""
           },
           "baxis": {
            "gridcolor": "white",
            "linecolor": "white",
            "ticks": ""
           },
           "bgcolor": "#E5ECF6",
           "caxis": {
            "gridcolor": "white",
            "linecolor": "white",
            "ticks": ""
           }
          },
          "title": {
           "x": 0.05
          },
          "xaxis": {
           "automargin": true,
           "gridcolor": "white",
           "linecolor": "white",
           "ticks": "",
           "title": {
            "standoff": 15
           },
           "zerolinecolor": "white",
           "zerolinewidth": 2
          },
          "yaxis": {
           "automargin": true,
           "gridcolor": "white",
           "linecolor": "white",
           "ticks": "",
           "title": {
            "standoff": 15
           },
           "zerolinecolor": "white",
           "zerolinewidth": 2
          }
         }
        },
        "title": {
         "font": {
          "color": "#000000",
          "size": 32
         },
         "text": "",
         "x": 0.5,
         "xanchor": "center",
         "y": 0.9,
         "yanchor": "top"
        },
        "xaxis": {
         "autorange": true,
         "gridcolor": "#e5e5e5",
         "linecolor": "#e5e5e5",
         "range": [
          "2020-02-22 19:16:54.4473",
          "2020-04-24 04:43:05.5527"
         ],
         "tickfont": {
          "color": "#000000",
          "size": 12
         },
         "tickformat": "%d/%m",
         "title": {
          "text": ""
         },
         "type": "date",
         "zerolinecolor": "#e5e5e5"
        },
        "yaxis": {
         "autorange": true,
         "gridcolor": "#e5e5e5",
         "range": [
          -2838.718905472637,
          45918.71890547263
         ],
         "tickfont": {
          "color": "#000000",
          "size": 12
         },
         "tickformat": "n",
         "title": {
          "text": "Casos Confirmados"
         },
         "type": "linear",
         "zerolinecolor": "#e5e5e5"
        }
       }
      },
      "image/png": "[encoded data removed]",
      "text/html": [
       "<div>\n",
       "        \n",
       "        \n",
       "            <div id=\"0336d892-5ca8-49b2-975a-5e27da734c3e\" class=\"plotly-graph-div\" style=\"height:525px; width:100%;\"></div>\n",
       "            <script type=\"text/javascript\">\n",
       "                require([\"plotly\"], function(Plotly) {\n",
       "                    window.PLOTLYENV=window.PLOTLYENV || {};\n",
       "                    \n",
       "                if (document.getElementById(\"0336d892-5ca8-49b2-975a-5e27da734c3e\")) {\n",
       "                    Plotly.newPlot(\n",
       "                        '0336d892-5ca8-49b2-975a-5e27da734c3e',\n",
       "                        [{\"hoverlabel\": {\"font\": {\"size\": 15}, \"namelength\": -1}, \"line\": {\"color\": \"#FA7609\", \"width\": 3}, \"marker\": {\"size\": 4}, \"mode\": \"lines+markers\", \"name\": \"BRASIL\", \"type\": \"scatter\", \"x\": [\"2020-04-21T00:00:00\", \"2020-04-20T00:00:00\", \"2020-04-19T00:00:00\", \"2020-04-18T00:00:00\", \"2020-04-17T00:00:00\", \"2020-04-16T00:00:00\", \"2020-04-15T00:00:00\", \"2020-04-14T00:00:00\", \"2020-04-13T00:00:00\", \"2020-04-12T00:00:00\", \"2020-04-11T00:00:00\", \"2020-04-10T00:00:00\", \"2020-04-09T00:00:00\", \"2020-04-08T00:00:00\", \"2020-04-07T00:00:00\", \"2020-04-06T00:00:00\", \"2020-04-05T00:00:00\", \"2020-04-04T00:00:00\", \"2020-04-03T00:00:00\", \"2020-04-02T00:00:00\", \"2020-04-01T00:00:00\", \"2020-03-31T00:00:00\", \"2020-03-30T00:00:00\", \"2020-03-29T00:00:00\", \"2020-03-28T00:00:00\", \"2020-03-27T00:00:00\", \"2020-03-26T00:00:00\", \"2020-03-25T00:00:00\", \"2020-03-24T00:00:00\", \"2020-03-23T00:00:00\", \"2020-03-22T00:00:00\", \"2020-03-21T00:00:00\", \"2020-03-20T00:00:00\", \"2020-03-19T00:00:00\", \"2020-03-18T00:00:00\", \"2020-03-17T00:00:00\", \"2020-03-16T00:00:00\", \"2020-03-15T00:00:00\", \"2020-03-14T00:00:00\", \"2020-03-13T00:00:00\", \"2020-03-12T00:00:00\", \"2020-03-11T00:00:00\", \"2020-03-10T00:00:00\", \"2020-03-09T00:00:00\", \"2020-03-08T00:00:00\", \"2020-03-07T00:00:00\", \"2020-03-06T00:00:00\", \"2020-03-05T00:00:00\", \"2020-03-04T00:00:00\", \"2020-03-03T00:00:00\", \"2020-03-02T00:00:00\", \"2020-03-01T00:00:00\", \"2020-02-29T00:00:00\", \"2020-02-28T00:00:00\", \"2020-02-27T00:00:00\", \"2020-02-26T00:00:00\"], \"y\": [43079, 40581, 38654, 36599, 33682, 30425, 28320, 25262, 23430, 22169, 20727, 19638, 17857, 15927, 13717, 12056, 11130, 10278, 9056, 7910, 6834, 5717, 4579, 4256, 3903, 3417, 2915, 2433, 2201, 1891, 1546, 1128, 904, 621, 428, 291, 234, 200, 121, 98, 77, 52, 34, 25, 25, 19, 13, 7, 3, 2, 2, 2, 2, 1, 1, 1]}, {\"hoverlabel\": {\"font\": {\"size\": 15}, \"namelength\": -1}, \"line\": {\"color\": \"#0D485A\", \"width\": 3}, \"marker\": {\"size\": 4}, \"mode\": \"lines+markers\", \"name\": \"BRASIL SEM SP\", \"type\": \"scatter\", \"x\": [\"2020-04-21T00:00:00\", \"2020-04-20T00:00:00\", \"2020-04-19T00:00:00\", \"2020-04-18T00:00:00\", \"2020-04-17T00:00:00\", \"2020-04-16T00:00:00\", \"2020-04-15T00:00:00\", \"2020-04-14T00:00:00\", \"2020-04-13T00:00:00\", \"2020-04-12T00:00:00\", \"2020-04-11T00:00:00\", \"2020-04-10T00:00:00\", \"2020-04-09T00:00:00\", \"2020-04-08T00:00:00\", \"2020-04-07T00:00:00\", \"2020-04-06T00:00:00\", \"2020-04-05T00:00:00\", \"2020-04-04T00:00:00\", \"2020-04-03T00:00:00\", \"2020-04-02T00:00:00\", \"2020-04-01T00:00:00\", \"2020-03-31T00:00:00\", \"2020-03-30T00:00:00\", \"2020-03-29T00:00:00\", \"2020-03-28T00:00:00\", \"2020-03-27T00:00:00\", \"2020-03-26T00:00:00\", \"2020-03-25T00:00:00\", \"2020-03-24T00:00:00\", \"2020-03-23T00:00:00\", \"2020-03-22T00:00:00\", \"2020-03-21T00:00:00\", \"2020-03-20T00:00:00\", \"2020-03-19T00:00:00\", \"2020-03-18T00:00:00\", \"2020-03-17T00:00:00\", \"2020-03-16T00:00:00\", \"2020-03-15T00:00:00\", \"2020-03-14T00:00:00\", \"2020-03-13T00:00:00\", \"2020-03-12T00:00:00\", \"2020-03-11T00:00:00\", \"2020-03-10T00:00:00\", \"2020-03-09T00:00:00\", \"2020-03-08T00:00:00\", \"2020-03-07T00:00:00\", \"2020-03-06T00:00:00\", \"2020-03-05T00:00:00\"], \"y\": [27694, 26001, 24387, 22705, 20841, 18857, 17277, 15891, 14535, 13414, 12308, 11422, 10377, 9219, 8035, 7190, 6510, 5812, 5008, 4404, 3853, 3378, 3062, 2805, 2497, 2194, 1863, 1571, 1391, 1146, 915, 669, 508, 335, 188, 127, 82, 64, 56, 42, 35, 22, 15, 9, 9, 6, 3, 1]}, {\"hoverlabel\": {\"font\": {\"size\": 15}, \"namelength\": -1}, \"line\": {\"color\": \"#1D8179\", \"width\": 3}, \"marker\": {\"size\": 4}, \"mode\": \"lines+markers\", \"name\": \"SP\", \"type\": \"scatter\", \"x\": [\"2020-04-21T00:00:00\", \"2020-04-20T00:00:00\", \"2020-04-19T00:00:00\", \"2020-04-18T00:00:00\", \"2020-04-17T00:00:00\", \"2020-04-16T00:00:00\", \"2020-04-15T00:00:00\", \"2020-04-14T00:00:00\", \"2020-04-13T00:00:00\", \"2020-04-12T00:00:00\", \"2020-04-11T00:00:00\", \"2020-04-10T00:00:00\", \"2020-04-09T00:00:00\", \"2020-04-08T00:00:00\", \"2020-04-07T00:00:00\", \"2020-04-06T00:00:00\", \"2020-04-05T00:00:00\", \"2020-04-04T00:00:00\", \"2020-04-03T00:00:00\", \"2020-04-02T00:00:00\", \"2020-04-01T00:00:00\", \"2020-03-31T00:00:00\", \"2020-03-30T00:00:00\", \"2020-03-29T00:00:00\", \"2020-03-28T00:00:00\", \"2020-03-27T00:00:00\", \"2020-03-26T00:00:00\", \"2020-03-25T00:00:00\", \"2020-03-24T00:00:00\", \"2020-03-23T00:00:00\", \"2020-03-22T00:00:00\", \"2020-03-21T00:00:00\", \"2020-03-20T00:00:00\", \"2020-03-19T00:00:00\", \"2020-03-18T00:00:00\", \"2020-03-17T00:00:00\", \"2020-03-16T00:00:00\", \"2020-03-15T00:00:00\", \"2020-03-14T00:00:00\", \"2020-03-13T00:00:00\", \"2020-03-12T00:00:00\", \"2020-03-11T00:00:00\", \"2020-03-10T00:00:00\", \"2020-03-09T00:00:00\", \"2020-03-08T00:00:00\", \"2020-03-07T00:00:00\", \"2020-03-06T00:00:00\", \"2020-03-05T00:00:00\", \"2020-03-04T00:00:00\", \"2020-03-03T00:00:00\", \"2020-03-02T00:00:00\", \"2020-03-01T00:00:00\", \"2020-02-29T00:00:00\", \"2020-02-28T00:00:00\", \"2020-02-27T00:00:00\", \"2020-02-26T00:00:00\"], \"y\": [15385, 14580, 14267, 13894, 12841, 11568, 11043, 9371, 8895, 8755, 8419, 8216, 7480, 6708, 5682, 4866, 4620, 4466, 4048, 3506, 2981, 2339, 1517, 1451, 1406, 1223, 1052, 862, 810, 745, 631, 459, 396, 286, 240, 164, 152, 136, 65, 56, 42, 30, 19, 16, 16, 13, 10, 6, 3, 2, 2, 2, 2, 1, 1, 1]}, {\"hoverlabel\": {\"font\": {\"size\": 15}, \"namelength\": -1}, \"line\": {\"color\": \"#585858\", \"width\": 3}, \"marker\": {\"size\": 4}, \"mode\": \"lines+markers\", \"name\": \"RJ\", \"type\": \"scatter\", \"x\": [\"2020-04-21T00:00:00\", \"2020-04-20T00:00:00\", \"2020-04-19T00:00:00\", \"2020-04-18T00:00:00\", \"2020-04-17T00:00:00\", \"2020-04-16T00:00:00\", \"2020-04-15T00:00:00\", \"2020-04-14T00:00:00\", \"2020-04-13T00:00:00\", \"2020-04-12T00:00:00\", \"2020-04-11T00:00:00\", \"2020-04-10T00:00:00\", \"2020-04-09T00:00:00\", \"2020-04-08T00:00:00\", \"2020-04-07T00:00:00\", \"2020-04-06T00:00:00\", \"2020-04-05T00:00:00\", \"2020-04-04T00:00:00\", \"2020-04-03T00:00:00\", \"2020-04-02T00:00:00\", \"2020-04-01T00:00:00\", \"2020-03-31T00:00:00\", \"2020-03-30T00:00:00\", \"2020-03-29T00:00:00\", \"2020-03-28T00:00:00\", \"2020-03-27T00:00:00\", \"2020-03-26T00:00:00\", \"2020-03-25T00:00:00\", \"2020-03-24T00:00:00\", \"2020-03-23T00:00:00\", \"2020-03-22T00:00:00\", \"2020-03-21T00:00:00\", \"2020-03-20T00:00:00\", \"2020-03-19T00:00:00\", \"2020-03-18T00:00:00\", \"2020-03-17T00:00:00\", \"2020-03-16T00:00:00\", \"2020-03-15T00:00:00\", \"2020-03-14T00:00:00\", \"2020-03-13T00:00:00\", \"2020-03-12T00:00:00\", \"2020-03-11T00:00:00\", \"2020-03-10T00:00:00\", \"2020-03-09T00:00:00\", \"2020-03-08T00:00:00\", \"2020-03-07T00:00:00\", \"2020-03-06T00:00:00\", \"2020-03-05T00:00:00\"], \"y\": [5306, 4899, 4765, 4543, 4349, 3944, 3743, 3410, 3231, 2855, 2607, 2464, 2216, 1938, 1688, 1461, 1394, 1246, 1074, 992, 832, 708, 657, 600, 558, 493, 421, 370, 305, 233, 186, 119, 109, 65, 45, 33, 31, 24, 22, 16, 16, 13, 8, 3, 3, 2, 1, 1]}],\n",
       "                        {\"annotations\": [{\"align\": \"left\", \"font\": {\"color\": \"#000000\", \"family\": \"Courier New, monospace\", \"size\": 16}, \"showarrow\": false, \"text\": \"<b><b>\", \"x\": -0.04, \"xref\": \"paper\", \"xshift\": 0, \"y\": -0.14, \"yref\": \"paper\", \"yshift\": 0}], \"autosize\": true, \"barmode\": \"group\", \"font\": {\"color\": \"#000000\", \"size\": 10}, \"hovermode\": \"x\", \"legend\": {\"bgcolor\": \"rgba(0,0,0,0)\", \"bordercolor\": \"rgba(0,0,0,0)\", \"borderwidth\": 0, \"font\": {\"color\": \"#000000\", \"family\": \"Courier New, monospace\", \"size\": 10}, \"orientation\": \"h\", \"traceorder\": \"normal\"}, \"margin\": {\"b\": 10, \"l\": 10, \"r\": 10, \"t\": 10}, \"paper_bgcolor\": \"#FFFFFF\", \"plot_bgcolor\": \"rgba(0,0,0,0)\", \"template\": {\"data\": {\"bar\": [{\"error_x\": {\"color\": \"#2a3f5f\"}, \"error_y\": {\"color\": \"#2a3f5f\"}, \"marker\": {\"line\": {\"color\": \"#E5ECF6\", \"width\": 0.5}}, \"type\": \"bar\"}], \"barpolar\": [{\"marker\": {\"line\": {\"color\": \"#E5ECF6\", \"width\": 0.5}}, \"type\": \"barpolar\"}], \"carpet\": [{\"aaxis\": {\"endlinecolor\": \"#2a3f5f\", \"gridcolor\": \"white\", \"linecolor\": \"white\", \"minorgridcolor\": \"white\", \"startlinecolor\": \"#2a3f5f\"}, \"baxis\": {\"endlinecolor\": \"#2a3f5f\", \"gridcolor\": \"white\", \"linecolor\": \"white\", \"minorgridcolor\": \"white\", \"startlinecolor\": \"#2a3f5f\"}, \"type\": \"carpet\"}], \"choropleth\": [{\"colorbar\": {\"outlinewidth\": 0, \"ticks\": \"\"}, \"type\": \"choropleth\"}], \"contour\": [{\"colorbar\": {\"outlinewidth\": 0, \"ticks\": \"\"}, \"colorscale\": [[0.0, \"#0d0887\"], [0.1111111111111111, \"#46039f\"], [0.2222222222222222, \"#7201a8\"], [0.3333333333333333, \"#9c179e\"], [0.4444444444444444, \"#bd3786\"], [0.5555555555555556, \"#d8576b\"], [0.6666666666666666, \"#ed7953\"], [0.7777777777777778, \"#fb9f3a\"], [0.8888888888888888, \"#fdca26\"], [1.0, \"#f0f921\"]], \"type\": \"contour\"}], \"contourcarpet\": [{\"colorbar\": {\"outlinewidth\": 0, \"ticks\": \"\"}, \"type\": \"contourcarpet\"}], \"heatmap\": [{\"colorbar\": {\"outlinewidth\": 0, \"ticks\": \"\"}, \"colorscale\": [[0.0, \"#0d0887\"], [0.1111111111111111, \"#46039f\"], [0.2222222222222222, \"#7201a8\"], [0.3333333333333333, \"#9c179e\"], [0.4444444444444444, \"#bd3786\"], [0.5555555555555556, \"#d8576b\"], [0.6666666666666666, \"#ed7953\"], [0.7777777777777778, \"#fb9f3a\"], [0.8888888888888888, \"#fdca26\"], [1.0, \"#f0f921\"]], \"type\": \"heatmap\"}], \"heatmapgl\": [{\"colorbar\": {\"outlinewidth\": 0, \"ticks\": \"\"}, \"colorscale\": [[0.0, \"#0d0887\"], [0.1111111111111111, \"#46039f\"], [0.2222222222222222, \"#7201a8\"], [0.3333333333333333, \"#9c179e\"], [0.4444444444444444, \"#bd3786\"], [0.5555555555555556, \"#d8576b\"], [0.6666666666666666, \"#ed7953\"], [0.7777777777777778, \"#fb9f3a\"], [0.8888888888888888, \"#fdca26\"], [1.0, \"#f0f921\"]], \"type\": \"heatmapgl\"}], \"histogram\": [{\"marker\": {\"colorbar\": {\"outlinewidth\": 0, \"ticks\": \"\"}}, \"type\": \"histogram\"}], \"histogram2d\": [{\"colorbar\": {\"outlinewidth\": 0, \"ticks\": \"\"}, \"colorscale\": [[0.0, \"#0d0887\"], [0.1111111111111111, \"#46039f\"], [0.2222222222222222, \"#7201a8\"], [0.3333333333333333, \"#9c179e\"], [0.4444444444444444, \"#bd3786\"], [0.5555555555555556, \"#d8576b\"], [0.6666666666666666, \"#ed7953\"], [0.7777777777777778, \"#fb9f3a\"], [0.8888888888888888, \"#fdca26\"], [1.0, \"#f0f921\"]], \"type\": \"histogram2d\"}], \"histogram2dcontour\": [{\"colorbar\": {\"outlinewidth\": 0, \"ticks\": \"\"}, \"colorscale\": [[0.0, \"#0d0887\"], [0.1111111111111111, \"#46039f\"], [0.2222222222222222, \"#7201a8\"], [0.3333333333333333, \"#9c179e\"], [0.4444444444444444, \"#bd3786\"], [0.5555555555555556, \"#d8576b\"], [0.6666666666666666, \"#ed7953\"], [0.7777777777777778, \"#fb9f3a\"], [0.8888888888888888, \"#fdca26\"], [1.0, \"#f0f921\"]], \"type\": \"histogram2dcontour\"}], \"mesh3d\": [{\"colorbar\": {\"outlinewidth\": 0, \"ticks\": \"\"}, \"type\": \"mesh3d\"}], \"parcoords\": [{\"line\": {\"colorbar\": {\"outlinewidth\": 0, \"ticks\": \"\"}}, \"type\": \"parcoords\"}], \"pie\": [{\"automargin\": true, \"type\": \"pie\"}], \"scatter\": [{\"marker\": {\"colorbar\": {\"outlinewidth\": 0, \"ticks\": \"\"}}, \"type\": \"scatter\"}], \"scatter3d\": [{\"line\": {\"colorbar\": {\"outlinewidth\": 0, \"ticks\": \"\"}}, \"marker\": {\"colorbar\": {\"outlinewidth\": 0, \"ticks\": \"\"}}, \"type\": \"scatter3d\"}], \"scattercarpet\": [{\"marker\": {\"colorbar\": {\"outlinewidth\": 0, \"ticks\": \"\"}}, \"type\": \"scattercarpet\"}], \"scattergeo\": [{\"marker\": {\"colorbar\": {\"outlinewidth\": 0, \"ticks\": \"\"}}, \"type\": \"scattergeo\"}], \"scattergl\": [{\"marker\": {\"colorbar\": {\"outlinewidth\": 0, \"ticks\": \"\"}}, \"type\": \"scattergl\"}], \"scattermapbox\": [{\"marker\": {\"colorbar\": {\"outlinewidth\": 0, \"ticks\": \"\"}}, \"type\": \"scattermapbox\"}], \"scatterpolar\": [{\"marker\": {\"colorbar\": {\"outlinewidth\": 0, \"ticks\": \"\"}}, \"type\": \"scatterpolar\"}], \"scatterpolargl\": [{\"marker\": {\"colorbar\": {\"outlinewidth\": 0, \"ticks\": \"\"}}, \"type\": \"scatterpolargl\"}], \"scatterternary\": [{\"marker\": {\"colorbar\": {\"outlinewidth\": 0, \"ticks\": \"\"}}, \"type\": \"scatterternary\"}], \"surface\": [{\"colorbar\": {\"outlinewidth\": 0, \"ticks\": \"\"}, \"colorscale\": [[0.0, \"#0d0887\"], [0.1111111111111111, \"#46039f\"], [0.2222222222222222, \"#7201a8\"], [0.3333333333333333, \"#9c179e\"], [0.4444444444444444, \"#bd3786\"], [0.5555555555555556, \"#d8576b\"], [0.6666666666666666, \"#ed7953\"], [0.7777777777777778, \"#fb9f3a\"], [0.8888888888888888, \"#fdca26\"], [1.0, \"#f0f921\"]], \"type\": \"surface\"}], \"table\": [{\"cells\": {\"fill\": {\"color\": \"#EBF0F8\"}, \"line\": {\"color\": \"white\"}}, \"header\": {\"fill\": {\"color\": \"#C8D4E3\"}, \"line\": {\"color\": \"white\"}}, \"type\": \"table\"}]}, \"layout\": {\"annotationdefaults\": {\"arrowcolor\": \"#2a3f5f\", \"arrowhead\": 0, \"arrowwidth\": 1}, \"coloraxis\": {\"colorbar\": {\"outlinewidth\": 0, \"ticks\": \"\"}}, \"colorscale\": {\"diverging\": [[0, \"#8e0152\"], [0.1, \"#c51b7d\"], [0.2, \"#de77ae\"], [0.3, \"#f1b6da\"], [0.4, \"#fde0ef\"], [0.5, \"#f7f7f7\"], [0.6, \"#e6f5d0\"], [0.7, \"#b8e186\"], [0.8, \"#7fbc41\"], [0.9, \"#4d9221\"], [1, \"#276419\"]], \"sequential\": [[0.0, \"#0d0887\"], [0.1111111111111111, \"#46039f\"], [0.2222222222222222, \"#7201a8\"], [0.3333333333333333, \"#9c179e\"], [0.4444444444444444, \"#bd3786\"], [0.5555555555555556, \"#d8576b\"], [0.6666666666666666, \"#ed7953\"], [0.7777777777777778, \"#fb9f3a\"], [0.8888888888888888, \"#fdca26\"], [1.0, \"#f0f921\"]], \"sequentialminus\": [[0.0, \"#0d0887\"], [0.1111111111111111, \"#46039f\"], [0.2222222222222222, \"#7201a8\"], [0.3333333333333333, \"#9c179e\"], [0.4444444444444444, \"#bd3786\"], [0.5555555555555556, \"#d8576b\"], [0.6666666666666666, \"#ed7953\"], [0.7777777777777778, \"#fb9f3a\"], [0.8888888888888888, \"#fdca26\"], [1.0, \"#f0f921\"]]}, \"colorway\": [\"#636efa\", \"#EF553B\", \"#00cc96\", \"#ab63fa\", \"#FFA15A\", \"#19d3f3\", \"#FF6692\", \"#B6E880\", \"#FF97FF\", \"#FECB52\"], \"font\": {\"color\": \"#2a3f5f\"}, \"geo\": {\"bgcolor\": \"white\", \"lakecolor\": \"white\", \"landcolor\": \"#E5ECF6\", \"showlakes\": true, \"showland\": true, \"subunitcolor\": \"white\"}, \"hoverlabel\": {\"align\": \"left\"}, \"hovermode\": \"closest\", \"mapbox\": {\"style\": \"light\"}, \"paper_bgcolor\": \"white\", \"plot_bgcolor\": \"#E5ECF6\", \"polar\": {\"angularaxis\": {\"gridcolor\": \"white\", \"linecolor\": \"white\", \"ticks\": \"\"}, \"bgcolor\": \"#E5ECF6\", \"radialaxis\": {\"gridcolor\": \"white\", \"linecolor\": \"white\", \"ticks\": \"\"}}, \"scene\": {\"xaxis\": {\"backgroundcolor\": \"#E5ECF6\", \"gridcolor\": \"white\", \"gridwidth\": 2, \"linecolor\": \"white\", \"showbackground\": true, \"ticks\": \"\", \"zerolinecolor\": \"white\"}, \"yaxis\": {\"backgroundcolor\": \"#E5ECF6\", \"gridcolor\": \"white\", \"gridwidth\": 2, \"linecolor\": \"white\", \"showbackground\": true, \"ticks\": \"\", \"zerolinecolor\": \"white\"}, \"zaxis\": {\"backgroundcolor\": \"#E5ECF6\", \"gridcolor\": \"white\", \"gridwidth\": 2, \"linecolor\": \"white\", \"showbackground\": true, \"ticks\": \"\", \"zerolinecolor\": \"white\"}}, \"shapedefaults\": {\"line\": {\"color\": \"#2a3f5f\"}}, \"ternary\": {\"aaxis\": {\"gridcolor\": \"white\", \"linecolor\": \"white\", \"ticks\": \"\"}, \"baxis\": {\"gridcolor\": \"white\", \"linecolor\": \"white\", \"ticks\": \"\"}, \"bgcolor\": \"#E5ECF6\", \"caxis\": {\"gridcolor\": \"white\", \"linecolor\": \"white\", \"ticks\": \"\"}}, \"title\": {\"x\": 0.05}, \"xaxis\": {\"automargin\": true, \"gridcolor\": \"white\", \"linecolor\": \"white\", \"ticks\": \"\", \"title\": {\"standoff\": 15}, \"zerolinecolor\": \"white\", \"zerolinewidth\": 2}, \"yaxis\": {\"automargin\": true, \"gridcolor\": \"white\", \"linecolor\": \"white\", \"ticks\": \"\", \"title\": {\"standoff\": 15}, \"zerolinecolor\": \"white\", \"zerolinewidth\": 2}}}, \"title\": {\"font\": {\"color\": \"#000000\", \"size\": 32}, \"text\": \"\", \"x\": 0.5, \"xanchor\": \"center\", \"y\": 0.9, \"yanchor\": \"top\"}, \"xaxis\": {\"gridcolor\": \"#e5e5e5\", \"linecolor\": \"#e5e5e5\", \"tickfont\": {\"color\": \"#000000\", \"size\": 12}, \"tickformat\": \"%d/%m\", \"title\": {\"text\": \"\"}, \"type\": \"date\", \"zerolinecolor\": \"#e5e5e5\"}, \"yaxis\": {\"gridcolor\": \"#e5e5e5\", \"tickfont\": {\"color\": \"#000000\", \"size\": 12}, \"tickformat\": \"n\", \"title\": {\"text\": \"Casos Confirmados\"}, \"type\": \"linear\", \"zerolinecolor\": \"#e5e5e5\"}},\n",
       "                        {\"responsive\": true}\n",
       "                    ).then(function(){\n",
       "                            \n",
       "var gd = document.getElementById('0336d892-5ca8-49b2-975a-5e27da734c3e');\n",
       "var x = new MutationObserver(function (mutations, observer) {{\n",
       "        var display = window.getComputedStyle(gd).display;\n",
       "        if (!display || display === 'none') {{\n",
       "            console.log([gd, 'removed!']);\n",
       "            Plotly.purge(gd);\n",
       "            observer.disconnect();\n",
       "        }}\n",
       "}});\n",
       "\n",
       "// Listen for the removal of the full notebook cells\n",
       "var notebookContainer = gd.closest('#notebook-container');\n",
       "if (notebookContainer) {{\n",
       "    x.observe(notebookContainer, {childList: true});\n",
       "}}\n",
       "\n",
       "// Listen for the clearing of the current output cell\n",
       "var outputEl = gd.closest('.output');\n",
       "if (outputEl) {{\n",
       "    x.observe(outputEl, {childList: true});\n",
       "}}\n",
       "\n",
       "                        })\n",
       "                };\n",
       "                });\n",
       "            </script>\n",
       "        </div>"
      ]
     },
     "metadata": {},
     "output_type": "display_data"
    }
   ],
   "source": [
    "fig"
   ]
  },
  {
   "cell_type": "markdown",
   "metadata": {},
   "source": [
    "## Diario"
   ]
  },
  {
   "cell_type": "code",
   "execution_count": 110,
   "metadata": {},
   "outputs": [],
   "source": [
    "from scripts import vis_graphs\n",
    "themes = yaml.load(open('../themes/custom_colorscales.yaml', 'r'), Loader=yaml.FullLoader)\n",
    "themes = themes['brasil_vis_daily']\n",
    "\n",
    "codes = ['BRASIL','SP']\n",
    "\n",
    "for state in codes:\n",
    "    mask = ((df_states['state']==state) & (df_states['confirmed']>0))\n",
    "    fig = vis_graphs.unique_country(df_states[mask], themes)\n",
    "\n",
    "    plot(fig, filename=f\"../site/sv_br_vale/coronavirus/images/daily/{state}.html\", auto_open=False)\n",
    "    plot(fig, filename=f\"../../sample_pages/pages/coronavirus/images/daily/{state}.html\", auto_open=False)"
   ]
  },
  {
   "cell_type": "code",
   "execution_count": 111,
   "metadata": {},
   "outputs": [
    {
     "data": {
      "application/vnd.plotly.v1+json": {
       "config": {
        "plotlyServerURL": "https://plot.ly"
       },
       "data": [
        {
         "hoverlabel": {
          "font": {
           "size": 15
          },
          "namelength": -1
         },
         "marker": {
          "color": "#EF4136"
         },
         "name": "Óbitos",
         "type": "bar",
         "x": [
          "2020-04-21T00:00:00",
          "2020-04-20T00:00:00",
          "2020-04-19T00:00:00",
          "2020-04-18T00:00:00",
          "2020-04-17T00:00:00",
          "2020-04-16T00:00:00",
          "2020-04-15T00:00:00",
          "2020-04-14T00:00:00",
          "2020-04-13T00:00:00",
          "2020-04-12T00:00:00",
          "2020-04-11T00:00:00",
          "2020-04-10T00:00:00",
          "2020-04-09T00:00:00",
          "2020-04-08T00:00:00",
          "2020-04-07T00:00:00",
          "2020-04-06T00:00:00",
          "2020-04-05T00:00:00",
          "2020-04-04T00:00:00",
          "2020-04-03T00:00:00",
          "2020-04-02T00:00:00",
          "2020-04-01T00:00:00",
          "2020-03-31T00:00:00",
          "2020-03-30T00:00:00",
          "2020-03-29T00:00:00",
          "2020-03-28T00:00:00",
          "2020-03-27T00:00:00",
          "2020-03-26T00:00:00",
          "2020-03-25T00:00:00",
          "2020-03-24T00:00:00",
          "2020-03-23T00:00:00",
          "2020-03-22T00:00:00",
          "2020-03-21T00:00:00",
          "2020-03-20T00:00:00",
          "2020-03-19T00:00:00",
          "2020-03-18T00:00:00",
          "2020-03-17T00:00:00",
          "2020-03-16T00:00:00",
          "2020-03-15T00:00:00",
          "2020-03-14T00:00:00",
          "2020-03-13T00:00:00",
          "2020-03-12T00:00:00",
          "2020-03-11T00:00:00",
          "2020-03-10T00:00:00",
          "2020-03-09T00:00:00",
          "2020-03-08T00:00:00",
          "2020-03-07T00:00:00",
          "2020-03-06T00:00:00",
          "2020-03-05T00:00:00",
          "2020-03-04T00:00:00",
          "2020-03-03T00:00:00",
          "2020-03-02T00:00:00",
          "2020-03-01T00:00:00",
          "2020-02-29T00:00:00",
          "2020-02-28T00:00:00",
          "2020-02-27T00:00:00",
          "2020-02-26T00:00:00"
         ],
         "y": [
          56,
          22,
          24,
          63,
          75,
          75,
          83,
          87,
          20,
          28,
          20,
          44,
          68,
          57,
          67,
          29,
          15,
          41,
          31,
          24,
          28,
          23,
          15,
          14,
          16,
          10,
          10,
          8,
          10,
          8,
          7,
          6,
          5,
          0,
          3,
          1,
          0,
          0,
          0,
          0,
          0,
          0,
          0,
          0,
          0,
          0,
          0,
          0,
          0,
          0,
          0,
          0,
          0,
          0,
          0,
          0
         ]
        },
        {
         "hoverlabel": {
          "font": {
           "size": 15
          },
          "namelength": -1
         },
         "marker": {
          "color": "#0393D0"
         },
         "name": "Confirmados",
         "type": "bar",
         "visible": true,
         "x": [
          "2020-04-21T00:00:00",
          "2020-04-20T00:00:00",
          "2020-04-19T00:00:00",
          "2020-04-18T00:00:00",
          "2020-04-17T00:00:00",
          "2020-04-16T00:00:00",
          "2020-04-15T00:00:00",
          "2020-04-14T00:00:00",
          "2020-04-13T00:00:00",
          "2020-04-12T00:00:00",
          "2020-04-11T00:00:00",
          "2020-04-10T00:00:00",
          "2020-04-09T00:00:00",
          "2020-04-08T00:00:00",
          "2020-04-07T00:00:00",
          "2020-04-06T00:00:00",
          "2020-04-05T00:00:00",
          "2020-04-04T00:00:00",
          "2020-04-03T00:00:00",
          "2020-04-02T00:00:00",
          "2020-04-01T00:00:00",
          "2020-03-31T00:00:00",
          "2020-03-30T00:00:00",
          "2020-03-29T00:00:00",
          "2020-03-28T00:00:00",
          "2020-03-27T00:00:00",
          "2020-03-26T00:00:00",
          "2020-03-25T00:00:00",
          "2020-03-24T00:00:00",
          "2020-03-23T00:00:00",
          "2020-03-22T00:00:00",
          "2020-03-21T00:00:00",
          "2020-03-20T00:00:00",
          "2020-03-19T00:00:00",
          "2020-03-18T00:00:00",
          "2020-03-17T00:00:00",
          "2020-03-16T00:00:00",
          "2020-03-15T00:00:00",
          "2020-03-14T00:00:00",
          "2020-03-13T00:00:00",
          "2020-03-12T00:00:00",
          "2020-03-11T00:00:00",
          "2020-03-10T00:00:00",
          "2020-03-09T00:00:00",
          "2020-03-08T00:00:00",
          "2020-03-07T00:00:00",
          "2020-03-06T00:00:00",
          "2020-03-05T00:00:00",
          "2020-03-04T00:00:00",
          "2020-03-03T00:00:00",
          "2020-03-02T00:00:00",
          "2020-03-01T00:00:00",
          "2020-02-29T00:00:00",
          "2020-02-28T00:00:00",
          "2020-02-27T00:00:00",
          "2020-02-26T00:00:00"
         ],
         "y": [
          805,
          313,
          373,
          1053,
          1273,
          525,
          1672,
          476,
          140,
          336,
          203,
          736,
          772,
          1026,
          816,
          246,
          154,
          418,
          542,
          525,
          642,
          822,
          66,
          45,
          183,
          171,
          190,
          52,
          65,
          114,
          172,
          63,
          110,
          46,
          76,
          12,
          16,
          71,
          9,
          14,
          12,
          11,
          3,
          0,
          3,
          3,
          4,
          3,
          1,
          0,
          0,
          0,
          1,
          0,
          0,
          1
         ]
        }
       ],
       "layout": {
        "annotations": [
         {
          "align": "left",
          "font": {
           "color": "#000000",
           "family": "Courier New, monospace",
           "size": 16
          },
          "showarrow": false,
          "text": "<b><b>",
          "x": -0.04,
          "xref": "paper",
          "xshift": 0,
          "y": -0.14,
          "yref": "paper",
          "yshift": 0
         }
        ],
        "autosize": true,
        "barmode": "stack",
        "font": {
         "color": "#000000",
         "size": 12
        },
        "hovermode": "x",
        "legend": {
         "bgcolor": "rgba(0, 0, 0, 0)",
         "bordercolor": "rgba(0, 0, 0, 0)",
         "borderwidth": 0,
         "font": {
          "color": "#000000",
          "family": "Courier New, monospace",
          "size": 10
         },
         "orientation": "h",
         "traceorder": "reversed"
        },
        "margin": {
         "b": 10,
         "l": 10,
         "r": 10,
         "t": 10
        },
        "paper_bgcolor": "#FFFFFF",
        "plot_bgcolor": "rgba(0, 0, 0, 0)",
        "template": {
         "data": {
          "bar": [
           {
            "error_x": {
             "color": "#2a3f5f"
            },
            "error_y": {
             "color": "#2a3f5f"
            },
            "marker": {
             "line": {
              "color": "#E5ECF6",
              "width": 0.5
             }
            },
            "type": "bar"
           }
          ],
          "barpolar": [
           {
            "marker": {
             "line": {
              "color": "#E5ECF6",
              "width": 0.5
             }
            },
            "type": "barpolar"
           }
          ],
          "carpet": [
           {
            "aaxis": {
             "endlinecolor": "#2a3f5f",
             "gridcolor": "white",
             "linecolor": "white",
             "minorgridcolor": "white",
             "startlinecolor": "#2a3f5f"
            },
            "baxis": {
             "endlinecolor": "#2a3f5f",
             "gridcolor": "white",
             "linecolor": "white",
             "minorgridcolor": "white",
             "startlinecolor": "#2a3f5f"
            },
            "type": "carpet"
           }
          ],
          "choropleth": [
           {
            "colorbar": {
             "outlinewidth": 0,
             "ticks": ""
            },
            "type": "choropleth"
           }
          ],
          "contour": [
           {
            "colorbar": {
             "outlinewidth": 0,
             "ticks": ""
            },
            "colorscale": [
             [
              0,
              "#0d0887"
             ],
             [
              0.1111111111111111,
              "#46039f"
             ],
             [
              0.2222222222222222,
              "#7201a8"
             ],
             [
              0.3333333333333333,
              "#9c179e"
             ],
             [
              0.4444444444444444,
              "#bd3786"
             ],
             [
              0.5555555555555556,
              "#d8576b"
             ],
             [
              0.6666666666666666,
              "#ed7953"
             ],
             [
              0.7777777777777778,
              "#fb9f3a"
             ],
             [
              0.8888888888888888,
              "#fdca26"
             ],
             [
              1,
              "#f0f921"
             ]
            ],
            "type": "contour"
           }
          ],
          "contourcarpet": [
           {
            "colorbar": {
             "outlinewidth": 0,
             "ticks": ""
            },
            "type": "contourcarpet"
           }
          ],
          "heatmap": [
           {
            "colorbar": {
             "outlinewidth": 0,
             "ticks": ""
            },
            "colorscale": [
             [
              0,
              "#0d0887"
             ],
             [
              0.1111111111111111,
              "#46039f"
             ],
             [
              0.2222222222222222,
              "#7201a8"
             ],
             [
              0.3333333333333333,
              "#9c179e"
             ],
             [
              0.4444444444444444,
              "#bd3786"
             ],
             [
              0.5555555555555556,
              "#d8576b"
             ],
             [
              0.6666666666666666,
              "#ed7953"
             ],
             [
              0.7777777777777778,
              "#fb9f3a"
             ],
             [
              0.8888888888888888,
              "#fdca26"
             ],
             [
              1,
              "#f0f921"
             ]
            ],
            "type": "heatmap"
           }
          ],
          "heatmapgl": [
           {
            "colorbar": {
             "outlinewidth": 0,
             "ticks": ""
            },
            "colorscale": [
             [
              0,
              "#0d0887"
             ],
             [
              0.1111111111111111,
              "#46039f"
             ],
             [
              0.2222222222222222,
              "#7201a8"
             ],
             [
              0.3333333333333333,
              "#9c179e"
             ],
             [
              0.4444444444444444,
              "#bd3786"
             ],
             [
              0.5555555555555556,
              "#d8576b"
             ],
             [
              0.6666666666666666,
              "#ed7953"
             ],
             [
              0.7777777777777778,
              "#fb9f3a"
             ],
             [
              0.8888888888888888,
              "#fdca26"
             ],
             [
              1,
              "#f0f921"
             ]
            ],
            "type": "heatmapgl"
           }
          ],
          "histogram": [
           {
            "marker": {
             "colorbar": {
              "outlinewidth": 0,
              "ticks": ""
             }
            },
            "type": "histogram"
           }
          ],
          "histogram2d": [
           {
            "colorbar": {
             "outlinewidth": 0,
             "ticks": ""
            },
            "colorscale": [
             [
              0,
              "#0d0887"
             ],
             [
              0.1111111111111111,
              "#46039f"
             ],
             [
              0.2222222222222222,
              "#7201a8"
             ],
             [
              0.3333333333333333,
              "#9c179e"
             ],
             [
              0.4444444444444444,
              "#bd3786"
             ],
             [
              0.5555555555555556,
              "#d8576b"
             ],
             [
              0.6666666666666666,
              "#ed7953"
             ],
             [
              0.7777777777777778,
              "#fb9f3a"
             ],
             [
              0.8888888888888888,
              "#fdca26"
             ],
             [
              1,
              "#f0f921"
             ]
            ],
            "type": "histogram2d"
           }
          ],
          "histogram2dcontour": [
           {
            "colorbar": {
             "outlinewidth": 0,
             "ticks": ""
            },
            "colorscale": [
             [
              0,
              "#0d0887"
             ],
             [
              0.1111111111111111,
              "#46039f"
             ],
             [
              0.2222222222222222,
              "#7201a8"
             ],
             [
              0.3333333333333333,
              "#9c179e"
             ],
             [
              0.4444444444444444,
              "#bd3786"
             ],
             [
              0.5555555555555556,
              "#d8576b"
             ],
             [
              0.6666666666666666,
              "#ed7953"
             ],
             [
              0.7777777777777778,
              "#fb9f3a"
             ],
             [
              0.8888888888888888,
              "#fdca26"
             ],
             [
              1,
              "#f0f921"
             ]
            ],
            "type": "histogram2dcontour"
           }
          ],
          "mesh3d": [
           {
            "colorbar": {
             "outlinewidth": 0,
             "ticks": ""
            },
            "type": "mesh3d"
           }
          ],
          "parcoords": [
           {
            "line": {
             "colorbar": {
              "outlinewidth": 0,
              "ticks": ""
             }
            },
            "type": "parcoords"
           }
          ],
          "pie": [
           {
            "automargin": true,
            "type": "pie"
           }
          ],
          "scatter": [
           {
            "marker": {
             "colorbar": {
              "outlinewidth": 0,
              "ticks": ""
             }
            },
            "type": "scatter"
           }
          ],
          "scatter3d": [
           {
            "line": {
             "colorbar": {
              "outlinewidth": 0,
              "ticks": ""
             }
            },
            "marker": {
             "colorbar": {
              "outlinewidth": 0,
              "ticks": ""
             }
            },
            "type": "scatter3d"
           }
          ],
          "scattercarpet": [
           {
            "marker": {
             "colorbar": {
              "outlinewidth": 0,
              "ticks": ""
             }
            },
            "type": "scattercarpet"
           }
          ],
          "scattergeo": [
           {
            "marker": {
             "colorbar": {
              "outlinewidth": 0,
              "ticks": ""
             }
            },
            "type": "scattergeo"
           }
          ],
          "scattergl": [
           {
            "marker": {
             "colorbar": {
              "outlinewidth": 0,
              "ticks": ""
             }
            },
            "type": "scattergl"
           }
          ],
          "scattermapbox": [
           {
            "marker": {
             "colorbar": {
              "outlinewidth": 0,
              "ticks": ""
             }
            },
            "type": "scattermapbox"
           }
          ],
          "scatterpolar": [
           {
            "marker": {
             "colorbar": {
              "outlinewidth": 0,
              "ticks": ""
             }
            },
            "type": "scatterpolar"
           }
          ],
          "scatterpolargl": [
           {
            "marker": {
             "colorbar": {
              "outlinewidth": 0,
              "ticks": ""
             }
            },
            "type": "scatterpolargl"
           }
          ],
          "scatterternary": [
           {
            "marker": {
             "colorbar": {
              "outlinewidth": 0,
              "ticks": ""
             }
            },
            "type": "scatterternary"
           }
          ],
          "surface": [
           {
            "colorbar": {
             "outlinewidth": 0,
             "ticks": ""
            },
            "colorscale": [
             [
              0,
              "#0d0887"
             ],
             [
              0.1111111111111111,
              "#46039f"
             ],
             [
              0.2222222222222222,
              "#7201a8"
             ],
             [
              0.3333333333333333,
              "#9c179e"
             ],
             [
              0.4444444444444444,
              "#bd3786"
             ],
             [
              0.5555555555555556,
              "#d8576b"
             ],
             [
              0.6666666666666666,
              "#ed7953"
             ],
             [
              0.7777777777777778,
              "#fb9f3a"
             ],
             [
              0.8888888888888888,
              "#fdca26"
             ],
             [
              1,
              "#f0f921"
             ]
            ],
            "type": "surface"
           }
          ],
          "table": [
           {
            "cells": {
             "fill": {
              "color": "#EBF0F8"
             },
             "line": {
              "color": "white"
             }
            },
            "header": {
             "fill": {
              "color": "#C8D4E3"
             },
             "line": {
              "color": "white"
             }
            },
            "type": "table"
           }
          ]
         },
         "layout": {
          "annotationdefaults": {
           "arrowcolor": "#2a3f5f",
           "arrowhead": 0,
           "arrowwidth": 1
          },
          "coloraxis": {
           "colorbar": {
            "outlinewidth": 0,
            "ticks": ""
           }
          },
          "colorscale": {
           "diverging": [
            [
             0,
             "#8e0152"
            ],
            [
             0.1,
             "#c51b7d"
            ],
            [
             0.2,
             "#de77ae"
            ],
            [
             0.3,
             "#f1b6da"
            ],
            [
             0.4,
             "#fde0ef"
            ],
            [
             0.5,
             "#f7f7f7"
            ],
            [
             0.6,
             "#e6f5d0"
            ],
            [
             0.7,
             "#b8e186"
            ],
            [
             0.8,
             "#7fbc41"
            ],
            [
             0.9,
             "#4d9221"
            ],
            [
             1,
             "#276419"
            ]
           ],
           "sequential": [
            [
             0,
             "#0d0887"
            ],
            [
             0.1111111111111111,
             "#46039f"
            ],
            [
             0.2222222222222222,
             "#7201a8"
            ],
            [
             0.3333333333333333,
             "#9c179e"
            ],
            [
             0.4444444444444444,
             "#bd3786"
            ],
            [
             0.5555555555555556,
             "#d8576b"
            ],
            [
             0.6666666666666666,
             "#ed7953"
            ],
            [
             0.7777777777777778,
             "#fb9f3a"
            ],
            [
             0.8888888888888888,
             "#fdca26"
            ],
            [
             1,
             "#f0f921"
            ]
           ],
           "sequentialminus": [
            [
             0,
             "#0d0887"
            ],
            [
             0.1111111111111111,
             "#46039f"
            ],
            [
             0.2222222222222222,
             "#7201a8"
            ],
            [
             0.3333333333333333,
             "#9c179e"
            ],
            [
             0.4444444444444444,
             "#bd3786"
            ],
            [
             0.5555555555555556,
             "#d8576b"
            ],
            [
             0.6666666666666666,
             "#ed7953"
            ],
            [
             0.7777777777777778,
             "#fb9f3a"
            ],
            [
             0.8888888888888888,
             "#fdca26"
            ],
            [
             1,
             "#f0f921"
            ]
           ]
          },
          "colorway": [
           "#636efa",
           "#EF553B",
           "#00cc96",
           "#ab63fa",
           "#FFA15A",
           "#19d3f3",
           "#FF6692",
           "#B6E880",
           "#FF97FF",
           "#FECB52"
          ],
          "font": {
           "color": "#2a3f5f"
          },
          "geo": {
           "bgcolor": "white",
           "lakecolor": "white",
           "landcolor": "#E5ECF6",
           "showlakes": true,
           "showland": true,
           "subunitcolor": "white"
          },
          "hoverlabel": {
           "align": "left"
          },
          "hovermode": "closest",
          "mapbox": {
           "style": "light"
          },
          "paper_bgcolor": "white",
          "plot_bgcolor": "#E5ECF6",
          "polar": {
           "angularaxis": {
            "gridcolor": "white",
            "linecolor": "white",
            "ticks": ""
           },
           "bgcolor": "#E5ECF6",
           "radialaxis": {
            "gridcolor": "white",
            "linecolor": "white",
            "ticks": ""
           }
          },
          "scene": {
           "xaxis": {
            "backgroundcolor": "#E5ECF6",
            "gridcolor": "white",
            "gridwidth": 2,
            "linecolor": "white",
            "showbackground": true,
            "ticks": "",
            "zerolinecolor": "white"
           },
           "yaxis": {
            "backgroundcolor": "#E5ECF6",
            "gridcolor": "white",
            "gridwidth": 2,
            "linecolor": "white",
            "showbackground": true,
            "ticks": "",
            "zerolinecolor": "white"
           },
           "zaxis": {
            "backgroundcolor": "#E5ECF6",
            "gridcolor": "white",
            "gridwidth": 2,
            "linecolor": "white",
            "showbackground": true,
            "ticks": "",
            "zerolinecolor": "white"
           }
          },
          "shapedefaults": {
           "line": {
            "color": "#2a3f5f"
           }
          },
          "ternary": {
           "aaxis": {
            "gridcolor": "white",
            "linecolor": "white",
            "ticks": ""
           },
           "baxis": {
            "gridcolor": "white",
            "linecolor": "white",
            "ticks": ""
           },
           "bgcolor": "#E5ECF6",
           "caxis": {
            "gridcolor": "white",
            "linecolor": "white",
            "ticks": ""
           }
          },
          "title": {
           "x": 0.05
          },
          "xaxis": {
           "automargin": true,
           "gridcolor": "white",
           "linecolor": "white",
           "ticks": "",
           "title": {
            "standoff": 15
           },
           "zerolinecolor": "white",
           "zerolinewidth": 2
          },
          "yaxis": {
           "automargin": true,
           "gridcolor": "white",
           "linecolor": "white",
           "ticks": "",
           "title": {
            "standoff": 15
           },
           "zerolinecolor": "white",
           "zerolinewidth": 2
          }
         }
        },
        "xaxis": {
         "autorange": true,
         "gridcolor": "#e5e5e5",
         "linecolor": "#e5e5e5",
         "range": [
          "2020-02-25 12:00",
          "2020-04-21 12:00"
         ],
         "tickfont": {
          "color": "#000000",
          "size": 12
         },
         "tickformat": "%d/%m",
         "title": {
          "text": ""
         },
         "type": "date",
         "zerolinecolor": "#e5e5e5"
        },
        "yaxis": {
         "autorange": true,
         "gridcolor": "#e5e5e5",
         "range": [
          0,
          1847.3684210526317
         ],
         "tickfont": {
          "color": "#000000",
          "size": 12
         },
         "tickformat": "n",
         "title": {
          "text": "Casos Confirmados"
         },
         "type": "linear",
         "zerolinecolor": "#e5e5e5"
        }
       }
      },
      "image/png": "[encoded data removed]",
      "text/html": [
       "<div>\n",
       "        \n",
       "        \n",
       "            <div id=\"9a06bf38-f200-4bda-8c40-59f640ff9fca\" class=\"plotly-graph-div\" style=\"height:525px; width:100%;\"></div>\n",
       "            <script type=\"text/javascript\">\n",
       "                require([\"plotly\"], function(Plotly) {\n",
       "                    window.PLOTLYENV=window.PLOTLYENV || {};\n",
       "                    \n",
       "                if (document.getElementById(\"9a06bf38-f200-4bda-8c40-59f640ff9fca\")) {\n",
       "                    Plotly.newPlot(\n",
       "                        '9a06bf38-f200-4bda-8c40-59f640ff9fca',\n",
       "                        [{\"hoverlabel\": {\"font\": {\"size\": 15}, \"namelength\": -1}, \"marker\": {\"color\": \"#EF4136\"}, \"name\": \"\\u00d3bitos\", \"type\": \"bar\", \"x\": [\"2020-04-21T00:00:00\", \"2020-04-20T00:00:00\", \"2020-04-19T00:00:00\", \"2020-04-18T00:00:00\", \"2020-04-17T00:00:00\", \"2020-04-16T00:00:00\", \"2020-04-15T00:00:00\", \"2020-04-14T00:00:00\", \"2020-04-13T00:00:00\", \"2020-04-12T00:00:00\", \"2020-04-11T00:00:00\", \"2020-04-10T00:00:00\", \"2020-04-09T00:00:00\", \"2020-04-08T00:00:00\", \"2020-04-07T00:00:00\", \"2020-04-06T00:00:00\", \"2020-04-05T00:00:00\", \"2020-04-04T00:00:00\", \"2020-04-03T00:00:00\", \"2020-04-02T00:00:00\", \"2020-04-01T00:00:00\", \"2020-03-31T00:00:00\", \"2020-03-30T00:00:00\", \"2020-03-29T00:00:00\", \"2020-03-28T00:00:00\", \"2020-03-27T00:00:00\", \"2020-03-26T00:00:00\", \"2020-03-25T00:00:00\", \"2020-03-24T00:00:00\", \"2020-03-23T00:00:00\", \"2020-03-22T00:00:00\", \"2020-03-21T00:00:00\", \"2020-03-20T00:00:00\", \"2020-03-19T00:00:00\", \"2020-03-18T00:00:00\", \"2020-03-17T00:00:00\", \"2020-03-16T00:00:00\", \"2020-03-15T00:00:00\", \"2020-03-14T00:00:00\", \"2020-03-13T00:00:00\", \"2020-03-12T00:00:00\", \"2020-03-11T00:00:00\", \"2020-03-10T00:00:00\", \"2020-03-09T00:00:00\", \"2020-03-08T00:00:00\", \"2020-03-07T00:00:00\", \"2020-03-06T00:00:00\", \"2020-03-05T00:00:00\", \"2020-03-04T00:00:00\", \"2020-03-03T00:00:00\", \"2020-03-02T00:00:00\", \"2020-03-01T00:00:00\", \"2020-02-29T00:00:00\", \"2020-02-28T00:00:00\", \"2020-02-27T00:00:00\", \"2020-02-26T00:00:00\"], \"y\": [56, 22, 24, 63, 75, 75, 83, 87, 20, 28, 20, 44, 68, 57, 67, 29, 15, 41, 31, 24, 28, 23, 15, 14, 16, 10, 10, 8, 10, 8, 7, 6, 5, 0, 3, 1, 0, 0, 0, 0, 0, 0, 0, 0, 0, 0, 0, 0, 0, 0, 0, 0, 0, 0, 0, 0]}, {\"hoverlabel\": {\"font\": {\"size\": 15}, \"namelength\": -1}, \"marker\": {\"color\": \"#0393D0\"}, \"name\": \"Confirmados\", \"type\": \"bar\", \"x\": [\"2020-04-21T00:00:00\", \"2020-04-20T00:00:00\", \"2020-04-19T00:00:00\", \"2020-04-18T00:00:00\", \"2020-04-17T00:00:00\", \"2020-04-16T00:00:00\", \"2020-04-15T00:00:00\", \"2020-04-14T00:00:00\", \"2020-04-13T00:00:00\", \"2020-04-12T00:00:00\", \"2020-04-11T00:00:00\", \"2020-04-10T00:00:00\", \"2020-04-09T00:00:00\", \"2020-04-08T00:00:00\", \"2020-04-07T00:00:00\", \"2020-04-06T00:00:00\", \"2020-04-05T00:00:00\", \"2020-04-04T00:00:00\", \"2020-04-03T00:00:00\", \"2020-04-02T00:00:00\", \"2020-04-01T00:00:00\", \"2020-03-31T00:00:00\", \"2020-03-30T00:00:00\", \"2020-03-29T00:00:00\", \"2020-03-28T00:00:00\", \"2020-03-27T00:00:00\", \"2020-03-26T00:00:00\", \"2020-03-25T00:00:00\", \"2020-03-24T00:00:00\", \"2020-03-23T00:00:00\", \"2020-03-22T00:00:00\", \"2020-03-21T00:00:00\", \"2020-03-20T00:00:00\", \"2020-03-19T00:00:00\", \"2020-03-18T00:00:00\", \"2020-03-17T00:00:00\", \"2020-03-16T00:00:00\", \"2020-03-15T00:00:00\", \"2020-03-14T00:00:00\", \"2020-03-13T00:00:00\", \"2020-03-12T00:00:00\", \"2020-03-11T00:00:00\", \"2020-03-10T00:00:00\", \"2020-03-09T00:00:00\", \"2020-03-08T00:00:00\", \"2020-03-07T00:00:00\", \"2020-03-06T00:00:00\", \"2020-03-05T00:00:00\", \"2020-03-04T00:00:00\", \"2020-03-03T00:00:00\", \"2020-03-02T00:00:00\", \"2020-03-01T00:00:00\", \"2020-02-29T00:00:00\", \"2020-02-28T00:00:00\", \"2020-02-27T00:00:00\", \"2020-02-26T00:00:00\"], \"y\": [805, 313, 373, 1053, 1273, 525, 1672, 476, 140, 336, 203, 736, 772, 1026, 816, 246, 154, 418, 542, 525, 642, 822, 66, 45, 183, 171, 190, 52, 65, 114, 172, 63, 110, 46, 76, 12, 16, 71, 9, 14, 12, 11, 3, 0, 3, 3, 4, 3, 1, 0, 0, 0, 1, 0, 0, 1]}],\n",
       "                        {\"annotations\": [{\"align\": \"left\", \"font\": {\"color\": \"#000000\", \"family\": \"Courier New, monospace\", \"size\": 16}, \"showarrow\": false, \"text\": \"<b><b>\", \"x\": -0.04, \"xref\": \"paper\", \"xshift\": 0, \"y\": -0.14, \"yref\": \"paper\", \"yshift\": 0}], \"autosize\": true, \"barmode\": \"stack\", \"font\": {\"color\": \"#000000\", \"size\": 12}, \"hovermode\": \"x\", \"legend\": {\"bgcolor\": \"rgba(0,0,0,0)\", \"bordercolor\": \"rgba(0,0,0,0)\", \"borderwidth\": 0, \"font\": {\"color\": \"#000000\", \"family\": \"Courier New, monospace\", \"size\": 10}, \"orientation\": \"h\", \"traceorder\": \"reversed\"}, \"margin\": {\"b\": 10, \"l\": 10, \"r\": 10, \"t\": 10}, \"paper_bgcolor\": \"#FFFFFF\", \"plot_bgcolor\": \"rgba(0,0,0,0)\", \"template\": {\"data\": {\"bar\": [{\"error_x\": {\"color\": \"#2a3f5f\"}, \"error_y\": {\"color\": \"#2a3f5f\"}, \"marker\": {\"line\": {\"color\": \"#E5ECF6\", \"width\": 0.5}}, \"type\": \"bar\"}], \"barpolar\": [{\"marker\": {\"line\": {\"color\": \"#E5ECF6\", \"width\": 0.5}}, \"type\": \"barpolar\"}], \"carpet\": [{\"aaxis\": {\"endlinecolor\": \"#2a3f5f\", \"gridcolor\": \"white\", \"linecolor\": \"white\", \"minorgridcolor\": \"white\", \"startlinecolor\": \"#2a3f5f\"}, \"baxis\": {\"endlinecolor\": \"#2a3f5f\", \"gridcolor\": \"white\", \"linecolor\": \"white\", \"minorgridcolor\": \"white\", \"startlinecolor\": \"#2a3f5f\"}, \"type\": \"carpet\"}], \"choropleth\": [{\"colorbar\": {\"outlinewidth\": 0, \"ticks\": \"\"}, \"type\": \"choropleth\"}], \"contour\": [{\"colorbar\": {\"outlinewidth\": 0, \"ticks\": \"\"}, \"colorscale\": [[0.0, \"#0d0887\"], [0.1111111111111111, \"#46039f\"], [0.2222222222222222, \"#7201a8\"], [0.3333333333333333, \"#9c179e\"], [0.4444444444444444, \"#bd3786\"], [0.5555555555555556, \"#d8576b\"], [0.6666666666666666, \"#ed7953\"], [0.7777777777777778, \"#fb9f3a\"], [0.8888888888888888, \"#fdca26\"], [1.0, \"#f0f921\"]], \"type\": \"contour\"}], \"contourcarpet\": [{\"colorbar\": {\"outlinewidth\": 0, \"ticks\": \"\"}, \"type\": \"contourcarpet\"}], \"heatmap\": [{\"colorbar\": {\"outlinewidth\": 0, \"ticks\": \"\"}, \"colorscale\": [[0.0, \"#0d0887\"], [0.1111111111111111, \"#46039f\"], [0.2222222222222222, \"#7201a8\"], [0.3333333333333333, \"#9c179e\"], [0.4444444444444444, \"#bd3786\"], [0.5555555555555556, \"#d8576b\"], [0.6666666666666666, \"#ed7953\"], [0.7777777777777778, \"#fb9f3a\"], [0.8888888888888888, \"#fdca26\"], [1.0, \"#f0f921\"]], \"type\": \"heatmap\"}], \"heatmapgl\": [{\"colorbar\": {\"outlinewidth\": 0, \"ticks\": \"\"}, \"colorscale\": [[0.0, \"#0d0887\"], [0.1111111111111111, \"#46039f\"], [0.2222222222222222, \"#7201a8\"], [0.3333333333333333, \"#9c179e\"], [0.4444444444444444, \"#bd3786\"], [0.5555555555555556, \"#d8576b\"], [0.6666666666666666, \"#ed7953\"], [0.7777777777777778, \"#fb9f3a\"], [0.8888888888888888, \"#fdca26\"], [1.0, \"#f0f921\"]], \"type\": \"heatmapgl\"}], \"histogram\": [{\"marker\": {\"colorbar\": {\"outlinewidth\": 0, \"ticks\": \"\"}}, \"type\": \"histogram\"}], \"histogram2d\": [{\"colorbar\": {\"outlinewidth\": 0, \"ticks\": \"\"}, \"colorscale\": [[0.0, \"#0d0887\"], [0.1111111111111111, \"#46039f\"], [0.2222222222222222, \"#7201a8\"], [0.3333333333333333, \"#9c179e\"], [0.4444444444444444, \"#bd3786\"], [0.5555555555555556, \"#d8576b\"], [0.6666666666666666, \"#ed7953\"], [0.7777777777777778, \"#fb9f3a\"], [0.8888888888888888, \"#fdca26\"], [1.0, \"#f0f921\"]], \"type\": \"histogram2d\"}], \"histogram2dcontour\": [{\"colorbar\": {\"outlinewidth\": 0, \"ticks\": \"\"}, \"colorscale\": [[0.0, \"#0d0887\"], [0.1111111111111111, \"#46039f\"], [0.2222222222222222, \"#7201a8\"], [0.3333333333333333, \"#9c179e\"], [0.4444444444444444, \"#bd3786\"], [0.5555555555555556, \"#d8576b\"], [0.6666666666666666, \"#ed7953\"], [0.7777777777777778, \"#fb9f3a\"], [0.8888888888888888, \"#fdca26\"], [1.0, \"#f0f921\"]], \"type\": \"histogram2dcontour\"}], \"mesh3d\": [{\"colorbar\": {\"outlinewidth\": 0, \"ticks\": \"\"}, \"type\": \"mesh3d\"}], \"parcoords\": [{\"line\": {\"colorbar\": {\"outlinewidth\": 0, \"ticks\": \"\"}}, \"type\": \"parcoords\"}], \"pie\": [{\"automargin\": true, \"type\": \"pie\"}], \"scatter\": [{\"marker\": {\"colorbar\": {\"outlinewidth\": 0, \"ticks\": \"\"}}, \"type\": \"scatter\"}], \"scatter3d\": [{\"line\": {\"colorbar\": {\"outlinewidth\": 0, \"ticks\": \"\"}}, \"marker\": {\"colorbar\": {\"outlinewidth\": 0, \"ticks\": \"\"}}, \"type\": \"scatter3d\"}], \"scattercarpet\": [{\"marker\": {\"colorbar\": {\"outlinewidth\": 0, \"ticks\": \"\"}}, \"type\": \"scattercarpet\"}], \"scattergeo\": [{\"marker\": {\"colorbar\": {\"outlinewidth\": 0, \"ticks\": \"\"}}, \"type\": \"scattergeo\"}], \"scattergl\": [{\"marker\": {\"colorbar\": {\"outlinewidth\": 0, \"ticks\": \"\"}}, \"type\": \"scattergl\"}], \"scattermapbox\": [{\"marker\": {\"colorbar\": {\"outlinewidth\": 0, \"ticks\": \"\"}}, \"type\": \"scattermapbox\"}], \"scatterpolar\": [{\"marker\": {\"colorbar\": {\"outlinewidth\": 0, \"ticks\": \"\"}}, \"type\": \"scatterpolar\"}], \"scatterpolargl\": [{\"marker\": {\"colorbar\": {\"outlinewidth\": 0, \"ticks\": \"\"}}, \"type\": \"scatterpolargl\"}], \"scatterternary\": [{\"marker\": {\"colorbar\": {\"outlinewidth\": 0, \"ticks\": \"\"}}, \"type\": \"scatterternary\"}], \"surface\": [{\"colorbar\": {\"outlinewidth\": 0, \"ticks\": \"\"}, \"colorscale\": [[0.0, \"#0d0887\"], [0.1111111111111111, \"#46039f\"], [0.2222222222222222, \"#7201a8\"], [0.3333333333333333, \"#9c179e\"], [0.4444444444444444, \"#bd3786\"], [0.5555555555555556, \"#d8576b\"], [0.6666666666666666, \"#ed7953\"], [0.7777777777777778, \"#fb9f3a\"], [0.8888888888888888, \"#fdca26\"], [1.0, \"#f0f921\"]], \"type\": \"surface\"}], \"table\": [{\"cells\": {\"fill\": {\"color\": \"#EBF0F8\"}, \"line\": {\"color\": \"white\"}}, \"header\": {\"fill\": {\"color\": \"#C8D4E3\"}, \"line\": {\"color\": \"white\"}}, \"type\": \"table\"}]}, \"layout\": {\"annotationdefaults\": {\"arrowcolor\": \"#2a3f5f\", \"arrowhead\": 0, \"arrowwidth\": 1}, \"coloraxis\": {\"colorbar\": {\"outlinewidth\": 0, \"ticks\": \"\"}}, \"colorscale\": {\"diverging\": [[0, \"#8e0152\"], [0.1, \"#c51b7d\"], [0.2, \"#de77ae\"], [0.3, \"#f1b6da\"], [0.4, \"#fde0ef\"], [0.5, \"#f7f7f7\"], [0.6, \"#e6f5d0\"], [0.7, \"#b8e186\"], [0.8, \"#7fbc41\"], [0.9, \"#4d9221\"], [1, \"#276419\"]], \"sequential\": [[0.0, \"#0d0887\"], [0.1111111111111111, \"#46039f\"], [0.2222222222222222, \"#7201a8\"], [0.3333333333333333, \"#9c179e\"], [0.4444444444444444, \"#bd3786\"], [0.5555555555555556, \"#d8576b\"], [0.6666666666666666, \"#ed7953\"], [0.7777777777777778, \"#fb9f3a\"], [0.8888888888888888, \"#fdca26\"], [1.0, \"#f0f921\"]], \"sequentialminus\": [[0.0, \"#0d0887\"], [0.1111111111111111, \"#46039f\"], [0.2222222222222222, \"#7201a8\"], [0.3333333333333333, \"#9c179e\"], [0.4444444444444444, \"#bd3786\"], [0.5555555555555556, \"#d8576b\"], [0.6666666666666666, \"#ed7953\"], [0.7777777777777778, \"#fb9f3a\"], [0.8888888888888888, \"#fdca26\"], [1.0, \"#f0f921\"]]}, \"colorway\": [\"#636efa\", \"#EF553B\", \"#00cc96\", \"#ab63fa\", \"#FFA15A\", \"#19d3f3\", \"#FF6692\", \"#B6E880\", \"#FF97FF\", \"#FECB52\"], \"font\": {\"color\": \"#2a3f5f\"}, \"geo\": {\"bgcolor\": \"white\", \"lakecolor\": \"white\", \"landcolor\": \"#E5ECF6\", \"showlakes\": true, \"showland\": true, \"subunitcolor\": \"white\"}, \"hoverlabel\": {\"align\": \"left\"}, \"hovermode\": \"closest\", \"mapbox\": {\"style\": \"light\"}, \"paper_bgcolor\": \"white\", \"plot_bgcolor\": \"#E5ECF6\", \"polar\": {\"angularaxis\": {\"gridcolor\": \"white\", \"linecolor\": \"white\", \"ticks\": \"\"}, \"bgcolor\": \"#E5ECF6\", \"radialaxis\": {\"gridcolor\": \"white\", \"linecolor\": \"white\", \"ticks\": \"\"}}, \"scene\": {\"xaxis\": {\"backgroundcolor\": \"#E5ECF6\", \"gridcolor\": \"white\", \"gridwidth\": 2, \"linecolor\": \"white\", \"showbackground\": true, \"ticks\": \"\", \"zerolinecolor\": \"white\"}, \"yaxis\": {\"backgroundcolor\": \"#E5ECF6\", \"gridcolor\": \"white\", \"gridwidth\": 2, \"linecolor\": \"white\", \"showbackground\": true, \"ticks\": \"\", \"zerolinecolor\": \"white\"}, \"zaxis\": {\"backgroundcolor\": \"#E5ECF6\", \"gridcolor\": \"white\", \"gridwidth\": 2, \"linecolor\": \"white\", \"showbackground\": true, \"ticks\": \"\", \"zerolinecolor\": \"white\"}}, \"shapedefaults\": {\"line\": {\"color\": \"#2a3f5f\"}}, \"ternary\": {\"aaxis\": {\"gridcolor\": \"white\", \"linecolor\": \"white\", \"ticks\": \"\"}, \"baxis\": {\"gridcolor\": \"white\", \"linecolor\": \"white\", \"ticks\": \"\"}, \"bgcolor\": \"#E5ECF6\", \"caxis\": {\"gridcolor\": \"white\", \"linecolor\": \"white\", \"ticks\": \"\"}}, \"title\": {\"x\": 0.05}, \"xaxis\": {\"automargin\": true, \"gridcolor\": \"white\", \"linecolor\": \"white\", \"ticks\": \"\", \"title\": {\"standoff\": 15}, \"zerolinecolor\": \"white\", \"zerolinewidth\": 2}, \"yaxis\": {\"automargin\": true, \"gridcolor\": \"white\", \"linecolor\": \"white\", \"ticks\": \"\", \"title\": {\"standoff\": 15}, \"zerolinecolor\": \"white\", \"zerolinewidth\": 2}}}, \"xaxis\": {\"gridcolor\": \"#e5e5e5\", \"linecolor\": \"#e5e5e5\", \"tickfont\": {\"color\": \"#000000\", \"size\": 12}, \"tickformat\": \"%d/%m\", \"title\": {\"text\": \"\"}, \"type\": \"date\", \"zerolinecolor\": \"#e5e5e5\"}, \"yaxis\": {\"gridcolor\": \"#e5e5e5\", \"tickfont\": {\"color\": \"#000000\", \"size\": 12}, \"tickformat\": \"n\", \"title\": {\"text\": \"Casos Confirmados\"}, \"type\": \"linear\", \"zerolinecolor\": \"#e5e5e5\"}},\n",
       "                        {\"responsive\": true}\n",
       "                    ).then(function(){\n",
       "                            \n",
       "var gd = document.getElementById('9a06bf38-f200-4bda-8c40-59f640ff9fca');\n",
       "var x = new MutationObserver(function (mutations, observer) {{\n",
       "        var display = window.getComputedStyle(gd).display;\n",
       "        if (!display || display === 'none') {{\n",
       "            console.log([gd, 'removed!']);\n",
       "            Plotly.purge(gd);\n",
       "            observer.disconnect();\n",
       "        }}\n",
       "}});\n",
       "\n",
       "// Listen for the removal of the full notebook cells\n",
       "var notebookContainer = gd.closest('#notebook-container');\n",
       "if (notebookContainer) {{\n",
       "    x.observe(notebookContainer, {childList: true});\n",
       "}}\n",
       "\n",
       "// Listen for the clearing of the current output cell\n",
       "var outputEl = gd.closest('.output');\n",
       "if (outputEl) {{\n",
       "    x.observe(outputEl, {childList: true});\n",
       "}}\n",
       "\n",
       "                        })\n",
       "                };\n",
       "                });\n",
       "            </script>\n",
       "        </div>"
      ]
     },
     "metadata": {},
     "output_type": "display_data"
    }
   ],
   "source": [
    "fig"
   ]
  },
  {
   "cell_type": "code",
   "execution_count": null,
   "metadata": {},
   "outputs": [],
   "source": []
  },
  {
   "cell_type": "code",
   "execution_count": null,
   "metadata": {},
   "outputs": [],
   "source": []
  },
  {
   "cell_type": "code",
   "execution_count": null,
   "metadata": {},
   "outputs": [],
   "source": []
  },
  {
   "cell_type": "code",
   "execution_count": null,
   "metadata": {},
   "outputs": [],
   "source": []
  },
  {
   "cell_type": "code",
   "execution_count": null,
   "metadata": {},
   "outputs": [],
   "source": []
  },
  {
   "cell_type": "code",
   "execution_count": null,
   "metadata": {},
   "outputs": [],
   "source": []
  },
  {
   "cell_type": "code",
   "execution_count": null,
   "metadata": {},
   "outputs": [],
   "source": []
  },
  {
   "cell_type": "markdown",
   "metadata": {},
   "source": [
    "## MAPS"
   ]
  },
  {
   "cell_type": "code",
   "execution_count": 17,
   "metadata": {},
   "outputs": [],
   "source": [
    "def _generate_and_upload_br_map(final, estados, map_config):\n",
    "    #generate map\n",
    "    cols = ['Município','Estado','Confirmados', 'Óbitos', 'Data do Boletim']\n",
    "    \n",
    "    print('Generate and save br map..')\n",
    "    mymap =  vis_maps.get_map(final,'Confirmados', cols, estados)\n",
    "    mymap.save(f'{map_config[\"path_save\"]}{map_config[\"save_name\"]}')\n",
    "\n",
    "    print('Upload br map..')\n",
    "    io.to_storage(bucket=map_config['bucket'],\n",
    "              bucket_folder=map_config['bucket_folder'],\n",
    "              file_name=map_config['save_name'],\n",
    "              path_to_file=f'{map_config[\"path_save\"]}{map_config[\"save_name\"]}')\n",
    "    \n",
    "    os.remove(f'{map_config[\"path_save\"]}{map_config[\"save_name\"]}')"
   ]
  },
  {
   "cell_type": "code",
   "execution_count": 18,
   "metadata": {},
   "outputs": [
    {
     "name": "stdout",
     "output_type": "stream",
     "text": [
      "Start Br Map\n"
     ]
    }
   ],
   "source": [
    "print('Start Br Map')\n",
    "#minicipales data\n",
    "municipios = pd.read_csv('../data/br_municipios_ibge.csv', dtype={'geocodigo':str})\n",
    "df = brio.copy()\n",
    "\n",
    "#load shape files;\n",
    "ufs = gpd.read_file('../../mapas_brasil/estados-ibge/BRUFE250GC_SIR.shp')\n",
    "maps = gpd.read_file('../../mapas_brasil/municipios-ibge/brasil-municipios.shp')"
   ]
  },
  {
   "cell_type": "code",
   "execution_count": 19,
   "metadata": {},
   "outputs": [],
   "source": [
    "from scripts import manipulation\n",
    "from scripts import vis_maps\n",
    "\n",
    "config = yaml.load(open('../configs/config.yaml', 'r'), Loader=yaml.FullLoader)\n",
    "\n",
    "#prepare data for map\n",
    "final, estados = manipulation.manipulate_for_br_maps(brio, municipios, maps, df_states.drop(['regiao'],1), ufs)\n",
    "\n",
    "# _generate_and_upload_br_map(final, estados, config['br_map'])"
   ]
  },
  {
   "cell_type": "code",
   "execution_count": null,
   "metadata": {},
   "outputs": [],
   "source": []
  },
  {
   "cell_type": "code",
   "execution_count": null,
   "metadata": {},
   "outputs": [],
   "source": []
  },
  {
   "cell_type": "code",
   "execution_count": null,
   "metadata": {},
   "outputs": [],
   "source": []
  },
  {
   "cell_type": "markdown",
   "metadata": {},
   "source": [
    "## Vale"
   ]
  },
  {
   "cell_type": "code",
   "execution_count": 21,
   "metadata": {},
   "outputs": [],
   "source": [
    "def _generate_and_upload_vale_map(vale, estados, map_config):\n",
    "    #generate map\n",
    "    cols = ['Município','Confirmados','Confirmados Internados','Óbitos','Óbitos Suspeitos','Suspeitos','Suspeitos Internados','Recuperados','Descartados','Data do Boletim']\n",
    "    \n",
    "    print('Generate and save vale map..')\n",
    "    mymap =  vis_maps.get_map_vale(vale,'Confirmados', cols, estados)\n",
    "    mymap.save(f'{map_config[\"path_save\"]}{map_config[\"save_name\"]}')\n",
    "\n",
    "    print('Map Done!')\n",
    "#     io.to_storage(bucket=map_config['bucket'],\n",
    "#               bucket_folder=map_config['bucket_folder'],\n",
    "#               file_name=map_config['save_name'],\n",
    "#               path_to_file=f'{map_config[\"path_save\"]}{map_config[\"save_name\"]}')\n",
    "    \n",
    "#     os.remove(f'{map_config[\"path_save\"]}{map_config[\"save_name\"]}')\n",
    "#     return(mymap)"
   ]
  },
  {
   "cell_type": "code",
   "execution_count": 22,
   "metadata": {},
   "outputs": [],
   "source": [
    "\n",
    "from scripts.io import read_sheets\n",
    "from scripts import manipulation\n",
    "#download and manipulate vale data\n",
    "df = read_sheets('covid19_vale_do_paraiba_e_litoral_norte')\n",
    "df = manipulation.manipulate_vale_data(df)\n",
    "\n",
    "#load shape files\n",
    "municipios_sp = gpd.read_file('../../brasil_geodata/maps/sp_municipios.json')\n",
    "ufs = gpd.read_file('../../mapas_brasil/estados-ibge/BRUFE250GC_SIR.shp')\n"
   ]
  },
  {
   "cell_type": "code",
   "execution_count": 24,
   "metadata": {},
   "outputs": [
    {
     "name": "stdout",
     "output_type": "stream",
     "text": [
      "Generate and save vale map..\n",
      "Map Done!\n"
     ]
    }
   ],
   "source": [
    "## Manipulate data for generate map\n",
    "config = yaml.load(open('../configs/config.yaml', 'r'), Loader=yaml.FullLoader)\n",
    "\n",
    "vale, estados = manipulation.manipulate_for_vale_maps(df, municipios_sp, estados)\n",
    "\n",
    "_generate_and_upload_vale_map(vale, estados, config['vale_map'])\n"
   ]
  },
  {
   "cell_type": "code",
   "execution_count": null,
   "metadata": {},
   "outputs": [],
   "source": []
  },
  {
   "cell_type": "code",
   "execution_count": null,
   "metadata": {},
   "outputs": [],
   "source": []
  },
  {
   "cell_type": "code",
   "execution_count": null,
   "metadata": {},
   "outputs": [],
   "source": []
  },
  {
   "cell_type": "code",
   "execution_count": null,
   "metadata": {},
   "outputs": [],
   "source": []
  },
  {
   "cell_type": "code",
   "execution_count": null,
   "metadata": {},
   "outputs": [],
   "source": []
  },
  {
   "cell_type": "code",
   "execution_count": 121,
   "metadata": {},
   "outputs": [],
   "source": [
    "#https://pypi.org/project/ftpretty/\n",
    "from ftpretty import ftpretty\n",
    "import ftplib\n",
    "import yaml\n",
    "import os\n",
    "credentials = yaml.load(open('../../credentials/ftp_credentials.yaml', 'r'), Loader=yaml.FullLoader)\n"
   ]
  },
  {
   "cell_type": "code",
   "execution_count": 122,
   "metadata": {},
   "outputs": [],
   "source": [
    "host = credentials['ftp']['host']\n",
    "user = credentials['ftp']['user']\n",
    "pw   = credentials['ftp']['pw']\n",
    "\n",
    "f = ftpretty(host, user, pw)"
   ]
  },
  {
   "cell_type": "markdown",
   "metadata": {},
   "source": [
    "### Upload sv site"
   ]
  },
  {
   "cell_type": "code",
   "execution_count": 123,
   "metadata": {},
   "outputs": [
    {
     "name": "stdout",
     "output_type": "stream",
     "text": [
      "CPU times: user 40.2 ms, sys: 34.3 ms, total: 74.5 ms\n",
      "Wall time: 47.4 s\n"
     ]
    },
    {
     "data": {
      "text/plain": [
       "'public_html/coronavirus'"
      ]
     },
     "execution_count": 123,
     "metadata": {},
     "output_type": "execute_result"
    }
   ],
   "source": [
    "%%time\n",
    "local_folder  = '../site/sv_br_vale/coronavirus'\n",
    "remote_folder = 'public_html/coronavirus'\n",
    "\n",
    "f.upload_tree(local_folder, remote_folder)"
   ]
  },
  {
   "cell_type": "code",
   "execution_count": null,
   "metadata": {},
   "outputs": [],
   "source": []
  },
  {
   "cell_type": "code",
   "execution_count": null,
   "metadata": {},
   "outputs": [],
   "source": []
  },
  {
   "cell_type": "code",
   "execution_count": null,
   "metadata": {},
   "outputs": [],
   "source": []
  },
  {
   "cell_type": "code",
   "execution_count": null,
   "metadata": {},
   "outputs": [],
   "source": []
  },
  {
   "cell_type": "code",
   "execution_count": null,
   "metadata": {},
   "outputs": [],
   "source": []
  },
  {
   "cell_type": "code",
   "execution_count": null,
   "metadata": {},
   "outputs": [],
   "source": []
  },
  {
   "cell_type": "code",
   "execution_count": null,
   "metadata": {},
   "outputs": [],
   "source": []
  },
  {
   "cell_type": "code",
   "execution_count": null,
   "metadata": {},
   "outputs": [],
   "source": []
  },
  {
   "cell_type": "code",
   "execution_count": null,
   "metadata": {},
   "outputs": [],
   "source": []
  },
  {
   "cell_type": "code",
   "execution_count": null,
   "metadata": {},
   "outputs": [],
   "source": []
  },
  {
   "cell_type": "code",
   "execution_count": null,
   "metadata": {},
   "outputs": [],
   "source": []
  },
  {
   "cell_type": "code",
   "execution_count": null,
   "metadata": {},
   "outputs": [],
   "source": []
  },
  {
   "cell_type": "code",
   "execution_count": null,
   "metadata": {},
   "outputs": [],
   "source": []
  },
  {
   "cell_type": "code",
   "execution_count": null,
   "metadata": {},
   "outputs": [],
   "source": []
  },
  {
   "cell_type": "code",
   "execution_count": null,
   "metadata": {},
   "outputs": [],
   "source": []
  },
  {
   "cell_type": "code",
   "execution_count": null,
   "metadata": {},
   "outputs": [],
   "source": []
  },
  {
   "cell_type": "code",
   "execution_count": null,
   "metadata": {},
   "outputs": [],
   "source": []
  },
  {
   "cell_type": "code",
   "execution_count": null,
   "metadata": {},
   "outputs": [],
   "source": []
  },
  {
   "cell_type": "code",
   "execution_count": null,
   "metadata": {},
   "outputs": [],
   "source": []
  },
  {
   "cell_type": "code",
   "execution_count": null,
   "metadata": {},
   "outputs": [],
   "source": []
  },
  {
   "cell_type": "code",
   "execution_count": null,
   "metadata": {},
   "outputs": [],
   "source": []
  },
  {
   "cell_type": "code",
   "execution_count": null,
   "metadata": {},
   "outputs": [],
   "source": []
  }
 ],
 "metadata": {
  "kernelspec": {
   "display_name": "Python 3",
   "language": "python",
   "name": "python3"
  },
  "language_info": {
   "codemirror_mode": {
    "name": "ipython",
    "version": 3
   },
   "file_extension": ".py",
   "mimetype": "text/x-python",
   "name": "python",
   "nbconvert_exporter": "python",
   "pygments_lexer": "ipython3",
   "version": "3.7.4"
  }
 },
 "nbformat": 4,
 "nbformat_minor": 4
}
