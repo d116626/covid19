{
 "cells": [
  {
   "cell_type": "code",
   "execution_count": 51,
   "metadata": {},
   "outputs": [],
   "source": [
    "%reload_ext autoreload\n",
    "%autoreload 2\n",
    "\n",
    "import warnings\n",
    "warnings.filterwarnings('ignore')\n",
    "\n",
    "import numpy as np\n",
    "import pandas as pd\n",
    "pd.options.display.max_columns = 999\n",
    "pd.options.display.max_rows = 999\n",
    "\n",
    "pd.options.display.max_colwidth = 100\n",
    "\n",
    "import plotly.graph_objs as go\n",
    "from plotly.offline import download_plotlyjs, init_notebook_mode, plot, iplot, offline\n",
    "import plotly.express as px\n",
    "import seaborn as sns\n",
    "import matplotlib.pyplot as plt\n",
    "\n",
    "import requests\n",
    "\n",
    "from os import listdir\n",
    "import unicodedata\n",
    "\n",
    "from paths import *\n",
    "from tools.vizu import remove_acentos\n",
    "from tools.vizu import normalize_cols\n",
    "from tools.io import read_sheets\n",
    "\n",
    "\n",
    "from datetime import datetime\n",
    "today = datetime.today().strftime('%Y-%m-%d')\n"
   ]
  },
  {
   "cell_type": "markdown",
   "metadata": {},
   "source": [
    "# Import Data"
   ]
  },
  {
   "cell_type": "markdown",
   "metadata": {},
   "source": [
    "# Brasil.IO"
   ]
  },
  {
   "cell_type": "code",
   "execution_count": 52,
   "metadata": {},
   "outputs": [],
   "source": [
    "import json\n",
    "\n",
    "url = \"https://brasil.io/api/dataset/covid19/caso/data?format=json\"\n",
    "response = requests.get(url)\n",
    "data = response.text\n",
    "parsed = json.loads(data)"
   ]
  },
  {
   "cell_type": "code",
   "execution_count": 53,
   "metadata": {},
   "outputs": [],
   "source": [
    "df = pd.DataFrame(parsed['results']).sort_values(by='confirmed',ascending=False)\n",
    "\n",
    "### GET ONLY DA STATES TO MAKE THE BRASIL DATA\n",
    "mask = df['place_type'] == 'state'\n",
    "df['city'] = np.where(mask,df['state'],df['city'] )\n",
    "\n",
    "### SUM STATES DATA\n",
    "mask = (df['place_type']=='state')\n",
    "df_brasil = df[mask].groupby(by=['date'], as_index=False).sum()\n",
    "\n",
    "### FILL DATA FOR BRASIL\n",
    "df_brasil['city']='Brasil'\n",
    "df_brasil['city_ibge_code']=0\n",
    "df_brasil['estimated_population_2019'] = 209*10**6\n",
    "df_brasil['is_last'] = [False for i in range(len(df_brasil)-1)] + [True]\n",
    "df_brasil['place_type'] = 'country'\n",
    "df_brasil['state'] = 'BR'\n",
    "\n"
   ]
  },
  {
   "cell_type": "code",
   "execution_count": 54,
   "metadata": {},
   "outputs": [],
   "source": [
    "### SUM STATES DATA\n",
    "mask = (df['place_type']=='state') & (df['state']!='SP')\n",
    "not_sp = df[mask].groupby(by=['date'], as_index=False).sum()\n",
    "\n",
    "### FILL DATA FOR BRASIL\n",
    "not_sp['city']='Exceto SP'\n",
    "not_sp['city_ibge_code']=1\n",
    "not_sp['estimated_population_2019'] = 209*10**6 - 45919049\n",
    "not_sp['is_last'] = [False for i in range(len(not_sp)-1)] + [True]\n",
    "not_sp['place_type'] = 'state'\n",
    "not_sp['state'] = 'not_sp'"
   ]
  },
  {
   "cell_type": "code",
   "execution_count": 55,
   "metadata": {},
   "outputs": [],
   "source": [
    "### PUT BRASIL DATA IN DF\n",
    "df = pd.concat([df_brasil[df.columns],not_sp[df.columns],df],axis=0)\n",
    "\n",
    "\n",
    "### GET ONLY LAST DAY\n",
    "mask = df['date'] < today\n",
    "df = df[mask]\n",
    "\n",
    "df = df.sort_values(by=['date'],ascending=False)\n",
    "df = df.sort_values(by=['confirmed'],ascending=False)"
   ]
  },
  {
   "cell_type": "code",
   "execution_count": 56,
   "metadata": {},
   "outputs": [],
   "source": [
    "# mask = df['city'].isin(['Brasil','Exceto SP','SP','RJ'])\n",
    "mask = ((df['place_type']!='city'))\n",
    "dd = df[mask]\n",
    "\n",
    "dd = dd.sort_values(by=['date'],ascending=False)\n"
   ]
  },
  {
   "cell_type": "code",
   "execution_count": 57,
   "metadata": {},
   "outputs": [],
   "source": [
    "# in_cities = ['Brasil','Exceto SP' ,'SP', 'RJ']\n",
    "in_cities = ['Brasil','SP', 'RJ']\n",
    "\n",
    "cities = dd['city'].unique()\n",
    "drop_cities = [city for city in cities if city not in in_cities]\n",
    "cidades.sort()\n",
    "\n",
    "cities = in_cities + drop_cities"
   ]
  },
  {
   "cell_type": "code",
   "execution_count": 58,
   "metadata": {},
   "outputs": [
    {
     "data": {
      "application/vnd.plotly.v1+json": {
       "config": {
        "plotlyServerURL": "https://plot.ly"
       },
       "data": [
        {
         "hoverlabel": {
          "font": {
           "size": 18
          },
          "namelength": -1
         },
         "line": {
          "width": 10
         },
         "marker": {
          "size": 15
         },
         "mode": "lines+markers",
         "name": "Brasil",
         "type": "scatter",
         "x": [
          "2020-03-23",
          "2020-03-22",
          "2020-03-21",
          "2020-03-20",
          "2020-03-19",
          "2020-03-18",
          "2020-03-17",
          "2020-03-16",
          "2020-03-15",
          "2020-03-14",
          "2020-03-13",
          "2020-03-12"
         ],
         "y": [
          34,
          25,
          18,
          9,
          7,
          3,
          1,
          0,
          0,
          0,
          0,
          0
         ]
        },
        {
         "hoverlabel": {
          "font": {
           "size": 18
          },
          "namelength": -1
         },
         "line": {
          "width": 10
         },
         "marker": {
          "size": 15
         },
         "mode": "lines+markers",
         "name": "SP",
         "type": "scatter",
         "x": [
          "2020-03-23",
          "2020-03-22",
          "2020-03-21",
          "2020-03-20",
          "2020-03-19",
          "2020-03-18",
          "2020-03-17",
          "2020-03-14"
         ],
         "y": [
          30,
          22,
          15,
          9,
          5,
          3,
          1,
          0
         ]
        },
        {
         "hoverlabel": {
          "font": {
           "size": 18
          },
          "namelength": -1
         },
         "line": {
          "width": 10
         },
         "marker": {
          "size": 15
         },
         "mode": "lines+markers",
         "name": "RJ",
         "type": "scatter",
         "x": [
          "2020-03-23",
          "2020-03-22",
          "2020-03-21",
          "2020-03-19",
          "2020-03-18",
          "2020-03-16",
          "2020-03-15"
         ],
         "y": [
          4,
          3,
          3,
          2,
          0,
          0,
          0
         ]
        },
        {
         "hoverlabel": {
          "font": {
           "size": 18
          },
          "namelength": -1
         },
         "line": {
          "width": 10
         },
         "marker": {
          "size": 15
         },
         "mode": "lines+markers",
         "name": "AM",
         "type": "scatter",
         "visible": "legendonly",
         "x": [
          "2020-03-23",
          "2020-03-22",
          "2020-03-21",
          "2020-03-20",
          "2020-03-19",
          "2020-03-18",
          "2020-03-13"
         ],
         "y": [
          0,
          0,
          0,
          0,
          0,
          0,
          0
         ]
        },
        {
         "hoverlabel": {
          "font": {
           "size": 18
          },
          "namelength": -1
         },
         "line": {
          "width": 10
         },
         "marker": {
          "size": 15
         },
         "mode": "lines+markers",
         "name": "SC",
         "type": "scatter",
         "visible": "legendonly",
         "x": [
          "2020-03-23",
          "2020-03-22",
          "2020-03-21",
          "2020-03-20",
          "2020-03-19",
          "2020-03-18",
          "2020-03-17",
          "2020-03-16",
          "2020-03-15",
          "2020-03-14",
          "2020-03-13"
         ],
         "y": [
          0,
          0,
          0,
          0,
          0,
          0,
          0,
          0,
          0,
          0,
          0
         ]
        },
        {
         "hoverlabel": {
          "font": {
           "size": 18
          },
          "namelength": -1
         },
         "line": {
          "width": 10
         },
         "marker": {
          "size": 15
         },
         "mode": "lines+markers",
         "name": "AL",
         "type": "scatter",
         "visible": "legendonly",
         "x": [
          "2020-03-23",
          "2020-03-22",
          "2020-03-21",
          "2020-03-20",
          "2020-03-19",
          "2020-03-18",
          "2020-03-17",
          "2020-03-16",
          "2020-03-13",
          "2020-03-12"
         ],
         "y": [
          0,
          0,
          0,
          0,
          0,
          0,
          0,
          0,
          0,
          0
         ]
        },
        {
         "hoverlabel": {
          "font": {
           "size": 18
          },
          "namelength": -1
         },
         "line": {
          "width": 10
         },
         "marker": {
          "size": 15
         },
         "mode": "lines+markers",
         "name": "PB",
         "type": "scatter",
         "visible": "legendonly",
         "x": [
          "2020-03-23",
          "2020-03-22",
          "2020-03-21",
          "2020-03-20",
          "2020-03-19",
          "2020-03-18"
         ],
         "y": [
          0,
          0,
          0,
          0,
          0,
          0
         ]
        },
        {
         "hoverlabel": {
          "font": {
           "size": 18
          },
          "namelength": -1
         },
         "line": {
          "width": 10
         },
         "marker": {
          "size": 15
         },
         "mode": "lines+markers",
         "name": "MA",
         "type": "scatter",
         "visible": "legendonly",
         "x": [
          "2020-03-23",
          "2020-03-22",
          "2020-03-21",
          "2020-03-20"
         ],
         "y": [
          0,
          0,
          0,
          0
         ]
        },
        {
         "hoverlabel": {
          "font": {
           "size": 18
          },
          "namelength": -1
         },
         "line": {
          "width": 10
         },
         "marker": {
          "size": 15
         },
         "mode": "lines+markers",
         "name": "MG",
         "type": "scatter",
         "visible": "legendonly",
         "x": [
          "2020-03-23",
          "2020-03-22",
          "2020-03-21",
          "2020-03-20",
          "2020-03-19",
          "2020-03-18",
          "2020-03-17",
          "2020-03-16",
          "2020-03-14",
          "2020-03-13"
         ],
         "y": [
          0,
          0,
          0,
          0,
          0,
          0,
          0,
          0,
          0,
          0
         ]
        },
        {
         "hoverlabel": {
          "font": {
           "size": 18
          },
          "namelength": -1
         },
         "line": {
          "width": 10
         },
         "marker": {
          "size": 15
         },
         "mode": "lines+markers",
         "name": "DF",
         "type": "scatter",
         "visible": "legendonly",
         "x": [
          "2020-03-23",
          "2020-03-22",
          "2020-03-21",
          "2020-03-20",
          "2020-03-19",
          "2020-03-18",
          "2020-03-16",
          "2020-03-15",
          "2020-03-14",
          "2020-03-13",
          "2020-03-12"
         ],
         "y": [
          0,
          0,
          0,
          0,
          0,
          0,
          0,
          0,
          0,
          0,
          0
         ]
        },
        {
         "hoverlabel": {
          "font": {
           "size": 18
          },
          "namelength": -1
         },
         "line": {
          "width": 10
         },
         "marker": {
          "size": 15
         },
         "mode": "lines+markers",
         "name": "CE",
         "type": "scatter",
         "visible": "legendonly",
         "x": [
          "2020-03-23",
          "2020-03-22",
          "2020-03-21",
          "2020-03-20",
          "2020-03-19",
          "2020-03-18",
          "2020-03-17",
          "2020-03-16"
         ],
         "y": [
          0,
          0,
          0,
          0,
          0,
          0,
          0,
          0
         ]
        },
        {
         "hoverlabel": {
          "font": {
           "size": 18
          },
          "namelength": -1
         },
         "line": {
          "width": 10
         },
         "marker": {
          "size": 15
         },
         "mode": "lines+markers",
         "name": "TO",
         "type": "scatter",
         "visible": "legendonly",
         "x": [
          "2020-03-23",
          "2020-03-22",
          "2020-03-21",
          "2020-03-20"
         ],
         "y": [
          0,
          0,
          0,
          0
         ]
        },
        {
         "hoverlabel": {
          "font": {
           "size": 18
          },
          "namelength": -1
         },
         "line": {
          "width": 10
         },
         "marker": {
          "size": 15
         },
         "mode": "lines+markers",
         "name": "RS",
         "type": "scatter",
         "visible": "legendonly",
         "x": [
          "2020-03-23",
          "2020-03-22",
          "2020-03-21",
          "2020-03-20",
          "2020-03-19",
          "2020-03-18",
          "2020-03-16",
          "2020-03-13"
         ],
         "y": [
          0,
          0,
          0,
          0,
          0,
          0,
          0,
          0
         ]
        },
        {
         "hoverlabel": {
          "font": {
           "size": 18
          },
          "namelength": -1
         },
         "line": {
          "width": 10
         },
         "marker": {
          "size": 15
         },
         "mode": "lines+markers",
         "name": "PR",
         "type": "scatter",
         "visible": "legendonly",
         "x": [
          "2020-03-23",
          "2020-03-22",
          "2020-03-21",
          "2020-03-20",
          "2020-03-19",
          "2020-03-18",
          "2020-03-17",
          "2020-03-16",
          "2020-03-13"
         ],
         "y": [
          0,
          0,
          0,
          0,
          0,
          0,
          0,
          0,
          0
         ]
        },
        {
         "hoverlabel": {
          "font": {
           "size": 18
          },
          "namelength": -1
         },
         "line": {
          "width": 10
         },
         "marker": {
          "size": 15
         },
         "mode": "lines+markers",
         "name": "BA",
         "type": "scatter",
         "visible": "legendonly",
         "x": [
          "2020-03-23",
          "2020-03-22",
          "2020-03-21",
          "2020-03-20",
          "2020-03-19",
          "2020-03-18",
          "2020-03-17",
          "2020-03-16",
          "2020-03-15",
          "2020-03-13",
          "2020-03-12"
         ],
         "y": [
          0,
          0,
          0,
          0,
          0,
          0,
          0,
          0,
          0,
          0,
          0
         ]
        },
        {
         "hoverlabel": {
          "font": {
           "size": 18
          },
          "namelength": -1
         },
         "line": {
          "width": 10
         },
         "marker": {
          "size": 15
         },
         "mode": "lines+markers",
         "name": "GO",
         "type": "scatter",
         "visible": "legendonly",
         "x": [
          "2020-03-23",
          "2020-03-22",
          "2020-03-21",
          "2020-03-20",
          "2020-03-19",
          "2020-03-18",
          "2020-03-17",
          "2020-03-16",
          "2020-03-15",
          "2020-03-14",
          "2020-03-13"
         ],
         "y": [
          0,
          0,
          0,
          0,
          0,
          0,
          0,
          0,
          0,
          0,
          0
         ]
        },
        {
         "hoverlabel": {
          "font": {
           "size": 18
          },
          "namelength": -1
         },
         "line": {
          "width": 10
         },
         "marker": {
          "size": 15
         },
         "mode": "lines+markers",
         "name": "AP",
         "type": "scatter",
         "visible": "legendonly",
         "x": [
          "2020-03-23",
          "2020-03-22",
          "2020-03-21",
          "2020-03-20"
         ],
         "y": [
          0,
          0,
          0,
          0
         ]
        },
        {
         "hoverlabel": {
          "font": {
           "size": 18
          },
          "namelength": -1
         },
         "line": {
          "width": 10
         },
         "marker": {
          "size": 15
         },
         "mode": "lines+markers",
         "name": "Exceto SP",
         "type": "scatter",
         "visible": "legendonly",
         "x": [
          "2020-03-23",
          "2020-03-22",
          "2020-03-21",
          "2020-03-20",
          "2020-03-19",
          "2020-03-18",
          "2020-03-17",
          "2020-03-16",
          "2020-03-15",
          "2020-03-14",
          "2020-03-13",
          "2020-03-12"
         ],
         "y": [
          4,
          3,
          3,
          0,
          2,
          0,
          0,
          0,
          0,
          0,
          0,
          0
         ]
        },
        {
         "hoverlabel": {
          "font": {
           "size": 18
          },
          "namelength": -1
         },
         "line": {
          "width": 10
         },
         "marker": {
          "size": 15
         },
         "mode": "lines+markers",
         "name": "AC",
         "type": "scatter",
         "visible": "legendonly",
         "x": [
          "2020-03-23",
          "2020-03-22",
          "2020-03-21",
          "2020-03-20",
          "2020-03-19",
          "2020-03-18",
          "2020-03-17"
         ],
         "y": [
          0,
          0,
          0,
          0,
          0,
          0,
          0
         ]
        },
        {
         "hoverlabel": {
          "font": {
           "size": 18
          },
          "namelength": -1
         },
         "line": {
          "width": 10
         },
         "marker": {
          "size": 15
         },
         "mode": "lines+markers",
         "name": "PA",
         "type": "scatter",
         "visible": "legendonly",
         "x": [
          "2020-03-23",
          "2020-03-22",
          "2020-03-21"
         ],
         "y": [
          0,
          0,
          0
         ]
        },
        {
         "hoverlabel": {
          "font": {
           "size": 18
          },
          "namelength": -1
         },
         "line": {
          "width": 10
         },
         "marker": {
          "size": 15
         },
         "mode": "lines+markers",
         "name": "MS",
         "type": "scatter",
         "visible": "legendonly",
         "x": [
          "2020-03-23",
          "2020-03-22",
          "2020-03-21",
          "2020-03-20",
          "2020-03-19",
          "2020-03-18",
          "2020-03-17",
          "2020-03-16",
          "2020-03-15",
          "2020-03-14"
         ],
         "y": [
          0,
          0,
          0,
          0,
          0,
          0,
          0,
          0,
          0,
          0
         ]
        },
        {
         "hoverlabel": {
          "font": {
           "size": 18
          },
          "namelength": -1
         },
         "line": {
          "width": 10
         },
         "marker": {
          "size": 15
         },
         "mode": "lines+markers",
         "name": "PE",
         "type": "scatter",
         "visible": "legendonly",
         "x": [
          "2020-03-23",
          "2020-03-22",
          "2020-03-21",
          "2020-03-20",
          "2020-03-19",
          "2020-03-18",
          "2020-03-17",
          "2020-03-16",
          "2020-03-15",
          "2020-03-14",
          "2020-03-13"
         ],
         "y": [
          0,
          0,
          0,
          0,
          0,
          0,
          0,
          0,
          0,
          0,
          0
         ]
        },
        {
         "hoverlabel": {
          "font": {
           "size": 18
          },
          "namelength": -1
         },
         "line": {
          "width": 10
         },
         "marker": {
          "size": 15
         },
         "mode": "lines+markers",
         "name": "ES",
         "type": "scatter",
         "visible": "legendonly",
         "x": [
          "2020-03-23",
          "2020-03-22",
          "2020-03-21",
          "2020-03-20",
          "2020-03-19",
          "2020-03-18",
          "2020-03-17",
          "2020-03-16",
          "2020-03-15",
          "2020-03-14",
          "2020-03-13",
          "2020-03-12"
         ],
         "y": [
          0,
          0,
          0,
          0,
          0,
          0,
          0,
          0,
          0,
          0,
          0,
          0
         ]
        },
        {
         "hoverlabel": {
          "font": {
           "size": 18
          },
          "namelength": -1
         },
         "line": {
          "width": 10
         },
         "marker": {
          "size": 15
         },
         "mode": "lines+markers",
         "name": "RR",
         "type": "scatter",
         "visible": "legendonly",
         "x": [
          "2020-03-23",
          "2020-03-22",
          "2020-03-21"
         ],
         "y": [
          0,
          0,
          0
         ]
        },
        {
         "hoverlabel": {
          "font": {
           "size": 18
          },
          "namelength": -1
         },
         "line": {
          "width": 10
         },
         "marker": {
          "size": 15
         },
         "mode": "lines+markers",
         "name": "RO",
         "type": "scatter",
         "visible": "legendonly",
         "x": [
          "2020-03-22",
          "2020-03-21",
          "2020-03-20"
         ],
         "y": [
          0,
          0,
          0
         ]
        },
        {
         "hoverlabel": {
          "font": {
           "size": 18
          },
          "namelength": -1
         },
         "line": {
          "width": 10
         },
         "marker": {
          "size": 15
         },
         "mode": "lines+markers",
         "name": "PI",
         "type": "scatter",
         "visible": "legendonly",
         "x": [
          "2020-03-22",
          "2020-03-21",
          "2020-03-20",
          "2020-03-19"
         ],
         "y": [
          0,
          0,
          0,
          0
         ]
        },
        {
         "hoverlabel": {
          "font": {
           "size": 18
          },
          "namelength": -1
         },
         "line": {
          "width": 10
         },
         "marker": {
          "size": 15
         },
         "mode": "lines+markers",
         "name": "RN",
         "type": "scatter",
         "visible": "legendonly",
         "x": [
          "2020-03-22",
          "2020-03-21",
          "2020-03-20",
          "2020-03-18",
          "2020-03-16",
          "2020-03-13"
         ],
         "y": [
          0,
          0,
          0,
          0,
          0,
          0
         ]
        },
        {
         "hoverlabel": {
          "font": {
           "size": 18
          },
          "namelength": -1
         },
         "line": {
          "width": 10
         },
         "marker": {
          "size": 15
         },
         "mode": "lines+markers",
         "name": "SE",
         "type": "scatter",
         "visible": "legendonly",
         "x": [
          "2020-03-21",
          "2020-03-20",
          "2020-03-18",
          "2020-03-16",
          "2020-03-14"
         ],
         "y": [
          0,
          0,
          0,
          0,
          0
         ]
        },
        {
         "hoverlabel": {
          "font": {
           "size": 18
          },
          "namelength": -1
         },
         "line": {
          "width": 10
         },
         "marker": {
          "size": 15
         },
         "mode": "lines+markers",
         "name": "MT",
         "type": "scatter",
         "visible": "legendonly",
         "x": [
          "2020-03-20"
         ],
         "y": [
          0
         ]
        }
       ],
       "layout": {
        "autosize": true,
        "barmode": "stack",
        "font": {
         "size": 18
        },
        "legend": {
         "bgcolor": "rgba(0, 0, 0, 0)",
         "font": {
          "color": "black",
          "family": "sans-serif",
          "size": 20
         },
         "orientation": "v"
        },
        "template": {
         "data": {
          "bar": [
           {
            "error_x": {
             "color": "#2a3f5f"
            },
            "error_y": {
             "color": "#2a3f5f"
            },
            "marker": {
             "line": {
              "color": "#E5ECF6",
              "width": 0.5
             }
            },
            "type": "bar"
           }
          ],
          "barpolar": [
           {
            "marker": {
             "line": {
              "color": "#E5ECF6",
              "width": 0.5
             }
            },
            "type": "barpolar"
           }
          ],
          "carpet": [
           {
            "aaxis": {
             "endlinecolor": "#2a3f5f",
             "gridcolor": "white",
             "linecolor": "white",
             "minorgridcolor": "white",
             "startlinecolor": "#2a3f5f"
            },
            "baxis": {
             "endlinecolor": "#2a3f5f",
             "gridcolor": "white",
             "linecolor": "white",
             "minorgridcolor": "white",
             "startlinecolor": "#2a3f5f"
            },
            "type": "carpet"
           }
          ],
          "choropleth": [
           {
            "colorbar": {
             "outlinewidth": 0,
             "ticks": ""
            },
            "type": "choropleth"
           }
          ],
          "contour": [
           {
            "colorbar": {
             "outlinewidth": 0,
             "ticks": ""
            },
            "colorscale": [
             [
              0,
              "#0d0887"
             ],
             [
              0.1111111111111111,
              "#46039f"
             ],
             [
              0.2222222222222222,
              "#7201a8"
             ],
             [
              0.3333333333333333,
              "#9c179e"
             ],
             [
              0.4444444444444444,
              "#bd3786"
             ],
             [
              0.5555555555555556,
              "#d8576b"
             ],
             [
              0.6666666666666666,
              "#ed7953"
             ],
             [
              0.7777777777777778,
              "#fb9f3a"
             ],
             [
              0.8888888888888888,
              "#fdca26"
             ],
             [
              1,
              "#f0f921"
             ]
            ],
            "type": "contour"
           }
          ],
          "contourcarpet": [
           {
            "colorbar": {
             "outlinewidth": 0,
             "ticks": ""
            },
            "type": "contourcarpet"
           }
          ],
          "heatmap": [
           {
            "colorbar": {
             "outlinewidth": 0,
             "ticks": ""
            },
            "colorscale": [
             [
              0,
              "#0d0887"
             ],
             [
              0.1111111111111111,
              "#46039f"
             ],
             [
              0.2222222222222222,
              "#7201a8"
             ],
             [
              0.3333333333333333,
              "#9c179e"
             ],
             [
              0.4444444444444444,
              "#bd3786"
             ],
             [
              0.5555555555555556,
              "#d8576b"
             ],
             [
              0.6666666666666666,
              "#ed7953"
             ],
             [
              0.7777777777777778,
              "#fb9f3a"
             ],
             [
              0.8888888888888888,
              "#fdca26"
             ],
             [
              1,
              "#f0f921"
             ]
            ],
            "type": "heatmap"
           }
          ],
          "heatmapgl": [
           {
            "colorbar": {
             "outlinewidth": 0,
             "ticks": ""
            },
            "colorscale": [
             [
              0,
              "#0d0887"
             ],
             [
              0.1111111111111111,
              "#46039f"
             ],
             [
              0.2222222222222222,
              "#7201a8"
             ],
             [
              0.3333333333333333,
              "#9c179e"
             ],
             [
              0.4444444444444444,
              "#bd3786"
             ],
             [
              0.5555555555555556,
              "#d8576b"
             ],
             [
              0.6666666666666666,
              "#ed7953"
             ],
             [
              0.7777777777777778,
              "#fb9f3a"
             ],
             [
              0.8888888888888888,
              "#fdca26"
             ],
             [
              1,
              "#f0f921"
             ]
            ],
            "type": "heatmapgl"
           }
          ],
          "histogram": [
           {
            "marker": {
             "colorbar": {
              "outlinewidth": 0,
              "ticks": ""
             }
            },
            "type": "histogram"
           }
          ],
          "histogram2d": [
           {
            "colorbar": {
             "outlinewidth": 0,
             "ticks": ""
            },
            "colorscale": [
             [
              0,
              "#0d0887"
             ],
             [
              0.1111111111111111,
              "#46039f"
             ],
             [
              0.2222222222222222,
              "#7201a8"
             ],
             [
              0.3333333333333333,
              "#9c179e"
             ],
             [
              0.4444444444444444,
              "#bd3786"
             ],
             [
              0.5555555555555556,
              "#d8576b"
             ],
             [
              0.6666666666666666,
              "#ed7953"
             ],
             [
              0.7777777777777778,
              "#fb9f3a"
             ],
             [
              0.8888888888888888,
              "#fdca26"
             ],
             [
              1,
              "#f0f921"
             ]
            ],
            "type": "histogram2d"
           }
          ],
          "histogram2dcontour": [
           {
            "colorbar": {
             "outlinewidth": 0,
             "ticks": ""
            },
            "colorscale": [
             [
              0,
              "#0d0887"
             ],
             [
              0.1111111111111111,
              "#46039f"
             ],
             [
              0.2222222222222222,
              "#7201a8"
             ],
             [
              0.3333333333333333,
              "#9c179e"
             ],
             [
              0.4444444444444444,
              "#bd3786"
             ],
             [
              0.5555555555555556,
              "#d8576b"
             ],
             [
              0.6666666666666666,
              "#ed7953"
             ],
             [
              0.7777777777777778,
              "#fb9f3a"
             ],
             [
              0.8888888888888888,
              "#fdca26"
             ],
             [
              1,
              "#f0f921"
             ]
            ],
            "type": "histogram2dcontour"
           }
          ],
          "mesh3d": [
           {
            "colorbar": {
             "outlinewidth": 0,
             "ticks": ""
            },
            "type": "mesh3d"
           }
          ],
          "parcoords": [
           {
            "line": {
             "colorbar": {
              "outlinewidth": 0,
              "ticks": ""
             }
            },
            "type": "parcoords"
           }
          ],
          "pie": [
           {
            "automargin": true,
            "type": "pie"
           }
          ],
          "scatter": [
           {
            "marker": {
             "colorbar": {
              "outlinewidth": 0,
              "ticks": ""
             }
            },
            "type": "scatter"
           }
          ],
          "scatter3d": [
           {
            "line": {
             "colorbar": {
              "outlinewidth": 0,
              "ticks": ""
             }
            },
            "marker": {
             "colorbar": {
              "outlinewidth": 0,
              "ticks": ""
             }
            },
            "type": "scatter3d"
           }
          ],
          "scattercarpet": [
           {
            "marker": {
             "colorbar": {
              "outlinewidth": 0,
              "ticks": ""
             }
            },
            "type": "scattercarpet"
           }
          ],
          "scattergeo": [
           {
            "marker": {
             "colorbar": {
              "outlinewidth": 0,
              "ticks": ""
             }
            },
            "type": "scattergeo"
           }
          ],
          "scattergl": [
           {
            "marker": {
             "colorbar": {
              "outlinewidth": 0,
              "ticks": ""
             }
            },
            "type": "scattergl"
           }
          ],
          "scattermapbox": [
           {
            "marker": {
             "colorbar": {
              "outlinewidth": 0,
              "ticks": ""
             }
            },
            "type": "scattermapbox"
           }
          ],
          "scatterpolar": [
           {
            "marker": {
             "colorbar": {
              "outlinewidth": 0,
              "ticks": ""
             }
            },
            "type": "scatterpolar"
           }
          ],
          "scatterpolargl": [
           {
            "marker": {
             "colorbar": {
              "outlinewidth": 0,
              "ticks": ""
             }
            },
            "type": "scatterpolargl"
           }
          ],
          "scatterternary": [
           {
            "marker": {
             "colorbar": {
              "outlinewidth": 0,
              "ticks": ""
             }
            },
            "type": "scatterternary"
           }
          ],
          "surface": [
           {
            "colorbar": {
             "outlinewidth": 0,
             "ticks": ""
            },
            "colorscale": [
             [
              0,
              "#0d0887"
             ],
             [
              0.1111111111111111,
              "#46039f"
             ],
             [
              0.2222222222222222,
              "#7201a8"
             ],
             [
              0.3333333333333333,
              "#9c179e"
             ],
             [
              0.4444444444444444,
              "#bd3786"
             ],
             [
              0.5555555555555556,
              "#d8576b"
             ],
             [
              0.6666666666666666,
              "#ed7953"
             ],
             [
              0.7777777777777778,
              "#fb9f3a"
             ],
             [
              0.8888888888888888,
              "#fdca26"
             ],
             [
              1,
              "#f0f921"
             ]
            ],
            "type": "surface"
           }
          ],
          "table": [
           {
            "cells": {
             "fill": {
              "color": "#EBF0F8"
             },
             "line": {
              "color": "white"
             }
            },
            "header": {
             "fill": {
              "color": "#C8D4E3"
             },
             "line": {
              "color": "white"
             }
            },
            "type": "table"
           }
          ]
         },
         "layout": {
          "annotationdefaults": {
           "arrowcolor": "#2a3f5f",
           "arrowhead": 0,
           "arrowwidth": 1
          },
          "coloraxis": {
           "colorbar": {
            "outlinewidth": 0,
            "ticks": ""
           }
          },
          "colorscale": {
           "diverging": [
            [
             0,
             "#8e0152"
            ],
            [
             0.1,
             "#c51b7d"
            ],
            [
             0.2,
             "#de77ae"
            ],
            [
             0.3,
             "#f1b6da"
            ],
            [
             0.4,
             "#fde0ef"
            ],
            [
             0.5,
             "#f7f7f7"
            ],
            [
             0.6,
             "#e6f5d0"
            ],
            [
             0.7,
             "#b8e186"
            ],
            [
             0.8,
             "#7fbc41"
            ],
            [
             0.9,
             "#4d9221"
            ],
            [
             1,
             "#276419"
            ]
           ],
           "sequential": [
            [
             0,
             "#0d0887"
            ],
            [
             0.1111111111111111,
             "#46039f"
            ],
            [
             0.2222222222222222,
             "#7201a8"
            ],
            [
             0.3333333333333333,
             "#9c179e"
            ],
            [
             0.4444444444444444,
             "#bd3786"
            ],
            [
             0.5555555555555556,
             "#d8576b"
            ],
            [
             0.6666666666666666,
             "#ed7953"
            ],
            [
             0.7777777777777778,
             "#fb9f3a"
            ],
            [
             0.8888888888888888,
             "#fdca26"
            ],
            [
             1,
             "#f0f921"
            ]
           ],
           "sequentialminus": [
            [
             0,
             "#0d0887"
            ],
            [
             0.1111111111111111,
             "#46039f"
            ],
            [
             0.2222222222222222,
             "#7201a8"
            ],
            [
             0.3333333333333333,
             "#9c179e"
            ],
            [
             0.4444444444444444,
             "#bd3786"
            ],
            [
             0.5555555555555556,
             "#d8576b"
            ],
            [
             0.6666666666666666,
             "#ed7953"
            ],
            [
             0.7777777777777778,
             "#fb9f3a"
            ],
            [
             0.8888888888888888,
             "#fdca26"
            ],
            [
             1,
             "#f0f921"
            ]
           ]
          },
          "colorway": [
           "#636efa",
           "#EF553B",
           "#00cc96",
           "#ab63fa",
           "#FFA15A",
           "#19d3f3",
           "#FF6692",
           "#B6E880",
           "#FF97FF",
           "#FECB52"
          ],
          "font": {
           "color": "#2a3f5f"
          },
          "geo": {
           "bgcolor": "white",
           "lakecolor": "white",
           "landcolor": "#E5ECF6",
           "showlakes": true,
           "showland": true,
           "subunitcolor": "white"
          },
          "hoverlabel": {
           "align": "left"
          },
          "hovermode": "closest",
          "mapbox": {
           "style": "light"
          },
          "paper_bgcolor": "white",
          "plot_bgcolor": "#E5ECF6",
          "polar": {
           "angularaxis": {
            "gridcolor": "white",
            "linecolor": "white",
            "ticks": ""
           },
           "bgcolor": "#E5ECF6",
           "radialaxis": {
            "gridcolor": "white",
            "linecolor": "white",
            "ticks": ""
           }
          },
          "scene": {
           "xaxis": {
            "backgroundcolor": "#E5ECF6",
            "gridcolor": "white",
            "gridwidth": 2,
            "linecolor": "white",
            "showbackground": true,
            "ticks": "",
            "zerolinecolor": "white"
           },
           "yaxis": {
            "backgroundcolor": "#E5ECF6",
            "gridcolor": "white",
            "gridwidth": 2,
            "linecolor": "white",
            "showbackground": true,
            "ticks": "",
            "zerolinecolor": "white"
           },
           "zaxis": {
            "backgroundcolor": "#E5ECF6",
            "gridcolor": "white",
            "gridwidth": 2,
            "linecolor": "white",
            "showbackground": true,
            "ticks": "",
            "zerolinecolor": "white"
           }
          },
          "shapedefaults": {
           "line": {
            "color": "#2a3f5f"
           }
          },
          "ternary": {
           "aaxis": {
            "gridcolor": "white",
            "linecolor": "white",
            "ticks": ""
           },
           "baxis": {
            "gridcolor": "white",
            "linecolor": "white",
            "ticks": ""
           },
           "bgcolor": "#E5ECF6",
           "caxis": {
            "gridcolor": "white",
            "linecolor": "white",
            "ticks": ""
           }
          },
          "title": {
           "x": 0.05
          },
          "xaxis": {
           "automargin": true,
           "gridcolor": "white",
           "linecolor": "white",
           "ticks": "",
           "title": {
            "standoff": 15
           },
           "zerolinecolor": "white",
           "zerolinewidth": 2
          },
          "yaxis": {
           "automargin": true,
           "gridcolor": "white",
           "linecolor": "white",
           "ticks": "",
           "title": {
            "standoff": 15
           },
           "zerolinecolor": "white",
           "zerolinewidth": 2
          }
         }
        },
        "title": {
         "font": {
          "size": 22
         },
         "text": "<br>MORTES POR ESTADO EM - 2020-03-24<br>",
         "x": 0.5,
         "xanchor": "center",
         "yanchor": "top"
        },
        "xaxis": {
         "autorange": true,
         "range": [
          "2020-03-11 06:45:02.9159",
          "2020-03-23 17:14:57.0841"
         ],
         "tickfont": {
          "color": "black",
          "size": 22
         },
         "title": {
          "text": "<br>DATA<br>"
         },
         "type": "date"
        },
        "yaxis": {
         "autorange": true,
         "range": [
          -2.6410746522247,
          36.6410746522247
         ],
         "tickfont": {
          "color": "black",
          "size": 22
         },
         "tickformat": "n",
         "title": {
          "text": "<br>MOTES CONFIRMADAS<br>"
         },
         "type": "linear"
        }
       }
      },
      "image/png": "[encoded data removed]",
      "text/html": [
       "<div>\n",
       "        \n",
       "        \n",
       "            <div id=\"e150d2eb-b0ae-4f0f-b49d-4b5cdc294152\" class=\"plotly-graph-div\" style=\"height:800px; width:100%;\"></div>\n",
       "            <script type=\"text/javascript\">\n",
       "                require([\"plotly\"], function(Plotly) {\n",
       "                    window.PLOTLYENV=window.PLOTLYENV || {};\n",
       "                    \n",
       "                if (document.getElementById(\"e150d2eb-b0ae-4f0f-b49d-4b5cdc294152\")) {\n",
       "                    Plotly.newPlot(\n",
       "                        'e150d2eb-b0ae-4f0f-b49d-4b5cdc294152',\n",
       "                        [{\"hoverlabel\": {\"font\": {\"size\": 18}, \"namelength\": -1}, \"line\": {\"width\": 10}, \"marker\": {\"size\": 15}, \"mode\": \"lines+markers\", \"name\": \"Brasil\", \"type\": \"scatter\", \"x\": [\"2020-03-23\", \"2020-03-22\", \"2020-03-21\", \"2020-03-20\", \"2020-03-19\", \"2020-03-18\", \"2020-03-17\", \"2020-03-16\", \"2020-03-15\", \"2020-03-14\", \"2020-03-13\", \"2020-03-12\"], \"y\": [34, 25, 18, 9, 7, 3, 1, 0, 0, 0, 0, 0]}, {\"hoverlabel\": {\"font\": {\"size\": 18}, \"namelength\": -1}, \"line\": {\"width\": 10}, \"marker\": {\"size\": 15}, \"mode\": \"lines+markers\", \"name\": \"SP\", \"type\": \"scatter\", \"x\": [\"2020-03-23\", \"2020-03-22\", \"2020-03-21\", \"2020-03-20\", \"2020-03-19\", \"2020-03-18\", \"2020-03-17\", \"2020-03-14\"], \"y\": [30, 22, 15, 9, 5, 3, 1, 0]}, {\"hoverlabel\": {\"font\": {\"size\": 18}, \"namelength\": -1}, \"line\": {\"width\": 10}, \"marker\": {\"size\": 15}, \"mode\": \"lines+markers\", \"name\": \"RJ\", \"type\": \"scatter\", \"x\": [\"2020-03-23\", \"2020-03-22\", \"2020-03-21\", \"2020-03-19\", \"2020-03-18\", \"2020-03-16\", \"2020-03-15\"], \"y\": [4, 3, 3, 2, 0, 0, 0]}, {\"hoverlabel\": {\"font\": {\"size\": 18}, \"namelength\": -1}, \"line\": {\"width\": 10}, \"marker\": {\"size\": 15}, \"mode\": \"lines+markers\", \"name\": \"AM\", \"type\": \"scatter\", \"visible\": \"legendonly\", \"x\": [\"2020-03-23\", \"2020-03-22\", \"2020-03-21\", \"2020-03-20\", \"2020-03-19\", \"2020-03-18\", \"2020-03-13\"], \"y\": [0, 0, 0, 0, 0, 0, 0]}, {\"hoverlabel\": {\"font\": {\"size\": 18}, \"namelength\": -1}, \"line\": {\"width\": 10}, \"marker\": {\"size\": 15}, \"mode\": \"lines+markers\", \"name\": \"SC\", \"type\": \"scatter\", \"visible\": \"legendonly\", \"x\": [\"2020-03-23\", \"2020-03-22\", \"2020-03-21\", \"2020-03-20\", \"2020-03-19\", \"2020-03-18\", \"2020-03-17\", \"2020-03-16\", \"2020-03-15\", \"2020-03-14\", \"2020-03-13\"], \"y\": [0, 0, 0, 0, 0, 0, 0, 0, 0, 0, 0]}, {\"hoverlabel\": {\"font\": {\"size\": 18}, \"namelength\": -1}, \"line\": {\"width\": 10}, \"marker\": {\"size\": 15}, \"mode\": \"lines+markers\", \"name\": \"AL\", \"type\": \"scatter\", \"visible\": \"legendonly\", \"x\": [\"2020-03-23\", \"2020-03-22\", \"2020-03-21\", \"2020-03-20\", \"2020-03-19\", \"2020-03-18\", \"2020-03-17\", \"2020-03-16\", \"2020-03-13\", \"2020-03-12\"], \"y\": [0, 0, 0, 0, 0, 0, 0, 0, 0, 0]}, {\"hoverlabel\": {\"font\": {\"size\": 18}, \"namelength\": -1}, \"line\": {\"width\": 10}, \"marker\": {\"size\": 15}, \"mode\": \"lines+markers\", \"name\": \"PB\", \"type\": \"scatter\", \"visible\": \"legendonly\", \"x\": [\"2020-03-23\", \"2020-03-22\", \"2020-03-21\", \"2020-03-20\", \"2020-03-19\", \"2020-03-18\"], \"y\": [0, 0, 0, 0, 0, 0]}, {\"hoverlabel\": {\"font\": {\"size\": 18}, \"namelength\": -1}, \"line\": {\"width\": 10}, \"marker\": {\"size\": 15}, \"mode\": \"lines+markers\", \"name\": \"MA\", \"type\": \"scatter\", \"visible\": \"legendonly\", \"x\": [\"2020-03-23\", \"2020-03-22\", \"2020-03-21\", \"2020-03-20\"], \"y\": [0, 0, 0, 0]}, {\"hoverlabel\": {\"font\": {\"size\": 18}, \"namelength\": -1}, \"line\": {\"width\": 10}, \"marker\": {\"size\": 15}, \"mode\": \"lines+markers\", \"name\": \"MG\", \"type\": \"scatter\", \"visible\": \"legendonly\", \"x\": [\"2020-03-23\", \"2020-03-22\", \"2020-03-21\", \"2020-03-20\", \"2020-03-19\", \"2020-03-18\", \"2020-03-17\", \"2020-03-16\", \"2020-03-14\", \"2020-03-13\"], \"y\": [0, 0, 0, 0, 0, 0, 0, 0, 0, 0]}, {\"hoverlabel\": {\"font\": {\"size\": 18}, \"namelength\": -1}, \"line\": {\"width\": 10}, \"marker\": {\"size\": 15}, \"mode\": \"lines+markers\", \"name\": \"DF\", \"type\": \"scatter\", \"visible\": \"legendonly\", \"x\": [\"2020-03-23\", \"2020-03-22\", \"2020-03-21\", \"2020-03-20\", \"2020-03-19\", \"2020-03-18\", \"2020-03-16\", \"2020-03-15\", \"2020-03-14\", \"2020-03-13\", \"2020-03-12\"], \"y\": [0, 0, 0, 0, 0, 0, 0, 0, 0, 0, 0]}, {\"hoverlabel\": {\"font\": {\"size\": 18}, \"namelength\": -1}, \"line\": {\"width\": 10}, \"marker\": {\"size\": 15}, \"mode\": \"lines+markers\", \"name\": \"CE\", \"type\": \"scatter\", \"visible\": \"legendonly\", \"x\": [\"2020-03-23\", \"2020-03-22\", \"2020-03-21\", \"2020-03-20\", \"2020-03-19\", \"2020-03-18\", \"2020-03-17\", \"2020-03-16\"], \"y\": [0, 0, 0, 0, 0, 0, 0, 0]}, {\"hoverlabel\": {\"font\": {\"size\": 18}, \"namelength\": -1}, \"line\": {\"width\": 10}, \"marker\": {\"size\": 15}, \"mode\": \"lines+markers\", \"name\": \"TO\", \"type\": \"scatter\", \"visible\": \"legendonly\", \"x\": [\"2020-03-23\", \"2020-03-22\", \"2020-03-21\", \"2020-03-20\"], \"y\": [0, 0, 0, 0]}, {\"hoverlabel\": {\"font\": {\"size\": 18}, \"namelength\": -1}, \"line\": {\"width\": 10}, \"marker\": {\"size\": 15}, \"mode\": \"lines+markers\", \"name\": \"RS\", \"type\": \"scatter\", \"visible\": \"legendonly\", \"x\": [\"2020-03-23\", \"2020-03-22\", \"2020-03-21\", \"2020-03-20\", \"2020-03-19\", \"2020-03-18\", \"2020-03-16\", \"2020-03-13\"], \"y\": [0, 0, 0, 0, 0, 0, 0, 0]}, {\"hoverlabel\": {\"font\": {\"size\": 18}, \"namelength\": -1}, \"line\": {\"width\": 10}, \"marker\": {\"size\": 15}, \"mode\": \"lines+markers\", \"name\": \"PR\", \"type\": \"scatter\", \"visible\": \"legendonly\", \"x\": [\"2020-03-23\", \"2020-03-22\", \"2020-03-21\", \"2020-03-20\", \"2020-03-19\", \"2020-03-18\", \"2020-03-17\", \"2020-03-16\", \"2020-03-13\"], \"y\": [0, 0, 0, 0, 0, 0, 0, 0, 0]}, {\"hoverlabel\": {\"font\": {\"size\": 18}, \"namelength\": -1}, \"line\": {\"width\": 10}, \"marker\": {\"size\": 15}, \"mode\": \"lines+markers\", \"name\": \"BA\", \"type\": \"scatter\", \"visible\": \"legendonly\", \"x\": [\"2020-03-23\", \"2020-03-22\", \"2020-03-21\", \"2020-03-20\", \"2020-03-19\", \"2020-03-18\", \"2020-03-17\", \"2020-03-16\", \"2020-03-15\", \"2020-03-13\", \"2020-03-12\"], \"y\": [0, 0, 0, 0, 0, 0, 0, 0, 0, 0, 0]}, {\"hoverlabel\": {\"font\": {\"size\": 18}, \"namelength\": -1}, \"line\": {\"width\": 10}, \"marker\": {\"size\": 15}, \"mode\": \"lines+markers\", \"name\": \"GO\", \"type\": \"scatter\", \"visible\": \"legendonly\", \"x\": [\"2020-03-23\", \"2020-03-22\", \"2020-03-21\", \"2020-03-20\", \"2020-03-19\", \"2020-03-18\", \"2020-03-17\", \"2020-03-16\", \"2020-03-15\", \"2020-03-14\", \"2020-03-13\"], \"y\": [0, 0, 0, 0, 0, 0, 0, 0, 0, 0, 0]}, {\"hoverlabel\": {\"font\": {\"size\": 18}, \"namelength\": -1}, \"line\": {\"width\": 10}, \"marker\": {\"size\": 15}, \"mode\": \"lines+markers\", \"name\": \"AP\", \"type\": \"scatter\", \"visible\": \"legendonly\", \"x\": [\"2020-03-23\", \"2020-03-22\", \"2020-03-21\", \"2020-03-20\"], \"y\": [0, 0, 0, 0]}, {\"hoverlabel\": {\"font\": {\"size\": 18}, \"namelength\": -1}, \"line\": {\"width\": 10}, \"marker\": {\"size\": 15}, \"mode\": \"lines+markers\", \"name\": \"Exceto SP\", \"type\": \"scatter\", \"visible\": \"legendonly\", \"x\": [\"2020-03-23\", \"2020-03-22\", \"2020-03-21\", \"2020-03-20\", \"2020-03-19\", \"2020-03-18\", \"2020-03-17\", \"2020-03-16\", \"2020-03-15\", \"2020-03-14\", \"2020-03-13\", \"2020-03-12\"], \"y\": [4, 3, 3, 0, 2, 0, 0, 0, 0, 0, 0, 0]}, {\"hoverlabel\": {\"font\": {\"size\": 18}, \"namelength\": -1}, \"line\": {\"width\": 10}, \"marker\": {\"size\": 15}, \"mode\": \"lines+markers\", \"name\": \"AC\", \"type\": \"scatter\", \"visible\": \"legendonly\", \"x\": [\"2020-03-23\", \"2020-03-22\", \"2020-03-21\", \"2020-03-20\", \"2020-03-19\", \"2020-03-18\", \"2020-03-17\"], \"y\": [0, 0, 0, 0, 0, 0, 0]}, {\"hoverlabel\": {\"font\": {\"size\": 18}, \"namelength\": -1}, \"line\": {\"width\": 10}, \"marker\": {\"size\": 15}, \"mode\": \"lines+markers\", \"name\": \"PA\", \"type\": \"scatter\", \"visible\": \"legendonly\", \"x\": [\"2020-03-23\", \"2020-03-22\", \"2020-03-21\"], \"y\": [0, 0, 0]}, {\"hoverlabel\": {\"font\": {\"size\": 18}, \"namelength\": -1}, \"line\": {\"width\": 10}, \"marker\": {\"size\": 15}, \"mode\": \"lines+markers\", \"name\": \"MS\", \"type\": \"scatter\", \"visible\": \"legendonly\", \"x\": [\"2020-03-23\", \"2020-03-22\", \"2020-03-21\", \"2020-03-20\", \"2020-03-19\", \"2020-03-18\", \"2020-03-17\", \"2020-03-16\", \"2020-03-15\", \"2020-03-14\"], \"y\": [0, 0, 0, 0, 0, 0, 0, 0, 0, 0]}, {\"hoverlabel\": {\"font\": {\"size\": 18}, \"namelength\": -1}, \"line\": {\"width\": 10}, \"marker\": {\"size\": 15}, \"mode\": \"lines+markers\", \"name\": \"PE\", \"type\": \"scatter\", \"visible\": \"legendonly\", \"x\": [\"2020-03-23\", \"2020-03-22\", \"2020-03-21\", \"2020-03-20\", \"2020-03-19\", \"2020-03-18\", \"2020-03-17\", \"2020-03-16\", \"2020-03-15\", \"2020-03-14\", \"2020-03-13\"], \"y\": [0, 0, 0, 0, 0, 0, 0, 0, 0, 0, 0]}, {\"hoverlabel\": {\"font\": {\"size\": 18}, \"namelength\": -1}, \"line\": {\"width\": 10}, \"marker\": {\"size\": 15}, \"mode\": \"lines+markers\", \"name\": \"ES\", \"type\": \"scatter\", \"visible\": \"legendonly\", \"x\": [\"2020-03-23\", \"2020-03-22\", \"2020-03-21\", \"2020-03-20\", \"2020-03-19\", \"2020-03-18\", \"2020-03-17\", \"2020-03-16\", \"2020-03-15\", \"2020-03-14\", \"2020-03-13\", \"2020-03-12\"], \"y\": [0, 0, 0, 0, 0, 0, 0, 0, 0, 0, 0, 0]}, {\"hoverlabel\": {\"font\": {\"size\": 18}, \"namelength\": -1}, \"line\": {\"width\": 10}, \"marker\": {\"size\": 15}, \"mode\": \"lines+markers\", \"name\": \"RR\", \"type\": \"scatter\", \"visible\": \"legendonly\", \"x\": [\"2020-03-23\", \"2020-03-22\", \"2020-03-21\"], \"y\": [0, 0, 0]}, {\"hoverlabel\": {\"font\": {\"size\": 18}, \"namelength\": -1}, \"line\": {\"width\": 10}, \"marker\": {\"size\": 15}, \"mode\": \"lines+markers\", \"name\": \"RO\", \"type\": \"scatter\", \"visible\": \"legendonly\", \"x\": [\"2020-03-22\", \"2020-03-21\", \"2020-03-20\"], \"y\": [0, 0, 0]}, {\"hoverlabel\": {\"font\": {\"size\": 18}, \"namelength\": -1}, \"line\": {\"width\": 10}, \"marker\": {\"size\": 15}, \"mode\": \"lines+markers\", \"name\": \"PI\", \"type\": \"scatter\", \"visible\": \"legendonly\", \"x\": [\"2020-03-22\", \"2020-03-21\", \"2020-03-20\", \"2020-03-19\"], \"y\": [0, 0, 0, 0]}, {\"hoverlabel\": {\"font\": {\"size\": 18}, \"namelength\": -1}, \"line\": {\"width\": 10}, \"marker\": {\"size\": 15}, \"mode\": \"lines+markers\", \"name\": \"RN\", \"type\": \"scatter\", \"visible\": \"legendonly\", \"x\": [\"2020-03-22\", \"2020-03-21\", \"2020-03-20\", \"2020-03-18\", \"2020-03-16\", \"2020-03-13\"], \"y\": [0, 0, 0, 0, 0, 0]}, {\"hoverlabel\": {\"font\": {\"size\": 18}, \"namelength\": -1}, \"line\": {\"width\": 10}, \"marker\": {\"size\": 15}, \"mode\": \"lines+markers\", \"name\": \"SE\", \"type\": \"scatter\", \"visible\": \"legendonly\", \"x\": [\"2020-03-21\", \"2020-03-20\", \"2020-03-18\", \"2020-03-16\", \"2020-03-14\"], \"y\": [0, 0, 0, 0, 0]}, {\"hoverlabel\": {\"font\": {\"size\": 18}, \"namelength\": -1}, \"line\": {\"width\": 10}, \"marker\": {\"size\": 15}, \"mode\": \"lines+markers\", \"name\": \"MT\", \"type\": \"scatter\", \"visible\": \"legendonly\", \"x\": [\"2020-03-20\"], \"y\": [0]}],\n",
       "                        {\"barmode\": \"stack\", \"font\": {\"size\": 18}, \"height\": 800, \"legend\": {\"bgcolor\": \"rgba(0,0,0,0)\", \"font\": {\"color\": \"black\", \"family\": \"sans-serif\", \"size\": 20}, \"orientation\": \"v\"}, \"template\": {\"data\": {\"bar\": [{\"error_x\": {\"color\": \"#2a3f5f\"}, \"error_y\": {\"color\": \"#2a3f5f\"}, \"marker\": {\"line\": {\"color\": \"#E5ECF6\", \"width\": 0.5}}, \"type\": \"bar\"}], \"barpolar\": [{\"marker\": {\"line\": {\"color\": \"#E5ECF6\", \"width\": 0.5}}, \"type\": \"barpolar\"}], \"carpet\": [{\"aaxis\": {\"endlinecolor\": \"#2a3f5f\", \"gridcolor\": \"white\", \"linecolor\": \"white\", \"minorgridcolor\": \"white\", \"startlinecolor\": \"#2a3f5f\"}, \"baxis\": {\"endlinecolor\": \"#2a3f5f\", \"gridcolor\": \"white\", \"linecolor\": \"white\", \"minorgridcolor\": \"white\", \"startlinecolor\": \"#2a3f5f\"}, \"type\": \"carpet\"}], \"choropleth\": [{\"colorbar\": {\"outlinewidth\": 0, \"ticks\": \"\"}, \"type\": \"choropleth\"}], \"contour\": [{\"colorbar\": {\"outlinewidth\": 0, \"ticks\": \"\"}, \"colorscale\": [[0.0, \"#0d0887\"], [0.1111111111111111, \"#46039f\"], [0.2222222222222222, \"#7201a8\"], [0.3333333333333333, \"#9c179e\"], [0.4444444444444444, \"#bd3786\"], [0.5555555555555556, \"#d8576b\"], [0.6666666666666666, \"#ed7953\"], [0.7777777777777778, \"#fb9f3a\"], [0.8888888888888888, \"#fdca26\"], [1.0, \"#f0f921\"]], \"type\": \"contour\"}], \"contourcarpet\": [{\"colorbar\": {\"outlinewidth\": 0, \"ticks\": \"\"}, \"type\": \"contourcarpet\"}], \"heatmap\": [{\"colorbar\": {\"outlinewidth\": 0, \"ticks\": \"\"}, \"colorscale\": [[0.0, \"#0d0887\"], [0.1111111111111111, \"#46039f\"], [0.2222222222222222, \"#7201a8\"], [0.3333333333333333, \"#9c179e\"], [0.4444444444444444, \"#bd3786\"], [0.5555555555555556, \"#d8576b\"], [0.6666666666666666, \"#ed7953\"], [0.7777777777777778, \"#fb9f3a\"], [0.8888888888888888, \"#fdca26\"], [1.0, \"#f0f921\"]], \"type\": \"heatmap\"}], \"heatmapgl\": [{\"colorbar\": {\"outlinewidth\": 0, \"ticks\": \"\"}, \"colorscale\": [[0.0, \"#0d0887\"], [0.1111111111111111, \"#46039f\"], [0.2222222222222222, \"#7201a8\"], [0.3333333333333333, \"#9c179e\"], [0.4444444444444444, \"#bd3786\"], [0.5555555555555556, \"#d8576b\"], [0.6666666666666666, \"#ed7953\"], [0.7777777777777778, \"#fb9f3a\"], [0.8888888888888888, \"#fdca26\"], [1.0, \"#f0f921\"]], \"type\": \"heatmapgl\"}], \"histogram\": [{\"marker\": {\"colorbar\": {\"outlinewidth\": 0, \"ticks\": \"\"}}, \"type\": \"histogram\"}], \"histogram2d\": [{\"colorbar\": {\"outlinewidth\": 0, \"ticks\": \"\"}, \"colorscale\": [[0.0, \"#0d0887\"], [0.1111111111111111, \"#46039f\"], [0.2222222222222222, \"#7201a8\"], [0.3333333333333333, \"#9c179e\"], [0.4444444444444444, \"#bd3786\"], [0.5555555555555556, \"#d8576b\"], [0.6666666666666666, \"#ed7953\"], [0.7777777777777778, \"#fb9f3a\"], [0.8888888888888888, \"#fdca26\"], [1.0, \"#f0f921\"]], \"type\": \"histogram2d\"}], \"histogram2dcontour\": [{\"colorbar\": {\"outlinewidth\": 0, \"ticks\": \"\"}, \"colorscale\": [[0.0, \"#0d0887\"], [0.1111111111111111, \"#46039f\"], [0.2222222222222222, \"#7201a8\"], [0.3333333333333333, \"#9c179e\"], [0.4444444444444444, \"#bd3786\"], [0.5555555555555556, \"#d8576b\"], [0.6666666666666666, \"#ed7953\"], [0.7777777777777778, \"#fb9f3a\"], [0.8888888888888888, \"#fdca26\"], [1.0, \"#f0f921\"]], \"type\": \"histogram2dcontour\"}], \"mesh3d\": [{\"colorbar\": {\"outlinewidth\": 0, \"ticks\": \"\"}, \"type\": \"mesh3d\"}], \"parcoords\": [{\"line\": {\"colorbar\": {\"outlinewidth\": 0, \"ticks\": \"\"}}, \"type\": \"parcoords\"}], \"pie\": [{\"automargin\": true, \"type\": \"pie\"}], \"scatter\": [{\"marker\": {\"colorbar\": {\"outlinewidth\": 0, \"ticks\": \"\"}}, \"type\": \"scatter\"}], \"scatter3d\": [{\"line\": {\"colorbar\": {\"outlinewidth\": 0, \"ticks\": \"\"}}, \"marker\": {\"colorbar\": {\"outlinewidth\": 0, \"ticks\": \"\"}}, \"type\": \"scatter3d\"}], \"scattercarpet\": [{\"marker\": {\"colorbar\": {\"outlinewidth\": 0, \"ticks\": \"\"}}, \"type\": \"scattercarpet\"}], \"scattergeo\": [{\"marker\": {\"colorbar\": {\"outlinewidth\": 0, \"ticks\": \"\"}}, \"type\": \"scattergeo\"}], \"scattergl\": [{\"marker\": {\"colorbar\": {\"outlinewidth\": 0, \"ticks\": \"\"}}, \"type\": \"scattergl\"}], \"scattermapbox\": [{\"marker\": {\"colorbar\": {\"outlinewidth\": 0, \"ticks\": \"\"}}, \"type\": \"scattermapbox\"}], \"scatterpolar\": [{\"marker\": {\"colorbar\": {\"outlinewidth\": 0, \"ticks\": \"\"}}, \"type\": \"scatterpolar\"}], \"scatterpolargl\": [{\"marker\": {\"colorbar\": {\"outlinewidth\": 0, \"ticks\": \"\"}}, \"type\": \"scatterpolargl\"}], \"scatterternary\": [{\"marker\": {\"colorbar\": {\"outlinewidth\": 0, \"ticks\": \"\"}}, \"type\": \"scatterternary\"}], \"surface\": [{\"colorbar\": {\"outlinewidth\": 0, \"ticks\": \"\"}, \"colorscale\": [[0.0, \"#0d0887\"], [0.1111111111111111, \"#46039f\"], [0.2222222222222222, \"#7201a8\"], [0.3333333333333333, \"#9c179e\"], [0.4444444444444444, \"#bd3786\"], [0.5555555555555556, \"#d8576b\"], [0.6666666666666666, \"#ed7953\"], [0.7777777777777778, \"#fb9f3a\"], [0.8888888888888888, \"#fdca26\"], [1.0, \"#f0f921\"]], \"type\": \"surface\"}], \"table\": [{\"cells\": {\"fill\": {\"color\": \"#EBF0F8\"}, \"line\": {\"color\": \"white\"}}, \"header\": {\"fill\": {\"color\": \"#C8D4E3\"}, \"line\": {\"color\": \"white\"}}, \"type\": \"table\"}]}, \"layout\": {\"annotationdefaults\": {\"arrowcolor\": \"#2a3f5f\", \"arrowhead\": 0, \"arrowwidth\": 1}, \"coloraxis\": {\"colorbar\": {\"outlinewidth\": 0, \"ticks\": \"\"}}, \"colorscale\": {\"diverging\": [[0, \"#8e0152\"], [0.1, \"#c51b7d\"], [0.2, \"#de77ae\"], [0.3, \"#f1b6da\"], [0.4, \"#fde0ef\"], [0.5, \"#f7f7f7\"], [0.6, \"#e6f5d0\"], [0.7, \"#b8e186\"], [0.8, \"#7fbc41\"], [0.9, \"#4d9221\"], [1, \"#276419\"]], \"sequential\": [[0.0, \"#0d0887\"], [0.1111111111111111, \"#46039f\"], [0.2222222222222222, \"#7201a8\"], [0.3333333333333333, \"#9c179e\"], [0.4444444444444444, \"#bd3786\"], [0.5555555555555556, \"#d8576b\"], [0.6666666666666666, \"#ed7953\"], [0.7777777777777778, \"#fb9f3a\"], [0.8888888888888888, \"#fdca26\"], [1.0, \"#f0f921\"]], \"sequentialminus\": [[0.0, \"#0d0887\"], [0.1111111111111111, \"#46039f\"], [0.2222222222222222, \"#7201a8\"], [0.3333333333333333, \"#9c179e\"], [0.4444444444444444, \"#bd3786\"], [0.5555555555555556, \"#d8576b\"], [0.6666666666666666, \"#ed7953\"], [0.7777777777777778, \"#fb9f3a\"], [0.8888888888888888, \"#fdca26\"], [1.0, \"#f0f921\"]]}, \"colorway\": [\"#636efa\", \"#EF553B\", \"#00cc96\", \"#ab63fa\", \"#FFA15A\", \"#19d3f3\", \"#FF6692\", \"#B6E880\", \"#FF97FF\", \"#FECB52\"], \"font\": {\"color\": \"#2a3f5f\"}, \"geo\": {\"bgcolor\": \"white\", \"lakecolor\": \"white\", \"landcolor\": \"#E5ECF6\", \"showlakes\": true, \"showland\": true, \"subunitcolor\": \"white\"}, \"hoverlabel\": {\"align\": \"left\"}, \"hovermode\": \"closest\", \"mapbox\": {\"style\": \"light\"}, \"paper_bgcolor\": \"white\", \"plot_bgcolor\": \"#E5ECF6\", \"polar\": {\"angularaxis\": {\"gridcolor\": \"white\", \"linecolor\": \"white\", \"ticks\": \"\"}, \"bgcolor\": \"#E5ECF6\", \"radialaxis\": {\"gridcolor\": \"white\", \"linecolor\": \"white\", \"ticks\": \"\"}}, \"scene\": {\"xaxis\": {\"backgroundcolor\": \"#E5ECF6\", \"gridcolor\": \"white\", \"gridwidth\": 2, \"linecolor\": \"white\", \"showbackground\": true, \"ticks\": \"\", \"zerolinecolor\": \"white\"}, \"yaxis\": {\"backgroundcolor\": \"#E5ECF6\", \"gridcolor\": \"white\", \"gridwidth\": 2, \"linecolor\": \"white\", \"showbackground\": true, \"ticks\": \"\", \"zerolinecolor\": \"white\"}, \"zaxis\": {\"backgroundcolor\": \"#E5ECF6\", \"gridcolor\": \"white\", \"gridwidth\": 2, \"linecolor\": \"white\", \"showbackground\": true, \"ticks\": \"\", \"zerolinecolor\": \"white\"}}, \"shapedefaults\": {\"line\": {\"color\": \"#2a3f5f\"}}, \"ternary\": {\"aaxis\": {\"gridcolor\": \"white\", \"linecolor\": \"white\", \"ticks\": \"\"}, \"baxis\": {\"gridcolor\": \"white\", \"linecolor\": \"white\", \"ticks\": \"\"}, \"bgcolor\": \"#E5ECF6\", \"caxis\": {\"gridcolor\": \"white\", \"linecolor\": \"white\", \"ticks\": \"\"}}, \"title\": {\"x\": 0.05}, \"xaxis\": {\"automargin\": true, \"gridcolor\": \"white\", \"linecolor\": \"white\", \"ticks\": \"\", \"title\": {\"standoff\": 15}, \"zerolinecolor\": \"white\", \"zerolinewidth\": 2}, \"yaxis\": {\"automargin\": true, \"gridcolor\": \"white\", \"linecolor\": \"white\", \"ticks\": \"\", \"title\": {\"standoff\": 15}, \"zerolinecolor\": \"white\", \"zerolinewidth\": 2}}}, \"title\": {\"font\": {\"size\": 22}, \"text\": \"<br>MORTES POR ESTADO EM - 2020-03-24<br>\", \"x\": 0.5, \"xanchor\": \"center\", \"yanchor\": \"top\"}, \"xaxis\": {\"tickfont\": {\"color\": \"black\", \"size\": 22}, \"title\": {\"text\": \"<br>DATA<br>\"}}, \"yaxis\": {\"tickfont\": {\"color\": \"black\", \"size\": 22}, \"tickformat\": \"n\", \"title\": {\"text\": \"<br>MOTES CONFIRMADAS<br>\"}}},\n",
       "                        {\"responsive\": true}\n",
       "                    ).then(function(){\n",
       "                            \n",
       "var gd = document.getElementById('e150d2eb-b0ae-4f0f-b49d-4b5cdc294152');\n",
       "var x = new MutationObserver(function (mutations, observer) {{\n",
       "        var display = window.getComputedStyle(gd).display;\n",
       "        if (!display || display === 'none') {{\n",
       "            console.log([gd, 'removed!']);\n",
       "            Plotly.purge(gd);\n",
       "            observer.disconnect();\n",
       "        }}\n",
       "}});\n",
       "\n",
       "// Listen for the removal of the full notebook cells\n",
       "var notebookContainer = gd.closest('#notebook-container');\n",
       "if (notebookContainer) {{\n",
       "    x.observe(notebookContainer, {childList: true});\n",
       "}}\n",
       "\n",
       "// Listen for the clearing of the current output cell\n",
       "var outputEl = gd.closest('.output');\n",
       "if (outputEl) {{\n",
       "    x.observe(outputEl, {childList: true});\n",
       "}}\n",
       "\n",
       "                        })\n",
       "                };\n",
       "                });\n",
       "            </script>\n",
       "        </div>"
      ]
     },
     "metadata": {},
     "output_type": "display_data"
    }
   ],
   "source": [
    "from tools.vizu import brasil_vis\n",
    "\n",
    "var_col = 'deaths'\n",
    "escala  = 'lin'\n",
    "cities  = cities\n",
    "\n",
    "largura = None\n",
    "save    = True\n",
    "\n",
    "# mask = ((dd[var_col]>0))\n",
    "# dd = dd[mask]\n",
    "\n",
    "\n",
    "brasil_vis(dd, var_col,cities, drop_cities, escala, x_name,y_name,title, largura, today,save)"
   ]
  },
  {
   "cell_type": "code",
   "execution_count": null,
   "metadata": {},
   "outputs": [],
   "source": []
  },
  {
   "cell_type": "code",
   "execution_count": 35,
   "metadata": {},
   "outputs": [],
   "source": []
  },
  {
   "cell_type": "code",
   "execution_count": null,
   "metadata": {},
   "outputs": [],
   "source": []
  },
  {
   "cell_type": "code",
   "execution_count": null,
   "metadata": {},
   "outputs": [],
   "source": []
  },
  {
   "cell_type": "code",
   "execution_count": null,
   "metadata": {},
   "outputs": [],
   "source": []
  },
  {
   "cell_type": "code",
   "execution_count": null,
   "metadata": {},
   "outputs": [],
   "source": []
  },
  {
   "cell_type": "code",
   "execution_count": null,
   "metadata": {},
   "outputs": [],
   "source": []
  },
  {
   "cell_type": "code",
   "execution_count": null,
   "metadata": {},
   "outputs": [],
   "source": []
  },
  {
   "cell_type": "code",
   "execution_count": null,
   "metadata": {},
   "outputs": [],
   "source": []
  },
  {
   "cell_type": "code",
   "execution_count": null,
   "metadata": {},
   "outputs": [],
   "source": []
  },
  {
   "cell_type": "code",
   "execution_count": null,
   "metadata": {},
   "outputs": [],
   "source": []
  },
  {
   "cell_type": "code",
   "execution_count": null,
   "metadata": {},
   "outputs": [],
   "source": []
  },
  {
   "cell_type": "code",
   "execution_count": null,
   "metadata": {},
   "outputs": [],
   "source": []
  },
  {
   "cell_type": "code",
   "execution_count": null,
   "metadata": {},
   "outputs": [],
   "source": []
  },
  {
   "cell_type": "code",
   "execution_count": null,
   "metadata": {},
   "outputs": [],
   "source": []
  },
  {
   "cell_type": "code",
   "execution_count": null,
   "metadata": {},
   "outputs": [],
   "source": []
  }
 ],
 "metadata": {
  "kernelspec": {
   "display_name": "Python 3",
   "language": "python",
   "name": "python3"
  },
  "language_info": {
   "codemirror_mode": {
    "name": "ipython",
    "version": 3
   },
   "file_extension": ".py",
   "mimetype": "text/x-python",
   "name": "python",
   "nbconvert_exporter": "python",
   "pygments_lexer": "ipython3",
   "version": "3.7.4"
  }
 },
 "nbformat": 4,
 "nbformat_minor": 4
}
