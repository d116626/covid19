{
 "cells": [
  {
   "cell_type": "code",
   "execution_count": 110,
   "metadata": {},
   "outputs": [],
   "source": [
    "%reload_ext autoreload\n",
    "%autoreload 2\n",
    "\n",
    "import warnings\n",
    "warnings.filterwarnings('ignore')\n",
    "\n",
    "import numpy as np\n",
    "import pandas as pd\n",
    "pd.options.display.max_columns = 999\n",
    "pd.options.display.max_rows = 999\n",
    "\n",
    "pd.options.display.max_colwidth = 100\n",
    "\n",
    "import plotly.graph_objs as go\n",
    "from plotly.offline import download_plotlyjs, init_notebook_mode, plot, iplot, offline\n",
    "import plotly.express as px\n",
    "import seaborn as sns\n",
    "import matplotlib.pyplot as plt\n",
    "\n",
    "import requests\n",
    "\n",
    "from os import listdir\n",
    "import unicodedata\n",
    "\n",
    "import json\n",
    "\n",
    "from paths import *\n",
    "from tools.vizu import remove_acentos\n",
    "from tools.vizu import normalize_cols\n",
    "from tools.io import read_sheets\n",
    "\n",
    "\n",
    "from datetime import datetime\n",
    "today = datetime.today().strftime('%Y-%m-%d')\n"
   ]
  },
  {
   "cell_type": "markdown",
   "metadata": {},
   "source": [
    "# Import Data"
   ]
  },
  {
   "cell_type": "code",
   "execution_count": 111,
   "metadata": {},
   "outputs": [],
   "source": [
    "# df = pd.read_csv('https://raw.githubusercontent.com/wcota/covid19br/master/cases-brazil-states.csv')\n",
    "# df['state'] = df['state'].str.replace('TOTAL','BRASIL')\n",
    "# df.to_csv('brasil_states.csv', index=False)"
   ]
  },
  {
   "cell_type": "code",
   "execution_count": null,
   "metadata": {},
   "outputs": [],
   "source": []
  },
  {
   "cell_type": "markdown",
   "metadata": {},
   "source": [
    "# Brasil.IO"
   ]
  },
  {
   "cell_type": "code",
   "execution_count": 112,
   "metadata": {
    "scrolled": true
   },
   "outputs": [
    {
     "name": "stdout",
     "output_type": "stream",
     "text": [
      "https://brasil.io/api/dataset/covid19/caso/data?format=json\n",
      "https://brasil.io/api/dataset/covid19/caso/data?format=json&page=2\n"
     ]
    }
   ],
   "source": [
    "####### IMPORT DATA ######\n",
    "url = 'https://brasil.io/api/dataset/covid19/caso/data?format=json'\n",
    "df_final = pd.DataFrame()\n",
    "\n",
    "while url != None:\n",
    "    \n",
    "    print(url)\n",
    "    response = requests.get(url)\n",
    "    data = response.text\n",
    "    parsed = json.loads(data)\n",
    "    url = parsed['next']\n",
    "    df = pd.DataFrame(parsed['results']).sort_values(by='confirmed',ascending=False)\n",
    "    df_final = pd.concat([df_final,df], axis=0)"
   ]
  },
  {
   "cell_type": "markdown",
   "metadata": {},
   "source": [
    "## transformation"
   ]
  },
  {
   "cell_type": "code",
   "execution_count": 115,
   "metadata": {},
   "outputs": [],
   "source": [
    "from tools.manipulation import create_br_not_sp\n",
    "\n",
    "df = df_final.sort_values(by='confirmed',ascending=False)\n",
    "dd = create_br_not_sp(df)\n",
    "\n",
    "### GET ONLY LAST DAY\n",
    "mask = dd['date'] < today\n",
    "dd = dd[mask]\n",
    "\n",
    "dd = dd.sort_values(by=['date'],ascending=False)\n",
    "dd = dd.sort_values(by=['confirmed'],ascending=False)\n",
    "\n",
    "# get only the states\n",
    "mask = ((dd['place_type']!='city'))\n",
    "df_states = dd[mask]\n",
    "df_states = df_states.sort_values(by=['date'],ascending=False)"
   ]
  },
  {
   "cell_type": "code",
   "execution_count": null,
   "metadata": {},
   "outputs": [],
   "source": []
  },
  {
   "cell_type": "markdown",
   "metadata": {},
   "source": [
    "## MYTABLE"
   ]
  },
  {
   "cell_type": "code",
   "execution_count": 117,
   "metadata": {},
   "outputs": [],
   "source": [
    "from tools.io import read_sheets\n",
    "df = read_sheets('covid19_estados')"
   ]
  },
  {
   "cell_type": "code",
   "execution_count": 130,
   "metadata": {},
   "outputs": [],
   "source": [
    "for col in ['confirmed','new_cases','deaths','new_cases']:\n",
    "    df[col] = pd.to_numeric(df[col])"
   ]
  },
  {
   "cell_type": "code",
   "execution_count": 137,
   "metadata": {},
   "outputs": [
    {
     "data": {
      "text/html": [
       "<div>\n",
       "<style scoped>\n",
       "    .dataframe tbody tr th:only-of-type {\n",
       "        vertical-align: middle;\n",
       "    }\n",
       "\n",
       "    .dataframe tbody tr th {\n",
       "        vertical-align: top;\n",
       "    }\n",
       "\n",
       "    .dataframe thead th {\n",
       "        text-align: right;\n",
       "    }\n",
       "</style>\n",
       "<table border=\"1\" class=\"dataframe\">\n",
       "  <thead>\n",
       "    <tr style=\"text-align: right;\">\n",
       "      <th></th>\n",
       "      <th>date</th>\n",
       "      <th>state</th>\n",
       "      <th>confirmed</th>\n",
       "      <th>new_cases</th>\n",
       "      <th>deaths</th>\n",
       "      <th>new_deaths</th>\n",
       "      <th>city</th>\n",
       "    </tr>\n",
       "  </thead>\n",
       "  <tbody>\n",
       "    <tr>\n",
       "      <th>371</th>\n",
       "      <td>2020-03-25</td>\n",
       "      <td>BRASIL</td>\n",
       "      <td>2433</td>\n",
       "      <td>160</td>\n",
       "      <td>57</td>\n",
       "      <td>11</td>\n",
       "      <td>BRASIL</td>\n",
       "    </tr>\n",
       "    <tr>\n",
       "      <th>363</th>\n",
       "      <td>2020-03-25</td>\n",
       "      <td>SP</td>\n",
       "      <td>862</td>\n",
       "      <td>52</td>\n",
       "      <td>48</td>\n",
       "      <td>8</td>\n",
       "      <td>SP</td>\n",
       "    </tr>\n",
       "    <tr>\n",
       "      <th>362</th>\n",
       "      <td>2020-03-25</td>\n",
       "      <td>RJ</td>\n",
       "      <td>370</td>\n",
       "      <td>65</td>\n",
       "      <td>6</td>\n",
       "      <td>0</td>\n",
       "      <td>RJ</td>\n",
       "    </tr>\n",
       "    <tr>\n",
       "      <th>353</th>\n",
       "      <td>2020-03-25</td>\n",
       "      <td>CE</td>\n",
       "      <td>200</td>\n",
       "      <td>15</td>\n",
       "      <td>0</td>\n",
       "      <td>0</td>\n",
       "      <td>CE</td>\n",
       "    </tr>\n",
       "    <tr>\n",
       "      <th>364</th>\n",
       "      <td>2020-03-25</td>\n",
       "      <td>DF</td>\n",
       "      <td>177</td>\n",
       "      <td>0</td>\n",
       "      <td>0</td>\n",
       "      <td>0</td>\n",
       "      <td>DF</td>\n",
       "    </tr>\n",
       "  </tbody>\n",
       "</table>\n",
       "</div>"
      ],
      "text/plain": [
       "           date   state  confirmed  new_cases  deaths new_deaths    city\n",
       "371  2020-03-25  BRASIL       2433        160      57         11  BRASIL\n",
       "363  2020-03-25      SP        862         52      48          8      SP\n",
       "362  2020-03-25      RJ        370         65       6          0      RJ\n",
       "353  2020-03-25      CE        200         15       0          0      CE\n",
       "364  2020-03-25      DF        177          0       0          0      DF"
      ]
     },
     "execution_count": 137,
     "metadata": {},
     "output_type": "execute_result"
    }
   ],
   "source": [
    "df_states = df.sort_values(by=['date','confirmed'], ascending=False)\n",
    "df_states['city'] = df_states['state']\n",
    "df_states.head()"
   ]
  },
  {
   "cell_type": "markdown",
   "metadata": {},
   "source": [
    "## VIS"
   ]
  },
  {
   "cell_type": "code",
   "execution_count": 140,
   "metadata": {},
   "outputs": [],
   "source": [
    "from tools.vizu import brasil_vis\n",
    "df_states = df_states.sort_values(by=['date'],ascending=False)\n",
    "\n",
    "escala  = 'lin'\n",
    "largura = None\n",
    "save    = True\n",
    "#### CHOSE CITIES TO START SELECTED IN GRAPH\n",
    "in_cities = ['BRASIL','SP', 'RJ']\n",
    "\n",
    "# mask = ((dd[var_col]>0))\n",
    "# dd = dd[mask]\n",
    "\n",
    "## confirmed or deaths\n",
    "for var in ['deaths','confirmed']:\n",
    "    fig = brasil_vis(df_states, var,in_cities, escala, today='25/03/2020', save=True)"
   ]
  },
  {
   "cell_type": "code",
   "execution_count": 141,
   "metadata": {},
   "outputs": [
    {
     "data": {
      "application/vnd.plotly.v1+json": {
       "config": {
        "plotlyServerURL": "https://plot.ly"
       },
       "data": [
        {
         "hoverlabel": {
          "font": {
           "size": 18
          },
          "namelength": -1
         },
         "line": {
          "width": 10
         },
         "marker": {
          "size": 15
         },
         "mode": "lines+markers",
         "name": "BRASIL",
         "type": "scatter",
         "x": [
          "2020-03-25",
          "2020-03-24",
          "2020-03-23",
          "2020-03-22",
          "2020-03-21",
          "2020-03-20",
          "2020-03-19",
          "2020-03-18",
          "2020-03-17",
          "2020-03-16",
          "2020-03-15",
          "2020-03-14",
          "2020-03-13",
          "2020-03-12",
          "2020-03-11",
          "2020-03-10",
          "2020-03-09",
          "2020-03-08",
          "2020-03-07",
          "2020-03-06",
          "2020-03-05",
          "2020-03-04",
          "2020-02-29",
          "2020-02-25"
         ],
         "y": [
          2433,
          2273,
          1962,
          1620,
          1205,
          1012,
          694,
          535,
          364,
          301,
          231,
          147,
          120,
          109,
          69,
          35,
          30,
          25,
          19,
          13,
          8,
          3,
          2,
          1
         ]
        },
        {
         "hoverlabel": {
          "font": {
           "size": 18
          },
          "namelength": -1
         },
         "line": {
          "width": 10
         },
         "marker": {
          "size": 15
         },
         "mode": "lines+markers",
         "name": "SP",
         "type": "scatter",
         "x": [
          "2020-03-25",
          "2020-03-24",
          "2020-03-23",
          "2020-03-22",
          "2020-03-21",
          "2020-03-20",
          "2020-03-19",
          "2020-03-18",
          "2020-03-17",
          "2020-03-16",
          "2020-03-15",
          "2020-03-14",
          "2020-03-13",
          "2020-03-12",
          "2020-03-11",
          "2020-03-10",
          "2020-03-09",
          "2020-03-08",
          "2020-03-07",
          "2020-03-06",
          "2020-03-05",
          "2020-03-04",
          "2020-02-29",
          "2020-02-25"
         ],
         "y": [
          862,
          810,
          745,
          631,
          459,
          396,
          287,
          244,
          164,
          152,
          136,
          65,
          64,
          64,
          45,
          19,
          16,
          16,
          13,
          10,
          6,
          3,
          2,
          1
         ]
        },
        {
         "hoverlabel": {
          "font": {
           "size": 18
          },
          "namelength": -1
         },
         "line": {
          "width": 10
         },
         "marker": {
          "size": 15
         },
         "mode": "lines+markers",
         "name": "RJ",
         "type": "scatter",
         "x": [
          "2020-03-25",
          "2020-03-24",
          "2020-03-23",
          "2020-03-22",
          "2020-03-21",
          "2020-03-20",
          "2020-03-19",
          "2020-03-18",
          "2020-03-17",
          "2020-03-16",
          "2020-03-15",
          "2020-03-14",
          "2020-03-13",
          "2020-03-12",
          "2020-03-11",
          "2020-03-10",
          "2020-03-09",
          "2020-03-08",
          "2020-03-07",
          "2020-03-06",
          "2020-03-05"
         ],
         "y": [
          370,
          305,
          233,
          186,
          119,
          109,
          66,
          63,
          39,
          31,
          24,
          24,
          19,
          16,
          14,
          8,
          8,
          3,
          2,
          1,
          1
         ]
        },
        {
         "hoverlabel": {
          "font": {
           "size": 18
          },
          "namelength": -1
         },
         "line": {
          "width": 10
         },
         "marker": {
          "size": 15
         },
         "mode": "lines+markers",
         "name": "AC",
         "type": "scatter",
         "visible": "legendonly",
         "x": [
          "2020-03-25",
          "2020-03-24",
          "2020-03-23",
          "2020-03-22",
          "2020-03-21",
          "2020-03-20",
          "2020-03-19",
          "2020-03-18",
          "2020-03-17"
         ],
         "y": [
          23,
          21,
          17,
          11,
          11,
          7,
          4,
          3,
          3
         ]
        },
        {
         "hoverlabel": {
          "font": {
           "size": 18
          },
          "namelength": -1
         },
         "line": {
          "width": 10
         },
         "marker": {
          "size": 15
         },
         "mode": "lines+markers",
         "name": "AL",
         "type": "scatter",
         "visible": "legendonly",
         "x": [
          "2020-03-25",
          "2020-03-24",
          "2020-03-23",
          "2020-03-22",
          "2020-03-21",
          "2020-03-20",
          "2020-03-19",
          "2020-03-18",
          "2020-03-17",
          "2020-03-16",
          "2020-03-15",
          "2020-03-14",
          "2020-03-13",
          "2020-03-12",
          "2020-03-11",
          "2020-03-10",
          "2020-03-09",
          "2020-03-08"
         ],
         "y": [
          11,
          10,
          8,
          7,
          7,
          6,
          4,
          1,
          1,
          1,
          1,
          1,
          1,
          1,
          1,
          1,
          1,
          1
         ]
        },
        {
         "hoverlabel": {
          "font": {
           "size": 18
          },
          "namelength": -1
         },
         "line": {
          "width": 10
         },
         "marker": {
          "size": 15
         },
         "mode": "lines+markers",
         "name": "AM",
         "type": "scatter",
         "visible": "legendonly",
         "x": [
          "2020-03-25",
          "2020-03-24",
          "2020-03-23",
          "2020-03-22",
          "2020-03-21",
          "2020-03-20",
          "2020-03-19",
          "2020-03-18",
          "2020-03-17",
          "2020-03-16",
          "2020-03-15",
          "2020-03-14",
          "2020-03-13"
         ],
         "y": [
          54,
          47,
          32,
          26,
          11,
          7,
          3,
          2,
          2,
          1,
          1,
          1,
          1
         ]
        },
        {
         "hoverlabel": {
          "font": {
           "size": 18
          },
          "namelength": -1
         },
         "line": {
          "width": 10
         },
         "marker": {
          "size": 15
         },
         "mode": "lines+markers",
         "name": "AP",
         "type": "scatter",
         "visible": "legendonly",
         "x": [
          "2020-03-25",
          "2020-03-24",
          "2020-03-23",
          "2020-03-22",
          "2020-03-21",
          "2020-03-20"
         ],
         "y": [
          1,
          1,
          1,
          1,
          1,
          1
         ]
        },
        {
         "hoverlabel": {
          "font": {
           "size": 18
          },
          "namelength": -1
         },
         "line": {
          "width": 10
         },
         "marker": {
          "size": 15
         },
         "mode": "lines+markers",
         "name": "BA",
         "type": "scatter",
         "visible": "legendonly",
         "x": [
          "2020-03-25",
          "2020-03-24",
          "2020-03-23",
          "2020-03-22",
          "2020-03-21",
          "2020-03-20",
          "2020-03-19",
          "2020-03-18",
          "2020-03-17",
          "2020-03-16",
          "2020-03-15",
          "2020-03-14",
          "2020-03-13",
          "2020-03-12",
          "2020-03-11",
          "2020-03-10",
          "2020-03-09",
          "2020-03-08",
          "2020-03-07",
          "2020-03-06"
         ],
         "y": [
          84,
          79,
          63,
          55,
          41,
          34,
          31,
          27,
          16,
          10,
          9,
          7,
          7,
          3,
          3,
          2,
          2,
          2,
          2,
          1
         ]
        },
        {
         "hoverlabel": {
          "font": {
           "size": 18
          },
          "namelength": -1
         },
         "line": {
          "width": 10
         },
         "marker": {
          "size": 15
         },
         "mode": "lines+markers",
         "name": "CE",
         "type": "scatter",
         "visible": "legendonly",
         "x": [
          "2020-03-25",
          "2020-03-24",
          "2020-03-23",
          "2020-03-22",
          "2020-03-21",
          "2020-03-20",
          "2020-03-19",
          "2020-03-18",
          "2020-03-17",
          "2020-03-16",
          "2020-03-15"
         ],
         "y": [
          200,
          185,
          164,
          125,
          84,
          68,
          25,
          20,
          11,
          9,
          3
         ]
        },
        {
         "hoverlabel": {
          "font": {
           "size": 18
          },
          "namelength": -1
         },
         "line": {
          "width": 10
         },
         "marker": {
          "size": 15
         },
         "mode": "lines+markers",
         "name": "DF",
         "type": "scatter",
         "visible": "legendonly",
         "x": [
          "2020-03-25",
          "2020-03-24",
          "2020-03-23",
          "2020-03-22",
          "2020-03-21",
          "2020-03-20",
          "2020-03-19",
          "2020-03-18",
          "2020-03-17",
          "2020-03-16",
          "2020-03-15",
          "2020-03-14",
          "2020-03-13",
          "2020-03-12",
          "2020-03-11",
          "2020-03-10",
          "2020-03-09",
          "2020-03-08",
          "2020-03-07"
         ],
         "y": [
          177,
          177,
          146,
          134,
          112,
          108,
          84,
          36,
          26,
          19,
          14,
          8,
          3,
          3,
          2,
          2,
          1,
          1,
          1
         ]
        },
        {
         "hoverlabel": {
          "font": {
           "size": 18
          },
          "namelength": -1
         },
         "line": {
          "width": 10
         },
         "marker": {
          "size": 15
         },
         "mode": "lines+markers",
         "name": "ES",
         "type": "scatter",
         "visible": "legendonly",
         "x": [
          "2020-03-25",
          "2020-03-24",
          "2020-03-23",
          "2020-03-22",
          "2020-03-21",
          "2020-03-20",
          "2020-03-19",
          "2020-03-18",
          "2020-03-17",
          "2020-03-16",
          "2020-03-15",
          "2020-03-14",
          "2020-03-13",
          "2020-03-12",
          "2020-03-11",
          "2020-03-10",
          "2020-03-09",
          "2020-03-08",
          "2020-03-07",
          "2020-03-06",
          "2020-03-05"
         ],
         "y": [
          40,
          40,
          33,
          26,
          26,
          16,
          13,
          11,
          8,
          8,
          4,
          4,
          2,
          2,
          1,
          1,
          1,
          1,
          1,
          1,
          1
         ]
        },
        {
         "hoverlabel": {
          "font": {
           "size": 18
          },
          "namelength": -1
         },
         "line": {
          "width": 10
         },
         "marker": {
          "size": 15
         },
         "mode": "lines+markers",
         "name": "GO",
         "type": "scatter",
         "visible": "legendonly",
         "x": [
          "2020-03-25",
          "2020-03-24",
          "2020-03-23",
          "2020-03-22",
          "2020-03-21",
          "2020-03-20",
          "2020-03-19",
          "2020-03-18",
          "2020-03-17",
          "2020-03-16",
          "2020-03-15",
          "2020-03-14",
          "2020-03-13",
          "2020-03-12"
         ],
         "y": [
          29,
          29,
          23,
          21,
          20,
          18,
          15,
          12,
          10,
          9,
          4,
          4,
          3,
          3
         ]
        },
        {
         "hoverlabel": {
          "font": {
           "size": 18
          },
          "namelength": -1
         },
         "line": {
          "width": 10
         },
         "marker": {
          "size": 15
         },
         "mode": "lines+markers",
         "name": "MA",
         "type": "scatter",
         "visible": "legendonly",
         "x": [
          "2020-03-25",
          "2020-03-24",
          "2020-03-23",
          "2020-03-22",
          "2020-03-21",
          "2020-03-20"
         ],
         "y": [
          8,
          8,
          8,
          2,
          2,
          1
         ]
        },
        {
         "hoverlabel": {
          "font": {
           "size": 18
          },
          "namelength": -1
         },
         "line": {
          "width": 10
         },
         "marker": {
          "size": 15
         },
         "mode": "lines+markers",
         "name": "MG",
         "type": "scatter",
         "visible": "legendonly",
         "x": [
          "2020-03-25",
          "2020-03-24",
          "2020-03-23",
          "2020-03-22",
          "2020-03-21",
          "2020-03-20",
          "2020-03-19",
          "2020-03-18",
          "2020-03-17",
          "2020-03-16",
          "2020-03-15",
          "2020-03-14",
          "2020-03-13",
          "2020-03-12",
          "2020-03-11",
          "2020-03-10",
          "2020-03-09",
          "2020-03-08"
         ],
         "y": [
          133,
          130,
          128,
          83,
          55,
          38,
          29,
          20,
          14,
          7,
          4,
          4,
          2,
          2,
          1,
          1,
          1,
          1
         ]
        },
        {
         "hoverlabel": {
          "font": {
           "size": 18
          },
          "namelength": -1
         },
         "line": {
          "width": 10
         },
         "marker": {
          "size": 15
         },
         "mode": "lines+markers",
         "name": "MS",
         "type": "scatter",
         "visible": "legendonly",
         "x": [
          "2020-03-25",
          "2020-03-24",
          "2020-03-23",
          "2020-03-22",
          "2020-03-21",
          "2020-03-20",
          "2020-03-19",
          "2020-03-18",
          "2020-03-17",
          "2020-03-16",
          "2020-03-15",
          "2020-03-14"
         ],
         "y": [
          24,
          24,
          21,
          21,
          16,
          12,
          9,
          7,
          6,
          4,
          2,
          2
         ]
        },
        {
         "hoverlabel": {
          "font": {
           "size": 18
          },
          "namelength": -1
         },
         "line": {
          "width": 10
         },
         "marker": {
          "size": 15
         },
         "mode": "lines+markers",
         "name": "MT",
         "type": "scatter",
         "visible": "legendonly",
         "x": [
          "2020-03-25",
          "2020-03-24",
          "2020-03-23",
          "2020-03-22",
          "2020-03-21",
          "2020-03-20",
          "2020-03-19",
          "2020-03-18",
          "2020-03-17"
         ],
         "y": [
          9,
          9,
          8,
          3,
          3,
          2,
          1,
          1,
          1
         ]
        },
        {
         "hoverlabel": {
          "font": {
           "size": 18
          },
          "namelength": -1
         },
         "line": {
          "width": 10
         },
         "marker": {
          "size": 15
         },
         "mode": "lines+markers",
         "name": "PA",
         "type": "scatter",
         "visible": "legendonly",
         "x": [
          "2020-03-25",
          "2020-03-24",
          "2020-03-23",
          "2020-03-22",
          "2020-03-21",
          "2020-03-20",
          "2020-03-19",
          "2020-03-18"
         ],
         "y": [
          7,
          5,
          5,
          4,
          2,
          2,
          1,
          1
         ]
        },
        {
         "hoverlabel": {
          "font": {
           "size": 18
          },
          "namelength": -1
         },
         "line": {
          "width": 10
         },
         "marker": {
          "size": 15
         },
         "mode": "lines+markers",
         "name": "PB",
         "type": "scatter",
         "visible": "legendonly",
         "x": [
          "2020-03-25",
          "2020-03-24",
          "2020-03-23",
          "2020-03-22",
          "2020-03-21",
          "2020-03-20",
          "2020-03-19",
          "2020-03-18"
         ],
         "y": [
          3,
          3,
          2,
          1,
          1,
          1,
          1,
          1
         ]
        },
        {
         "hoverlabel": {
          "font": {
           "size": 18
          },
          "namelength": -1
         },
         "line": {
          "width": 10
         },
         "marker": {
          "size": 15
         },
         "mode": "lines+markers",
         "name": "PE",
         "type": "scatter",
         "visible": "legendonly",
         "x": [
          "2020-03-25",
          "2020-03-24",
          "2020-03-23",
          "2020-03-22",
          "2020-03-21",
          "2020-03-20",
          "2020-03-19",
          "2020-03-18",
          "2020-03-17",
          "2020-03-16",
          "2020-03-15",
          "2020-03-14",
          "2020-03-13",
          "2020-03-12"
         ],
         "y": [
          46,
          42,
          42,
          37,
          33,
          31,
          28,
          22,
          19,
          18,
          8,
          7,
          2,
          2
         ]
        },
        {
         "hoverlabel": {
          "font": {
           "size": 18
          },
          "namelength": -1
         },
         "line": {
          "width": 10
         },
         "marker": {
          "size": 15
         },
         "mode": "lines+markers",
         "name": "PI",
         "type": "scatter",
         "visible": "legendonly",
         "x": [
          "2020-03-25",
          "2020-03-24",
          "2020-03-23",
          "2020-03-22",
          "2020-03-21",
          "2020-03-20",
          "2020-03-19"
         ],
         "y": [
          8,
          8,
          6,
          6,
          4,
          4,
          3
         ]
        },
        {
         "hoverlabel": {
          "font": {
           "size": 18
          },
          "namelength": -1
         },
         "line": {
          "width": 10
         },
         "marker": {
          "size": 15
         },
         "mode": "lines+markers",
         "name": "PR",
         "type": "scatter",
         "visible": "legendonly",
         "x": [
          "2020-03-25",
          "2020-03-24",
          "2020-03-23",
          "2020-03-22",
          "2020-03-21",
          "2020-03-20",
          "2020-03-19",
          "2020-03-18",
          "2020-03-17",
          "2020-03-16",
          "2020-03-15",
          "2020-03-14",
          "2020-03-13",
          "2020-03-12"
         ],
         "y": [
          81,
          70,
          60,
          54,
          43,
          36,
          23,
          14,
          12,
          8,
          6,
          6,
          6,
          6
         ]
        },
        {
         "hoverlabel": {
          "font": {
           "size": 18
          },
          "namelength": -1
         },
         "line": {
          "width": 10
         },
         "marker": {
          "size": 15
         },
         "mode": "lines+markers",
         "name": "RN",
         "type": "scatter",
         "visible": "legendonly",
         "x": [
          "2020-03-25",
          "2020-03-24",
          "2020-03-23",
          "2020-03-22",
          "2020-03-21",
          "2020-03-20",
          "2020-03-19",
          "2020-03-18",
          "2020-03-17",
          "2020-03-16",
          "2020-03-15",
          "2020-03-14",
          "2020-03-13",
          "2020-03-12"
         ],
         "y": [
          14,
          14,
          13,
          13,
          9,
          6,
          1,
          1,
          1,
          1,
          1,
          1,
          1,
          1
         ]
        },
        {
         "hoverlabel": {
          "font": {
           "size": 18
          },
          "namelength": -1
         },
         "line": {
          "width": 10
         },
         "marker": {
          "size": 15
         },
         "mode": "lines+markers",
         "name": "RO",
         "type": "scatter",
         "visible": "legendonly",
         "x": [
          "2020-03-25",
          "2020-03-24",
          "2020-03-23",
          "2020-03-22",
          "2020-03-21",
          "2020-03-20",
          "2020-03-19"
         ],
         "y": [
          5,
          5,
          3,
          3,
          3,
          1,
          1
         ]
        },
        {
         "hoverlabel": {
          "font": {
           "size": 18
          },
          "namelength": -1
         },
         "line": {
          "width": 10
         },
         "marker": {
          "size": 15
         },
         "mode": "lines+markers",
         "name": "RR",
         "type": "scatter",
         "visible": "legendonly",
         "x": [
          "2020-03-25",
          "2020-03-24",
          "2020-03-23",
          "2020-03-22",
          "2020-03-21"
         ],
         "y": [
          8,
          8,
          2,
          2,
          2
         ]
        },
        {
         "hoverlabel": {
          "font": {
           "size": 18
          },
          "namelength": -1
         },
         "line": {
          "width": 10
         },
         "marker": {
          "size": 15
         },
         "mode": "lines+markers",
         "name": "RS",
         "type": "scatter",
         "visible": "legendonly",
         "x": [
          "2020-03-25",
          "2020-03-24",
          "2020-03-23",
          "2020-03-22",
          "2020-03-21",
          "2020-03-20",
          "2020-03-19",
          "2020-03-18",
          "2020-03-17",
          "2020-03-16",
          "2020-03-15",
          "2020-03-14",
          "2020-03-13",
          "2020-03-12",
          "2020-03-11",
          "2020-03-10"
         ],
         "y": [
          123,
          112,
          96,
          85,
          72,
          60,
          37,
          28,
          19,
          11,
          7,
          7,
          6,
          4,
          2,
          1
         ]
        },
        {
         "hoverlabel": {
          "font": {
           "size": 18
          },
          "namelength": -1
         },
         "line": {
          "width": 10
         },
         "marker": {
          "size": 15
         },
         "mode": "lines+markers",
         "name": "SC",
         "type": "scatter",
         "visible": "legendonly",
         "x": [
          "2020-03-25",
          "2020-03-24",
          "2020-03-23",
          "2020-03-22",
          "2020-03-21",
          "2020-03-20",
          "2020-03-19",
          "2020-03-18",
          "2020-03-17",
          "2020-03-16",
          "2020-03-15",
          "2020-03-14",
          "2020-03-13",
          "2020-03-12"
         ],
         "y": [
          109,
          109,
          86,
          68,
          57,
          40,
          21,
          14,
          7,
          7,
          6,
          5,
          3,
          2
         ]
        },
        {
         "hoverlabel": {
          "font": {
           "size": 18
          },
          "namelength": -1
         },
         "line": {
          "width": 10
         },
         "marker": {
          "size": 15
         },
         "mode": "lines+markers",
         "name": "SE",
         "type": "scatter",
         "visible": "legendonly",
         "x": [
          "2020-03-25",
          "2020-03-24",
          "2020-03-23",
          "2020-03-22",
          "2020-03-21",
          "2020-03-20",
          "2020-03-19",
          "2020-03-18",
          "2020-03-17",
          "2020-03-16",
          "2020-03-15",
          "2020-03-14"
         ],
         "y": [
          16,
          15,
          10,
          10,
          10,
          7,
          6,
          6,
          5,
          5,
          1,
          1
         ]
        },
        {
         "hoverlabel": {
          "font": {
           "size": 18
          },
          "namelength": -1
         },
         "line": {
          "width": 10
         },
         "marker": {
          "size": 15
         },
         "mode": "lines+markers",
         "name": "TO",
         "type": "scatter",
         "visible": "legendonly",
         "x": [
          "2020-03-25",
          "2020-03-24",
          "2020-03-23",
          "2020-03-22",
          "2020-03-21",
          "2020-03-20",
          "2020-03-19",
          "2020-03-18"
         ],
         "y": [
          7,
          7,
          7,
          5,
          2,
          1,
          1,
          1
         ]
        }
       ],
       "layout": {
        "autosize": true,
        "barmode": "stack",
        "font": {
         "size": 18
        },
        "legend": {
         "bgcolor": "rgba(0, 0, 0, 0)",
         "font": {
          "color": "black",
          "family": "sans-serif",
          "size": 20
         },
         "orientation": "v"
        },
        "template": {
         "data": {
          "bar": [
           {
            "error_x": {
             "color": "#2a3f5f"
            },
            "error_y": {
             "color": "#2a3f5f"
            },
            "marker": {
             "line": {
              "color": "#E5ECF6",
              "width": 0.5
             }
            },
            "type": "bar"
           }
          ],
          "barpolar": [
           {
            "marker": {
             "line": {
              "color": "#E5ECF6",
              "width": 0.5
             }
            },
            "type": "barpolar"
           }
          ],
          "carpet": [
           {
            "aaxis": {
             "endlinecolor": "#2a3f5f",
             "gridcolor": "white",
             "linecolor": "white",
             "minorgridcolor": "white",
             "startlinecolor": "#2a3f5f"
            },
            "baxis": {
             "endlinecolor": "#2a3f5f",
             "gridcolor": "white",
             "linecolor": "white",
             "minorgridcolor": "white",
             "startlinecolor": "#2a3f5f"
            },
            "type": "carpet"
           }
          ],
          "choropleth": [
           {
            "colorbar": {
             "outlinewidth": 0,
             "ticks": ""
            },
            "type": "choropleth"
           }
          ],
          "contour": [
           {
            "colorbar": {
             "outlinewidth": 0,
             "ticks": ""
            },
            "colorscale": [
             [
              0,
              "#0d0887"
             ],
             [
              0.1111111111111111,
              "#46039f"
             ],
             [
              0.2222222222222222,
              "#7201a8"
             ],
             [
              0.3333333333333333,
              "#9c179e"
             ],
             [
              0.4444444444444444,
              "#bd3786"
             ],
             [
              0.5555555555555556,
              "#d8576b"
             ],
             [
              0.6666666666666666,
              "#ed7953"
             ],
             [
              0.7777777777777778,
              "#fb9f3a"
             ],
             [
              0.8888888888888888,
              "#fdca26"
             ],
             [
              1,
              "#f0f921"
             ]
            ],
            "type": "contour"
           }
          ],
          "contourcarpet": [
           {
            "colorbar": {
             "outlinewidth": 0,
             "ticks": ""
            },
            "type": "contourcarpet"
           }
          ],
          "heatmap": [
           {
            "colorbar": {
             "outlinewidth": 0,
             "ticks": ""
            },
            "colorscale": [
             [
              0,
              "#0d0887"
             ],
             [
              0.1111111111111111,
              "#46039f"
             ],
             [
              0.2222222222222222,
              "#7201a8"
             ],
             [
              0.3333333333333333,
              "#9c179e"
             ],
             [
              0.4444444444444444,
              "#bd3786"
             ],
             [
              0.5555555555555556,
              "#d8576b"
             ],
             [
              0.6666666666666666,
              "#ed7953"
             ],
             [
              0.7777777777777778,
              "#fb9f3a"
             ],
             [
              0.8888888888888888,
              "#fdca26"
             ],
             [
              1,
              "#f0f921"
             ]
            ],
            "type": "heatmap"
           }
          ],
          "heatmapgl": [
           {
            "colorbar": {
             "outlinewidth": 0,
             "ticks": ""
            },
            "colorscale": [
             [
              0,
              "#0d0887"
             ],
             [
              0.1111111111111111,
              "#46039f"
             ],
             [
              0.2222222222222222,
              "#7201a8"
             ],
             [
              0.3333333333333333,
              "#9c179e"
             ],
             [
              0.4444444444444444,
              "#bd3786"
             ],
             [
              0.5555555555555556,
              "#d8576b"
             ],
             [
              0.6666666666666666,
              "#ed7953"
             ],
             [
              0.7777777777777778,
              "#fb9f3a"
             ],
             [
              0.8888888888888888,
              "#fdca26"
             ],
             [
              1,
              "#f0f921"
             ]
            ],
            "type": "heatmapgl"
           }
          ],
          "histogram": [
           {
            "marker": {
             "colorbar": {
              "outlinewidth": 0,
              "ticks": ""
             }
            },
            "type": "histogram"
           }
          ],
          "histogram2d": [
           {
            "colorbar": {
             "outlinewidth": 0,
             "ticks": ""
            },
            "colorscale": [
             [
              0,
              "#0d0887"
             ],
             [
              0.1111111111111111,
              "#46039f"
             ],
             [
              0.2222222222222222,
              "#7201a8"
             ],
             [
              0.3333333333333333,
              "#9c179e"
             ],
             [
              0.4444444444444444,
              "#bd3786"
             ],
             [
              0.5555555555555556,
              "#d8576b"
             ],
             [
              0.6666666666666666,
              "#ed7953"
             ],
             [
              0.7777777777777778,
              "#fb9f3a"
             ],
             [
              0.8888888888888888,
              "#fdca26"
             ],
             [
              1,
              "#f0f921"
             ]
            ],
            "type": "histogram2d"
           }
          ],
          "histogram2dcontour": [
           {
            "colorbar": {
             "outlinewidth": 0,
             "ticks": ""
            },
            "colorscale": [
             [
              0,
              "#0d0887"
             ],
             [
              0.1111111111111111,
              "#46039f"
             ],
             [
              0.2222222222222222,
              "#7201a8"
             ],
             [
              0.3333333333333333,
              "#9c179e"
             ],
             [
              0.4444444444444444,
              "#bd3786"
             ],
             [
              0.5555555555555556,
              "#d8576b"
             ],
             [
              0.6666666666666666,
              "#ed7953"
             ],
             [
              0.7777777777777778,
              "#fb9f3a"
             ],
             [
              0.8888888888888888,
              "#fdca26"
             ],
             [
              1,
              "#f0f921"
             ]
            ],
            "type": "histogram2dcontour"
           }
          ],
          "mesh3d": [
           {
            "colorbar": {
             "outlinewidth": 0,
             "ticks": ""
            },
            "type": "mesh3d"
           }
          ],
          "parcoords": [
           {
            "line": {
             "colorbar": {
              "outlinewidth": 0,
              "ticks": ""
             }
            },
            "type": "parcoords"
           }
          ],
          "pie": [
           {
            "automargin": true,
            "type": "pie"
           }
          ],
          "scatter": [
           {
            "marker": {
             "colorbar": {
              "outlinewidth": 0,
              "ticks": ""
             }
            },
            "type": "scatter"
           }
          ],
          "scatter3d": [
           {
            "line": {
             "colorbar": {
              "outlinewidth": 0,
              "ticks": ""
             }
            },
            "marker": {
             "colorbar": {
              "outlinewidth": 0,
              "ticks": ""
             }
            },
            "type": "scatter3d"
           }
          ],
          "scattercarpet": [
           {
            "marker": {
             "colorbar": {
              "outlinewidth": 0,
              "ticks": ""
             }
            },
            "type": "scattercarpet"
           }
          ],
          "scattergeo": [
           {
            "marker": {
             "colorbar": {
              "outlinewidth": 0,
              "ticks": ""
             }
            },
            "type": "scattergeo"
           }
          ],
          "scattergl": [
           {
            "marker": {
             "colorbar": {
              "outlinewidth": 0,
              "ticks": ""
             }
            },
            "type": "scattergl"
           }
          ],
          "scattermapbox": [
           {
            "marker": {
             "colorbar": {
              "outlinewidth": 0,
              "ticks": ""
             }
            },
            "type": "scattermapbox"
           }
          ],
          "scatterpolar": [
           {
            "marker": {
             "colorbar": {
              "outlinewidth": 0,
              "ticks": ""
             }
            },
            "type": "scatterpolar"
           }
          ],
          "scatterpolargl": [
           {
            "marker": {
             "colorbar": {
              "outlinewidth": 0,
              "ticks": ""
             }
            },
            "type": "scatterpolargl"
           }
          ],
          "scatterternary": [
           {
            "marker": {
             "colorbar": {
              "outlinewidth": 0,
              "ticks": ""
             }
            },
            "type": "scatterternary"
           }
          ],
          "surface": [
           {
            "colorbar": {
             "outlinewidth": 0,
             "ticks": ""
            },
            "colorscale": [
             [
              0,
              "#0d0887"
             ],
             [
              0.1111111111111111,
              "#46039f"
             ],
             [
              0.2222222222222222,
              "#7201a8"
             ],
             [
              0.3333333333333333,
              "#9c179e"
             ],
             [
              0.4444444444444444,
              "#bd3786"
             ],
             [
              0.5555555555555556,
              "#d8576b"
             ],
             [
              0.6666666666666666,
              "#ed7953"
             ],
             [
              0.7777777777777778,
              "#fb9f3a"
             ],
             [
              0.8888888888888888,
              "#fdca26"
             ],
             [
              1,
              "#f0f921"
             ]
            ],
            "type": "surface"
           }
          ],
          "table": [
           {
            "cells": {
             "fill": {
              "color": "#EBF0F8"
             },
             "line": {
              "color": "white"
             }
            },
            "header": {
             "fill": {
              "color": "#C8D4E3"
             },
             "line": {
              "color": "white"
             }
            },
            "type": "table"
           }
          ]
         },
         "layout": {
          "annotationdefaults": {
           "arrowcolor": "#2a3f5f",
           "arrowhead": 0,
           "arrowwidth": 1
          },
          "coloraxis": {
           "colorbar": {
            "outlinewidth": 0,
            "ticks": ""
           }
          },
          "colorscale": {
           "diverging": [
            [
             0,
             "#8e0152"
            ],
            [
             0.1,
             "#c51b7d"
            ],
            [
             0.2,
             "#de77ae"
            ],
            [
             0.3,
             "#f1b6da"
            ],
            [
             0.4,
             "#fde0ef"
            ],
            [
             0.5,
             "#f7f7f7"
            ],
            [
             0.6,
             "#e6f5d0"
            ],
            [
             0.7,
             "#b8e186"
            ],
            [
             0.8,
             "#7fbc41"
            ],
            [
             0.9,
             "#4d9221"
            ],
            [
             1,
             "#276419"
            ]
           ],
           "sequential": [
            [
             0,
             "#0d0887"
            ],
            [
             0.1111111111111111,
             "#46039f"
            ],
            [
             0.2222222222222222,
             "#7201a8"
            ],
            [
             0.3333333333333333,
             "#9c179e"
            ],
            [
             0.4444444444444444,
             "#bd3786"
            ],
            [
             0.5555555555555556,
             "#d8576b"
            ],
            [
             0.6666666666666666,
             "#ed7953"
            ],
            [
             0.7777777777777778,
             "#fb9f3a"
            ],
            [
             0.8888888888888888,
             "#fdca26"
            ],
            [
             1,
             "#f0f921"
            ]
           ],
           "sequentialminus": [
            [
             0,
             "#0d0887"
            ],
            [
             0.1111111111111111,
             "#46039f"
            ],
            [
             0.2222222222222222,
             "#7201a8"
            ],
            [
             0.3333333333333333,
             "#9c179e"
            ],
            [
             0.4444444444444444,
             "#bd3786"
            ],
            [
             0.5555555555555556,
             "#d8576b"
            ],
            [
             0.6666666666666666,
             "#ed7953"
            ],
            [
             0.7777777777777778,
             "#fb9f3a"
            ],
            [
             0.8888888888888888,
             "#fdca26"
            ],
            [
             1,
             "#f0f921"
            ]
           ]
          },
          "colorway": [
           "#636efa",
           "#EF553B",
           "#00cc96",
           "#ab63fa",
           "#FFA15A",
           "#19d3f3",
           "#FF6692",
           "#B6E880",
           "#FF97FF",
           "#FECB52"
          ],
          "font": {
           "color": "#2a3f5f"
          },
          "geo": {
           "bgcolor": "white",
           "lakecolor": "white",
           "landcolor": "#E5ECF6",
           "showlakes": true,
           "showland": true,
           "subunitcolor": "white"
          },
          "hoverlabel": {
           "align": "left"
          },
          "hovermode": "closest",
          "mapbox": {
           "style": "light"
          },
          "paper_bgcolor": "white",
          "plot_bgcolor": "#E5ECF6",
          "polar": {
           "angularaxis": {
            "gridcolor": "white",
            "linecolor": "white",
            "ticks": ""
           },
           "bgcolor": "#E5ECF6",
           "radialaxis": {
            "gridcolor": "white",
            "linecolor": "white",
            "ticks": ""
           }
          },
          "scene": {
           "xaxis": {
            "backgroundcolor": "#E5ECF6",
            "gridcolor": "white",
            "gridwidth": 2,
            "linecolor": "white",
            "showbackground": true,
            "ticks": "",
            "zerolinecolor": "white"
           },
           "yaxis": {
            "backgroundcolor": "#E5ECF6",
            "gridcolor": "white",
            "gridwidth": 2,
            "linecolor": "white",
            "showbackground": true,
            "ticks": "",
            "zerolinecolor": "white"
           },
           "zaxis": {
            "backgroundcolor": "#E5ECF6",
            "gridcolor": "white",
            "gridwidth": 2,
            "linecolor": "white",
            "showbackground": true,
            "ticks": "",
            "zerolinecolor": "white"
           }
          },
          "shapedefaults": {
           "line": {
            "color": "#2a3f5f"
           }
          },
          "ternary": {
           "aaxis": {
            "gridcolor": "white",
            "linecolor": "white",
            "ticks": ""
           },
           "baxis": {
            "gridcolor": "white",
            "linecolor": "white",
            "ticks": ""
           },
           "bgcolor": "#E5ECF6",
           "caxis": {
            "gridcolor": "white",
            "linecolor": "white",
            "ticks": ""
           }
          },
          "title": {
           "x": 0.05
          },
          "xaxis": {
           "automargin": true,
           "gridcolor": "white",
           "linecolor": "white",
           "ticks": "",
           "title": {
            "standoff": 15
           },
           "zerolinecolor": "white",
           "zerolinewidth": 2
          },
          "yaxis": {
           "automargin": true,
           "gridcolor": "white",
           "linecolor": "white",
           "ticks": "",
           "title": {
            "standoff": 15
           },
           "zerolinecolor": "white",
           "zerolinewidth": 2
          }
         }
        },
        "title": {
         "font": {
          "size": 22
         },
         "text": "<b>CASOS POR ESTADO EM 25/03/2020<b>",
         "x": 0.5,
         "xanchor": "center",
         "yanchor": "top"
        },
        "xaxis": {
         "autorange": true,
         "range": [
          "2020-02-23 02:49:38.2743",
          "2020-03-26 21:10:21.7257"
         ],
         "tickfont": {
          "color": "black",
          "size": 22
         },
         "tickformat": "%d/%m",
         "title": {
          "text": "<b>DATA<b>"
         },
         "type": "date"
        },
        "yaxis": {
         "autorange": true,
         "range": [
          -181.08993973110802,
          2615.089939731108
         ],
         "tickfont": {
          "color": "black",
          "size": 22
         },
         "tickformat": "n",
         "title": {
          "text": "<b>CASOS CONFIRMADAS<b>"
         },
         "type": "linear"
        }
       }
      },
      "image/png": "[encoded data removed]",
      "text/html": [
       "<div>\n",
       "        \n",
       "        \n",
       "            <div id=\"2145334e-1909-42f7-8eb1-e291d7725ebd\" class=\"plotly-graph-div\" style=\"height:800px; width:100%;\"></div>\n",
       "            <script type=\"text/javascript\">\n",
       "                require([\"plotly\"], function(Plotly) {\n",
       "                    window.PLOTLYENV=window.PLOTLYENV || {};\n",
       "                    \n",
       "                if (document.getElementById(\"2145334e-1909-42f7-8eb1-e291d7725ebd\")) {\n",
       "                    Plotly.newPlot(\n",
       "                        '2145334e-1909-42f7-8eb1-e291d7725ebd',\n",
       "                        [{\"hoverlabel\": {\"font\": {\"size\": 18}, \"namelength\": -1}, \"line\": {\"width\": 10}, \"marker\": {\"size\": 15}, \"mode\": \"lines+markers\", \"name\": \"BRASIL\", \"type\": \"scatter\", \"x\": [\"2020-03-25\", \"2020-03-24\", \"2020-03-23\", \"2020-03-22\", \"2020-03-21\", \"2020-03-20\", \"2020-03-19\", \"2020-03-18\", \"2020-03-17\", \"2020-03-16\", \"2020-03-15\", \"2020-03-14\", \"2020-03-13\", \"2020-03-12\", \"2020-03-11\", \"2020-03-10\", \"2020-03-09\", \"2020-03-08\", \"2020-03-07\", \"2020-03-06\", \"2020-03-05\", \"2020-03-04\", \"2020-02-29\", \"2020-02-25\"], \"y\": [2433, 2273, 1962, 1620, 1205, 1012, 694, 535, 364, 301, 231, 147, 120, 109, 69, 35, 30, 25, 19, 13, 8, 3, 2, 1]}, {\"hoverlabel\": {\"font\": {\"size\": 18}, \"namelength\": -1}, \"line\": {\"width\": 10}, \"marker\": {\"size\": 15}, \"mode\": \"lines+markers\", \"name\": \"SP\", \"type\": \"scatter\", \"x\": [\"2020-03-25\", \"2020-03-24\", \"2020-03-23\", \"2020-03-22\", \"2020-03-21\", \"2020-03-20\", \"2020-03-19\", \"2020-03-18\", \"2020-03-17\", \"2020-03-16\", \"2020-03-15\", \"2020-03-14\", \"2020-03-13\", \"2020-03-12\", \"2020-03-11\", \"2020-03-10\", \"2020-03-09\", \"2020-03-08\", \"2020-03-07\", \"2020-03-06\", \"2020-03-05\", \"2020-03-04\", \"2020-02-29\", \"2020-02-25\"], \"y\": [862, 810, 745, 631, 459, 396, 287, 244, 164, 152, 136, 65, 64, 64, 45, 19, 16, 16, 13, 10, 6, 3, 2, 1]}, {\"hoverlabel\": {\"font\": {\"size\": 18}, \"namelength\": -1}, \"line\": {\"width\": 10}, \"marker\": {\"size\": 15}, \"mode\": \"lines+markers\", \"name\": \"RJ\", \"type\": \"scatter\", \"x\": [\"2020-03-25\", \"2020-03-24\", \"2020-03-23\", \"2020-03-22\", \"2020-03-21\", \"2020-03-20\", \"2020-03-19\", \"2020-03-18\", \"2020-03-17\", \"2020-03-16\", \"2020-03-15\", \"2020-03-14\", \"2020-03-13\", \"2020-03-12\", \"2020-03-11\", \"2020-03-10\", \"2020-03-09\", \"2020-03-08\", \"2020-03-07\", \"2020-03-06\", \"2020-03-05\"], \"y\": [370, 305, 233, 186, 119, 109, 66, 63, 39, 31, 24, 24, 19, 16, 14, 8, 8, 3, 2, 1, 1]}, {\"hoverlabel\": {\"font\": {\"size\": 18}, \"namelength\": -1}, \"line\": {\"width\": 10}, \"marker\": {\"size\": 15}, \"mode\": \"lines+markers\", \"name\": \"AC\", \"type\": \"scatter\", \"visible\": \"legendonly\", \"x\": [\"2020-03-25\", \"2020-03-24\", \"2020-03-23\", \"2020-03-22\", \"2020-03-21\", \"2020-03-20\", \"2020-03-19\", \"2020-03-18\", \"2020-03-17\"], \"y\": [23, 21, 17, 11, 11, 7, 4, 3, 3]}, {\"hoverlabel\": {\"font\": {\"size\": 18}, \"namelength\": -1}, \"line\": {\"width\": 10}, \"marker\": {\"size\": 15}, \"mode\": \"lines+markers\", \"name\": \"AL\", \"type\": \"scatter\", \"visible\": \"legendonly\", \"x\": [\"2020-03-25\", \"2020-03-24\", \"2020-03-23\", \"2020-03-22\", \"2020-03-21\", \"2020-03-20\", \"2020-03-19\", \"2020-03-18\", \"2020-03-17\", \"2020-03-16\", \"2020-03-15\", \"2020-03-14\", \"2020-03-13\", \"2020-03-12\", \"2020-03-11\", \"2020-03-10\", \"2020-03-09\", \"2020-03-08\"], \"y\": [11, 10, 8, 7, 7, 6, 4, 1, 1, 1, 1, 1, 1, 1, 1, 1, 1, 1]}, {\"hoverlabel\": {\"font\": {\"size\": 18}, \"namelength\": -1}, \"line\": {\"width\": 10}, \"marker\": {\"size\": 15}, \"mode\": \"lines+markers\", \"name\": \"AM\", \"type\": \"scatter\", \"visible\": \"legendonly\", \"x\": [\"2020-03-25\", \"2020-03-24\", \"2020-03-23\", \"2020-03-22\", \"2020-03-21\", \"2020-03-20\", \"2020-03-19\", \"2020-03-18\", \"2020-03-17\", \"2020-03-16\", \"2020-03-15\", \"2020-03-14\", \"2020-03-13\"], \"y\": [54, 47, 32, 26, 11, 7, 3, 2, 2, 1, 1, 1, 1]}, {\"hoverlabel\": {\"font\": {\"size\": 18}, \"namelength\": -1}, \"line\": {\"width\": 10}, \"marker\": {\"size\": 15}, \"mode\": \"lines+markers\", \"name\": \"AP\", \"type\": \"scatter\", \"visible\": \"legendonly\", \"x\": [\"2020-03-25\", \"2020-03-24\", \"2020-03-23\", \"2020-03-22\", \"2020-03-21\", \"2020-03-20\"], \"y\": [1, 1, 1, 1, 1, 1]}, {\"hoverlabel\": {\"font\": {\"size\": 18}, \"namelength\": -1}, \"line\": {\"width\": 10}, \"marker\": {\"size\": 15}, \"mode\": \"lines+markers\", \"name\": \"BA\", \"type\": \"scatter\", \"visible\": \"legendonly\", \"x\": [\"2020-03-25\", \"2020-03-24\", \"2020-03-23\", \"2020-03-22\", \"2020-03-21\", \"2020-03-20\", \"2020-03-19\", \"2020-03-18\", \"2020-03-17\", \"2020-03-16\", \"2020-03-15\", \"2020-03-14\", \"2020-03-13\", \"2020-03-12\", \"2020-03-11\", \"2020-03-10\", \"2020-03-09\", \"2020-03-08\", \"2020-03-07\", \"2020-03-06\"], \"y\": [84, 79, 63, 55, 41, 34, 31, 27, 16, 10, 9, 7, 7, 3, 3, 2, 2, 2, 2, 1]}, {\"hoverlabel\": {\"font\": {\"size\": 18}, \"namelength\": -1}, \"line\": {\"width\": 10}, \"marker\": {\"size\": 15}, \"mode\": \"lines+markers\", \"name\": \"CE\", \"type\": \"scatter\", \"visible\": \"legendonly\", \"x\": [\"2020-03-25\", \"2020-03-24\", \"2020-03-23\", \"2020-03-22\", \"2020-03-21\", \"2020-03-20\", \"2020-03-19\", \"2020-03-18\", \"2020-03-17\", \"2020-03-16\", \"2020-03-15\"], \"y\": [200, 185, 164, 125, 84, 68, 25, 20, 11, 9, 3]}, {\"hoverlabel\": {\"font\": {\"size\": 18}, \"namelength\": -1}, \"line\": {\"width\": 10}, \"marker\": {\"size\": 15}, \"mode\": \"lines+markers\", \"name\": \"DF\", \"type\": \"scatter\", \"visible\": \"legendonly\", \"x\": [\"2020-03-25\", \"2020-03-24\", \"2020-03-23\", \"2020-03-22\", \"2020-03-21\", \"2020-03-20\", \"2020-03-19\", \"2020-03-18\", \"2020-03-17\", \"2020-03-16\", \"2020-03-15\", \"2020-03-14\", \"2020-03-13\", \"2020-03-12\", \"2020-03-11\", \"2020-03-10\", \"2020-03-09\", \"2020-03-08\", \"2020-03-07\"], \"y\": [177, 177, 146, 134, 112, 108, 84, 36, 26, 19, 14, 8, 3, 3, 2, 2, 1, 1, 1]}, {\"hoverlabel\": {\"font\": {\"size\": 18}, \"namelength\": -1}, \"line\": {\"width\": 10}, \"marker\": {\"size\": 15}, \"mode\": \"lines+markers\", \"name\": \"ES\", \"type\": \"scatter\", \"visible\": \"legendonly\", \"x\": [\"2020-03-25\", \"2020-03-24\", \"2020-03-23\", \"2020-03-22\", \"2020-03-21\", \"2020-03-20\", \"2020-03-19\", \"2020-03-18\", \"2020-03-17\", \"2020-03-16\", \"2020-03-15\", \"2020-03-14\", \"2020-03-13\", \"2020-03-12\", \"2020-03-11\", \"2020-03-10\", \"2020-03-09\", \"2020-03-08\", \"2020-03-07\", \"2020-03-06\", \"2020-03-05\"], \"y\": [40, 40, 33, 26, 26, 16, 13, 11, 8, 8, 4, 4, 2, 2, 1, 1, 1, 1, 1, 1, 1]}, {\"hoverlabel\": {\"font\": {\"size\": 18}, \"namelength\": -1}, \"line\": {\"width\": 10}, \"marker\": {\"size\": 15}, \"mode\": \"lines+markers\", \"name\": \"GO\", \"type\": \"scatter\", \"visible\": \"legendonly\", \"x\": [\"2020-03-25\", \"2020-03-24\", \"2020-03-23\", \"2020-03-22\", \"2020-03-21\", \"2020-03-20\", \"2020-03-19\", \"2020-03-18\", \"2020-03-17\", \"2020-03-16\", \"2020-03-15\", \"2020-03-14\", \"2020-03-13\", \"2020-03-12\"], \"y\": [29, 29, 23, 21, 20, 18, 15, 12, 10, 9, 4, 4, 3, 3]}, {\"hoverlabel\": {\"font\": {\"size\": 18}, \"namelength\": -1}, \"line\": {\"width\": 10}, \"marker\": {\"size\": 15}, \"mode\": \"lines+markers\", \"name\": \"MA\", \"type\": \"scatter\", \"visible\": \"legendonly\", \"x\": [\"2020-03-25\", \"2020-03-24\", \"2020-03-23\", \"2020-03-22\", \"2020-03-21\", \"2020-03-20\"], \"y\": [8, 8, 8, 2, 2, 1]}, {\"hoverlabel\": {\"font\": {\"size\": 18}, \"namelength\": -1}, \"line\": {\"width\": 10}, \"marker\": {\"size\": 15}, \"mode\": \"lines+markers\", \"name\": \"MG\", \"type\": \"scatter\", \"visible\": \"legendonly\", \"x\": [\"2020-03-25\", \"2020-03-24\", \"2020-03-23\", \"2020-03-22\", \"2020-03-21\", \"2020-03-20\", \"2020-03-19\", \"2020-03-18\", \"2020-03-17\", \"2020-03-16\", \"2020-03-15\", \"2020-03-14\", \"2020-03-13\", \"2020-03-12\", \"2020-03-11\", \"2020-03-10\", \"2020-03-09\", \"2020-03-08\"], \"y\": [133, 130, 128, 83, 55, 38, 29, 20, 14, 7, 4, 4, 2, 2, 1, 1, 1, 1]}, {\"hoverlabel\": {\"font\": {\"size\": 18}, \"namelength\": -1}, \"line\": {\"width\": 10}, \"marker\": {\"size\": 15}, \"mode\": \"lines+markers\", \"name\": \"MS\", \"type\": \"scatter\", \"visible\": \"legendonly\", \"x\": [\"2020-03-25\", \"2020-03-24\", \"2020-03-23\", \"2020-03-22\", \"2020-03-21\", \"2020-03-20\", \"2020-03-19\", \"2020-03-18\", \"2020-03-17\", \"2020-03-16\", \"2020-03-15\", \"2020-03-14\"], \"y\": [24, 24, 21, 21, 16, 12, 9, 7, 6, 4, 2, 2]}, {\"hoverlabel\": {\"font\": {\"size\": 18}, \"namelength\": -1}, \"line\": {\"width\": 10}, \"marker\": {\"size\": 15}, \"mode\": \"lines+markers\", \"name\": \"MT\", \"type\": \"scatter\", \"visible\": \"legendonly\", \"x\": [\"2020-03-25\", \"2020-03-24\", \"2020-03-23\", \"2020-03-22\", \"2020-03-21\", \"2020-03-20\", \"2020-03-19\", \"2020-03-18\", \"2020-03-17\"], \"y\": [9, 9, 8, 3, 3, 2, 1, 1, 1]}, {\"hoverlabel\": {\"font\": {\"size\": 18}, \"namelength\": -1}, \"line\": {\"width\": 10}, \"marker\": {\"size\": 15}, \"mode\": \"lines+markers\", \"name\": \"PA\", \"type\": \"scatter\", \"visible\": \"legendonly\", \"x\": [\"2020-03-25\", \"2020-03-24\", \"2020-03-23\", \"2020-03-22\", \"2020-03-21\", \"2020-03-20\", \"2020-03-19\", \"2020-03-18\"], \"y\": [7, 5, 5, 4, 2, 2, 1, 1]}, {\"hoverlabel\": {\"font\": {\"size\": 18}, \"namelength\": -1}, \"line\": {\"width\": 10}, \"marker\": {\"size\": 15}, \"mode\": \"lines+markers\", \"name\": \"PB\", \"type\": \"scatter\", \"visible\": \"legendonly\", \"x\": [\"2020-03-25\", \"2020-03-24\", \"2020-03-23\", \"2020-03-22\", \"2020-03-21\", \"2020-03-20\", \"2020-03-19\", \"2020-03-18\"], \"y\": [3, 3, 2, 1, 1, 1, 1, 1]}, {\"hoverlabel\": {\"font\": {\"size\": 18}, \"namelength\": -1}, \"line\": {\"width\": 10}, \"marker\": {\"size\": 15}, \"mode\": \"lines+markers\", \"name\": \"PE\", \"type\": \"scatter\", \"visible\": \"legendonly\", \"x\": [\"2020-03-25\", \"2020-03-24\", \"2020-03-23\", \"2020-03-22\", \"2020-03-21\", \"2020-03-20\", \"2020-03-19\", \"2020-03-18\", \"2020-03-17\", \"2020-03-16\", \"2020-03-15\", \"2020-03-14\", \"2020-03-13\", \"2020-03-12\"], \"y\": [46, 42, 42, 37, 33, 31, 28, 22, 19, 18, 8, 7, 2, 2]}, {\"hoverlabel\": {\"font\": {\"size\": 18}, \"namelength\": -1}, \"line\": {\"width\": 10}, \"marker\": {\"size\": 15}, \"mode\": \"lines+markers\", \"name\": \"PI\", \"type\": \"scatter\", \"visible\": \"legendonly\", \"x\": [\"2020-03-25\", \"2020-03-24\", \"2020-03-23\", \"2020-03-22\", \"2020-03-21\", \"2020-03-20\", \"2020-03-19\"], \"y\": [8, 8, 6, 6, 4, 4, 3]}, {\"hoverlabel\": {\"font\": {\"size\": 18}, \"namelength\": -1}, \"line\": {\"width\": 10}, \"marker\": {\"size\": 15}, \"mode\": \"lines+markers\", \"name\": \"PR\", \"type\": \"scatter\", \"visible\": \"legendonly\", \"x\": [\"2020-03-25\", \"2020-03-24\", \"2020-03-23\", \"2020-03-22\", \"2020-03-21\", \"2020-03-20\", \"2020-03-19\", \"2020-03-18\", \"2020-03-17\", \"2020-03-16\", \"2020-03-15\", \"2020-03-14\", \"2020-03-13\", \"2020-03-12\"], \"y\": [81, 70, 60, 54, 43, 36, 23, 14, 12, 8, 6, 6, 6, 6]}, {\"hoverlabel\": {\"font\": {\"size\": 18}, \"namelength\": -1}, \"line\": {\"width\": 10}, \"marker\": {\"size\": 15}, \"mode\": \"lines+markers\", \"name\": \"RN\", \"type\": \"scatter\", \"visible\": \"legendonly\", \"x\": [\"2020-03-25\", \"2020-03-24\", \"2020-03-23\", \"2020-03-22\", \"2020-03-21\", \"2020-03-20\", \"2020-03-19\", \"2020-03-18\", \"2020-03-17\", \"2020-03-16\", \"2020-03-15\", \"2020-03-14\", \"2020-03-13\", \"2020-03-12\"], \"y\": [14, 14, 13, 13, 9, 6, 1, 1, 1, 1, 1, 1, 1, 1]}, {\"hoverlabel\": {\"font\": {\"size\": 18}, \"namelength\": -1}, \"line\": {\"width\": 10}, \"marker\": {\"size\": 15}, \"mode\": \"lines+markers\", \"name\": \"RO\", \"type\": \"scatter\", \"visible\": \"legendonly\", \"x\": [\"2020-03-25\", \"2020-03-24\", \"2020-03-23\", \"2020-03-22\", \"2020-03-21\", \"2020-03-20\", \"2020-03-19\"], \"y\": [5, 5, 3, 3, 3, 1, 1]}, {\"hoverlabel\": {\"font\": {\"size\": 18}, \"namelength\": -1}, \"line\": {\"width\": 10}, \"marker\": {\"size\": 15}, \"mode\": \"lines+markers\", \"name\": \"RR\", \"type\": \"scatter\", \"visible\": \"legendonly\", \"x\": [\"2020-03-25\", \"2020-03-24\", \"2020-03-23\", \"2020-03-22\", \"2020-03-21\"], \"y\": [8, 8, 2, 2, 2]}, {\"hoverlabel\": {\"font\": {\"size\": 18}, \"namelength\": -1}, \"line\": {\"width\": 10}, \"marker\": {\"size\": 15}, \"mode\": \"lines+markers\", \"name\": \"RS\", \"type\": \"scatter\", \"visible\": \"legendonly\", \"x\": [\"2020-03-25\", \"2020-03-24\", \"2020-03-23\", \"2020-03-22\", \"2020-03-21\", \"2020-03-20\", \"2020-03-19\", \"2020-03-18\", \"2020-03-17\", \"2020-03-16\", \"2020-03-15\", \"2020-03-14\", \"2020-03-13\", \"2020-03-12\", \"2020-03-11\", \"2020-03-10\"], \"y\": [123, 112, 96, 85, 72, 60, 37, 28, 19, 11, 7, 7, 6, 4, 2, 1]}, {\"hoverlabel\": {\"font\": {\"size\": 18}, \"namelength\": -1}, \"line\": {\"width\": 10}, \"marker\": {\"size\": 15}, \"mode\": \"lines+markers\", \"name\": \"SC\", \"type\": \"scatter\", \"visible\": \"legendonly\", \"x\": [\"2020-03-25\", \"2020-03-24\", \"2020-03-23\", \"2020-03-22\", \"2020-03-21\", \"2020-03-20\", \"2020-03-19\", \"2020-03-18\", \"2020-03-17\", \"2020-03-16\", \"2020-03-15\", \"2020-03-14\", \"2020-03-13\", \"2020-03-12\"], \"y\": [109, 109, 86, 68, 57, 40, 21, 14, 7, 7, 6, 5, 3, 2]}, {\"hoverlabel\": {\"font\": {\"size\": 18}, \"namelength\": -1}, \"line\": {\"width\": 10}, \"marker\": {\"size\": 15}, \"mode\": \"lines+markers\", \"name\": \"SE\", \"type\": \"scatter\", \"visible\": \"legendonly\", \"x\": [\"2020-03-25\", \"2020-03-24\", \"2020-03-23\", \"2020-03-22\", \"2020-03-21\", \"2020-03-20\", \"2020-03-19\", \"2020-03-18\", \"2020-03-17\", \"2020-03-16\", \"2020-03-15\", \"2020-03-14\"], \"y\": [16, 15, 10, 10, 10, 7, 6, 6, 5, 5, 1, 1]}, {\"hoverlabel\": {\"font\": {\"size\": 18}, \"namelength\": -1}, \"line\": {\"width\": 10}, \"marker\": {\"size\": 15}, \"mode\": \"lines+markers\", \"name\": \"TO\", \"type\": \"scatter\", \"visible\": \"legendonly\", \"x\": [\"2020-03-25\", \"2020-03-24\", \"2020-03-23\", \"2020-03-22\", \"2020-03-21\", \"2020-03-20\", \"2020-03-19\", \"2020-03-18\"], \"y\": [7, 7, 7, 5, 2, 1, 1, 1]}],\n",
       "                        {\"barmode\": \"stack\", \"font\": {\"size\": 18}, \"height\": 800, \"legend\": {\"bgcolor\": \"rgba(0,0,0,0)\", \"font\": {\"color\": \"black\", \"family\": \"sans-serif\", \"size\": 20}, \"orientation\": \"v\"}, \"template\": {\"data\": {\"bar\": [{\"error_x\": {\"color\": \"#2a3f5f\"}, \"error_y\": {\"color\": \"#2a3f5f\"}, \"marker\": {\"line\": {\"color\": \"#E5ECF6\", \"width\": 0.5}}, \"type\": \"bar\"}], \"barpolar\": [{\"marker\": {\"line\": {\"color\": \"#E5ECF6\", \"width\": 0.5}}, \"type\": \"barpolar\"}], \"carpet\": [{\"aaxis\": {\"endlinecolor\": \"#2a3f5f\", \"gridcolor\": \"white\", \"linecolor\": \"white\", \"minorgridcolor\": \"white\", \"startlinecolor\": \"#2a3f5f\"}, \"baxis\": {\"endlinecolor\": \"#2a3f5f\", \"gridcolor\": \"white\", \"linecolor\": \"white\", \"minorgridcolor\": \"white\", \"startlinecolor\": \"#2a3f5f\"}, \"type\": \"carpet\"}], \"choropleth\": [{\"colorbar\": {\"outlinewidth\": 0, \"ticks\": \"\"}, \"type\": \"choropleth\"}], \"contour\": [{\"colorbar\": {\"outlinewidth\": 0, \"ticks\": \"\"}, \"colorscale\": [[0.0, \"#0d0887\"], [0.1111111111111111, \"#46039f\"], [0.2222222222222222, \"#7201a8\"], [0.3333333333333333, \"#9c179e\"], [0.4444444444444444, \"#bd3786\"], [0.5555555555555556, \"#d8576b\"], [0.6666666666666666, \"#ed7953\"], [0.7777777777777778, \"#fb9f3a\"], [0.8888888888888888, \"#fdca26\"], [1.0, \"#f0f921\"]], \"type\": \"contour\"}], \"contourcarpet\": [{\"colorbar\": {\"outlinewidth\": 0, \"ticks\": \"\"}, \"type\": \"contourcarpet\"}], \"heatmap\": [{\"colorbar\": {\"outlinewidth\": 0, \"ticks\": \"\"}, \"colorscale\": [[0.0, \"#0d0887\"], [0.1111111111111111, \"#46039f\"], [0.2222222222222222, \"#7201a8\"], [0.3333333333333333, \"#9c179e\"], [0.4444444444444444, \"#bd3786\"], [0.5555555555555556, \"#d8576b\"], [0.6666666666666666, \"#ed7953\"], [0.7777777777777778, \"#fb9f3a\"], [0.8888888888888888, \"#fdca26\"], [1.0, \"#f0f921\"]], \"type\": \"heatmap\"}], \"heatmapgl\": [{\"colorbar\": {\"outlinewidth\": 0, \"ticks\": \"\"}, \"colorscale\": [[0.0, \"#0d0887\"], [0.1111111111111111, \"#46039f\"], [0.2222222222222222, \"#7201a8\"], [0.3333333333333333, \"#9c179e\"], [0.4444444444444444, \"#bd3786\"], [0.5555555555555556, \"#d8576b\"], [0.6666666666666666, \"#ed7953\"], [0.7777777777777778, \"#fb9f3a\"], [0.8888888888888888, \"#fdca26\"], [1.0, \"#f0f921\"]], \"type\": \"heatmapgl\"}], \"histogram\": [{\"marker\": {\"colorbar\": {\"outlinewidth\": 0, \"ticks\": \"\"}}, \"type\": \"histogram\"}], \"histogram2d\": [{\"colorbar\": {\"outlinewidth\": 0, \"ticks\": \"\"}, \"colorscale\": [[0.0, \"#0d0887\"], [0.1111111111111111, \"#46039f\"], [0.2222222222222222, \"#7201a8\"], [0.3333333333333333, \"#9c179e\"], [0.4444444444444444, \"#bd3786\"], [0.5555555555555556, \"#d8576b\"], [0.6666666666666666, \"#ed7953\"], [0.7777777777777778, \"#fb9f3a\"], [0.8888888888888888, \"#fdca26\"], [1.0, \"#f0f921\"]], \"type\": \"histogram2d\"}], \"histogram2dcontour\": [{\"colorbar\": {\"outlinewidth\": 0, \"ticks\": \"\"}, \"colorscale\": [[0.0, \"#0d0887\"], [0.1111111111111111, \"#46039f\"], [0.2222222222222222, \"#7201a8\"], [0.3333333333333333, \"#9c179e\"], [0.4444444444444444, \"#bd3786\"], [0.5555555555555556, \"#d8576b\"], [0.6666666666666666, \"#ed7953\"], [0.7777777777777778, \"#fb9f3a\"], [0.8888888888888888, \"#fdca26\"], [1.0, \"#f0f921\"]], \"type\": \"histogram2dcontour\"}], \"mesh3d\": [{\"colorbar\": {\"outlinewidth\": 0, \"ticks\": \"\"}, \"type\": \"mesh3d\"}], \"parcoords\": [{\"line\": {\"colorbar\": {\"outlinewidth\": 0, \"ticks\": \"\"}}, \"type\": \"parcoords\"}], \"pie\": [{\"automargin\": true, \"type\": \"pie\"}], \"scatter\": [{\"marker\": {\"colorbar\": {\"outlinewidth\": 0, \"ticks\": \"\"}}, \"type\": \"scatter\"}], \"scatter3d\": [{\"line\": {\"colorbar\": {\"outlinewidth\": 0, \"ticks\": \"\"}}, \"marker\": {\"colorbar\": {\"outlinewidth\": 0, \"ticks\": \"\"}}, \"type\": \"scatter3d\"}], \"scattercarpet\": [{\"marker\": {\"colorbar\": {\"outlinewidth\": 0, \"ticks\": \"\"}}, \"type\": \"scattercarpet\"}], \"scattergeo\": [{\"marker\": {\"colorbar\": {\"outlinewidth\": 0, \"ticks\": \"\"}}, \"type\": \"scattergeo\"}], \"scattergl\": [{\"marker\": {\"colorbar\": {\"outlinewidth\": 0, \"ticks\": \"\"}}, \"type\": \"scattergl\"}], \"scattermapbox\": [{\"marker\": {\"colorbar\": {\"outlinewidth\": 0, \"ticks\": \"\"}}, \"type\": \"scattermapbox\"}], \"scatterpolar\": [{\"marker\": {\"colorbar\": {\"outlinewidth\": 0, \"ticks\": \"\"}}, \"type\": \"scatterpolar\"}], \"scatterpolargl\": [{\"marker\": {\"colorbar\": {\"outlinewidth\": 0, \"ticks\": \"\"}}, \"type\": \"scatterpolargl\"}], \"scatterternary\": [{\"marker\": {\"colorbar\": {\"outlinewidth\": 0, \"ticks\": \"\"}}, \"type\": \"scatterternary\"}], \"surface\": [{\"colorbar\": {\"outlinewidth\": 0, \"ticks\": \"\"}, \"colorscale\": [[0.0, \"#0d0887\"], [0.1111111111111111, \"#46039f\"], [0.2222222222222222, \"#7201a8\"], [0.3333333333333333, \"#9c179e\"], [0.4444444444444444, \"#bd3786\"], [0.5555555555555556, \"#d8576b\"], [0.6666666666666666, \"#ed7953\"], [0.7777777777777778, \"#fb9f3a\"], [0.8888888888888888, \"#fdca26\"], [1.0, \"#f0f921\"]], \"type\": \"surface\"}], \"table\": [{\"cells\": {\"fill\": {\"color\": \"#EBF0F8\"}, \"line\": {\"color\": \"white\"}}, \"header\": {\"fill\": {\"color\": \"#C8D4E3\"}, \"line\": {\"color\": \"white\"}}, \"type\": \"table\"}]}, \"layout\": {\"annotationdefaults\": {\"arrowcolor\": \"#2a3f5f\", \"arrowhead\": 0, \"arrowwidth\": 1}, \"coloraxis\": {\"colorbar\": {\"outlinewidth\": 0, \"ticks\": \"\"}}, \"colorscale\": {\"diverging\": [[0, \"#8e0152\"], [0.1, \"#c51b7d\"], [0.2, \"#de77ae\"], [0.3, \"#f1b6da\"], [0.4, \"#fde0ef\"], [0.5, \"#f7f7f7\"], [0.6, \"#e6f5d0\"], [0.7, \"#b8e186\"], [0.8, \"#7fbc41\"], [0.9, \"#4d9221\"], [1, \"#276419\"]], \"sequential\": [[0.0, \"#0d0887\"], [0.1111111111111111, \"#46039f\"], [0.2222222222222222, \"#7201a8\"], [0.3333333333333333, \"#9c179e\"], [0.4444444444444444, \"#bd3786\"], [0.5555555555555556, \"#d8576b\"], [0.6666666666666666, \"#ed7953\"], [0.7777777777777778, \"#fb9f3a\"], [0.8888888888888888, \"#fdca26\"], [1.0, \"#f0f921\"]], \"sequentialminus\": [[0.0, \"#0d0887\"], [0.1111111111111111, \"#46039f\"], [0.2222222222222222, \"#7201a8\"], [0.3333333333333333, \"#9c179e\"], [0.4444444444444444, \"#bd3786\"], [0.5555555555555556, \"#d8576b\"], [0.6666666666666666, \"#ed7953\"], [0.7777777777777778, \"#fb9f3a\"], [0.8888888888888888, \"#fdca26\"], [1.0, \"#f0f921\"]]}, \"colorway\": [\"#636efa\", \"#EF553B\", \"#00cc96\", \"#ab63fa\", \"#FFA15A\", \"#19d3f3\", \"#FF6692\", \"#B6E880\", \"#FF97FF\", \"#FECB52\"], \"font\": {\"color\": \"#2a3f5f\"}, \"geo\": {\"bgcolor\": \"white\", \"lakecolor\": \"white\", \"landcolor\": \"#E5ECF6\", \"showlakes\": true, \"showland\": true, \"subunitcolor\": \"white\"}, \"hoverlabel\": {\"align\": \"left\"}, \"hovermode\": \"closest\", \"mapbox\": {\"style\": \"light\"}, \"paper_bgcolor\": \"white\", \"plot_bgcolor\": \"#E5ECF6\", \"polar\": {\"angularaxis\": {\"gridcolor\": \"white\", \"linecolor\": \"white\", \"ticks\": \"\"}, \"bgcolor\": \"#E5ECF6\", \"radialaxis\": {\"gridcolor\": \"white\", \"linecolor\": \"white\", \"ticks\": \"\"}}, \"scene\": {\"xaxis\": {\"backgroundcolor\": \"#E5ECF6\", \"gridcolor\": \"white\", \"gridwidth\": 2, \"linecolor\": \"white\", \"showbackground\": true, \"ticks\": \"\", \"zerolinecolor\": \"white\"}, \"yaxis\": {\"backgroundcolor\": \"#E5ECF6\", \"gridcolor\": \"white\", \"gridwidth\": 2, \"linecolor\": \"white\", \"showbackground\": true, \"ticks\": \"\", \"zerolinecolor\": \"white\"}, \"zaxis\": {\"backgroundcolor\": \"#E5ECF6\", \"gridcolor\": \"white\", \"gridwidth\": 2, \"linecolor\": \"white\", \"showbackground\": true, \"ticks\": \"\", \"zerolinecolor\": \"white\"}}, \"shapedefaults\": {\"line\": {\"color\": \"#2a3f5f\"}}, \"ternary\": {\"aaxis\": {\"gridcolor\": \"white\", \"linecolor\": \"white\", \"ticks\": \"\"}, \"baxis\": {\"gridcolor\": \"white\", \"linecolor\": \"white\", \"ticks\": \"\"}, \"bgcolor\": \"#E5ECF6\", \"caxis\": {\"gridcolor\": \"white\", \"linecolor\": \"white\", \"ticks\": \"\"}}, \"title\": {\"x\": 0.05}, \"xaxis\": {\"automargin\": true, \"gridcolor\": \"white\", \"linecolor\": \"white\", \"ticks\": \"\", \"title\": {\"standoff\": 15}, \"zerolinecolor\": \"white\", \"zerolinewidth\": 2}, \"yaxis\": {\"automargin\": true, \"gridcolor\": \"white\", \"linecolor\": \"white\", \"ticks\": \"\", \"title\": {\"standoff\": 15}, \"zerolinecolor\": \"white\", \"zerolinewidth\": 2}}}, \"title\": {\"font\": {\"size\": 22}, \"text\": \"<b>CASOS POR ESTADO EM 25/03/2020<b>\", \"x\": 0.5, \"xanchor\": \"center\", \"yanchor\": \"top\"}, \"xaxis\": {\"tickfont\": {\"color\": \"black\", \"size\": 22}, \"tickformat\": \"%d/%m\", \"title\": {\"text\": \"<b>DATA<b>\"}}, \"yaxis\": {\"tickfont\": {\"color\": \"black\", \"size\": 22}, \"tickformat\": \"n\", \"title\": {\"text\": \"<b>CASOS CONFIRMADAS<b>\"}}},\n",
       "                        {\"responsive\": true}\n",
       "                    ).then(function(){\n",
       "                            \n",
       "var gd = document.getElementById('2145334e-1909-42f7-8eb1-e291d7725ebd');\n",
       "var x = new MutationObserver(function (mutations, observer) {{\n",
       "        var display = window.getComputedStyle(gd).display;\n",
       "        if (!display || display === 'none') {{\n",
       "            console.log([gd, 'removed!']);\n",
       "            Plotly.purge(gd);\n",
       "            observer.disconnect();\n",
       "        }}\n",
       "}});\n",
       "\n",
       "// Listen for the removal of the full notebook cells\n",
       "var notebookContainer = gd.closest('#notebook-container');\n",
       "if (notebookContainer) {{\n",
       "    x.observe(notebookContainer, {childList: true});\n",
       "}}\n",
       "\n",
       "// Listen for the clearing of the current output cell\n",
       "var outputEl = gd.closest('.output');\n",
       "if (outputEl) {{\n",
       "    x.observe(outputEl, {childList: true});\n",
       "}}\n",
       "\n",
       "                        })\n",
       "                };\n",
       "                });\n",
       "            </script>\n",
       "        </div>"
      ]
     },
     "metadata": {},
     "output_type": "display_data"
    }
   ],
   "source": [
    "fig"
   ]
  },
  {
   "cell_type": "code",
   "execution_count": null,
   "metadata": {},
   "outputs": [],
   "source": []
  },
  {
   "cell_type": "code",
   "execution_count": null,
   "metadata": {},
   "outputs": [],
   "source": []
  },
  {
   "cell_type": "code",
   "execution_count": null,
   "metadata": {},
   "outputs": [],
   "source": []
  },
  {
   "cell_type": "code",
   "execution_count": null,
   "metadata": {},
   "outputs": [],
   "source": []
  },
  {
   "cell_type": "code",
   "execution_count": null,
   "metadata": {},
   "outputs": [],
   "source": []
  },
  {
   "cell_type": "code",
   "execution_count": null,
   "metadata": {},
   "outputs": [],
   "source": []
  },
  {
   "cell_type": "code",
   "execution_count": null,
   "metadata": {},
   "outputs": [],
   "source": []
  },
  {
   "cell_type": "code",
   "execution_count": null,
   "metadata": {},
   "outputs": [],
   "source": []
  },
  {
   "cell_type": "code",
   "execution_count": null,
   "metadata": {},
   "outputs": [],
   "source": []
  },
  {
   "cell_type": "code",
   "execution_count": null,
   "metadata": {},
   "outputs": [],
   "source": []
  },
  {
   "cell_type": "code",
   "execution_count": null,
   "metadata": {},
   "outputs": [],
   "source": []
  },
  {
   "cell_type": "code",
   "execution_count": null,
   "metadata": {},
   "outputs": [],
   "source": []
  },
  {
   "cell_type": "code",
   "execution_count": null,
   "metadata": {},
   "outputs": [],
   "source": []
  }
 ],
 "metadata": {
  "kernelspec": {
   "display_name": "Python 3",
   "language": "python",
   "name": "python3"
  },
  "language_info": {
   "codemirror_mode": {
    "name": "ipython",
    "version": 3
   },
   "file_extension": ".py",
   "mimetype": "text/x-python",
   "name": "python",
   "nbconvert_exporter": "python",
   "pygments_lexer": "ipython3",
   "version": "3.7.4"
  }
 },
 "nbformat": 4,
 "nbformat_minor": 4
}
