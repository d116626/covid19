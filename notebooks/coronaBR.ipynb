{
 "cells": [
  {
   "cell_type": "code",
   "execution_count": 23,
   "metadata": {},
   "outputs": [],
   "source": [
    "%reload_ext autoreload\n",
    "%autoreload 2\n",
    "\n",
    "import warnings\n",
    "warnings.filterwarnings('ignore')\n",
    "\n",
    "import numpy as np\n",
    "import pandas as pd\n",
    "pd.options.display.max_columns = 999\n",
    "pd.options.display.max_rows = 999\n",
    "pd.options.display.max_colwidth = 100\n",
    "\n",
    "import geopandas as gpd\n",
    "\n",
    "import plotly.graph_objs as go\n",
    "from plotly.offline import download_plotlyjs, init_notebook_mode, plot, iplot, offline\n",
    "import plotly.express as px\n",
    "import seaborn as sns\n",
    "import matplotlib.pyplot as plt\n",
    "\n",
    "\n",
    "from os import listdir\n",
    "import unicodedata\n",
    "\n",
    "\n",
    "from paths import *\n",
    "from scripts.io import read_sheets\n",
    "from scripts import io\n",
    "\n",
    "\n",
    "from datetime import datetime\n",
    "today = datetime.today().strftime('%Y-%m-%d')\n",
    "\n",
    "from IPython.display import IFrame\n",
    "\n",
    "\n",
    "import yaml\n",
    "config = yaml.load(open('../configs/config.yaml', 'r'), Loader=yaml.FullLoader)\n"
   ]
  },
  {
   "cell_type": "code",
   "execution_count": null,
   "metadata": {},
   "outputs": [],
   "source": []
  },
  {
   "cell_type": "markdown",
   "metadata": {},
   "source": [
    "# Brasil.IO"
   ]
  },
  {
   "cell_type": "code",
   "execution_count": 24,
   "metadata": {
    "scrolled": true
   },
   "outputs": [
    {
     "name": "stdout",
     "output_type": "stream",
     "text": [
      "Br.IO table, Done!\n"
     ]
    }
   ],
   "source": [
    "from scripts import io\n",
    "\n",
    "brio, brio_raw = io.load_brasilIO()\n",
    "\n",
    "print(\"Br.IO table, Done!\")"
   ]
  },
  {
   "cell_type": "code",
   "execution_count": 25,
   "metadata": {},
   "outputs": [
    {
     "data": {
      "text/html": [
       "<div>\n",
       "<style scoped>\n",
       "    .dataframe tbody tr th:only-of-type {\n",
       "        vertical-align: middle;\n",
       "    }\n",
       "\n",
       "    .dataframe tbody tr th {\n",
       "        vertical-align: top;\n",
       "    }\n",
       "\n",
       "    .dataframe thead th {\n",
       "        text-align: right;\n",
       "    }\n",
       "</style>\n",
       "<table border=\"1\" class=\"dataframe\">\n",
       "  <thead>\n",
       "    <tr style=\"text-align: right;\">\n",
       "      <th></th>\n",
       "      <th>city_ibge_code</th>\n",
       "      <th>city</th>\n",
       "      <th>confirmed</th>\n",
       "      <th>deaths</th>\n",
       "      <th>date</th>\n",
       "      <th>state</th>\n",
       "    </tr>\n",
       "  </thead>\n",
       "  <tbody>\n",
       "    <tr>\n",
       "      <th>116486</th>\n",
       "      <td>1200013.0</td>\n",
       "      <td>Acrelândia</td>\n",
       "      <td>129</td>\n",
       "      <td>1</td>\n",
       "      <td>2020-05-25</td>\n",
       "      <td>AC</td>\n",
       "    </tr>\n",
       "    <tr>\n",
       "      <th>116487</th>\n",
       "      <td>1200054.0</td>\n",
       "      <td>Assis Brasil</td>\n",
       "      <td>7</td>\n",
       "      <td>1</td>\n",
       "      <td>2020-05-25</td>\n",
       "      <td>AC</td>\n",
       "    </tr>\n",
       "    <tr>\n",
       "      <th>116488</th>\n",
       "      <td>1200104.0</td>\n",
       "      <td>Brasiléia</td>\n",
       "      <td>31</td>\n",
       "      <td>1</td>\n",
       "      <td>2020-05-25</td>\n",
       "      <td>AC</td>\n",
       "    </tr>\n",
       "    <tr>\n",
       "      <th>116489</th>\n",
       "      <td>1200138.0</td>\n",
       "      <td>Bujari</td>\n",
       "      <td>29</td>\n",
       "      <td>0</td>\n",
       "      <td>2020-05-25</td>\n",
       "      <td>AC</td>\n",
       "    </tr>\n",
       "    <tr>\n",
       "      <th>116490</th>\n",
       "      <td>1200179.0</td>\n",
       "      <td>Capixaba</td>\n",
       "      <td>24</td>\n",
       "      <td>0</td>\n",
       "      <td>2020-05-25</td>\n",
       "      <td>AC</td>\n",
       "    </tr>\n",
       "    <tr>\n",
       "      <th>...</th>\n",
       "      <td>...</td>\n",
       "      <td>...</td>\n",
       "      <td>...</td>\n",
       "      <td>...</td>\n",
       "      <td>...</td>\n",
       "      <td>...</td>\n",
       "    </tr>\n",
       "    <tr>\n",
       "      <th>136752</th>\n",
       "      <td>3500550.0</td>\n",
       "      <td>Águas de Santa Bárbara</td>\n",
       "      <td>1</td>\n",
       "      <td>0</td>\n",
       "      <td>2020-05-29</td>\n",
       "      <td>SP</td>\n",
       "    </tr>\n",
       "    <tr>\n",
       "      <th>136753</th>\n",
       "      <td>3500600.0</td>\n",
       "      <td>Águas de São Pedro</td>\n",
       "      <td>1</td>\n",
       "      <td>0</td>\n",
       "      <td>2020-05-29</td>\n",
       "      <td>SP</td>\n",
       "    </tr>\n",
       "    <tr>\n",
       "      <th>136754</th>\n",
       "      <td>3501202.0</td>\n",
       "      <td>Álvares Florence</td>\n",
       "      <td>1</td>\n",
       "      <td>0</td>\n",
       "      <td>2020-05-29</td>\n",
       "      <td>SP</td>\n",
       "    </tr>\n",
       "    <tr>\n",
       "      <th>136755</th>\n",
       "      <td>3501301.0</td>\n",
       "      <td>Álvares Machado</td>\n",
       "      <td>10</td>\n",
       "      <td>1</td>\n",
       "      <td>2020-05-29</td>\n",
       "      <td>SP</td>\n",
       "    </tr>\n",
       "    <tr>\n",
       "      <th>136756</th>\n",
       "      <td>3501400.0</td>\n",
       "      <td>Álvaro de Carvalho</td>\n",
       "      <td>1</td>\n",
       "      <td>1</td>\n",
       "      <td>2020-05-29</td>\n",
       "      <td>SP</td>\n",
       "    </tr>\n",
       "  </tbody>\n",
       "</table>\n",
       "<p>3994 rows × 6 columns</p>\n",
       "</div>"
      ],
      "text/plain": [
       "        city_ibge_code                    city  confirmed  deaths        date  \\\n",
       "116486       1200013.0              Acrelândia        129       1  2020-05-25   \n",
       "116487       1200054.0            Assis Brasil          7       1  2020-05-25   \n",
       "116488       1200104.0               Brasiléia         31       1  2020-05-25   \n",
       "116489       1200138.0                  Bujari         29       0  2020-05-25   \n",
       "116490       1200179.0                Capixaba         24       0  2020-05-25   \n",
       "...                ...                     ...        ...     ...         ...   \n",
       "136752       3500550.0  Águas de Santa Bárbara          1       0  2020-05-29   \n",
       "136753       3500600.0      Águas de São Pedro          1       0  2020-05-29   \n",
       "136754       3501202.0        Álvares Florence          1       0  2020-05-29   \n",
       "136755       3501301.0         Álvares Machado         10       1  2020-05-29   \n",
       "136756       3501400.0      Álvaro de Carvalho          1       1  2020-05-29   \n",
       "\n",
       "       state  \n",
       "116486    AC  \n",
       "116487    AC  \n",
       "116488    AC  \n",
       "116489    AC  \n",
       "116490    AC  \n",
       "...      ...  \n",
       "136752    SP  \n",
       "136753    SP  \n",
       "136754    SP  \n",
       "136755    SP  \n",
       "136756    SP  \n",
       "\n",
       "[3994 rows x 6 columns]"
      ]
     },
     "execution_count": 25,
     "metadata": {},
     "output_type": "execute_result"
    }
   ],
   "source": [
    "brio"
   ]
  },
  {
   "cell_type": "code",
   "execution_count": null,
   "metadata": {},
   "outputs": [],
   "source": []
  },
  {
   "cell_type": "markdown",
   "metadata": {},
   "source": [
    "## WCota\n",
    " - [github](https://github.com/wcota/covid19br)"
   ]
  },
  {
   "cell_type": "code",
   "execution_count": 26,
   "metadata": {},
   "outputs": [],
   "source": [
    "# #data https://github.com/wcota/covid19br\n",
    "# dd = io.load_wcota()\n"
   ]
  },
  {
   "cell_type": "code",
   "execution_count": null,
   "metadata": {},
   "outputs": [],
   "source": []
  },
  {
   "cell_type": "markdown",
   "metadata": {},
   "source": [
    "## MYTABLE"
   ]
  },
  {
   "cell_type": "code",
   "execution_count": 27,
   "metadata": {},
   "outputs": [],
   "source": [
    "from scripts.io import read_sheets\n",
    "from scripts import manipulation\n",
    "config = yaml.load(open('../configs/config.yaml', 'r'), Loader=yaml.FullLoader)\n",
    "\n",
    "# io.update_ms_data()\n",
    "\n",
    "df = pd.read_csv(\"../data/ministerio_da_saude/last_data_ms_covid19.csv\")\n",
    "\n",
    "df_states = manipulation.manipule_mytable(df,config['ms_table'])\n",
    "# print(\"States table, Done!\")"
   ]
  },
  {
   "cell_type": "code",
   "execution_count": 28,
   "metadata": {},
   "outputs": [
    {
     "name": "stdout",
     "output_type": "stream",
     "text": [
      "Vale table, Done!\n"
     ]
    }
   ],
   "source": [
    "vale = read_sheets('covid19_vale_do_paraiba_e_litoral_norte').replace('',0)\n",
    "print(\"Vale table, Done!\")"
   ]
  },
  {
   "cell_type": "code",
   "execution_count": 29,
   "metadata": {},
   "outputs": [],
   "source": [
    "br = io.load_total_table()\n",
    "br = manipulation.create_all_country_total_data(br, vars = ['confirmed','deaths','recovered','active'])"
   ]
  },
  {
   "cell_type": "code",
   "execution_count": 30,
   "metadata": {},
   "outputs": [
    {
     "data": {
      "text/html": [
       "<div>\n",
       "<style scoped>\n",
       "    .dataframe tbody tr th:only-of-type {\n",
       "        vertical-align: middle;\n",
       "    }\n",
       "\n",
       "    .dataframe tbody tr th {\n",
       "        vertical-align: top;\n",
       "    }\n",
       "\n",
       "    .dataframe thead th {\n",
       "        text-align: right;\n",
       "    }\n",
       "</style>\n",
       "<table border=\"1\" class=\"dataframe\">\n",
       "  <thead>\n",
       "    <tr style=\"text-align: right;\">\n",
       "      <th></th>\n",
       "      <th>date</th>\n",
       "      <th>countrycode</th>\n",
       "      <th>countryname</th>\n",
       "      <th>population</th>\n",
       "      <th>confirmed</th>\n",
       "      <th>new_confirmed</th>\n",
       "      <th>deaths</th>\n",
       "      <th>new_deaths</th>\n",
       "      <th>recovered</th>\n",
       "      <th>new_recovered</th>\n",
       "      <th>active</th>\n",
       "      <th>new_active</th>\n",
       "    </tr>\n",
       "  </thead>\n",
       "  <tbody>\n",
       "    <tr>\n",
       "      <th>20997</th>\n",
       "      <td>2020-01-20</td>\n",
       "      <td>KW</td>\n",
       "      <td>Kuwait</td>\n",
       "      <td>4420110.0</td>\n",
       "      <td>0</td>\n",
       "      <td>0.0</td>\n",
       "      <td>0</td>\n",
       "      <td>0.0</td>\n",
       "      <td>0.0</td>\n",
       "      <td>0.0</td>\n",
       "      <td>0.0</td>\n",
       "      <td>0.0</td>\n",
       "    </tr>\n",
       "    <tr>\n",
       "      <th>22497</th>\n",
       "      <td>2020-01-20</td>\n",
       "      <td>NZ</td>\n",
       "      <td>New Zealand</td>\n",
       "      <td>4972468.0</td>\n",
       "      <td>0</td>\n",
       "      <td>0.0</td>\n",
       "      <td>0</td>\n",
       "      <td>0.0</td>\n",
       "      <td>0.0</td>\n",
       "      <td>0.0</td>\n",
       "      <td>0.0</td>\n",
       "      <td>0.0</td>\n",
       "    </tr>\n",
       "    <tr>\n",
       "      <th>22557</th>\n",
       "      <td>2020-01-20</td>\n",
       "      <td>NI</td>\n",
       "      <td>Nicaragua</td>\n",
       "      <td>6460411.0</td>\n",
       "      <td>0</td>\n",
       "      <td>0.0</td>\n",
       "      <td>0</td>\n",
       "      <td>0.0</td>\n",
       "      <td>0.0</td>\n",
       "      <td>0.0</td>\n",
       "      <td>0.0</td>\n",
       "      <td>0.0</td>\n",
       "    </tr>\n",
       "    <tr>\n",
       "      <th>22617</th>\n",
       "      <td>2020-01-20</td>\n",
       "      <td>NE</td>\n",
       "      <td>Niger</td>\n",
       "      <td>22314743.0</td>\n",
       "      <td>0</td>\n",
       "      <td>0.0</td>\n",
       "      <td>0</td>\n",
       "      <td>0.0</td>\n",
       "      <td>0.0</td>\n",
       "      <td>0.0</td>\n",
       "      <td>0.0</td>\n",
       "      <td>0.0</td>\n",
       "    </tr>\n",
       "    <tr>\n",
       "      <th>22677</th>\n",
       "      <td>2020-01-20</td>\n",
       "      <td>NG</td>\n",
       "      <td>Nigeria</td>\n",
       "      <td>206139587.0</td>\n",
       "      <td>0</td>\n",
       "      <td>0.0</td>\n",
       "      <td>0</td>\n",
       "      <td>0.0</td>\n",
       "      <td>0.0</td>\n",
       "      <td>0.0</td>\n",
       "      <td>0.0</td>\n",
       "      <td>0.0</td>\n",
       "    </tr>\n",
       "  </tbody>\n",
       "</table>\n",
       "</div>"
      ],
      "text/plain": [
       "            date countrycode  countryname   population  confirmed  \\\n",
       "20997 2020-01-20          KW       Kuwait    4420110.0          0   \n",
       "22497 2020-01-20          NZ  New Zealand    4972468.0          0   \n",
       "22557 2020-01-20          NI    Nicaragua    6460411.0          0   \n",
       "22617 2020-01-20          NE        Niger   22314743.0          0   \n",
       "22677 2020-01-20          NG      Nigeria  206139587.0          0   \n",
       "\n",
       "       new_confirmed  deaths  new_deaths  recovered  new_recovered  active  \\\n",
       "20997            0.0       0         0.0        0.0            0.0     0.0   \n",
       "22497            0.0       0         0.0        0.0            0.0     0.0   \n",
       "22557            0.0       0         0.0        0.0            0.0     0.0   \n",
       "22617            0.0       0         0.0        0.0            0.0     0.0   \n",
       "22677            0.0       0         0.0        0.0            0.0     0.0   \n",
       "\n",
       "       new_active  \n",
       "20997         0.0  \n",
       "22497         0.0  \n",
       "22557         0.0  \n",
       "22617         0.0  \n",
       "22677         0.0  "
      ]
     },
     "execution_count": 30,
     "metadata": {},
     "output_type": "execute_result"
    }
   ],
   "source": [
    "br.head()"
   ]
  },
  {
   "cell_type": "markdown",
   "metadata": {},
   "source": [
    "### GRAPHS"
   ]
  },
  {
   "cell_type": "markdown",
   "metadata": {},
   "source": [
    "[Local - Indicator Model](file:///mnt/0BF8481B1CDBF12D/Jlab/gabinete_sv/covid19/images/storage/br_indicator_model.html)\n",
    "\n",
    "[Local - Indicator Final](file:///mnt/0BF8481B1CDBF12D/Jlab/gabinete_sv/covid19/images/storage/br_indicator_final.html)\n",
    "\n",
    "[GS-Indicator_Final](https://storage.googleapis.com/sv-covid19/brasil/br_indicator_final.html)"
   ]
  },
  {
   "cell_type": "code",
   "execution_count": 31,
   "metadata": {},
   "outputs": [
    {
     "name": "stdout",
     "output_type": "stream",
     "text": [
      "Embed html uploaded!\n"
     ]
    }
   ],
   "source": [
    "from scripts import vis_html\n",
    "\n",
    "config = yaml.load(open('../configs/config.yaml', 'r'), Loader=yaml.FullLoader)\n",
    "\n",
    "vis_html.create_cards(df_states,vale, br ,config['embed_html'])\n",
    "\n",
    "\n",
    "#     io.to_storage(bucket='sv-covid19',\n",
    "#               bucket_folder='site/full',\n",
    "#               file_name=files[model],\n",
    "#               path_to_file=path+files[model])\n",
    "    \n",
    "# print(\"Embed link uploaded\")"
   ]
  },
  {
   "cell_type": "code",
   "execution_count": null,
   "metadata": {},
   "outputs": [],
   "source": []
  },
  {
   "cell_type": "code",
   "execution_count": null,
   "metadata": {},
   "outputs": [],
   "source": []
  },
  {
   "cell_type": "markdown",
   "metadata": {},
   "source": [
    "## Cumulativo"
   ]
  },
  {
   "cell_type": "code",
   "execution_count": 32,
   "metadata": {},
   "outputs": [],
   "source": [
    "from scripts import vis_graphs\n",
    "\n",
    "themes = yaml.load(open('../themes/custom_colorscales.yaml', 'r'), Loader=yaml.FullLoader)\n",
    "themes = themes['brasil_vis_cumulative']\n",
    "\n",
    "for var in themes['vars'].keys():\n",
    "    for scale in themes['axis_legend']['scale'].keys():\n",
    "        fig = vis_graphs.brasil_vis_cum(df_states, var,scale, themes)\n",
    "        \n",
    "        plot(fig, filename=f\"../site/sv_br_vale/coronavirus/images/cumulative/brasil_por_estado_{var}.html\", auto_open=False)\n"
   ]
  },
  {
   "cell_type": "code",
   "execution_count": 33,
   "metadata": {},
   "outputs": [
    {
     "data": {
      "application/vnd.plotly.v1+json": {
       "config": {
        "plotlyServerURL": "https://plot.ly"
       },
       "data": [
        {
         "hoverlabel": {
          "font": {
           "size": 15
          },
          "namelength": -1
         },
         "line": {
          "color": "#FA7609",
          "width": 3
         },
         "marker": {
          "size": 4
         },
         "mode": "lines+markers",
         "name": "BRASIL",
         "type": "scatter",
         "x": [
          "2020-05-30T00:00:00",
          "2020-05-29T00:00:00",
          "2020-05-28T00:00:00",
          "2020-05-27T00:00:00",
          "2020-05-26T00:00:00",
          "2020-05-25T00:00:00",
          "2020-05-24T00:00:00",
          "2020-05-23T00:00:00",
          "2020-05-22T00:00:00",
          "2020-05-21T00:00:00",
          "2020-05-20T00:00:00",
          "2020-05-19T00:00:00",
          "2020-05-18T00:00:00",
          "2020-05-17T00:00:00",
          "2020-05-16T00:00:00",
          "2020-05-15T00:00:00",
          "2020-05-14T00:00:00",
          "2020-05-13T00:00:00",
          "2020-05-12T00:00:00",
          "2020-05-11T00:00:00",
          "2020-05-10T00:00:00",
          "2020-05-09T00:00:00",
          "2020-05-08T00:00:00",
          "2020-05-07T00:00:00",
          "2020-05-06T00:00:00",
          "2020-05-05T00:00:00",
          "2020-05-04T00:00:00",
          "2020-05-03T00:00:00",
          "2020-05-02T00:00:00",
          "2020-05-01T00:00:00",
          "2020-04-30T00:00:00",
          "2020-04-29T00:00:00",
          "2020-04-28T00:00:00",
          "2020-04-27T00:00:00",
          "2020-04-26T00:00:00",
          "2020-04-25T00:00:00",
          "2020-04-24T00:00:00",
          "2020-04-23T00:00:00",
          "2020-04-22T00:00:00",
          "2020-04-21T00:00:00",
          "2020-04-20T00:00:00",
          "2020-04-19T00:00:00",
          "2020-04-18T00:00:00",
          "2020-04-17T00:00:00",
          "2020-04-16T00:00:00",
          "2020-04-15T00:00:00",
          "2020-04-14T00:00:00",
          "2020-04-13T00:00:00",
          "2020-04-12T00:00:00",
          "2020-04-11T00:00:00",
          "2020-04-10T00:00:00",
          "2020-04-09T00:00:00",
          "2020-04-08T00:00:00",
          "2020-04-07T00:00:00",
          "2020-04-06T00:00:00",
          "2020-04-05T00:00:00",
          "2020-04-04T00:00:00",
          "2020-04-03T00:00:00",
          "2020-04-02T00:00:00",
          "2020-04-01T00:00:00",
          "2020-03-31T00:00:00",
          "2020-03-30T00:00:00",
          "2020-03-29T00:00:00",
          "2020-03-28T00:00:00",
          "2020-03-27T00:00:00",
          "2020-03-26T00:00:00",
          "2020-03-25T00:00:00",
          "2020-03-24T00:00:00",
          "2020-03-23T00:00:00",
          "2020-03-22T00:00:00",
          "2020-03-21T00:00:00",
          "2020-03-20T00:00:00",
          "2020-03-19T00:00:00",
          "2020-03-18T00:00:00",
          "2020-03-17T00:00:00",
          "2020-03-16T00:00:00",
          "2020-03-15T00:00:00",
          "2020-03-14T00:00:00",
          "2020-03-13T00:00:00",
          "2020-03-12T00:00:00",
          "2020-03-11T00:00:00",
          "2020-03-10T00:00:00",
          "2020-03-09T00:00:00",
          "2020-03-08T00:00:00",
          "2020-03-07T00:00:00",
          "2020-03-06T00:00:00",
          "2020-03-05T00:00:00",
          "2020-03-04T00:00:00",
          "2020-03-03T00:00:00",
          "2020-03-02T00:00:00",
          "2020-03-01T00:00:00",
          "2020-02-29T00:00:00",
          "2020-02-28T00:00:00",
          "2020-02-27T00:00:00",
          "2020-02-26T00:00:00"
         ],
         "y": [
          498440,
          465166,
          438238,
          411821,
          391222,
          374898,
          363211,
          347398,
          330890,
          310087,
          291579,
          271628,
          254220,
          241080,
          233142,
          218223,
          202918,
          188974,
          177589,
          168331,
          162699,
          155939,
          145328,
          135106,
          125218,
          114715,
          107780,
          101147,
          96396,
          91299,
          85380,
          78162,
          71886,
          66501,
          61888,
          58509,
          52995,
          49492,
          45757,
          43079,
          40581,
          38654,
          36599,
          33682,
          30425,
          28320,
          25262,
          23430,
          22169,
          20727,
          19638,
          17857,
          15927,
          13717,
          12056,
          11130,
          10278,
          9056,
          7910,
          6834,
          5717,
          4579,
          4256,
          3903,
          3417,
          2915,
          2433,
          2201,
          1891,
          1546,
          1128,
          904,
          621,
          428,
          291,
          234,
          200,
          121,
          98,
          77,
          52,
          34,
          25,
          25,
          19,
          13,
          7,
          3,
          2,
          2,
          2,
          2,
          1,
          1,
          1
         ]
        },
        {
         "hoverlabel": {
          "font": {
           "size": 15
          },
          "namelength": -1
         },
         "line": {
          "color": "#0D485A",
          "width": 3
         },
         "marker": {
          "size": 4
         },
         "mode": "lines+markers",
         "name": "BRASIL SEM SP",
         "type": "scatter",
         "x": [
          "2020-05-30T00:00:00",
          "2020-05-29T00:00:00",
          "2020-05-28T00:00:00",
          "2020-05-27T00:00:00",
          "2020-05-26T00:00:00",
          "2020-05-25T00:00:00",
          "2020-05-24T00:00:00",
          "2020-05-23T00:00:00",
          "2020-05-22T00:00:00",
          "2020-05-21T00:00:00",
          "2020-05-20T00:00:00",
          "2020-05-19T00:00:00",
          "2020-05-18T00:00:00",
          "2020-05-17T00:00:00",
          "2020-05-16T00:00:00",
          "2020-05-15T00:00:00",
          "2020-05-14T00:00:00",
          "2020-05-13T00:00:00",
          "2020-05-12T00:00:00",
          "2020-05-11T00:00:00",
          "2020-05-10T00:00:00",
          "2020-05-09T00:00:00",
          "2020-05-08T00:00:00",
          "2020-05-07T00:00:00",
          "2020-05-06T00:00:00",
          "2020-05-05T00:00:00",
          "2020-05-04T00:00:00",
          "2020-05-03T00:00:00",
          "2020-05-02T00:00:00",
          "2020-05-01T00:00:00",
          "2020-04-30T00:00:00",
          "2020-04-29T00:00:00",
          "2020-04-28T00:00:00",
          "2020-04-27T00:00:00",
          "2020-04-26T00:00:00",
          "2020-04-25T00:00:00",
          "2020-04-24T00:00:00",
          "2020-04-23T00:00:00",
          "2020-04-22T00:00:00",
          "2020-04-21T00:00:00",
          "2020-04-20T00:00:00",
          "2020-04-19T00:00:00",
          "2020-04-18T00:00:00",
          "2020-04-17T00:00:00",
          "2020-04-16T00:00:00",
          "2020-04-15T00:00:00",
          "2020-04-14T00:00:00",
          "2020-04-13T00:00:00",
          "2020-04-12T00:00:00",
          "2020-04-11T00:00:00",
          "2020-04-10T00:00:00",
          "2020-04-09T00:00:00",
          "2020-04-08T00:00:00",
          "2020-04-07T00:00:00",
          "2020-04-06T00:00:00",
          "2020-04-05T00:00:00",
          "2020-04-04T00:00:00",
          "2020-04-03T00:00:00",
          "2020-04-02T00:00:00",
          "2020-04-01T00:00:00",
          "2020-03-31T00:00:00",
          "2020-03-30T00:00:00",
          "2020-03-29T00:00:00",
          "2020-03-28T00:00:00",
          "2020-03-27T00:00:00",
          "2020-03-26T00:00:00",
          "2020-03-25T00:00:00",
          "2020-03-24T00:00:00",
          "2020-03-23T00:00:00",
          "2020-03-22T00:00:00",
          "2020-03-21T00:00:00",
          "2020-03-20T00:00:00",
          "2020-03-19T00:00:00",
          "2020-03-18T00:00:00",
          "2020-03-17T00:00:00",
          "2020-03-16T00:00:00",
          "2020-03-15T00:00:00",
          "2020-03-14T00:00:00",
          "2020-03-13T00:00:00",
          "2020-03-12T00:00:00",
          "2020-03-11T00:00:00",
          "2020-03-10T00:00:00",
          "2020-03-09T00:00:00",
          "2020-03-08T00:00:00",
          "2020-03-07T00:00:00",
          "2020-03-06T00:00:00",
          "2020-03-05T00:00:00"
         ],
         "y": [
          391298,
          363610,
          342373,
          322338,
          305205,
          291273,
          281050,
          266840,
          254019,
          236348,
          221720,
          205633,
          191154,
          178735,
          171959,
          159845,
          148632,
          137877,
          129870,
          122200,
          117255,
          111528,
          103498,
          95178,
          87365,
          80662,
          75593,
          69375,
          65222,
          60925,
          56682,
          52004,
          47845,
          44805,
          41173,
          38505,
          35169,
          32752,
          29843,
          27694,
          26001,
          24387,
          22705,
          20841,
          18857,
          17277,
          15891,
          14535,
          13414,
          12308,
          11422,
          10377,
          9219,
          8035,
          7190,
          6510,
          5812,
          5008,
          4404,
          3853,
          3378,
          3062,
          2805,
          2497,
          2194,
          1863,
          1571,
          1391,
          1146,
          915,
          669,
          508,
          335,
          188,
          127,
          82,
          64,
          56,
          42,
          35,
          22,
          15,
          9,
          9,
          6,
          3,
          1
         ]
        },
        {
         "hoverlabel": {
          "font": {
           "size": 15
          },
          "namelength": -1
         },
         "line": {
          "color": "#1D8179",
          "width": 3
         },
         "marker": {
          "size": 4
         },
         "mode": "lines+markers",
         "name": "SP",
         "type": "scatter",
         "x": [
          "2020-05-30T00:00:00",
          "2020-05-29T00:00:00",
          "2020-05-28T00:00:00",
          "2020-05-27T00:00:00",
          "2020-05-26T00:00:00",
          "2020-05-25T00:00:00",
          "2020-05-24T00:00:00",
          "2020-05-23T00:00:00",
          "2020-05-22T00:00:00",
          "2020-05-21T00:00:00",
          "2020-05-20T00:00:00",
          "2020-05-19T00:00:00",
          "2020-05-18T00:00:00",
          "2020-05-17T00:00:00",
          "2020-05-16T00:00:00",
          "2020-05-15T00:00:00",
          "2020-05-14T00:00:00",
          "2020-05-13T00:00:00",
          "2020-05-12T00:00:00",
          "2020-05-11T00:00:00",
          "2020-05-10T00:00:00",
          "2020-05-09T00:00:00",
          "2020-05-08T00:00:00",
          "2020-05-07T00:00:00",
          "2020-05-06T00:00:00",
          "2020-05-05T00:00:00",
          "2020-05-04T00:00:00",
          "2020-05-03T00:00:00",
          "2020-05-02T00:00:00",
          "2020-05-01T00:00:00",
          "2020-04-30T00:00:00",
          "2020-04-29T00:00:00",
          "2020-04-28T00:00:00",
          "2020-04-27T00:00:00",
          "2020-04-26T00:00:00",
          "2020-04-25T00:00:00",
          "2020-04-24T00:00:00",
          "2020-04-23T00:00:00",
          "2020-04-22T00:00:00",
          "2020-04-21T00:00:00",
          "2020-04-20T00:00:00",
          "2020-04-19T00:00:00",
          "2020-04-18T00:00:00",
          "2020-04-17T00:00:00",
          "2020-04-16T00:00:00",
          "2020-04-15T00:00:00",
          "2020-04-14T00:00:00",
          "2020-04-13T00:00:00",
          "2020-04-12T00:00:00",
          "2020-04-11T00:00:00",
          "2020-04-10T00:00:00",
          "2020-04-09T00:00:00",
          "2020-04-08T00:00:00",
          "2020-04-07T00:00:00",
          "2020-04-06T00:00:00",
          "2020-04-05T00:00:00",
          "2020-04-04T00:00:00",
          "2020-04-03T00:00:00",
          "2020-04-02T00:00:00",
          "2020-04-01T00:00:00",
          "2020-03-31T00:00:00",
          "2020-03-30T00:00:00",
          "2020-03-29T00:00:00",
          "2020-03-28T00:00:00",
          "2020-03-27T00:00:00",
          "2020-03-26T00:00:00",
          "2020-03-25T00:00:00",
          "2020-03-24T00:00:00",
          "2020-03-23T00:00:00",
          "2020-03-22T00:00:00",
          "2020-03-21T00:00:00",
          "2020-03-20T00:00:00",
          "2020-03-19T00:00:00",
          "2020-03-18T00:00:00",
          "2020-03-17T00:00:00",
          "2020-03-16T00:00:00",
          "2020-03-15T00:00:00",
          "2020-03-14T00:00:00",
          "2020-03-13T00:00:00",
          "2020-03-12T00:00:00",
          "2020-03-11T00:00:00",
          "2020-03-10T00:00:00",
          "2020-03-09T00:00:00",
          "2020-03-08T00:00:00",
          "2020-03-07T00:00:00",
          "2020-03-06T00:00:00",
          "2020-03-05T00:00:00",
          "2020-03-04T00:00:00",
          "2020-03-03T00:00:00",
          "2020-03-02T00:00:00",
          "2020-03-01T00:00:00",
          "2020-02-29T00:00:00",
          "2020-02-28T00:00:00",
          "2020-02-27T00:00:00",
          "2020-02-26T00:00:00"
         ],
         "y": [
          107142,
          101556,
          95865,
          89483,
          86017,
          83625,
          82161,
          80558,
          76871,
          73739,
          69859,
          65995,
          63066,
          62345,
          61183,
          58378,
          54286,
          51097,
          47719,
          46131,
          45444,
          44411,
          41830,
          39928,
          37853,
          34053,
          32187,
          31772,
          31174,
          30374,
          28698,
          26158,
          24041,
          21696,
          20715,
          20004,
          17826,
          16740,
          15914,
          15385,
          14580,
          14267,
          13894,
          12841,
          11568,
          11043,
          9371,
          8895,
          8755,
          8419,
          8216,
          7480,
          6708,
          5682,
          4866,
          4620,
          4466,
          4048,
          3506,
          2981,
          2339,
          1517,
          1451,
          1406,
          1223,
          1052,
          862,
          810,
          745,
          631,
          459,
          396,
          286,
          240,
          164,
          152,
          136,
          65,
          56,
          42,
          30,
          19,
          16,
          16,
          13,
          10,
          6,
          3,
          2,
          2,
          2,
          2,
          1,
          1,
          1
         ]
        },
        {
         "hoverlabel": {
          "font": {
           "size": 15
          },
          "namelength": -1
         },
         "line": {
          "color": "#585858",
          "width": 3
         },
         "marker": {
          "size": 4
         },
         "mode": "lines+markers",
         "name": "RJ",
         "type": "scatter",
         "x": [
          "2020-05-30T00:00:00",
          "2020-05-29T00:00:00",
          "2020-05-28T00:00:00",
          "2020-05-27T00:00:00",
          "2020-05-26T00:00:00",
          "2020-05-25T00:00:00",
          "2020-05-24T00:00:00",
          "2020-05-23T00:00:00",
          "2020-05-22T00:00:00",
          "2020-05-21T00:00:00",
          "2020-05-20T00:00:00",
          "2020-05-19T00:00:00",
          "2020-05-18T00:00:00",
          "2020-05-17T00:00:00",
          "2020-05-16T00:00:00",
          "2020-05-15T00:00:00",
          "2020-05-14T00:00:00",
          "2020-05-13T00:00:00",
          "2020-05-12T00:00:00",
          "2020-05-11T00:00:00",
          "2020-05-10T00:00:00",
          "2020-05-09T00:00:00",
          "2020-05-08T00:00:00",
          "2020-05-07T00:00:00",
          "2020-05-06T00:00:00",
          "2020-05-05T00:00:00",
          "2020-05-04T00:00:00",
          "2020-05-03T00:00:00",
          "2020-05-02T00:00:00",
          "2020-05-01T00:00:00",
          "2020-04-30T00:00:00",
          "2020-04-29T00:00:00",
          "2020-04-28T00:00:00",
          "2020-04-27T00:00:00",
          "2020-04-26T00:00:00",
          "2020-04-25T00:00:00",
          "2020-04-24T00:00:00",
          "2020-04-23T00:00:00",
          "2020-04-22T00:00:00",
          "2020-04-21T00:00:00",
          "2020-04-20T00:00:00",
          "2020-04-19T00:00:00",
          "2020-04-18T00:00:00",
          "2020-04-17T00:00:00",
          "2020-04-16T00:00:00",
          "2020-04-15T00:00:00",
          "2020-04-14T00:00:00",
          "2020-04-13T00:00:00",
          "2020-04-12T00:00:00",
          "2020-04-11T00:00:00",
          "2020-04-10T00:00:00",
          "2020-04-09T00:00:00",
          "2020-04-08T00:00:00",
          "2020-04-07T00:00:00",
          "2020-04-06T00:00:00",
          "2020-04-05T00:00:00",
          "2020-04-04T00:00:00",
          "2020-04-03T00:00:00",
          "2020-04-02T00:00:00",
          "2020-04-01T00:00:00",
          "2020-03-31T00:00:00",
          "2020-03-30T00:00:00",
          "2020-03-29T00:00:00",
          "2020-03-28T00:00:00",
          "2020-03-27T00:00:00",
          "2020-03-26T00:00:00",
          "2020-03-25T00:00:00",
          "2020-03-24T00:00:00",
          "2020-03-23T00:00:00",
          "2020-03-22T00:00:00",
          "2020-03-21T00:00:00",
          "2020-03-20T00:00:00",
          "2020-03-19T00:00:00",
          "2020-03-18T00:00:00",
          "2020-03-17T00:00:00",
          "2020-03-16T00:00:00",
          "2020-03-15T00:00:00",
          "2020-03-14T00:00:00",
          "2020-03-13T00:00:00",
          "2020-03-12T00:00:00",
          "2020-03-11T00:00:00",
          "2020-03-10T00:00:00",
          "2020-03-09T00:00:00",
          "2020-03-08T00:00:00",
          "2020-03-07T00:00:00",
          "2020-03-06T00:00:00",
          "2020-03-05T00:00:00"
         ],
         "y": [
          52420,
          47953,
          44886,
          42398,
          40024,
          39298,
          37912,
          34533,
          33589,
          32089,
          30372,
          27805,
          26665,
          22238,
          21601,
          19987,
          19467,
          18728,
          18486,
          17939,
          17062,
          16929,
          15741,
          14156,
          13295,
          12391,
          11721,
          11139,
          10546,
          10166,
          9453,
          8869,
          8504,
          7944,
          7111,
          6828,
          6282,
          6172,
          5552,
          5306,
          4899,
          4765,
          4543,
          4349,
          3944,
          3743,
          3410,
          3231,
          2855,
          2607,
          2464,
          2216,
          1938,
          1688,
          1461,
          1394,
          1246,
          1074,
          992,
          832,
          708,
          657,
          600,
          558,
          493,
          421,
          370,
          305,
          233,
          186,
          119,
          109,
          65,
          45,
          33,
          31,
          24,
          22,
          16,
          16,
          13,
          8,
          3,
          3,
          2,
          1,
          1
         ]
        }
       ],
       "layout": {
        "annotations": [
         {
          "align": "left",
          "font": {
           "color": "#000000",
           "family": "Courier New, monospace",
           "size": 16
          },
          "showarrow": false,
          "text": "<b><b>",
          "x": -0.04,
          "xref": "paper",
          "xshift": 0,
          "y": -0.14,
          "yref": "paper",
          "yshift": 0
         }
        ],
        "autosize": true,
        "barmode": "group",
        "font": {
         "color": "#000000",
         "size": 10
        },
        "hovermode": "x",
        "legend": {
         "bgcolor": "rgba(0, 0, 0, 0)",
         "bordercolor": "rgba(0, 0, 0, 0)",
         "borderwidth": 0,
         "font": {
          "color": "#000000",
          "family": "Courier New, monospace",
          "size": 10
         },
         "orientation": "h",
         "traceorder": "normal"
        },
        "margin": {
         "b": 10,
         "l": 10,
         "r": 10,
         "t": 10
        },
        "paper_bgcolor": "#FFFFFF",
        "plot_bgcolor": "rgba(0, 0, 0, 0)",
        "template": {
         "data": {
          "bar": [
           {
            "error_x": {
             "color": "#2a3f5f"
            },
            "error_y": {
             "color": "#2a3f5f"
            },
            "marker": {
             "line": {
              "color": "#E5ECF6",
              "width": 0.5
             }
            },
            "type": "bar"
           }
          ],
          "barpolar": [
           {
            "marker": {
             "line": {
              "color": "#E5ECF6",
              "width": 0.5
             }
            },
            "type": "barpolar"
           }
          ],
          "carpet": [
           {
            "aaxis": {
             "endlinecolor": "#2a3f5f",
             "gridcolor": "white",
             "linecolor": "white",
             "minorgridcolor": "white",
             "startlinecolor": "#2a3f5f"
            },
            "baxis": {
             "endlinecolor": "#2a3f5f",
             "gridcolor": "white",
             "linecolor": "white",
             "minorgridcolor": "white",
             "startlinecolor": "#2a3f5f"
            },
            "type": "carpet"
           }
          ],
          "choropleth": [
           {
            "colorbar": {
             "outlinewidth": 0,
             "ticks": ""
            },
            "type": "choropleth"
           }
          ],
          "contour": [
           {
            "colorbar": {
             "outlinewidth": 0,
             "ticks": ""
            },
            "colorscale": [
             [
              0,
              "#0d0887"
             ],
             [
              0.1111111111111111,
              "#46039f"
             ],
             [
              0.2222222222222222,
              "#7201a8"
             ],
             [
              0.3333333333333333,
              "#9c179e"
             ],
             [
              0.4444444444444444,
              "#bd3786"
             ],
             [
              0.5555555555555556,
              "#d8576b"
             ],
             [
              0.6666666666666666,
              "#ed7953"
             ],
             [
              0.7777777777777778,
              "#fb9f3a"
             ],
             [
              0.8888888888888888,
              "#fdca26"
             ],
             [
              1,
              "#f0f921"
             ]
            ],
            "type": "contour"
           }
          ],
          "contourcarpet": [
           {
            "colorbar": {
             "outlinewidth": 0,
             "ticks": ""
            },
            "type": "contourcarpet"
           }
          ],
          "heatmap": [
           {
            "colorbar": {
             "outlinewidth": 0,
             "ticks": ""
            },
            "colorscale": [
             [
              0,
              "#0d0887"
             ],
             [
              0.1111111111111111,
              "#46039f"
             ],
             [
              0.2222222222222222,
              "#7201a8"
             ],
             [
              0.3333333333333333,
              "#9c179e"
             ],
             [
              0.4444444444444444,
              "#bd3786"
             ],
             [
              0.5555555555555556,
              "#d8576b"
             ],
             [
              0.6666666666666666,
              "#ed7953"
             ],
             [
              0.7777777777777778,
              "#fb9f3a"
             ],
             [
              0.8888888888888888,
              "#fdca26"
             ],
             [
              1,
              "#f0f921"
             ]
            ],
            "type": "heatmap"
           }
          ],
          "heatmapgl": [
           {
            "colorbar": {
             "outlinewidth": 0,
             "ticks": ""
            },
            "colorscale": [
             [
              0,
              "#0d0887"
             ],
             [
              0.1111111111111111,
              "#46039f"
             ],
             [
              0.2222222222222222,
              "#7201a8"
             ],
             [
              0.3333333333333333,
              "#9c179e"
             ],
             [
              0.4444444444444444,
              "#bd3786"
             ],
             [
              0.5555555555555556,
              "#d8576b"
             ],
             [
              0.6666666666666666,
              "#ed7953"
             ],
             [
              0.7777777777777778,
              "#fb9f3a"
             ],
             [
              0.8888888888888888,
              "#fdca26"
             ],
             [
              1,
              "#f0f921"
             ]
            ],
            "type": "heatmapgl"
           }
          ],
          "histogram": [
           {
            "marker": {
             "colorbar": {
              "outlinewidth": 0,
              "ticks": ""
             }
            },
            "type": "histogram"
           }
          ],
          "histogram2d": [
           {
            "colorbar": {
             "outlinewidth": 0,
             "ticks": ""
            },
            "colorscale": [
             [
              0,
              "#0d0887"
             ],
             [
              0.1111111111111111,
              "#46039f"
             ],
             [
              0.2222222222222222,
              "#7201a8"
             ],
             [
              0.3333333333333333,
              "#9c179e"
             ],
             [
              0.4444444444444444,
              "#bd3786"
             ],
             [
              0.5555555555555556,
              "#d8576b"
             ],
             [
              0.6666666666666666,
              "#ed7953"
             ],
             [
              0.7777777777777778,
              "#fb9f3a"
             ],
             [
              0.8888888888888888,
              "#fdca26"
             ],
             [
              1,
              "#f0f921"
             ]
            ],
            "type": "histogram2d"
           }
          ],
          "histogram2dcontour": [
           {
            "colorbar": {
             "outlinewidth": 0,
             "ticks": ""
            },
            "colorscale": [
             [
              0,
              "#0d0887"
             ],
             [
              0.1111111111111111,
              "#46039f"
             ],
             [
              0.2222222222222222,
              "#7201a8"
             ],
             [
              0.3333333333333333,
              "#9c179e"
             ],
             [
              0.4444444444444444,
              "#bd3786"
             ],
             [
              0.5555555555555556,
              "#d8576b"
             ],
             [
              0.6666666666666666,
              "#ed7953"
             ],
             [
              0.7777777777777778,
              "#fb9f3a"
             ],
             [
              0.8888888888888888,
              "#fdca26"
             ],
             [
              1,
              "#f0f921"
             ]
            ],
            "type": "histogram2dcontour"
           }
          ],
          "mesh3d": [
           {
            "colorbar": {
             "outlinewidth": 0,
             "ticks": ""
            },
            "type": "mesh3d"
           }
          ],
          "parcoords": [
           {
            "line": {
             "colorbar": {
              "outlinewidth": 0,
              "ticks": ""
             }
            },
            "type": "parcoords"
           }
          ],
          "pie": [
           {
            "automargin": true,
            "type": "pie"
           }
          ],
          "scatter": [
           {
            "marker": {
             "colorbar": {
              "outlinewidth": 0,
              "ticks": ""
             }
            },
            "type": "scatter"
           }
          ],
          "scatter3d": [
           {
            "line": {
             "colorbar": {
              "outlinewidth": 0,
              "ticks": ""
             }
            },
            "marker": {
             "colorbar": {
              "outlinewidth": 0,
              "ticks": ""
             }
            },
            "type": "scatter3d"
           }
          ],
          "scattercarpet": [
           {
            "marker": {
             "colorbar": {
              "outlinewidth": 0,
              "ticks": ""
             }
            },
            "type": "scattercarpet"
           }
          ],
          "scattergeo": [
           {
            "marker": {
             "colorbar": {
              "outlinewidth": 0,
              "ticks": ""
             }
            },
            "type": "scattergeo"
           }
          ],
          "scattergl": [
           {
            "marker": {
             "colorbar": {
              "outlinewidth": 0,
              "ticks": ""
             }
            },
            "type": "scattergl"
           }
          ],
          "scattermapbox": [
           {
            "marker": {
             "colorbar": {
              "outlinewidth": 0,
              "ticks": ""
             }
            },
            "type": "scattermapbox"
           }
          ],
          "scatterpolar": [
           {
            "marker": {
             "colorbar": {
              "outlinewidth": 0,
              "ticks": ""
             }
            },
            "type": "scatterpolar"
           }
          ],
          "scatterpolargl": [
           {
            "marker": {
             "colorbar": {
              "outlinewidth": 0,
              "ticks": ""
             }
            },
            "type": "scatterpolargl"
           }
          ],
          "scatterternary": [
           {
            "marker": {
             "colorbar": {
              "outlinewidth": 0,
              "ticks": ""
             }
            },
            "type": "scatterternary"
           }
          ],
          "surface": [
           {
            "colorbar": {
             "outlinewidth": 0,
             "ticks": ""
            },
            "colorscale": [
             [
              0,
              "#0d0887"
             ],
             [
              0.1111111111111111,
              "#46039f"
             ],
             [
              0.2222222222222222,
              "#7201a8"
             ],
             [
              0.3333333333333333,
              "#9c179e"
             ],
             [
              0.4444444444444444,
              "#bd3786"
             ],
             [
              0.5555555555555556,
              "#d8576b"
             ],
             [
              0.6666666666666666,
              "#ed7953"
             ],
             [
              0.7777777777777778,
              "#fb9f3a"
             ],
             [
              0.8888888888888888,
              "#fdca26"
             ],
             [
              1,
              "#f0f921"
             ]
            ],
            "type": "surface"
           }
          ],
          "table": [
           {
            "cells": {
             "fill": {
              "color": "#EBF0F8"
             },
             "line": {
              "color": "white"
             }
            },
            "header": {
             "fill": {
              "color": "#C8D4E3"
             },
             "line": {
              "color": "white"
             }
            },
            "type": "table"
           }
          ]
         },
         "layout": {
          "annotationdefaults": {
           "arrowcolor": "#2a3f5f",
           "arrowhead": 0,
           "arrowwidth": 1
          },
          "coloraxis": {
           "colorbar": {
            "outlinewidth": 0,
            "ticks": ""
           }
          },
          "colorscale": {
           "diverging": [
            [
             0,
             "#8e0152"
            ],
            [
             0.1,
             "#c51b7d"
            ],
            [
             0.2,
             "#de77ae"
            ],
            [
             0.3,
             "#f1b6da"
            ],
            [
             0.4,
             "#fde0ef"
            ],
            [
             0.5,
             "#f7f7f7"
            ],
            [
             0.6,
             "#e6f5d0"
            ],
            [
             0.7,
             "#b8e186"
            ],
            [
             0.8,
             "#7fbc41"
            ],
            [
             0.9,
             "#4d9221"
            ],
            [
             1,
             "#276419"
            ]
           ],
           "sequential": [
            [
             0,
             "#0d0887"
            ],
            [
             0.1111111111111111,
             "#46039f"
            ],
            [
             0.2222222222222222,
             "#7201a8"
            ],
            [
             0.3333333333333333,
             "#9c179e"
            ],
            [
             0.4444444444444444,
             "#bd3786"
            ],
            [
             0.5555555555555556,
             "#d8576b"
            ],
            [
             0.6666666666666666,
             "#ed7953"
            ],
            [
             0.7777777777777778,
             "#fb9f3a"
            ],
            [
             0.8888888888888888,
             "#fdca26"
            ],
            [
             1,
             "#f0f921"
            ]
           ],
           "sequentialminus": [
            [
             0,
             "#0d0887"
            ],
            [
             0.1111111111111111,
             "#46039f"
            ],
            [
             0.2222222222222222,
             "#7201a8"
            ],
            [
             0.3333333333333333,
             "#9c179e"
            ],
            [
             0.4444444444444444,
             "#bd3786"
            ],
            [
             0.5555555555555556,
             "#d8576b"
            ],
            [
             0.6666666666666666,
             "#ed7953"
            ],
            [
             0.7777777777777778,
             "#fb9f3a"
            ],
            [
             0.8888888888888888,
             "#fdca26"
            ],
            [
             1,
             "#f0f921"
            ]
           ]
          },
          "colorway": [
           "#636efa",
           "#EF553B",
           "#00cc96",
           "#ab63fa",
           "#FFA15A",
           "#19d3f3",
           "#FF6692",
           "#B6E880",
           "#FF97FF",
           "#FECB52"
          ],
          "font": {
           "color": "#2a3f5f"
          },
          "geo": {
           "bgcolor": "white",
           "lakecolor": "white",
           "landcolor": "#E5ECF6",
           "showlakes": true,
           "showland": true,
           "subunitcolor": "white"
          },
          "hoverlabel": {
           "align": "left"
          },
          "hovermode": "closest",
          "mapbox": {
           "style": "light"
          },
          "paper_bgcolor": "white",
          "plot_bgcolor": "#E5ECF6",
          "polar": {
           "angularaxis": {
            "gridcolor": "white",
            "linecolor": "white",
            "ticks": ""
           },
           "bgcolor": "#E5ECF6",
           "radialaxis": {
            "gridcolor": "white",
            "linecolor": "white",
            "ticks": ""
           }
          },
          "scene": {
           "xaxis": {
            "backgroundcolor": "#E5ECF6",
            "gridcolor": "white",
            "gridwidth": 2,
            "linecolor": "white",
            "showbackground": true,
            "ticks": "",
            "zerolinecolor": "white"
           },
           "yaxis": {
            "backgroundcolor": "#E5ECF6",
            "gridcolor": "white",
            "gridwidth": 2,
            "linecolor": "white",
            "showbackground": true,
            "ticks": "",
            "zerolinecolor": "white"
           },
           "zaxis": {
            "backgroundcolor": "#E5ECF6",
            "gridcolor": "white",
            "gridwidth": 2,
            "linecolor": "white",
            "showbackground": true,
            "ticks": "",
            "zerolinecolor": "white"
           }
          },
          "shapedefaults": {
           "line": {
            "color": "#2a3f5f"
           }
          },
          "ternary": {
           "aaxis": {
            "gridcolor": "white",
            "linecolor": "white",
            "ticks": ""
           },
           "baxis": {
            "gridcolor": "white",
            "linecolor": "white",
            "ticks": ""
           },
           "bgcolor": "#E5ECF6",
           "caxis": {
            "gridcolor": "white",
            "linecolor": "white",
            "ticks": ""
           }
          },
          "title": {
           "x": 0.05
          },
          "xaxis": {
           "automargin": true,
           "gridcolor": "white",
           "linecolor": "white",
           "ticks": "",
           "title": {
            "standoff": 15
           },
           "zerolinecolor": "white",
           "zerolinewidth": 2
          },
          "yaxis": {
           "automargin": true,
           "gridcolor": "white",
           "linecolor": "white",
           "ticks": "",
           "title": {
            "standoff": 15
           },
           "zerolinecolor": "white",
           "zerolinewidth": 2
          }
         }
        },
        "title": {
         "font": {
          "color": "#000000",
          "size": 32
         },
         "text": "",
         "x": 0.5,
         "xanchor": "center",
         "y": 0.9,
         "yanchor": "top"
        },
        "xaxis": {
         "autorange": true,
         "gridcolor": "#e5e5e5",
         "linecolor": "#e5e5e5",
         "range": [
          "2020-02-20 11:45:47.3423",
          "2020-06-04 12:14:12.6577"
         ],
         "tickfont": {
          "color": "#000000",
          "size": 12
         },
         "tickformat": "%d/%m",
         "title": {
          "text": ""
         },
         "type": "date",
         "zerolinecolor": "#e5e5e5"
        },
        "yaxis": {
         "autorange": true,
         "gridcolor": "#e5e5e5",
         "range": [
          -32841.879844961244,
          531282.8798449612
         ],
         "tickfont": {
          "color": "#000000",
          "size": 12
         },
         "tickformat": "n",
         "title": {
          "text": "Casos Confirmados"
         },
         "type": "linear",
         "zerolinecolor": "#e5e5e5"
        }
       }
      },
      "image/png": "[encoded data removed]",
      "text/html": [
       "<div>\n",
       "        \n",
       "        \n",
       "            <div id=\"74be365c-4059-4782-a63d-ca3c9134c748\" class=\"plotly-graph-div\" style=\"height:525px; width:100%;\"></div>\n",
       "            <script type=\"text/javascript\">\n",
       "                require([\"plotly\"], function(Plotly) {\n",
       "                    window.PLOTLYENV=window.PLOTLYENV || {};\n",
       "                    \n",
       "                if (document.getElementById(\"74be365c-4059-4782-a63d-ca3c9134c748\")) {\n",
       "                    Plotly.newPlot(\n",
       "                        '74be365c-4059-4782-a63d-ca3c9134c748',\n",
       "                        [{\"hoverlabel\": {\"font\": {\"size\": 15}, \"namelength\": -1}, \"line\": {\"color\": \"#FA7609\", \"width\": 3}, \"marker\": {\"size\": 4}, \"mode\": \"lines+markers\", \"name\": \"BRASIL\", \"type\": \"scatter\", \"x\": [\"2020-05-30T00:00:00\", \"2020-05-29T00:00:00\", \"2020-05-28T00:00:00\", \"2020-05-27T00:00:00\", \"2020-05-26T00:00:00\", \"2020-05-25T00:00:00\", \"2020-05-24T00:00:00\", \"2020-05-23T00:00:00\", \"2020-05-22T00:00:00\", \"2020-05-21T00:00:00\", \"2020-05-20T00:00:00\", \"2020-05-19T00:00:00\", \"2020-05-18T00:00:00\", \"2020-05-17T00:00:00\", \"2020-05-16T00:00:00\", \"2020-05-15T00:00:00\", \"2020-05-14T00:00:00\", \"2020-05-13T00:00:00\", \"2020-05-12T00:00:00\", \"2020-05-11T00:00:00\", \"2020-05-10T00:00:00\", \"2020-05-09T00:00:00\", \"2020-05-08T00:00:00\", \"2020-05-07T00:00:00\", \"2020-05-06T00:00:00\", \"2020-05-05T00:00:00\", \"2020-05-04T00:00:00\", \"2020-05-03T00:00:00\", \"2020-05-02T00:00:00\", \"2020-05-01T00:00:00\", \"2020-04-30T00:00:00\", \"2020-04-29T00:00:00\", \"2020-04-28T00:00:00\", \"2020-04-27T00:00:00\", \"2020-04-26T00:00:00\", \"2020-04-25T00:00:00\", \"2020-04-24T00:00:00\", \"2020-04-23T00:00:00\", \"2020-04-22T00:00:00\", \"2020-04-21T00:00:00\", \"2020-04-20T00:00:00\", \"2020-04-19T00:00:00\", \"2020-04-18T00:00:00\", \"2020-04-17T00:00:00\", \"2020-04-16T00:00:00\", \"2020-04-15T00:00:00\", \"2020-04-14T00:00:00\", \"2020-04-13T00:00:00\", \"2020-04-12T00:00:00\", \"2020-04-11T00:00:00\", \"2020-04-10T00:00:00\", \"2020-04-09T00:00:00\", \"2020-04-08T00:00:00\", \"2020-04-07T00:00:00\", \"2020-04-06T00:00:00\", \"2020-04-05T00:00:00\", \"2020-04-04T00:00:00\", \"2020-04-03T00:00:00\", \"2020-04-02T00:00:00\", \"2020-04-01T00:00:00\", \"2020-03-31T00:00:00\", \"2020-03-30T00:00:00\", \"2020-03-29T00:00:00\", \"2020-03-28T00:00:00\", \"2020-03-27T00:00:00\", \"2020-03-26T00:00:00\", \"2020-03-25T00:00:00\", \"2020-03-24T00:00:00\", \"2020-03-23T00:00:00\", \"2020-03-22T00:00:00\", \"2020-03-21T00:00:00\", \"2020-03-20T00:00:00\", \"2020-03-19T00:00:00\", \"2020-03-18T00:00:00\", \"2020-03-17T00:00:00\", \"2020-03-16T00:00:00\", \"2020-03-15T00:00:00\", \"2020-03-14T00:00:00\", \"2020-03-13T00:00:00\", \"2020-03-12T00:00:00\", \"2020-03-11T00:00:00\", \"2020-03-10T00:00:00\", \"2020-03-09T00:00:00\", \"2020-03-08T00:00:00\", \"2020-03-07T00:00:00\", \"2020-03-06T00:00:00\", \"2020-03-05T00:00:00\", \"2020-03-04T00:00:00\", \"2020-03-03T00:00:00\", \"2020-03-02T00:00:00\", \"2020-03-01T00:00:00\", \"2020-02-29T00:00:00\", \"2020-02-28T00:00:00\", \"2020-02-27T00:00:00\", \"2020-02-26T00:00:00\"], \"y\": [498440.0, 465166.0, 438238.0, 411821.0, 391222.0, 374898.0, 363211.0, 347398.0, 330890.0, 310087.0, 291579.0, 271628.0, 254220.0, 241080.0, 233142.0, 218223.0, 202918.0, 188974.0, 177589.0, 168331.0, 162699.0, 155939.0, 145328.0, 135106.0, 125218.0, 114715.0, 107780.0, 101147.0, 96396.0, 91299.0, 85380.0, 78162.0, 71886.0, 66501.0, 61888.0, 58509.0, 52995.0, 49492.0, 45757.0, 43079.0, 40581.0, 38654.0, 36599.0, 33682.0, 30425.0, 28320.0, 25262.0, 23430.0, 22169.0, 20727.0, 19638.0, 17857.0, 15927.0, 13717.0, 12056.0, 11130.0, 10278.0, 9056.0, 7910.0, 6834.0, 5717.0, 4579.0, 4256.0, 3903.0, 3417.0, 2915.0, 2433.0, 2201.0, 1891.0, 1546.0, 1128.0, 904.0, 621.0, 428.0, 291.0, 234.0, 200.0, 121.0, 98.0, 77.0, 52.0, 34.0, 25.0, 25.0, 19.0, 13.0, 7.0, 3.0, 2.0, 2.0, 2.0, 2.0, 1.0, 1.0, 1.0]}, {\"hoverlabel\": {\"font\": {\"size\": 15}, \"namelength\": -1}, \"line\": {\"color\": \"#0D485A\", \"width\": 3}, \"marker\": {\"size\": 4}, \"mode\": \"lines+markers\", \"name\": \"BRASIL SEM SP\", \"type\": \"scatter\", \"x\": [\"2020-05-30T00:00:00\", \"2020-05-29T00:00:00\", \"2020-05-28T00:00:00\", \"2020-05-27T00:00:00\", \"2020-05-26T00:00:00\", \"2020-05-25T00:00:00\", \"2020-05-24T00:00:00\", \"2020-05-23T00:00:00\", \"2020-05-22T00:00:00\", \"2020-05-21T00:00:00\", \"2020-05-20T00:00:00\", \"2020-05-19T00:00:00\", \"2020-05-18T00:00:00\", \"2020-05-17T00:00:00\", \"2020-05-16T00:00:00\", \"2020-05-15T00:00:00\", \"2020-05-14T00:00:00\", \"2020-05-13T00:00:00\", \"2020-05-12T00:00:00\", \"2020-05-11T00:00:00\", \"2020-05-10T00:00:00\", \"2020-05-09T00:00:00\", \"2020-05-08T00:00:00\", \"2020-05-07T00:00:00\", \"2020-05-06T00:00:00\", \"2020-05-05T00:00:00\", \"2020-05-04T00:00:00\", \"2020-05-03T00:00:00\", \"2020-05-02T00:00:00\", \"2020-05-01T00:00:00\", \"2020-04-30T00:00:00\", \"2020-04-29T00:00:00\", \"2020-04-28T00:00:00\", \"2020-04-27T00:00:00\", \"2020-04-26T00:00:00\", \"2020-04-25T00:00:00\", \"2020-04-24T00:00:00\", \"2020-04-23T00:00:00\", \"2020-04-22T00:00:00\", \"2020-04-21T00:00:00\", \"2020-04-20T00:00:00\", \"2020-04-19T00:00:00\", \"2020-04-18T00:00:00\", \"2020-04-17T00:00:00\", \"2020-04-16T00:00:00\", \"2020-04-15T00:00:00\", \"2020-04-14T00:00:00\", \"2020-04-13T00:00:00\", \"2020-04-12T00:00:00\", \"2020-04-11T00:00:00\", \"2020-04-10T00:00:00\", \"2020-04-09T00:00:00\", \"2020-04-08T00:00:00\", \"2020-04-07T00:00:00\", \"2020-04-06T00:00:00\", \"2020-04-05T00:00:00\", \"2020-04-04T00:00:00\", \"2020-04-03T00:00:00\", \"2020-04-02T00:00:00\", \"2020-04-01T00:00:00\", \"2020-03-31T00:00:00\", \"2020-03-30T00:00:00\", \"2020-03-29T00:00:00\", \"2020-03-28T00:00:00\", \"2020-03-27T00:00:00\", \"2020-03-26T00:00:00\", \"2020-03-25T00:00:00\", \"2020-03-24T00:00:00\", \"2020-03-23T00:00:00\", \"2020-03-22T00:00:00\", \"2020-03-21T00:00:00\", \"2020-03-20T00:00:00\", \"2020-03-19T00:00:00\", \"2020-03-18T00:00:00\", \"2020-03-17T00:00:00\", \"2020-03-16T00:00:00\", \"2020-03-15T00:00:00\", \"2020-03-14T00:00:00\", \"2020-03-13T00:00:00\", \"2020-03-12T00:00:00\", \"2020-03-11T00:00:00\", \"2020-03-10T00:00:00\", \"2020-03-09T00:00:00\", \"2020-03-08T00:00:00\", \"2020-03-07T00:00:00\", \"2020-03-06T00:00:00\", \"2020-03-05T00:00:00\"], \"y\": [391298.0, 363610.0, 342373.0, 322338.0, 305205.0, 291273.0, 281050.0, 266840.0, 254019.0, 236348.0, 221720.0, 205633.0, 191154.0, 178735.0, 171959.0, 159845.0, 148632.0, 137877.0, 129870.0, 122200.0, 117255.0, 111528.0, 103498.0, 95178.0, 87365.0, 80662.0, 75593.0, 69375.0, 65222.0, 60925.0, 56682.0, 52004.0, 47845.0, 44805.0, 41173.0, 38505.0, 35169.0, 32752.0, 29843.0, 27694.0, 26001.0, 24387.0, 22705.0, 20841.0, 18857.0, 17277.0, 15891.0, 14535.0, 13414.0, 12308.0, 11422.0, 10377.0, 9219.0, 8035.0, 7190.0, 6510.0, 5812.0, 5008.0, 4404.0, 3853.0, 3378.0, 3062.0, 2805.0, 2497.0, 2194.0, 1863.0, 1571.0, 1391.0, 1146.0, 915.0, 669.0, 508.0, 335.0, 188.0, 127.0, 82.0, 64.0, 56.0, 42.0, 35.0, 22.0, 15.0, 9.0, 9.0, 6.0, 3.0, 1.0]}, {\"hoverlabel\": {\"font\": {\"size\": 15}, \"namelength\": -1}, \"line\": {\"color\": \"#1D8179\", \"width\": 3}, \"marker\": {\"size\": 4}, \"mode\": \"lines+markers\", \"name\": \"SP\", \"type\": \"scatter\", \"x\": [\"2020-05-30T00:00:00\", \"2020-05-29T00:00:00\", \"2020-05-28T00:00:00\", \"2020-05-27T00:00:00\", \"2020-05-26T00:00:00\", \"2020-05-25T00:00:00\", \"2020-05-24T00:00:00\", \"2020-05-23T00:00:00\", \"2020-05-22T00:00:00\", \"2020-05-21T00:00:00\", \"2020-05-20T00:00:00\", \"2020-05-19T00:00:00\", \"2020-05-18T00:00:00\", \"2020-05-17T00:00:00\", \"2020-05-16T00:00:00\", \"2020-05-15T00:00:00\", \"2020-05-14T00:00:00\", \"2020-05-13T00:00:00\", \"2020-05-12T00:00:00\", \"2020-05-11T00:00:00\", \"2020-05-10T00:00:00\", \"2020-05-09T00:00:00\", \"2020-05-08T00:00:00\", \"2020-05-07T00:00:00\", \"2020-05-06T00:00:00\", \"2020-05-05T00:00:00\", \"2020-05-04T00:00:00\", \"2020-05-03T00:00:00\", \"2020-05-02T00:00:00\", \"2020-05-01T00:00:00\", \"2020-04-30T00:00:00\", \"2020-04-29T00:00:00\", \"2020-04-28T00:00:00\", \"2020-04-27T00:00:00\", \"2020-04-26T00:00:00\", \"2020-04-25T00:00:00\", \"2020-04-24T00:00:00\", \"2020-04-23T00:00:00\", \"2020-04-22T00:00:00\", \"2020-04-21T00:00:00\", \"2020-04-20T00:00:00\", \"2020-04-19T00:00:00\", \"2020-04-18T00:00:00\", \"2020-04-17T00:00:00\", \"2020-04-16T00:00:00\", \"2020-04-15T00:00:00\", \"2020-04-14T00:00:00\", \"2020-04-13T00:00:00\", \"2020-04-12T00:00:00\", \"2020-04-11T00:00:00\", \"2020-04-10T00:00:00\", \"2020-04-09T00:00:00\", \"2020-04-08T00:00:00\", \"2020-04-07T00:00:00\", \"2020-04-06T00:00:00\", \"2020-04-05T00:00:00\", \"2020-04-04T00:00:00\", \"2020-04-03T00:00:00\", \"2020-04-02T00:00:00\", \"2020-04-01T00:00:00\", \"2020-03-31T00:00:00\", \"2020-03-30T00:00:00\", \"2020-03-29T00:00:00\", \"2020-03-28T00:00:00\", \"2020-03-27T00:00:00\", \"2020-03-26T00:00:00\", \"2020-03-25T00:00:00\", \"2020-03-24T00:00:00\", \"2020-03-23T00:00:00\", \"2020-03-22T00:00:00\", \"2020-03-21T00:00:00\", \"2020-03-20T00:00:00\", \"2020-03-19T00:00:00\", \"2020-03-18T00:00:00\", \"2020-03-17T00:00:00\", \"2020-03-16T00:00:00\", \"2020-03-15T00:00:00\", \"2020-03-14T00:00:00\", \"2020-03-13T00:00:00\", \"2020-03-12T00:00:00\", \"2020-03-11T00:00:00\", \"2020-03-10T00:00:00\", \"2020-03-09T00:00:00\", \"2020-03-08T00:00:00\", \"2020-03-07T00:00:00\", \"2020-03-06T00:00:00\", \"2020-03-05T00:00:00\", \"2020-03-04T00:00:00\", \"2020-03-03T00:00:00\", \"2020-03-02T00:00:00\", \"2020-03-01T00:00:00\", \"2020-02-29T00:00:00\", \"2020-02-28T00:00:00\", \"2020-02-27T00:00:00\", \"2020-02-26T00:00:00\"], \"y\": [107142.0, 101556.0, 95865.0, 89483.0, 86017.0, 83625.0, 82161.0, 80558.0, 76871.0, 73739.0, 69859.0, 65995.0, 63066.0, 62345.0, 61183.0, 58378.0, 54286.0, 51097.0, 47719.0, 46131.0, 45444.0, 44411.0, 41830.0, 39928.0, 37853.0, 34053.0, 32187.0, 31772.0, 31174.0, 30374.0, 28698.0, 26158.0, 24041.0, 21696.0, 20715.0, 20004.0, 17826.0, 16740.0, 15914.0, 15385.0, 14580.0, 14267.0, 13894.0, 12841.0, 11568.0, 11043.0, 9371.0, 8895.0, 8755.0, 8419.0, 8216.0, 7480.0, 6708.0, 5682.0, 4866.0, 4620.0, 4466.0, 4048.0, 3506.0, 2981.0, 2339.0, 1517.0, 1451.0, 1406.0, 1223.0, 1052.0, 862.0, 810.0, 745.0, 631.0, 459.0, 396.0, 286.0, 240.0, 164.0, 152.0, 136.0, 65.0, 56.0, 42.0, 30.0, 19.0, 16.0, 16.0, 13.0, 10.0, 6.0, 3.0, 2.0, 2.0, 2.0, 2.0, 1.0, 1.0, 1.0]}, {\"hoverlabel\": {\"font\": {\"size\": 15}, \"namelength\": -1}, \"line\": {\"color\": \"#585858\", \"width\": 3}, \"marker\": {\"size\": 4}, \"mode\": \"lines+markers\", \"name\": \"RJ\", \"type\": \"scatter\", \"x\": [\"2020-05-30T00:00:00\", \"2020-05-29T00:00:00\", \"2020-05-28T00:00:00\", \"2020-05-27T00:00:00\", \"2020-05-26T00:00:00\", \"2020-05-25T00:00:00\", \"2020-05-24T00:00:00\", \"2020-05-23T00:00:00\", \"2020-05-22T00:00:00\", \"2020-05-21T00:00:00\", \"2020-05-20T00:00:00\", \"2020-05-19T00:00:00\", \"2020-05-18T00:00:00\", \"2020-05-17T00:00:00\", \"2020-05-16T00:00:00\", \"2020-05-15T00:00:00\", \"2020-05-14T00:00:00\", \"2020-05-13T00:00:00\", \"2020-05-12T00:00:00\", \"2020-05-11T00:00:00\", \"2020-05-10T00:00:00\", \"2020-05-09T00:00:00\", \"2020-05-08T00:00:00\", \"2020-05-07T00:00:00\", \"2020-05-06T00:00:00\", \"2020-05-05T00:00:00\", \"2020-05-04T00:00:00\", \"2020-05-03T00:00:00\", \"2020-05-02T00:00:00\", \"2020-05-01T00:00:00\", \"2020-04-30T00:00:00\", \"2020-04-29T00:00:00\", \"2020-04-28T00:00:00\", \"2020-04-27T00:00:00\", \"2020-04-26T00:00:00\", \"2020-04-25T00:00:00\", \"2020-04-24T00:00:00\", \"2020-04-23T00:00:00\", \"2020-04-22T00:00:00\", \"2020-04-21T00:00:00\", \"2020-04-20T00:00:00\", \"2020-04-19T00:00:00\", \"2020-04-18T00:00:00\", \"2020-04-17T00:00:00\", \"2020-04-16T00:00:00\", \"2020-04-15T00:00:00\", \"2020-04-14T00:00:00\", \"2020-04-13T00:00:00\", \"2020-04-12T00:00:00\", \"2020-04-11T00:00:00\", \"2020-04-10T00:00:00\", \"2020-04-09T00:00:00\", \"2020-04-08T00:00:00\", \"2020-04-07T00:00:00\", \"2020-04-06T00:00:00\", \"2020-04-05T00:00:00\", \"2020-04-04T00:00:00\", \"2020-04-03T00:00:00\", \"2020-04-02T00:00:00\", \"2020-04-01T00:00:00\", \"2020-03-31T00:00:00\", \"2020-03-30T00:00:00\", \"2020-03-29T00:00:00\", \"2020-03-28T00:00:00\", \"2020-03-27T00:00:00\", \"2020-03-26T00:00:00\", \"2020-03-25T00:00:00\", \"2020-03-24T00:00:00\", \"2020-03-23T00:00:00\", \"2020-03-22T00:00:00\", \"2020-03-21T00:00:00\", \"2020-03-20T00:00:00\", \"2020-03-19T00:00:00\", \"2020-03-18T00:00:00\", \"2020-03-17T00:00:00\", \"2020-03-16T00:00:00\", \"2020-03-15T00:00:00\", \"2020-03-14T00:00:00\", \"2020-03-13T00:00:00\", \"2020-03-12T00:00:00\", \"2020-03-11T00:00:00\", \"2020-03-10T00:00:00\", \"2020-03-09T00:00:00\", \"2020-03-08T00:00:00\", \"2020-03-07T00:00:00\", \"2020-03-06T00:00:00\", \"2020-03-05T00:00:00\"], \"y\": [52420.0, 47953.0, 44886.0, 42398.0, 40024.0, 39298.0, 37912.0, 34533.0, 33589.0, 32089.0, 30372.0, 27805.0, 26665.0, 22238.0, 21601.0, 19987.0, 19467.0, 18728.0, 18486.0, 17939.0, 17062.0, 16929.0, 15741.0, 14156.0, 13295.0, 12391.0, 11721.0, 11139.0, 10546.0, 10166.0, 9453.0, 8869.0, 8504.0, 7944.0, 7111.0, 6828.0, 6282.0, 6172.0, 5552.0, 5306.0, 4899.0, 4765.0, 4543.0, 4349.0, 3944.0, 3743.0, 3410.0, 3231.0, 2855.0, 2607.0, 2464.0, 2216.0, 1938.0, 1688.0, 1461.0, 1394.0, 1246.0, 1074.0, 992.0, 832.0, 708.0, 657.0, 600.0, 558.0, 493.0, 421.0, 370.0, 305.0, 233.0, 186.0, 119.0, 109.0, 65.0, 45.0, 33.0, 31.0, 24.0, 22.0, 16.0, 16.0, 13.0, 8.0, 3.0, 3.0, 2.0, 1.0, 1.0]}],\n",
       "                        {\"annotations\": [{\"align\": \"left\", \"font\": {\"color\": \"#000000\", \"family\": \"Courier New, monospace\", \"size\": 16}, \"showarrow\": false, \"text\": \"<b><b>\", \"x\": -0.04, \"xref\": \"paper\", \"xshift\": 0, \"y\": -0.14, \"yref\": \"paper\", \"yshift\": 0}], \"autosize\": true, \"barmode\": \"group\", \"font\": {\"color\": \"#000000\", \"size\": 10}, \"hovermode\": \"x\", \"legend\": {\"bgcolor\": \"rgba(0,0,0,0)\", \"bordercolor\": \"rgba(0,0,0,0)\", \"borderwidth\": 0, \"font\": {\"color\": \"#000000\", \"family\": \"Courier New, monospace\", \"size\": 10}, \"orientation\": \"h\", \"traceorder\": \"normal\"}, \"margin\": {\"b\": 10, \"l\": 10, \"r\": 10, \"t\": 10}, \"paper_bgcolor\": \"#FFFFFF\", \"plot_bgcolor\": \"rgba(0,0,0,0)\", \"template\": {\"data\": {\"bar\": [{\"error_x\": {\"color\": \"#2a3f5f\"}, \"error_y\": {\"color\": \"#2a3f5f\"}, \"marker\": {\"line\": {\"color\": \"#E5ECF6\", \"width\": 0.5}}, \"type\": \"bar\"}], \"barpolar\": [{\"marker\": {\"line\": {\"color\": \"#E5ECF6\", \"width\": 0.5}}, \"type\": \"barpolar\"}], \"carpet\": [{\"aaxis\": {\"endlinecolor\": \"#2a3f5f\", \"gridcolor\": \"white\", \"linecolor\": \"white\", \"minorgridcolor\": \"white\", \"startlinecolor\": \"#2a3f5f\"}, \"baxis\": {\"endlinecolor\": \"#2a3f5f\", \"gridcolor\": \"white\", \"linecolor\": \"white\", \"minorgridcolor\": \"white\", \"startlinecolor\": \"#2a3f5f\"}, \"type\": \"carpet\"}], \"choropleth\": [{\"colorbar\": {\"outlinewidth\": 0, \"ticks\": \"\"}, \"type\": \"choropleth\"}], \"contour\": [{\"colorbar\": {\"outlinewidth\": 0, \"ticks\": \"\"}, \"colorscale\": [[0.0, \"#0d0887\"], [0.1111111111111111, \"#46039f\"], [0.2222222222222222, \"#7201a8\"], [0.3333333333333333, \"#9c179e\"], [0.4444444444444444, \"#bd3786\"], [0.5555555555555556, \"#d8576b\"], [0.6666666666666666, \"#ed7953\"], [0.7777777777777778, \"#fb9f3a\"], [0.8888888888888888, \"#fdca26\"], [1.0, \"#f0f921\"]], \"type\": \"contour\"}], \"contourcarpet\": [{\"colorbar\": {\"outlinewidth\": 0, \"ticks\": \"\"}, \"type\": \"contourcarpet\"}], \"heatmap\": [{\"colorbar\": {\"outlinewidth\": 0, \"ticks\": \"\"}, \"colorscale\": [[0.0, \"#0d0887\"], [0.1111111111111111, \"#46039f\"], [0.2222222222222222, \"#7201a8\"], [0.3333333333333333, \"#9c179e\"], [0.4444444444444444, \"#bd3786\"], [0.5555555555555556, \"#d8576b\"], [0.6666666666666666, \"#ed7953\"], [0.7777777777777778, \"#fb9f3a\"], [0.8888888888888888, \"#fdca26\"], [1.0, \"#f0f921\"]], \"type\": \"heatmap\"}], \"heatmapgl\": [{\"colorbar\": {\"outlinewidth\": 0, \"ticks\": \"\"}, \"colorscale\": [[0.0, \"#0d0887\"], [0.1111111111111111, \"#46039f\"], [0.2222222222222222, \"#7201a8\"], [0.3333333333333333, \"#9c179e\"], [0.4444444444444444, \"#bd3786\"], [0.5555555555555556, \"#d8576b\"], [0.6666666666666666, \"#ed7953\"], [0.7777777777777778, \"#fb9f3a\"], [0.8888888888888888, \"#fdca26\"], [1.0, \"#f0f921\"]], \"type\": \"heatmapgl\"}], \"histogram\": [{\"marker\": {\"colorbar\": {\"outlinewidth\": 0, \"ticks\": \"\"}}, \"type\": \"histogram\"}], \"histogram2d\": [{\"colorbar\": {\"outlinewidth\": 0, \"ticks\": \"\"}, \"colorscale\": [[0.0, \"#0d0887\"], [0.1111111111111111, \"#46039f\"], [0.2222222222222222, \"#7201a8\"], [0.3333333333333333, \"#9c179e\"], [0.4444444444444444, \"#bd3786\"], [0.5555555555555556, \"#d8576b\"], [0.6666666666666666, \"#ed7953\"], [0.7777777777777778, \"#fb9f3a\"], [0.8888888888888888, \"#fdca26\"], [1.0, \"#f0f921\"]], \"type\": \"histogram2d\"}], \"histogram2dcontour\": [{\"colorbar\": {\"outlinewidth\": 0, \"ticks\": \"\"}, \"colorscale\": [[0.0, \"#0d0887\"], [0.1111111111111111, \"#46039f\"], [0.2222222222222222, \"#7201a8\"], [0.3333333333333333, \"#9c179e\"], [0.4444444444444444, \"#bd3786\"], [0.5555555555555556, \"#d8576b\"], [0.6666666666666666, \"#ed7953\"], [0.7777777777777778, \"#fb9f3a\"], [0.8888888888888888, \"#fdca26\"], [1.0, \"#f0f921\"]], \"type\": \"histogram2dcontour\"}], \"mesh3d\": [{\"colorbar\": {\"outlinewidth\": 0, \"ticks\": \"\"}, \"type\": \"mesh3d\"}], \"parcoords\": [{\"line\": {\"colorbar\": {\"outlinewidth\": 0, \"ticks\": \"\"}}, \"type\": \"parcoords\"}], \"pie\": [{\"automargin\": true, \"type\": \"pie\"}], \"scatter\": [{\"marker\": {\"colorbar\": {\"outlinewidth\": 0, \"ticks\": \"\"}}, \"type\": \"scatter\"}], \"scatter3d\": [{\"line\": {\"colorbar\": {\"outlinewidth\": 0, \"ticks\": \"\"}}, \"marker\": {\"colorbar\": {\"outlinewidth\": 0, \"ticks\": \"\"}}, \"type\": \"scatter3d\"}], \"scattercarpet\": [{\"marker\": {\"colorbar\": {\"outlinewidth\": 0, \"ticks\": \"\"}}, \"type\": \"scattercarpet\"}], \"scattergeo\": [{\"marker\": {\"colorbar\": {\"outlinewidth\": 0, \"ticks\": \"\"}}, \"type\": \"scattergeo\"}], \"scattergl\": [{\"marker\": {\"colorbar\": {\"outlinewidth\": 0, \"ticks\": \"\"}}, \"type\": \"scattergl\"}], \"scattermapbox\": [{\"marker\": {\"colorbar\": {\"outlinewidth\": 0, \"ticks\": \"\"}}, \"type\": \"scattermapbox\"}], \"scatterpolar\": [{\"marker\": {\"colorbar\": {\"outlinewidth\": 0, \"ticks\": \"\"}}, \"type\": \"scatterpolar\"}], \"scatterpolargl\": [{\"marker\": {\"colorbar\": {\"outlinewidth\": 0, \"ticks\": \"\"}}, \"type\": \"scatterpolargl\"}], \"scatterternary\": [{\"marker\": {\"colorbar\": {\"outlinewidth\": 0, \"ticks\": \"\"}}, \"type\": \"scatterternary\"}], \"surface\": [{\"colorbar\": {\"outlinewidth\": 0, \"ticks\": \"\"}, \"colorscale\": [[0.0, \"#0d0887\"], [0.1111111111111111, \"#46039f\"], [0.2222222222222222, \"#7201a8\"], [0.3333333333333333, \"#9c179e\"], [0.4444444444444444, \"#bd3786\"], [0.5555555555555556, \"#d8576b\"], [0.6666666666666666, \"#ed7953\"], [0.7777777777777778, \"#fb9f3a\"], [0.8888888888888888, \"#fdca26\"], [1.0, \"#f0f921\"]], \"type\": \"surface\"}], \"table\": [{\"cells\": {\"fill\": {\"color\": \"#EBF0F8\"}, \"line\": {\"color\": \"white\"}}, \"header\": {\"fill\": {\"color\": \"#C8D4E3\"}, \"line\": {\"color\": \"white\"}}, \"type\": \"table\"}]}, \"layout\": {\"annotationdefaults\": {\"arrowcolor\": \"#2a3f5f\", \"arrowhead\": 0, \"arrowwidth\": 1}, \"coloraxis\": {\"colorbar\": {\"outlinewidth\": 0, \"ticks\": \"\"}}, \"colorscale\": {\"diverging\": [[0, \"#8e0152\"], [0.1, \"#c51b7d\"], [0.2, \"#de77ae\"], [0.3, \"#f1b6da\"], [0.4, \"#fde0ef\"], [0.5, \"#f7f7f7\"], [0.6, \"#e6f5d0\"], [0.7, \"#b8e186\"], [0.8, \"#7fbc41\"], [0.9, \"#4d9221\"], [1, \"#276419\"]], \"sequential\": [[0.0, \"#0d0887\"], [0.1111111111111111, \"#46039f\"], [0.2222222222222222, \"#7201a8\"], [0.3333333333333333, \"#9c179e\"], [0.4444444444444444, \"#bd3786\"], [0.5555555555555556, \"#d8576b\"], [0.6666666666666666, \"#ed7953\"], [0.7777777777777778, \"#fb9f3a\"], [0.8888888888888888, \"#fdca26\"], [1.0, \"#f0f921\"]], \"sequentialminus\": [[0.0, \"#0d0887\"], [0.1111111111111111, \"#46039f\"], [0.2222222222222222, \"#7201a8\"], [0.3333333333333333, \"#9c179e\"], [0.4444444444444444, \"#bd3786\"], [0.5555555555555556, \"#d8576b\"], [0.6666666666666666, \"#ed7953\"], [0.7777777777777778, \"#fb9f3a\"], [0.8888888888888888, \"#fdca26\"], [1.0, \"#f0f921\"]]}, \"colorway\": [\"#636efa\", \"#EF553B\", \"#00cc96\", \"#ab63fa\", \"#FFA15A\", \"#19d3f3\", \"#FF6692\", \"#B6E880\", \"#FF97FF\", \"#FECB52\"], \"font\": {\"color\": \"#2a3f5f\"}, \"geo\": {\"bgcolor\": \"white\", \"lakecolor\": \"white\", \"landcolor\": \"#E5ECF6\", \"showlakes\": true, \"showland\": true, \"subunitcolor\": \"white\"}, \"hoverlabel\": {\"align\": \"left\"}, \"hovermode\": \"closest\", \"mapbox\": {\"style\": \"light\"}, \"paper_bgcolor\": \"white\", \"plot_bgcolor\": \"#E5ECF6\", \"polar\": {\"angularaxis\": {\"gridcolor\": \"white\", \"linecolor\": \"white\", \"ticks\": \"\"}, \"bgcolor\": \"#E5ECF6\", \"radialaxis\": {\"gridcolor\": \"white\", \"linecolor\": \"white\", \"ticks\": \"\"}}, \"scene\": {\"xaxis\": {\"backgroundcolor\": \"#E5ECF6\", \"gridcolor\": \"white\", \"gridwidth\": 2, \"linecolor\": \"white\", \"showbackground\": true, \"ticks\": \"\", \"zerolinecolor\": \"white\"}, \"yaxis\": {\"backgroundcolor\": \"#E5ECF6\", \"gridcolor\": \"white\", \"gridwidth\": 2, \"linecolor\": \"white\", \"showbackground\": true, \"ticks\": \"\", \"zerolinecolor\": \"white\"}, \"zaxis\": {\"backgroundcolor\": \"#E5ECF6\", \"gridcolor\": \"white\", \"gridwidth\": 2, \"linecolor\": \"white\", \"showbackground\": true, \"ticks\": \"\", \"zerolinecolor\": \"white\"}}, \"shapedefaults\": {\"line\": {\"color\": \"#2a3f5f\"}}, \"ternary\": {\"aaxis\": {\"gridcolor\": \"white\", \"linecolor\": \"white\", \"ticks\": \"\"}, \"baxis\": {\"gridcolor\": \"white\", \"linecolor\": \"white\", \"ticks\": \"\"}, \"bgcolor\": \"#E5ECF6\", \"caxis\": {\"gridcolor\": \"white\", \"linecolor\": \"white\", \"ticks\": \"\"}}, \"title\": {\"x\": 0.05}, \"xaxis\": {\"automargin\": true, \"gridcolor\": \"white\", \"linecolor\": \"white\", \"ticks\": \"\", \"title\": {\"standoff\": 15}, \"zerolinecolor\": \"white\", \"zerolinewidth\": 2}, \"yaxis\": {\"automargin\": true, \"gridcolor\": \"white\", \"linecolor\": \"white\", \"ticks\": \"\", \"title\": {\"standoff\": 15}, \"zerolinecolor\": \"white\", \"zerolinewidth\": 2}}}, \"title\": {\"font\": {\"color\": \"#000000\", \"size\": 32}, \"text\": \"\", \"x\": 0.5, \"xanchor\": \"center\", \"y\": 0.9, \"yanchor\": \"top\"}, \"xaxis\": {\"gridcolor\": \"#e5e5e5\", \"linecolor\": \"#e5e5e5\", \"tickfont\": {\"color\": \"#000000\", \"size\": 12}, \"tickformat\": \"%d/%m\", \"title\": {\"text\": \"\"}, \"type\": \"date\", \"zerolinecolor\": \"#e5e5e5\"}, \"yaxis\": {\"gridcolor\": \"#e5e5e5\", \"tickfont\": {\"color\": \"#000000\", \"size\": 12}, \"tickformat\": \"n\", \"title\": {\"text\": \"Casos Confirmados\"}, \"type\": \"linear\", \"zerolinecolor\": \"#e5e5e5\"}},\n",
       "                        {\"responsive\": true}\n",
       "                    ).then(function(){\n",
       "                            \n",
       "var gd = document.getElementById('74be365c-4059-4782-a63d-ca3c9134c748');\n",
       "var x = new MutationObserver(function (mutations, observer) {{\n",
       "        var display = window.getComputedStyle(gd).display;\n",
       "        if (!display || display === 'none') {{\n",
       "            console.log([gd, 'removed!']);\n",
       "            Plotly.purge(gd);\n",
       "            observer.disconnect();\n",
       "        }}\n",
       "}});\n",
       "\n",
       "// Listen for the removal of the full notebook cells\n",
       "var notebookContainer = gd.closest('#notebook-container');\n",
       "if (notebookContainer) {{\n",
       "    x.observe(notebookContainer, {childList: true});\n",
       "}}\n",
       "\n",
       "// Listen for the clearing of the current output cell\n",
       "var outputEl = gd.closest('.output');\n",
       "if (outputEl) {{\n",
       "    x.observe(outputEl, {childList: true});\n",
       "}}\n",
       "\n",
       "                        })\n",
       "                };\n",
       "                });\n",
       "            </script>\n",
       "        </div>"
      ]
     },
     "metadata": {},
     "output_type": "display_data"
    }
   ],
   "source": [
    "fig"
   ]
  },
  {
   "cell_type": "code",
   "execution_count": null,
   "metadata": {},
   "outputs": [],
   "source": []
  },
  {
   "cell_type": "markdown",
   "metadata": {},
   "source": [
    "## Diario"
   ]
  },
  {
   "cell_type": "code",
   "execution_count": 34,
   "metadata": {},
   "outputs": [],
   "source": [
    "themes = yaml.load(open('../themes/custom_colorscales.yaml', 'r'), Loader=yaml.FullLoader)\n",
    "themes = themes['brasil_vis_daily']\n",
    "\n",
    "codes = ['BRASIL','SP']\n",
    "\n",
    "for state in codes:\n",
    "    mask = ((df_states['state']==state) & (df_states['confirmed']>0))\n",
    "    fig = vis_graphs.unique_country(df_states[mask], themes)\n",
    "\n",
    "    plot(fig, filename=f\"../site/sv_br_vale/coronavirus/images/daily/{state}.html\", auto_open=False)\n"
   ]
  },
  {
   "cell_type": "code",
   "execution_count": 35,
   "metadata": {},
   "outputs": [
    {
     "data": {
      "application/vnd.plotly.v1+json": {
       "config": {
        "plotlyServerURL": "https://plot.ly"
       },
       "data": [
        {
         "hoverlabel": {
          "font": {
           "size": 15
          },
          "namelength": -1
         },
         "marker": {
          "color": "#EF4136"
         },
         "name": "Óbitos",
         "type": "bar",
         "x": [
          "2020-05-30T00:00:00",
          "2020-05-29T00:00:00",
          "2020-05-28T00:00:00",
          "2020-05-27T00:00:00",
          "2020-05-26T00:00:00",
          "2020-05-25T00:00:00",
          "2020-05-24T00:00:00",
          "2020-05-23T00:00:00",
          "2020-05-22T00:00:00",
          "2020-05-21T00:00:00",
          "2020-05-20T00:00:00",
          "2020-05-19T00:00:00",
          "2020-05-18T00:00:00",
          "2020-05-17T00:00:00",
          "2020-05-16T00:00:00",
          "2020-05-15T00:00:00",
          "2020-05-14T00:00:00",
          "2020-05-13T00:00:00",
          "2020-05-12T00:00:00",
          "2020-05-11T00:00:00",
          "2020-05-10T00:00:00",
          "2020-05-09T00:00:00",
          "2020-05-08T00:00:00",
          "2020-05-07T00:00:00",
          "2020-05-06T00:00:00",
          "2020-05-05T00:00:00",
          "2020-05-04T00:00:00",
          "2020-05-03T00:00:00",
          "2020-05-02T00:00:00",
          "2020-05-01T00:00:00",
          "2020-04-30T00:00:00",
          "2020-04-29T00:00:00",
          "2020-04-28T00:00:00",
          "2020-04-27T00:00:00",
          "2020-04-26T00:00:00",
          "2020-04-25T00:00:00",
          "2020-04-24T00:00:00",
          "2020-04-23T00:00:00",
          "2020-04-22T00:00:00",
          "2020-04-21T00:00:00",
          "2020-04-20T00:00:00",
          "2020-04-19T00:00:00",
          "2020-04-18T00:00:00",
          "2020-04-17T00:00:00",
          "2020-04-16T00:00:00",
          "2020-04-15T00:00:00",
          "2020-04-14T00:00:00",
          "2020-04-13T00:00:00",
          "2020-04-12T00:00:00",
          "2020-04-11T00:00:00",
          "2020-04-10T00:00:00",
          "2020-04-09T00:00:00",
          "2020-04-08T00:00:00",
          "2020-04-07T00:00:00",
          "2020-04-06T00:00:00",
          "2020-04-05T00:00:00",
          "2020-04-04T00:00:00",
          "2020-04-03T00:00:00",
          "2020-04-02T00:00:00",
          "2020-04-01T00:00:00",
          "2020-03-31T00:00:00",
          "2020-03-30T00:00:00",
          "2020-03-29T00:00:00",
          "2020-03-28T00:00:00",
          "2020-03-27T00:00:00",
          "2020-03-26T00:00:00",
          "2020-03-25T00:00:00",
          "2020-03-24T00:00:00",
          "2020-03-23T00:00:00",
          "2020-03-22T00:00:00",
          "2020-03-21T00:00:00",
          "2020-03-20T00:00:00",
          "2020-03-19T00:00:00",
          "2020-03-18T00:00:00",
          "2020-03-17T00:00:00",
          "2020-03-16T00:00:00",
          "2020-03-15T00:00:00",
          "2020-03-14T00:00:00",
          "2020-03-13T00:00:00",
          "2020-03-12T00:00:00",
          "2020-03-11T00:00:00",
          "2020-03-10T00:00:00",
          "2020-03-09T00:00:00",
          "2020-03-08T00:00:00",
          "2020-03-07T00:00:00",
          "2020-03-06T00:00:00",
          "2020-03-05T00:00:00",
          "2020-03-04T00:00:00",
          "2020-03-03T00:00:00",
          "2020-03-02T00:00:00",
          "2020-03-01T00:00:00",
          "2020-02-29T00:00:00",
          "2020-02-28T00:00:00",
          "2020-02-27T00:00:00",
          "2020-02-26T00:00:00"
         ],
         "y": [
          257,
          295,
          268,
          289,
          203,
          57,
          118,
          272,
          215,
          195,
          216,
          324,
          41,
          94,
          187,
          186,
          197,
          169,
          206,
          34,
          101,
          192,
          210,
          161,
          194,
          197,
          27,
          41,
          75,
          136,
          128,
          198,
          224,
          125,
          33,
          155,
          167,
          211,
          41,
          56,
          22,
          24,
          63,
          75,
          75,
          83,
          87,
          20,
          28,
          20,
          44,
          68,
          57,
          67,
          29,
          15,
          41,
          31,
          24,
          28,
          23,
          15,
          14,
          16,
          10,
          10,
          8,
          10,
          8,
          7,
          6,
          5,
          0,
          3,
          1,
          0,
          0,
          0,
          0,
          0,
          0,
          0,
          0,
          0,
          0,
          0,
          0,
          0,
          0,
          0,
          0,
          0,
          0,
          0,
          0
         ]
        },
        {
         "hoverlabel": {
          "font": {
           "size": 15
          },
          "namelength": -1
         },
         "marker": {
          "color": "#0393D0"
         },
         "name": "Confirmados",
         "type": "bar",
         "x": [
          "2020-05-30T00:00:00",
          "2020-05-29T00:00:00",
          "2020-05-28T00:00:00",
          "2020-05-27T00:00:00",
          "2020-05-26T00:00:00",
          "2020-05-25T00:00:00",
          "2020-05-24T00:00:00",
          "2020-05-23T00:00:00",
          "2020-05-22T00:00:00",
          "2020-05-21T00:00:00",
          "2020-05-20T00:00:00",
          "2020-05-19T00:00:00",
          "2020-05-18T00:00:00",
          "2020-05-17T00:00:00",
          "2020-05-16T00:00:00",
          "2020-05-15T00:00:00",
          "2020-05-14T00:00:00",
          "2020-05-13T00:00:00",
          "2020-05-12T00:00:00",
          "2020-05-11T00:00:00",
          "2020-05-10T00:00:00",
          "2020-05-09T00:00:00",
          "2020-05-08T00:00:00",
          "2020-05-07T00:00:00",
          "2020-05-06T00:00:00",
          "2020-05-05T00:00:00",
          "2020-05-04T00:00:00",
          "2020-05-03T00:00:00",
          "2020-05-02T00:00:00",
          "2020-05-01T00:00:00",
          "2020-04-30T00:00:00",
          "2020-04-29T00:00:00",
          "2020-04-28T00:00:00",
          "2020-04-27T00:00:00",
          "2020-04-26T00:00:00",
          "2020-04-25T00:00:00",
          "2020-04-24T00:00:00",
          "2020-04-23T00:00:00",
          "2020-04-22T00:00:00",
          "2020-04-21T00:00:00",
          "2020-04-20T00:00:00",
          "2020-04-19T00:00:00",
          "2020-04-18T00:00:00",
          "2020-04-17T00:00:00",
          "2020-04-16T00:00:00",
          "2020-04-15T00:00:00",
          "2020-04-14T00:00:00",
          "2020-04-13T00:00:00",
          "2020-04-12T00:00:00",
          "2020-04-11T00:00:00",
          "2020-04-10T00:00:00",
          "2020-04-09T00:00:00",
          "2020-04-08T00:00:00",
          "2020-04-07T00:00:00",
          "2020-04-06T00:00:00",
          "2020-04-05T00:00:00",
          "2020-04-04T00:00:00",
          "2020-04-03T00:00:00",
          "2020-04-02T00:00:00",
          "2020-04-01T00:00:00",
          "2020-03-31T00:00:00",
          "2020-03-30T00:00:00",
          "2020-03-29T00:00:00",
          "2020-03-28T00:00:00",
          "2020-03-27T00:00:00",
          "2020-03-26T00:00:00",
          "2020-03-25T00:00:00",
          "2020-03-24T00:00:00",
          "2020-03-23T00:00:00",
          "2020-03-22T00:00:00",
          "2020-03-21T00:00:00",
          "2020-03-20T00:00:00",
          "2020-03-19T00:00:00",
          "2020-03-18T00:00:00",
          "2020-03-17T00:00:00",
          "2020-03-16T00:00:00",
          "2020-03-15T00:00:00",
          "2020-03-14T00:00:00",
          "2020-03-13T00:00:00",
          "2020-03-12T00:00:00",
          "2020-03-11T00:00:00",
          "2020-03-10T00:00:00",
          "2020-03-09T00:00:00",
          "2020-03-08T00:00:00",
          "2020-03-07T00:00:00",
          "2020-03-06T00:00:00",
          "2020-03-05T00:00:00",
          "2020-03-04T00:00:00",
          "2020-03-03T00:00:00",
          "2020-03-02T00:00:00",
          "2020-03-01T00:00:00",
          "2020-02-29T00:00:00",
          "2020-02-28T00:00:00",
          "2020-02-27T00:00:00",
          "2020-02-26T00:00:00"
         ],
         "y": [
          5586,
          5691,
          6382,
          3466,
          2392,
          1464,
          1603,
          3687,
          3132,
          3880,
          3864,
          2929,
          721,
          1162,
          2805,
          4092,
          3189,
          3378,
          1588,
          687,
          1033,
          2581,
          1902,
          2075,
          3800,
          1866,
          415,
          598,
          800,
          1676,
          2540,
          2117,
          2345,
          981,
          711,
          2178,
          1086,
          826,
          529,
          805,
          313,
          373,
          1053,
          1273,
          525,
          1672,
          476,
          140,
          336,
          203,
          736,
          772,
          1026,
          816,
          246,
          154,
          418,
          542,
          525,
          642,
          822,
          66,
          45,
          183,
          171,
          190,
          52,
          65,
          114,
          172,
          63,
          110,
          46,
          76,
          12,
          16,
          71,
          9,
          14,
          12,
          11,
          3,
          0,
          3,
          3,
          4,
          3,
          1,
          0,
          0,
          0,
          1,
          0,
          0,
          1
         ]
        }
       ],
       "layout": {
        "annotations": [
         {
          "align": "left",
          "font": {
           "color": "#000000",
           "family": "Courier New, monospace",
           "size": 16
          },
          "showarrow": false,
          "text": "<b><b>",
          "x": -0.04,
          "xref": "paper",
          "xshift": 0,
          "y": -0.14,
          "yref": "paper",
          "yshift": 0
         }
        ],
        "autosize": true,
        "barmode": "stack",
        "font": {
         "color": "#000000",
         "size": 12
        },
        "hovermode": "x",
        "legend": {
         "bgcolor": "rgba(0, 0, 0, 0)",
         "bordercolor": "rgba(0, 0, 0, 0)",
         "borderwidth": 0,
         "font": {
          "color": "#000000",
          "family": "Courier New, monospace",
          "size": 10
         },
         "orientation": "h",
         "traceorder": "reversed"
        },
        "margin": {
         "b": 10,
         "l": 10,
         "r": 10,
         "t": 10
        },
        "paper_bgcolor": "#FFFFFF",
        "plot_bgcolor": "rgba(0, 0, 0, 0)",
        "template": {
         "data": {
          "bar": [
           {
            "error_x": {
             "color": "#2a3f5f"
            },
            "error_y": {
             "color": "#2a3f5f"
            },
            "marker": {
             "line": {
              "color": "#E5ECF6",
              "width": 0.5
             }
            },
            "type": "bar"
           }
          ],
          "barpolar": [
           {
            "marker": {
             "line": {
              "color": "#E5ECF6",
              "width": 0.5
             }
            },
            "type": "barpolar"
           }
          ],
          "carpet": [
           {
            "aaxis": {
             "endlinecolor": "#2a3f5f",
             "gridcolor": "white",
             "linecolor": "white",
             "minorgridcolor": "white",
             "startlinecolor": "#2a3f5f"
            },
            "baxis": {
             "endlinecolor": "#2a3f5f",
             "gridcolor": "white",
             "linecolor": "white",
             "minorgridcolor": "white",
             "startlinecolor": "#2a3f5f"
            },
            "type": "carpet"
           }
          ],
          "choropleth": [
           {
            "colorbar": {
             "outlinewidth": 0,
             "ticks": ""
            },
            "type": "choropleth"
           }
          ],
          "contour": [
           {
            "colorbar": {
             "outlinewidth": 0,
             "ticks": ""
            },
            "colorscale": [
             [
              0,
              "#0d0887"
             ],
             [
              0.1111111111111111,
              "#46039f"
             ],
             [
              0.2222222222222222,
              "#7201a8"
             ],
             [
              0.3333333333333333,
              "#9c179e"
             ],
             [
              0.4444444444444444,
              "#bd3786"
             ],
             [
              0.5555555555555556,
              "#d8576b"
             ],
             [
              0.6666666666666666,
              "#ed7953"
             ],
             [
              0.7777777777777778,
              "#fb9f3a"
             ],
             [
              0.8888888888888888,
              "#fdca26"
             ],
             [
              1,
              "#f0f921"
             ]
            ],
            "type": "contour"
           }
          ],
          "contourcarpet": [
           {
            "colorbar": {
             "outlinewidth": 0,
             "ticks": ""
            },
            "type": "contourcarpet"
           }
          ],
          "heatmap": [
           {
            "colorbar": {
             "outlinewidth": 0,
             "ticks": ""
            },
            "colorscale": [
             [
              0,
              "#0d0887"
             ],
             [
              0.1111111111111111,
              "#46039f"
             ],
             [
              0.2222222222222222,
              "#7201a8"
             ],
             [
              0.3333333333333333,
              "#9c179e"
             ],
             [
              0.4444444444444444,
              "#bd3786"
             ],
             [
              0.5555555555555556,
              "#d8576b"
             ],
             [
              0.6666666666666666,
              "#ed7953"
             ],
             [
              0.7777777777777778,
              "#fb9f3a"
             ],
             [
              0.8888888888888888,
              "#fdca26"
             ],
             [
              1,
              "#f0f921"
             ]
            ],
            "type": "heatmap"
           }
          ],
          "heatmapgl": [
           {
            "colorbar": {
             "outlinewidth": 0,
             "ticks": ""
            },
            "colorscale": [
             [
              0,
              "#0d0887"
             ],
             [
              0.1111111111111111,
              "#46039f"
             ],
             [
              0.2222222222222222,
              "#7201a8"
             ],
             [
              0.3333333333333333,
              "#9c179e"
             ],
             [
              0.4444444444444444,
              "#bd3786"
             ],
             [
              0.5555555555555556,
              "#d8576b"
             ],
             [
              0.6666666666666666,
              "#ed7953"
             ],
             [
              0.7777777777777778,
              "#fb9f3a"
             ],
             [
              0.8888888888888888,
              "#fdca26"
             ],
             [
              1,
              "#f0f921"
             ]
            ],
            "type": "heatmapgl"
           }
          ],
          "histogram": [
           {
            "marker": {
             "colorbar": {
              "outlinewidth": 0,
              "ticks": ""
             }
            },
            "type": "histogram"
           }
          ],
          "histogram2d": [
           {
            "colorbar": {
             "outlinewidth": 0,
             "ticks": ""
            },
            "colorscale": [
             [
              0,
              "#0d0887"
             ],
             [
              0.1111111111111111,
              "#46039f"
             ],
             [
              0.2222222222222222,
              "#7201a8"
             ],
             [
              0.3333333333333333,
              "#9c179e"
             ],
             [
              0.4444444444444444,
              "#bd3786"
             ],
             [
              0.5555555555555556,
              "#d8576b"
             ],
             [
              0.6666666666666666,
              "#ed7953"
             ],
             [
              0.7777777777777778,
              "#fb9f3a"
             ],
             [
              0.8888888888888888,
              "#fdca26"
             ],
             [
              1,
              "#f0f921"
             ]
            ],
            "type": "histogram2d"
           }
          ],
          "histogram2dcontour": [
           {
            "colorbar": {
             "outlinewidth": 0,
             "ticks": ""
            },
            "colorscale": [
             [
              0,
              "#0d0887"
             ],
             [
              0.1111111111111111,
              "#46039f"
             ],
             [
              0.2222222222222222,
              "#7201a8"
             ],
             [
              0.3333333333333333,
              "#9c179e"
             ],
             [
              0.4444444444444444,
              "#bd3786"
             ],
             [
              0.5555555555555556,
              "#d8576b"
             ],
             [
              0.6666666666666666,
              "#ed7953"
             ],
             [
              0.7777777777777778,
              "#fb9f3a"
             ],
             [
              0.8888888888888888,
              "#fdca26"
             ],
             [
              1,
              "#f0f921"
             ]
            ],
            "type": "histogram2dcontour"
           }
          ],
          "mesh3d": [
           {
            "colorbar": {
             "outlinewidth": 0,
             "ticks": ""
            },
            "type": "mesh3d"
           }
          ],
          "parcoords": [
           {
            "line": {
             "colorbar": {
              "outlinewidth": 0,
              "ticks": ""
             }
            },
            "type": "parcoords"
           }
          ],
          "pie": [
           {
            "automargin": true,
            "type": "pie"
           }
          ],
          "scatter": [
           {
            "marker": {
             "colorbar": {
              "outlinewidth": 0,
              "ticks": ""
             }
            },
            "type": "scatter"
           }
          ],
          "scatter3d": [
           {
            "line": {
             "colorbar": {
              "outlinewidth": 0,
              "ticks": ""
             }
            },
            "marker": {
             "colorbar": {
              "outlinewidth": 0,
              "ticks": ""
             }
            },
            "type": "scatter3d"
           }
          ],
          "scattercarpet": [
           {
            "marker": {
             "colorbar": {
              "outlinewidth": 0,
              "ticks": ""
             }
            },
            "type": "scattercarpet"
           }
          ],
          "scattergeo": [
           {
            "marker": {
             "colorbar": {
              "outlinewidth": 0,
              "ticks": ""
             }
            },
            "type": "scattergeo"
           }
          ],
          "scattergl": [
           {
            "marker": {
             "colorbar": {
              "outlinewidth": 0,
              "ticks": ""
             }
            },
            "type": "scattergl"
           }
          ],
          "scattermapbox": [
           {
            "marker": {
             "colorbar": {
              "outlinewidth": 0,
              "ticks": ""
             }
            },
            "type": "scattermapbox"
           }
          ],
          "scatterpolar": [
           {
            "marker": {
             "colorbar": {
              "outlinewidth": 0,
              "ticks": ""
             }
            },
            "type": "scatterpolar"
           }
          ],
          "scatterpolargl": [
           {
            "marker": {
             "colorbar": {
              "outlinewidth": 0,
              "ticks": ""
             }
            },
            "type": "scatterpolargl"
           }
          ],
          "scatterternary": [
           {
            "marker": {
             "colorbar": {
              "outlinewidth": 0,
              "ticks": ""
             }
            },
            "type": "scatterternary"
           }
          ],
          "surface": [
           {
            "colorbar": {
             "outlinewidth": 0,
             "ticks": ""
            },
            "colorscale": [
             [
              0,
              "#0d0887"
             ],
             [
              0.1111111111111111,
              "#46039f"
             ],
             [
              0.2222222222222222,
              "#7201a8"
             ],
             [
              0.3333333333333333,
              "#9c179e"
             ],
             [
              0.4444444444444444,
              "#bd3786"
             ],
             [
              0.5555555555555556,
              "#d8576b"
             ],
             [
              0.6666666666666666,
              "#ed7953"
             ],
             [
              0.7777777777777778,
              "#fb9f3a"
             ],
             [
              0.8888888888888888,
              "#fdca26"
             ],
             [
              1,
              "#f0f921"
             ]
            ],
            "type": "surface"
           }
          ],
          "table": [
           {
            "cells": {
             "fill": {
              "color": "#EBF0F8"
             },
             "line": {
              "color": "white"
             }
            },
            "header": {
             "fill": {
              "color": "#C8D4E3"
             },
             "line": {
              "color": "white"
             }
            },
            "type": "table"
           }
          ]
         },
         "layout": {
          "annotationdefaults": {
           "arrowcolor": "#2a3f5f",
           "arrowhead": 0,
           "arrowwidth": 1
          },
          "coloraxis": {
           "colorbar": {
            "outlinewidth": 0,
            "ticks": ""
           }
          },
          "colorscale": {
           "diverging": [
            [
             0,
             "#8e0152"
            ],
            [
             0.1,
             "#c51b7d"
            ],
            [
             0.2,
             "#de77ae"
            ],
            [
             0.3,
             "#f1b6da"
            ],
            [
             0.4,
             "#fde0ef"
            ],
            [
             0.5,
             "#f7f7f7"
            ],
            [
             0.6,
             "#e6f5d0"
            ],
            [
             0.7,
             "#b8e186"
            ],
            [
             0.8,
             "#7fbc41"
            ],
            [
             0.9,
             "#4d9221"
            ],
            [
             1,
             "#276419"
            ]
           ],
           "sequential": [
            [
             0,
             "#0d0887"
            ],
            [
             0.1111111111111111,
             "#46039f"
            ],
            [
             0.2222222222222222,
             "#7201a8"
            ],
            [
             0.3333333333333333,
             "#9c179e"
            ],
            [
             0.4444444444444444,
             "#bd3786"
            ],
            [
             0.5555555555555556,
             "#d8576b"
            ],
            [
             0.6666666666666666,
             "#ed7953"
            ],
            [
             0.7777777777777778,
             "#fb9f3a"
            ],
            [
             0.8888888888888888,
             "#fdca26"
            ],
            [
             1,
             "#f0f921"
            ]
           ],
           "sequentialminus": [
            [
             0,
             "#0d0887"
            ],
            [
             0.1111111111111111,
             "#46039f"
            ],
            [
             0.2222222222222222,
             "#7201a8"
            ],
            [
             0.3333333333333333,
             "#9c179e"
            ],
            [
             0.4444444444444444,
             "#bd3786"
            ],
            [
             0.5555555555555556,
             "#d8576b"
            ],
            [
             0.6666666666666666,
             "#ed7953"
            ],
            [
             0.7777777777777778,
             "#fb9f3a"
            ],
            [
             0.8888888888888888,
             "#fdca26"
            ],
            [
             1,
             "#f0f921"
            ]
           ]
          },
          "colorway": [
           "#636efa",
           "#EF553B",
           "#00cc96",
           "#ab63fa",
           "#FFA15A",
           "#19d3f3",
           "#FF6692",
           "#B6E880",
           "#FF97FF",
           "#FECB52"
          ],
          "font": {
           "color": "#2a3f5f"
          },
          "geo": {
           "bgcolor": "white",
           "lakecolor": "white",
           "landcolor": "#E5ECF6",
           "showlakes": true,
           "showland": true,
           "subunitcolor": "white"
          },
          "hoverlabel": {
           "align": "left"
          },
          "hovermode": "closest",
          "mapbox": {
           "style": "light"
          },
          "paper_bgcolor": "white",
          "plot_bgcolor": "#E5ECF6",
          "polar": {
           "angularaxis": {
            "gridcolor": "white",
            "linecolor": "white",
            "ticks": ""
           },
           "bgcolor": "#E5ECF6",
           "radialaxis": {
            "gridcolor": "white",
            "linecolor": "white",
            "ticks": ""
           }
          },
          "scene": {
           "xaxis": {
            "backgroundcolor": "#E5ECF6",
            "gridcolor": "white",
            "gridwidth": 2,
            "linecolor": "white",
            "showbackground": true,
            "ticks": "",
            "zerolinecolor": "white"
           },
           "yaxis": {
            "backgroundcolor": "#E5ECF6",
            "gridcolor": "white",
            "gridwidth": 2,
            "linecolor": "white",
            "showbackground": true,
            "ticks": "",
            "zerolinecolor": "white"
           },
           "zaxis": {
            "backgroundcolor": "#E5ECF6",
            "gridcolor": "white",
            "gridwidth": 2,
            "linecolor": "white",
            "showbackground": true,
            "ticks": "",
            "zerolinecolor": "white"
           }
          },
          "shapedefaults": {
           "line": {
            "color": "#2a3f5f"
           }
          },
          "ternary": {
           "aaxis": {
            "gridcolor": "white",
            "linecolor": "white",
            "ticks": ""
           },
           "baxis": {
            "gridcolor": "white",
            "linecolor": "white",
            "ticks": ""
           },
           "bgcolor": "#E5ECF6",
           "caxis": {
            "gridcolor": "white",
            "linecolor": "white",
            "ticks": ""
           }
          },
          "title": {
           "x": 0.05
          },
          "xaxis": {
           "automargin": true,
           "gridcolor": "white",
           "linecolor": "white",
           "ticks": "",
           "title": {
            "standoff": 15
           },
           "zerolinecolor": "white",
           "zerolinewidth": 2
          },
          "yaxis": {
           "automargin": true,
           "gridcolor": "white",
           "linecolor": "white",
           "ticks": "",
           "title": {
            "standoff": 15
           },
           "zerolinecolor": "white",
           "zerolinewidth": 2
          }
         }
        },
        "xaxis": {
         "autorange": true,
         "gridcolor": "#e5e5e5",
         "linecolor": "#e5e5e5",
         "range": [
          "2020-02-25 12:00",
          "2020-05-30 12:00"
         ],
         "tickfont": {
          "color": "#000000",
          "size": 12
         },
         "tickformat": "%d/%m",
         "title": {
          "text": ""
         },
         "type": "date",
         "zerolinecolor": "#e5e5e5"
        },
        "yaxis": {
         "autorange": true,
         "gridcolor": "#e5e5e5",
         "range": [
          0,
          7000
         ],
         "tickfont": {
          "color": "#000000",
          "size": 12
         },
         "tickformat": "n",
         "title": {
          "text": "Casos Confirmados"
         },
         "type": "linear",
         "zerolinecolor": "#e5e5e5"
        }
       }
      },
      "image/png": "[encoded data removed]",
      "text/html": [
       "<div>\n",
       "        \n",
       "        \n",
       "            <div id=\"9f735b21-b2e3-4a47-adec-9c5b81ba714c\" class=\"plotly-graph-div\" style=\"height:525px; width:100%;\"></div>\n",
       "            <script type=\"text/javascript\">\n",
       "                require([\"plotly\"], function(Plotly) {\n",
       "                    window.PLOTLYENV=window.PLOTLYENV || {};\n",
       "                    \n",
       "                if (document.getElementById(\"9f735b21-b2e3-4a47-adec-9c5b81ba714c\")) {\n",
       "                    Plotly.newPlot(\n",
       "                        '9f735b21-b2e3-4a47-adec-9c5b81ba714c',\n",
       "                        [{\"hoverlabel\": {\"font\": {\"size\": 15}, \"namelength\": -1}, \"marker\": {\"color\": \"#EF4136\"}, \"name\": \"\\u00d3bitos\", \"type\": \"bar\", \"x\": [\"2020-05-30T00:00:00\", \"2020-05-29T00:00:00\", \"2020-05-28T00:00:00\", \"2020-05-27T00:00:00\", \"2020-05-26T00:00:00\", \"2020-05-25T00:00:00\", \"2020-05-24T00:00:00\", \"2020-05-23T00:00:00\", \"2020-05-22T00:00:00\", \"2020-05-21T00:00:00\", \"2020-05-20T00:00:00\", \"2020-05-19T00:00:00\", \"2020-05-18T00:00:00\", \"2020-05-17T00:00:00\", \"2020-05-16T00:00:00\", \"2020-05-15T00:00:00\", \"2020-05-14T00:00:00\", \"2020-05-13T00:00:00\", \"2020-05-12T00:00:00\", \"2020-05-11T00:00:00\", \"2020-05-10T00:00:00\", \"2020-05-09T00:00:00\", \"2020-05-08T00:00:00\", \"2020-05-07T00:00:00\", \"2020-05-06T00:00:00\", \"2020-05-05T00:00:00\", \"2020-05-04T00:00:00\", \"2020-05-03T00:00:00\", \"2020-05-02T00:00:00\", \"2020-05-01T00:00:00\", \"2020-04-30T00:00:00\", \"2020-04-29T00:00:00\", \"2020-04-28T00:00:00\", \"2020-04-27T00:00:00\", \"2020-04-26T00:00:00\", \"2020-04-25T00:00:00\", \"2020-04-24T00:00:00\", \"2020-04-23T00:00:00\", \"2020-04-22T00:00:00\", \"2020-04-21T00:00:00\", \"2020-04-20T00:00:00\", \"2020-04-19T00:00:00\", \"2020-04-18T00:00:00\", \"2020-04-17T00:00:00\", \"2020-04-16T00:00:00\", \"2020-04-15T00:00:00\", \"2020-04-14T00:00:00\", \"2020-04-13T00:00:00\", \"2020-04-12T00:00:00\", \"2020-04-11T00:00:00\", \"2020-04-10T00:00:00\", \"2020-04-09T00:00:00\", \"2020-04-08T00:00:00\", \"2020-04-07T00:00:00\", \"2020-04-06T00:00:00\", \"2020-04-05T00:00:00\", \"2020-04-04T00:00:00\", \"2020-04-03T00:00:00\", \"2020-04-02T00:00:00\", \"2020-04-01T00:00:00\", \"2020-03-31T00:00:00\", \"2020-03-30T00:00:00\", \"2020-03-29T00:00:00\", \"2020-03-28T00:00:00\", \"2020-03-27T00:00:00\", \"2020-03-26T00:00:00\", \"2020-03-25T00:00:00\", \"2020-03-24T00:00:00\", \"2020-03-23T00:00:00\", \"2020-03-22T00:00:00\", \"2020-03-21T00:00:00\", \"2020-03-20T00:00:00\", \"2020-03-19T00:00:00\", \"2020-03-18T00:00:00\", \"2020-03-17T00:00:00\", \"2020-03-16T00:00:00\", \"2020-03-15T00:00:00\", \"2020-03-14T00:00:00\", \"2020-03-13T00:00:00\", \"2020-03-12T00:00:00\", \"2020-03-11T00:00:00\", \"2020-03-10T00:00:00\", \"2020-03-09T00:00:00\", \"2020-03-08T00:00:00\", \"2020-03-07T00:00:00\", \"2020-03-06T00:00:00\", \"2020-03-05T00:00:00\", \"2020-03-04T00:00:00\", \"2020-03-03T00:00:00\", \"2020-03-02T00:00:00\", \"2020-03-01T00:00:00\", \"2020-02-29T00:00:00\", \"2020-02-28T00:00:00\", \"2020-02-27T00:00:00\", \"2020-02-26T00:00:00\"], \"y\": [257.0, 295.0, 268.0, 289.0, 203.0, 57.0, 118.0, 272.0, 215.0, 195.0, 216.0, 324.0, 41.0, 94.0, 187.0, 186.0, 197.0, 169.0, 206.0, 34.0, 101.0, 192.0, 210.0, 161.0, 194.0, 197.0, 27.0, 41.0, 75.0, 136.0, 128.0, 198.0, 224.0, 125.0, 33.0, 155.0, 167.0, 211.0, 41.0, 56.0, 22.0, 24.0, 63.0, 75.0, 75.0, 83.0, 87.0, 20.0, 28.0, 20.0, 44.0, 68.0, 57.0, 67.0, 29.0, 15.0, 41.0, 31.0, 24.0, 28.0, 23.0, 15.0, 14.0, 16.0, 10.0, 10.0, 8.0, 10.0, 8.0, 7.0, 6.0, 5.0, 0.0, 3.0, 1.0, 0.0, 0.0, 0.0, 0.0, 0.0, 0.0, 0.0, 0.0, 0.0, 0.0, 0.0, 0.0, 0.0, 0.0, 0.0, 0.0, 0.0, 0.0, 0.0, 0.0]}, {\"hoverlabel\": {\"font\": {\"size\": 15}, \"namelength\": -1}, \"marker\": {\"color\": \"#0393D0\"}, \"name\": \"Confirmados\", \"type\": \"bar\", \"x\": [\"2020-05-30T00:00:00\", \"2020-05-29T00:00:00\", \"2020-05-28T00:00:00\", \"2020-05-27T00:00:00\", \"2020-05-26T00:00:00\", \"2020-05-25T00:00:00\", \"2020-05-24T00:00:00\", \"2020-05-23T00:00:00\", \"2020-05-22T00:00:00\", \"2020-05-21T00:00:00\", \"2020-05-20T00:00:00\", \"2020-05-19T00:00:00\", \"2020-05-18T00:00:00\", \"2020-05-17T00:00:00\", \"2020-05-16T00:00:00\", \"2020-05-15T00:00:00\", \"2020-05-14T00:00:00\", \"2020-05-13T00:00:00\", \"2020-05-12T00:00:00\", \"2020-05-11T00:00:00\", \"2020-05-10T00:00:00\", \"2020-05-09T00:00:00\", \"2020-05-08T00:00:00\", \"2020-05-07T00:00:00\", \"2020-05-06T00:00:00\", \"2020-05-05T00:00:00\", \"2020-05-04T00:00:00\", \"2020-05-03T00:00:00\", \"2020-05-02T00:00:00\", \"2020-05-01T00:00:00\", \"2020-04-30T00:00:00\", \"2020-04-29T00:00:00\", \"2020-04-28T00:00:00\", \"2020-04-27T00:00:00\", \"2020-04-26T00:00:00\", \"2020-04-25T00:00:00\", \"2020-04-24T00:00:00\", \"2020-04-23T00:00:00\", \"2020-04-22T00:00:00\", \"2020-04-21T00:00:00\", \"2020-04-20T00:00:00\", \"2020-04-19T00:00:00\", \"2020-04-18T00:00:00\", \"2020-04-17T00:00:00\", \"2020-04-16T00:00:00\", \"2020-04-15T00:00:00\", \"2020-04-14T00:00:00\", \"2020-04-13T00:00:00\", \"2020-04-12T00:00:00\", \"2020-04-11T00:00:00\", \"2020-04-10T00:00:00\", \"2020-04-09T00:00:00\", \"2020-04-08T00:00:00\", \"2020-04-07T00:00:00\", \"2020-04-06T00:00:00\", \"2020-04-05T00:00:00\", \"2020-04-04T00:00:00\", \"2020-04-03T00:00:00\", \"2020-04-02T00:00:00\", \"2020-04-01T00:00:00\", \"2020-03-31T00:00:00\", \"2020-03-30T00:00:00\", \"2020-03-29T00:00:00\", \"2020-03-28T00:00:00\", \"2020-03-27T00:00:00\", \"2020-03-26T00:00:00\", \"2020-03-25T00:00:00\", \"2020-03-24T00:00:00\", \"2020-03-23T00:00:00\", \"2020-03-22T00:00:00\", \"2020-03-21T00:00:00\", \"2020-03-20T00:00:00\", \"2020-03-19T00:00:00\", \"2020-03-18T00:00:00\", \"2020-03-17T00:00:00\", \"2020-03-16T00:00:00\", \"2020-03-15T00:00:00\", \"2020-03-14T00:00:00\", \"2020-03-13T00:00:00\", \"2020-03-12T00:00:00\", \"2020-03-11T00:00:00\", \"2020-03-10T00:00:00\", \"2020-03-09T00:00:00\", \"2020-03-08T00:00:00\", \"2020-03-07T00:00:00\", \"2020-03-06T00:00:00\", \"2020-03-05T00:00:00\", \"2020-03-04T00:00:00\", \"2020-03-03T00:00:00\", \"2020-03-02T00:00:00\", \"2020-03-01T00:00:00\", \"2020-02-29T00:00:00\", \"2020-02-28T00:00:00\", \"2020-02-27T00:00:00\", \"2020-02-26T00:00:00\"], \"y\": [5586.0, 5691.0, 6382.0, 3466.0, 2392.0, 1464.0, 1603.0, 3687.0, 3132.0, 3880.0, 3864.0, 2929.0, 721.0, 1162.0, 2805.0, 4092.0, 3189.0, 3378.0, 1588.0, 687.0, 1033.0, 2581.0, 1902.0, 2075.0, 3800.0, 1866.0, 415.0, 598.0, 800.0, 1676.0, 2540.0, 2117.0, 2345.0, 981.0, 711.0, 2178.0, 1086.0, 826.0, 529.0, 805.0, 313.0, 373.0, 1053.0, 1273.0, 525.0, 1672.0, 476.0, 140.0, 336.0, 203.0, 736.0, 772.0, 1026.0, 816.0, 246.0, 154.0, 418.0, 542.0, 525.0, 642.0, 822.0, 66.0, 45.0, 183.0, 171.0, 190.0, 52.0, 65.0, 114.0, 172.0, 63.0, 110.0, 46.0, 76.0, 12.0, 16.0, 71.0, 9.0, 14.0, 12.0, 11.0, 3.0, 0.0, 3.0, 3.0, 4.0, 3.0, 1.0, 0.0, 0.0, 0.0, 1.0, 0.0, 0.0, 1.0]}],\n",
       "                        {\"annotations\": [{\"align\": \"left\", \"font\": {\"color\": \"#000000\", \"family\": \"Courier New, monospace\", \"size\": 16}, \"showarrow\": false, \"text\": \"<b><b>\", \"x\": -0.04, \"xref\": \"paper\", \"xshift\": 0, \"y\": -0.14, \"yref\": \"paper\", \"yshift\": 0}], \"autosize\": true, \"barmode\": \"stack\", \"font\": {\"color\": \"#000000\", \"size\": 12}, \"hovermode\": \"x\", \"legend\": {\"bgcolor\": \"rgba(0,0,0,0)\", \"bordercolor\": \"rgba(0,0,0,0)\", \"borderwidth\": 0, \"font\": {\"color\": \"#000000\", \"family\": \"Courier New, monospace\", \"size\": 10}, \"orientation\": \"h\", \"traceorder\": \"reversed\"}, \"margin\": {\"b\": 10, \"l\": 10, \"r\": 10, \"t\": 10}, \"paper_bgcolor\": \"#FFFFFF\", \"plot_bgcolor\": \"rgba(0,0,0,0)\", \"template\": {\"data\": {\"bar\": [{\"error_x\": {\"color\": \"#2a3f5f\"}, \"error_y\": {\"color\": \"#2a3f5f\"}, \"marker\": {\"line\": {\"color\": \"#E5ECF6\", \"width\": 0.5}}, \"type\": \"bar\"}], \"barpolar\": [{\"marker\": {\"line\": {\"color\": \"#E5ECF6\", \"width\": 0.5}}, \"type\": \"barpolar\"}], \"carpet\": [{\"aaxis\": {\"endlinecolor\": \"#2a3f5f\", \"gridcolor\": \"white\", \"linecolor\": \"white\", \"minorgridcolor\": \"white\", \"startlinecolor\": \"#2a3f5f\"}, \"baxis\": {\"endlinecolor\": \"#2a3f5f\", \"gridcolor\": \"white\", \"linecolor\": \"white\", \"minorgridcolor\": \"white\", \"startlinecolor\": \"#2a3f5f\"}, \"type\": \"carpet\"}], \"choropleth\": [{\"colorbar\": {\"outlinewidth\": 0, \"ticks\": \"\"}, \"type\": \"choropleth\"}], \"contour\": [{\"colorbar\": {\"outlinewidth\": 0, \"ticks\": \"\"}, \"colorscale\": [[0.0, \"#0d0887\"], [0.1111111111111111, \"#46039f\"], [0.2222222222222222, \"#7201a8\"], [0.3333333333333333, \"#9c179e\"], [0.4444444444444444, \"#bd3786\"], [0.5555555555555556, \"#d8576b\"], [0.6666666666666666, \"#ed7953\"], [0.7777777777777778, \"#fb9f3a\"], [0.8888888888888888, \"#fdca26\"], [1.0, \"#f0f921\"]], \"type\": \"contour\"}], \"contourcarpet\": [{\"colorbar\": {\"outlinewidth\": 0, \"ticks\": \"\"}, \"type\": \"contourcarpet\"}], \"heatmap\": [{\"colorbar\": {\"outlinewidth\": 0, \"ticks\": \"\"}, \"colorscale\": [[0.0, \"#0d0887\"], [0.1111111111111111, \"#46039f\"], [0.2222222222222222, \"#7201a8\"], [0.3333333333333333, \"#9c179e\"], [0.4444444444444444, \"#bd3786\"], [0.5555555555555556, \"#d8576b\"], [0.6666666666666666, \"#ed7953\"], [0.7777777777777778, \"#fb9f3a\"], [0.8888888888888888, \"#fdca26\"], [1.0, \"#f0f921\"]], \"type\": \"heatmap\"}], \"heatmapgl\": [{\"colorbar\": {\"outlinewidth\": 0, \"ticks\": \"\"}, \"colorscale\": [[0.0, \"#0d0887\"], [0.1111111111111111, \"#46039f\"], [0.2222222222222222, \"#7201a8\"], [0.3333333333333333, \"#9c179e\"], [0.4444444444444444, \"#bd3786\"], [0.5555555555555556, \"#d8576b\"], [0.6666666666666666, \"#ed7953\"], [0.7777777777777778, \"#fb9f3a\"], [0.8888888888888888, \"#fdca26\"], [1.0, \"#f0f921\"]], \"type\": \"heatmapgl\"}], \"histogram\": [{\"marker\": {\"colorbar\": {\"outlinewidth\": 0, \"ticks\": \"\"}}, \"type\": \"histogram\"}], \"histogram2d\": [{\"colorbar\": {\"outlinewidth\": 0, \"ticks\": \"\"}, \"colorscale\": [[0.0, \"#0d0887\"], [0.1111111111111111, \"#46039f\"], [0.2222222222222222, \"#7201a8\"], [0.3333333333333333, \"#9c179e\"], [0.4444444444444444, \"#bd3786\"], [0.5555555555555556, \"#d8576b\"], [0.6666666666666666, \"#ed7953\"], [0.7777777777777778, \"#fb9f3a\"], [0.8888888888888888, \"#fdca26\"], [1.0, \"#f0f921\"]], \"type\": \"histogram2d\"}], \"histogram2dcontour\": [{\"colorbar\": {\"outlinewidth\": 0, \"ticks\": \"\"}, \"colorscale\": [[0.0, \"#0d0887\"], [0.1111111111111111, \"#46039f\"], [0.2222222222222222, \"#7201a8\"], [0.3333333333333333, \"#9c179e\"], [0.4444444444444444, \"#bd3786\"], [0.5555555555555556, \"#d8576b\"], [0.6666666666666666, \"#ed7953\"], [0.7777777777777778, \"#fb9f3a\"], [0.8888888888888888, \"#fdca26\"], [1.0, \"#f0f921\"]], \"type\": \"histogram2dcontour\"}], \"mesh3d\": [{\"colorbar\": {\"outlinewidth\": 0, \"ticks\": \"\"}, \"type\": \"mesh3d\"}], \"parcoords\": [{\"line\": {\"colorbar\": {\"outlinewidth\": 0, \"ticks\": \"\"}}, \"type\": \"parcoords\"}], \"pie\": [{\"automargin\": true, \"type\": \"pie\"}], \"scatter\": [{\"marker\": {\"colorbar\": {\"outlinewidth\": 0, \"ticks\": \"\"}}, \"type\": \"scatter\"}], \"scatter3d\": [{\"line\": {\"colorbar\": {\"outlinewidth\": 0, \"ticks\": \"\"}}, \"marker\": {\"colorbar\": {\"outlinewidth\": 0, \"ticks\": \"\"}}, \"type\": \"scatter3d\"}], \"scattercarpet\": [{\"marker\": {\"colorbar\": {\"outlinewidth\": 0, \"ticks\": \"\"}}, \"type\": \"scattercarpet\"}], \"scattergeo\": [{\"marker\": {\"colorbar\": {\"outlinewidth\": 0, \"ticks\": \"\"}}, \"type\": \"scattergeo\"}], \"scattergl\": [{\"marker\": {\"colorbar\": {\"outlinewidth\": 0, \"ticks\": \"\"}}, \"type\": \"scattergl\"}], \"scattermapbox\": [{\"marker\": {\"colorbar\": {\"outlinewidth\": 0, \"ticks\": \"\"}}, \"type\": \"scattermapbox\"}], \"scatterpolar\": [{\"marker\": {\"colorbar\": {\"outlinewidth\": 0, \"ticks\": \"\"}}, \"type\": \"scatterpolar\"}], \"scatterpolargl\": [{\"marker\": {\"colorbar\": {\"outlinewidth\": 0, \"ticks\": \"\"}}, \"type\": \"scatterpolargl\"}], \"scatterternary\": [{\"marker\": {\"colorbar\": {\"outlinewidth\": 0, \"ticks\": \"\"}}, \"type\": \"scatterternary\"}], \"surface\": [{\"colorbar\": {\"outlinewidth\": 0, \"ticks\": \"\"}, \"colorscale\": [[0.0, \"#0d0887\"], [0.1111111111111111, \"#46039f\"], [0.2222222222222222, \"#7201a8\"], [0.3333333333333333, \"#9c179e\"], [0.4444444444444444, \"#bd3786\"], [0.5555555555555556, \"#d8576b\"], [0.6666666666666666, \"#ed7953\"], [0.7777777777777778, \"#fb9f3a\"], [0.8888888888888888, \"#fdca26\"], [1.0, \"#f0f921\"]], \"type\": \"surface\"}], \"table\": [{\"cells\": {\"fill\": {\"color\": \"#EBF0F8\"}, \"line\": {\"color\": \"white\"}}, \"header\": {\"fill\": {\"color\": \"#C8D4E3\"}, \"line\": {\"color\": \"white\"}}, \"type\": \"table\"}]}, \"layout\": {\"annotationdefaults\": {\"arrowcolor\": \"#2a3f5f\", \"arrowhead\": 0, \"arrowwidth\": 1}, \"coloraxis\": {\"colorbar\": {\"outlinewidth\": 0, \"ticks\": \"\"}}, \"colorscale\": {\"diverging\": [[0, \"#8e0152\"], [0.1, \"#c51b7d\"], [0.2, \"#de77ae\"], [0.3, \"#f1b6da\"], [0.4, \"#fde0ef\"], [0.5, \"#f7f7f7\"], [0.6, \"#e6f5d0\"], [0.7, \"#b8e186\"], [0.8, \"#7fbc41\"], [0.9, \"#4d9221\"], [1, \"#276419\"]], \"sequential\": [[0.0, \"#0d0887\"], [0.1111111111111111, \"#46039f\"], [0.2222222222222222, \"#7201a8\"], [0.3333333333333333, \"#9c179e\"], [0.4444444444444444, \"#bd3786\"], [0.5555555555555556, \"#d8576b\"], [0.6666666666666666, \"#ed7953\"], [0.7777777777777778, \"#fb9f3a\"], [0.8888888888888888, \"#fdca26\"], [1.0, \"#f0f921\"]], \"sequentialminus\": [[0.0, \"#0d0887\"], [0.1111111111111111, \"#46039f\"], [0.2222222222222222, \"#7201a8\"], [0.3333333333333333, \"#9c179e\"], [0.4444444444444444, \"#bd3786\"], [0.5555555555555556, \"#d8576b\"], [0.6666666666666666, \"#ed7953\"], [0.7777777777777778, \"#fb9f3a\"], [0.8888888888888888, \"#fdca26\"], [1.0, \"#f0f921\"]]}, \"colorway\": [\"#636efa\", \"#EF553B\", \"#00cc96\", \"#ab63fa\", \"#FFA15A\", \"#19d3f3\", \"#FF6692\", \"#B6E880\", \"#FF97FF\", \"#FECB52\"], \"font\": {\"color\": \"#2a3f5f\"}, \"geo\": {\"bgcolor\": \"white\", \"lakecolor\": \"white\", \"landcolor\": \"#E5ECF6\", \"showlakes\": true, \"showland\": true, \"subunitcolor\": \"white\"}, \"hoverlabel\": {\"align\": \"left\"}, \"hovermode\": \"closest\", \"mapbox\": {\"style\": \"light\"}, \"paper_bgcolor\": \"white\", \"plot_bgcolor\": \"#E5ECF6\", \"polar\": {\"angularaxis\": {\"gridcolor\": \"white\", \"linecolor\": \"white\", \"ticks\": \"\"}, \"bgcolor\": \"#E5ECF6\", \"radialaxis\": {\"gridcolor\": \"white\", \"linecolor\": \"white\", \"ticks\": \"\"}}, \"scene\": {\"xaxis\": {\"backgroundcolor\": \"#E5ECF6\", \"gridcolor\": \"white\", \"gridwidth\": 2, \"linecolor\": \"white\", \"showbackground\": true, \"ticks\": \"\", \"zerolinecolor\": \"white\"}, \"yaxis\": {\"backgroundcolor\": \"#E5ECF6\", \"gridcolor\": \"white\", \"gridwidth\": 2, \"linecolor\": \"white\", \"showbackground\": true, \"ticks\": \"\", \"zerolinecolor\": \"white\"}, \"zaxis\": {\"backgroundcolor\": \"#E5ECF6\", \"gridcolor\": \"white\", \"gridwidth\": 2, \"linecolor\": \"white\", \"showbackground\": true, \"ticks\": \"\", \"zerolinecolor\": \"white\"}}, \"shapedefaults\": {\"line\": {\"color\": \"#2a3f5f\"}}, \"ternary\": {\"aaxis\": {\"gridcolor\": \"white\", \"linecolor\": \"white\", \"ticks\": \"\"}, \"baxis\": {\"gridcolor\": \"white\", \"linecolor\": \"white\", \"ticks\": \"\"}, \"bgcolor\": \"#E5ECF6\", \"caxis\": {\"gridcolor\": \"white\", \"linecolor\": \"white\", \"ticks\": \"\"}}, \"title\": {\"x\": 0.05}, \"xaxis\": {\"automargin\": true, \"gridcolor\": \"white\", \"linecolor\": \"white\", \"ticks\": \"\", \"title\": {\"standoff\": 15}, \"zerolinecolor\": \"white\", \"zerolinewidth\": 2}, \"yaxis\": {\"automargin\": true, \"gridcolor\": \"white\", \"linecolor\": \"white\", \"ticks\": \"\", \"title\": {\"standoff\": 15}, \"zerolinecolor\": \"white\", \"zerolinewidth\": 2}}}, \"xaxis\": {\"gridcolor\": \"#e5e5e5\", \"linecolor\": \"#e5e5e5\", \"tickfont\": {\"color\": \"#000000\", \"size\": 12}, \"tickformat\": \"%d/%m\", \"title\": {\"text\": \"\"}, \"type\": \"date\", \"zerolinecolor\": \"#e5e5e5\"}, \"yaxis\": {\"gridcolor\": \"#e5e5e5\", \"tickfont\": {\"color\": \"#000000\", \"size\": 12}, \"tickformat\": \"n\", \"title\": {\"text\": \"Casos Confirmados\"}, \"type\": \"linear\", \"zerolinecolor\": \"#e5e5e5\"}},\n",
       "                        {\"responsive\": true}\n",
       "                    ).then(function(){\n",
       "                            \n",
       "var gd = document.getElementById('9f735b21-b2e3-4a47-adec-9c5b81ba714c');\n",
       "var x = new MutationObserver(function (mutations, observer) {{\n",
       "        var display = window.getComputedStyle(gd).display;\n",
       "        if (!display || display === 'none') {{\n",
       "            console.log([gd, 'removed!']);\n",
       "            Plotly.purge(gd);\n",
       "            observer.disconnect();\n",
       "        }}\n",
       "}});\n",
       "\n",
       "// Listen for the removal of the full notebook cells\n",
       "var notebookContainer = gd.closest('#notebook-container');\n",
       "if (notebookContainer) {{\n",
       "    x.observe(notebookContainer, {childList: true});\n",
       "}}\n",
       "\n",
       "// Listen for the clearing of the current output cell\n",
       "var outputEl = gd.closest('.output');\n",
       "if (outputEl) {{\n",
       "    x.observe(outputEl, {childList: true});\n",
       "}}\n",
       "\n",
       "                        })\n",
       "                };\n",
       "                });\n",
       "            </script>\n",
       "        </div>"
      ]
     },
     "metadata": {},
     "output_type": "display_data"
    }
   ],
   "source": [
    "fig"
   ]
  },
  {
   "cell_type": "code",
   "execution_count": null,
   "metadata": {},
   "outputs": [],
   "source": []
  },
  {
   "cell_type": "code",
   "execution_count": null,
   "metadata": {},
   "outputs": [],
   "source": []
  },
  {
   "cell_type": "code",
   "execution_count": null,
   "metadata": {},
   "outputs": [],
   "source": []
  },
  {
   "cell_type": "code",
   "execution_count": null,
   "metadata": {},
   "outputs": [],
   "source": []
  },
  {
   "cell_type": "code",
   "execution_count": null,
   "metadata": {},
   "outputs": [],
   "source": []
  },
  {
   "cell_type": "code",
   "execution_count": null,
   "metadata": {},
   "outputs": [],
   "source": []
  },
  {
   "cell_type": "code",
   "execution_count": null,
   "metadata": {},
   "outputs": [],
   "source": []
  },
  {
   "cell_type": "markdown",
   "metadata": {},
   "source": [
    "## MAPS"
   ]
  },
  {
   "cell_type": "code",
   "execution_count": 36,
   "metadata": {},
   "outputs": [],
   "source": [
    "def _generate_and_upload_br_map(final, estados, map_config):\n",
    "    #generate map\n",
    "    cols = ['Município','Estado','Confirmados', 'Óbitos', 'Data do Boletim']\n",
    "    \n",
    "    print('Generate and save br map..')\n",
    "    mymap =  vis_maps.get_map(final,'Confirmados', cols, estados)\n",
    "    mymap.save(f'{map_config[\"path_save\"]}{map_config[\"save_name\"]}')\n",
    "\n",
    "    print('Upload br map..')\n",
    "    io.to_storage(bucket=map_config['bucket'],\n",
    "              bucket_folder=map_config['bucket_folder'],\n",
    "              file_name=map_config['save_name'],\n",
    "              path_to_file=f'{map_config[\"path_save\"]}{map_config[\"save_name\"]}')\n",
    "    \n",
    "    os.remove(f'{map_config[\"path_save\"]}{map_config[\"save_name\"]}')"
   ]
  },
  {
   "cell_type": "code",
   "execution_count": 37,
   "metadata": {},
   "outputs": [
    {
     "name": "stdout",
     "output_type": "stream",
     "text": [
      "Start Br Map\n"
     ]
    }
   ],
   "source": [
    "print('Start Br Map')\n",
    "#minicipales data\n",
    "municipios = pd.read_csv('../data/br_municipios_ibge.csv', dtype={'geocodigo':str})\n",
    "df = brio.copy()\n",
    "\n",
    "#load shape files;\n",
    "ufs = gpd.read_file('../../mapas_brasil/estados-ibge/BRUFE250GC_SIR.shp')\n",
    "maps = gpd.read_file('../../mapas_brasil/municipios-ibge/brasil-municipios.shp')"
   ]
  },
  {
   "cell_type": "code",
   "execution_count": 38,
   "metadata": {},
   "outputs": [],
   "source": [
    "from scripts import manipulation\n",
    "from scripts import vis_maps\n",
    "\n",
    "config = yaml.load(open('../configs/config.yaml', 'r'), Loader=yaml.FullLoader)\n",
    "\n",
    "#prepare data for map\n",
    "final, estados = manipulation.manipulate_for_br_maps(brio, municipios, maps, df_states.drop(['regiao'],1), ufs)\n",
    "\n",
    "# _generate_and_upload_br_map(final, estados, config['br_map'])"
   ]
  },
  {
   "cell_type": "code",
   "execution_count": null,
   "metadata": {},
   "outputs": [],
   "source": []
  },
  {
   "cell_type": "code",
   "execution_count": null,
   "metadata": {},
   "outputs": [],
   "source": []
  },
  {
   "cell_type": "markdown",
   "metadata": {},
   "source": [
    "## Vale"
   ]
  },
  {
   "cell_type": "code",
   "execution_count": 39,
   "metadata": {},
   "outputs": [],
   "source": [
    "def _generate_and_upload_vale_map(vale, estados, map_config):\n",
    "    #generate map\n",
    "    cols = list(config['vale_map']['col_rename'].values())\n",
    "    cols.remove('Fonte')\n",
    "    \n",
    "    print('Generate and save vale map..')\n",
    "    mymap =  vis_maps.get_map_vale(vale,'Confirmados', cols, estados)\n",
    "    mymap.save(f'{map_config[\"path_save\"]}{map_config[\"save_name\"]}')\n",
    "\n",
    "    print('Map Done!')\n",
    "#     io.to_storage(bucket=map_config['bucket'],\n",
    "#               bucket_folder=map_config['bucket_folder'],\n",
    "#               file_name=map_config['save_name'],\n",
    "#               path_to_file=f'{map_config[\"path_save\"]}{map_config[\"save_name\"]}')\n",
    "    \n",
    "#     os.remove(f'{map_config[\"path_save\"]}{map_config[\"save_name\"]}')\n",
    "#     return(mymap)"
   ]
  },
  {
   "cell_type": "code",
   "execution_count": 40,
   "metadata": {},
   "outputs": [],
   "source": [
    "\n",
    "from scripts.io import read_sheets\n",
    "from scripts import manipulation\n",
    "#download and manipulate vale data\n",
    "df = read_sheets('covid19_vale_do_paraiba_e_litoral_norte')\n",
    "df = manipulation.manipulate_vale_data(df)\n",
    "\n",
    "#load shape files\n",
    "municipios_sp = gpd.read_file('../../brasil_geodata/maps/sp_municipios.json')\n",
    "ufs = gpd.read_file('../../mapas_brasil/estados-ibge/BRUFE250GC_SIR.shp')\n"
   ]
  },
  {
   "cell_type": "code",
   "execution_count": 41,
   "metadata": {},
   "outputs": [
    {
     "name": "stdout",
     "output_type": "stream",
     "text": [
      "Generate and save vale map..\n",
      "Map Done!\n"
     ]
    }
   ],
   "source": [
    "## Manipulate data for generate map\n",
    "config = yaml.load(open('../configs/config.yaml', 'r'), Loader=yaml.FullLoader)\n",
    "\n",
    "vale, estados = manipulation.manipulate_for_vale_maps(df, municipios_sp, estados,config['vale_map'])\n",
    "\n",
    "_generate_and_upload_vale_map(vale, estados, config['vale_map'])\n"
   ]
  },
  {
   "cell_type": "code",
   "execution_count": null,
   "metadata": {},
   "outputs": [],
   "source": []
  },
  {
   "cell_type": "code",
   "execution_count": null,
   "metadata": {},
   "outputs": [],
   "source": []
  },
  {
   "cell_type": "code",
   "execution_count": null,
   "metadata": {},
   "outputs": [],
   "source": []
  },
  {
   "cell_type": "code",
   "execution_count": 42,
   "metadata": {},
   "outputs": [],
   "source": [
    "#https://pypi.org/project/ftpretty/\n",
    "from ftpretty import ftpretty\n",
    "import ftplib\n",
    "import yaml\n",
    "import os\n",
    "credentials = yaml.load(open('../../credentials/ftp_credentials.yaml', 'r'), Loader=yaml.FullLoader)\n"
   ]
  },
  {
   "cell_type": "code",
   "execution_count": 43,
   "metadata": {},
   "outputs": [],
   "source": [
    "host = credentials['ftp']['host']\n",
    "user = credentials['ftp']['user']\n",
    "pw   = credentials['ftp']['pw']\n",
    "\n",
    "f = ftpretty(host, user, pw)"
   ]
  },
  {
   "cell_type": "markdown",
   "metadata": {},
   "source": [
    "### Upload sv site"
   ]
  },
  {
   "cell_type": "code",
   "execution_count": 44,
   "metadata": {},
   "outputs": [
    {
     "name": "stdout",
     "output_type": "stream",
     "text": [
      "CPU times: user 18 ms, sys: 63.2 ms, total: 81.2 ms\n",
      "Wall time: 41.6 s\n"
     ]
    },
    {
     "data": {
      "text/plain": [
       "'public_html/coronavirus'"
      ]
     },
     "execution_count": 44,
     "metadata": {},
     "output_type": "execute_result"
    }
   ],
   "source": [
    "%%time\n",
    "local_folder  = '../site/sv_br_vale/coronavirus'\n",
    "remote_folder = 'public_html/coronavirus'\n",
    "\n",
    "f.upload_tree(local_folder, remote_folder)"
   ]
  },
  {
   "cell_type": "code",
   "execution_count": null,
   "metadata": {},
   "outputs": [],
   "source": []
  },
  {
   "cell_type": "code",
   "execution_count": null,
   "metadata": {},
   "outputs": [],
   "source": []
  },
  {
   "cell_type": "code",
   "execution_count": null,
   "metadata": {},
   "outputs": [],
   "source": []
  },
  {
   "cell_type": "code",
   "execution_count": null,
   "metadata": {},
   "outputs": [],
   "source": []
  },
  {
   "cell_type": "code",
   "execution_count": null,
   "metadata": {},
   "outputs": [],
   "source": []
  },
  {
   "cell_type": "code",
   "execution_count": null,
   "metadata": {},
   "outputs": [],
   "source": []
  },
  {
   "cell_type": "code",
   "execution_count": null,
   "metadata": {},
   "outputs": [],
   "source": []
  },
  {
   "cell_type": "code",
   "execution_count": null,
   "metadata": {},
   "outputs": [],
   "source": []
  },
  {
   "cell_type": "code",
   "execution_count": null,
   "metadata": {},
   "outputs": [],
   "source": []
  },
  {
   "cell_type": "code",
   "execution_count": null,
   "metadata": {},
   "outputs": [],
   "source": []
  },
  {
   "cell_type": "code",
   "execution_count": null,
   "metadata": {},
   "outputs": [],
   "source": []
  },
  {
   "cell_type": "code",
   "execution_count": null,
   "metadata": {},
   "outputs": [],
   "source": []
  },
  {
   "cell_type": "code",
   "execution_count": null,
   "metadata": {},
   "outputs": [],
   "source": []
  },
  {
   "cell_type": "code",
   "execution_count": null,
   "metadata": {},
   "outputs": [],
   "source": []
  },
  {
   "cell_type": "code",
   "execution_count": null,
   "metadata": {},
   "outputs": [],
   "source": []
  },
  {
   "cell_type": "code",
   "execution_count": null,
   "metadata": {},
   "outputs": [],
   "source": []
  },
  {
   "cell_type": "code",
   "execution_count": null,
   "metadata": {},
   "outputs": [],
   "source": []
  },
  {
   "cell_type": "code",
   "execution_count": null,
   "metadata": {},
   "outputs": [],
   "source": []
  },
  {
   "cell_type": "code",
   "execution_count": null,
   "metadata": {},
   "outputs": [],
   "source": []
  },
  {
   "cell_type": "code",
   "execution_count": null,
   "metadata": {},
   "outputs": [],
   "source": []
  },
  {
   "cell_type": "code",
   "execution_count": null,
   "metadata": {},
   "outputs": [],
   "source": []
  },
  {
   "cell_type": "code",
   "execution_count": null,
   "metadata": {},
   "outputs": [],
   "source": []
  },
  {
   "cell_type": "code",
   "execution_count": null,
   "metadata": {},
   "outputs": [],
   "source": []
  },
  {
   "cell_type": "code",
   "execution_count": null,
   "metadata": {},
   "outputs": [],
   "source": []
  },
  {
   "cell_type": "code",
   "execution_count": null,
   "metadata": {},
   "outputs": [],
   "source": []
  },
  {
   "cell_type": "code",
   "execution_count": null,
   "metadata": {},
   "outputs": [],
   "source": []
  },
  {
   "cell_type": "code",
   "execution_count": null,
   "metadata": {},
   "outputs": [],
   "source": []
  },
  {
   "cell_type": "code",
   "execution_count": null,
   "metadata": {},
   "outputs": [],
   "source": []
  },
  {
   "cell_type": "code",
   "execution_count": null,
   "metadata": {},
   "outputs": [],
   "source": []
  },
  {
   "cell_type": "code",
   "execution_count": null,
   "metadata": {},
   "outputs": [],
   "source": []
  },
  {
   "cell_type": "code",
   "execution_count": null,
   "metadata": {},
   "outputs": [],
   "source": []
  },
  {
   "cell_type": "code",
   "execution_count": null,
   "metadata": {},
   "outputs": [],
   "source": []
  },
  {
   "cell_type": "markdown",
   "metadata": {},
   "source": [
    "# Corona SP"
   ]
  },
  {
   "cell_type": "code",
   "execution_count": 24,
   "metadata": {},
   "outputs": [],
   "source": [
    "df = pd.read_csv('https://raw.githubusercontent.com/seade-R/dados-covid-sp/master/data/dados_covid_sp.csv', sep=';')"
   ]
  },
  {
   "cell_type": "code",
   "execution_count": 8,
   "metadata": {},
   "outputs": [],
   "source": [
    "df['date'] = '2020-' + df['mes'].astype(str) + '-' + df['dia'].astype(str)\n",
    "\n",
    "df['date'] = pd.to_datetime(df['date'])"
   ]
  },
  {
   "cell_type": "code",
   "execution_count": 20,
   "metadata": {},
   "outputs": [],
   "source": [
    "df = df.sort_values(by=['munic','date'],ascending=True).drop(['dia','mes'],1)"
   ]
  },
  {
   "cell_type": "code",
   "execution_count": 25,
   "metadata": {},
   "outputs": [],
   "source": [
    "mask = df['munic']=='taubate'\n",
    "# df[mask]\n"
   ]
  },
  {
   "cell_type": "code",
   "execution_count": null,
   "metadata": {},
   "outputs": [],
   "source": []
  },
  {
   "cell_type": "code",
   "execution_count": null,
   "metadata": {},
   "outputs": [],
   "source": []
  },
  {
   "cell_type": "code",
   "execution_count": null,
   "metadata": {},
   "outputs": [],
   "source": []
  },
  {
   "cell_type": "code",
   "execution_count": null,
   "metadata": {},
   "outputs": [],
   "source": []
  },
  {
   "cell_type": "code",
   "execution_count": null,
   "metadata": {},
   "outputs": [],
   "source": []
  },
  {
   "cell_type": "code",
   "execution_count": null,
   "metadata": {},
   "outputs": [],
   "source": []
  }
 ],
 "metadata": {
  "kernelspec": {
   "display_name": "Python 3",
   "language": "python",
   "name": "python3"
  },
  "language_info": {
   "codemirror_mode": {
    "name": "ipython",
    "version": 3
   },
   "file_extension": ".py",
   "mimetype": "text/x-python",
   "name": "python",
   "nbconvert_exporter": "python",
   "pygments_lexer": "ipython3",
   "version": "3.7.6"
  }
 },
 "nbformat": 4,
 "nbformat_minor": 4
}
