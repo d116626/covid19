{
 "cells": [
  {
   "cell_type": "code",
   "execution_count": 3,
   "metadata": {},
   "outputs": [],
   "source": [
    "%reload_ext autoreload\n",
    "%autoreload 2\n",
    "\n",
    "import warnings\n",
    "warnings.filterwarnings('ignore')\n",
    "\n",
    "import numpy as np\n",
    "import pandas as pd\n",
    "pd.options.display.max_columns = 999\n",
    "pd.options.display.max_rows = 999\n",
    "\n",
    "pd.options.display.max_colwidth = 100\n",
    "\n",
    "import plotly.graph_objs as go\n",
    "from plotly.offline import download_plotlyjs, init_notebook_mode, plot, iplot, offline\n",
    "import plotly.express as px\n",
    "import seaborn as sns\n",
    "import matplotlib.pyplot as plt\n",
    "\n",
    "import requests\n",
    "\n",
    "from os import listdir\n",
    "import unicodedata\n",
    "\n",
    "import json\n",
    "\n",
    "from paths import *\n",
    "from tools.vizu import remove_acentos\n",
    "from tools.vizu import normalize_cols\n",
    "from tools.io import read_sheets\n",
    "\n",
    "\n",
    "from datetime import datetime\n",
    "today = datetime.today().strftime('%Y-%m-%d')\n"
   ]
  },
  {
   "cell_type": "markdown",
   "metadata": {},
   "source": [
    "# Brasil.IO"
   ]
  },
  {
   "cell_type": "code",
   "execution_count": 4,
   "metadata": {
    "scrolled": true
   },
   "outputs": [
    {
     "name": "stdout",
     "output_type": "stream",
     "text": [
      "https://brasil.io/api/dataset/covid19/caso/data?format=json\n",
      "https://brasil.io/api/dataset/covid19/caso/data?format=json&page=2\n",
      "https://brasil.io/api/dataset/covid19/caso/data?format=json&page=3\n"
     ]
    }
   ],
   "source": [
    "####### IMPORT DATA ######\n",
    "url = 'https://brasil.io/api/dataset/covid19/caso/data?format=json'\n",
    "df_final = pd.DataFrame()\n",
    "\n",
    "while url != None:\n",
    "    \n",
    "    print(url)\n",
    "    response = requests.get(url)\n",
    "    data = response.text\n",
    "    parsed = json.loads(data)\n",
    "    url = parsed['next']\n",
    "    df = pd.DataFrame(parsed['results']).sort_values(by='confirmed',ascending=False)\n",
    "    df_final = pd.concat([df_final,df], axis=0)"
   ]
  },
  {
   "cell_type": "code",
   "execution_count": 6,
   "metadata": {},
   "outputs": [
    {
     "data": {
      "text/html": [
       "<div>\n",
       "<style scoped>\n",
       "    .dataframe tbody tr th:only-of-type {\n",
       "        vertical-align: middle;\n",
       "    }\n",
       "\n",
       "    .dataframe tbody tr th {\n",
       "        vertical-align: top;\n",
       "    }\n",
       "\n",
       "    .dataframe thead th {\n",
       "        text-align: right;\n",
       "    }\n",
       "</style>\n",
       "<table border=\"1\" class=\"dataframe\">\n",
       "  <thead>\n",
       "    <tr style=\"text-align: right;\">\n",
       "      <th></th>\n",
       "      <th>city</th>\n",
       "      <th>city_ibge_code</th>\n",
       "      <th>confirmed</th>\n",
       "      <th>confirmed_per_100k_inhabitants</th>\n",
       "      <th>date</th>\n",
       "      <th>death_rate</th>\n",
       "      <th>deaths</th>\n",
       "      <th>estimated_population_2019</th>\n",
       "      <th>is_last</th>\n",
       "      <th>order_for_place</th>\n",
       "      <th>place_type</th>\n",
       "      <th>state</th>\n",
       "    </tr>\n",
       "  </thead>\n",
       "  <tbody>\n",
       "    <tr>\n",
       "      <th>348</th>\n",
       "      <td>None</td>\n",
       "      <td>35</td>\n",
       "      <td>1406</td>\n",
       "      <td>3.06191</td>\n",
       "      <td>2020-03-28</td>\n",
       "      <td>0.0597</td>\n",
       "      <td>84.0</td>\n",
       "      <td>45919049.0</td>\n",
       "      <td>True</td>\n",
       "      <td>30</td>\n",
       "      <td>state</td>\n",
       "      <td>SP</td>\n",
       "    </tr>\n",
       "    <tr>\n",
       "      <th>659</th>\n",
       "      <td>None</td>\n",
       "      <td>35</td>\n",
       "      <td>1223</td>\n",
       "      <td>2.66338</td>\n",
       "      <td>2020-03-27</td>\n",
       "      <td>0.0556</td>\n",
       "      <td>68.0</td>\n",
       "      <td>45919049.0</td>\n",
       "      <td>False</td>\n",
       "      <td>29</td>\n",
       "      <td>state</td>\n",
       "      <td>SP</td>\n",
       "    </tr>\n",
       "    <tr>\n",
       "      <th>936</th>\n",
       "      <td>None</td>\n",
       "      <td>35</td>\n",
       "      <td>1052</td>\n",
       "      <td>2.29099</td>\n",
       "      <td>2020-03-26</td>\n",
       "      <td>0.0551</td>\n",
       "      <td>58.0</td>\n",
       "      <td>45919049.0</td>\n",
       "      <td>False</td>\n",
       "      <td>28</td>\n",
       "      <td>state</td>\n",
       "      <td>SP</td>\n",
       "    </tr>\n",
       "    <tr>\n",
       "      <th>650</th>\n",
       "      <td>São Paulo</td>\n",
       "      <td>3550308</td>\n",
       "      <td>1044</td>\n",
       "      <td>8.52104</td>\n",
       "      <td>2020-03-27</td>\n",
       "      <td>0.0594</td>\n",
       "      <td>62.0</td>\n",
       "      <td>12252023.0</td>\n",
       "      <td>True</td>\n",
       "      <td>25</td>\n",
       "      <td>city</td>\n",
       "      <td>SP</td>\n",
       "    </tr>\n",
       "    <tr>\n",
       "      <th>928</th>\n",
       "      <td>São Paulo</td>\n",
       "      <td>3550308</td>\n",
       "      <td>899</td>\n",
       "      <td>7.33756</td>\n",
       "      <td>2020-03-26</td>\n",
       "      <td>0.0590</td>\n",
       "      <td>53.0</td>\n",
       "      <td>12252023.0</td>\n",
       "      <td>False</td>\n",
       "      <td>24</td>\n",
       "      <td>city</td>\n",
       "      <td>SP</td>\n",
       "    </tr>\n",
       "    <tr>\n",
       "      <th>248</th>\n",
       "      <td>None</td>\n",
       "      <td>33</td>\n",
       "      <td>558</td>\n",
       "      <td>3.23198</td>\n",
       "      <td>2020-03-28</td>\n",
       "      <td>0.0233</td>\n",
       "      <td>13.0</td>\n",
       "      <td>17264943.0</td>\n",
       "      <td>True</td>\n",
       "      <td>16</td>\n",
       "      <td>state</td>\n",
       "      <td>RJ</td>\n",
       "    </tr>\n",
       "    <tr>\n",
       "      <th>522</th>\n",
       "      <td>None</td>\n",
       "      <td>33</td>\n",
       "      <td>493</td>\n",
       "      <td>2.85550</td>\n",
       "      <td>2020-03-27</td>\n",
       "      <td>0.0203</td>\n",
       "      <td>10.0</td>\n",
       "      <td>17264943.0</td>\n",
       "      <td>False</td>\n",
       "      <td>15</td>\n",
       "      <td>state</td>\n",
       "      <td>RJ</td>\n",
       "    </tr>\n",
       "    <tr>\n",
       "      <th>244</th>\n",
       "      <td>Rio de Janeiro</td>\n",
       "      <td>3304557</td>\n",
       "      <td>489</td>\n",
       "      <td>7.27797</td>\n",
       "      <td>2020-03-28</td>\n",
       "      <td>0.0184</td>\n",
       "      <td>9.0</td>\n",
       "      <td>6718903.0</td>\n",
       "      <td>True</td>\n",
       "      <td>15</td>\n",
       "      <td>city</td>\n",
       "      <td>RJ</td>\n",
       "    </tr>\n",
       "    <tr>\n",
       "      <th>518</th>\n",
       "      <td>Rio de Janeiro</td>\n",
       "      <td>3304557</td>\n",
       "      <td>431</td>\n",
       "      <td>6.41474</td>\n",
       "      <td>2020-03-27</td>\n",
       "      <td>0.0139</td>\n",
       "      <td>6.0</td>\n",
       "      <td>6718903.0</td>\n",
       "      <td>False</td>\n",
       "      <td>14</td>\n",
       "      <td>city</td>\n",
       "      <td>RJ</td>\n",
       "    </tr>\n",
       "    <tr>\n",
       "      <th>811</th>\n",
       "      <td>None</td>\n",
       "      <td>33</td>\n",
       "      <td>421</td>\n",
       "      <td>2.43847</td>\n",
       "      <td>2020-03-26</td>\n",
       "      <td>0.0214</td>\n",
       "      <td>9.0</td>\n",
       "      <td>17264943.0</td>\n",
       "      <td>False</td>\n",
       "      <td>14</td>\n",
       "      <td>state</td>\n",
       "      <td>RJ</td>\n",
       "    </tr>\n",
       "  </tbody>\n",
       "</table>\n",
       "</div>"
      ],
      "text/plain": [
       "               city city_ibge_code  confirmed  confirmed_per_100k_inhabitants  \\\n",
       "348            None             35       1406                         3.06191   \n",
       "659            None             35       1223                         2.66338   \n",
       "936            None             35       1052                         2.29099   \n",
       "650       São Paulo        3550308       1044                         8.52104   \n",
       "928       São Paulo        3550308        899                         7.33756   \n",
       "248            None             33        558                         3.23198   \n",
       "522            None             33        493                         2.85550   \n",
       "244  Rio de Janeiro        3304557        489                         7.27797   \n",
       "518  Rio de Janeiro        3304557        431                         6.41474   \n",
       "811            None             33        421                         2.43847   \n",
       "\n",
       "           date  death_rate  deaths  estimated_population_2019  is_last  \\\n",
       "348  2020-03-28      0.0597    84.0                 45919049.0     True   \n",
       "659  2020-03-27      0.0556    68.0                 45919049.0    False   \n",
       "936  2020-03-26      0.0551    58.0                 45919049.0    False   \n",
       "650  2020-03-27      0.0594    62.0                 12252023.0     True   \n",
       "928  2020-03-26      0.0590    53.0                 12252023.0    False   \n",
       "248  2020-03-28      0.0233    13.0                 17264943.0     True   \n",
       "522  2020-03-27      0.0203    10.0                 17264943.0    False   \n",
       "244  2020-03-28      0.0184     9.0                  6718903.0     True   \n",
       "518  2020-03-27      0.0139     6.0                  6718903.0    False   \n",
       "811  2020-03-26      0.0214     9.0                 17264943.0    False   \n",
       "\n",
       "     order_for_place place_type state  \n",
       "348               30      state    SP  \n",
       "659               29      state    SP  \n",
       "936               28      state    SP  \n",
       "650               25       city    SP  \n",
       "928               24       city    SP  \n",
       "248               16      state    RJ  \n",
       "522               15      state    RJ  \n",
       "244               15       city    RJ  \n",
       "518               14       city    RJ  \n",
       "811               14      state    RJ  "
      ]
     },
     "execution_count": 6,
     "metadata": {},
     "output_type": "execute_result"
    }
   ],
   "source": [
    "df_final.head(10)"
   ]
  },
  {
   "cell_type": "code",
   "execution_count": null,
   "metadata": {},
   "outputs": [],
   "source": []
  },
  {
   "cell_type": "code",
   "execution_count": null,
   "metadata": {},
   "outputs": [],
   "source": []
  },
  {
   "cell_type": "code",
   "execution_count": null,
   "metadata": {},
   "outputs": [],
   "source": []
  },
  {
   "cell_type": "code",
   "execution_count": null,
   "metadata": {},
   "outputs": [],
   "source": []
  },
  {
   "cell_type": "markdown",
   "metadata": {},
   "source": [
    "## transformation"
   ]
  },
  {
   "cell_type": "code",
   "execution_count": 14,
   "metadata": {},
   "outputs": [],
   "source": [
    "from tools.manipulation import create_br_not_sp\n",
    "\n",
    "df = df_final.sort_values(by='confirmed',ascending=False)\n",
    "dd = create_br_not_sp(df)\n",
    "\n",
    "### GET ONLY LAST DAY\n",
    "mask = dd['date'] < today\n",
    "dd = dd[mask]\n",
    "\n",
    "dd = dd.sort_values(by=['date'],ascending=False)\n",
    "dd = dd.sort_values(by=['confirmed'],ascending=False)\n",
    "\n",
    "# get only the states\n",
    "mask = ((dd['place_type']!='city'))\n",
    "df_states = dd[mask]\n",
    "df_states = df_states.sort_values(by=['date'],ascending=False)"
   ]
  },
  {
   "cell_type": "code",
   "execution_count": null,
   "metadata": {},
   "outputs": [],
   "source": []
  },
  {
   "cell_type": "markdown",
   "metadata": {},
   "source": [
    "# Import Data"
   ]
  },
  {
   "cell_type": "code",
   "execution_count": 27,
   "metadata": {},
   "outputs": [],
   "source": [
    "df = pd.read_csv('https://raw.githubusercontent.com/wcota/covid19br/master/cases-brazil-states.csv')\n",
    "df['state'] = df['state'].str.replace('TOTAL','BRASIL')\n",
    "df.to_csv('brasil_states.csv', index=False)\n",
    "dd = df.copy()"
   ]
  },
  {
   "cell_type": "code",
   "execution_count": 28,
   "metadata": {},
   "outputs": [],
   "source": [
    "dd = dd.drop(['country','deaths'],1)"
   ]
  },
  {
   "cell_type": "code",
   "execution_count": 29,
   "metadata": {},
   "outputs": [
    {
     "data": {
      "text/html": [
       "<div>\n",
       "<style scoped>\n",
       "    .dataframe tbody tr th:only-of-type {\n",
       "        vertical-align: middle;\n",
       "    }\n",
       "\n",
       "    .dataframe tbody tr th {\n",
       "        vertical-align: top;\n",
       "    }\n",
       "\n",
       "    .dataframe thead th {\n",
       "        text-align: right;\n",
       "    }\n",
       "</style>\n",
       "<table border=\"1\" class=\"dataframe\">\n",
       "  <thead>\n",
       "    <tr style=\"text-align: right;\">\n",
       "      <th></th>\n",
       "      <th>date</th>\n",
       "      <th>state</th>\n",
       "      <th>city</th>\n",
       "      <th>newCases</th>\n",
       "      <th>totalCases</th>\n",
       "    </tr>\n",
       "  </thead>\n",
       "  <tbody>\n",
       "    <tr>\n",
       "      <th>451</th>\n",
       "      <td>2020-03-28</td>\n",
       "      <td>RR</td>\n",
       "      <td>TOTAL</td>\n",
       "      <td>0</td>\n",
       "      <td>12</td>\n",
       "    </tr>\n",
       "    <tr>\n",
       "      <th>452</th>\n",
       "      <td>2020-03-28</td>\n",
       "      <td>BRASIL</td>\n",
       "      <td>TOTAL</td>\n",
       "      <td>462</td>\n",
       "      <td>3935</td>\n",
       "    </tr>\n",
       "    <tr>\n",
       "      <th>453</th>\n",
       "      <td>2020-03-29</td>\n",
       "      <td>DF</td>\n",
       "      <td>TOTAL</td>\n",
       "      <td>29</td>\n",
       "      <td>289</td>\n",
       "    </tr>\n",
       "    <tr>\n",
       "      <th>454</th>\n",
       "      <td>2020-03-29</td>\n",
       "      <td>MG</td>\n",
       "      <td>TOTAL</td>\n",
       "      <td>26</td>\n",
       "      <td>231</td>\n",
       "    </tr>\n",
       "    <tr>\n",
       "      <th>455</th>\n",
       "      <td>2020-03-29</td>\n",
       "      <td>RS</td>\n",
       "      <td>TOTAL</td>\n",
       "      <td>26</td>\n",
       "      <td>226</td>\n",
       "    </tr>\n",
       "    <tr>\n",
       "      <th>456</th>\n",
       "      <td>2020-03-29</td>\n",
       "      <td>BA</td>\n",
       "      <td>TOTAL</td>\n",
       "      <td>27</td>\n",
       "      <td>154</td>\n",
       "    </tr>\n",
       "    <tr>\n",
       "      <th>457</th>\n",
       "      <td>2020-03-29</td>\n",
       "      <td>SP</td>\n",
       "      <td>TOTAL</td>\n",
       "      <td>45</td>\n",
       "      <td>1451</td>\n",
       "    </tr>\n",
       "    <tr>\n",
       "      <th>458</th>\n",
       "      <td>2020-03-29</td>\n",
       "      <td>MT</td>\n",
       "      <td>TOTAL</td>\n",
       "      <td>3</td>\n",
       "      <td>16</td>\n",
       "    </tr>\n",
       "    <tr>\n",
       "      <th>459</th>\n",
       "      <td>2020-03-29</td>\n",
       "      <td>RN</td>\n",
       "      <td>TOTAL</td>\n",
       "      <td>23</td>\n",
       "      <td>68</td>\n",
       "    </tr>\n",
       "    <tr>\n",
       "      <th>460</th>\n",
       "      <td>2020-03-29</td>\n",
       "      <td>RJ</td>\n",
       "      <td>TOTAL</td>\n",
       "      <td>42</td>\n",
       "      <td>600</td>\n",
       "    </tr>\n",
       "    <tr>\n",
       "      <th>461</th>\n",
       "      <td>2020-03-29</td>\n",
       "      <td>AL</td>\n",
       "      <td>TOTAL</td>\n",
       "      <td>3</td>\n",
       "      <td>17</td>\n",
       "    </tr>\n",
       "    <tr>\n",
       "      <th>462</th>\n",
       "      <td>2020-03-29</td>\n",
       "      <td>PE</td>\n",
       "      <td>TOTAL</td>\n",
       "      <td>5</td>\n",
       "      <td>73</td>\n",
       "    </tr>\n",
       "    <tr>\n",
       "      <th>463</th>\n",
       "      <td>2020-03-29</td>\n",
       "      <td>PR</td>\n",
       "      <td>TOTAL</td>\n",
       "      <td>11</td>\n",
       "      <td>148</td>\n",
       "    </tr>\n",
       "    <tr>\n",
       "      <th>464</th>\n",
       "      <td>2020-03-29</td>\n",
       "      <td>SC</td>\n",
       "      <td>TOTAL</td>\n",
       "      <td>10</td>\n",
       "      <td>194</td>\n",
       "    </tr>\n",
       "    <tr>\n",
       "      <th>465</th>\n",
       "      <td>2020-03-29</td>\n",
       "      <td>GO</td>\n",
       "      <td>TOTAL</td>\n",
       "      <td>2</td>\n",
       "      <td>58</td>\n",
       "    </tr>\n",
       "    <tr>\n",
       "      <th>466</th>\n",
       "      <td>2020-03-29</td>\n",
       "      <td>AM</td>\n",
       "      <td>TOTAL</td>\n",
       "      <td>29</td>\n",
       "      <td>140</td>\n",
       "    </tr>\n",
       "    <tr>\n",
       "      <th>467</th>\n",
       "      <td>2020-03-29</td>\n",
       "      <td>MS</td>\n",
       "      <td>TOTAL</td>\n",
       "      <td>5</td>\n",
       "      <td>36</td>\n",
       "    </tr>\n",
       "    <tr>\n",
       "      <th>468</th>\n",
       "      <td>2020-03-29</td>\n",
       "      <td>CE</td>\n",
       "      <td>TOTAL</td>\n",
       "      <td>26</td>\n",
       "      <td>348</td>\n",
       "    </tr>\n",
       "    <tr>\n",
       "      <th>469</th>\n",
       "      <td>2020-03-29</td>\n",
       "      <td>AC</td>\n",
       "      <td>TOTAL</td>\n",
       "      <td>9</td>\n",
       "      <td>34</td>\n",
       "    </tr>\n",
       "    <tr>\n",
       "      <th>470</th>\n",
       "      <td>2020-03-29</td>\n",
       "      <td>PI</td>\n",
       "      <td>TOTAL</td>\n",
       "      <td>3</td>\n",
       "      <td>14</td>\n",
       "    </tr>\n",
       "    <tr>\n",
       "      <th>471</th>\n",
       "      <td>2020-03-29</td>\n",
       "      <td>RR</td>\n",
       "      <td>TOTAL</td>\n",
       "      <td>4</td>\n",
       "      <td>16</td>\n",
       "    </tr>\n",
       "    <tr>\n",
       "      <th>472</th>\n",
       "      <td>2020-03-29</td>\n",
       "      <td>ES</td>\n",
       "      <td>TOTAL</td>\n",
       "      <td>0</td>\n",
       "      <td>61</td>\n",
       "    </tr>\n",
       "    <tr>\n",
       "      <th>473</th>\n",
       "      <td>2020-03-29</td>\n",
       "      <td>SE</td>\n",
       "      <td>TOTAL</td>\n",
       "      <td>0</td>\n",
       "      <td>16</td>\n",
       "    </tr>\n",
       "    <tr>\n",
       "      <th>474</th>\n",
       "      <td>2020-03-29</td>\n",
       "      <td>TO</td>\n",
       "      <td>TOTAL</td>\n",
       "      <td>0</td>\n",
       "      <td>9</td>\n",
       "    </tr>\n",
       "    <tr>\n",
       "      <th>475</th>\n",
       "      <td>2020-03-29</td>\n",
       "      <td>PA</td>\n",
       "      <td>TOTAL</td>\n",
       "      <td>0</td>\n",
       "      <td>18</td>\n",
       "    </tr>\n",
       "    <tr>\n",
       "      <th>476</th>\n",
       "      <td>2020-03-29</td>\n",
       "      <td>PB</td>\n",
       "      <td>TOTAL</td>\n",
       "      <td>0</td>\n",
       "      <td>14</td>\n",
       "    </tr>\n",
       "    <tr>\n",
       "      <th>477</th>\n",
       "      <td>2020-03-29</td>\n",
       "      <td>RO</td>\n",
       "      <td>TOTAL</td>\n",
       "      <td>0</td>\n",
       "      <td>6</td>\n",
       "    </tr>\n",
       "    <tr>\n",
       "      <th>478</th>\n",
       "      <td>2020-03-29</td>\n",
       "      <td>AP</td>\n",
       "      <td>TOTAL</td>\n",
       "      <td>0</td>\n",
       "      <td>4</td>\n",
       "    </tr>\n",
       "    <tr>\n",
       "      <th>479</th>\n",
       "      <td>2020-03-29</td>\n",
       "      <td>MA</td>\n",
       "      <td>TOTAL</td>\n",
       "      <td>0</td>\n",
       "      <td>22</td>\n",
       "    </tr>\n",
       "    <tr>\n",
       "      <th>480</th>\n",
       "      <td>2020-03-29</td>\n",
       "      <td>BRASIL</td>\n",
       "      <td>TOTAL</td>\n",
       "      <td>328</td>\n",
       "      <td>4263</td>\n",
       "    </tr>\n",
       "  </tbody>\n",
       "</table>\n",
       "</div>"
      ],
      "text/plain": [
       "           date   state   city  newCases  totalCases\n",
       "451  2020-03-28      RR  TOTAL         0          12\n",
       "452  2020-03-28  BRASIL  TOTAL       462        3935\n",
       "453  2020-03-29      DF  TOTAL        29         289\n",
       "454  2020-03-29      MG  TOTAL        26         231\n",
       "455  2020-03-29      RS  TOTAL        26         226\n",
       "456  2020-03-29      BA  TOTAL        27         154\n",
       "457  2020-03-29      SP  TOTAL        45        1451\n",
       "458  2020-03-29      MT  TOTAL         3          16\n",
       "459  2020-03-29      RN  TOTAL        23          68\n",
       "460  2020-03-29      RJ  TOTAL        42         600\n",
       "461  2020-03-29      AL  TOTAL         3          17\n",
       "462  2020-03-29      PE  TOTAL         5          73\n",
       "463  2020-03-29      PR  TOTAL        11         148\n",
       "464  2020-03-29      SC  TOTAL        10         194\n",
       "465  2020-03-29      GO  TOTAL         2          58\n",
       "466  2020-03-29      AM  TOTAL        29         140\n",
       "467  2020-03-29      MS  TOTAL         5          36\n",
       "468  2020-03-29      CE  TOTAL        26         348\n",
       "469  2020-03-29      AC  TOTAL         9          34\n",
       "470  2020-03-29      PI  TOTAL         3          14\n",
       "471  2020-03-29      RR  TOTAL         4          16\n",
       "472  2020-03-29      ES  TOTAL         0          61\n",
       "473  2020-03-29      SE  TOTAL         0          16\n",
       "474  2020-03-29      TO  TOTAL         0           9\n",
       "475  2020-03-29      PA  TOTAL         0          18\n",
       "476  2020-03-29      PB  TOTAL         0          14\n",
       "477  2020-03-29      RO  TOTAL         0           6\n",
       "478  2020-03-29      AP  TOTAL         0           4\n",
       "479  2020-03-29      MA  TOTAL         0          22\n",
       "480  2020-03-29  BRASIL  TOTAL       328        4263"
      ]
     },
     "execution_count": 29,
     "metadata": {},
     "output_type": "execute_result"
    }
   ],
   "source": [
    "dd.tail(30)"
   ]
  },
  {
   "cell_type": "markdown",
   "metadata": {},
   "source": [
    "## MYTABLE"
   ]
  },
  {
   "cell_type": "code",
   "execution_count": 35,
   "metadata": {},
   "outputs": [],
   "source": [
    "from tools.io import read_sheets\n",
    "df = read_sheets('covid19_estados')"
   ]
  },
  {
   "cell_type": "code",
   "execution_count": 36,
   "metadata": {},
   "outputs": [],
   "source": [
    "ddf = pd.merge(dd , df, on=['date','state'], how='left')\n",
    "ddf['confirmed'] = ddf['totalCases']\n",
    "ddf['new_cases'] = ddf['newCases']\n",
    "ddf = ddf.drop(['city','newCases','totalCases'],1)\n",
    "df  = ddf.copy()"
   ]
  },
  {
   "cell_type": "code",
   "execution_count": 37,
   "metadata": {},
   "outputs": [],
   "source": [
    "for col in ['confirmed','new_cases','deaths','new_deaths']:\n",
    "    df[col] = pd.to_numeric(df[col])"
   ]
  },
  {
   "cell_type": "code",
   "execution_count": 38,
   "metadata": {},
   "outputs": [],
   "source": [
    "df_states = df.sort_values(by=['date','confirmed'], ascending=False)\n",
    "df_states['city'] = df_states['state']\n",
    "df_states.head()\n",
    "\n",
    "mask = (df_states['state']!='BRASIL') & (df_states['state']!='SP')\n",
    "not_sp = df_states[mask].groupby(by=['date'], as_index=False).sum()\n",
    "\n",
    "not_sp['state'] = 'EXCETO SP'\n",
    "not_sp['city'] = 'EXCETO SP'\n",
    "df_states = pd.concat([df_states,not_sp[df_states.columns]],axis=0)\n"
   ]
  },
  {
   "cell_type": "code",
   "execution_count": null,
   "metadata": {},
   "outputs": [],
   "source": []
  },
  {
   "cell_type": "code",
   "execution_count": null,
   "metadata": {},
   "outputs": [],
   "source": []
  },
  {
   "cell_type": "markdown",
   "metadata": {},
   "source": [
    "## VIS"
   ]
  },
  {
   "cell_type": "code",
   "execution_count": 40,
   "metadata": {},
   "outputs": [],
   "source": [
    "from tools.vizu import brasil_vis\n",
    "df_states = df_states.sort_values(by=['date'],ascending=False)\n",
    "\n",
    "escala  = 'lin'\n",
    "largura = None\n",
    "save    = True\n",
    "#### CHOSE CITIES TO START SELECTED IN GRAPH\n",
    "in_cities = ['BRASIL','SP', 'RJ','EXCETO SP']\n",
    "\n",
    "# mask = ((dd[var_col]>0))\n",
    "# dd = dd[mask]\n",
    "\n",
    "## confirmed or deaths\n",
    "for var in ['deaths','confirmed']:\n",
    "    fig = brasil_vis(df_states, var,in_cities, escala, today='25/03/2020', save=True)"
   ]
  },
  {
   "cell_type": "code",
   "execution_count": 41,
   "metadata": {},
   "outputs": [
    {
     "data": {
      "application/vnd.plotly.v1+json": {
       "config": {
        "plotlyServerURL": "https://plot.ly"
       },
       "data": [
        {
         "hoverlabel": {
          "font": {
           "size": 18
          },
          "namelength": -1
         },
         "line": {
          "width": 10
         },
         "marker": {
          "size": 15
         },
         "mode": "lines+markers",
         "name": "BRASIL",
         "type": "scatter",
         "x": [
          "2020-03-29",
          "2020-03-28",
          "2020-03-27",
          "2020-03-26",
          "2020-03-25",
          "2020-03-24",
          "2020-03-23",
          "2020-03-22",
          "2020-03-21",
          "2020-03-20",
          "2020-03-19",
          "2020-03-18",
          "2020-03-17",
          "2020-03-16",
          "2020-03-15",
          "2020-03-14",
          "2020-03-13",
          "2020-03-12",
          "2020-03-11",
          "2020-03-10",
          "2020-03-09",
          "2020-03-08",
          "2020-03-07",
          "2020-03-06",
          "2020-03-05",
          "2020-03-04",
          "2020-02-29",
          "2020-02-25"
         ],
         "y": [
          4263,
          3935,
          3473,
          2987,
          2567,
          2270,
          1959,
          1620,
          1205,
          1012,
          694,
          535,
          363,
          301,
          231,
          147,
          120,
          109,
          69,
          35,
          30,
          25,
          19,
          13,
          8,
          3,
          2,
          1
         ]
        },
        {
         "hoverlabel": {
          "font": {
           "size": 18
          },
          "namelength": -1
         },
         "line": {
          "width": 10
         },
         "marker": {
          "size": 15
         },
         "mode": "lines+markers",
         "name": "SP",
         "type": "scatter",
         "x": [
          "2020-03-29",
          "2020-03-28",
          "2020-03-27",
          "2020-03-26",
          "2020-03-25",
          "2020-03-24",
          "2020-03-23",
          "2020-03-22",
          "2020-03-21",
          "2020-03-20",
          "2020-03-19",
          "2020-03-18",
          "2020-03-17",
          "2020-03-16",
          "2020-03-15",
          "2020-03-14",
          "2020-03-13",
          "2020-03-12",
          "2020-03-11",
          "2020-03-10",
          "2020-03-09",
          "2020-03-08",
          "2020-03-07",
          "2020-03-06",
          "2020-03-05",
          "2020-03-04",
          "2020-02-29",
          "2020-02-25"
         ],
         "y": [
          1451,
          1406,
          1223,
          1052,
          862,
          810,
          745,
          631,
          459,
          396,
          287,
          244,
          164,
          152,
          136,
          65,
          64,
          64,
          45,
          19,
          16,
          16,
          13,
          10,
          6,
          3,
          2,
          1
         ]
        },
        {
         "hoverlabel": {
          "font": {
           "size": 18
          },
          "namelength": -1
         },
         "line": {
          "width": 10
         },
         "marker": {
          "size": 15
         },
         "mode": "lines+markers",
         "name": "RJ",
         "type": "scatter",
         "x": [
          "2020-03-29",
          "2020-03-28",
          "2020-03-27",
          "2020-03-26",
          "2020-03-25",
          "2020-03-24",
          "2020-03-23",
          "2020-03-22",
          "2020-03-21",
          "2020-03-20",
          "2020-03-19",
          "2020-03-18",
          "2020-03-17",
          "2020-03-16",
          "2020-03-15",
          "2020-03-14",
          "2020-03-13",
          "2020-03-12",
          "2020-03-11",
          "2020-03-10",
          "2020-03-09",
          "2020-03-08",
          "2020-03-07",
          "2020-03-06",
          "2020-03-05"
         ],
         "y": [
          600,
          558,
          493,
          421,
          370,
          303,
          231,
          186,
          119,
          109,
          66,
          63,
          39,
          31,
          24,
          24,
          19,
          16,
          14,
          8,
          8,
          3,
          2,
          1,
          1
         ]
        },
        {
         "hoverlabel": {
          "font": {
           "size": 18
          },
          "namelength": -1
         },
         "line": {
          "width": 10
         },
         "marker": {
          "size": 15
         },
         "mode": "lines+markers",
         "name": "EXCETO SP",
         "type": "scatter",
         "x": [
          "2020-03-29",
          "2020-03-28",
          "2020-03-27",
          "2020-03-26",
          "2020-03-25",
          "2020-03-24",
          "2020-03-23",
          "2020-03-22",
          "2020-03-21",
          "2020-03-20",
          "2020-03-19",
          "2020-03-18",
          "2020-03-17",
          "2020-03-16",
          "2020-03-15",
          "2020-03-14",
          "2020-03-13",
          "2020-03-12",
          "2020-03-11",
          "2020-03-10",
          "2020-03-09",
          "2020-03-08",
          "2020-03-07",
          "2020-03-06",
          "2020-03-05"
         ],
         "y": [
          2812,
          2529,
          2250,
          1935,
          1705,
          1460,
          1214,
          989,
          746,
          616,
          407,
          291,
          199,
          149,
          95,
          82,
          56,
          45,
          24,
          16,
          14,
          9,
          6,
          3,
          2
         ]
        },
        {
         "hoverlabel": {
          "font": {
           "size": 18
          },
          "namelength": -1
         },
         "line": {
          "width": 10
         },
         "marker": {
          "size": 15
         },
         "mode": "lines+markers",
         "name": "AC",
         "type": "scatter",
         "visible": "legendonly",
         "x": [
          "2020-03-29",
          "2020-03-28",
          "2020-03-27",
          "2020-03-26",
          "2020-03-25",
          "2020-03-24",
          "2020-03-23",
          "2020-03-22",
          "2020-03-21",
          "2020-03-20",
          "2020-03-19",
          "2020-03-18",
          "2020-03-17"
         ],
         "y": [
          34,
          25,
          25,
          24,
          23,
          21,
          17,
          11,
          11,
          7,
          4,
          3,
          3
         ]
        },
        {
         "hoverlabel": {
          "font": {
           "size": 18
          },
          "namelength": -1
         },
         "line": {
          "width": 10
         },
         "marker": {
          "size": 15
         },
         "mode": "lines+markers",
         "name": "AL",
         "type": "scatter",
         "visible": "legendonly",
         "x": [
          "2020-03-29",
          "2020-03-28",
          "2020-03-27",
          "2020-03-26",
          "2020-03-25",
          "2020-03-24",
          "2020-03-23",
          "2020-03-22",
          "2020-03-21",
          "2020-03-20",
          "2020-03-19",
          "2020-03-18",
          "2020-03-17",
          "2020-03-16",
          "2020-03-15",
          "2020-03-14",
          "2020-03-13",
          "2020-03-12",
          "2020-03-11",
          "2020-03-10",
          "2020-03-09",
          "2020-03-08"
         ],
         "y": [
          17,
          14,
          11,
          11,
          11,
          10,
          8,
          7,
          7,
          6,
          4,
          1,
          1,
          1,
          1,
          1,
          1,
          1,
          1,
          1,
          1,
          1
         ]
        },
        {
         "hoverlabel": {
          "font": {
           "size": 18
          },
          "namelength": -1
         },
         "line": {
          "width": 10
         },
         "marker": {
          "size": 15
         },
         "mode": "lines+markers",
         "name": "AM",
         "type": "scatter",
         "visible": "legendonly",
         "x": [
          "2020-03-29",
          "2020-03-28",
          "2020-03-27",
          "2020-03-26",
          "2020-03-25",
          "2020-03-24",
          "2020-03-23",
          "2020-03-22",
          "2020-03-21",
          "2020-03-20",
          "2020-03-19",
          "2020-03-18",
          "2020-03-17",
          "2020-03-16",
          "2020-03-15",
          "2020-03-14",
          "2020-03-13"
         ],
         "y": [
          140,
          111,
          81,
          67,
          54,
          47,
          32,
          26,
          11,
          7,
          3,
          2,
          2,
          1,
          1,
          1,
          1
         ]
        },
        {
         "hoverlabel": {
          "font": {
           "size": 18
          },
          "namelength": -1
         },
         "line": {
          "width": 10
         },
         "marker": {
          "size": 15
         },
         "mode": "lines+markers",
         "name": "AP",
         "type": "scatter",
         "visible": "legendonly",
         "x": [
          "2020-03-29",
          "2020-03-28",
          "2020-03-27",
          "2020-03-26",
          "2020-03-25",
          "2020-03-24",
          "2020-03-23",
          "2020-03-22",
          "2020-03-21",
          "2020-03-20"
         ],
         "y": [
          4,
          4,
          3,
          2,
          2,
          1,
          1,
          1,
          1,
          1
         ]
        },
        {
         "hoverlabel": {
          "font": {
           "size": 18
          },
          "namelength": -1
         },
         "line": {
          "width": 10
         },
         "marker": {
          "size": 15
         },
         "mode": "lines+markers",
         "name": "BA",
         "type": "scatter",
         "visible": "legendonly",
         "x": [
          "2020-03-29",
          "2020-03-28",
          "2020-03-27",
          "2020-03-26",
          "2020-03-25",
          "2020-03-24",
          "2020-03-23",
          "2020-03-22",
          "2020-03-21",
          "2020-03-20",
          "2020-03-19",
          "2020-03-18",
          "2020-03-17",
          "2020-03-16",
          "2020-03-15",
          "2020-03-14",
          "2020-03-13",
          "2020-03-12",
          "2020-03-11",
          "2020-03-10",
          "2020-03-09",
          "2020-03-08",
          "2020-03-07",
          "2020-03-06"
         ],
         "y": [
          154,
          127,
          122,
          108,
          91,
          79,
          63,
          55,
          41,
          34,
          31,
          27,
          16,
          10,
          9,
          7,
          7,
          3,
          3,
          2,
          2,
          2,
          2,
          1
         ]
        },
        {
         "hoverlabel": {
          "font": {
           "size": 18
          },
          "namelength": -1
         },
         "line": {
          "width": 10
         },
         "marker": {
          "size": 15
         },
         "mode": "lines+markers",
         "name": "CE",
         "type": "scatter",
         "visible": "legendonly",
         "x": [
          "2020-03-29",
          "2020-03-28",
          "2020-03-27",
          "2020-03-26",
          "2020-03-25",
          "2020-03-24",
          "2020-03-23",
          "2020-03-22",
          "2020-03-21",
          "2020-03-20",
          "2020-03-19",
          "2020-03-18",
          "2020-03-17",
          "2020-03-16",
          "2020-03-15"
         ],
         "y": [
          348,
          322,
          282,
          238,
          211,
          185,
          164,
          125,
          84,
          68,
          25,
          20,
          11,
          9,
          3
         ]
        },
        {
         "hoverlabel": {
          "font": {
           "size": 18
          },
          "namelength": -1
         },
         "line": {
          "width": 10
         },
         "marker": {
          "size": 15
         },
         "mode": "lines+markers",
         "name": "DF",
         "type": "scatter",
         "visible": "legendonly",
         "x": [
          "2020-03-29",
          "2020-03-28",
          "2020-03-27",
          "2020-03-26",
          "2020-03-25",
          "2020-03-24",
          "2020-03-23",
          "2020-03-22",
          "2020-03-21",
          "2020-03-20",
          "2020-03-19",
          "2020-03-18",
          "2020-03-17",
          "2020-03-16",
          "2020-03-15",
          "2020-03-14",
          "2020-03-13",
          "2020-03-12",
          "2020-03-11",
          "2020-03-10",
          "2020-03-09",
          "2020-03-08",
          "2020-03-07"
         ],
         "y": [
          289,
          260,
          242,
          203,
          195,
          177,
          146,
          134,
          112,
          108,
          84,
          36,
          26,
          19,
          14,
          8,
          3,
          3,
          2,
          2,
          1,
          1,
          1
         ]
        },
        {
         "hoverlabel": {
          "font": {
           "size": 18
          },
          "namelength": -1
         },
         "line": {
          "width": 10
         },
         "marker": {
          "size": 15
         },
         "mode": "lines+markers",
         "name": "ES",
         "type": "scatter",
         "visible": "legendonly",
         "x": [
          "2020-03-29",
          "2020-03-28",
          "2020-03-27",
          "2020-03-26",
          "2020-03-25",
          "2020-03-24",
          "2020-03-23",
          "2020-03-22",
          "2020-03-21",
          "2020-03-20",
          "2020-03-19",
          "2020-03-18",
          "2020-03-17",
          "2020-03-16",
          "2020-03-15",
          "2020-03-14",
          "2020-03-13",
          "2020-03-12",
          "2020-03-11",
          "2020-03-10",
          "2020-03-09",
          "2020-03-08",
          "2020-03-07",
          "2020-03-06",
          "2020-03-05"
         ],
         "y": [
          61,
          61,
          54,
          48,
          40,
          40,
          33,
          26,
          26,
          16,
          13,
          11,
          8,
          8,
          4,
          4,
          2,
          2,
          1,
          1,
          1,
          1,
          1,
          1,
          1
         ]
        },
        {
         "hoverlabel": {
          "font": {
           "size": 18
          },
          "namelength": -1
         },
         "line": {
          "width": 10
         },
         "marker": {
          "size": 15
         },
         "mode": "lines+markers",
         "name": "GO",
         "type": "scatter",
         "visible": "legendonly",
         "x": [
          "2020-03-29",
          "2020-03-28",
          "2020-03-27",
          "2020-03-26",
          "2020-03-25",
          "2020-03-24",
          "2020-03-23",
          "2020-03-22",
          "2020-03-21",
          "2020-03-20",
          "2020-03-19",
          "2020-03-18",
          "2020-03-17",
          "2020-03-16",
          "2020-03-15",
          "2020-03-14",
          "2020-03-13",
          "2020-03-12"
         ],
         "y": [
          58,
          56,
          49,
          39,
          35,
          29,
          23,
          21,
          20,
          18,
          15,
          12,
          10,
          9,
          4,
          4,
          3,
          3
         ]
        },
        {
         "hoverlabel": {
          "font": {
           "size": 18
          },
          "namelength": -1
         },
         "line": {
          "width": 10
         },
         "marker": {
          "size": 15
         },
         "mode": "lines+markers",
         "name": "MA",
         "type": "scatter",
         "visible": "legendonly",
         "x": [
          "2020-03-29",
          "2020-03-28",
          "2020-03-27",
          "2020-03-26",
          "2020-03-25",
          "2020-03-24",
          "2020-03-23",
          "2020-03-22",
          "2020-03-21",
          "2020-03-20"
         ],
         "y": [
          22,
          22,
          14,
          10,
          8,
          8,
          8,
          2,
          2,
          1
         ]
        },
        {
         "hoverlabel": {
          "font": {
           "size": 18
          },
          "namelength": -1
         },
         "line": {
          "width": 10
         },
         "marker": {
          "size": 15
         },
         "mode": "lines+markers",
         "name": "MG",
         "type": "scatter",
         "visible": "legendonly",
         "x": [
          "2020-03-29",
          "2020-03-28",
          "2020-03-27",
          "2020-03-26",
          "2020-03-25",
          "2020-03-24",
          "2020-03-23",
          "2020-03-22",
          "2020-03-21",
          "2020-03-20",
          "2020-03-19",
          "2020-03-18",
          "2020-03-17",
          "2020-03-16",
          "2020-03-15",
          "2020-03-14",
          "2020-03-13",
          "2020-03-12",
          "2020-03-11",
          "2020-03-10",
          "2020-03-09",
          "2020-03-08"
         ],
         "y": [
          231,
          205,
          189,
          148,
          133,
          130,
          128,
          83,
          55,
          38,
          29,
          20,
          14,
          7,
          4,
          4,
          2,
          2,
          1,
          1,
          1,
          1
         ]
        },
        {
         "hoverlabel": {
          "font": {
           "size": 18
          },
          "namelength": -1
         },
         "line": {
          "width": 10
         },
         "marker": {
          "size": 15
         },
         "mode": "lines+markers",
         "name": "MS",
         "type": "scatter",
         "visible": "legendonly",
         "x": [
          "2020-03-29",
          "2020-03-28",
          "2020-03-27",
          "2020-03-26",
          "2020-03-25",
          "2020-03-24",
          "2020-03-23",
          "2020-03-22",
          "2020-03-21",
          "2020-03-20",
          "2020-03-19",
          "2020-03-18",
          "2020-03-17",
          "2020-03-16",
          "2020-03-15",
          "2020-03-14"
         ],
         "y": [
          36,
          31,
          28,
          25,
          24,
          24,
          21,
          21,
          16,
          12,
          9,
          7,
          6,
          4,
          2,
          2
         ]
        },
        {
         "hoverlabel": {
          "font": {
           "size": 18
          },
          "namelength": -1
         },
         "line": {
          "width": 10
         },
         "marker": {
          "size": 15
         },
         "mode": "lines+markers",
         "name": "MT",
         "type": "scatter",
         "visible": "legendonly",
         "x": [
          "2020-03-29",
          "2020-03-28",
          "2020-03-27",
          "2020-03-26",
          "2020-03-25",
          "2020-03-24",
          "2020-03-23",
          "2020-03-22",
          "2020-03-21",
          "2020-03-20"
         ],
         "y": [
          16,
          13,
          11,
          11,
          9,
          7,
          6,
          2,
          2,
          1
         ]
        },
        {
         "hoverlabel": {
          "font": {
           "size": 18
          },
          "namelength": -1
         },
         "line": {
          "width": 10
         },
         "marker": {
          "size": 15
         },
         "mode": "lines+markers",
         "name": "PA",
         "type": "scatter",
         "visible": "legendonly",
         "x": [
          "2020-03-29",
          "2020-03-28",
          "2020-03-27",
          "2020-03-26",
          "2020-03-25",
          "2020-03-24",
          "2020-03-23",
          "2020-03-22",
          "2020-03-21",
          "2020-03-20",
          "2020-03-19",
          "2020-03-18"
         ],
         "y": [
          18,
          18,
          16,
          13,
          9,
          5,
          5,
          4,
          2,
          2,
          1,
          1
         ]
        },
        {
         "hoverlabel": {
          "font": {
           "size": 18
          },
          "namelength": -1
         },
         "line": {
          "width": 10
         },
         "marker": {
          "size": 15
         },
         "mode": "lines+markers",
         "name": "PB",
         "type": "scatter",
         "visible": "legendonly",
         "x": [
          "2020-03-29",
          "2020-03-28",
          "2020-03-27",
          "2020-03-26",
          "2020-03-25",
          "2020-03-24",
          "2020-03-23",
          "2020-03-22",
          "2020-03-21",
          "2020-03-20",
          "2020-03-19",
          "2020-03-18"
         ],
         "y": [
          14,
          14,
          9,
          6,
          5,
          3,
          2,
          1,
          1,
          1,
          1,
          1
         ]
        },
        {
         "hoverlabel": {
          "font": {
           "size": 18
          },
          "namelength": -1
         },
         "line": {
          "width": 10
         },
         "marker": {
          "size": 15
         },
         "mode": "lines+markers",
         "name": "PE",
         "type": "scatter",
         "visible": "legendonly",
         "x": [
          "2020-03-29",
          "2020-03-28",
          "2020-03-27",
          "2020-03-26",
          "2020-03-25",
          "2020-03-24",
          "2020-03-23",
          "2020-03-22",
          "2020-03-21",
          "2020-03-20",
          "2020-03-19",
          "2020-03-18",
          "2020-03-17",
          "2020-03-16",
          "2020-03-15",
          "2020-03-14",
          "2020-03-13",
          "2020-03-12"
         ],
         "y": [
          73,
          68,
          57,
          48,
          46,
          42,
          42,
          37,
          33,
          31,
          28,
          22,
          19,
          18,
          8,
          7,
          2,
          2
         ]
        },
        {
         "hoverlabel": {
          "font": {
           "size": 18
          },
          "namelength": -1
         },
         "line": {
          "width": 10
         },
         "marker": {
          "size": 15
         },
         "mode": "lines+markers",
         "name": "PI",
         "type": "scatter",
         "visible": "legendonly",
         "x": [
          "2020-03-29",
          "2020-03-28",
          "2020-03-27",
          "2020-03-26",
          "2020-03-25",
          "2020-03-24",
          "2020-03-23",
          "2020-03-22",
          "2020-03-21",
          "2020-03-20",
          "2020-03-19"
         ],
         "y": [
          14,
          11,
          9,
          9,
          8,
          8,
          6,
          6,
          4,
          4,
          3
         ]
        },
        {
         "hoverlabel": {
          "font": {
           "size": 18
          },
          "namelength": -1
         },
         "line": {
          "width": 10
         },
         "marker": {
          "size": 15
         },
         "mode": "lines+markers",
         "name": "PR",
         "type": "scatter",
         "visible": "legendonly",
         "x": [
          "2020-03-29",
          "2020-03-28",
          "2020-03-27",
          "2020-03-26",
          "2020-03-25",
          "2020-03-24",
          "2020-03-23",
          "2020-03-22",
          "2020-03-21",
          "2020-03-20",
          "2020-03-19",
          "2020-03-18",
          "2020-03-17",
          "2020-03-16",
          "2020-03-15",
          "2020-03-14",
          "2020-03-13",
          "2020-03-12"
         ],
         "y": [
          148,
          137,
          125,
          106,
          97,
          69,
          60,
          54,
          43,
          36,
          23,
          14,
          12,
          8,
          6,
          6,
          6,
          6
         ]
        },
        {
         "hoverlabel": {
          "font": {
           "size": 18
          },
          "namelength": -1
         },
         "line": {
          "width": 10
         },
         "marker": {
          "size": 15
         },
         "mode": "lines+markers",
         "name": "RN",
         "type": "scatter",
         "visible": "legendonly",
         "x": [
          "2020-03-29",
          "2020-03-28",
          "2020-03-27",
          "2020-03-26",
          "2020-03-25",
          "2020-03-24",
          "2020-03-23",
          "2020-03-22",
          "2020-03-21",
          "2020-03-20",
          "2020-03-19",
          "2020-03-18",
          "2020-03-17",
          "2020-03-16",
          "2020-03-15",
          "2020-03-14",
          "2020-03-13",
          "2020-03-12"
         ],
         "y": [
          68,
          45,
          28,
          19,
          14,
          14,
          13,
          13,
          9,
          6,
          1,
          1,
          1,
          1,
          1,
          1,
          1,
          1
         ]
        },
        {
         "hoverlabel": {
          "font": {
           "size": 18
          },
          "namelength": -1
         },
         "line": {
          "width": 10
         },
         "marker": {
          "size": 15
         },
         "mode": "lines+markers",
         "name": "RO",
         "type": "scatter",
         "visible": "legendonly",
         "x": [
          "2020-03-29",
          "2020-03-28",
          "2020-03-27",
          "2020-03-26",
          "2020-03-25",
          "2020-03-24",
          "2020-03-23",
          "2020-03-22",
          "2020-03-21",
          "2020-03-20",
          "2020-03-19"
         ],
         "y": [
          6,
          6,
          6,
          6,
          5,
          5,
          3,
          3,
          3,
          1,
          1
         ]
        },
        {
         "hoverlabel": {
          "font": {
           "size": 18
          },
          "namelength": -1
         },
         "line": {
          "width": 10
         },
         "marker": {
          "size": 15
         },
         "mode": "lines+markers",
         "name": "RR",
         "type": "scatter",
         "visible": "legendonly",
         "x": [
          "2020-03-29",
          "2020-03-28",
          "2020-03-27",
          "2020-03-26",
          "2020-03-25",
          "2020-03-24",
          "2020-03-23",
          "2020-03-22",
          "2020-03-21"
         ],
         "y": [
          16,
          12,
          12,
          10,
          8,
          8,
          2,
          2,
          2
         ]
        },
        {
         "hoverlabel": {
          "font": {
           "size": 18
          },
          "namelength": -1
         },
         "line": {
          "width": 10
         },
         "marker": {
          "size": 15
         },
         "mode": "lines+markers",
         "name": "RS",
         "type": "scatter",
         "visible": "legendonly",
         "x": [
          "2020-03-29",
          "2020-03-28",
          "2020-03-27",
          "2020-03-26",
          "2020-03-25",
          "2020-03-24",
          "2020-03-23",
          "2020-03-22",
          "2020-03-21",
          "2020-03-20",
          "2020-03-19",
          "2020-03-18",
          "2020-03-17",
          "2020-03-16",
          "2020-03-15",
          "2020-03-14",
          "2020-03-13",
          "2020-03-12",
          "2020-03-11",
          "2020-03-10"
         ],
         "y": [
          226,
          200,
          197,
          190,
          162,
          113,
          96,
          85,
          72,
          60,
          37,
          28,
          19,
          11,
          7,
          7,
          6,
          4,
          2,
          1
         ]
        },
        {
         "hoverlabel": {
          "font": {
           "size": 18
          },
          "namelength": -1
         },
         "line": {
          "width": 10
         },
         "marker": {
          "size": 15
         },
         "mode": "lines+markers",
         "name": "SC",
         "type": "scatter",
         "visible": "legendonly",
         "x": [
          "2020-03-29",
          "2020-03-28",
          "2020-03-27",
          "2020-03-26",
          "2020-03-25",
          "2020-03-24",
          "2020-03-23",
          "2020-03-22",
          "2020-03-21",
          "2020-03-20",
          "2020-03-19",
          "2020-03-18",
          "2020-03-17",
          "2020-03-16",
          "2020-03-15",
          "2020-03-14",
          "2020-03-13",
          "2020-03-12"
         ],
         "y": [
          194,
          184,
          163,
          149,
          122,
          110,
          87,
          69,
          58,
          41,
          22,
          15,
          7,
          7,
          6,
          5,
          3,
          2
         ]
        },
        {
         "hoverlabel": {
          "font": {
           "size": 18
          },
          "namelength": -1
         },
         "line": {
          "width": 10
         },
         "marker": {
          "size": 15
         },
         "mode": "lines+markers",
         "name": "SE",
         "type": "scatter",
         "visible": "legendonly",
         "x": [
          "2020-03-29",
          "2020-03-28",
          "2020-03-27",
          "2020-03-26",
          "2020-03-25",
          "2020-03-24",
          "2020-03-23",
          "2020-03-22",
          "2020-03-21",
          "2020-03-20",
          "2020-03-19",
          "2020-03-18",
          "2020-03-17",
          "2020-03-16",
          "2020-03-15",
          "2020-03-14"
         ],
         "y": [
          16,
          16,
          16,
          16,
          16,
          15,
          10,
          10,
          10,
          7,
          6,
          6,
          5,
          5,
          1,
          1
         ]
        },
        {
         "hoverlabel": {
          "font": {
           "size": 18
          },
          "namelength": -1
         },
         "line": {
          "width": 10
         },
         "marker": {
          "size": 15
         },
         "mode": "lines+markers",
         "name": "TO",
         "type": "scatter",
         "visible": "legendonly",
         "x": [
          "2020-03-29",
          "2020-03-28",
          "2020-03-27",
          "2020-03-26",
          "2020-03-25",
          "2020-03-24",
          "2020-03-23",
          "2020-03-22",
          "2020-03-21",
          "2020-03-20",
          "2020-03-19",
          "2020-03-18"
         ],
         "y": [
          9,
          9,
          8,
          8,
          7,
          7,
          7,
          5,
          2,
          1,
          1,
          1
         ]
        }
       ],
       "layout": {
        "autosize": true,
        "barmode": "stack",
        "font": {
         "size": 18
        },
        "legend": {
         "bgcolor": "rgba(0, 0, 0, 0)",
         "font": {
          "color": "black",
          "family": "sans-serif",
          "size": 20
         },
         "orientation": "v"
        },
        "template": {
         "data": {
          "bar": [
           {
            "error_x": {
             "color": "#2a3f5f"
            },
            "error_y": {
             "color": "#2a3f5f"
            },
            "marker": {
             "line": {
              "color": "#E5ECF6",
              "width": 0.5
             }
            },
            "type": "bar"
           }
          ],
          "barpolar": [
           {
            "marker": {
             "line": {
              "color": "#E5ECF6",
              "width": 0.5
             }
            },
            "type": "barpolar"
           }
          ],
          "carpet": [
           {
            "aaxis": {
             "endlinecolor": "#2a3f5f",
             "gridcolor": "white",
             "linecolor": "white",
             "minorgridcolor": "white",
             "startlinecolor": "#2a3f5f"
            },
            "baxis": {
             "endlinecolor": "#2a3f5f",
             "gridcolor": "white",
             "linecolor": "white",
             "minorgridcolor": "white",
             "startlinecolor": "#2a3f5f"
            },
            "type": "carpet"
           }
          ],
          "choropleth": [
           {
            "colorbar": {
             "outlinewidth": 0,
             "ticks": ""
            },
            "type": "choropleth"
           }
          ],
          "contour": [
           {
            "colorbar": {
             "outlinewidth": 0,
             "ticks": ""
            },
            "colorscale": [
             [
              0,
              "#0d0887"
             ],
             [
              0.1111111111111111,
              "#46039f"
             ],
             [
              0.2222222222222222,
              "#7201a8"
             ],
             [
              0.3333333333333333,
              "#9c179e"
             ],
             [
              0.4444444444444444,
              "#bd3786"
             ],
             [
              0.5555555555555556,
              "#d8576b"
             ],
             [
              0.6666666666666666,
              "#ed7953"
             ],
             [
              0.7777777777777778,
              "#fb9f3a"
             ],
             [
              0.8888888888888888,
              "#fdca26"
             ],
             [
              1,
              "#f0f921"
             ]
            ],
            "type": "contour"
           }
          ],
          "contourcarpet": [
           {
            "colorbar": {
             "outlinewidth": 0,
             "ticks": ""
            },
            "type": "contourcarpet"
           }
          ],
          "heatmap": [
           {
            "colorbar": {
             "outlinewidth": 0,
             "ticks": ""
            },
            "colorscale": [
             [
              0,
              "#0d0887"
             ],
             [
              0.1111111111111111,
              "#46039f"
             ],
             [
              0.2222222222222222,
              "#7201a8"
             ],
             [
              0.3333333333333333,
              "#9c179e"
             ],
             [
              0.4444444444444444,
              "#bd3786"
             ],
             [
              0.5555555555555556,
              "#d8576b"
             ],
             [
              0.6666666666666666,
              "#ed7953"
             ],
             [
              0.7777777777777778,
              "#fb9f3a"
             ],
             [
              0.8888888888888888,
              "#fdca26"
             ],
             [
              1,
              "#f0f921"
             ]
            ],
            "type": "heatmap"
           }
          ],
          "heatmapgl": [
           {
            "colorbar": {
             "outlinewidth": 0,
             "ticks": ""
            },
            "colorscale": [
             [
              0,
              "#0d0887"
             ],
             [
              0.1111111111111111,
              "#46039f"
             ],
             [
              0.2222222222222222,
              "#7201a8"
             ],
             [
              0.3333333333333333,
              "#9c179e"
             ],
             [
              0.4444444444444444,
              "#bd3786"
             ],
             [
              0.5555555555555556,
              "#d8576b"
             ],
             [
              0.6666666666666666,
              "#ed7953"
             ],
             [
              0.7777777777777778,
              "#fb9f3a"
             ],
             [
              0.8888888888888888,
              "#fdca26"
             ],
             [
              1,
              "#f0f921"
             ]
            ],
            "type": "heatmapgl"
           }
          ],
          "histogram": [
           {
            "marker": {
             "colorbar": {
              "outlinewidth": 0,
              "ticks": ""
             }
            },
            "type": "histogram"
           }
          ],
          "histogram2d": [
           {
            "colorbar": {
             "outlinewidth": 0,
             "ticks": ""
            },
            "colorscale": [
             [
              0,
              "#0d0887"
             ],
             [
              0.1111111111111111,
              "#46039f"
             ],
             [
              0.2222222222222222,
              "#7201a8"
             ],
             [
              0.3333333333333333,
              "#9c179e"
             ],
             [
              0.4444444444444444,
              "#bd3786"
             ],
             [
              0.5555555555555556,
              "#d8576b"
             ],
             [
              0.6666666666666666,
              "#ed7953"
             ],
             [
              0.7777777777777778,
              "#fb9f3a"
             ],
             [
              0.8888888888888888,
              "#fdca26"
             ],
             [
              1,
              "#f0f921"
             ]
            ],
            "type": "histogram2d"
           }
          ],
          "histogram2dcontour": [
           {
            "colorbar": {
             "outlinewidth": 0,
             "ticks": ""
            },
            "colorscale": [
             [
              0,
              "#0d0887"
             ],
             [
              0.1111111111111111,
              "#46039f"
             ],
             [
              0.2222222222222222,
              "#7201a8"
             ],
             [
              0.3333333333333333,
              "#9c179e"
             ],
             [
              0.4444444444444444,
              "#bd3786"
             ],
             [
              0.5555555555555556,
              "#d8576b"
             ],
             [
              0.6666666666666666,
              "#ed7953"
             ],
             [
              0.7777777777777778,
              "#fb9f3a"
             ],
             [
              0.8888888888888888,
              "#fdca26"
             ],
             [
              1,
              "#f0f921"
             ]
            ],
            "type": "histogram2dcontour"
           }
          ],
          "mesh3d": [
           {
            "colorbar": {
             "outlinewidth": 0,
             "ticks": ""
            },
            "type": "mesh3d"
           }
          ],
          "parcoords": [
           {
            "line": {
             "colorbar": {
              "outlinewidth": 0,
              "ticks": ""
             }
            },
            "type": "parcoords"
           }
          ],
          "pie": [
           {
            "automargin": true,
            "type": "pie"
           }
          ],
          "scatter": [
           {
            "marker": {
             "colorbar": {
              "outlinewidth": 0,
              "ticks": ""
             }
            },
            "type": "scatter"
           }
          ],
          "scatter3d": [
           {
            "line": {
             "colorbar": {
              "outlinewidth": 0,
              "ticks": ""
             }
            },
            "marker": {
             "colorbar": {
              "outlinewidth": 0,
              "ticks": ""
             }
            },
            "type": "scatter3d"
           }
          ],
          "scattercarpet": [
           {
            "marker": {
             "colorbar": {
              "outlinewidth": 0,
              "ticks": ""
             }
            },
            "type": "scattercarpet"
           }
          ],
          "scattergeo": [
           {
            "marker": {
             "colorbar": {
              "outlinewidth": 0,
              "ticks": ""
             }
            },
            "type": "scattergeo"
           }
          ],
          "scattergl": [
           {
            "marker": {
             "colorbar": {
              "outlinewidth": 0,
              "ticks": ""
             }
            },
            "type": "scattergl"
           }
          ],
          "scattermapbox": [
           {
            "marker": {
             "colorbar": {
              "outlinewidth": 0,
              "ticks": ""
             }
            },
            "type": "scattermapbox"
           }
          ],
          "scatterpolar": [
           {
            "marker": {
             "colorbar": {
              "outlinewidth": 0,
              "ticks": ""
             }
            },
            "type": "scatterpolar"
           }
          ],
          "scatterpolargl": [
           {
            "marker": {
             "colorbar": {
              "outlinewidth": 0,
              "ticks": ""
             }
            },
            "type": "scatterpolargl"
           }
          ],
          "scatterternary": [
           {
            "marker": {
             "colorbar": {
              "outlinewidth": 0,
              "ticks": ""
             }
            },
            "type": "scatterternary"
           }
          ],
          "surface": [
           {
            "colorbar": {
             "outlinewidth": 0,
             "ticks": ""
            },
            "colorscale": [
             [
              0,
              "#0d0887"
             ],
             [
              0.1111111111111111,
              "#46039f"
             ],
             [
              0.2222222222222222,
              "#7201a8"
             ],
             [
              0.3333333333333333,
              "#9c179e"
             ],
             [
              0.4444444444444444,
              "#bd3786"
             ],
             [
              0.5555555555555556,
              "#d8576b"
             ],
             [
              0.6666666666666666,
              "#ed7953"
             ],
             [
              0.7777777777777778,
              "#fb9f3a"
             ],
             [
              0.8888888888888888,
              "#fdca26"
             ],
             [
              1,
              "#f0f921"
             ]
            ],
            "type": "surface"
           }
          ],
          "table": [
           {
            "cells": {
             "fill": {
              "color": "#EBF0F8"
             },
             "line": {
              "color": "white"
             }
            },
            "header": {
             "fill": {
              "color": "#C8D4E3"
             },
             "line": {
              "color": "white"
             }
            },
            "type": "table"
           }
          ]
         },
         "layout": {
          "annotationdefaults": {
           "arrowcolor": "#2a3f5f",
           "arrowhead": 0,
           "arrowwidth": 1
          },
          "coloraxis": {
           "colorbar": {
            "outlinewidth": 0,
            "ticks": ""
           }
          },
          "colorscale": {
           "diverging": [
            [
             0,
             "#8e0152"
            ],
            [
             0.1,
             "#c51b7d"
            ],
            [
             0.2,
             "#de77ae"
            ],
            [
             0.3,
             "#f1b6da"
            ],
            [
             0.4,
             "#fde0ef"
            ],
            [
             0.5,
             "#f7f7f7"
            ],
            [
             0.6,
             "#e6f5d0"
            ],
            [
             0.7,
             "#b8e186"
            ],
            [
             0.8,
             "#7fbc41"
            ],
            [
             0.9,
             "#4d9221"
            ],
            [
             1,
             "#276419"
            ]
           ],
           "sequential": [
            [
             0,
             "#0d0887"
            ],
            [
             0.1111111111111111,
             "#46039f"
            ],
            [
             0.2222222222222222,
             "#7201a8"
            ],
            [
             0.3333333333333333,
             "#9c179e"
            ],
            [
             0.4444444444444444,
             "#bd3786"
            ],
            [
             0.5555555555555556,
             "#d8576b"
            ],
            [
             0.6666666666666666,
             "#ed7953"
            ],
            [
             0.7777777777777778,
             "#fb9f3a"
            ],
            [
             0.8888888888888888,
             "#fdca26"
            ],
            [
             1,
             "#f0f921"
            ]
           ],
           "sequentialminus": [
            [
             0,
             "#0d0887"
            ],
            [
             0.1111111111111111,
             "#46039f"
            ],
            [
             0.2222222222222222,
             "#7201a8"
            ],
            [
             0.3333333333333333,
             "#9c179e"
            ],
            [
             0.4444444444444444,
             "#bd3786"
            ],
            [
             0.5555555555555556,
             "#d8576b"
            ],
            [
             0.6666666666666666,
             "#ed7953"
            ],
            [
             0.7777777777777778,
             "#fb9f3a"
            ],
            [
             0.8888888888888888,
             "#fdca26"
            ],
            [
             1,
             "#f0f921"
            ]
           ]
          },
          "colorway": [
           "#636efa",
           "#EF553B",
           "#00cc96",
           "#ab63fa",
           "#FFA15A",
           "#19d3f3",
           "#FF6692",
           "#B6E880",
           "#FF97FF",
           "#FECB52"
          ],
          "font": {
           "color": "#2a3f5f"
          },
          "geo": {
           "bgcolor": "white",
           "lakecolor": "white",
           "landcolor": "#E5ECF6",
           "showlakes": true,
           "showland": true,
           "subunitcolor": "white"
          },
          "hoverlabel": {
           "align": "left"
          },
          "hovermode": "closest",
          "mapbox": {
           "style": "light"
          },
          "paper_bgcolor": "white",
          "plot_bgcolor": "#E5ECF6",
          "polar": {
           "angularaxis": {
            "gridcolor": "white",
            "linecolor": "white",
            "ticks": ""
           },
           "bgcolor": "#E5ECF6",
           "radialaxis": {
            "gridcolor": "white",
            "linecolor": "white",
            "ticks": ""
           }
          },
          "scene": {
           "xaxis": {
            "backgroundcolor": "#E5ECF6",
            "gridcolor": "white",
            "gridwidth": 2,
            "linecolor": "white",
            "showbackground": true,
            "ticks": "",
            "zerolinecolor": "white"
           },
           "yaxis": {
            "backgroundcolor": "#E5ECF6",
            "gridcolor": "white",
            "gridwidth": 2,
            "linecolor": "white",
            "showbackground": true,
            "ticks": "",
            "zerolinecolor": "white"
           },
           "zaxis": {
            "backgroundcolor": "#E5ECF6",
            "gridcolor": "white",
            "gridwidth": 2,
            "linecolor": "white",
            "showbackground": true,
            "ticks": "",
            "zerolinecolor": "white"
           }
          },
          "shapedefaults": {
           "line": {
            "color": "#2a3f5f"
           }
          },
          "ternary": {
           "aaxis": {
            "gridcolor": "white",
            "linecolor": "white",
            "ticks": ""
           },
           "baxis": {
            "gridcolor": "white",
            "linecolor": "white",
            "ticks": ""
           },
           "bgcolor": "#E5ECF6",
           "caxis": {
            "gridcolor": "white",
            "linecolor": "white",
            "ticks": ""
           }
          },
          "title": {
           "x": 0.05
          },
          "xaxis": {
           "automargin": true,
           "gridcolor": "white",
           "linecolor": "white",
           "ticks": "",
           "title": {
            "standoff": 15
           },
           "zerolinecolor": "white",
           "zerolinewidth": 2
          },
          "yaxis": {
           "automargin": true,
           "gridcolor": "white",
           "linecolor": "white",
           "ticks": "",
           "title": {
            "standoff": 15
           },
           "zerolinecolor": "white",
           "zerolinewidth": 2
          }
         }
        },
        "title": {
         "font": {
          "size": 22
         },
         "text": "<b>CASOS POR ESTADO EM 25/03/2020<b>",
         "x": 0.5,
         "xanchor": "center",
         "yanchor": "top"
        },
        "xaxis": {
         "autorange": true,
         "range": [
          "2020-02-22 20:00:58.5281",
          "2020-03-31 03:59:01.4719"
         ],
         "tickfont": {
          "color": "black",
          "size": 22
         },
         "tickformat": "%d/%m",
         "title": {
          "text": "<b>DATA<b>"
         },
         "type": "date"
        },
        "yaxis": {
         "autorange": true,
         "range": [
          -433.752508361204,
          4697.752508361204
         ],
         "tickfont": {
          "color": "black",
          "size": 22
         },
         "tickformat": "n",
         "title": {
          "text": "<b>CASOS CONFIRMADAS<b>"
         },
         "type": "linear"
        }
       }
      },
      "image/png": "[encoded data removed]",
      "text/html": [
       "<div>\n",
       "        \n",
       "        \n",
       "            <div id=\"5d5fb80c-c465-4d38-9981-50d5815528db\" class=\"plotly-graph-div\" style=\"height:800px; width:100%;\"></div>\n",
       "            <script type=\"text/javascript\">\n",
       "                require([\"plotly\"], function(Plotly) {\n",
       "                    window.PLOTLYENV=window.PLOTLYENV || {};\n",
       "                    \n",
       "                if (document.getElementById(\"5d5fb80c-c465-4d38-9981-50d5815528db\")) {\n",
       "                    Plotly.newPlot(\n",
       "                        '5d5fb80c-c465-4d38-9981-50d5815528db',\n",
       "                        [{\"hoverlabel\": {\"font\": {\"size\": 18}, \"namelength\": -1}, \"line\": {\"width\": 10}, \"marker\": {\"size\": 15}, \"mode\": \"lines+markers\", \"name\": \"BRASIL\", \"type\": \"scatter\", \"x\": [\"2020-03-29\", \"2020-03-28\", \"2020-03-27\", \"2020-03-26\", \"2020-03-25\", \"2020-03-24\", \"2020-03-23\", \"2020-03-22\", \"2020-03-21\", \"2020-03-20\", \"2020-03-19\", \"2020-03-18\", \"2020-03-17\", \"2020-03-16\", \"2020-03-15\", \"2020-03-14\", \"2020-03-13\", \"2020-03-12\", \"2020-03-11\", \"2020-03-10\", \"2020-03-09\", \"2020-03-08\", \"2020-03-07\", \"2020-03-06\", \"2020-03-05\", \"2020-03-04\", \"2020-02-29\", \"2020-02-25\"], \"y\": [4263, 3935, 3473, 2987, 2567, 2270, 1959, 1620, 1205, 1012, 694, 535, 363, 301, 231, 147, 120, 109, 69, 35, 30, 25, 19, 13, 8, 3, 2, 1]}, {\"hoverlabel\": {\"font\": {\"size\": 18}, \"namelength\": -1}, \"line\": {\"width\": 10}, \"marker\": {\"size\": 15}, \"mode\": \"lines+markers\", \"name\": \"SP\", \"type\": \"scatter\", \"x\": [\"2020-03-29\", \"2020-03-28\", \"2020-03-27\", \"2020-03-26\", \"2020-03-25\", \"2020-03-24\", \"2020-03-23\", \"2020-03-22\", \"2020-03-21\", \"2020-03-20\", \"2020-03-19\", \"2020-03-18\", \"2020-03-17\", \"2020-03-16\", \"2020-03-15\", \"2020-03-14\", \"2020-03-13\", \"2020-03-12\", \"2020-03-11\", \"2020-03-10\", \"2020-03-09\", \"2020-03-08\", \"2020-03-07\", \"2020-03-06\", \"2020-03-05\", \"2020-03-04\", \"2020-02-29\", \"2020-02-25\"], \"y\": [1451, 1406, 1223, 1052, 862, 810, 745, 631, 459, 396, 287, 244, 164, 152, 136, 65, 64, 64, 45, 19, 16, 16, 13, 10, 6, 3, 2, 1]}, {\"hoverlabel\": {\"font\": {\"size\": 18}, \"namelength\": -1}, \"line\": {\"width\": 10}, \"marker\": {\"size\": 15}, \"mode\": \"lines+markers\", \"name\": \"RJ\", \"type\": \"scatter\", \"x\": [\"2020-03-29\", \"2020-03-28\", \"2020-03-27\", \"2020-03-26\", \"2020-03-25\", \"2020-03-24\", \"2020-03-23\", \"2020-03-22\", \"2020-03-21\", \"2020-03-20\", \"2020-03-19\", \"2020-03-18\", \"2020-03-17\", \"2020-03-16\", \"2020-03-15\", \"2020-03-14\", \"2020-03-13\", \"2020-03-12\", \"2020-03-11\", \"2020-03-10\", \"2020-03-09\", \"2020-03-08\", \"2020-03-07\", \"2020-03-06\", \"2020-03-05\"], \"y\": [600, 558, 493, 421, 370, 303, 231, 186, 119, 109, 66, 63, 39, 31, 24, 24, 19, 16, 14, 8, 8, 3, 2, 1, 1]}, {\"hoverlabel\": {\"font\": {\"size\": 18}, \"namelength\": -1}, \"line\": {\"width\": 10}, \"marker\": {\"size\": 15}, \"mode\": \"lines+markers\", \"name\": \"EXCETO SP\", \"type\": \"scatter\", \"x\": [\"2020-03-29\", \"2020-03-28\", \"2020-03-27\", \"2020-03-26\", \"2020-03-25\", \"2020-03-24\", \"2020-03-23\", \"2020-03-22\", \"2020-03-21\", \"2020-03-20\", \"2020-03-19\", \"2020-03-18\", \"2020-03-17\", \"2020-03-16\", \"2020-03-15\", \"2020-03-14\", \"2020-03-13\", \"2020-03-12\", \"2020-03-11\", \"2020-03-10\", \"2020-03-09\", \"2020-03-08\", \"2020-03-07\", \"2020-03-06\", \"2020-03-05\"], \"y\": [2812, 2529, 2250, 1935, 1705, 1460, 1214, 989, 746, 616, 407, 291, 199, 149, 95, 82, 56, 45, 24, 16, 14, 9, 6, 3, 2]}, {\"hoverlabel\": {\"font\": {\"size\": 18}, \"namelength\": -1}, \"line\": {\"width\": 10}, \"marker\": {\"size\": 15}, \"mode\": \"lines+markers\", \"name\": \"AC\", \"type\": \"scatter\", \"visible\": \"legendonly\", \"x\": [\"2020-03-29\", \"2020-03-28\", \"2020-03-27\", \"2020-03-26\", \"2020-03-25\", \"2020-03-24\", \"2020-03-23\", \"2020-03-22\", \"2020-03-21\", \"2020-03-20\", \"2020-03-19\", \"2020-03-18\", \"2020-03-17\"], \"y\": [34, 25, 25, 24, 23, 21, 17, 11, 11, 7, 4, 3, 3]}, {\"hoverlabel\": {\"font\": {\"size\": 18}, \"namelength\": -1}, \"line\": {\"width\": 10}, \"marker\": {\"size\": 15}, \"mode\": \"lines+markers\", \"name\": \"AL\", \"type\": \"scatter\", \"visible\": \"legendonly\", \"x\": [\"2020-03-29\", \"2020-03-28\", \"2020-03-27\", \"2020-03-26\", \"2020-03-25\", \"2020-03-24\", \"2020-03-23\", \"2020-03-22\", \"2020-03-21\", \"2020-03-20\", \"2020-03-19\", \"2020-03-18\", \"2020-03-17\", \"2020-03-16\", \"2020-03-15\", \"2020-03-14\", \"2020-03-13\", \"2020-03-12\", \"2020-03-11\", \"2020-03-10\", \"2020-03-09\", \"2020-03-08\"], \"y\": [17, 14, 11, 11, 11, 10, 8, 7, 7, 6, 4, 1, 1, 1, 1, 1, 1, 1, 1, 1, 1, 1]}, {\"hoverlabel\": {\"font\": {\"size\": 18}, \"namelength\": -1}, \"line\": {\"width\": 10}, \"marker\": {\"size\": 15}, \"mode\": \"lines+markers\", \"name\": \"AM\", \"type\": \"scatter\", \"visible\": \"legendonly\", \"x\": [\"2020-03-29\", \"2020-03-28\", \"2020-03-27\", \"2020-03-26\", \"2020-03-25\", \"2020-03-24\", \"2020-03-23\", \"2020-03-22\", \"2020-03-21\", \"2020-03-20\", \"2020-03-19\", \"2020-03-18\", \"2020-03-17\", \"2020-03-16\", \"2020-03-15\", \"2020-03-14\", \"2020-03-13\"], \"y\": [140, 111, 81, 67, 54, 47, 32, 26, 11, 7, 3, 2, 2, 1, 1, 1, 1]}, {\"hoverlabel\": {\"font\": {\"size\": 18}, \"namelength\": -1}, \"line\": {\"width\": 10}, \"marker\": {\"size\": 15}, \"mode\": \"lines+markers\", \"name\": \"AP\", \"type\": \"scatter\", \"visible\": \"legendonly\", \"x\": [\"2020-03-29\", \"2020-03-28\", \"2020-03-27\", \"2020-03-26\", \"2020-03-25\", \"2020-03-24\", \"2020-03-23\", \"2020-03-22\", \"2020-03-21\", \"2020-03-20\"], \"y\": [4, 4, 3, 2, 2, 1, 1, 1, 1, 1]}, {\"hoverlabel\": {\"font\": {\"size\": 18}, \"namelength\": -1}, \"line\": {\"width\": 10}, \"marker\": {\"size\": 15}, \"mode\": \"lines+markers\", \"name\": \"BA\", \"type\": \"scatter\", \"visible\": \"legendonly\", \"x\": [\"2020-03-29\", \"2020-03-28\", \"2020-03-27\", \"2020-03-26\", \"2020-03-25\", \"2020-03-24\", \"2020-03-23\", \"2020-03-22\", \"2020-03-21\", \"2020-03-20\", \"2020-03-19\", \"2020-03-18\", \"2020-03-17\", \"2020-03-16\", \"2020-03-15\", \"2020-03-14\", \"2020-03-13\", \"2020-03-12\", \"2020-03-11\", \"2020-03-10\", \"2020-03-09\", \"2020-03-08\", \"2020-03-07\", \"2020-03-06\"], \"y\": [154, 127, 122, 108, 91, 79, 63, 55, 41, 34, 31, 27, 16, 10, 9, 7, 7, 3, 3, 2, 2, 2, 2, 1]}, {\"hoverlabel\": {\"font\": {\"size\": 18}, \"namelength\": -1}, \"line\": {\"width\": 10}, \"marker\": {\"size\": 15}, \"mode\": \"lines+markers\", \"name\": \"CE\", \"type\": \"scatter\", \"visible\": \"legendonly\", \"x\": [\"2020-03-29\", \"2020-03-28\", \"2020-03-27\", \"2020-03-26\", \"2020-03-25\", \"2020-03-24\", \"2020-03-23\", \"2020-03-22\", \"2020-03-21\", \"2020-03-20\", \"2020-03-19\", \"2020-03-18\", \"2020-03-17\", \"2020-03-16\", \"2020-03-15\"], \"y\": [348, 322, 282, 238, 211, 185, 164, 125, 84, 68, 25, 20, 11, 9, 3]}, {\"hoverlabel\": {\"font\": {\"size\": 18}, \"namelength\": -1}, \"line\": {\"width\": 10}, \"marker\": {\"size\": 15}, \"mode\": \"lines+markers\", \"name\": \"DF\", \"type\": \"scatter\", \"visible\": \"legendonly\", \"x\": [\"2020-03-29\", \"2020-03-28\", \"2020-03-27\", \"2020-03-26\", \"2020-03-25\", \"2020-03-24\", \"2020-03-23\", \"2020-03-22\", \"2020-03-21\", \"2020-03-20\", \"2020-03-19\", \"2020-03-18\", \"2020-03-17\", \"2020-03-16\", \"2020-03-15\", \"2020-03-14\", \"2020-03-13\", \"2020-03-12\", \"2020-03-11\", \"2020-03-10\", \"2020-03-09\", \"2020-03-08\", \"2020-03-07\"], \"y\": [289, 260, 242, 203, 195, 177, 146, 134, 112, 108, 84, 36, 26, 19, 14, 8, 3, 3, 2, 2, 1, 1, 1]}, {\"hoverlabel\": {\"font\": {\"size\": 18}, \"namelength\": -1}, \"line\": {\"width\": 10}, \"marker\": {\"size\": 15}, \"mode\": \"lines+markers\", \"name\": \"ES\", \"type\": \"scatter\", \"visible\": \"legendonly\", \"x\": [\"2020-03-29\", \"2020-03-28\", \"2020-03-27\", \"2020-03-26\", \"2020-03-25\", \"2020-03-24\", \"2020-03-23\", \"2020-03-22\", \"2020-03-21\", \"2020-03-20\", \"2020-03-19\", \"2020-03-18\", \"2020-03-17\", \"2020-03-16\", \"2020-03-15\", \"2020-03-14\", \"2020-03-13\", \"2020-03-12\", \"2020-03-11\", \"2020-03-10\", \"2020-03-09\", \"2020-03-08\", \"2020-03-07\", \"2020-03-06\", \"2020-03-05\"], \"y\": [61, 61, 54, 48, 40, 40, 33, 26, 26, 16, 13, 11, 8, 8, 4, 4, 2, 2, 1, 1, 1, 1, 1, 1, 1]}, {\"hoverlabel\": {\"font\": {\"size\": 18}, \"namelength\": -1}, \"line\": {\"width\": 10}, \"marker\": {\"size\": 15}, \"mode\": \"lines+markers\", \"name\": \"GO\", \"type\": \"scatter\", \"visible\": \"legendonly\", \"x\": [\"2020-03-29\", \"2020-03-28\", \"2020-03-27\", \"2020-03-26\", \"2020-03-25\", \"2020-03-24\", \"2020-03-23\", \"2020-03-22\", \"2020-03-21\", \"2020-03-20\", \"2020-03-19\", \"2020-03-18\", \"2020-03-17\", \"2020-03-16\", \"2020-03-15\", \"2020-03-14\", \"2020-03-13\", \"2020-03-12\"], \"y\": [58, 56, 49, 39, 35, 29, 23, 21, 20, 18, 15, 12, 10, 9, 4, 4, 3, 3]}, {\"hoverlabel\": {\"font\": {\"size\": 18}, \"namelength\": -1}, \"line\": {\"width\": 10}, \"marker\": {\"size\": 15}, \"mode\": \"lines+markers\", \"name\": \"MA\", \"type\": \"scatter\", \"visible\": \"legendonly\", \"x\": [\"2020-03-29\", \"2020-03-28\", \"2020-03-27\", \"2020-03-26\", \"2020-03-25\", \"2020-03-24\", \"2020-03-23\", \"2020-03-22\", \"2020-03-21\", \"2020-03-20\"], \"y\": [22, 22, 14, 10, 8, 8, 8, 2, 2, 1]}, {\"hoverlabel\": {\"font\": {\"size\": 18}, \"namelength\": -1}, \"line\": {\"width\": 10}, \"marker\": {\"size\": 15}, \"mode\": \"lines+markers\", \"name\": \"MG\", \"type\": \"scatter\", \"visible\": \"legendonly\", \"x\": [\"2020-03-29\", \"2020-03-28\", \"2020-03-27\", \"2020-03-26\", \"2020-03-25\", \"2020-03-24\", \"2020-03-23\", \"2020-03-22\", \"2020-03-21\", \"2020-03-20\", \"2020-03-19\", \"2020-03-18\", \"2020-03-17\", \"2020-03-16\", \"2020-03-15\", \"2020-03-14\", \"2020-03-13\", \"2020-03-12\", \"2020-03-11\", \"2020-03-10\", \"2020-03-09\", \"2020-03-08\"], \"y\": [231, 205, 189, 148, 133, 130, 128, 83, 55, 38, 29, 20, 14, 7, 4, 4, 2, 2, 1, 1, 1, 1]}, {\"hoverlabel\": {\"font\": {\"size\": 18}, \"namelength\": -1}, \"line\": {\"width\": 10}, \"marker\": {\"size\": 15}, \"mode\": \"lines+markers\", \"name\": \"MS\", \"type\": \"scatter\", \"visible\": \"legendonly\", \"x\": [\"2020-03-29\", \"2020-03-28\", \"2020-03-27\", \"2020-03-26\", \"2020-03-25\", \"2020-03-24\", \"2020-03-23\", \"2020-03-22\", \"2020-03-21\", \"2020-03-20\", \"2020-03-19\", \"2020-03-18\", \"2020-03-17\", \"2020-03-16\", \"2020-03-15\", \"2020-03-14\"], \"y\": [36, 31, 28, 25, 24, 24, 21, 21, 16, 12, 9, 7, 6, 4, 2, 2]}, {\"hoverlabel\": {\"font\": {\"size\": 18}, \"namelength\": -1}, \"line\": {\"width\": 10}, \"marker\": {\"size\": 15}, \"mode\": \"lines+markers\", \"name\": \"MT\", \"type\": \"scatter\", \"visible\": \"legendonly\", \"x\": [\"2020-03-29\", \"2020-03-28\", \"2020-03-27\", \"2020-03-26\", \"2020-03-25\", \"2020-03-24\", \"2020-03-23\", \"2020-03-22\", \"2020-03-21\", \"2020-03-20\"], \"y\": [16, 13, 11, 11, 9, 7, 6, 2, 2, 1]}, {\"hoverlabel\": {\"font\": {\"size\": 18}, \"namelength\": -1}, \"line\": {\"width\": 10}, \"marker\": {\"size\": 15}, \"mode\": \"lines+markers\", \"name\": \"PA\", \"type\": \"scatter\", \"visible\": \"legendonly\", \"x\": [\"2020-03-29\", \"2020-03-28\", \"2020-03-27\", \"2020-03-26\", \"2020-03-25\", \"2020-03-24\", \"2020-03-23\", \"2020-03-22\", \"2020-03-21\", \"2020-03-20\", \"2020-03-19\", \"2020-03-18\"], \"y\": [18, 18, 16, 13, 9, 5, 5, 4, 2, 2, 1, 1]}, {\"hoverlabel\": {\"font\": {\"size\": 18}, \"namelength\": -1}, \"line\": {\"width\": 10}, \"marker\": {\"size\": 15}, \"mode\": \"lines+markers\", \"name\": \"PB\", \"type\": \"scatter\", \"visible\": \"legendonly\", \"x\": [\"2020-03-29\", \"2020-03-28\", \"2020-03-27\", \"2020-03-26\", \"2020-03-25\", \"2020-03-24\", \"2020-03-23\", \"2020-03-22\", \"2020-03-21\", \"2020-03-20\", \"2020-03-19\", \"2020-03-18\"], \"y\": [14, 14, 9, 6, 5, 3, 2, 1, 1, 1, 1, 1]}, {\"hoverlabel\": {\"font\": {\"size\": 18}, \"namelength\": -1}, \"line\": {\"width\": 10}, \"marker\": {\"size\": 15}, \"mode\": \"lines+markers\", \"name\": \"PE\", \"type\": \"scatter\", \"visible\": \"legendonly\", \"x\": [\"2020-03-29\", \"2020-03-28\", \"2020-03-27\", \"2020-03-26\", \"2020-03-25\", \"2020-03-24\", \"2020-03-23\", \"2020-03-22\", \"2020-03-21\", \"2020-03-20\", \"2020-03-19\", \"2020-03-18\", \"2020-03-17\", \"2020-03-16\", \"2020-03-15\", \"2020-03-14\", \"2020-03-13\", \"2020-03-12\"], \"y\": [73, 68, 57, 48, 46, 42, 42, 37, 33, 31, 28, 22, 19, 18, 8, 7, 2, 2]}, {\"hoverlabel\": {\"font\": {\"size\": 18}, \"namelength\": -1}, \"line\": {\"width\": 10}, \"marker\": {\"size\": 15}, \"mode\": \"lines+markers\", \"name\": \"PI\", \"type\": \"scatter\", \"visible\": \"legendonly\", \"x\": [\"2020-03-29\", \"2020-03-28\", \"2020-03-27\", \"2020-03-26\", \"2020-03-25\", \"2020-03-24\", \"2020-03-23\", \"2020-03-22\", \"2020-03-21\", \"2020-03-20\", \"2020-03-19\"], \"y\": [14, 11, 9, 9, 8, 8, 6, 6, 4, 4, 3]}, {\"hoverlabel\": {\"font\": {\"size\": 18}, \"namelength\": -1}, \"line\": {\"width\": 10}, \"marker\": {\"size\": 15}, \"mode\": \"lines+markers\", \"name\": \"PR\", \"type\": \"scatter\", \"visible\": \"legendonly\", \"x\": [\"2020-03-29\", \"2020-03-28\", \"2020-03-27\", \"2020-03-26\", \"2020-03-25\", \"2020-03-24\", \"2020-03-23\", \"2020-03-22\", \"2020-03-21\", \"2020-03-20\", \"2020-03-19\", \"2020-03-18\", \"2020-03-17\", \"2020-03-16\", \"2020-03-15\", \"2020-03-14\", \"2020-03-13\", \"2020-03-12\"], \"y\": [148, 137, 125, 106, 97, 69, 60, 54, 43, 36, 23, 14, 12, 8, 6, 6, 6, 6]}, {\"hoverlabel\": {\"font\": {\"size\": 18}, \"namelength\": -1}, \"line\": {\"width\": 10}, \"marker\": {\"size\": 15}, \"mode\": \"lines+markers\", \"name\": \"RN\", \"type\": \"scatter\", \"visible\": \"legendonly\", \"x\": [\"2020-03-29\", \"2020-03-28\", \"2020-03-27\", \"2020-03-26\", \"2020-03-25\", \"2020-03-24\", \"2020-03-23\", \"2020-03-22\", \"2020-03-21\", \"2020-03-20\", \"2020-03-19\", \"2020-03-18\", \"2020-03-17\", \"2020-03-16\", \"2020-03-15\", \"2020-03-14\", \"2020-03-13\", \"2020-03-12\"], \"y\": [68, 45, 28, 19, 14, 14, 13, 13, 9, 6, 1, 1, 1, 1, 1, 1, 1, 1]}, {\"hoverlabel\": {\"font\": {\"size\": 18}, \"namelength\": -1}, \"line\": {\"width\": 10}, \"marker\": {\"size\": 15}, \"mode\": \"lines+markers\", \"name\": \"RO\", \"type\": \"scatter\", \"visible\": \"legendonly\", \"x\": [\"2020-03-29\", \"2020-03-28\", \"2020-03-27\", \"2020-03-26\", \"2020-03-25\", \"2020-03-24\", \"2020-03-23\", \"2020-03-22\", \"2020-03-21\", \"2020-03-20\", \"2020-03-19\"], \"y\": [6, 6, 6, 6, 5, 5, 3, 3, 3, 1, 1]}, {\"hoverlabel\": {\"font\": {\"size\": 18}, \"namelength\": -1}, \"line\": {\"width\": 10}, \"marker\": {\"size\": 15}, \"mode\": \"lines+markers\", \"name\": \"RR\", \"type\": \"scatter\", \"visible\": \"legendonly\", \"x\": [\"2020-03-29\", \"2020-03-28\", \"2020-03-27\", \"2020-03-26\", \"2020-03-25\", \"2020-03-24\", \"2020-03-23\", \"2020-03-22\", \"2020-03-21\"], \"y\": [16, 12, 12, 10, 8, 8, 2, 2, 2]}, {\"hoverlabel\": {\"font\": {\"size\": 18}, \"namelength\": -1}, \"line\": {\"width\": 10}, \"marker\": {\"size\": 15}, \"mode\": \"lines+markers\", \"name\": \"RS\", \"type\": \"scatter\", \"visible\": \"legendonly\", \"x\": [\"2020-03-29\", \"2020-03-28\", \"2020-03-27\", \"2020-03-26\", \"2020-03-25\", \"2020-03-24\", \"2020-03-23\", \"2020-03-22\", \"2020-03-21\", \"2020-03-20\", \"2020-03-19\", \"2020-03-18\", \"2020-03-17\", \"2020-03-16\", \"2020-03-15\", \"2020-03-14\", \"2020-03-13\", \"2020-03-12\", \"2020-03-11\", \"2020-03-10\"], \"y\": [226, 200, 197, 190, 162, 113, 96, 85, 72, 60, 37, 28, 19, 11, 7, 7, 6, 4, 2, 1]}, {\"hoverlabel\": {\"font\": {\"size\": 18}, \"namelength\": -1}, \"line\": {\"width\": 10}, \"marker\": {\"size\": 15}, \"mode\": \"lines+markers\", \"name\": \"SC\", \"type\": \"scatter\", \"visible\": \"legendonly\", \"x\": [\"2020-03-29\", \"2020-03-28\", \"2020-03-27\", \"2020-03-26\", \"2020-03-25\", \"2020-03-24\", \"2020-03-23\", \"2020-03-22\", \"2020-03-21\", \"2020-03-20\", \"2020-03-19\", \"2020-03-18\", \"2020-03-17\", \"2020-03-16\", \"2020-03-15\", \"2020-03-14\", \"2020-03-13\", \"2020-03-12\"], \"y\": [194, 184, 163, 149, 122, 110, 87, 69, 58, 41, 22, 15, 7, 7, 6, 5, 3, 2]}, {\"hoverlabel\": {\"font\": {\"size\": 18}, \"namelength\": -1}, \"line\": {\"width\": 10}, \"marker\": {\"size\": 15}, \"mode\": \"lines+markers\", \"name\": \"SE\", \"type\": \"scatter\", \"visible\": \"legendonly\", \"x\": [\"2020-03-29\", \"2020-03-28\", \"2020-03-27\", \"2020-03-26\", \"2020-03-25\", \"2020-03-24\", \"2020-03-23\", \"2020-03-22\", \"2020-03-21\", \"2020-03-20\", \"2020-03-19\", \"2020-03-18\", \"2020-03-17\", \"2020-03-16\", \"2020-03-15\", \"2020-03-14\"], \"y\": [16, 16, 16, 16, 16, 15, 10, 10, 10, 7, 6, 6, 5, 5, 1, 1]}, {\"hoverlabel\": {\"font\": {\"size\": 18}, \"namelength\": -1}, \"line\": {\"width\": 10}, \"marker\": {\"size\": 15}, \"mode\": \"lines+markers\", \"name\": \"TO\", \"type\": \"scatter\", \"visible\": \"legendonly\", \"x\": [\"2020-03-29\", \"2020-03-28\", \"2020-03-27\", \"2020-03-26\", \"2020-03-25\", \"2020-03-24\", \"2020-03-23\", \"2020-03-22\", \"2020-03-21\", \"2020-03-20\", \"2020-03-19\", \"2020-03-18\"], \"y\": [9, 9, 8, 8, 7, 7, 7, 5, 2, 1, 1, 1]}],\n",
       "                        {\"barmode\": \"stack\", \"font\": {\"size\": 18}, \"height\": 800, \"legend\": {\"bgcolor\": \"rgba(0,0,0,0)\", \"font\": {\"color\": \"black\", \"family\": \"sans-serif\", \"size\": 20}, \"orientation\": \"v\"}, \"template\": {\"data\": {\"bar\": [{\"error_x\": {\"color\": \"#2a3f5f\"}, \"error_y\": {\"color\": \"#2a3f5f\"}, \"marker\": {\"line\": {\"color\": \"#E5ECF6\", \"width\": 0.5}}, \"type\": \"bar\"}], \"barpolar\": [{\"marker\": {\"line\": {\"color\": \"#E5ECF6\", \"width\": 0.5}}, \"type\": \"barpolar\"}], \"carpet\": [{\"aaxis\": {\"endlinecolor\": \"#2a3f5f\", \"gridcolor\": \"white\", \"linecolor\": \"white\", \"minorgridcolor\": \"white\", \"startlinecolor\": \"#2a3f5f\"}, \"baxis\": {\"endlinecolor\": \"#2a3f5f\", \"gridcolor\": \"white\", \"linecolor\": \"white\", \"minorgridcolor\": \"white\", \"startlinecolor\": \"#2a3f5f\"}, \"type\": \"carpet\"}], \"choropleth\": [{\"colorbar\": {\"outlinewidth\": 0, \"ticks\": \"\"}, \"type\": \"choropleth\"}], \"contour\": [{\"colorbar\": {\"outlinewidth\": 0, \"ticks\": \"\"}, \"colorscale\": [[0.0, \"#0d0887\"], [0.1111111111111111, \"#46039f\"], [0.2222222222222222, \"#7201a8\"], [0.3333333333333333, \"#9c179e\"], [0.4444444444444444, \"#bd3786\"], [0.5555555555555556, \"#d8576b\"], [0.6666666666666666, \"#ed7953\"], [0.7777777777777778, \"#fb9f3a\"], [0.8888888888888888, \"#fdca26\"], [1.0, \"#f0f921\"]], \"type\": \"contour\"}], \"contourcarpet\": [{\"colorbar\": {\"outlinewidth\": 0, \"ticks\": \"\"}, \"type\": \"contourcarpet\"}], \"heatmap\": [{\"colorbar\": {\"outlinewidth\": 0, \"ticks\": \"\"}, \"colorscale\": [[0.0, \"#0d0887\"], [0.1111111111111111, \"#46039f\"], [0.2222222222222222, \"#7201a8\"], [0.3333333333333333, \"#9c179e\"], [0.4444444444444444, \"#bd3786\"], [0.5555555555555556, \"#d8576b\"], [0.6666666666666666, \"#ed7953\"], [0.7777777777777778, \"#fb9f3a\"], [0.8888888888888888, \"#fdca26\"], [1.0, \"#f0f921\"]], \"type\": \"heatmap\"}], \"heatmapgl\": [{\"colorbar\": {\"outlinewidth\": 0, \"ticks\": \"\"}, \"colorscale\": [[0.0, \"#0d0887\"], [0.1111111111111111, \"#46039f\"], [0.2222222222222222, \"#7201a8\"], [0.3333333333333333, \"#9c179e\"], [0.4444444444444444, \"#bd3786\"], [0.5555555555555556, \"#d8576b\"], [0.6666666666666666, \"#ed7953\"], [0.7777777777777778, \"#fb9f3a\"], [0.8888888888888888, \"#fdca26\"], [1.0, \"#f0f921\"]], \"type\": \"heatmapgl\"}], \"histogram\": [{\"marker\": {\"colorbar\": {\"outlinewidth\": 0, \"ticks\": \"\"}}, \"type\": \"histogram\"}], \"histogram2d\": [{\"colorbar\": {\"outlinewidth\": 0, \"ticks\": \"\"}, \"colorscale\": [[0.0, \"#0d0887\"], [0.1111111111111111, \"#46039f\"], [0.2222222222222222, \"#7201a8\"], [0.3333333333333333, \"#9c179e\"], [0.4444444444444444, \"#bd3786\"], [0.5555555555555556, \"#d8576b\"], [0.6666666666666666, \"#ed7953\"], [0.7777777777777778, \"#fb9f3a\"], [0.8888888888888888, \"#fdca26\"], [1.0, \"#f0f921\"]], \"type\": \"histogram2d\"}], \"histogram2dcontour\": [{\"colorbar\": {\"outlinewidth\": 0, \"ticks\": \"\"}, \"colorscale\": [[0.0, \"#0d0887\"], [0.1111111111111111, \"#46039f\"], [0.2222222222222222, \"#7201a8\"], [0.3333333333333333, \"#9c179e\"], [0.4444444444444444, \"#bd3786\"], [0.5555555555555556, \"#d8576b\"], [0.6666666666666666, \"#ed7953\"], [0.7777777777777778, \"#fb9f3a\"], [0.8888888888888888, \"#fdca26\"], [1.0, \"#f0f921\"]], \"type\": \"histogram2dcontour\"}], \"mesh3d\": [{\"colorbar\": {\"outlinewidth\": 0, \"ticks\": \"\"}, \"type\": \"mesh3d\"}], \"parcoords\": [{\"line\": {\"colorbar\": {\"outlinewidth\": 0, \"ticks\": \"\"}}, \"type\": \"parcoords\"}], \"pie\": [{\"automargin\": true, \"type\": \"pie\"}], \"scatter\": [{\"marker\": {\"colorbar\": {\"outlinewidth\": 0, \"ticks\": \"\"}}, \"type\": \"scatter\"}], \"scatter3d\": [{\"line\": {\"colorbar\": {\"outlinewidth\": 0, \"ticks\": \"\"}}, \"marker\": {\"colorbar\": {\"outlinewidth\": 0, \"ticks\": \"\"}}, \"type\": \"scatter3d\"}], \"scattercarpet\": [{\"marker\": {\"colorbar\": {\"outlinewidth\": 0, \"ticks\": \"\"}}, \"type\": \"scattercarpet\"}], \"scattergeo\": [{\"marker\": {\"colorbar\": {\"outlinewidth\": 0, \"ticks\": \"\"}}, \"type\": \"scattergeo\"}], \"scattergl\": [{\"marker\": {\"colorbar\": {\"outlinewidth\": 0, \"ticks\": \"\"}}, \"type\": \"scattergl\"}], \"scattermapbox\": [{\"marker\": {\"colorbar\": {\"outlinewidth\": 0, \"ticks\": \"\"}}, \"type\": \"scattermapbox\"}], \"scatterpolar\": [{\"marker\": {\"colorbar\": {\"outlinewidth\": 0, \"ticks\": \"\"}}, \"type\": \"scatterpolar\"}], \"scatterpolargl\": [{\"marker\": {\"colorbar\": {\"outlinewidth\": 0, \"ticks\": \"\"}}, \"type\": \"scatterpolargl\"}], \"scatterternary\": [{\"marker\": {\"colorbar\": {\"outlinewidth\": 0, \"ticks\": \"\"}}, \"type\": \"scatterternary\"}], \"surface\": [{\"colorbar\": {\"outlinewidth\": 0, \"ticks\": \"\"}, \"colorscale\": [[0.0, \"#0d0887\"], [0.1111111111111111, \"#46039f\"], [0.2222222222222222, \"#7201a8\"], [0.3333333333333333, \"#9c179e\"], [0.4444444444444444, \"#bd3786\"], [0.5555555555555556, \"#d8576b\"], [0.6666666666666666, \"#ed7953\"], [0.7777777777777778, \"#fb9f3a\"], [0.8888888888888888, \"#fdca26\"], [1.0, \"#f0f921\"]], \"type\": \"surface\"}], \"table\": [{\"cells\": {\"fill\": {\"color\": \"#EBF0F8\"}, \"line\": {\"color\": \"white\"}}, \"header\": {\"fill\": {\"color\": \"#C8D4E3\"}, \"line\": {\"color\": \"white\"}}, \"type\": \"table\"}]}, \"layout\": {\"annotationdefaults\": {\"arrowcolor\": \"#2a3f5f\", \"arrowhead\": 0, \"arrowwidth\": 1}, \"coloraxis\": {\"colorbar\": {\"outlinewidth\": 0, \"ticks\": \"\"}}, \"colorscale\": {\"diverging\": [[0, \"#8e0152\"], [0.1, \"#c51b7d\"], [0.2, \"#de77ae\"], [0.3, \"#f1b6da\"], [0.4, \"#fde0ef\"], [0.5, \"#f7f7f7\"], [0.6, \"#e6f5d0\"], [0.7, \"#b8e186\"], [0.8, \"#7fbc41\"], [0.9, \"#4d9221\"], [1, \"#276419\"]], \"sequential\": [[0.0, \"#0d0887\"], [0.1111111111111111, \"#46039f\"], [0.2222222222222222, \"#7201a8\"], [0.3333333333333333, \"#9c179e\"], [0.4444444444444444, \"#bd3786\"], [0.5555555555555556, \"#d8576b\"], [0.6666666666666666, \"#ed7953\"], [0.7777777777777778, \"#fb9f3a\"], [0.8888888888888888, \"#fdca26\"], [1.0, \"#f0f921\"]], \"sequentialminus\": [[0.0, \"#0d0887\"], [0.1111111111111111, \"#46039f\"], [0.2222222222222222, \"#7201a8\"], [0.3333333333333333, \"#9c179e\"], [0.4444444444444444, \"#bd3786\"], [0.5555555555555556, \"#d8576b\"], [0.6666666666666666, \"#ed7953\"], [0.7777777777777778, \"#fb9f3a\"], [0.8888888888888888, \"#fdca26\"], [1.0, \"#f0f921\"]]}, \"colorway\": [\"#636efa\", \"#EF553B\", \"#00cc96\", \"#ab63fa\", \"#FFA15A\", \"#19d3f3\", \"#FF6692\", \"#B6E880\", \"#FF97FF\", \"#FECB52\"], \"font\": {\"color\": \"#2a3f5f\"}, \"geo\": {\"bgcolor\": \"white\", \"lakecolor\": \"white\", \"landcolor\": \"#E5ECF6\", \"showlakes\": true, \"showland\": true, \"subunitcolor\": \"white\"}, \"hoverlabel\": {\"align\": \"left\"}, \"hovermode\": \"closest\", \"mapbox\": {\"style\": \"light\"}, \"paper_bgcolor\": \"white\", \"plot_bgcolor\": \"#E5ECF6\", \"polar\": {\"angularaxis\": {\"gridcolor\": \"white\", \"linecolor\": \"white\", \"ticks\": \"\"}, \"bgcolor\": \"#E5ECF6\", \"radialaxis\": {\"gridcolor\": \"white\", \"linecolor\": \"white\", \"ticks\": \"\"}}, \"scene\": {\"xaxis\": {\"backgroundcolor\": \"#E5ECF6\", \"gridcolor\": \"white\", \"gridwidth\": 2, \"linecolor\": \"white\", \"showbackground\": true, \"ticks\": \"\", \"zerolinecolor\": \"white\"}, \"yaxis\": {\"backgroundcolor\": \"#E5ECF6\", \"gridcolor\": \"white\", \"gridwidth\": 2, \"linecolor\": \"white\", \"showbackground\": true, \"ticks\": \"\", \"zerolinecolor\": \"white\"}, \"zaxis\": {\"backgroundcolor\": \"#E5ECF6\", \"gridcolor\": \"white\", \"gridwidth\": 2, \"linecolor\": \"white\", \"showbackground\": true, \"ticks\": \"\", \"zerolinecolor\": \"white\"}}, \"shapedefaults\": {\"line\": {\"color\": \"#2a3f5f\"}}, \"ternary\": {\"aaxis\": {\"gridcolor\": \"white\", \"linecolor\": \"white\", \"ticks\": \"\"}, \"baxis\": {\"gridcolor\": \"white\", \"linecolor\": \"white\", \"ticks\": \"\"}, \"bgcolor\": \"#E5ECF6\", \"caxis\": {\"gridcolor\": \"white\", \"linecolor\": \"white\", \"ticks\": \"\"}}, \"title\": {\"x\": 0.05}, \"xaxis\": {\"automargin\": true, \"gridcolor\": \"white\", \"linecolor\": \"white\", \"ticks\": \"\", \"title\": {\"standoff\": 15}, \"zerolinecolor\": \"white\", \"zerolinewidth\": 2}, \"yaxis\": {\"automargin\": true, \"gridcolor\": \"white\", \"linecolor\": \"white\", \"ticks\": \"\", \"title\": {\"standoff\": 15}, \"zerolinecolor\": \"white\", \"zerolinewidth\": 2}}}, \"title\": {\"font\": {\"size\": 22}, \"text\": \"<b>CASOS POR ESTADO EM 25/03/2020<b>\", \"x\": 0.5, \"xanchor\": \"center\", \"yanchor\": \"top\"}, \"xaxis\": {\"tickfont\": {\"color\": \"black\", \"size\": 22}, \"tickformat\": \"%d/%m\", \"title\": {\"text\": \"<b>DATA<b>\"}}, \"yaxis\": {\"tickfont\": {\"color\": \"black\", \"size\": 22}, \"tickformat\": \"n\", \"title\": {\"text\": \"<b>CASOS CONFIRMADAS<b>\"}}},\n",
       "                        {\"responsive\": true}\n",
       "                    ).then(function(){\n",
       "                            \n",
       "var gd = document.getElementById('5d5fb80c-c465-4d38-9981-50d5815528db');\n",
       "var x = new MutationObserver(function (mutations, observer) {{\n",
       "        var display = window.getComputedStyle(gd).display;\n",
       "        if (!display || display === 'none') {{\n",
       "            console.log([gd, 'removed!']);\n",
       "            Plotly.purge(gd);\n",
       "            observer.disconnect();\n",
       "        }}\n",
       "}});\n",
       "\n",
       "// Listen for the removal of the full notebook cells\n",
       "var notebookContainer = gd.closest('#notebook-container');\n",
       "if (notebookContainer) {{\n",
       "    x.observe(notebookContainer, {childList: true});\n",
       "}}\n",
       "\n",
       "// Listen for the clearing of the current output cell\n",
       "var outputEl = gd.closest('.output');\n",
       "if (outputEl) {{\n",
       "    x.observe(outputEl, {childList: true});\n",
       "}}\n",
       "\n",
       "                        })\n",
       "                };\n",
       "                });\n",
       "            </script>\n",
       "        </div>"
      ]
     },
     "metadata": {},
     "output_type": "display_data"
    }
   ],
   "source": [
    "fig"
   ]
  },
  {
   "cell_type": "code",
   "execution_count": null,
   "metadata": {},
   "outputs": [],
   "source": []
  },
  {
   "cell_type": "code",
   "execution_count": null,
   "metadata": {},
   "outputs": [],
   "source": []
  },
  {
   "cell_type": "code",
   "execution_count": null,
   "metadata": {},
   "outputs": [],
   "source": []
  },
  {
   "cell_type": "code",
   "execution_count": null,
   "metadata": {},
   "outputs": [],
   "source": []
  },
  {
   "cell_type": "code",
   "execution_count": null,
   "metadata": {},
   "outputs": [],
   "source": []
  },
  {
   "cell_type": "code",
   "execution_count": null,
   "metadata": {},
   "outputs": [],
   "source": []
  },
  {
   "cell_type": "code",
   "execution_count": null,
   "metadata": {},
   "outputs": [],
   "source": []
  },
  {
   "cell_type": "code",
   "execution_count": null,
   "metadata": {},
   "outputs": [],
   "source": []
  },
  {
   "cell_type": "code",
   "execution_count": null,
   "metadata": {},
   "outputs": [],
   "source": []
  },
  {
   "cell_type": "code",
   "execution_count": null,
   "metadata": {},
   "outputs": [],
   "source": []
  },
  {
   "cell_type": "code",
   "execution_count": null,
   "metadata": {},
   "outputs": [],
   "source": []
  },
  {
   "cell_type": "code",
   "execution_count": null,
   "metadata": {},
   "outputs": [],
   "source": []
  },
  {
   "cell_type": "code",
   "execution_count": null,
   "metadata": {},
   "outputs": [],
   "source": []
  },
  {
   "cell_type": "code",
   "execution_count": null,
   "metadata": {},
   "outputs": [],
   "source": []
  },
  {
   "cell_type": "code",
   "execution_count": null,
   "metadata": {},
   "outputs": [],
   "source": []
  },
  {
   "cell_type": "code",
   "execution_count": null,
   "metadata": {},
   "outputs": [],
   "source": []
  },
  {
   "cell_type": "code",
   "execution_count": null,
   "metadata": {},
   "outputs": [],
   "source": []
  },
  {
   "cell_type": "code",
   "execution_count": 70,
   "metadata": {},
   "outputs": [
    {
     "data": {
      "text/html": [
       "<div>\n",
       "<style scoped>\n",
       "    .dataframe tbody tr th:only-of-type {\n",
       "        vertical-align: middle;\n",
       "    }\n",
       "\n",
       "    .dataframe tbody tr th {\n",
       "        vertical-align: top;\n",
       "    }\n",
       "\n",
       "    .dataframe thead th {\n",
       "        text-align: right;\n",
       "    }\n",
       "</style>\n",
       "<table border=\"1\" class=\"dataframe\">\n",
       "  <thead>\n",
       "    <tr style=\"text-align: right;\">\n",
       "      <th></th>\n",
       "      <th>obitos</th>\n",
       "      <th>faixa</th>\n",
       "    </tr>\n",
       "  </thead>\n",
       "  <tbody>\n",
       "    <tr>\n",
       "      <th>4</th>\n",
       "      <td>76</td>\n",
       "      <td>60+</td>\n",
       "    </tr>\n",
       "    <tr>\n",
       "      <th>3</th>\n",
       "      <td>6</td>\n",
       "      <td>40 a 59</td>\n",
       "    </tr>\n",
       "    <tr>\n",
       "      <th>2</th>\n",
       "      <td>3</td>\n",
       "      <td>20 a 39</td>\n",
       "    </tr>\n",
       "    <tr>\n",
       "      <th>0</th>\n",
       "      <td>0</td>\n",
       "      <td>0 a 9</td>\n",
       "    </tr>\n",
       "    <tr>\n",
       "      <th>1</th>\n",
       "      <td>0</td>\n",
       "      <td>10 a 19</td>\n",
       "    </tr>\n",
       "  </tbody>\n",
       "</table>\n",
       "</div>"
      ],
      "text/plain": [
       "  obitos    faixa\n",
       "4     76      60+\n",
       "3      6  40 a 59\n",
       "2      3  20 a 39\n",
       "0      0    0 a 9\n",
       "1      0  10 a 19"
      ]
     },
     "execution_count": 70,
     "metadata": {},
     "output_type": "execute_result"
    }
   ],
   "source": [
    "# x = [0, 0, 3, 6, 76]\n",
    "# y = ['0 a 9','10 a 19','20 a 39','40 a 59', '60+']\n",
    "\n",
    "# df = pd.DataFrame(data=np.array([x,y]).T, columns=['obitos','faixa'])\n",
    "# df.sort_values(by='obitos', ascending=False)"
   ]
  },
  {
   "cell_type": "code",
   "execution_count": 77,
   "metadata": {},
   "outputs": [],
   "source": [
    "\n",
    "\n",
    "# title  = 'Óbitos por Faixa Etária'\n",
    "# x_name = 'Óbitos'\n",
    "# y_name = 'Faixa Etária'\n",
    "\n",
    "# trace = go.Bar(\n",
    "#     orientation='h',\n",
    "#     x = df['obitos'],\n",
    "#     y = df['faixa']\n",
    "# )\n",
    "\n",
    "# data = [trace]\n",
    "\n",
    "# layout = go.Layout(\n",
    "#     barmode='stack',\n",
    "    \n",
    "#     yaxis_title=y_name,\n",
    "#     yaxis = dict(\n",
    "#         tickfont=dict(\n",
    "#             size=22,\n",
    "#             color='black',\n",
    "#         ),\n",
    "#     ),\n",
    "#     xaxis_title=x_name,\n",
    "#     xaxis = dict(\n",
    "#         tickfont=dict(\n",
    "#             size=22,\n",
    "#             color='black',\n",
    "#         ),\n",
    "# #         font = dict(size=20)\n",
    "\n",
    "#     ),\n",
    "    \n",
    "#     font=dict(\n",
    "#             size=25,\n",
    "#         ),\n",
    "\n",
    "#     width  = 800,\n",
    "#     height = 800,\n",
    "# )\n",
    "\n",
    "# fig = go.Figure(data=data, layout=layout)\n",
    "# fig"
   ]
  },
  {
   "cell_type": "code",
   "execution_count": null,
   "metadata": {},
   "outputs": [],
   "source": []
  },
  {
   "cell_type": "code",
   "execution_count": null,
   "metadata": {},
   "outputs": [],
   "source": []
  },
  {
   "cell_type": "code",
   "execution_count": null,
   "metadata": {},
   "outputs": [],
   "source": []
  },
  {
   "cell_type": "code",
   "execution_count": null,
   "metadata": {},
   "outputs": [],
   "source": []
  },
  {
   "cell_type": "code",
   "execution_count": null,
   "metadata": {},
   "outputs": [],
   "source": []
  },
  {
   "cell_type": "code",
   "execution_count": null,
   "metadata": {},
   "outputs": [],
   "source": []
  },
  {
   "cell_type": "code",
   "execution_count": null,
   "metadata": {},
   "outputs": [],
   "source": []
  },
  {
   "cell_type": "code",
   "execution_count": null,
   "metadata": {},
   "outputs": [],
   "source": []
  },
  {
   "cell_type": "code",
   "execution_count": null,
   "metadata": {},
   "outputs": [],
   "source": []
  },
  {
   "cell_type": "code",
   "execution_count": null,
   "metadata": {},
   "outputs": [],
   "source": []
  }
 ],
 "metadata": {
  "kernelspec": {
   "display_name": "Python 3",
   "language": "python",
   "name": "python3"
  },
  "language_info": {
   "codemirror_mode": {
    "name": "ipython",
    "version": 3
   },
   "file_extension": ".py",
   "mimetype": "text/x-python",
   "name": "python",
   "nbconvert_exporter": "python",
   "pygments_lexer": "ipython3",
   "version": "3.7.4"
  }
 },
 "nbformat": 4,
 "nbformat_minor": 4
}
