{
 "cells": [
  {
   "cell_type": "code",
   "execution_count": 1,
   "metadata": {},
   "outputs": [],
   "source": [
    "%reload_ext autoreload\n",
    "%autoreload 2\n",
    "\n",
    "import warnings\n",
    "warnings.filterwarnings('ignore')\n",
    "\n",
    "import numpy as np\n",
    "import pandas as pd\n",
    "pd.options.display.max_columns = 999\n",
    "pd.options.display.max_rows = 999\n",
    "pd.options.display.max_colwidth = 100\n",
    "\n",
    "import geopandas as gpd\n",
    "\n",
    "import plotly.graph_objs as go\n",
    "from plotly.offline import download_plotlyjs, init_notebook_mode, plot, iplot, offline\n",
    "import plotly.express as px\n",
    "import seaborn as sns\n",
    "import matplotlib.pyplot as plt\n",
    "\n",
    "import requests\n",
    "\n",
    "from os import listdir\n",
    "import unicodedata\n",
    "\n",
    "import json\n",
    "\n",
    "from paths import *\n",
    "from tools.vizu import remove_acentos\n",
    "from tools.vizu import normalize_cols\n",
    "from tools.io import read_sheets\n",
    "\n",
    "\n",
    "from datetime import datetime\n",
    "today = datetime.today().strftime('%Y-%m-%d')\n",
    "\n",
    "\n",
    "import yaml"
   ]
  },
  {
   "cell_type": "code",
   "execution_count": null,
   "metadata": {},
   "outputs": [],
   "source": []
  },
  {
   "cell_type": "markdown",
   "metadata": {},
   "source": [
    "# Brasil.IO"
   ]
  },
  {
   "cell_type": "code",
   "execution_count": 2,
   "metadata": {
    "scrolled": true
   },
   "outputs": [
    {
     "name": "stdout",
     "output_type": "stream",
     "text": [
      "https://brasil.io/api/dataset/covid19/caso/data?format=json\n",
      "https://brasil.io/api/dataset/covid19/caso/data?format=json&page=2\n",
      "https://brasil.io/api/dataset/covid19/caso/data?format=json&page=3\n",
      "https://brasil.io/api/dataset/covid19/caso/data?format=json&page=4\n"
     ]
    }
   ],
   "source": [
    "####### IMPORT DATA ######\n",
    "url = 'https://brasil.io/api/dataset/covid19/caso/data?format=json'\n",
    "df_final = pd.DataFrame()\n",
    "\n",
    "while url != None:\n",
    "    \n",
    "    print(url)\n",
    "    response = requests.get(url)\n",
    "    data = response.text\n",
    "    parsed = json.loads(data)\n",
    "    url = parsed['next']\n",
    "    df = pd.DataFrame(parsed['results']).sort_values(by='confirmed',ascending=False)\n",
    "    df_final = pd.concat([df_final,df], axis=0)"
   ]
  },
  {
   "cell_type": "code",
   "execution_count": 3,
   "metadata": {},
   "outputs": [],
   "source": [
    "brio = df_final.copy()\n",
    "\n",
    "mask = ((brio['is_last']==True) & (brio['place_type']=='city') & (brio['confirmed_per_100k_inhabitants'].notnull()))\n",
    "cols = ['city_ibge_code','city','confirmed','deaths','date','state']\n",
    "brio = brio[mask][cols]"
   ]
  },
  {
   "cell_type": "code",
   "execution_count": null,
   "metadata": {},
   "outputs": [],
   "source": []
  },
  {
   "cell_type": "markdown",
   "metadata": {},
   "source": [
    "## transformation"
   ]
  },
  {
   "cell_type": "code",
   "execution_count": 4,
   "metadata": {},
   "outputs": [],
   "source": [
    "from tools.manipulation import create_br_not_sp\n",
    "\n",
    "df = df_final.sort_values(by='confirmed',ascending=False)\n",
    "dd = create_br_not_sp(df)\n",
    "\n",
    "### GET ONLY LAST DAY\n",
    "mask = dd['date'] < today\n",
    "dd = dd[mask]\n",
    "\n",
    "dd = dd.sort_values(by=['date'],ascending=False)\n",
    "dd = dd.sort_values(by=['confirmed'],ascending=False)\n",
    "\n",
    "# get only the states\n",
    "mask = ((dd['place_type']!='city'))\n",
    "df_states = dd[mask]\n",
    "df_states = df_states.sort_values(by=['date'],ascending=False)"
   ]
  },
  {
   "cell_type": "code",
   "execution_count": null,
   "metadata": {},
   "outputs": [],
   "source": []
  },
  {
   "cell_type": "markdown",
   "metadata": {},
   "source": [
    "# Import Data"
   ]
  },
  {
   "cell_type": "code",
   "execution_count": 5,
   "metadata": {},
   "outputs": [],
   "source": [
    "df = pd.read_csv('https://raw.githubusercontent.com/wcota/covid19br/master/cases-brazil-states.csv')\n",
    "df['state'] = df['state'].str.replace('TOTAL','BRASIL')\n",
    "df.to_csv('brasil_states.csv', index=False)\n",
    "dd = df.copy()"
   ]
  },
  {
   "cell_type": "code",
   "execution_count": 6,
   "metadata": {},
   "outputs": [],
   "source": [
    "dd = dd.drop(['country','deaths'],1)"
   ]
  },
  {
   "cell_type": "code",
   "execution_count": 7,
   "metadata": {},
   "outputs": [],
   "source": [
    "# dd.tail(30)"
   ]
  },
  {
   "cell_type": "markdown",
   "metadata": {},
   "source": [
    "## MYTABLE"
   ]
  },
  {
   "cell_type": "code",
   "execution_count": 8,
   "metadata": {},
   "outputs": [],
   "source": [
    "from tools.io import read_sheets\n",
    "df = read_sheets('covid19_estados')"
   ]
  },
  {
   "cell_type": "code",
   "execution_count": 9,
   "metadata": {},
   "outputs": [],
   "source": [
    "# ddf = pd.merge(dd , df, on=['date','state'], how='left')\n",
    "# ddf['confirmed'] = ddf['totalCases']\n",
    "# ddf['new_cases'] = ddf['newCases']\n",
    "# ddf = ddf.drop(['city','newCases','totalCases'],1)\n",
    "# df  = ddf.copy()"
   ]
  },
  {
   "cell_type": "code",
   "execution_count": 10,
   "metadata": {},
   "outputs": [],
   "source": [
    "for col in ['confirmed','new_cases','deaths','new_deaths']:\n",
    "    df[col] = pd.to_numeric(df[col])"
   ]
  },
  {
   "cell_type": "code",
   "execution_count": 11,
   "metadata": {},
   "outputs": [],
   "source": [
    "# mask = df['new_deaths'].notnull()\n",
    "# df = df[mask]"
   ]
  },
  {
   "cell_type": "code",
   "execution_count": 12,
   "metadata": {},
   "outputs": [],
   "source": [
    "df_states = df.sort_values(by=['date','confirmed'], ascending=False)\n",
    "df_states['city'] = df_states['state']\n",
    "df_states.head()\n",
    "\n",
    "mask = (df_states['state']!='BRASIL') & (df_states['state']!='SP')\n",
    "not_sp = df_states[mask].groupby(by=['date'], as_index=False).sum()\n",
    "\n",
    "not_sp['state'] = 'BRASIL SEM SP'\n",
    "not_sp['city'] = 'BRASIL SEM SP'\n",
    "df_states = pd.concat([df_states,not_sp[df_states.columns]],axis=0)\n"
   ]
  },
  {
   "cell_type": "markdown",
   "metadata": {},
   "source": [
    "## VIS"
   ]
  },
  {
   "cell_type": "code",
   "execution_count": 13,
   "metadata": {},
   "outputs": [
    {
     "name": "stdout",
     "output_type": "stream",
     "text": [
      "Done!\n",
      "Done!\n"
     ]
    }
   ],
   "source": [
    "from tools.vizu import brasil_vis\n",
    "from tools import io\n",
    "\n",
    "themes = yaml.load(open('../themes/custom_colorscales.yaml', 'r'), Loader=yaml.FullLoader)\n",
    "\n",
    "df_states = df_states.sort_values(by=['date'],ascending=False)\n",
    "\n",
    "escala  = 'lin'\n",
    "save    = True\n",
    "#### CHOSE CITIES TO START SELECTED IN GRAPH\n",
    "in_cities = ['BRASIL','BRASIL SEM SP','SP', 'RJ']\n",
    "\n",
    "# mask = ((dd[var_col]>0))\n",
    "# dd = dd[mask]\n",
    "\n",
    "## confirmed or deaths\n",
    "for var in ['confirmed','deaths']:\n",
    "    fig = brasil_vis(df_states,\n",
    "                     var,\n",
    "                     in_cities,\n",
    "                     today='31/03/2020',\n",
    "                     save=True,\n",
    "                     themes=themes['novo'])\n",
    "    \n",
    "    \n",
    "    name= \"brasil_por_estado_{}.html\".format(var)\n",
    "    path= f\"../images/brasil/{name}\"\n",
    "    \n",
    "#     plot(fig, filename=path, auto_open=False)\n",
    "# #     plot(fig, filename=\"../../sample_pages/images/covid19/brasil/brasil_por_estado_{}.html\".format(var_col), auto_open=False)\n",
    "    \n",
    "    io.to_storage(bucket='sv-covid19',\n",
    "                  bucket_folder='brasil',\n",
    "                  file_name=name,\n",
    "                  path_to_file=path)\n",
    "\n"
   ]
  },
  {
   "cell_type": "code",
   "execution_count": 14,
   "metadata": {},
   "outputs": [],
   "source": [
    "# fig"
   ]
  },
  {
   "cell_type": "code",
   "execution_count": null,
   "metadata": {},
   "outputs": [],
   "source": []
  },
  {
   "cell_type": "markdown",
   "metadata": {},
   "source": [
    "### Figures to UP"
   ]
  },
  {
   "cell_type": "code",
   "execution_count": 15,
   "metadata": {},
   "outputs": [
    {
     "name": "stdout",
     "output_type": "stream",
     "text": [
      "Done!\n",
      "Done!\n",
      "Done!\n",
      "Done!\n"
     ]
    }
   ],
   "source": [
    "f1_name = 'total_lin.html'\n",
    "f2_name = 'mortes_lin.html'\n",
    "f3_name = 'brasil_lin_total.html'\n",
    "f4_name = 'brasil_lin_mortes.html'\n",
    "# f5_name = \"brasil_por_estado_confirmed.html\"\n",
    "# f6_name = \"brasil_por_estado_deaths.html\"\n",
    "\n",
    "f1_path = f\"../images/multipleCountry/{f1_name}\"\n",
    "f2_path = f\"../images/multipleCountry/{f2_name}\"\n",
    "f3_path = f\"../images/singleCountry/{f3_name}\"\n",
    "f4_path = f\"../images/singleCountry/{f4_name}\"\n",
    "# f5_path = f\"../images/brasil/{f5_name}\"\n",
    "# f6_path = f\"../images/brasil/{f6_name}\"\n",
    "\n",
    "names_paths = {f1_name:f1_path,\n",
    "         f2_name:f2_path,\n",
    "         f3_name:f3_path,\n",
    "         f4_name:f4_path\n",
    "              }\n",
    "#          f5_name:f5_path,\n",
    "#          f6_name:f6_path}\n",
    "\n",
    "for name in names_paths.keys():\n",
    "    \n",
    "    io.to_storage(bucket='sv-covid19',\n",
    "              bucket_folder='brasil',\n",
    "              file_name=name,\n",
    "              path_to_file=names_paths[name])"
   ]
  },
  {
   "cell_type": "code",
   "execution_count": null,
   "metadata": {},
   "outputs": [],
   "source": []
  },
  {
   "cell_type": "markdown",
   "metadata": {},
   "source": [
    "## MAPS"
   ]
  },
  {
   "cell_type": "code",
   "execution_count": 16,
   "metadata": {},
   "outputs": [],
   "source": [
    "maps = gpd.read_file('../../mapas_brasil/municipios-ibge/brasil-municipios.shp')\n",
    "ufs = gpd.read_file('../../mapas_brasil/estados-ibge/BRUFE250GC_SIR.shp')"
   ]
  },
  {
   "cell_type": "code",
   "execution_count": 17,
   "metadata": {},
   "outputs": [],
   "source": [
    "# df = pd.read_csv('https://raw.githubusercontent.com/wcota/covid19br/master/cases-brazil-cities.csv', dtype={'ibgeID':str})\n",
    "df = brio.copy()\n",
    "\n",
    "municipios = pd.read_csv('../data/br_municipios_ibge.csv', dtype={'geocodigo':str})\n",
    "\n",
    "cols = ['geocodigo','state','city','nome_uf','nome_mesorregiao','nome_municipio','confirmed','deaths','date']\n",
    "dd = pd.merge(df,municipios, left_on='city_ibge_code', right_on='geocodigo', how = 'left')[cols]\n",
    "\n",
    "final = pd.merge(dd,maps, left_on='geocodigo', right_on='CD_GEOCMU', how='left').drop(['CD_GEOCMU','NM_MUNICIP'],1)"
   ]
  },
  {
   "cell_type": "code",
   "execution_count": 18,
   "metadata": {},
   "outputs": [],
   "source": [
    "final =  final[final['geometry'].notnull()]\n",
    "final = gpd.GeoDataFrame(final)\n",
    "final.crs = {'init' :'epsg:4326'}\n",
    "\n",
    "rename_cols = {'nome_municipio':'Município','nome_uf':'Estado','confirmed':'Casos','deaths':'Óbitos', 'date':'Data do Boletim'}\n",
    "final = final.rename(columns=rename_cols)"
   ]
  },
  {
   "cell_type": "code",
   "execution_count": 19,
   "metadata": {},
   "outputs": [],
   "source": [
    "mask = df_states['date'] == max(df_states['date'])\n",
    "estados = df_states[mask]\n",
    "\n",
    "\n",
    "ff = final[['state','Estado']].drop_duplicates()\n",
    "estados = pd.merge(estados,ff,on='state', how='inner')\n",
    "\n",
    "estados['NM_ESTADO'] = estados['Estado'].str.upper()\n",
    "estados = pd.merge(estados,ufs, on = 'NM_ESTADO')\n",
    "\n",
    "estados = gpd.GeoDataFrame(estados)\n",
    "estados.crs = {'init' :'epsg:4326'}"
   ]
  },
  {
   "cell_type": "code",
   "execution_count": 20,
   "metadata": {},
   "outputs": [],
   "source": [
    "rename_cols = {'confirmed':'Casos','deaths':'Óbitos','new_cases':'Novos Casos','new_deaths':'Novas Mortes','date':'Data do Boletim'}\n",
    "estados = estados.rename(columns=rename_cols)"
   ]
  },
  {
   "cell_type": "code",
   "execution_count": 21,
   "metadata": {},
   "outputs": [],
   "source": [
    "from scripts import vis_maps\n",
    "mymap =  vis_maps.get_map(final,'Casos', estados)\n",
    "\n",
    "mymap.save('../maps/cidades_estados.html')\n",
    "# mymap.save('../../sample_pages/images/covid19/maps/cidades_estados.html')"
   ]
  },
  {
   "cell_type": "code",
   "execution_count": null,
   "metadata": {},
   "outputs": [],
   "source": []
  },
  {
   "cell_type": "code",
   "execution_count": 22,
   "metadata": {},
   "outputs": [
    {
     "name": "stdout",
     "output_type": "stream",
     "text": [
      "Done!\n"
     ]
    }
   ],
   "source": [
    "from scripts import io\n",
    "\n",
    "io.to_storage(bucket='sv-covid19',\n",
    "              bucket_folder='maps',\n",
    "              file_name='cidades_estados.html',\n",
    "              path_to_file='../maps/cidades_estados.html')"
   ]
  },
  {
   "cell_type": "code",
   "execution_count": null,
   "metadata": {},
   "outputs": [],
   "source": []
  },
  {
   "cell_type": "code",
   "execution_count": null,
   "metadata": {},
   "outputs": [],
   "source": []
  },
  {
   "cell_type": "markdown",
   "metadata": {},
   "source": [
    "## Vale"
   ]
  },
  {
   "cell_type": "code",
   "execution_count": 23,
   "metadata": {},
   "outputs": [],
   "source": [
    "# estado_sp = estados[estados['state']=='SP']\n",
    "estado_sp = estados.copy()\n",
    "col_rename ={\n",
    "    'Casos':'Casos Confirmados',\n",
    "    'Óbitos':'Óbitos Confirmados',\n",
    "    'Data':'Data do Boletim',\n",
    "}\n",
    "\n",
    "estado_sp = estado_sp.rename(columns=col_rename)\n",
    "\n",
    "sp = gpd.read_file('../../brasil_geodata/maps/sp_municipios.json')"
   ]
  },
  {
   "cell_type": "code",
   "execution_count": 24,
   "metadata": {},
   "outputs": [],
   "source": [
    "from tools.io import read_sheets\n",
    "df = read_sheets('covid19_vale_do_paraiba')\n",
    "\n",
    "df['nome_municipio'] = df['municipio']\n",
    "\n",
    "cols = ['suspeitas','suspeitas_internados','confirmados','descartados','mortes','recuperados']\n",
    "for col in cols:\n",
    "    df[col] = pd.to_numeric(df[col], errors='coerce')\n",
    "    \n",
    "df = df.fillna('-').replace('','-')"
   ]
  },
  {
   "cell_type": "code",
   "execution_count": 25,
   "metadata": {},
   "outputs": [],
   "source": [
    "vale = pd.merge(df,sp[['nome_municipio','geometry']],on='nome_municipio', how='left')\n",
    "vale = vale[vale['geometry'].notnull()]\n",
    "vale = gpd.GeoDataFrame(vale)\n",
    "vale.crs = {'init' :'epsg:4326'}\n",
    "\n",
    "col_rename ={\n",
    "    'municipio':'Município',\n",
    "    'confirmados':'Casos Confirmados',\n",
    "    'mortes':'Óbitos Confirmados',\n",
    "    'ultimo_boletim':'Data do Boletim',\n",
    "    'fonte':'Fonte'   \n",
    "}\n",
    "\n",
    "vale = vale.rename(columns=col_rename)"
   ]
  },
  {
   "cell_type": "code",
   "execution_count": 26,
   "metadata": {},
   "outputs": [],
   "source": [
    "from scripts import vis_maps\n",
    "\n",
    "cols = ['Município','Casos Confirmados', 'Óbitos Confirmados','Data do Boletim']\n",
    "mymap =  vis_maps.get_map_vale(vale,'Casos Confirmados', cols, estado_sp)\n",
    "mymap.save('../maps/mapa_vale.html')\n"
   ]
  },
  {
   "cell_type": "code",
   "execution_count": 27,
   "metadata": {},
   "outputs": [
    {
     "name": "stdout",
     "output_type": "stream",
     "text": [
      "Done!\n"
     ]
    }
   ],
   "source": [
    "from scripts import io\n",
    "\n",
    "io.to_storage(bucket='sv-covid19',\n",
    "              bucket_folder='maps',\n",
    "              file_name='mapa_vale.html',\n",
    "              path_to_file='../maps/mapa_vale.html')"
   ]
  },
  {
   "cell_type": "code",
   "execution_count": null,
   "metadata": {},
   "outputs": [],
   "source": []
  },
  {
   "cell_type": "code",
   "execution_count": null,
   "metadata": {},
   "outputs": [],
   "source": []
  },
  {
   "cell_type": "code",
   "execution_count": null,
   "metadata": {},
   "outputs": [],
   "source": []
  },
  {
   "cell_type": "code",
   "execution_count": null,
   "metadata": {},
   "outputs": [],
   "source": []
  },
  {
   "cell_type": "code",
   "execution_count": null,
   "metadata": {},
   "outputs": [],
   "source": []
  },
  {
   "cell_type": "code",
   "execution_count": 77,
   "metadata": {},
   "outputs": [],
   "source": [
    "\n",
    "\n",
    "# title  = 'Óbitos por Faixa Etária'\n",
    "# x_name = 'Óbitos'\n",
    "# y_name = 'Faixa Etária'\n",
    "\n",
    "# trace = go.Bar(\n",
    "#     orientation='h',\n",
    "#     x = df['obitos'],\n",
    "#     y = df['faixa']\n",
    "# )\n",
    "\n",
    "# data = [trace]\n",
    "\n",
    "# layout = go.Layout(\n",
    "#     barmode='stack',\n",
    "    \n",
    "#     yaxis_title=y_name,\n",
    "#     yaxis = dict(\n",
    "#         tickfont=dict(\n",
    "#             size=22,\n",
    "#             color='black',\n",
    "#         ),\n",
    "#     ),\n",
    "#     xaxis_title=x_name,\n",
    "#     xaxis = dict(\n",
    "#         tickfont=dict(\n",
    "#             size=22,\n",
    "#             color='black',\n",
    "#         ),\n",
    "# #         font = dict(size=20)\n",
    "\n",
    "#     ),\n",
    "    \n",
    "#     font=dict(\n",
    "#             size=25,\n",
    "#         ),\n",
    "\n",
    "#     width  = 800,\n",
    "#     height = 800,\n",
    "# )\n",
    "\n",
    "# fig = go.Figure(data=data, layout=layout)\n",
    "# fig"
   ]
  },
  {
   "cell_type": "code",
   "execution_count": null,
   "metadata": {},
   "outputs": [],
   "source": []
  },
  {
   "cell_type": "code",
   "execution_count": null,
   "metadata": {},
   "outputs": [],
   "source": []
  },
  {
   "cell_type": "code",
   "execution_count": null,
   "metadata": {},
   "outputs": [],
   "source": []
  },
  {
   "cell_type": "code",
   "execution_count": null,
   "metadata": {},
   "outputs": [],
   "source": []
  },
  {
   "cell_type": "code",
   "execution_count": null,
   "metadata": {},
   "outputs": [],
   "source": []
  },
  {
   "cell_type": "code",
   "execution_count": null,
   "metadata": {},
   "outputs": [],
   "source": []
  },
  {
   "cell_type": "code",
   "execution_count": null,
   "metadata": {},
   "outputs": [],
   "source": []
  },
  {
   "cell_type": "code",
   "execution_count": null,
   "metadata": {},
   "outputs": [],
   "source": []
  },
  {
   "cell_type": "code",
   "execution_count": null,
   "metadata": {},
   "outputs": [],
   "source": []
  },
  {
   "cell_type": "code",
   "execution_count": null,
   "metadata": {},
   "outputs": [],
   "source": []
  }
 ],
 "metadata": {
  "kernelspec": {
   "display_name": "Python 3",
   "language": "python",
   "name": "python3"
  },
  "language_info": {
   "codemirror_mode": {
    "name": "ipython",
    "version": 3
   },
   "file_extension": ".py",
   "mimetype": "text/x-python",
   "name": "python",
   "nbconvert_exporter": "python",
   "pygments_lexer": "ipython3",
   "version": "3.7.4"
  }
 },
 "nbformat": 4,
 "nbformat_minor": 4
}
